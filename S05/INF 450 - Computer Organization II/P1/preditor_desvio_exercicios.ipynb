{
  "nbformat": 4,
  "nbformat_minor": 0,
  "metadata": {
    "colab": {
      "provenance": []
    },
    "kernelspec": {
      "name": "python3",
      "display_name": "Python 3"
    },
    "language_info": {
      "name": "python"
    },
    "widgets": {
      "application/vnd.jupyter.widget-state+json": {
        "73617176c29b42cda905f637ce98af6c": {
          "model_module": "@jupyter-widgets/controls",
          "model_name": "VBoxModel",
          "model_module_version": "1.5.0",
          "state": {
            "_dom_classes": [
              "widget-interact"
            ],
            "_model_module": "@jupyter-widgets/controls",
            "_model_module_version": "1.5.0",
            "_model_name": "VBoxModel",
            "_view_count": null,
            "_view_module": "@jupyter-widgets/controls",
            "_view_module_version": "1.5.0",
            "_view_name": "VBoxView",
            "box_style": "",
            "children": [
              "IPY_MODEL_a83c60c1ad9c4f6094350e84f8d8684e",
              "IPY_MODEL_f24b14db86e34de0b98a648e61b0ed02"
            ],
            "layout": "IPY_MODEL_33d170e0f56b4b82af446d557baa95eb"
          }
        },
        "a83c60c1ad9c4f6094350e84f8d8684e": {
          "model_module": "@jupyter-widgets/controls",
          "model_name": "DropdownModel",
          "model_module_version": "1.5.0",
          "state": {
            "_dom_classes": [],
            "_model_module": "@jupyter-widgets/controls",
            "_model_module_version": "1.5.0",
            "_model_name": "DropdownModel",
            "_options_labels": [
              "selecione",
              "branch delay, não tomado",
              "tomado",
              "não tomado",
              "desvios com atraso, tomado"
            ],
            "_view_count": null,
            "_view_module": "@jupyter-widgets/controls",
            "_view_module_version": "1.5.0",
            "_view_name": "DropdownView",
            "description": "resposta",
            "description_tooltip": null,
            "disabled": false,
            "index": 0,
            "layout": "IPY_MODEL_e0f7742847ca434b9d9ff75925241948",
            "style": "IPY_MODEL_2014aaeb0b4b4a59a457135a5a954bb0"
          }
        },
        "f24b14db86e34de0b98a648e61b0ed02": {
          "model_module": "@jupyter-widgets/output",
          "model_name": "OutputModel",
          "model_module_version": "1.0.0",
          "state": {
            "_dom_classes": [],
            "_model_module": "@jupyter-widgets/output",
            "_model_module_version": "1.0.0",
            "_model_name": "OutputModel",
            "_view_count": null,
            "_view_module": "@jupyter-widgets/output",
            "_view_module_version": "1.0.0",
            "_view_name": "OutputView",
            "layout": "IPY_MODEL_a15f9bcd90104abea1df1b7211a31152",
            "msg_id": "",
            "outputs": [
              {
                "output_type": "display_data",
                "data": {
                  "text/plain": "'Tente novamente !'",
                  "application/vnd.google.colaboratory.intrinsic+json": {
                    "type": "string"
                  }
                },
                "metadata": {}
              }
            ]
          }
        },
        "33d170e0f56b4b82af446d557baa95eb": {
          "model_module": "@jupyter-widgets/base",
          "model_name": "LayoutModel",
          "model_module_version": "1.2.0",
          "state": {
            "_model_module": "@jupyter-widgets/base",
            "_model_module_version": "1.2.0",
            "_model_name": "LayoutModel",
            "_view_count": null,
            "_view_module": "@jupyter-widgets/base",
            "_view_module_version": "1.2.0",
            "_view_name": "LayoutView",
            "align_content": null,
            "align_items": null,
            "align_self": null,
            "border": null,
            "bottom": null,
            "display": null,
            "flex": null,
            "flex_flow": null,
            "grid_area": null,
            "grid_auto_columns": null,
            "grid_auto_flow": null,
            "grid_auto_rows": null,
            "grid_column": null,
            "grid_gap": null,
            "grid_row": null,
            "grid_template_areas": null,
            "grid_template_columns": null,
            "grid_template_rows": null,
            "height": null,
            "justify_content": null,
            "justify_items": null,
            "left": null,
            "margin": null,
            "max_height": null,
            "max_width": null,
            "min_height": null,
            "min_width": null,
            "object_fit": null,
            "object_position": null,
            "order": null,
            "overflow": null,
            "overflow_x": null,
            "overflow_y": null,
            "padding": null,
            "right": null,
            "top": null,
            "visibility": null,
            "width": null
          }
        },
        "e0f7742847ca434b9d9ff75925241948": {
          "model_module": "@jupyter-widgets/base",
          "model_name": "LayoutModel",
          "model_module_version": "1.2.0",
          "state": {
            "_model_module": "@jupyter-widgets/base",
            "_model_module_version": "1.2.0",
            "_model_name": "LayoutModel",
            "_view_count": null,
            "_view_module": "@jupyter-widgets/base",
            "_view_module_version": "1.2.0",
            "_view_name": "LayoutView",
            "align_content": null,
            "align_items": null,
            "align_self": null,
            "border": null,
            "bottom": null,
            "display": null,
            "flex": null,
            "flex_flow": null,
            "grid_area": null,
            "grid_auto_columns": null,
            "grid_auto_flow": null,
            "grid_auto_rows": null,
            "grid_column": null,
            "grid_gap": null,
            "grid_row": null,
            "grid_template_areas": null,
            "grid_template_columns": null,
            "grid_template_rows": null,
            "height": null,
            "justify_content": null,
            "justify_items": null,
            "left": null,
            "margin": null,
            "max_height": null,
            "max_width": null,
            "min_height": null,
            "min_width": null,
            "object_fit": null,
            "object_position": null,
            "order": null,
            "overflow": null,
            "overflow_x": null,
            "overflow_y": null,
            "padding": null,
            "right": null,
            "top": null,
            "visibility": null,
            "width": null
          }
        },
        "2014aaeb0b4b4a59a457135a5a954bb0": {
          "model_module": "@jupyter-widgets/controls",
          "model_name": "DescriptionStyleModel",
          "model_module_version": "1.5.0",
          "state": {
            "_model_module": "@jupyter-widgets/controls",
            "_model_module_version": "1.5.0",
            "_model_name": "DescriptionStyleModel",
            "_view_count": null,
            "_view_module": "@jupyter-widgets/base",
            "_view_module_version": "1.2.0",
            "_view_name": "StyleView",
            "description_width": ""
          }
        },
        "a15f9bcd90104abea1df1b7211a31152": {
          "model_module": "@jupyter-widgets/base",
          "model_name": "LayoutModel",
          "model_module_version": "1.2.0",
          "state": {
            "_model_module": "@jupyter-widgets/base",
            "_model_module_version": "1.2.0",
            "_model_name": "LayoutModel",
            "_view_count": null,
            "_view_module": "@jupyter-widgets/base",
            "_view_module_version": "1.2.0",
            "_view_name": "LayoutView",
            "align_content": null,
            "align_items": null,
            "align_self": null,
            "border": null,
            "bottom": null,
            "display": null,
            "flex": null,
            "flex_flow": null,
            "grid_area": null,
            "grid_auto_columns": null,
            "grid_auto_flow": null,
            "grid_auto_rows": null,
            "grid_column": null,
            "grid_gap": null,
            "grid_row": null,
            "grid_template_areas": null,
            "grid_template_columns": null,
            "grid_template_rows": null,
            "height": null,
            "justify_content": null,
            "justify_items": null,
            "left": null,
            "margin": null,
            "max_height": null,
            "max_width": null,
            "min_height": null,
            "min_width": null,
            "object_fit": null,
            "object_position": null,
            "order": null,
            "overflow": null,
            "overflow_x": null,
            "overflow_y": null,
            "padding": null,
            "right": null,
            "top": null,
            "visibility": null,
            "width": null
          }
        },
        "2904368ab0224a669204db66909a7531": {
          "model_module": "@jupyter-widgets/controls",
          "model_name": "VBoxModel",
          "model_module_version": "1.5.0",
          "state": {
            "_dom_classes": [
              "widget-interact"
            ],
            "_model_module": "@jupyter-widgets/controls",
            "_model_module_version": "1.5.0",
            "_model_name": "VBoxModel",
            "_view_count": null,
            "_view_module": "@jupyter-widgets/controls",
            "_view_module_version": "1.5.0",
            "_view_name": "VBoxView",
            "box_style": "",
            "children": [
              "IPY_MODEL_9b911583606d4eb28792b092e15bc110",
              "IPY_MODEL_cce16bdedc8a4190a2803c7db79d849e"
            ],
            "layout": "IPY_MODEL_b3c3f427a5cf4b7488925ed4573f0527"
          }
        },
        "9b911583606d4eb28792b092e15bc110": {
          "model_module": "@jupyter-widgets/controls",
          "model_name": "DropdownModel",
          "model_module_version": "1.5.0",
          "state": {
            "_dom_classes": [],
            "_model_module": "@jupyter-widgets/controls",
            "_model_module_version": "1.5.0",
            "_model_name": "DropdownModel",
            "_options_labels": [
              "selecione",
              "1.04",
              "1.09",
              "1.03",
              "1.07",
              "1.09"
            ],
            "_view_count": null,
            "_view_module": "@jupyter-widgets/controls",
            "_view_module_version": "1.5.0",
            "_view_name": "DropdownView",
            "description": "resposta",
            "description_tooltip": null,
            "disabled": false,
            "index": 2,
            "layout": "IPY_MODEL_308c331af0534a6fa5e1705e62c535af",
            "style": "IPY_MODEL_54b975bb807044a1826aa8ad4b91e05f"
          }
        },
        "cce16bdedc8a4190a2803c7db79d849e": {
          "model_module": "@jupyter-widgets/output",
          "model_name": "OutputModel",
          "model_module_version": "1.0.0",
          "state": {
            "_dom_classes": [],
            "_model_module": "@jupyter-widgets/output",
            "_model_module_version": "1.0.0",
            "_model_name": "OutputModel",
            "_view_count": null,
            "_view_module": "@jupyter-widgets/output",
            "_view_module_version": "1.0.0",
            "_view_name": "OutputView",
            "layout": "IPY_MODEL_a025ced56c2c4d458659370cc9e68bce",
            "msg_id": "",
            "outputs": [
              {
                "output_type": "display_data",
                "data": {
                  "text/plain": "'Tente novamente !'",
                  "application/vnd.google.colaboratory.intrinsic+json": {
                    "type": "string"
                  }
                },
                "metadata": {}
              }
            ]
          }
        },
        "b3c3f427a5cf4b7488925ed4573f0527": {
          "model_module": "@jupyter-widgets/base",
          "model_name": "LayoutModel",
          "model_module_version": "1.2.0",
          "state": {
            "_model_module": "@jupyter-widgets/base",
            "_model_module_version": "1.2.0",
            "_model_name": "LayoutModel",
            "_view_count": null,
            "_view_module": "@jupyter-widgets/base",
            "_view_module_version": "1.2.0",
            "_view_name": "LayoutView",
            "align_content": null,
            "align_items": null,
            "align_self": null,
            "border": null,
            "bottom": null,
            "display": null,
            "flex": null,
            "flex_flow": null,
            "grid_area": null,
            "grid_auto_columns": null,
            "grid_auto_flow": null,
            "grid_auto_rows": null,
            "grid_column": null,
            "grid_gap": null,
            "grid_row": null,
            "grid_template_areas": null,
            "grid_template_columns": null,
            "grid_template_rows": null,
            "height": null,
            "justify_content": null,
            "justify_items": null,
            "left": null,
            "margin": null,
            "max_height": null,
            "max_width": null,
            "min_height": null,
            "min_width": null,
            "object_fit": null,
            "object_position": null,
            "order": null,
            "overflow": null,
            "overflow_x": null,
            "overflow_y": null,
            "padding": null,
            "right": null,
            "top": null,
            "visibility": null,
            "width": null
          }
        },
        "308c331af0534a6fa5e1705e62c535af": {
          "model_module": "@jupyter-widgets/base",
          "model_name": "LayoutModel",
          "model_module_version": "1.2.0",
          "state": {
            "_model_module": "@jupyter-widgets/base",
            "_model_module_version": "1.2.0",
            "_model_name": "LayoutModel",
            "_view_count": null,
            "_view_module": "@jupyter-widgets/base",
            "_view_module_version": "1.2.0",
            "_view_name": "LayoutView",
            "align_content": null,
            "align_items": null,
            "align_self": null,
            "border": null,
            "bottom": null,
            "display": null,
            "flex": null,
            "flex_flow": null,
            "grid_area": null,
            "grid_auto_columns": null,
            "grid_auto_flow": null,
            "grid_auto_rows": null,
            "grid_column": null,
            "grid_gap": null,
            "grid_row": null,
            "grid_template_areas": null,
            "grid_template_columns": null,
            "grid_template_rows": null,
            "height": null,
            "justify_content": null,
            "justify_items": null,
            "left": null,
            "margin": null,
            "max_height": null,
            "max_width": null,
            "min_height": null,
            "min_width": null,
            "object_fit": null,
            "object_position": null,
            "order": null,
            "overflow": null,
            "overflow_x": null,
            "overflow_y": null,
            "padding": null,
            "right": null,
            "top": null,
            "visibility": null,
            "width": null
          }
        },
        "54b975bb807044a1826aa8ad4b91e05f": {
          "model_module": "@jupyter-widgets/controls",
          "model_name": "DescriptionStyleModel",
          "model_module_version": "1.5.0",
          "state": {
            "_model_module": "@jupyter-widgets/controls",
            "_model_module_version": "1.5.0",
            "_model_name": "DescriptionStyleModel",
            "_view_count": null,
            "_view_module": "@jupyter-widgets/base",
            "_view_module_version": "1.2.0",
            "_view_name": "StyleView",
            "description_width": ""
          }
        },
        "a025ced56c2c4d458659370cc9e68bce": {
          "model_module": "@jupyter-widgets/base",
          "model_name": "LayoutModel",
          "model_module_version": "1.2.0",
          "state": {
            "_model_module": "@jupyter-widgets/base",
            "_model_module_version": "1.2.0",
            "_model_name": "LayoutModel",
            "_view_count": null,
            "_view_module": "@jupyter-widgets/base",
            "_view_module_version": "1.2.0",
            "_view_name": "LayoutView",
            "align_content": null,
            "align_items": null,
            "align_self": null,
            "border": null,
            "bottom": null,
            "display": null,
            "flex": null,
            "flex_flow": null,
            "grid_area": null,
            "grid_auto_columns": null,
            "grid_auto_flow": null,
            "grid_auto_rows": null,
            "grid_column": null,
            "grid_gap": null,
            "grid_row": null,
            "grid_template_areas": null,
            "grid_template_columns": null,
            "grid_template_rows": null,
            "height": null,
            "justify_content": null,
            "justify_items": null,
            "left": null,
            "margin": null,
            "max_height": null,
            "max_width": null,
            "min_height": null,
            "min_width": null,
            "object_fit": null,
            "object_position": null,
            "order": null,
            "overflow": null,
            "overflow_x": null,
            "overflow_y": null,
            "padding": null,
            "right": null,
            "top": null,
            "visibility": null,
            "width": null
          }
        },
        "f3f19bca18f5450ca3c4b57f7d8655f5": {
          "model_module": "@jupyter-widgets/controls",
          "model_name": "VBoxModel",
          "model_module_version": "1.5.0",
          "state": {
            "_dom_classes": [
              "widget-interact"
            ],
            "_model_module": "@jupyter-widgets/controls",
            "_model_module_version": "1.5.0",
            "_model_name": "VBoxModel",
            "_view_count": null,
            "_view_module": "@jupyter-widgets/controls",
            "_view_module_version": "1.5.0",
            "_view_name": "VBoxView",
            "box_style": "",
            "children": [
              "IPY_MODEL_f8b13f459ab6450c852587e99732f04f",
              "IPY_MODEL_095019f3c98649319ea5ea6c8b6cdb72"
            ],
            "layout": "IPY_MODEL_607d246937774242aa848a0915068f36"
          }
        },
        "f8b13f459ab6450c852587e99732f04f": {
          "model_module": "@jupyter-widgets/controls",
          "model_name": "DropdownModel",
          "model_module_version": "1.5.0",
          "state": {
            "_dom_classes": [],
            "_model_module": "@jupyter-widgets/controls",
            "_model_module_version": "1.5.0",
            "_model_name": "DropdownModel",
            "_options_labels": [
              "selecione",
              "1.64",
              "1.21",
              "1.38",
              "1.15",
              "1.1"
            ],
            "_view_count": null,
            "_view_module": "@jupyter-widgets/controls",
            "_view_module_version": "1.5.0",
            "_view_name": "DropdownView",
            "description": "resposta",
            "description_tooltip": null,
            "disabled": false,
            "index": 1,
            "layout": "IPY_MODEL_aa944a6f09c8438aac9598815d75017c",
            "style": "IPY_MODEL_a7deed16587b45cd9116e76a5196e288"
          }
        },
        "095019f3c98649319ea5ea6c8b6cdb72": {
          "model_module": "@jupyter-widgets/output",
          "model_name": "OutputModel",
          "model_module_version": "1.0.0",
          "state": {
            "_dom_classes": [],
            "_model_module": "@jupyter-widgets/output",
            "_model_module_version": "1.0.0",
            "_model_name": "OutputModel",
            "_view_count": null,
            "_view_module": "@jupyter-widgets/output",
            "_view_module_version": "1.0.0",
            "_view_name": "OutputView",
            "layout": "IPY_MODEL_48002d512e314f8ebe95627501be7f1a",
            "msg_id": "",
            "outputs": [
              {
                "output_type": "display_data",
                "data": {
                  "text/plain": "'Correto !'",
                  "application/vnd.google.colaboratory.intrinsic+json": {
                    "type": "string"
                  }
                },
                "metadata": {}
              }
            ]
          }
        },
        "607d246937774242aa848a0915068f36": {
          "model_module": "@jupyter-widgets/base",
          "model_name": "LayoutModel",
          "model_module_version": "1.2.0",
          "state": {
            "_model_module": "@jupyter-widgets/base",
            "_model_module_version": "1.2.0",
            "_model_name": "LayoutModel",
            "_view_count": null,
            "_view_module": "@jupyter-widgets/base",
            "_view_module_version": "1.2.0",
            "_view_name": "LayoutView",
            "align_content": null,
            "align_items": null,
            "align_self": null,
            "border": null,
            "bottom": null,
            "display": null,
            "flex": null,
            "flex_flow": null,
            "grid_area": null,
            "grid_auto_columns": null,
            "grid_auto_flow": null,
            "grid_auto_rows": null,
            "grid_column": null,
            "grid_gap": null,
            "grid_row": null,
            "grid_template_areas": null,
            "grid_template_columns": null,
            "grid_template_rows": null,
            "height": null,
            "justify_content": null,
            "justify_items": null,
            "left": null,
            "margin": null,
            "max_height": null,
            "max_width": null,
            "min_height": null,
            "min_width": null,
            "object_fit": null,
            "object_position": null,
            "order": null,
            "overflow": null,
            "overflow_x": null,
            "overflow_y": null,
            "padding": null,
            "right": null,
            "top": null,
            "visibility": null,
            "width": null
          }
        },
        "aa944a6f09c8438aac9598815d75017c": {
          "model_module": "@jupyter-widgets/base",
          "model_name": "LayoutModel",
          "model_module_version": "1.2.0",
          "state": {
            "_model_module": "@jupyter-widgets/base",
            "_model_module_version": "1.2.0",
            "_model_name": "LayoutModel",
            "_view_count": null,
            "_view_module": "@jupyter-widgets/base",
            "_view_module_version": "1.2.0",
            "_view_name": "LayoutView",
            "align_content": null,
            "align_items": null,
            "align_self": null,
            "border": null,
            "bottom": null,
            "display": null,
            "flex": null,
            "flex_flow": null,
            "grid_area": null,
            "grid_auto_columns": null,
            "grid_auto_flow": null,
            "grid_auto_rows": null,
            "grid_column": null,
            "grid_gap": null,
            "grid_row": null,
            "grid_template_areas": null,
            "grid_template_columns": null,
            "grid_template_rows": null,
            "height": null,
            "justify_content": null,
            "justify_items": null,
            "left": null,
            "margin": null,
            "max_height": null,
            "max_width": null,
            "min_height": null,
            "min_width": null,
            "object_fit": null,
            "object_position": null,
            "order": null,
            "overflow": null,
            "overflow_x": null,
            "overflow_y": null,
            "padding": null,
            "right": null,
            "top": null,
            "visibility": null,
            "width": null
          }
        },
        "a7deed16587b45cd9116e76a5196e288": {
          "model_module": "@jupyter-widgets/controls",
          "model_name": "DescriptionStyleModel",
          "model_module_version": "1.5.0",
          "state": {
            "_model_module": "@jupyter-widgets/controls",
            "_model_module_version": "1.5.0",
            "_model_name": "DescriptionStyleModel",
            "_view_count": null,
            "_view_module": "@jupyter-widgets/base",
            "_view_module_version": "1.2.0",
            "_view_name": "StyleView",
            "description_width": ""
          }
        },
        "48002d512e314f8ebe95627501be7f1a": {
          "model_module": "@jupyter-widgets/base",
          "model_name": "LayoutModel",
          "model_module_version": "1.2.0",
          "state": {
            "_model_module": "@jupyter-widgets/base",
            "_model_module_version": "1.2.0",
            "_model_name": "LayoutModel",
            "_view_count": null,
            "_view_module": "@jupyter-widgets/base",
            "_view_module_version": "1.2.0",
            "_view_name": "LayoutView",
            "align_content": null,
            "align_items": null,
            "align_self": null,
            "border": null,
            "bottom": null,
            "display": null,
            "flex": null,
            "flex_flow": null,
            "grid_area": null,
            "grid_auto_columns": null,
            "grid_auto_flow": null,
            "grid_auto_rows": null,
            "grid_column": null,
            "grid_gap": null,
            "grid_row": null,
            "grid_template_areas": null,
            "grid_template_columns": null,
            "grid_template_rows": null,
            "height": null,
            "justify_content": null,
            "justify_items": null,
            "left": null,
            "margin": null,
            "max_height": null,
            "max_width": null,
            "min_height": null,
            "min_width": null,
            "object_fit": null,
            "object_position": null,
            "order": null,
            "overflow": null,
            "overflow_x": null,
            "overflow_y": null,
            "padding": null,
            "right": null,
            "top": null,
            "visibility": null,
            "width": null
          }
        },
        "2630e0868e674690ba55e74b8d46fc51": {
          "model_module": "@jupyter-widgets/controls",
          "model_name": "VBoxModel",
          "model_module_version": "1.5.0",
          "state": {
            "_dom_classes": [
              "widget-interact"
            ],
            "_model_module": "@jupyter-widgets/controls",
            "_model_module_version": "1.5.0",
            "_model_name": "VBoxModel",
            "_view_count": null,
            "_view_module": "@jupyter-widgets/controls",
            "_view_module_version": "1.5.0",
            "_view_name": "VBoxView",
            "box_style": "",
            "children": [
              "IPY_MODEL_f66a3fa854e640c4a1301c851067fe70",
              "IPY_MODEL_e2c5593466284bf0839d12aea41ac9ef"
            ],
            "layout": "IPY_MODEL_b4b94f2cd7254848a0fcc5d4207f3e05"
          }
        },
        "f66a3fa854e640c4a1301c851067fe70": {
          "model_module": "@jupyter-widgets/controls",
          "model_name": "DropdownModel",
          "model_module_version": "1.5.0",
          "state": {
            "_dom_classes": [],
            "_model_module": "@jupyter-widgets/controls",
            "_model_module_version": "1.5.0",
            "_model_name": "DropdownModel",
            "_options_labels": [
              "selecione",
              "1.09",
              "1.13",
              "1.11",
              "1.17",
              "1.12"
            ],
            "_view_count": null,
            "_view_module": "@jupyter-widgets/controls",
            "_view_module_version": "1.5.0",
            "_view_name": "DropdownView",
            "description": "resposta",
            "description_tooltip": null,
            "disabled": false,
            "index": 2,
            "layout": "IPY_MODEL_58bb68cadb3945689d4bb14e38a6dc9d",
            "style": "IPY_MODEL_6c0fc09bc0e0410c93cf1e1d09ada943"
          }
        },
        "e2c5593466284bf0839d12aea41ac9ef": {
          "model_module": "@jupyter-widgets/output",
          "model_name": "OutputModel",
          "model_module_version": "1.0.0",
          "state": {
            "_dom_classes": [],
            "_model_module": "@jupyter-widgets/output",
            "_model_module_version": "1.0.0",
            "_model_name": "OutputModel",
            "_view_count": null,
            "_view_module": "@jupyter-widgets/output",
            "_view_module_version": "1.0.0",
            "_view_name": "OutputView",
            "layout": "IPY_MODEL_aa50d110702f422b88b28e159a981317",
            "msg_id": "",
            "outputs": [
              {
                "output_type": "display_data",
                "data": {
                  "text/plain": "'Correto !'",
                  "application/vnd.google.colaboratory.intrinsic+json": {
                    "type": "string"
                  }
                },
                "metadata": {}
              }
            ]
          }
        },
        "b4b94f2cd7254848a0fcc5d4207f3e05": {
          "model_module": "@jupyter-widgets/base",
          "model_name": "LayoutModel",
          "model_module_version": "1.2.0",
          "state": {
            "_model_module": "@jupyter-widgets/base",
            "_model_module_version": "1.2.0",
            "_model_name": "LayoutModel",
            "_view_count": null,
            "_view_module": "@jupyter-widgets/base",
            "_view_module_version": "1.2.0",
            "_view_name": "LayoutView",
            "align_content": null,
            "align_items": null,
            "align_self": null,
            "border": null,
            "bottom": null,
            "display": null,
            "flex": null,
            "flex_flow": null,
            "grid_area": null,
            "grid_auto_columns": null,
            "grid_auto_flow": null,
            "grid_auto_rows": null,
            "grid_column": null,
            "grid_gap": null,
            "grid_row": null,
            "grid_template_areas": null,
            "grid_template_columns": null,
            "grid_template_rows": null,
            "height": null,
            "justify_content": null,
            "justify_items": null,
            "left": null,
            "margin": null,
            "max_height": null,
            "max_width": null,
            "min_height": null,
            "min_width": null,
            "object_fit": null,
            "object_position": null,
            "order": null,
            "overflow": null,
            "overflow_x": null,
            "overflow_y": null,
            "padding": null,
            "right": null,
            "top": null,
            "visibility": null,
            "width": null
          }
        },
        "58bb68cadb3945689d4bb14e38a6dc9d": {
          "model_module": "@jupyter-widgets/base",
          "model_name": "LayoutModel",
          "model_module_version": "1.2.0",
          "state": {
            "_model_module": "@jupyter-widgets/base",
            "_model_module_version": "1.2.0",
            "_model_name": "LayoutModel",
            "_view_count": null,
            "_view_module": "@jupyter-widgets/base",
            "_view_module_version": "1.2.0",
            "_view_name": "LayoutView",
            "align_content": null,
            "align_items": null,
            "align_self": null,
            "border": null,
            "bottom": null,
            "display": null,
            "flex": null,
            "flex_flow": null,
            "grid_area": null,
            "grid_auto_columns": null,
            "grid_auto_flow": null,
            "grid_auto_rows": null,
            "grid_column": null,
            "grid_gap": null,
            "grid_row": null,
            "grid_template_areas": null,
            "grid_template_columns": null,
            "grid_template_rows": null,
            "height": null,
            "justify_content": null,
            "justify_items": null,
            "left": null,
            "margin": null,
            "max_height": null,
            "max_width": null,
            "min_height": null,
            "min_width": null,
            "object_fit": null,
            "object_position": null,
            "order": null,
            "overflow": null,
            "overflow_x": null,
            "overflow_y": null,
            "padding": null,
            "right": null,
            "top": null,
            "visibility": null,
            "width": null
          }
        },
        "6c0fc09bc0e0410c93cf1e1d09ada943": {
          "model_module": "@jupyter-widgets/controls",
          "model_name": "DescriptionStyleModel",
          "model_module_version": "1.5.0",
          "state": {
            "_model_module": "@jupyter-widgets/controls",
            "_model_module_version": "1.5.0",
            "_model_name": "DescriptionStyleModel",
            "_view_count": null,
            "_view_module": "@jupyter-widgets/base",
            "_view_module_version": "1.2.0",
            "_view_name": "StyleView",
            "description_width": ""
          }
        },
        "aa50d110702f422b88b28e159a981317": {
          "model_module": "@jupyter-widgets/base",
          "model_name": "LayoutModel",
          "model_module_version": "1.2.0",
          "state": {
            "_model_module": "@jupyter-widgets/base",
            "_model_module_version": "1.2.0",
            "_model_name": "LayoutModel",
            "_view_count": null,
            "_view_module": "@jupyter-widgets/base",
            "_view_module_version": "1.2.0",
            "_view_name": "LayoutView",
            "align_content": null,
            "align_items": null,
            "align_self": null,
            "border": null,
            "bottom": null,
            "display": null,
            "flex": null,
            "flex_flow": null,
            "grid_area": null,
            "grid_auto_columns": null,
            "grid_auto_flow": null,
            "grid_auto_rows": null,
            "grid_column": null,
            "grid_gap": null,
            "grid_row": null,
            "grid_template_areas": null,
            "grid_template_columns": null,
            "grid_template_rows": null,
            "height": null,
            "justify_content": null,
            "justify_items": null,
            "left": null,
            "margin": null,
            "max_height": null,
            "max_width": null,
            "min_height": null,
            "min_width": null,
            "object_fit": null,
            "object_position": null,
            "order": null,
            "overflow": null,
            "overflow_x": null,
            "overflow_y": null,
            "padding": null,
            "right": null,
            "top": null,
            "visibility": null,
            "width": null
          }
        },
        "75c79623e6934727b62751c23e91f716": {
          "model_module": "@jupyter-widgets/controls",
          "model_name": "VBoxModel",
          "model_module_version": "1.5.0",
          "state": {
            "_dom_classes": [
              "widget-interact"
            ],
            "_model_module": "@jupyter-widgets/controls",
            "_model_module_version": "1.5.0",
            "_model_name": "VBoxModel",
            "_view_count": null,
            "_view_module": "@jupyter-widgets/controls",
            "_view_module_version": "1.5.0",
            "_view_name": "VBoxView",
            "box_style": "",
            "children": [
              "IPY_MODEL_f85cd4ad44a44f08a06153179cc6894d",
              "IPY_MODEL_358cdb59871b4280a4a980a5aec5959e"
            ],
            "layout": "IPY_MODEL_117a6a071aa14b3fae271da5cf5c67dc"
          }
        },
        "f85cd4ad44a44f08a06153179cc6894d": {
          "model_module": "@jupyter-widgets/controls",
          "model_name": "DropdownModel",
          "model_module_version": "1.5.0",
          "state": {
            "_dom_classes": [],
            "_model_module": "@jupyter-widgets/controls",
            "_model_module_version": "1.5.0",
            "_model_name": "DropdownModel",
            "_options_labels": [
              "selecione",
              "0.67",
              "0.51",
              "0.39",
              "0.61",
              "0.42"
            ],
            "_view_count": null,
            "_view_module": "@jupyter-widgets/controls",
            "_view_module_version": "1.5.0",
            "_view_name": "DropdownView",
            "description": "resposta",
            "description_tooltip": null,
            "disabled": false,
            "index": 4,
            "layout": "IPY_MODEL_2c2c37070483447aba8973c37f2d8836",
            "style": "IPY_MODEL_9d1f42aa96cf408ab8c25b9119451436"
          }
        },
        "358cdb59871b4280a4a980a5aec5959e": {
          "model_module": "@jupyter-widgets/output",
          "model_name": "OutputModel",
          "model_module_version": "1.0.0",
          "state": {
            "_dom_classes": [],
            "_model_module": "@jupyter-widgets/output",
            "_model_module_version": "1.0.0",
            "_model_name": "OutputModel",
            "_view_count": null,
            "_view_module": "@jupyter-widgets/output",
            "_view_module_version": "1.0.0",
            "_view_name": "OutputView",
            "layout": "IPY_MODEL_a09482bc4ffb4a41aaf33a4611acdcf0",
            "msg_id": "",
            "outputs": [
              {
                "output_type": "display_data",
                "data": {
                  "text/plain": "'Correto !'",
                  "application/vnd.google.colaboratory.intrinsic+json": {
                    "type": "string"
                  }
                },
                "metadata": {}
              }
            ]
          }
        },
        "117a6a071aa14b3fae271da5cf5c67dc": {
          "model_module": "@jupyter-widgets/base",
          "model_name": "LayoutModel",
          "model_module_version": "1.2.0",
          "state": {
            "_model_module": "@jupyter-widgets/base",
            "_model_module_version": "1.2.0",
            "_model_name": "LayoutModel",
            "_view_count": null,
            "_view_module": "@jupyter-widgets/base",
            "_view_module_version": "1.2.0",
            "_view_name": "LayoutView",
            "align_content": null,
            "align_items": null,
            "align_self": null,
            "border": null,
            "bottom": null,
            "display": null,
            "flex": null,
            "flex_flow": null,
            "grid_area": null,
            "grid_auto_columns": null,
            "grid_auto_flow": null,
            "grid_auto_rows": null,
            "grid_column": null,
            "grid_gap": null,
            "grid_row": null,
            "grid_template_areas": null,
            "grid_template_columns": null,
            "grid_template_rows": null,
            "height": null,
            "justify_content": null,
            "justify_items": null,
            "left": null,
            "margin": null,
            "max_height": null,
            "max_width": null,
            "min_height": null,
            "min_width": null,
            "object_fit": null,
            "object_position": null,
            "order": null,
            "overflow": null,
            "overflow_x": null,
            "overflow_y": null,
            "padding": null,
            "right": null,
            "top": null,
            "visibility": null,
            "width": null
          }
        },
        "2c2c37070483447aba8973c37f2d8836": {
          "model_module": "@jupyter-widgets/base",
          "model_name": "LayoutModel",
          "model_module_version": "1.2.0",
          "state": {
            "_model_module": "@jupyter-widgets/base",
            "_model_module_version": "1.2.0",
            "_model_name": "LayoutModel",
            "_view_count": null,
            "_view_module": "@jupyter-widgets/base",
            "_view_module_version": "1.2.0",
            "_view_name": "LayoutView",
            "align_content": null,
            "align_items": null,
            "align_self": null,
            "border": null,
            "bottom": null,
            "display": null,
            "flex": null,
            "flex_flow": null,
            "grid_area": null,
            "grid_auto_columns": null,
            "grid_auto_flow": null,
            "grid_auto_rows": null,
            "grid_column": null,
            "grid_gap": null,
            "grid_row": null,
            "grid_template_areas": null,
            "grid_template_columns": null,
            "grid_template_rows": null,
            "height": null,
            "justify_content": null,
            "justify_items": null,
            "left": null,
            "margin": null,
            "max_height": null,
            "max_width": null,
            "min_height": null,
            "min_width": null,
            "object_fit": null,
            "object_position": null,
            "order": null,
            "overflow": null,
            "overflow_x": null,
            "overflow_y": null,
            "padding": null,
            "right": null,
            "top": null,
            "visibility": null,
            "width": null
          }
        },
        "9d1f42aa96cf408ab8c25b9119451436": {
          "model_module": "@jupyter-widgets/controls",
          "model_name": "DescriptionStyleModel",
          "model_module_version": "1.5.0",
          "state": {
            "_model_module": "@jupyter-widgets/controls",
            "_model_module_version": "1.5.0",
            "_model_name": "DescriptionStyleModel",
            "_view_count": null,
            "_view_module": "@jupyter-widgets/base",
            "_view_module_version": "1.2.0",
            "_view_name": "StyleView",
            "description_width": ""
          }
        },
        "a09482bc4ffb4a41aaf33a4611acdcf0": {
          "model_module": "@jupyter-widgets/base",
          "model_name": "LayoutModel",
          "model_module_version": "1.2.0",
          "state": {
            "_model_module": "@jupyter-widgets/base",
            "_model_module_version": "1.2.0",
            "_model_name": "LayoutModel",
            "_view_count": null,
            "_view_module": "@jupyter-widgets/base",
            "_view_module_version": "1.2.0",
            "_view_name": "LayoutView",
            "align_content": null,
            "align_items": null,
            "align_self": null,
            "border": null,
            "bottom": null,
            "display": null,
            "flex": null,
            "flex_flow": null,
            "grid_area": null,
            "grid_auto_columns": null,
            "grid_auto_flow": null,
            "grid_auto_rows": null,
            "grid_column": null,
            "grid_gap": null,
            "grid_row": null,
            "grid_template_areas": null,
            "grid_template_columns": null,
            "grid_template_rows": null,
            "height": null,
            "justify_content": null,
            "justify_items": null,
            "left": null,
            "margin": null,
            "max_height": null,
            "max_width": null,
            "min_height": null,
            "min_width": null,
            "object_fit": null,
            "object_position": null,
            "order": null,
            "overflow": null,
            "overflow_x": null,
            "overflow_y": null,
            "padding": null,
            "right": null,
            "top": null,
            "visibility": null,
            "width": null
          }
        },
        "5f2d486dfa474c67b5f576e2b6047e0b": {
          "model_module": "@jupyter-widgets/controls",
          "model_name": "VBoxModel",
          "model_module_version": "1.5.0",
          "state": {
            "_dom_classes": [
              "widget-interact"
            ],
            "_model_module": "@jupyter-widgets/controls",
            "_model_module_version": "1.5.0",
            "_model_name": "VBoxModel",
            "_view_count": null,
            "_view_module": "@jupyter-widgets/controls",
            "_view_module_version": "1.5.0",
            "_view_name": "VBoxView",
            "box_style": "",
            "children": [
              "IPY_MODEL_34d85456caac40e59860d60cfe365cbb",
              "IPY_MODEL_6ae7c9042538406fa245a1500ed37722"
            ],
            "layout": "IPY_MODEL_d0ac2a1ba33340d2bf9ddce408070626"
          }
        },
        "34d85456caac40e59860d60cfe365cbb": {
          "model_module": "@jupyter-widgets/controls",
          "model_name": "DropdownModel",
          "model_module_version": "1.5.0",
          "state": {
            "_dom_classes": [],
            "_model_module": "@jupyter-widgets/controls",
            "_model_module_version": "1.5.0",
            "_model_name": "DropdownModel",
            "_options_labels": [
              "selecione",
              "220",
              "1220",
              "540",
              "680",
              "560"
            ],
            "_view_count": null,
            "_view_module": "@jupyter-widgets/controls",
            "_view_module_version": "1.5.0",
            "_view_name": "DropdownView",
            "description": "resposta",
            "description_tooltip": null,
            "disabled": false,
            "index": 0,
            "layout": "IPY_MODEL_39d102ae10114404b443efeee25eecdc",
            "style": "IPY_MODEL_f30883ecc05845e9a4dfd9d36c3b5a8d"
          }
        },
        "6ae7c9042538406fa245a1500ed37722": {
          "model_module": "@jupyter-widgets/output",
          "model_name": "OutputModel",
          "model_module_version": "1.0.0",
          "state": {
            "_dom_classes": [],
            "_model_module": "@jupyter-widgets/output",
            "_model_module_version": "1.0.0",
            "_model_name": "OutputModel",
            "_view_count": null,
            "_view_module": "@jupyter-widgets/output",
            "_view_module_version": "1.0.0",
            "_view_name": "OutputView",
            "layout": "IPY_MODEL_08921ee9c89d496da9594348381a6978",
            "msg_id": "",
            "outputs": [
              {
                "output_type": "display_data",
                "data": {
                  "text/plain": "'Tente novamente !'",
                  "application/vnd.google.colaboratory.intrinsic+json": {
                    "type": "string"
                  }
                },
                "metadata": {}
              }
            ]
          }
        },
        "d0ac2a1ba33340d2bf9ddce408070626": {
          "model_module": "@jupyter-widgets/base",
          "model_name": "LayoutModel",
          "model_module_version": "1.2.0",
          "state": {
            "_model_module": "@jupyter-widgets/base",
            "_model_module_version": "1.2.0",
            "_model_name": "LayoutModel",
            "_view_count": null,
            "_view_module": "@jupyter-widgets/base",
            "_view_module_version": "1.2.0",
            "_view_name": "LayoutView",
            "align_content": null,
            "align_items": null,
            "align_self": null,
            "border": null,
            "bottom": null,
            "display": null,
            "flex": null,
            "flex_flow": null,
            "grid_area": null,
            "grid_auto_columns": null,
            "grid_auto_flow": null,
            "grid_auto_rows": null,
            "grid_column": null,
            "grid_gap": null,
            "grid_row": null,
            "grid_template_areas": null,
            "grid_template_columns": null,
            "grid_template_rows": null,
            "height": null,
            "justify_content": null,
            "justify_items": null,
            "left": null,
            "margin": null,
            "max_height": null,
            "max_width": null,
            "min_height": null,
            "min_width": null,
            "object_fit": null,
            "object_position": null,
            "order": null,
            "overflow": null,
            "overflow_x": null,
            "overflow_y": null,
            "padding": null,
            "right": null,
            "top": null,
            "visibility": null,
            "width": null
          }
        },
        "39d102ae10114404b443efeee25eecdc": {
          "model_module": "@jupyter-widgets/base",
          "model_name": "LayoutModel",
          "model_module_version": "1.2.0",
          "state": {
            "_model_module": "@jupyter-widgets/base",
            "_model_module_version": "1.2.0",
            "_model_name": "LayoutModel",
            "_view_count": null,
            "_view_module": "@jupyter-widgets/base",
            "_view_module_version": "1.2.0",
            "_view_name": "LayoutView",
            "align_content": null,
            "align_items": null,
            "align_self": null,
            "border": null,
            "bottom": null,
            "display": null,
            "flex": null,
            "flex_flow": null,
            "grid_area": null,
            "grid_auto_columns": null,
            "grid_auto_flow": null,
            "grid_auto_rows": null,
            "grid_column": null,
            "grid_gap": null,
            "grid_row": null,
            "grid_template_areas": null,
            "grid_template_columns": null,
            "grid_template_rows": null,
            "height": null,
            "justify_content": null,
            "justify_items": null,
            "left": null,
            "margin": null,
            "max_height": null,
            "max_width": null,
            "min_height": null,
            "min_width": null,
            "object_fit": null,
            "object_position": null,
            "order": null,
            "overflow": null,
            "overflow_x": null,
            "overflow_y": null,
            "padding": null,
            "right": null,
            "top": null,
            "visibility": null,
            "width": null
          }
        },
        "f30883ecc05845e9a4dfd9d36c3b5a8d": {
          "model_module": "@jupyter-widgets/controls",
          "model_name": "DescriptionStyleModel",
          "model_module_version": "1.5.0",
          "state": {
            "_model_module": "@jupyter-widgets/controls",
            "_model_module_version": "1.5.0",
            "_model_name": "DescriptionStyleModel",
            "_view_count": null,
            "_view_module": "@jupyter-widgets/base",
            "_view_module_version": "1.2.0",
            "_view_name": "StyleView",
            "description_width": ""
          }
        },
        "08921ee9c89d496da9594348381a6978": {
          "model_module": "@jupyter-widgets/base",
          "model_name": "LayoutModel",
          "model_module_version": "1.2.0",
          "state": {
            "_model_module": "@jupyter-widgets/base",
            "_model_module_version": "1.2.0",
            "_model_name": "LayoutModel",
            "_view_count": null,
            "_view_module": "@jupyter-widgets/base",
            "_view_module_version": "1.2.0",
            "_view_name": "LayoutView",
            "align_content": null,
            "align_items": null,
            "align_self": null,
            "border": null,
            "bottom": null,
            "display": null,
            "flex": null,
            "flex_flow": null,
            "grid_area": null,
            "grid_auto_columns": null,
            "grid_auto_flow": null,
            "grid_auto_rows": null,
            "grid_column": null,
            "grid_gap": null,
            "grid_row": null,
            "grid_template_areas": null,
            "grid_template_columns": null,
            "grid_template_rows": null,
            "height": null,
            "justify_content": null,
            "justify_items": null,
            "left": null,
            "margin": null,
            "max_height": null,
            "max_width": null,
            "min_height": null,
            "min_width": null,
            "object_fit": null,
            "object_position": null,
            "order": null,
            "overflow": null,
            "overflow_x": null,
            "overflow_y": null,
            "padding": null,
            "right": null,
            "top": null,
            "visibility": null,
            "width": null
          }
        },
        "43cb882cb61f4efcac67125c395ede36": {
          "model_module": "@jupyter-widgets/controls",
          "model_name": "VBoxModel",
          "model_module_version": "1.5.0",
          "state": {
            "_dom_classes": [],
            "_model_module": "@jupyter-widgets/controls",
            "_model_module_version": "1.5.0",
            "_model_name": "VBoxModel",
            "_view_count": null,
            "_view_module": "@jupyter-widgets/controls",
            "_view_module_version": "1.5.0",
            "_view_name": "VBoxView",
            "box_style": "",
            "children": [
              "IPY_MODEL_82e4acbb9ccf48618b1ec023b53c18af",
              "IPY_MODEL_1ae031418c99476b8f635323d62611f7"
            ],
            "layout": "IPY_MODEL_3e51981c5fd947e5a943a8265d059332"
          }
        },
        "82e4acbb9ccf48618b1ec023b53c18af": {
          "model_module": "@jupyter-widgets/controls",
          "model_name": "HBoxModel",
          "model_module_version": "1.5.0",
          "state": {
            "_dom_classes": [],
            "_model_module": "@jupyter-widgets/controls",
            "_model_module_version": "1.5.0",
            "_model_name": "HBoxModel",
            "_view_count": null,
            "_view_module": "@jupyter-widgets/controls",
            "_view_module_version": "1.5.0",
            "_view_name": "HBoxView",
            "box_style": "",
            "children": [
              "IPY_MODEL_c7af2f0f7e1c43ffac4becc3cebffb40",
              "IPY_MODEL_e006009056af4018b9025f5ccaf9555f"
            ],
            "layout": "IPY_MODEL_38eb79c375f94452b598cb6d688856d2"
          }
        },
        "1ae031418c99476b8f635323d62611f7": {
          "model_module": "@jupyter-widgets/output",
          "model_name": "OutputModel",
          "model_module_version": "1.0.0",
          "state": {
            "_dom_classes": [],
            "_model_module": "@jupyter-widgets/output",
            "_model_module_version": "1.0.0",
            "_model_name": "OutputModel",
            "_view_count": null,
            "_view_module": "@jupyter-widgets/output",
            "_view_module_version": "1.0.0",
            "_view_name": "OutputView",
            "layout": "IPY_MODEL_d621536ffd144c9f93410a704ea3da83",
            "msg_id": "",
            "outputs": [
              {
                "output_type": "display_data",
                "data": {
                  "text/plain": "<PIL.Image.Image image mode=RGBA size=800x456 at 0x7F1114050310>",
                  "image/png": "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\n"
                },
                "metadata": {}
              }
            ]
          }
        },
        "3e51981c5fd947e5a943a8265d059332": {
          "model_module": "@jupyter-widgets/base",
          "model_name": "LayoutModel",
          "model_module_version": "1.2.0",
          "state": {
            "_model_module": "@jupyter-widgets/base",
            "_model_module_version": "1.2.0",
            "_model_name": "LayoutModel",
            "_view_count": null,
            "_view_module": "@jupyter-widgets/base",
            "_view_module_version": "1.2.0",
            "_view_name": "LayoutView",
            "align_content": null,
            "align_items": null,
            "align_self": null,
            "border": null,
            "bottom": null,
            "display": null,
            "flex": null,
            "flex_flow": null,
            "grid_area": null,
            "grid_auto_columns": null,
            "grid_auto_flow": null,
            "grid_auto_rows": null,
            "grid_column": null,
            "grid_gap": null,
            "grid_row": null,
            "grid_template_areas": null,
            "grid_template_columns": null,
            "grid_template_rows": null,
            "height": null,
            "justify_content": null,
            "justify_items": null,
            "left": null,
            "margin": null,
            "max_height": null,
            "max_width": null,
            "min_height": null,
            "min_width": null,
            "object_fit": null,
            "object_position": null,
            "order": null,
            "overflow": null,
            "overflow_x": null,
            "overflow_y": null,
            "padding": null,
            "right": null,
            "top": null,
            "visibility": null,
            "width": null
          }
        },
        "c7af2f0f7e1c43ffac4becc3cebffb40": {
          "model_module": "@jupyter-widgets/controls",
          "model_name": "ButtonModel",
          "model_module_version": "1.5.0",
          "state": {
            "_dom_classes": [],
            "_model_module": "@jupyter-widgets/controls",
            "_model_module_version": "1.5.0",
            "_model_name": "ButtonModel",
            "_view_count": null,
            "_view_module": "@jupyter-widgets/controls",
            "_view_module_version": "1.5.0",
            "_view_name": "ButtonView",
            "button_style": "",
            "description": "<<",
            "disabled": false,
            "icon": "",
            "layout": "IPY_MODEL_79bd5ac5361244338306cf18e1d20974",
            "style": "IPY_MODEL_00dd965a8e244ecb8bc1ba178cc0d146",
            "tooltip": ""
          }
        },
        "e006009056af4018b9025f5ccaf9555f": {
          "model_module": "@jupyter-widgets/controls",
          "model_name": "ButtonModel",
          "model_module_version": "1.5.0",
          "state": {
            "_dom_classes": [],
            "_model_module": "@jupyter-widgets/controls",
            "_model_module_version": "1.5.0",
            "_model_name": "ButtonModel",
            "_view_count": null,
            "_view_module": "@jupyter-widgets/controls",
            "_view_module_version": "1.5.0",
            "_view_name": "ButtonView",
            "button_style": "",
            "description": ">>",
            "disabled": false,
            "icon": "",
            "layout": "IPY_MODEL_2451b56703c846e081d369aa1e8446af",
            "style": "IPY_MODEL_89a6b86d2f344384845c4ef383964e76",
            "tooltip": ""
          }
        },
        "38eb79c375f94452b598cb6d688856d2": {
          "model_module": "@jupyter-widgets/base",
          "model_name": "LayoutModel",
          "model_module_version": "1.2.0",
          "state": {
            "_model_module": "@jupyter-widgets/base",
            "_model_module_version": "1.2.0",
            "_model_name": "LayoutModel",
            "_view_count": null,
            "_view_module": "@jupyter-widgets/base",
            "_view_module_version": "1.2.0",
            "_view_name": "LayoutView",
            "align_content": null,
            "align_items": null,
            "align_self": null,
            "border": null,
            "bottom": null,
            "display": null,
            "flex": null,
            "flex_flow": null,
            "grid_area": null,
            "grid_auto_columns": null,
            "grid_auto_flow": null,
            "grid_auto_rows": null,
            "grid_column": null,
            "grid_gap": null,
            "grid_row": null,
            "grid_template_areas": null,
            "grid_template_columns": null,
            "grid_template_rows": null,
            "height": null,
            "justify_content": null,
            "justify_items": null,
            "left": null,
            "margin": null,
            "max_height": null,
            "max_width": null,
            "min_height": null,
            "min_width": null,
            "object_fit": null,
            "object_position": null,
            "order": null,
            "overflow": null,
            "overflow_x": null,
            "overflow_y": null,
            "padding": null,
            "right": null,
            "top": null,
            "visibility": null,
            "width": null
          }
        },
        "79bd5ac5361244338306cf18e1d20974": {
          "model_module": "@jupyter-widgets/base",
          "model_name": "LayoutModel",
          "model_module_version": "1.2.0",
          "state": {
            "_model_module": "@jupyter-widgets/base",
            "_model_module_version": "1.2.0",
            "_model_name": "LayoutModel",
            "_view_count": null,
            "_view_module": "@jupyter-widgets/base",
            "_view_module_version": "1.2.0",
            "_view_name": "LayoutView",
            "align_content": null,
            "align_items": null,
            "align_self": null,
            "border": null,
            "bottom": null,
            "display": null,
            "flex": null,
            "flex_flow": null,
            "grid_area": null,
            "grid_auto_columns": null,
            "grid_auto_flow": null,
            "grid_auto_rows": null,
            "grid_column": null,
            "grid_gap": null,
            "grid_row": null,
            "grid_template_areas": null,
            "grid_template_columns": null,
            "grid_template_rows": null,
            "height": null,
            "justify_content": null,
            "justify_items": null,
            "left": null,
            "margin": null,
            "max_height": null,
            "max_width": null,
            "min_height": null,
            "min_width": null,
            "object_fit": null,
            "object_position": null,
            "order": null,
            "overflow": null,
            "overflow_x": null,
            "overflow_y": null,
            "padding": null,
            "right": null,
            "top": null,
            "visibility": null,
            "width": null
          }
        },
        "00dd965a8e244ecb8bc1ba178cc0d146": {
          "model_module": "@jupyter-widgets/controls",
          "model_name": "ButtonStyleModel",
          "model_module_version": "1.5.0",
          "state": {
            "_model_module": "@jupyter-widgets/controls",
            "_model_module_version": "1.5.0",
            "_model_name": "ButtonStyleModel",
            "_view_count": null,
            "_view_module": "@jupyter-widgets/base",
            "_view_module_version": "1.2.0",
            "_view_name": "StyleView",
            "button_color": null,
            "font_weight": ""
          }
        },
        "2451b56703c846e081d369aa1e8446af": {
          "model_module": "@jupyter-widgets/base",
          "model_name": "LayoutModel",
          "model_module_version": "1.2.0",
          "state": {
            "_model_module": "@jupyter-widgets/base",
            "_model_module_version": "1.2.0",
            "_model_name": "LayoutModel",
            "_view_count": null,
            "_view_module": "@jupyter-widgets/base",
            "_view_module_version": "1.2.0",
            "_view_name": "LayoutView",
            "align_content": null,
            "align_items": null,
            "align_self": null,
            "border": null,
            "bottom": null,
            "display": null,
            "flex": null,
            "flex_flow": null,
            "grid_area": null,
            "grid_auto_columns": null,
            "grid_auto_flow": null,
            "grid_auto_rows": null,
            "grid_column": null,
            "grid_gap": null,
            "grid_row": null,
            "grid_template_areas": null,
            "grid_template_columns": null,
            "grid_template_rows": null,
            "height": null,
            "justify_content": null,
            "justify_items": null,
            "left": null,
            "margin": null,
            "max_height": null,
            "max_width": null,
            "min_height": null,
            "min_width": null,
            "object_fit": null,
            "object_position": null,
            "order": null,
            "overflow": null,
            "overflow_x": null,
            "overflow_y": null,
            "padding": null,
            "right": null,
            "top": null,
            "visibility": null,
            "width": null
          }
        },
        "89a6b86d2f344384845c4ef383964e76": {
          "model_module": "@jupyter-widgets/controls",
          "model_name": "ButtonStyleModel",
          "model_module_version": "1.5.0",
          "state": {
            "_model_module": "@jupyter-widgets/controls",
            "_model_module_version": "1.5.0",
            "_model_name": "ButtonStyleModel",
            "_view_count": null,
            "_view_module": "@jupyter-widgets/base",
            "_view_module_version": "1.2.0",
            "_view_name": "StyleView",
            "button_color": null,
            "font_weight": ""
          }
        },
        "d621536ffd144c9f93410a704ea3da83": {
          "model_module": "@jupyter-widgets/base",
          "model_name": "LayoutModel",
          "model_module_version": "1.2.0",
          "state": {
            "_model_module": "@jupyter-widgets/base",
            "_model_module_version": "1.2.0",
            "_model_name": "LayoutModel",
            "_view_count": null,
            "_view_module": "@jupyter-widgets/base",
            "_view_module_version": "1.2.0",
            "_view_name": "LayoutView",
            "align_content": null,
            "align_items": null,
            "align_self": null,
            "border": null,
            "bottom": null,
            "display": null,
            "flex": null,
            "flex_flow": null,
            "grid_area": null,
            "grid_auto_columns": null,
            "grid_auto_flow": null,
            "grid_auto_rows": null,
            "grid_column": null,
            "grid_gap": null,
            "grid_row": null,
            "grid_template_areas": null,
            "grid_template_columns": null,
            "grid_template_rows": null,
            "height": null,
            "justify_content": null,
            "justify_items": null,
            "left": null,
            "margin": null,
            "max_height": null,
            "max_width": null,
            "min_height": null,
            "min_width": null,
            "object_fit": null,
            "object_position": null,
            "order": null,
            "overflow": null,
            "overflow_x": null,
            "overflow_y": null,
            "padding": null,
            "right": null,
            "top": null,
            "visibility": null,
            "width": null
          }
        }
      }
    }
  },
  "cells": [
    {
      "cell_type": "code",
      "source": [
        "#@title Código para selecionar uma questão da lista com opções de resposta\n",
        "from ipywidgets import interact, interactive, fixed, interact_manual\n",
        "import ipywidgets as widgets\n",
        "import random\n",
        "\n",
        "\n",
        "def questao_aleatorio_lista_dropdown(l,cabecalho=\"\"):\n",
        "  x = random.randrange(len(l))\n",
        "  print(cabecalho+l[x][0]+\"?\")\n",
        "\n",
        "  r = [\"selecione\"]\n",
        "  for i in l:\n",
        "    r.append(i[1])\n",
        "\n",
        "  def op(resposta):\n",
        "    if (resposta== l[x][1]):\n",
        "      return \"Correto !\"\n",
        "    else:\n",
        "      return \"Tente novamente !\"\n",
        "\n",
        "  interact(op,resposta=r)"
      ],
      "metadata": {
        "id": "Jy5fdQL_lW8i",
        "cellView": "form"
      },
      "execution_count": null,
      "outputs": []
    },
    {
      "cell_type": "code",
      "source": [
        "#@title Exemplo 1 (sem predição, desvio no Decode)\n",
        "%%writefile arquivo.csv\n",
        "pc; inst ; F; D; E; W; comment\n",
        "0; add r1,r1,r1; 1; 2; 3; 4; r1  = 2\n",
        "4; add r2,r2,r2; 2; 3; 4; 5 ; r2 = 4\n",
        "8; L2: beq r1,r2,L1; 3; 4-5; ; ; wait r2\n",
        "12 ;sub r2,r2,1; 4-5; 6; 7; 8 ; r2 = 3\n",
        "16; beq r0,r0,L2; 6; 7; ; ; branch\n",
        "20; L1: nop; 7; ; ;; abort\n",
        "8; L2: beq r1,r2,L1; 8; 9;\n",
        "12; sub r2,r2,1; 9; 10; 11; 12; r2 = 2\n",
        "16; beq r0,r0,L2; 10; 11;\n",
        "20; L1: nop; 11;\n",
        "8; L2: beq r1,r2,L1; 12; 13;\n",
        "12; sub r2,r2,1; 13; ; ;; abort\n",
        "20; L1: nop; 14; 15; 16; 17; end\n",
        "\n"
      ],
      "metadata": {
        "colab": {
          "base_uri": "https://localhost:8080/"
        },
        "id": "x2h9EQseU_Yi",
        "outputId": "4753b9e7-1406-4d61-cdcd-87652219235c"
      },
      "execution_count": null,
      "outputs": [
        {
          "output_type": "stream",
          "name": "stdout",
          "text": [
            "Writing arquivo.csv\n"
          ]
        }
      ]
    },
    {
      "cell_type": "code",
      "source": [
        "#@title Converter csv para tabela\n",
        "import csv\n",
        "from IPython.display import Markdown\n",
        "\n",
        "def csv2markdown():\n",
        "  with open('arquivo.csv', 'r') as csvfile:\n",
        "    csvreader = csv.reader(csvfile,delimiter=';')\n",
        "    table = []\n",
        "    for row in csvreader:\n",
        "        table.append(row)\n",
        "\n",
        "    md_table = '| ' + ' | '.join(table[0]) + ' |\\n| ' + ' | '.join(['---'] * len(table[0])) + ' |\\n'\n",
        "  for row in table[1:]:\n",
        "    md_table += '| ' + ' | '.join(row) + ' |\\n'\n",
        "\n",
        "  display(Markdown(md_table))\n",
        "\n",
        "csv2markdown()\n"
      ],
      "metadata": {
        "colab": {
          "base_uri": "https://localhost:8080/",
          "height": 471
        },
        "cellView": "form",
        "id": "CGzPPLySU-rQ",
        "outputId": "f4ae068e-7598-4d16-b4db-dabff6bea0ad"
      },
      "execution_count": null,
      "outputs": [
        {
          "output_type": "display_data",
          "data": {
            "text/plain": [
              "<IPython.core.display.Markdown object>"
            ],
            "text/markdown": "| pc |  inst  |  F |  D |  E |  W |  comment |\n| --- | --- | --- | --- | --- | --- | --- |\n| 0 |  add r1,r1,r1 |  1 |  2 |  3 |  4 |  r1  = 2 |\n| 4 |  add r2,r2,r2 |  2 |  3 |  4 |  5  |  r2 = 4 |\n| 8 |  L2: beq r1,r2,L1 |  3 |  4-5 |   |   |  wait r2 |\n| 12  | sub r2,r2,1 |  4-5 |  6 |  7 |  8  |  r2 = 3 |\n| 16 |  beq r0,r0,L2 |  6 |  7 |   |   |  branch |\n| 20 |  L1: nop |  7 |   |   |  |  abort |\n| 8 |  L2: beq r1,r2,L1 |  8 |  9 |   |\n| 12 |  sub r2,r2,1 |  9 |  10 |  11 |  12 |  r2 = 2 |\n| 16 |  beq r0,r0,L2 |  10 |  11 |  |\n| 20 |  L1: nop |  11 |   |\n| 8 |  L2: beq r1,r2,L1 |  12 |  13 |   |\n| 12 |  sub r2,r2,1 |  13 |   |   |  |  abort |\n| 20 |  L1: nop |  14 |  15 |  16 |  17 |  end  |\n|  |\n"
          },
          "metadata": {}
        }
      ]
    },
    {
      "cell_type": "markdown",
      "source": [
        "# Preditor Estático\n",
        "\n",
        "\n",
        "A técnica de predição de desvio estático é uma técnica que tenta prever, no momento da compilação ou do projeto, qual caminho de execução mais provável de ser tomado em um desvio condicional. Isso é feito analisando o código fonte do programa e utilizando técnicas de análise estática para determinar a probabilidade de cada caminho de execução ser tomado.\n",
        "\n",
        "\n",
        "\n",
        "Um maneira mais simples ainda é prever que o desvio sempre será tomado, ou seja, sempre seguir sequencialmente, que na maioria dos casos é implementada incrementando o contador de programa $PC$ ($pc = pc++$ ) no estágio de busca.\n",
        "\n",
        "Em uma arquitetura de processador também podemos  utilizar a técnica Branch Delay, a instrução (ou instruções, depende do número de slots) que segue um desvio condicional é executada antes de ser determinado se o desvio será tomado ou não. Isso é possível porque o resultado do desvio condicional não afeta o resultado da instrução seguinte.\n",
        "\n",
        "Existem várias outras técnicas de análise estática que podem ser utilizadas para prever o comportamento de um programa em tempo de execução. Uma técnica comum é a análise de fluxo de controle, que analisa o grafo de controle de fluxo do programa para determinar quais caminhos de execução são possíveis.\n",
        "\n"
      ],
      "metadata": {
        "id": "jONclFMDk0Yb"
      }
    },
    {
      "cell_type": "markdown",
      "source": [
        "## Tomado ou não tomado\n",
        "\n",
        "A estatística de desvio tomado e não tomado depende do programa em questão e pode variar bastante de acordo com o seu comportamento. Em geral, programas com muitos desvios condicionais podem ter uma proporção significativa de desvios tomados devido a laços, chamada de funções, testes condicionais, etc.\n",
        "\n"
      ],
      "metadata": {
        "id": "rwSqA21HLjNR"
      }
    },
    {
      "cell_type": "code",
      "source": [
        "#@title Considerando as técnicas de Preditores estáticos\n",
        "\n",
        "cabecalho = \"Cite \"\n",
        "\n",
        "# lista de pares questao/resposta\n",
        "l = [ [\"dois exemplos\",\"branch delay, não tomado\"],[\"exemplos que podem ser difíceis de implementar \",\"tomado\"], [\"exemplos fácil de implementar\",\"não tomado\"], [\"exemplos que depende do compilador\",\"desvios com atraso, tomado\"] ]\n",
        "\n",
        "questao_aleatorio_lista_dropdown(l,cabecalho)\n"
      ],
      "metadata": {
        "colab": {
          "base_uri": "https://localhost:8080/",
          "height": 85,
          "referenced_widgets": [
            "73617176c29b42cda905f637ce98af6c",
            "a83c60c1ad9c4f6094350e84f8d8684e",
            "f24b14db86e34de0b98a648e61b0ed02",
            "33d170e0f56b4b82af446d557baa95eb",
            "e0f7742847ca434b9d9ff75925241948",
            "2014aaeb0b4b4a59a457135a5a954bb0",
            "a15f9bcd90104abea1df1b7211a31152"
          ]
        },
        "id": "ZP-xQ4mUlqzC",
        "outputId": "fd3234be-261f-4682-9b68-4bfef67d91b7",
        "cellView": "form"
      },
      "execution_count": null,
      "outputs": [
        {
          "output_type": "stream",
          "name": "stdout",
          "text": [
            "Cite exemplos fácil de implementar?\n"
          ]
        },
        {
          "output_type": "display_data",
          "data": {
            "text/plain": [
              "interactive(children=(Dropdown(description='resposta', options=('selecione', 'branch delay, não tomado', 'toma…"
            ],
            "application/vnd.jupyter.widget-view+json": {
              "version_major": 2,
              "version_minor": 0,
              "model_id": "73617176c29b42cda905f637ce98af6c"
            }
          },
          "metadata": {}
        }
      ]
    },
    {
      "cell_type": "code",
      "source": [
        "#@title Se você tem $T_d$ de desvios em um código que usa predição estática não seguido (ou não tomado) com uma taxa de acerto $T_a$. Qual é o CPI ?\n",
        "import random\n",
        "\n",
        "def gera_questao_desvio(penalidade=1):\n",
        "  taxadesvio = round(random.randint(10, 40)/100,2)\n",
        "  taxaacerto = round(random.randint(50, 90)/100,2)\n",
        "  cpi = 1 + (1 - taxaacerto)*taxadesvio*penalidade\n",
        "  cpi = round(cpi,2)\n",
        "  s = \"Com \"+str(round(taxadesvio*100,2))+\"% de desvio e taxa de acerto \"+str(round(taxaacerto*100,2))+\"%\"\n",
        "  return s,str(cpi)\n",
        "\n",
        "cabecalho = \"Calcule o CPI para as taxas: \"\n",
        "L = []\n",
        "for i in range(5):\n",
        "  p,r = gera_questao_desvio()\n",
        "  L.append([p,r])\n",
        "\n",
        "questao_aleatorio_lista_dropdown(L,cabecalho)\n"
      ],
      "metadata": {
        "colab": {
          "base_uri": "https://localhost:8080/",
          "height": 36,
          "referenced_widgets": [
            "2904368ab0224a669204db66909a7531",
            "9b911583606d4eb28792b092e15bc110",
            "cce16bdedc8a4190a2803c7db79d849e",
            "b3c3f427a5cf4b7488925ed4573f0527",
            "308c331af0534a6fa5e1705e62c535af",
            "54b975bb807044a1826aa8ad4b91e05f",
            "a025ced56c2c4d458659370cc9e68bce"
          ]
        },
        "id": "MzmcoYNRtbG7",
        "outputId": "116e3dfe-92db-424c-ca10-f11dc9a31975",
        "cellView": "form"
      },
      "execution_count": null,
      "outputs": [
        {
          "output_type": "display_data",
          "data": {
            "text/plain": [
              "'Correto !'"
            ],
            "application/vnd.google.colaboratory.intrinsic+json": {
              "type": "string"
            }
          },
          "metadata": {}
        }
      ]
    },
    {
      "cell_type": "code",
      "source": [
        "#@title grafico com ChatGPT\n",
        "import matplotlib.pyplot as plt\n",
        "import numpy as np\n",
        "\n",
        "# Valores de penalidade\n",
        "penalties = [1, 2, 3, 4]\n",
        "\n",
        "# Cria uma figura e um eixo\n",
        "fig, ax = plt.subplots()\n",
        "\n",
        "# Loop pelos valores de penalidade\n",
        "for penalty in penalties:\n",
        "    # Cria uma lista com as taxas de erro variando de 0.05 a 0.6\n",
        "    error_rates = np.linspace(0.05, 0.6, 100)\n",
        "\n",
        "    # Calcula os valores de CPI para cada taxa de erro\n",
        "    cpi_values = [1 + error_rate * penalty for error_rate in error_rates]\n",
        "\n",
        "    # Plota uma linha para cada valor de penalidade\n",
        "    ax.plot(error_rates, cpi_values, label=f'Penalidade = {penalty}')\n",
        "\n",
        "# Configura os eixos e legendas\n",
        "ax.set_xlabel('Taxa de Erro')\n",
        "ax.set_ylabel('CPI')\n",
        "ax.set_title('CPI = 1 + TaxaErro x Penalidade')\n",
        "ax.legend()\n",
        "\n",
        "# Mostra o gráfico\n",
        "plt.show()\n"
      ],
      "metadata": {
        "colab": {
          "base_uri": "https://localhost:8080/",
          "height": 472
        },
        "cellView": "form",
        "id": "_wBtl-tPBoln",
        "outputId": "7c060535-fbbe-45ee-9c50-cb20e9b414f7"
      },
      "execution_count": null,
      "outputs": [
        {
          "output_type": "display_data",
          "data": {
            "text/plain": [
              "<Figure size 640x480 with 1 Axes>"
            ],
            "image/png": "[encoded data removed]"
          },
          "metadata": {}
        }
      ]
    },
    {
      "cell_type": "code",
      "source": [
        "import matplotlib.pyplot as plt\n",
        "import numpy as np\n",
        "\n",
        "# Valores de penalidade\n",
        "penalties = [1, 2, 3, 4]\n",
        "\n",
        "# Cria uma figura e um eixo\n",
        "fig, ax = plt.subplots()\n",
        "\n",
        "# Loop pelos valores de penalidade\n",
        "for penalty in penalties:\n",
        "    # Cria uma lista com as taxas de erro variando de 0.05 a 0.6\n",
        "    error_rates = np.linspace(0.05, 0.6, 100)\n",
        "\n",
        "    # Loop pelas taxas de desvio variando de 10% a 40%\n",
        "    for deviation_rate in np.linspace(0.1, 0.4, 4):\n",
        "        # Calcula os valores de CPI para cada taxa de erro e taxa de desvio\n",
        "        cpi_values = [1 + error_rate * penalty * deviation_rate for error_rate in error_rates]\n",
        "\n",
        "        # Plota uma linha para cada valor de penalidade e taxa de desvio\n",
        "        ax.plot(error_rates, cpi_values, label=f'Penalidade={penalty}, Desvio={deviation_rate:.0%}')\n",
        "\n",
        "# Configura os eixos e legendas\n",
        "ax.set_xlabel('Taxa de Erro')\n",
        "ax.set_ylabel('CPI')\n",
        "ax.set_title('CPI = 1 + TaxaErro x Penalidade x TaxaDesvio')\n",
        "ax.legend()\n",
        "\n",
        "# Mostra o gráfico\n",
        "plt.show()\n"
      ],
      "metadata": {
        "colab": {
          "base_uri": "https://localhost:8080/",
          "height": 472
        },
        "id": "3sg9CiZsCZAk",
        "outputId": "5301c66b-615a-477d-801d-d7b3f7ea7900"
      },
      "execution_count": null,
      "outputs": [
        {
          "output_type": "display_data",
          "data": {
            "text/plain": [
              "<Figure size 640x480 with 1 Axes>"
            ],
            "image/png": "[encoded data removed]"
          },
          "metadata": {}
        }
      ]
    },
    {
      "cell_type": "code",
      "source": [
        "#@title Considere agora uma penalidade quando erra a predição de desvios\n",
        "\n",
        "penalidade = random.randint(2,5)\n",
        "cabecalho = \"Calcule o CPI, com a penalidade de erro da predição de \"+str(penalidade)+\" ciclos com  as taxas: \"\n",
        "L = []\n",
        "for i in range(5):\n",
        "  p,r = gera_questao_desvio(penalidade)\n",
        "  L.append([p,r])\n",
        "\n",
        "questao_aleatorio_lista_dropdown(L,cabecalho)\n",
        "\n",
        "\n"
      ],
      "metadata": {
        "colab": {
          "base_uri": "https://localhost:8080/",
          "height": 106,
          "referenced_widgets": [
            "f3f19bca18f5450ca3c4b57f7d8655f5",
            "f8b13f459ab6450c852587e99732f04f",
            "095019f3c98649319ea5ea6c8b6cdb72",
            "607d246937774242aa848a0915068f36",
            "aa944a6f09c8438aac9598815d75017c",
            "a7deed16587b45cd9116e76a5196e288",
            "48002d512e314f8ebe95627501be7f1a"
          ]
        },
        "id": "k_18idQMxm_S",
        "outputId": "a3fdb548-2ccf-48f1-ab6f-076df9898ccf",
        "cellView": "form"
      },
      "execution_count": null,
      "outputs": [
        {
          "output_type": "stream",
          "name": "stdout",
          "text": [
            "Calcule o CPI, com a penalidade de erro da predição de 4 ciclos com  as taxas: Com 40.0% de desvio e taxa de acerto 60.0%?\n"
          ]
        },
        {
          "output_type": "display_data",
          "data": {
            "text/plain": [
              "interactive(children=(Dropdown(description='resposta', options=('selecione', '1.64', '1.21', '1.38', '1.15', '…"
            ],
            "application/vnd.jupyter.widget-view+json": {
              "version_major": 2,
              "version_minor": 0,
              "model_id": "f3f19bca18f5450ca3c4b57f7d8655f5"
            }
          },
          "metadata": {}
        }
      ]
    },
    {
      "cell_type": "code",
      "source": [
        "#@title Suponha o Desvio com Atraso ou Branch Delay. Suponha um branch delay de 2 slots, o compilador preencheu $T_2$  slots com duas instruções e $T_1$ com uma instrução e você tem $T_D$ de desvios. Qual o CPI ?\n",
        "\n",
        "def gera_questao_branchdelay():\n",
        "  t2 = round(random.randint(40, 60)/100,2)\n",
        "  t1 = round(random.randint(10, 30)/100,2)\n",
        "  td = round(random.randint(10, 30)/100,2)\n",
        "  t0 = 1 - t2 - t1\n",
        "  cpi = 1 + td*(2*t0+ 1 * t1)\n",
        "  cpi = round(cpi,2)\n",
        "  s = \"Com \"+str(round(td*100,2))+\"% de desvio \\n com preenchimento de 2 slots em \"+str(round(t2*100,2))+\"% dos casos\"\n",
        "  s+= \" e 1 slot em \"+str(round(t1*100,2))+\"% dos casos\"\n",
        "  return s,str(cpi)\n",
        "\n",
        "\n",
        "penalidade = random.randint(2,5)\n",
        "cabecalho = \"Calcule o CPI para desvio com atrasos com  as taxas: \"\n",
        "L = []\n",
        "for i in range(5):\n",
        "  p,r = gera_questao_branchdelay()\n",
        "  L.append([p,r])\n",
        "\n",
        "questao_aleatorio_lista_dropdown(L,cabecalho)\n",
        "\n",
        "\n"
      ],
      "metadata": {
        "colab": {
          "base_uri": "https://localhost:8080/",
          "height": 104,
          "referenced_widgets": [
            "2630e0868e674690ba55e74b8d46fc51",
            "f66a3fa854e640c4a1301c851067fe70",
            "e2c5593466284bf0839d12aea41ac9ef",
            "b4b94f2cd7254848a0fcc5d4207f3e05",
            "58bb68cadb3945689d4bb14e38a6dc9d",
            "6c0fc09bc0e0410c93cf1e1d09ada943",
            "aa50d110702f422b88b28e159a981317"
          ]
        },
        "outputId": "0a5b4201-b81b-4ff7-ff49-1ec3c604ce10",
        "id": "F0JbdqxB5U3-",
        "cellView": "form"
      },
      "execution_count": null,
      "outputs": [
        {
          "output_type": "stream",
          "name": "stdout",
          "text": [
            "Calcule o CPI para desvio com atrasos com  as taxas: Com 15.0% de desvio \n",
            " com preenchimento de 2 slots em 44.0% dos casos e 1 slot em 26.0% dos casos?\n"
          ]
        },
        {
          "output_type": "display_data",
          "data": {
            "text/plain": [
              "interactive(children=(Dropdown(description='resposta', options=('selecione', '1.09', '1.13', '1.11', '1.17', '…"
            ],
            "application/vnd.jupyter.widget-view+json": {
              "version_major": 2,
              "version_minor": 0,
              "model_id": "2630e0868e674690ba55e74b8d46fc51"
            }
          },
          "metadata": {}
        }
      ]
    },
    {
      "cell_type": "code",
      "source": [
        "#@title Se você tem $D\\%$ de desvios e um preditor com $T_a$ de acerto em um computador superscalar que busca I instruções por ciclo. SUponha penalidade de N ciclos. Qual é o CPI ?\n",
        "import random\n",
        "\n",
        "def gera_questao_desvio_super(penalidade=1,superscalar=1):\n",
        "  taxadesvio = round(random.randint(10, 40)/100,2)\n",
        "  taxaacerto = round(random.randint(70, 95)/100,2)\n",
        "  cpi = 1/superscalar + (1 - taxaacerto)*taxadesvio*penalidade\n",
        "  cpi = round(cpi,2)\n",
        "  s = \"Superscalar \"+str(superscalar)+\" instruções/ciclo com penalidade de erro da predição de \"+str(penalidade)+\" ciclos, \\n\"\n",
        "  s += \"com \"+str(round(taxadesvio*100,2))+\"% de desvio e taxa de acerto \"+str(round(taxaacerto*100,2))+\"%\"\n",
        "  return s,str(cpi)\n",
        "\n",
        "cabecalho = \"Calcule o CPI para as taxas: \"\n",
        "L = []\n",
        "for i in range(5):\n",
        "  super = random.randint(2,5)\n",
        "  penalidade = random.randint(3,5)\n",
        "  p,r = gera_questao_desvio_super(penalidade,super)\n",
        "  L.append([p,r])\n",
        "\n",
        "questao_aleatorio_lista_dropdown(L,cabecalho)\n"
      ],
      "metadata": {
        "colab": {
          "base_uri": "https://localhost:8080/",
          "height": 124,
          "referenced_widgets": [
            "75c79623e6934727b62751c23e91f716",
            "f85cd4ad44a44f08a06153179cc6894d",
            "358cdb59871b4280a4a980a5aec5959e",
            "117a6a071aa14b3fae271da5cf5c67dc",
            "2c2c37070483447aba8973c37f2d8836",
            "9d1f42aa96cf408ab8c25b9119451436",
            "a09482bc4ffb4a41aaf33a4611acdcf0"
          ]
        },
        "outputId": "ae36a2cf-5fb7-45c1-8d77-105350ac6a69",
        "id": "qsfH8cduUvj0",
        "cellView": "form"
      },
      "execution_count": null,
      "outputs": [
        {
          "output_type": "stream",
          "name": "stdout",
          "text": [
            "Calcule o CPI para as taxas: Superscalar 2 instruções/ciclo com penalidade de erro da predição de 3 ciclos, \n",
            "com 26.0% de desvio e taxa de acerto 86.0%?\n"
          ]
        },
        {
          "output_type": "display_data",
          "data": {
            "text/plain": [
              "interactive(children=(Dropdown(description='resposta', options=('selecione', '0.67', '0.51', '0.39', '0.61', '…"
            ],
            "application/vnd.jupyter.widget-view+json": {
              "version_major": 2,
              "version_minor": 0,
              "model_id": "75c79623e6934727b62751c23e91f716"
            }
          },
          "metadata": {}
        }
      ]
    },
    {
      "cell_type": "markdown",
      "source": [
        "Suponha 500 instruções. pipeline de 20 estágios, 5 instruções executadas por ciclo em um superscalar, cada bloco tem um instrução de desvio. Quantos ciclos para executar 500 instruções com acerto de 99% ?\n",
        "\n",
        "ciclos = 100 + 1 * 20 = 120.\n",
        "Ideal seria 100, executou em 120, então perda de 20%.\n"
      ],
      "metadata": {
        "id": "8Apzp-yiW-9h"
      }
    },
    {
      "cell_type": "code",
      "source": [
        "#@title Quantos ciclos para exemplo anterior, com $T_a$ taxa de acerto ?\n",
        "import random\n",
        "\n",
        "def gera_questao_ciclos_super():\n",
        "  taxaacerto = round(random.randint(40, 95))\n",
        "  ciclos = 100 + 20*(100 - taxaacerto)\n",
        "  ciclos = round(ciclos)\n",
        "  s = \" taxa de acerto \"+str(round(taxaacerto))+\"%\"\n",
        "  return s,str(ciclos)\n",
        "\n",
        "cabecalho = \"Ideal seria 100 ciclos apenas, porém com erro na predição, o tempo aumenta. \\n Calcule o numero de ciclos para 500 instruções com \"\n",
        "L = []\n",
        "for i in range(5):\n",
        "  p,r = gera_questao_ciclos_super()\n",
        "  L.append([p,r])\n",
        "\n",
        "questao_aleatorio_lista_dropdown(L,cabecalho)"
      ],
      "metadata": {
        "colab": {
          "base_uri": "https://localhost:8080/",
          "height": 104,
          "referenced_widgets": [
            "5f2d486dfa474c67b5f576e2b6047e0b",
            "34d85456caac40e59860d60cfe365cbb",
            "6ae7c9042538406fa245a1500ed37722",
            "d0ac2a1ba33340d2bf9ddce408070626",
            "39d102ae10114404b443efeee25eecdc",
            "f30883ecc05845e9a4dfd9d36c3b5a8d",
            "08921ee9c89d496da9594348381a6978"
          ]
        },
        "id": "_xYYxgGXUtzT",
        "outputId": "e7a37e60-2a1e-4c73-d6a8-d1104bf57e09"
      },
      "execution_count": null,
      "outputs": [
        {
          "output_type": "stream",
          "name": "stdout",
          "text": [
            "Ideal seria 100 ciclos apenas, porém com erro na predição, o tempo aumenta. \n",
            " Calcule o numero de ciclos para 500 instruções com  taxa de acerto 71%?\n"
          ]
        },
        {
          "output_type": "display_data",
          "data": {
            "text/plain": [
              "interactive(children=(Dropdown(description='resposta', options=('selecione', '220', '1220', '540', '680', '560…"
            ],
            "application/vnd.jupyter.widget-view+json": {
              "version_major": 2,
              "version_minor": 0,
              "model_id": "5f2d486dfa474c67b5f576e2b6047e0b"
            }
          },
          "metadata": {}
        }
      ]
    },
    {
      "cell_type": "markdown",
      "source": [
        "\n",
        "\n",
        "\n",
        "6. Qual é o custo (tamanho da tabela em bits) de um preditor de 2 bits com 1024 entradas, endereços de 32 bits ?\n",
        "\n",
        "Custo = tamanho tabela * ( Bits_predicao + Bits_destino + Bits_Tag)\n",
        "\n",
        "Para o exemplo Custo = 1024 ( 2 + (32-10) + 32) = 1024* ( 2 + 22 + 32 ) = 56Kbits.\n",
        "\n",
        "![](https://github.com/arduinoufv/inf450/blob/master/figures/preditor2biys.png?raw=true)\n",
        "\n",
        "\n",
        "[link para desenho online](https://excalidraw.com/#json=2lTTqBG3ylseHWY0Gk1_3,9ONxk9jFC2_Wxcx3DrDxEg)"
      ],
      "metadata": {
        "id": "O5K5uawckwI8"
      }
    },
    {
      "cell_type": "markdown",
      "source": [
        "\n",
        "\n",
        "7. Qual é o custo do preditor com correlação que usa os 2 ultimos desvios globais com um contador de 2 bits por predição com 2048 palpites, endereço de 64 bits ?\n",
        "\n",
        "custo será semelhante ao exercicio 6, apenas o registro de 2 bits global que irá espalhar a predicao na tabela.\n",
        "\n",
        "custo = 2048 * ( 2 + (64-11) + 64) bits\n",
        "![](https://github.com/arduinoufv/inf450/blob/master/figures/preditor2bitsGLOBAL64b.png?raw=true)\n",
        "\n",
        "[link para o desenho](https://excalidraw.com/#json=U7NCHSQr1ZobB06TjQjoz,JDquMjrMeTV_FVKcNvn3NQ)"
      ],
      "metadata": {
        "id": "A3ENsSWEEJQT"
      }
    },
    {
      "cell_type": "markdown",
      "source": [
        "# Implementação do Preditor\n",
        "\n",
        "\n",
        "* [artigo](https://drive.google.com/file/d/1OwYKriZ7ZO-vyjqkrxkEaGVxqul_YnwH/view?usp=sharing)\n",
        "* [slide](https://docs.google.com/presentation/d/1NoKyJ3UC34Rj6trYvjSHXAwF48wRzG9937nkRR48AnM/edit?usp=sharing)\n",
        "* [passo a passo](https://excalidraw.com/#json=xZPHRbEmfuWRiDY39a5hA,fxQrh3v1LoO6vJhpVPFnyg)"
      ],
      "metadata": {
        "id": "B_Tg6IXukJbB"
      }
    },
    {
      "cell_type": "code",
      "source": [
        "!wget https://github.com/arduinoufv/inf450/raw/master/figures/predicao_implementacao/ciclo2.png &> /dev/null\n",
        "!wget https://github.com/arduinoufv/inf450/raw/master/figures/predicao_implementacao/ciclo3.png &> /dev/null\n",
        "!wget https://github.com/arduinoufv/inf450/raw/master/figures/predicao_implementacao/ciclo4.png &> /dev/null\n",
        "!wget https://github.com/arduinoufv/inf450/raw/master/figures/predicao_implementacao/ciclo5.png &> /dev/null\n",
        "!wget https://github.com/arduinoufv/inf450/raw/master/figures/predicao_implementacao/ciclo8.png &> /dev/null\n"
      ],
      "metadata": {
        "id": "X7VVFKJfyGZQ"
      },
      "execution_count": null,
      "outputs": []
    },
    {
      "cell_type": "code",
      "source": [],
      "metadata": {
        "id": "Hu8kn4Fq3VdV"
      },
      "execution_count": null,
      "outputs": []
    },
    {
      "cell_type": "code",
      "source": [
        "#@title Imagens botões << e >>>\n",
        "import ipywidgets as widgets\n",
        "from IPython.display import Image\n",
        "from IPython.display import clear_output\n",
        "import time\n",
        "from PIL import Image\n",
        "\n",
        "first = 2\n",
        "last = 8\n",
        "filename = \"ciclo\"\n",
        "L_size = 800\n",
        "\n",
        "upbutton = widgets.Button(description='>>')\n",
        "downbutton = widgets.Button(description='<<')\n",
        "\n",
        "\n",
        "\n",
        "out = widgets.Output()\n",
        "count = first\n",
        "samp_text = filename + str(first) + \".png\"\n",
        "\n",
        "\n",
        "def up_button_clicked(_, incr=1):\n",
        "  global count,samp_text\n",
        "  with out:\n",
        "    if (count < last and  incr == 1):\n",
        "      count += incr\n",
        "\n",
        "    if (count > first and incr == -1):\n",
        "      count += incr\n",
        "\n",
        "    clear_output(wait=True)\n",
        "    samp_text = filename + str(count) + \".png\"\n",
        "    imagem = Image.open(samp_text)\n",
        "    display(imagem.resize((L_size, int(imagem.size[1] * L_size / imagem.size[0]))))\n",
        "\n",
        "\n",
        "upbutton.on_click(up_button_clicked)\n",
        "\n",
        "def down_button_clicked(_):\n",
        "  return up_button_clicked(_, -1)\n",
        "\n",
        "downbutton.on_click(down_button_clicked)\n",
        "# displaying button and its output together\n",
        "buttons = widgets.HBox([downbutton,upbutton])\n",
        "#widgets.VBox([buttons,out,Image(samp_text)])\n",
        "\n",
        "myvbox = widgets.VBox([buttons,out],)\n",
        "\n",
        "display(myvbox)\n",
        "with out:\n",
        "  imagem = Image.open(filename + str(first) + \".png\")\n",
        "  display(imagem.resize((L_size, int(imagem.size[1] * L_size / imagem.size[0]))))\n",
        "\n",
        "\n",
        "\n"
      ],
      "metadata": {
        "colab": {
          "base_uri": "https://localhost:8080/",
          "height": 473,
          "referenced_widgets": [
            "43cb882cb61f4efcac67125c395ede36",
            "82e4acbb9ccf48618b1ec023b53c18af",
            "1ae031418c99476b8f635323d62611f7",
            "3e51981c5fd947e5a943a8265d059332",
            "c7af2f0f7e1c43ffac4becc3cebffb40",
            "e006009056af4018b9025f5ccaf9555f",
            "38eb79c375f94452b598cb6d688856d2",
            "79bd5ac5361244338306cf18e1d20974",
            "00dd965a8e244ecb8bc1ba178cc0d146",
            "2451b56703c846e081d369aa1e8446af",
            "89a6b86d2f344384845c4ef383964e76",
            "d621536ffd144c9f93410a704ea3da83"
          ]
        },
        "id": "oyzxq7fVyFG5",
        "outputId": "6c9daa6d-eea7-4c3b-9201-edc47578ace5"
      },
      "execution_count": null,
      "outputs": [
        {
          "output_type": "display_data",
          "data": {
            "text/plain": [
              "VBox(children=(HBox(children=(Button(description='<<', style=ButtonStyle()), Button(description='>>', style=Bu…"
            ],
            "application/vnd.jupyter.widget-view+json": {
              "version_major": 2,
              "version_minor": 0,
              "model_id": "43cb882cb61f4efcac67125c395ede36"
            }
          },
          "metadata": {}
        }
      ]
    }
  ]
}