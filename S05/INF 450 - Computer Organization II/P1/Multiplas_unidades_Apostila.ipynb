{
  "nbformat": 4,
  "nbformat_minor": 0,
  "metadata": {
    "colab": {
      "provenance": [],
      "collapsed_sections": [
        "exAV9SlrbCqV",
        "ir9-mjsKvs0h",
        "yq6hrJdVx0b8"
      ],
      "toc_visible": true
    },
    "kernelspec": {
      "name": "python3",
      "display_name": "Python 3"
    },
    "language_info": {
      "name": "python"
    },
    "widgets": {
      "application/vnd.jupyter.widget-state+json": {
        "dcabd6859cf34263a072ee9acb122dc3": {
          "model_module": "@jupyter-widgets/controls",
          "model_name": "TextModel",
          "model_module_version": "1.5.0",
          "state": {
            "_dom_classes": [],
            "_model_module": "@jupyter-widgets/controls",
            "_model_module_version": "1.5.0",
            "_model_name": "TextModel",
            "_view_count": null,
            "_view_module": "@jupyter-widgets/controls",
            "_view_module_version": "1.5.0",
            "_view_name": "TextView",
            "continuous_update": true,
            "description": "",
            "description_tooltip": null,
            "disabled": false,
            "layout": "IPY_MODEL_2189e9ff910f419f907197700f928cc4",
            "placeholder": "​",
            "style": "IPY_MODEL_39458703e63e44d8aa4dc64fcb6d3ca6",
            "value": "0"
          }
        },
        "2189e9ff910f419f907197700f928cc4": {
          "model_module": "@jupyter-widgets/base",
          "model_name": "LayoutModel",
          "model_module_version": "1.2.0",
          "state": {
            "_model_module": "@jupyter-widgets/base",
            "_model_module_version": "1.2.0",
            "_model_name": "LayoutModel",
            "_view_count": null,
            "_view_module": "@jupyter-widgets/base",
            "_view_module_version": "1.2.0",
            "_view_name": "LayoutView",
            "align_content": null,
            "align_items": null,
            "align_self": null,
            "border": null,
            "bottom": null,
            "display": null,
            "flex": null,
            "flex_flow": null,
            "grid_area": null,
            "grid_auto_columns": null,
            "grid_auto_flow": null,
            "grid_auto_rows": null,
            "grid_column": null,
            "grid_gap": null,
            "grid_row": null,
            "grid_template_areas": null,
            "grid_template_columns": null,
            "grid_template_rows": null,
            "height": null,
            "justify_content": null,
            "justify_items": null,
            "left": null,
            "margin": null,
            "max_height": null,
            "max_width": null,
            "min_height": null,
            "min_width": null,
            "object_fit": null,
            "object_position": null,
            "order": null,
            "overflow": null,
            "overflow_x": null,
            "overflow_y": null,
            "padding": null,
            "right": null,
            "top": null,
            "visibility": null,
            "width": null
          }
        },
        "39458703e63e44d8aa4dc64fcb6d3ca6": {
          "model_module": "@jupyter-widgets/controls",
          "model_name": "DescriptionStyleModel",
          "model_module_version": "1.5.0",
          "state": {
            "_model_module": "@jupyter-widgets/controls",
            "_model_module_version": "1.5.0",
            "_model_name": "DescriptionStyleModel",
            "_view_count": null,
            "_view_module": "@jupyter-widgets/base",
            "_view_module_version": "1.2.0",
            "_view_name": "StyleView",
            "description_width": ""
          }
        },
        "3943ef4b555943c1930b4b22b9be7332": {
          "model_module": "@jupyter-widgets/controls",
          "model_name": "TextModel",
          "model_module_version": "1.5.0",
          "state": {
            "_dom_classes": [],
            "_model_module": "@jupyter-widgets/controls",
            "_model_module_version": "1.5.0",
            "_model_name": "TextModel",
            "_view_count": null,
            "_view_module": "@jupyter-widgets/controls",
            "_view_module_version": "1.5.0",
            "_view_name": "TextView",
            "continuous_update": true,
            "description": "",
            "description_tooltip": null,
            "disabled": false,
            "layout": "IPY_MODEL_78791e7f82ef4103b7033c5b3b3e7916",
            "placeholder": "​",
            "style": "IPY_MODEL_5057ee170dc4479a98f0c3578e0ce444",
            "value": " ld f1,0(r5) "
          }
        },
        "78791e7f82ef4103b7033c5b3b3e7916": {
          "model_module": "@jupyter-widgets/base",
          "model_name": "LayoutModel",
          "model_module_version": "1.2.0",
          "state": {
            "_model_module": "@jupyter-widgets/base",
            "_model_module_version": "1.2.0",
            "_model_name": "LayoutModel",
            "_view_count": null,
            "_view_module": "@jupyter-widgets/base",
            "_view_module_version": "1.2.0",
            "_view_name": "LayoutView",
            "align_content": null,
            "align_items": null,
            "align_self": null,
            "border": null,
            "bottom": null,
            "display": null,
            "flex": null,
            "flex_flow": null,
            "grid_area": null,
            "grid_auto_columns": null,
            "grid_auto_flow": null,
            "grid_auto_rows": null,
            "grid_column": null,
            "grid_gap": null,
            "grid_row": null,
            "grid_template_areas": null,
            "grid_template_columns": null,
            "grid_template_rows": null,
            "height": null,
            "justify_content": null,
            "justify_items": null,
            "left": null,
            "margin": null,
            "max_height": null,
            "max_width": null,
            "min_height": null,
            "min_width": null,
            "object_fit": null,
            "object_position": null,
            "order": null,
            "overflow": null,
            "overflow_x": null,
            "overflow_y": null,
            "padding": null,
            "right": null,
            "top": null,
            "visibility": null,
            "width": null
          }
        },
        "5057ee170dc4479a98f0c3578e0ce444": {
          "model_module": "@jupyter-widgets/controls",
          "model_name": "DescriptionStyleModel",
          "model_module_version": "1.5.0",
          "state": {
            "_model_module": "@jupyter-widgets/controls",
            "_model_module_version": "1.5.0",
            "_model_name": "DescriptionStyleModel",
            "_view_count": null,
            "_view_module": "@jupyter-widgets/base",
            "_view_module_version": "1.2.0",
            "_view_name": "StyleView",
            "description_width": ""
          }
        },
        "f339da06ff3b422fb0e368fb95dc8d53": {
          "model_module": "@jupyter-widgets/controls",
          "model_name": "TextModel",
          "model_module_version": "1.5.0",
          "state": {
            "_dom_classes": [],
            "_model_module": "@jupyter-widgets/controls",
            "_model_module_version": "1.5.0",
            "_model_name": "TextModel",
            "_view_count": null,
            "_view_module": "@jupyter-widgets/controls",
            "_view_module_version": "1.5.0",
            "_view_name": "TextView",
            "continuous_update": true,
            "description": "",
            "description_tooltip": null,
            "disabled": false,
            "layout": "IPY_MODEL_e4cce9c0e8ff4a28ba5a6fb03d186851",
            "placeholder": "​",
            "style": "IPY_MODEL_021159e1f4704c329dac53dc0e431617",
            "value": " 1"
          }
        },
        "e4cce9c0e8ff4a28ba5a6fb03d186851": {
          "model_module": "@jupyter-widgets/base",
          "model_name": "LayoutModel",
          "model_module_version": "1.2.0",
          "state": {
            "_model_module": "@jupyter-widgets/base",
            "_model_module_version": "1.2.0",
            "_model_name": "LayoutModel",
            "_view_count": null,
            "_view_module": "@jupyter-widgets/base",
            "_view_module_version": "1.2.0",
            "_view_name": "LayoutView",
            "align_content": null,
            "align_items": null,
            "align_self": null,
            "border": null,
            "bottom": null,
            "display": null,
            "flex": null,
            "flex_flow": null,
            "grid_area": null,
            "grid_auto_columns": null,
            "grid_auto_flow": null,
            "grid_auto_rows": null,
            "grid_column": null,
            "grid_gap": null,
            "grid_row": null,
            "grid_template_areas": null,
            "grid_template_columns": null,
            "grid_template_rows": null,
            "height": null,
            "justify_content": null,
            "justify_items": null,
            "left": null,
            "margin": null,
            "max_height": null,
            "max_width": null,
            "min_height": null,
            "min_width": null,
            "object_fit": null,
            "object_position": null,
            "order": null,
            "overflow": null,
            "overflow_x": null,
            "overflow_y": null,
            "padding": null,
            "right": null,
            "top": null,
            "visibility": null,
            "width": null
          }
        },
        "021159e1f4704c329dac53dc0e431617": {
          "model_module": "@jupyter-widgets/controls",
          "model_name": "DescriptionStyleModel",
          "model_module_version": "1.5.0",
          "state": {
            "_model_module": "@jupyter-widgets/controls",
            "_model_module_version": "1.5.0",
            "_model_name": "DescriptionStyleModel",
            "_view_count": null,
            "_view_module": "@jupyter-widgets/base",
            "_view_module_version": "1.2.0",
            "_view_name": "StyleView",
            "description_width": ""
          }
        },
        "ec5ca797dc064e1bbb9cb8419fd0111a": {
          "model_module": "@jupyter-widgets/controls",
          "model_name": "TextModel",
          "model_module_version": "1.5.0",
          "state": {
            "_dom_classes": [],
            "_model_module": "@jupyter-widgets/controls",
            "_model_module_version": "1.5.0",
            "_model_name": "TextModel",
            "_view_count": null,
            "_view_module": "@jupyter-widgets/controls",
            "_view_module_version": "1.5.0",
            "_view_name": "TextView",
            "continuous_update": true,
            "description": "",
            "description_tooltip": null,
            "disabled": false,
            "layout": "IPY_MODEL_27f4fda01ba04136b2a6a1c30e71d5f8",
            "placeholder": "​",
            "style": "IPY_MODEL_24f49f8350cf4f16b0839324b75ed46b",
            "value": " 2"
          }
        },
        "27f4fda01ba04136b2a6a1c30e71d5f8": {
          "model_module": "@jupyter-widgets/base",
          "model_name": "LayoutModel",
          "model_module_version": "1.2.0",
          "state": {
            "_model_module": "@jupyter-widgets/base",
            "_model_module_version": "1.2.0",
            "_model_name": "LayoutModel",
            "_view_count": null,
            "_view_module": "@jupyter-widgets/base",
            "_view_module_version": "1.2.0",
            "_view_name": "LayoutView",
            "align_content": null,
            "align_items": null,
            "align_self": null,
            "border": null,
            "bottom": null,
            "display": null,
            "flex": null,
            "flex_flow": null,
            "grid_area": null,
            "grid_auto_columns": null,
            "grid_auto_flow": null,
            "grid_auto_rows": null,
            "grid_column": null,
            "grid_gap": null,
            "grid_row": null,
            "grid_template_areas": null,
            "grid_template_columns": null,
            "grid_template_rows": null,
            "height": null,
            "justify_content": null,
            "justify_items": null,
            "left": null,
            "margin": null,
            "max_height": null,
            "max_width": null,
            "min_height": null,
            "min_width": null,
            "object_fit": null,
            "object_position": null,
            "order": null,
            "overflow": null,
            "overflow_x": null,
            "overflow_y": null,
            "padding": null,
            "right": null,
            "top": null,
            "visibility": null,
            "width": null
          }
        },
        "24f49f8350cf4f16b0839324b75ed46b": {
          "model_module": "@jupyter-widgets/controls",
          "model_name": "DescriptionStyleModel",
          "model_module_version": "1.5.0",
          "state": {
            "_model_module": "@jupyter-widgets/controls",
            "_model_module_version": "1.5.0",
            "_model_name": "DescriptionStyleModel",
            "_view_count": null,
            "_view_module": "@jupyter-widgets/base",
            "_view_module_version": "1.2.0",
            "_view_name": "StyleView",
            "description_width": ""
          }
        },
        "9fd9e778d1e24f148391278af9e0ecb5": {
          "model_module": "@jupyter-widgets/controls",
          "model_name": "TextModel",
          "model_module_version": "1.5.0",
          "state": {
            "_dom_classes": [],
            "_model_module": "@jupyter-widgets/controls",
            "_model_module_version": "1.5.0",
            "_model_name": "TextModel",
            "_view_count": null,
            "_view_module": "@jupyter-widgets/controls",
            "_view_module_version": "1.5.0",
            "_view_name": "TextView",
            "continuous_update": true,
            "description": "",
            "description_tooltip": null,
            "disabled": false,
            "layout": "IPY_MODEL_9feadf9a6db2437ab142d7970e70157b",
            "placeholder": "​",
            "style": "IPY_MODEL_445403ee8fd444c9932945519910bbf5",
            "value": " 3-4"
          }
        },
        "9feadf9a6db2437ab142d7970e70157b": {
          "model_module": "@jupyter-widgets/base",
          "model_name": "LayoutModel",
          "model_module_version": "1.2.0",
          "state": {
            "_model_module": "@jupyter-widgets/base",
            "_model_module_version": "1.2.0",
            "_model_name": "LayoutModel",
            "_view_count": null,
            "_view_module": "@jupyter-widgets/base",
            "_view_module_version": "1.2.0",
            "_view_name": "LayoutView",
            "align_content": null,
            "align_items": null,
            "align_self": null,
            "border": null,
            "bottom": null,
            "display": null,
            "flex": null,
            "flex_flow": null,
            "grid_area": null,
            "grid_auto_columns": null,
            "grid_auto_flow": null,
            "grid_auto_rows": null,
            "grid_column": null,
            "grid_gap": null,
            "grid_row": null,
            "grid_template_areas": null,
            "grid_template_columns": null,
            "grid_template_rows": null,
            "height": null,
            "justify_content": null,
            "justify_items": null,
            "left": null,
            "margin": null,
            "max_height": null,
            "max_width": null,
            "min_height": null,
            "min_width": null,
            "object_fit": null,
            "object_position": null,
            "order": null,
            "overflow": null,
            "overflow_x": null,
            "overflow_y": null,
            "padding": null,
            "right": null,
            "top": null,
            "visibility": null,
            "width": null
          }
        },
        "445403ee8fd444c9932945519910bbf5": {
          "model_module": "@jupyter-widgets/controls",
          "model_name": "DescriptionStyleModel",
          "model_module_version": "1.5.0",
          "state": {
            "_model_module": "@jupyter-widgets/controls",
            "_model_module_version": "1.5.0",
            "_model_name": "DescriptionStyleModel",
            "_view_count": null,
            "_view_module": "@jupyter-widgets/base",
            "_view_module_version": "1.2.0",
            "_view_name": "StyleView",
            "description_width": ""
          }
        },
        "d540d144a53341fbbf535c51ad1eb070": {
          "model_module": "@jupyter-widgets/controls",
          "model_name": "TextModel",
          "model_module_version": "1.5.0",
          "state": {
            "_dom_classes": [],
            "_model_module": "@jupyter-widgets/controls",
            "_model_module_version": "1.5.0",
            "_model_name": "TextModel",
            "_view_count": null,
            "_view_module": "@jupyter-widgets/controls",
            "_view_module_version": "1.5.0",
            "_view_name": "TextView",
            "continuous_update": true,
            "description": "",
            "description_tooltip": null,
            "disabled": false,
            "layout": "IPY_MODEL_88d73dfa4c044ae2bf966eb76d51716b",
            "placeholder": "​",
            "style": "IPY_MODEL_34c673e7a1574fbd92db23e475218bd3",
            "value": " 5"
          }
        },
        "88d73dfa4c044ae2bf966eb76d51716b": {
          "model_module": "@jupyter-widgets/base",
          "model_name": "LayoutModel",
          "model_module_version": "1.2.0",
          "state": {
            "_model_module": "@jupyter-widgets/base",
            "_model_module_version": "1.2.0",
            "_model_name": "LayoutModel",
            "_view_count": null,
            "_view_module": "@jupyter-widgets/base",
            "_view_module_version": "1.2.0",
            "_view_name": "LayoutView",
            "align_content": null,
            "align_items": null,
            "align_self": null,
            "border": null,
            "bottom": null,
            "display": null,
            "flex": null,
            "flex_flow": null,
            "grid_area": null,
            "grid_auto_columns": null,
            "grid_auto_flow": null,
            "grid_auto_rows": null,
            "grid_column": null,
            "grid_gap": null,
            "grid_row": null,
            "grid_template_areas": null,
            "grid_template_columns": null,
            "grid_template_rows": null,
            "height": null,
            "justify_content": null,
            "justify_items": null,
            "left": null,
            "margin": null,
            "max_height": null,
            "max_width": null,
            "min_height": null,
            "min_width": null,
            "object_fit": null,
            "object_position": null,
            "order": null,
            "overflow": null,
            "overflow_x": null,
            "overflow_y": null,
            "padding": null,
            "right": null,
            "top": null,
            "visibility": null,
            "width": null
          }
        },
        "34c673e7a1574fbd92db23e475218bd3": {
          "model_module": "@jupyter-widgets/controls",
          "model_name": "DescriptionStyleModel",
          "model_module_version": "1.5.0",
          "state": {
            "_model_module": "@jupyter-widgets/controls",
            "_model_module_version": "1.5.0",
            "_model_name": "DescriptionStyleModel",
            "_view_count": null,
            "_view_module": "@jupyter-widgets/base",
            "_view_module_version": "1.2.0",
            "_view_name": "StyleView",
            "description_width": ""
          }
        },
        "afd4ef84e19c4a979af92f20c0a3b39c": {
          "model_module": "@jupyter-widgets/controls",
          "model_name": "TextModel",
          "model_module_version": "1.5.0",
          "state": {
            "_dom_classes": [],
            "_model_module": "@jupyter-widgets/controls",
            "_model_module_version": "1.5.0",
            "_model_name": "TextModel",
            "_view_count": null,
            "_view_module": "@jupyter-widgets/controls",
            "_view_module_version": "1.5.0",
            "_view_name": "TextView",
            "continuous_update": true,
            "description": "",
            "description_tooltip": null,
            "disabled": false,
            "layout": "IPY_MODEL_c40672c183974c94b50ae5ebe20cb101",
            "placeholder": "​",
            "style": "IPY_MODEL_e95c06d2a0ca4ef99ea8bea47eb08994",
            "value": "-"
          }
        },
        "c40672c183974c94b50ae5ebe20cb101": {
          "model_module": "@jupyter-widgets/base",
          "model_name": "LayoutModel",
          "model_module_version": "1.2.0",
          "state": {
            "_model_module": "@jupyter-widgets/base",
            "_model_module_version": "1.2.0",
            "_model_name": "LayoutModel",
            "_view_count": null,
            "_view_module": "@jupyter-widgets/base",
            "_view_module_version": "1.2.0",
            "_view_name": "LayoutView",
            "align_content": null,
            "align_items": null,
            "align_self": null,
            "border": null,
            "bottom": null,
            "display": null,
            "flex": null,
            "flex_flow": null,
            "grid_area": null,
            "grid_auto_columns": null,
            "grid_auto_flow": null,
            "grid_auto_rows": null,
            "grid_column": null,
            "grid_gap": null,
            "grid_row": null,
            "grid_template_areas": null,
            "grid_template_columns": null,
            "grid_template_rows": null,
            "height": null,
            "justify_content": null,
            "justify_items": null,
            "left": null,
            "margin": null,
            "max_height": null,
            "max_width": null,
            "min_height": null,
            "min_width": null,
            "object_fit": null,
            "object_position": null,
            "order": null,
            "overflow": null,
            "overflow_x": null,
            "overflow_y": null,
            "padding": null,
            "right": null,
            "top": null,
            "visibility": null,
            "width": null
          }
        },
        "e95c06d2a0ca4ef99ea8bea47eb08994": {
          "model_module": "@jupyter-widgets/controls",
          "model_name": "DescriptionStyleModel",
          "model_module_version": "1.5.0",
          "state": {
            "_model_module": "@jupyter-widgets/controls",
            "_model_module_version": "1.5.0",
            "_model_name": "DescriptionStyleModel",
            "_view_count": null,
            "_view_module": "@jupyter-widgets/base",
            "_view_module_version": "1.2.0",
            "_view_name": "StyleView",
            "description_width": ""
          }
        },
        "37f59aba9e7c4842960270c43376e54c": {
          "model_module": "@jupyter-widgets/controls",
          "model_name": "TextModel",
          "model_module_version": "1.5.0",
          "state": {
            "_dom_classes": [],
            "_model_module": "@jupyter-widgets/controls",
            "_model_module_version": "1.5.0",
            "_model_name": "TextModel",
            "_view_count": null,
            "_view_module": "@jupyter-widgets/controls",
            "_view_module_version": "1.5.0",
            "_view_name": "TextView",
            "continuous_update": true,
            "description": "",
            "description_tooltip": null,
            "disabled": false,
            "layout": "IPY_MODEL_bd8a47c785d148da9f3167b3eff2cf68",
            "placeholder": "​",
            "style": "IPY_MODEL_63f48f433cee4c37a9d6dc7e937e44bd",
            "value": "4"
          }
        },
        "bd8a47c785d148da9f3167b3eff2cf68": {
          "model_module": "@jupyter-widgets/base",
          "model_name": "LayoutModel",
          "model_module_version": "1.2.0",
          "state": {
            "_model_module": "@jupyter-widgets/base",
            "_model_module_version": "1.2.0",
            "_model_name": "LayoutModel",
            "_view_count": null,
            "_view_module": "@jupyter-widgets/base",
            "_view_module_version": "1.2.0",
            "_view_name": "LayoutView",
            "align_content": null,
            "align_items": null,
            "align_self": null,
            "border": null,
            "bottom": null,
            "display": null,
            "flex": null,
            "flex_flow": null,
            "grid_area": null,
            "grid_auto_columns": null,
            "grid_auto_flow": null,
            "grid_auto_rows": null,
            "grid_column": null,
            "grid_gap": null,
            "grid_row": null,
            "grid_template_areas": null,
            "grid_template_columns": null,
            "grid_template_rows": null,
            "height": null,
            "justify_content": null,
            "justify_items": null,
            "left": null,
            "margin": null,
            "max_height": null,
            "max_width": null,
            "min_height": null,
            "min_width": null,
            "object_fit": null,
            "object_position": null,
            "order": null,
            "overflow": null,
            "overflow_x": null,
            "overflow_y": null,
            "padding": null,
            "right": null,
            "top": null,
            "visibility": null,
            "width": null
          }
        },
        "63f48f433cee4c37a9d6dc7e937e44bd": {
          "model_module": "@jupyter-widgets/controls",
          "model_name": "DescriptionStyleModel",
          "model_module_version": "1.5.0",
          "state": {
            "_model_module": "@jupyter-widgets/controls",
            "_model_module_version": "1.5.0",
            "_model_name": "DescriptionStyleModel",
            "_view_count": null,
            "_view_module": "@jupyter-widgets/base",
            "_view_module_version": "1.2.0",
            "_view_name": "StyleView",
            "description_width": ""
          }
        },
        "d793ac89e2d841cf81fd1d3d1881cd20": {
          "model_module": "@jupyter-widgets/controls",
          "model_name": "TextModel",
          "model_module_version": "1.5.0",
          "state": {
            "_dom_classes": [],
            "_model_module": "@jupyter-widgets/controls",
            "_model_module_version": "1.5.0",
            "_model_name": "TextModel",
            "_view_count": null,
            "_view_module": "@jupyter-widgets/controls",
            "_view_module_version": "1.5.0",
            "_view_name": "TextView",
            "continuous_update": true,
            "description": "",
            "description_tooltip": null,
            "disabled": false,
            "layout": "IPY_MODEL_22fcf69e78384511bb8cea9597a410ed",
            "placeholder": "​",
            "style": "IPY_MODEL_2902f0c453434c408dc7f81dc0cb707c",
            "value": "  add f1,f1,f3"
          }
        },
        "22fcf69e78384511bb8cea9597a410ed": {
          "model_module": "@jupyter-widgets/base",
          "model_name": "LayoutModel",
          "model_module_version": "1.2.0",
          "state": {
            "_model_module": "@jupyter-widgets/base",
            "_model_module_version": "1.2.0",
            "_model_name": "LayoutModel",
            "_view_count": null,
            "_view_module": "@jupyter-widgets/base",
            "_view_module_version": "1.2.0",
            "_view_name": "LayoutView",
            "align_content": null,
            "align_items": null,
            "align_self": null,
            "border": null,
            "bottom": null,
            "display": null,
            "flex": null,
            "flex_flow": null,
            "grid_area": null,
            "grid_auto_columns": null,
            "grid_auto_flow": null,
            "grid_auto_rows": null,
            "grid_column": null,
            "grid_gap": null,
            "grid_row": null,
            "grid_template_areas": null,
            "grid_template_columns": null,
            "grid_template_rows": null,
            "height": null,
            "justify_content": null,
            "justify_items": null,
            "left": null,
            "margin": null,
            "max_height": null,
            "max_width": null,
            "min_height": null,
            "min_width": null,
            "object_fit": null,
            "object_position": null,
            "order": null,
            "overflow": null,
            "overflow_x": null,
            "overflow_y": null,
            "padding": null,
            "right": null,
            "top": null,
            "visibility": null,
            "width": null
          }
        },
        "2902f0c453434c408dc7f81dc0cb707c": {
          "model_module": "@jupyter-widgets/controls",
          "model_name": "DescriptionStyleModel",
          "model_module_version": "1.5.0",
          "state": {
            "_model_module": "@jupyter-widgets/controls",
            "_model_module_version": "1.5.0",
            "_model_name": "DescriptionStyleModel",
            "_view_count": null,
            "_view_module": "@jupyter-widgets/base",
            "_view_module_version": "1.2.0",
            "_view_name": "StyleView",
            "description_width": ""
          }
        },
        "185d7542d79d4afe8d2459a96ea20b49": {
          "model_module": "@jupyter-widgets/controls",
          "model_name": "TextModel",
          "model_module_version": "1.5.0",
          "state": {
            "_dom_classes": [],
            "_model_module": "@jupyter-widgets/controls",
            "_model_module_version": "1.5.0",
            "_model_name": "TextModel",
            "_view_count": null,
            "_view_module": "@jupyter-widgets/controls",
            "_view_module_version": "1.5.0",
            "_view_name": "TextView",
            "continuous_update": true,
            "description": "",
            "description_tooltip": null,
            "disabled": false,
            "layout": "IPY_MODEL_af2e1e3b082e4a91b441da8aacc3f842",
            "placeholder": "​",
            "style": "IPY_MODEL_cbaf86fc909448d78832cfe9d50c8310",
            "value": " 2"
          }
        },
        "af2e1e3b082e4a91b441da8aacc3f842": {
          "model_module": "@jupyter-widgets/base",
          "model_name": "LayoutModel",
          "model_module_version": "1.2.0",
          "state": {
            "_model_module": "@jupyter-widgets/base",
            "_model_module_version": "1.2.0",
            "_model_name": "LayoutModel",
            "_view_count": null,
            "_view_module": "@jupyter-widgets/base",
            "_view_module_version": "1.2.0",
            "_view_name": "LayoutView",
            "align_content": null,
            "align_items": null,
            "align_self": null,
            "border": null,
            "bottom": null,
            "display": null,
            "flex": null,
            "flex_flow": null,
            "grid_area": null,
            "grid_auto_columns": null,
            "grid_auto_flow": null,
            "grid_auto_rows": null,
            "grid_column": null,
            "grid_gap": null,
            "grid_row": null,
            "grid_template_areas": null,
            "grid_template_columns": null,
            "grid_template_rows": null,
            "height": null,
            "justify_content": null,
            "justify_items": null,
            "left": null,
            "margin": null,
            "max_height": null,
            "max_width": null,
            "min_height": null,
            "min_width": null,
            "object_fit": null,
            "object_position": null,
            "order": null,
            "overflow": null,
            "overflow_x": null,
            "overflow_y": null,
            "padding": null,
            "right": null,
            "top": null,
            "visibility": null,
            "width": null
          }
        },
        "cbaf86fc909448d78832cfe9d50c8310": {
          "model_module": "@jupyter-widgets/controls",
          "model_name": "DescriptionStyleModel",
          "model_module_version": "1.5.0",
          "state": {
            "_model_module": "@jupyter-widgets/controls",
            "_model_module_version": "1.5.0",
            "_model_name": "DescriptionStyleModel",
            "_view_count": null,
            "_view_module": "@jupyter-widgets/base",
            "_view_module_version": "1.2.0",
            "_view_name": "StyleView",
            "description_width": ""
          }
        },
        "e794f2fee8714ef6a57185960a84a849": {
          "model_module": "@jupyter-widgets/controls",
          "model_name": "TextModel",
          "model_module_version": "1.5.0",
          "state": {
            "_dom_classes": [],
            "_model_module": "@jupyter-widgets/controls",
            "_model_module_version": "1.5.0",
            "_model_name": "TextModel",
            "_view_count": null,
            "_view_module": "@jupyter-widgets/controls",
            "_view_module_version": "1.5.0",
            "_view_name": "TextView",
            "continuous_update": true,
            "description": "",
            "description_tooltip": null,
            "disabled": false,
            "layout": "IPY_MODEL_69ddf7053bdc484b9a4674682ab0c876",
            "placeholder": "​",
            "style": "IPY_MODEL_ef57382cc74f493d8ee07b24776c7b16",
            "value": " 3-4"
          }
        },
        "69ddf7053bdc484b9a4674682ab0c876": {
          "model_module": "@jupyter-widgets/base",
          "model_name": "LayoutModel",
          "model_module_version": "1.2.0",
          "state": {
            "_model_module": "@jupyter-widgets/base",
            "_model_module_version": "1.2.0",
            "_model_name": "LayoutModel",
            "_view_count": null,
            "_view_module": "@jupyter-widgets/base",
            "_view_module_version": "1.2.0",
            "_view_name": "LayoutView",
            "align_content": null,
            "align_items": null,
            "align_self": null,
            "border": null,
            "bottom": null,
            "display": null,
            "flex": null,
            "flex_flow": null,
            "grid_area": null,
            "grid_auto_columns": null,
            "grid_auto_flow": null,
            "grid_auto_rows": null,
            "grid_column": null,
            "grid_gap": null,
            "grid_row": null,
            "grid_template_areas": null,
            "grid_template_columns": null,
            "grid_template_rows": null,
            "height": null,
            "justify_content": null,
            "justify_items": null,
            "left": null,
            "margin": null,
            "max_height": null,
            "max_width": null,
            "min_height": null,
            "min_width": null,
            "object_fit": null,
            "object_position": null,
            "order": null,
            "overflow": null,
            "overflow_x": null,
            "overflow_y": null,
            "padding": null,
            "right": null,
            "top": null,
            "visibility": null,
            "width": null
          }
        },
        "ef57382cc74f493d8ee07b24776c7b16": {
          "model_module": "@jupyter-widgets/controls",
          "model_name": "DescriptionStyleModel",
          "model_module_version": "1.5.0",
          "state": {
            "_model_module": "@jupyter-widgets/controls",
            "_model_module_version": "1.5.0",
            "_model_name": "DescriptionStyleModel",
            "_view_count": null,
            "_view_module": "@jupyter-widgets/base",
            "_view_module_version": "1.2.0",
            "_view_name": "StyleView",
            "description_width": ""
          }
        },
        "2756949914fa40c0b56817cb726c68c4": {
          "model_module": "@jupyter-widgets/controls",
          "model_name": "TextModel",
          "model_module_version": "1.5.0",
          "state": {
            "_dom_classes": [],
            "_model_module": "@jupyter-widgets/controls",
            "_model_module_version": "1.5.0",
            "_model_name": "TextModel",
            "_view_count": null,
            "_view_module": "@jupyter-widgets/controls",
            "_view_module_version": "1.5.0",
            "_view_name": "TextView",
            "continuous_update": true,
            "description": "",
            "description_tooltip": null,
            "disabled": false,
            "layout": "IPY_MODEL_2504f1ff56fe48ca9266ff7d9b6331a6",
            "placeholder": "​",
            "style": "IPY_MODEL_ee548fa793ca452d9765b88140ad54f8",
            "value": " 5-7"
          }
        },
        "2504f1ff56fe48ca9266ff7d9b6331a6": {
          "model_module": "@jupyter-widgets/base",
          "model_name": "LayoutModel",
          "model_module_version": "1.2.0",
          "state": {
            "_model_module": "@jupyter-widgets/base",
            "_model_module_version": "1.2.0",
            "_model_name": "LayoutModel",
            "_view_count": null,
            "_view_module": "@jupyter-widgets/base",
            "_view_module_version": "1.2.0",
            "_view_name": "LayoutView",
            "align_content": null,
            "align_items": null,
            "align_self": null,
            "border": null,
            "bottom": null,
            "display": null,
            "flex": null,
            "flex_flow": null,
            "grid_area": null,
            "grid_auto_columns": null,
            "grid_auto_flow": null,
            "grid_auto_rows": null,
            "grid_column": null,
            "grid_gap": null,
            "grid_row": null,
            "grid_template_areas": null,
            "grid_template_columns": null,
            "grid_template_rows": null,
            "height": null,
            "justify_content": null,
            "justify_items": null,
            "left": null,
            "margin": null,
            "max_height": null,
            "max_width": null,
            "min_height": null,
            "min_width": null,
            "object_fit": null,
            "object_position": null,
            "order": null,
            "overflow": null,
            "overflow_x": null,
            "overflow_y": null,
            "padding": null,
            "right": null,
            "top": null,
            "visibility": null,
            "width": null
          }
        },
        "ee548fa793ca452d9765b88140ad54f8": {
          "model_module": "@jupyter-widgets/controls",
          "model_name": "DescriptionStyleModel",
          "model_module_version": "1.5.0",
          "state": {
            "_model_module": "@jupyter-widgets/controls",
            "_model_module_version": "1.5.0",
            "_model_name": "DescriptionStyleModel",
            "_view_count": null,
            "_view_module": "@jupyter-widgets/base",
            "_view_module_version": "1.2.0",
            "_view_name": "StyleView",
            "description_width": ""
          }
        },
        "5d828d7860c245a486d64af8399e29c6": {
          "model_module": "@jupyter-widgets/controls",
          "model_name": "TextModel",
          "model_module_version": "1.5.0",
          "state": {
            "_dom_classes": [],
            "_model_module": "@jupyter-widgets/controls",
            "_model_module_version": "1.5.0",
            "_model_name": "TextModel",
            "_view_count": null,
            "_view_module": "@jupyter-widgets/controls",
            "_view_module_version": "1.5.0",
            "_view_name": "TextView",
            "continuous_update": true,
            "description": "",
            "description_tooltip": null,
            "disabled": false,
            "layout": "IPY_MODEL_0713877e7d0b4f11904ee8dda2569596",
            "placeholder": "​",
            "style": "IPY_MODEL_b640dbdee0e64ae095f7c77df3c79125",
            "value": "8"
          }
        },
        "0713877e7d0b4f11904ee8dda2569596": {
          "model_module": "@jupyter-widgets/base",
          "model_name": "LayoutModel",
          "model_module_version": "1.2.0",
          "state": {
            "_model_module": "@jupyter-widgets/base",
            "_model_module_version": "1.2.0",
            "_model_name": "LayoutModel",
            "_view_count": null,
            "_view_module": "@jupyter-widgets/base",
            "_view_module_version": "1.2.0",
            "_view_name": "LayoutView",
            "align_content": null,
            "align_items": null,
            "align_self": null,
            "border": null,
            "bottom": null,
            "display": null,
            "flex": null,
            "flex_flow": null,
            "grid_area": null,
            "grid_auto_columns": null,
            "grid_auto_flow": null,
            "grid_auto_rows": null,
            "grid_column": null,
            "grid_gap": null,
            "grid_row": null,
            "grid_template_areas": null,
            "grid_template_columns": null,
            "grid_template_rows": null,
            "height": null,
            "justify_content": null,
            "justify_items": null,
            "left": null,
            "margin": null,
            "max_height": null,
            "max_width": null,
            "min_height": null,
            "min_width": null,
            "object_fit": null,
            "object_position": null,
            "order": null,
            "overflow": null,
            "overflow_x": null,
            "overflow_y": null,
            "padding": null,
            "right": null,
            "top": null,
            "visibility": null,
            "width": null
          }
        },
        "b640dbdee0e64ae095f7c77df3c79125": {
          "model_module": "@jupyter-widgets/controls",
          "model_name": "DescriptionStyleModel",
          "model_module_version": "1.5.0",
          "state": {
            "_model_module": "@jupyter-widgets/controls",
            "_model_module_version": "1.5.0",
            "_model_name": "DescriptionStyleModel",
            "_view_count": null,
            "_view_module": "@jupyter-widgets/base",
            "_view_module_version": "1.2.0",
            "_view_name": "StyleView",
            "description_width": ""
          }
        },
        "144c652f295a450c89e2d15cbf1f2b7b": {
          "model_module": "@jupyter-widgets/controls",
          "model_name": "TextModel",
          "model_module_version": "1.5.0",
          "state": {
            "_dom_classes": [],
            "_model_module": "@jupyter-widgets/controls",
            "_model_module_version": "1.5.0",
            "_model_name": "TextModel",
            "_view_count": null,
            "_view_module": "@jupyter-widgets/controls",
            "_view_module_version": "1.5.0",
            "_view_name": "TextView",
            "continuous_update": true,
            "description": "",
            "description_tooltip": null,
            "disabled": false,
            "layout": "IPY_MODEL_c46e2a38a4d74556892a9f090b10236a",
            "placeholder": "​",
            "style": "IPY_MODEL_e31699ddeba141b7acece42691e55a1e",
            "value": "-"
          }
        },
        "c46e2a38a4d74556892a9f090b10236a": {
          "model_module": "@jupyter-widgets/base",
          "model_name": "LayoutModel",
          "model_module_version": "1.2.0",
          "state": {
            "_model_module": "@jupyter-widgets/base",
            "_model_module_version": "1.2.0",
            "_model_name": "LayoutModel",
            "_view_count": null,
            "_view_module": "@jupyter-widgets/base",
            "_view_module_version": "1.2.0",
            "_view_name": "LayoutView",
            "align_content": null,
            "align_items": null,
            "align_self": null,
            "border": null,
            "bottom": null,
            "display": null,
            "flex": null,
            "flex_flow": null,
            "grid_area": null,
            "grid_auto_columns": null,
            "grid_auto_flow": null,
            "grid_auto_rows": null,
            "grid_column": null,
            "grid_gap": null,
            "grid_row": null,
            "grid_template_areas": null,
            "grid_template_columns": null,
            "grid_template_rows": null,
            "height": null,
            "justify_content": null,
            "justify_items": null,
            "left": null,
            "margin": null,
            "max_height": null,
            "max_width": null,
            "min_height": null,
            "min_width": null,
            "object_fit": null,
            "object_position": null,
            "order": null,
            "overflow": null,
            "overflow_x": null,
            "overflow_y": null,
            "padding": null,
            "right": null,
            "top": null,
            "visibility": null,
            "width": null
          }
        },
        "e31699ddeba141b7acece42691e55a1e": {
          "model_module": "@jupyter-widgets/controls",
          "model_name": "DescriptionStyleModel",
          "model_module_version": "1.5.0",
          "state": {
            "_model_module": "@jupyter-widgets/controls",
            "_model_module_version": "1.5.0",
            "_model_name": "DescriptionStyleModel",
            "_view_count": null,
            "_view_module": "@jupyter-widgets/base",
            "_view_module_version": "1.2.0",
            "_view_name": "StyleView",
            "description_width": ""
          }
        },
        "ca97d51ed8524974aadb373e0afad1de": {
          "model_module": "@jupyter-widgets/controls",
          "model_name": "TextModel",
          "model_module_version": "1.5.0",
          "state": {
            "_dom_classes": [],
            "_model_module": "@jupyter-widgets/controls",
            "_model_module_version": "1.5.0",
            "_model_name": "TextModel",
            "_view_count": null,
            "_view_module": "@jupyter-widgets/controls",
            "_view_module_version": "1.5.0",
            "_view_name": "TextView",
            "continuous_update": true,
            "description": "",
            "description_tooltip": null,
            "disabled": false,
            "layout": "IPY_MODEL_c9b6a4a6353143b991d8c274f5c591fd",
            "placeholder": "​",
            "style": "IPY_MODEL_4bcf9cdfca734649b9d1803ce6a4c538",
            "value": "8"
          }
        },
        "c9b6a4a6353143b991d8c274f5c591fd": {
          "model_module": "@jupyter-widgets/base",
          "model_name": "LayoutModel",
          "model_module_version": "1.2.0",
          "state": {
            "_model_module": "@jupyter-widgets/base",
            "_model_module_version": "1.2.0",
            "_model_name": "LayoutModel",
            "_view_count": null,
            "_view_module": "@jupyter-widgets/base",
            "_view_module_version": "1.2.0",
            "_view_name": "LayoutView",
            "align_content": null,
            "align_items": null,
            "align_self": null,
            "border": null,
            "bottom": null,
            "display": null,
            "flex": null,
            "flex_flow": null,
            "grid_area": null,
            "grid_auto_columns": null,
            "grid_auto_flow": null,
            "grid_auto_rows": null,
            "grid_column": null,
            "grid_gap": null,
            "grid_row": null,
            "grid_template_areas": null,
            "grid_template_columns": null,
            "grid_template_rows": null,
            "height": null,
            "justify_content": null,
            "justify_items": null,
            "left": null,
            "margin": null,
            "max_height": null,
            "max_width": null,
            "min_height": null,
            "min_width": null,
            "object_fit": null,
            "object_position": null,
            "order": null,
            "overflow": null,
            "overflow_x": null,
            "overflow_y": null,
            "padding": null,
            "right": null,
            "top": null,
            "visibility": null,
            "width": null
          }
        },
        "4bcf9cdfca734649b9d1803ce6a4c538": {
          "model_module": "@jupyter-widgets/controls",
          "model_name": "DescriptionStyleModel",
          "model_module_version": "1.5.0",
          "state": {
            "_model_module": "@jupyter-widgets/controls",
            "_model_module_version": "1.5.0",
            "_model_name": "DescriptionStyleModel",
            "_view_count": null,
            "_view_module": "@jupyter-widgets/base",
            "_view_module_version": "1.2.0",
            "_view_name": "StyleView",
            "description_width": ""
          }
        },
        "6a7b1462769e49629f2239e9f111a0e0": {
          "model_module": "@jupyter-widgets/controls",
          "model_name": "TextModel",
          "model_module_version": "1.5.0",
          "state": {
            "_dom_classes": [],
            "_model_module": "@jupyter-widgets/controls",
            "_model_module_version": "1.5.0",
            "_model_name": "TextModel",
            "_view_count": null,
            "_view_module": "@jupyter-widgets/controls",
            "_view_module_version": "1.5.0",
            "_view_name": "TextView",
            "continuous_update": true,
            "description": "",
            "description_tooltip": null,
            "disabled": false,
            "layout": "IPY_MODEL_25e7dcbe4f374d5fbfdd5b1ea7bf8df4",
            "placeholder": "​",
            "style": "IPY_MODEL_9bb03b5106bb4847a01b18317f9e4a6b",
            "value": " mult f2,f1,f1"
          }
        },
        "25e7dcbe4f374d5fbfdd5b1ea7bf8df4": {
          "model_module": "@jupyter-widgets/base",
          "model_name": "LayoutModel",
          "model_module_version": "1.2.0",
          "state": {
            "_model_module": "@jupyter-widgets/base",
            "_model_module_version": "1.2.0",
            "_model_name": "LayoutModel",
            "_view_count": null,
            "_view_module": "@jupyter-widgets/base",
            "_view_module_version": "1.2.0",
            "_view_name": "LayoutView",
            "align_content": null,
            "align_items": null,
            "align_self": null,
            "border": null,
            "bottom": null,
            "display": null,
            "flex": null,
            "flex_flow": null,
            "grid_area": null,
            "grid_auto_columns": null,
            "grid_auto_flow": null,
            "grid_auto_rows": null,
            "grid_column": null,
            "grid_gap": null,
            "grid_row": null,
            "grid_template_areas": null,
            "grid_template_columns": null,
            "grid_template_rows": null,
            "height": null,
            "justify_content": null,
            "justify_items": null,
            "left": null,
            "margin": null,
            "max_height": null,
            "max_width": null,
            "min_height": null,
            "min_width": null,
            "object_fit": null,
            "object_position": null,
            "order": null,
            "overflow": null,
            "overflow_x": null,
            "overflow_y": null,
            "padding": null,
            "right": null,
            "top": null,
            "visibility": null,
            "width": null
          }
        },
        "9bb03b5106bb4847a01b18317f9e4a6b": {
          "model_module": "@jupyter-widgets/controls",
          "model_name": "DescriptionStyleModel",
          "model_module_version": "1.5.0",
          "state": {
            "_model_module": "@jupyter-widgets/controls",
            "_model_module_version": "1.5.0",
            "_model_name": "DescriptionStyleModel",
            "_view_count": null,
            "_view_module": "@jupyter-widgets/base",
            "_view_module_version": "1.2.0",
            "_view_name": "StyleView",
            "description_width": ""
          }
        },
        "4da65d4c3a7d4e64b3c4760645afff57": {
          "model_module": "@jupyter-widgets/controls",
          "model_name": "TextModel",
          "model_module_version": "1.5.0",
          "state": {
            "_dom_classes": [],
            "_model_module": "@jupyter-widgets/controls",
            "_model_module_version": "1.5.0",
            "_model_name": "TextModel",
            "_view_count": null,
            "_view_module": "@jupyter-widgets/controls",
            "_view_module_version": "1.5.0",
            "_view_name": "TextView",
            "continuous_update": true,
            "description": "",
            "description_tooltip": null,
            "disabled": false,
            "layout": "IPY_MODEL_246ce0a79e6243b0847c89e14102f21e",
            "placeholder": "​",
            "style": "IPY_MODEL_8038c5ff8a6d41ebac3d50acaca48ade",
            "value": " 3-4"
          }
        },
        "246ce0a79e6243b0847c89e14102f21e": {
          "model_module": "@jupyter-widgets/base",
          "model_name": "LayoutModel",
          "model_module_version": "1.2.0",
          "state": {
            "_model_module": "@jupyter-widgets/base",
            "_model_module_version": "1.2.0",
            "_model_name": "LayoutModel",
            "_view_count": null,
            "_view_module": "@jupyter-widgets/base",
            "_view_module_version": "1.2.0",
            "_view_name": "LayoutView",
            "align_content": null,
            "align_items": null,
            "align_self": null,
            "border": null,
            "bottom": null,
            "display": null,
            "flex": null,
            "flex_flow": null,
            "grid_area": null,
            "grid_auto_columns": null,
            "grid_auto_flow": null,
            "grid_auto_rows": null,
            "grid_column": null,
            "grid_gap": null,
            "grid_row": null,
            "grid_template_areas": null,
            "grid_template_columns": null,
            "grid_template_rows": null,
            "height": null,
            "justify_content": null,
            "justify_items": null,
            "left": null,
            "margin": null,
            "max_height": null,
            "max_width": null,
            "min_height": null,
            "min_width": null,
            "object_fit": null,
            "object_position": null,
            "order": null,
            "overflow": null,
            "overflow_x": null,
            "overflow_y": null,
            "padding": null,
            "right": null,
            "top": null,
            "visibility": null,
            "width": null
          }
        },
        "8038c5ff8a6d41ebac3d50acaca48ade": {
          "model_module": "@jupyter-widgets/controls",
          "model_name": "DescriptionStyleModel",
          "model_module_version": "1.5.0",
          "state": {
            "_model_module": "@jupyter-widgets/controls",
            "_model_module_version": "1.5.0",
            "_model_name": "DescriptionStyleModel",
            "_view_count": null,
            "_view_module": "@jupyter-widgets/base",
            "_view_module_version": "1.2.0",
            "_view_name": "StyleView",
            "description_width": ""
          }
        },
        "cf0155f296be48a7be4d6c391cf42bca": {
          "model_module": "@jupyter-widgets/controls",
          "model_name": "TextModel",
          "model_module_version": "1.5.0",
          "state": {
            "_dom_classes": [],
            "_model_module": "@jupyter-widgets/controls",
            "_model_module_version": "1.5.0",
            "_model_name": "TextModel",
            "_view_count": null,
            "_view_module": "@jupyter-widgets/controls",
            "_view_module_version": "1.5.0",
            "_view_name": "TextView",
            "continuous_update": true,
            "description": "",
            "description_tooltip": null,
            "disabled": false,
            "layout": "IPY_MODEL_2e7f3217d0e747e994aeb06b7e7b516a",
            "placeholder": "​",
            "style": "IPY_MODEL_d9207c5203ef4470a61f18ebc42ca98b",
            "value": "-"
          }
        },
        "2e7f3217d0e747e994aeb06b7e7b516a": {
          "model_module": "@jupyter-widgets/base",
          "model_name": "LayoutModel",
          "model_module_version": "1.2.0",
          "state": {
            "_model_module": "@jupyter-widgets/base",
            "_model_module_version": "1.2.0",
            "_model_name": "LayoutModel",
            "_view_count": null,
            "_view_module": "@jupyter-widgets/base",
            "_view_module_version": "1.2.0",
            "_view_name": "LayoutView",
            "align_content": null,
            "align_items": null,
            "align_self": null,
            "border": null,
            "bottom": null,
            "display": null,
            "flex": null,
            "flex_flow": null,
            "grid_area": null,
            "grid_auto_columns": null,
            "grid_auto_flow": null,
            "grid_auto_rows": null,
            "grid_column": null,
            "grid_gap": null,
            "grid_row": null,
            "grid_template_areas": null,
            "grid_template_columns": null,
            "grid_template_rows": null,
            "height": null,
            "justify_content": null,
            "justify_items": null,
            "left": null,
            "margin": null,
            "max_height": null,
            "max_width": null,
            "min_height": null,
            "min_width": null,
            "object_fit": null,
            "object_position": null,
            "order": null,
            "overflow": null,
            "overflow_x": null,
            "overflow_y": null,
            "padding": null,
            "right": null,
            "top": null,
            "visibility": null,
            "width": null
          }
        },
        "d9207c5203ef4470a61f18ebc42ca98b": {
          "model_module": "@jupyter-widgets/controls",
          "model_name": "DescriptionStyleModel",
          "model_module_version": "1.5.0",
          "state": {
            "_model_module": "@jupyter-widgets/controls",
            "_model_module_version": "1.5.0",
            "_model_name": "DescriptionStyleModel",
            "_view_count": null,
            "_view_module": "@jupyter-widgets/base",
            "_view_module_version": "1.2.0",
            "_view_name": "StyleView",
            "description_width": ""
          }
        },
        "35ca585b85a84fb1bc09bff34ca6d7bf": {
          "model_module": "@jupyter-widgets/controls",
          "model_name": "TextModel",
          "model_module_version": "1.5.0",
          "state": {
            "_dom_classes": [],
            "_model_module": "@jupyter-widgets/controls",
            "_model_module_version": "1.5.0",
            "_model_name": "TextModel",
            "_view_count": null,
            "_view_module": "@jupyter-widgets/controls",
            "_view_module_version": "1.5.0",
            "_view_name": "TextView",
            "continuous_update": true,
            "description": "",
            "description_tooltip": null,
            "disabled": false,
            "layout": "IPY_MODEL_4a1346e10ba2446693bf5c23a9108e28",
            "placeholder": "​",
            "style": "IPY_MODEL_068a9c41efd54f0483498328625bb2d1",
            "value": "-"
          }
        },
        "4a1346e10ba2446693bf5c23a9108e28": {
          "model_module": "@jupyter-widgets/base",
          "model_name": "LayoutModel",
          "model_module_version": "1.2.0",
          "state": {
            "_model_module": "@jupyter-widgets/base",
            "_model_module_version": "1.2.0",
            "_model_name": "LayoutModel",
            "_view_count": null,
            "_view_module": "@jupyter-widgets/base",
            "_view_module_version": "1.2.0",
            "_view_name": "LayoutView",
            "align_content": null,
            "align_items": null,
            "align_self": null,
            "border": null,
            "bottom": null,
            "display": null,
            "flex": null,
            "flex_flow": null,
            "grid_area": null,
            "grid_auto_columns": null,
            "grid_auto_flow": null,
            "grid_auto_rows": null,
            "grid_column": null,
            "grid_gap": null,
            "grid_row": null,
            "grid_template_areas": null,
            "grid_template_columns": null,
            "grid_template_rows": null,
            "height": null,
            "justify_content": null,
            "justify_items": null,
            "left": null,
            "margin": null,
            "max_height": null,
            "max_width": null,
            "min_height": null,
            "min_width": null,
            "object_fit": null,
            "object_position": null,
            "order": null,
            "overflow": null,
            "overflow_x": null,
            "overflow_y": null,
            "padding": null,
            "right": null,
            "top": null,
            "visibility": null,
            "width": null
          }
        },
        "068a9c41efd54f0483498328625bb2d1": {
          "model_module": "@jupyter-widgets/controls",
          "model_name": "DescriptionStyleModel",
          "model_module_version": "1.5.0",
          "state": {
            "_model_module": "@jupyter-widgets/controls",
            "_model_module_version": "1.5.0",
            "_model_name": "DescriptionStyleModel",
            "_view_count": null,
            "_view_module": "@jupyter-widgets/base",
            "_view_module_version": "1.2.0",
            "_view_name": "StyleView",
            "description_width": ""
          }
        },
        "79ef1a60415948f29efe10de3cc6f194": {
          "model_module": "@jupyter-widgets/controls",
          "model_name": "TextModel",
          "model_module_version": "1.5.0",
          "state": {
            "_dom_classes": [],
            "_model_module": "@jupyter-widgets/controls",
            "_model_module_version": "1.5.0",
            "_model_name": "TextModel",
            "_view_count": null,
            "_view_module": "@jupyter-widgets/controls",
            "_view_module_version": "1.5.0",
            "_view_name": "TextView",
            "continuous_update": true,
            "description": "",
            "description_tooltip": null,
            "disabled": false,
            "layout": "IPY_MODEL_7bc33e6609fa4decba02bccb793ea142",
            "placeholder": "​",
            "style": "IPY_MODEL_fd7643f0feed4193804a6aadeb72176d",
            "value": "-"
          }
        },
        "7bc33e6609fa4decba02bccb793ea142": {
          "model_module": "@jupyter-widgets/base",
          "model_name": "LayoutModel",
          "model_module_version": "1.2.0",
          "state": {
            "_model_module": "@jupyter-widgets/base",
            "_model_module_version": "1.2.0",
            "_model_name": "LayoutModel",
            "_view_count": null,
            "_view_module": "@jupyter-widgets/base",
            "_view_module_version": "1.2.0",
            "_view_name": "LayoutView",
            "align_content": null,
            "align_items": null,
            "align_self": null,
            "border": null,
            "bottom": null,
            "display": null,
            "flex": null,
            "flex_flow": null,
            "grid_area": null,
            "grid_auto_columns": null,
            "grid_auto_flow": null,
            "grid_auto_rows": null,
            "grid_column": null,
            "grid_gap": null,
            "grid_row": null,
            "grid_template_areas": null,
            "grid_template_columns": null,
            "grid_template_rows": null,
            "height": null,
            "justify_content": null,
            "justify_items": null,
            "left": null,
            "margin": null,
            "max_height": null,
            "max_width": null,
            "min_height": null,
            "min_width": null,
            "object_fit": null,
            "object_position": null,
            "order": null,
            "overflow": null,
            "overflow_x": null,
            "overflow_y": null,
            "padding": null,
            "right": null,
            "top": null,
            "visibility": null,
            "width": null
          }
        },
        "fd7643f0feed4193804a6aadeb72176d": {
          "model_module": "@jupyter-widgets/controls",
          "model_name": "DescriptionStyleModel",
          "model_module_version": "1.5.0",
          "state": {
            "_model_module": "@jupyter-widgets/controls",
            "_model_module_version": "1.5.0",
            "_model_name": "DescriptionStyleModel",
            "_view_count": null,
            "_view_module": "@jupyter-widgets/base",
            "_view_module_version": "1.2.0",
            "_view_name": "StyleView",
            "description_width": ""
          }
        },
        "5084aca3383941e9ae4150fca1ed8406": {
          "model_module": "@jupyter-widgets/controls",
          "model_name": "TextModel",
          "model_module_version": "1.5.0",
          "state": {
            "_dom_classes": [],
            "_model_module": "@jupyter-widgets/controls",
            "_model_module_version": "1.5.0",
            "_model_name": "TextModel",
            "_view_count": null,
            "_view_module": "@jupyter-widgets/controls",
            "_view_module_version": "1.5.0",
            "_view_name": "TextView",
            "continuous_update": true,
            "description": "",
            "description_tooltip": null,
            "disabled": false,
            "layout": "IPY_MODEL_33f29e826abe4b8da8c28dfc8a4af7b8",
            "placeholder": "​",
            "style": "IPY_MODEL_4eb9fb94d5984199a74d7b190419bd7d",
            "value": "-"
          }
        },
        "33f29e826abe4b8da8c28dfc8a4af7b8": {
          "model_module": "@jupyter-widgets/base",
          "model_name": "LayoutModel",
          "model_module_version": "1.2.0",
          "state": {
            "_model_module": "@jupyter-widgets/base",
            "_model_module_version": "1.2.0",
            "_model_name": "LayoutModel",
            "_view_count": null,
            "_view_module": "@jupyter-widgets/base",
            "_view_module_version": "1.2.0",
            "_view_name": "LayoutView",
            "align_content": null,
            "align_items": null,
            "align_self": null,
            "border": null,
            "bottom": null,
            "display": null,
            "flex": null,
            "flex_flow": null,
            "grid_area": null,
            "grid_auto_columns": null,
            "grid_auto_flow": null,
            "grid_auto_rows": null,
            "grid_column": null,
            "grid_gap": null,
            "grid_row": null,
            "grid_template_areas": null,
            "grid_template_columns": null,
            "grid_template_rows": null,
            "height": null,
            "justify_content": null,
            "justify_items": null,
            "left": null,
            "margin": null,
            "max_height": null,
            "max_width": null,
            "min_height": null,
            "min_width": null,
            "object_fit": null,
            "object_position": null,
            "order": null,
            "overflow": null,
            "overflow_x": null,
            "overflow_y": null,
            "padding": null,
            "right": null,
            "top": null,
            "visibility": null,
            "width": null
          }
        },
        "4eb9fb94d5984199a74d7b190419bd7d": {
          "model_module": "@jupyter-widgets/controls",
          "model_name": "DescriptionStyleModel",
          "model_module_version": "1.5.0",
          "state": {
            "_model_module": "@jupyter-widgets/controls",
            "_model_module_version": "1.5.0",
            "_model_name": "DescriptionStyleModel",
            "_view_count": null,
            "_view_module": "@jupyter-widgets/base",
            "_view_module_version": "1.2.0",
            "_view_name": "StyleView",
            "description_width": ""
          }
        },
        "42b8800e35ab44e7b8b7fa5bd22f70e6": {
          "model_module": "@jupyter-widgets/controls",
          "model_name": "TextModel",
          "model_module_version": "1.5.0",
          "state": {
            "_dom_classes": [],
            "_model_module": "@jupyter-widgets/controls",
            "_model_module_version": "1.5.0",
            "_model_name": "TextModel",
            "_view_count": null,
            "_view_module": "@jupyter-widgets/controls",
            "_view_module_version": "1.5.0",
            "_view_name": "TextView",
            "continuous_update": true,
            "description": "",
            "description_tooltip": null,
            "disabled": false,
            "layout": "IPY_MODEL_a9528a6bf0324002b852ee93d0445b32",
            "placeholder": "​",
            "style": "IPY_MODEL_59b0b5622bb14c64bc03827ea70a92ef",
            "value": "12"
          }
        },
        "a9528a6bf0324002b852ee93d0445b32": {
          "model_module": "@jupyter-widgets/base",
          "model_name": "LayoutModel",
          "model_module_version": "1.2.0",
          "state": {
            "_model_module": "@jupyter-widgets/base",
            "_model_module_version": "1.2.0",
            "_model_name": "LayoutModel",
            "_view_count": null,
            "_view_module": "@jupyter-widgets/base",
            "_view_module_version": "1.2.0",
            "_view_name": "LayoutView",
            "align_content": null,
            "align_items": null,
            "align_self": null,
            "border": null,
            "bottom": null,
            "display": null,
            "flex": null,
            "flex_flow": null,
            "grid_area": null,
            "grid_auto_columns": null,
            "grid_auto_flow": null,
            "grid_auto_rows": null,
            "grid_column": null,
            "grid_gap": null,
            "grid_row": null,
            "grid_template_areas": null,
            "grid_template_columns": null,
            "grid_template_rows": null,
            "height": null,
            "justify_content": null,
            "justify_items": null,
            "left": null,
            "margin": null,
            "max_height": null,
            "max_width": null,
            "min_height": null,
            "min_width": null,
            "object_fit": null,
            "object_position": null,
            "order": null,
            "overflow": null,
            "overflow_x": null,
            "overflow_y": null,
            "padding": null,
            "right": null,
            "top": null,
            "visibility": null,
            "width": null
          }
        },
        "59b0b5622bb14c64bc03827ea70a92ef": {
          "model_module": "@jupyter-widgets/controls",
          "model_name": "DescriptionStyleModel",
          "model_module_version": "1.5.0",
          "state": {
            "_model_module": "@jupyter-widgets/controls",
            "_model_module_version": "1.5.0",
            "_model_name": "DescriptionStyleModel",
            "_view_count": null,
            "_view_module": "@jupyter-widgets/base",
            "_view_module_version": "1.2.0",
            "_view_name": "StyleView",
            "description_width": ""
          }
        },
        "4fce8f611c3048cb8c9021976b94dc26": {
          "model_module": "@jupyter-widgets/controls",
          "model_name": "TextModel",
          "model_module_version": "1.5.0",
          "state": {
            "_dom_classes": [],
            "_model_module": "@jupyter-widgets/controls",
            "_model_module_version": "1.5.0",
            "_model_name": "TextModel",
            "_view_count": null,
            "_view_module": "@jupyter-widgets/controls",
            "_view_module_version": "1.5.0",
            "_view_name": "TextView",
            "continuous_update": true,
            "description": "",
            "description_tooltip": null,
            "disabled": false,
            "layout": "IPY_MODEL_f2b711470e3f4fd6918109022dd2be52",
            "placeholder": "​",
            "style": "IPY_MODEL_fdc1b0e2d4b6406ea4df1677978fcf7c",
            "value": " add f4,f1,f2"
          }
        },
        "f2b711470e3f4fd6918109022dd2be52": {
          "model_module": "@jupyter-widgets/base",
          "model_name": "LayoutModel",
          "model_module_version": "1.2.0",
          "state": {
            "_model_module": "@jupyter-widgets/base",
            "_model_module_version": "1.2.0",
            "_model_name": "LayoutModel",
            "_view_count": null,
            "_view_module": "@jupyter-widgets/base",
            "_view_module_version": "1.2.0",
            "_view_name": "LayoutView",
            "align_content": null,
            "align_items": null,
            "align_self": null,
            "border": null,
            "bottom": null,
            "display": null,
            "flex": null,
            "flex_flow": null,
            "grid_area": null,
            "grid_auto_columns": null,
            "grid_auto_flow": null,
            "grid_auto_rows": null,
            "grid_column": null,
            "grid_gap": null,
            "grid_row": null,
            "grid_template_areas": null,
            "grid_template_columns": null,
            "grid_template_rows": null,
            "height": null,
            "justify_content": null,
            "justify_items": null,
            "left": null,
            "margin": null,
            "max_height": null,
            "max_width": null,
            "min_height": null,
            "min_width": null,
            "object_fit": null,
            "object_position": null,
            "order": null,
            "overflow": null,
            "overflow_x": null,
            "overflow_y": null,
            "padding": null,
            "right": null,
            "top": null,
            "visibility": null,
            "width": null
          }
        },
        "fdc1b0e2d4b6406ea4df1677978fcf7c": {
          "model_module": "@jupyter-widgets/controls",
          "model_name": "DescriptionStyleModel",
          "model_module_version": "1.5.0",
          "state": {
            "_model_module": "@jupyter-widgets/controls",
            "_model_module_version": "1.5.0",
            "_model_name": "DescriptionStyleModel",
            "_view_count": null,
            "_view_module": "@jupyter-widgets/base",
            "_view_module_version": "1.2.0",
            "_view_name": "StyleView",
            "description_width": ""
          }
        },
        "6f9d7af49756446da43c23ac0adcf071": {
          "model_module": "@jupyter-widgets/controls",
          "model_name": "TextModel",
          "model_module_version": "1.5.0",
          "state": {
            "_dom_classes": [],
            "_model_module": "@jupyter-widgets/controls",
            "_model_module_version": "1.5.0",
            "_model_name": "TextModel",
            "_view_count": null,
            "_view_module": "@jupyter-widgets/controls",
            "_view_module_version": "1.5.0",
            "_view_name": "TextView",
            "continuous_update": true,
            "description": "",
            "description_tooltip": null,
            "disabled": false,
            "layout": "IPY_MODEL_e04b028b55af42cf8c749c8a717a9759",
            "placeholder": "​",
            "style": "IPY_MODEL_4cf1b5a27c20453eaf9b3695fe508667",
            "value": "-"
          }
        },
        "e04b028b55af42cf8c749c8a717a9759": {
          "model_module": "@jupyter-widgets/base",
          "model_name": "LayoutModel",
          "model_module_version": "1.2.0",
          "state": {
            "_model_module": "@jupyter-widgets/base",
            "_model_module_version": "1.2.0",
            "_model_name": "LayoutModel",
            "_view_count": null,
            "_view_module": "@jupyter-widgets/base",
            "_view_module_version": "1.2.0",
            "_view_name": "LayoutView",
            "align_content": null,
            "align_items": null,
            "align_self": null,
            "border": null,
            "bottom": null,
            "display": null,
            "flex": null,
            "flex_flow": null,
            "grid_area": null,
            "grid_auto_columns": null,
            "grid_auto_flow": null,
            "grid_auto_rows": null,
            "grid_column": null,
            "grid_gap": null,
            "grid_row": null,
            "grid_template_areas": null,
            "grid_template_columns": null,
            "grid_template_rows": null,
            "height": null,
            "justify_content": null,
            "justify_items": null,
            "left": null,
            "margin": null,
            "max_height": null,
            "max_width": null,
            "min_height": null,
            "min_width": null,
            "object_fit": null,
            "object_position": null,
            "order": null,
            "overflow": null,
            "overflow_x": null,
            "overflow_y": null,
            "padding": null,
            "right": null,
            "top": null,
            "visibility": null,
            "width": null
          }
        },
        "4cf1b5a27c20453eaf9b3695fe508667": {
          "model_module": "@jupyter-widgets/controls",
          "model_name": "DescriptionStyleModel",
          "model_module_version": "1.5.0",
          "state": {
            "_model_module": "@jupyter-widgets/controls",
            "_model_module_version": "1.5.0",
            "_model_name": "DescriptionStyleModel",
            "_view_count": null,
            "_view_module": "@jupyter-widgets/base",
            "_view_module_version": "1.2.0",
            "_view_name": "StyleView",
            "description_width": ""
          }
        },
        "e18fb8f7776240678cc547cfad2e711c": {
          "model_module": "@jupyter-widgets/controls",
          "model_name": "TextModel",
          "model_module_version": "1.5.0",
          "state": {
            "_dom_classes": [],
            "_model_module": "@jupyter-widgets/controls",
            "_model_module_version": "1.5.0",
            "_model_name": "TextModel",
            "_view_count": null,
            "_view_module": "@jupyter-widgets/controls",
            "_view_module_version": "1.5.0",
            "_view_name": "TextView",
            "continuous_update": true,
            "description": "",
            "description_tooltip": null,
            "disabled": false,
            "layout": "IPY_MODEL_38f35dfe525a4d49b700e5ca04feab78",
            "placeholder": "​",
            "style": "IPY_MODEL_cc2a2a1fe7af46cfbd41567f0943d382",
            "value": "-"
          }
        },
        "38f35dfe525a4d49b700e5ca04feab78": {
          "model_module": "@jupyter-widgets/base",
          "model_name": "LayoutModel",
          "model_module_version": "1.2.0",
          "state": {
            "_model_module": "@jupyter-widgets/base",
            "_model_module_version": "1.2.0",
            "_model_name": "LayoutModel",
            "_view_count": null,
            "_view_module": "@jupyter-widgets/base",
            "_view_module_version": "1.2.0",
            "_view_name": "LayoutView",
            "align_content": null,
            "align_items": null,
            "align_self": null,
            "border": null,
            "bottom": null,
            "display": null,
            "flex": null,
            "flex_flow": null,
            "grid_area": null,
            "grid_auto_columns": null,
            "grid_auto_flow": null,
            "grid_auto_rows": null,
            "grid_column": null,
            "grid_gap": null,
            "grid_row": null,
            "grid_template_areas": null,
            "grid_template_columns": null,
            "grid_template_rows": null,
            "height": null,
            "justify_content": null,
            "justify_items": null,
            "left": null,
            "margin": null,
            "max_height": null,
            "max_width": null,
            "min_height": null,
            "min_width": null,
            "object_fit": null,
            "object_position": null,
            "order": null,
            "overflow": null,
            "overflow_x": null,
            "overflow_y": null,
            "padding": null,
            "right": null,
            "top": null,
            "visibility": null,
            "width": null
          }
        },
        "cc2a2a1fe7af46cfbd41567f0943d382": {
          "model_module": "@jupyter-widgets/controls",
          "model_name": "DescriptionStyleModel",
          "model_module_version": "1.5.0",
          "state": {
            "_model_module": "@jupyter-widgets/controls",
            "_model_module_version": "1.5.0",
            "_model_name": "DescriptionStyleModel",
            "_view_count": null,
            "_view_module": "@jupyter-widgets/base",
            "_view_module_version": "1.2.0",
            "_view_name": "StyleView",
            "description_width": ""
          }
        },
        "16b8c48f20f7483188e0c09d200d3141": {
          "model_module": "@jupyter-widgets/controls",
          "model_name": "TextModel",
          "model_module_version": "1.5.0",
          "state": {
            "_dom_classes": [],
            "_model_module": "@jupyter-widgets/controls",
            "_model_module_version": "1.5.0",
            "_model_name": "TextModel",
            "_view_count": null,
            "_view_module": "@jupyter-widgets/controls",
            "_view_module_version": "1.5.0",
            "_view_name": "TextView",
            "continuous_update": true,
            "description": "",
            "description_tooltip": null,
            "disabled": false,
            "layout": "IPY_MODEL_f0e0bfd70bdc423bac54fbaba992b4ba",
            "placeholder": "​",
            "style": "IPY_MODEL_ab0e17b75ec445c3a8bcb110704b899e",
            "value": "-"
          }
        },
        "f0e0bfd70bdc423bac54fbaba992b4ba": {
          "model_module": "@jupyter-widgets/base",
          "model_name": "LayoutModel",
          "model_module_version": "1.2.0",
          "state": {
            "_model_module": "@jupyter-widgets/base",
            "_model_module_version": "1.2.0",
            "_model_name": "LayoutModel",
            "_view_count": null,
            "_view_module": "@jupyter-widgets/base",
            "_view_module_version": "1.2.0",
            "_view_name": "LayoutView",
            "align_content": null,
            "align_items": null,
            "align_self": null,
            "border": null,
            "bottom": null,
            "display": null,
            "flex": null,
            "flex_flow": null,
            "grid_area": null,
            "grid_auto_columns": null,
            "grid_auto_flow": null,
            "grid_auto_rows": null,
            "grid_column": null,
            "grid_gap": null,
            "grid_row": null,
            "grid_template_areas": null,
            "grid_template_columns": null,
            "grid_template_rows": null,
            "height": null,
            "justify_content": null,
            "justify_items": null,
            "left": null,
            "margin": null,
            "max_height": null,
            "max_width": null,
            "min_height": null,
            "min_width": null,
            "object_fit": null,
            "object_position": null,
            "order": null,
            "overflow": null,
            "overflow_x": null,
            "overflow_y": null,
            "padding": null,
            "right": null,
            "top": null,
            "visibility": null,
            "width": null
          }
        },
        "ab0e17b75ec445c3a8bcb110704b899e": {
          "model_module": "@jupyter-widgets/controls",
          "model_name": "DescriptionStyleModel",
          "model_module_version": "1.5.0",
          "state": {
            "_model_module": "@jupyter-widgets/controls",
            "_model_module_version": "1.5.0",
            "_model_name": "DescriptionStyleModel",
            "_view_count": null,
            "_view_module": "@jupyter-widgets/base",
            "_view_module_version": "1.2.0",
            "_view_name": "StyleView",
            "description_width": ""
          }
        },
        "28dbb9591fb14226a8a58b0ba28dabf9": {
          "model_module": "@jupyter-widgets/controls",
          "model_name": "TextModel",
          "model_module_version": "1.5.0",
          "state": {
            "_dom_classes": [],
            "_model_module": "@jupyter-widgets/controls",
            "_model_module_version": "1.5.0",
            "_model_name": "TextModel",
            "_view_count": null,
            "_view_module": "@jupyter-widgets/controls",
            "_view_module_version": "1.5.0",
            "_view_name": "TextView",
            "continuous_update": true,
            "description": "",
            "description_tooltip": null,
            "disabled": false,
            "layout": "IPY_MODEL_694a8af2d0014c5b9a382bb89860758c",
            "placeholder": "​",
            "style": "IPY_MODEL_0f0359d3bf5349f4b1d9a2c52b74b420",
            "value": "-"
          }
        },
        "694a8af2d0014c5b9a382bb89860758c": {
          "model_module": "@jupyter-widgets/base",
          "model_name": "LayoutModel",
          "model_module_version": "1.2.0",
          "state": {
            "_model_module": "@jupyter-widgets/base",
            "_model_module_version": "1.2.0",
            "_model_name": "LayoutModel",
            "_view_count": null,
            "_view_module": "@jupyter-widgets/base",
            "_view_module_version": "1.2.0",
            "_view_name": "LayoutView",
            "align_content": null,
            "align_items": null,
            "align_self": null,
            "border": null,
            "bottom": null,
            "display": null,
            "flex": null,
            "flex_flow": null,
            "grid_area": null,
            "grid_auto_columns": null,
            "grid_auto_flow": null,
            "grid_auto_rows": null,
            "grid_column": null,
            "grid_gap": null,
            "grid_row": null,
            "grid_template_areas": null,
            "grid_template_columns": null,
            "grid_template_rows": null,
            "height": null,
            "justify_content": null,
            "justify_items": null,
            "left": null,
            "margin": null,
            "max_height": null,
            "max_width": null,
            "min_height": null,
            "min_width": null,
            "object_fit": null,
            "object_position": null,
            "order": null,
            "overflow": null,
            "overflow_x": null,
            "overflow_y": null,
            "padding": null,
            "right": null,
            "top": null,
            "visibility": null,
            "width": null
          }
        },
        "0f0359d3bf5349f4b1d9a2c52b74b420": {
          "model_module": "@jupyter-widgets/controls",
          "model_name": "DescriptionStyleModel",
          "model_module_version": "1.5.0",
          "state": {
            "_model_module": "@jupyter-widgets/controls",
            "_model_module_version": "1.5.0",
            "_model_name": "DescriptionStyleModel",
            "_view_count": null,
            "_view_module": "@jupyter-widgets/base",
            "_view_module_version": "1.2.0",
            "_view_name": "StyleView",
            "description_width": ""
          }
        },
        "defa10d78a5d44b393020cffd3bb4565": {
          "model_module": "@jupyter-widgets/controls",
          "model_name": "TextModel",
          "model_module_version": "1.5.0",
          "state": {
            "_dom_classes": [],
            "_model_module": "@jupyter-widgets/controls",
            "_model_module_version": "1.5.0",
            "_model_name": "TextModel",
            "_view_count": null,
            "_view_module": "@jupyter-widgets/controls",
            "_view_module_version": "1.5.0",
            "_view_name": "TextView",
            "continuous_update": true,
            "description": "",
            "description_tooltip": null,
            "disabled": false,
            "layout": "IPY_MODEL_229c9082e07b48b58936126ca3dca52a",
            "placeholder": "​",
            "style": "IPY_MODEL_f16b9e530bee4e9284c98585b7280770",
            "value": "-"
          }
        },
        "229c9082e07b48b58936126ca3dca52a": {
          "model_module": "@jupyter-widgets/base",
          "model_name": "LayoutModel",
          "model_module_version": "1.2.0",
          "state": {
            "_model_module": "@jupyter-widgets/base",
            "_model_module_version": "1.2.0",
            "_model_name": "LayoutModel",
            "_view_count": null,
            "_view_module": "@jupyter-widgets/base",
            "_view_module_version": "1.2.0",
            "_view_name": "LayoutView",
            "align_content": null,
            "align_items": null,
            "align_self": null,
            "border": null,
            "bottom": null,
            "display": null,
            "flex": null,
            "flex_flow": null,
            "grid_area": null,
            "grid_auto_columns": null,
            "grid_auto_flow": null,
            "grid_auto_rows": null,
            "grid_column": null,
            "grid_gap": null,
            "grid_row": null,
            "grid_template_areas": null,
            "grid_template_columns": null,
            "grid_template_rows": null,
            "height": null,
            "justify_content": null,
            "justify_items": null,
            "left": null,
            "margin": null,
            "max_height": null,
            "max_width": null,
            "min_height": null,
            "min_width": null,
            "object_fit": null,
            "object_position": null,
            "order": null,
            "overflow": null,
            "overflow_x": null,
            "overflow_y": null,
            "padding": null,
            "right": null,
            "top": null,
            "visibility": null,
            "width": null
          }
        },
        "f16b9e530bee4e9284c98585b7280770": {
          "model_module": "@jupyter-widgets/controls",
          "model_name": "DescriptionStyleModel",
          "model_module_version": "1.5.0",
          "state": {
            "_model_module": "@jupyter-widgets/controls",
            "_model_module_version": "1.5.0",
            "_model_name": "DescriptionStyleModel",
            "_view_count": null,
            "_view_module": "@jupyter-widgets/base",
            "_view_module_version": "1.2.0",
            "_view_name": "StyleView",
            "description_width": ""
          }
        },
        "67958e0fe4944710a45ef4cb12bd9409": {
          "model_module": "@jupyter-widgets/controls",
          "model_name": "TextModel",
          "model_module_version": "1.5.0",
          "state": {
            "_dom_classes": [],
            "_model_module": "@jupyter-widgets/controls",
            "_model_module_version": "1.5.0",
            "_model_name": "TextModel",
            "_view_count": null,
            "_view_module": "@jupyter-widgets/controls",
            "_view_module_version": "1.5.0",
            "_view_name": "TextView",
            "continuous_update": true,
            "description": "",
            "description_tooltip": null,
            "disabled": false,
            "layout": "IPY_MODEL_e0983b11e62b4c18ada3d6f66c5faa13",
            "placeholder": "​",
            "style": "IPY_MODEL_6147341ef7e04821bc097c927ac38e47",
            "value": "16"
          }
        },
        "e0983b11e62b4c18ada3d6f66c5faa13": {
          "model_module": "@jupyter-widgets/base",
          "model_name": "LayoutModel",
          "model_module_version": "1.2.0",
          "state": {
            "_model_module": "@jupyter-widgets/base",
            "_model_module_version": "1.2.0",
            "_model_name": "LayoutModel",
            "_view_count": null,
            "_view_module": "@jupyter-widgets/base",
            "_view_module_version": "1.2.0",
            "_view_name": "LayoutView",
            "align_content": null,
            "align_items": null,
            "align_self": null,
            "border": null,
            "bottom": null,
            "display": null,
            "flex": null,
            "flex_flow": null,
            "grid_area": null,
            "grid_auto_columns": null,
            "grid_auto_flow": null,
            "grid_auto_rows": null,
            "grid_column": null,
            "grid_gap": null,
            "grid_row": null,
            "grid_template_areas": null,
            "grid_template_columns": null,
            "grid_template_rows": null,
            "height": null,
            "justify_content": null,
            "justify_items": null,
            "left": null,
            "margin": null,
            "max_height": null,
            "max_width": null,
            "min_height": null,
            "min_width": null,
            "object_fit": null,
            "object_position": null,
            "order": null,
            "overflow": null,
            "overflow_x": null,
            "overflow_y": null,
            "padding": null,
            "right": null,
            "top": null,
            "visibility": null,
            "width": null
          }
        },
        "6147341ef7e04821bc097c927ac38e47": {
          "model_module": "@jupyter-widgets/controls",
          "model_name": "DescriptionStyleModel",
          "model_module_version": "1.5.0",
          "state": {
            "_model_module": "@jupyter-widgets/controls",
            "_model_module_version": "1.5.0",
            "_model_name": "DescriptionStyleModel",
            "_view_count": null,
            "_view_module": "@jupyter-widgets/base",
            "_view_module_version": "1.2.0",
            "_view_name": "StyleView",
            "description_width": ""
          }
        },
        "7f318c2f3663428a982685d6ab70221c": {
          "model_module": "@jupyter-widgets/controls",
          "model_name": "TextModel",
          "model_module_version": "1.5.0",
          "state": {
            "_dom_classes": [],
            "_model_module": "@jupyter-widgets/controls",
            "_model_module_version": "1.5.0",
            "_model_name": "TextModel",
            "_view_count": null,
            "_view_module": "@jupyter-widgets/controls",
            "_view_module_version": "1.5.0",
            "_view_name": "TextView",
            "continuous_update": true,
            "description": "",
            "description_tooltip": null,
            "disabled": false,
            "layout": "IPY_MODEL_0aeca6358f2b405581b816ef38ff66fe",
            "placeholder": "​",
            "style": "IPY_MODEL_5ca9a40aa4374b308bbf8daeb9493a29",
            "value": " sd f1,0(r5)"
          }
        },
        "0aeca6358f2b405581b816ef38ff66fe": {
          "model_module": "@jupyter-widgets/base",
          "model_name": "LayoutModel",
          "model_module_version": "1.2.0",
          "state": {
            "_model_module": "@jupyter-widgets/base",
            "_model_module_version": "1.2.0",
            "_model_name": "LayoutModel",
            "_view_count": null,
            "_view_module": "@jupyter-widgets/base",
            "_view_module_version": "1.2.0",
            "_view_name": "LayoutView",
            "align_content": null,
            "align_items": null,
            "align_self": null,
            "border": null,
            "bottom": null,
            "display": null,
            "flex": null,
            "flex_flow": null,
            "grid_area": null,
            "grid_auto_columns": null,
            "grid_auto_flow": null,
            "grid_auto_rows": null,
            "grid_column": null,
            "grid_gap": null,
            "grid_row": null,
            "grid_template_areas": null,
            "grid_template_columns": null,
            "grid_template_rows": null,
            "height": null,
            "justify_content": null,
            "justify_items": null,
            "left": null,
            "margin": null,
            "max_height": null,
            "max_width": null,
            "min_height": null,
            "min_width": null,
            "object_fit": null,
            "object_position": null,
            "order": null,
            "overflow": null,
            "overflow_x": null,
            "overflow_y": null,
            "padding": null,
            "right": null,
            "top": null,
            "visibility": null,
            "width": null
          }
        },
        "5ca9a40aa4374b308bbf8daeb9493a29": {
          "model_module": "@jupyter-widgets/controls",
          "model_name": "DescriptionStyleModel",
          "model_module_version": "1.5.0",
          "state": {
            "_model_module": "@jupyter-widgets/controls",
            "_model_module_version": "1.5.0",
            "_model_name": "DescriptionStyleModel",
            "_view_count": null,
            "_view_module": "@jupyter-widgets/base",
            "_view_module_version": "1.2.0",
            "_view_name": "StyleView",
            "description_width": ""
          }
        },
        "2b0afa837d20482ba5dcc5c3c5dc7405": {
          "model_module": "@jupyter-widgets/controls",
          "model_name": "TextModel",
          "model_module_version": "1.5.0",
          "state": {
            "_dom_classes": [],
            "_model_module": "@jupyter-widgets/controls",
            "_model_module_version": "1.5.0",
            "_model_name": "TextModel",
            "_view_count": null,
            "_view_module": "@jupyter-widgets/controls",
            "_view_module_version": "1.5.0",
            "_view_name": "TextView",
            "continuous_update": true,
            "description": "",
            "description_tooltip": null,
            "disabled": false,
            "layout": "IPY_MODEL_c8b5f058d7fd4674a57fea4e29c67ae1",
            "placeholder": "​",
            "style": "IPY_MODEL_afbec7ec7e6f45b18931d88fafb1d374",
            "value": "-"
          }
        },
        "c8b5f058d7fd4674a57fea4e29c67ae1": {
          "model_module": "@jupyter-widgets/base",
          "model_name": "LayoutModel",
          "model_module_version": "1.2.0",
          "state": {
            "_model_module": "@jupyter-widgets/base",
            "_model_module_version": "1.2.0",
            "_model_name": "LayoutModel",
            "_view_count": null,
            "_view_module": "@jupyter-widgets/base",
            "_view_module_version": "1.2.0",
            "_view_name": "LayoutView",
            "align_content": null,
            "align_items": null,
            "align_self": null,
            "border": null,
            "bottom": null,
            "display": null,
            "flex": null,
            "flex_flow": null,
            "grid_area": null,
            "grid_auto_columns": null,
            "grid_auto_flow": null,
            "grid_auto_rows": null,
            "grid_column": null,
            "grid_gap": null,
            "grid_row": null,
            "grid_template_areas": null,
            "grid_template_columns": null,
            "grid_template_rows": null,
            "height": null,
            "justify_content": null,
            "justify_items": null,
            "left": null,
            "margin": null,
            "max_height": null,
            "max_width": null,
            "min_height": null,
            "min_width": null,
            "object_fit": null,
            "object_position": null,
            "order": null,
            "overflow": null,
            "overflow_x": null,
            "overflow_y": null,
            "padding": null,
            "right": null,
            "top": null,
            "visibility": null,
            "width": null
          }
        },
        "afbec7ec7e6f45b18931d88fafb1d374": {
          "model_module": "@jupyter-widgets/controls",
          "model_name": "DescriptionStyleModel",
          "model_module_version": "1.5.0",
          "state": {
            "_model_module": "@jupyter-widgets/controls",
            "_model_module_version": "1.5.0",
            "_model_name": "DescriptionStyleModel",
            "_view_count": null,
            "_view_module": "@jupyter-widgets/base",
            "_view_module_version": "1.2.0",
            "_view_name": "StyleView",
            "description_width": ""
          }
        },
        "c6134b49cd7648c6ac1afad754b75831": {
          "model_module": "@jupyter-widgets/controls",
          "model_name": "TextModel",
          "model_module_version": "1.5.0",
          "state": {
            "_dom_classes": [],
            "_model_module": "@jupyter-widgets/controls",
            "_model_module_version": "1.5.0",
            "_model_name": "TextModel",
            "_view_count": null,
            "_view_module": "@jupyter-widgets/controls",
            "_view_module_version": "1.5.0",
            "_view_name": "TextView",
            "continuous_update": true,
            "description": "",
            "description_tooltip": null,
            "disabled": false,
            "layout": "IPY_MODEL_85e96ceb7dd74fc3b5efc7d8da0a5016",
            "placeholder": "​",
            "style": "IPY_MODEL_0f419ab231234a51a0735012b307c857",
            "value": "-"
          }
        },
        "85e96ceb7dd74fc3b5efc7d8da0a5016": {
          "model_module": "@jupyter-widgets/base",
          "model_name": "LayoutModel",
          "model_module_version": "1.2.0",
          "state": {
            "_model_module": "@jupyter-widgets/base",
            "_model_module_version": "1.2.0",
            "_model_name": "LayoutModel",
            "_view_count": null,
            "_view_module": "@jupyter-widgets/base",
            "_view_module_version": "1.2.0",
            "_view_name": "LayoutView",
            "align_content": null,
            "align_items": null,
            "align_self": null,
            "border": null,
            "bottom": null,
            "display": null,
            "flex": null,
            "flex_flow": null,
            "grid_area": null,
            "grid_auto_columns": null,
            "grid_auto_flow": null,
            "grid_auto_rows": null,
            "grid_column": null,
            "grid_gap": null,
            "grid_row": null,
            "grid_template_areas": null,
            "grid_template_columns": null,
            "grid_template_rows": null,
            "height": null,
            "justify_content": null,
            "justify_items": null,
            "left": null,
            "margin": null,
            "max_height": null,
            "max_width": null,
            "min_height": null,
            "min_width": null,
            "object_fit": null,
            "object_position": null,
            "order": null,
            "overflow": null,
            "overflow_x": null,
            "overflow_y": null,
            "padding": null,
            "right": null,
            "top": null,
            "visibility": null,
            "width": null
          }
        },
        "0f419ab231234a51a0735012b307c857": {
          "model_module": "@jupyter-widgets/controls",
          "model_name": "DescriptionStyleModel",
          "model_module_version": "1.5.0",
          "state": {
            "_model_module": "@jupyter-widgets/controls",
            "_model_module_version": "1.5.0",
            "_model_name": "DescriptionStyleModel",
            "_view_count": null,
            "_view_module": "@jupyter-widgets/base",
            "_view_module_version": "1.2.0",
            "_view_name": "StyleView",
            "description_width": ""
          }
        },
        "d9a3a0cd1c2043f1bd54206e5bf68037": {
          "model_module": "@jupyter-widgets/controls",
          "model_name": "TextModel",
          "model_module_version": "1.5.0",
          "state": {
            "_dom_classes": [],
            "_model_module": "@jupyter-widgets/controls",
            "_model_module_version": "1.5.0",
            "_model_name": "TextModel",
            "_view_count": null,
            "_view_module": "@jupyter-widgets/controls",
            "_view_module_version": "1.5.0",
            "_view_name": "TextView",
            "continuous_update": true,
            "description": "",
            "description_tooltip": null,
            "disabled": false,
            "layout": "IPY_MODEL_4b494132da794f749c0c33ca6fff3c15",
            "placeholder": "​",
            "style": "IPY_MODEL_2100f45882b5466caa063729b30e110d",
            "value": "-"
          }
        },
        "4b494132da794f749c0c33ca6fff3c15": {
          "model_module": "@jupyter-widgets/base",
          "model_name": "LayoutModel",
          "model_module_version": "1.2.0",
          "state": {
            "_model_module": "@jupyter-widgets/base",
            "_model_module_version": "1.2.0",
            "_model_name": "LayoutModel",
            "_view_count": null,
            "_view_module": "@jupyter-widgets/base",
            "_view_module_version": "1.2.0",
            "_view_name": "LayoutView",
            "align_content": null,
            "align_items": null,
            "align_self": null,
            "border": null,
            "bottom": null,
            "display": null,
            "flex": null,
            "flex_flow": null,
            "grid_area": null,
            "grid_auto_columns": null,
            "grid_auto_flow": null,
            "grid_auto_rows": null,
            "grid_column": null,
            "grid_gap": null,
            "grid_row": null,
            "grid_template_areas": null,
            "grid_template_columns": null,
            "grid_template_rows": null,
            "height": null,
            "justify_content": null,
            "justify_items": null,
            "left": null,
            "margin": null,
            "max_height": null,
            "max_width": null,
            "min_height": null,
            "min_width": null,
            "object_fit": null,
            "object_position": null,
            "order": null,
            "overflow": null,
            "overflow_x": null,
            "overflow_y": null,
            "padding": null,
            "right": null,
            "top": null,
            "visibility": null,
            "width": null
          }
        },
        "2100f45882b5466caa063729b30e110d": {
          "model_module": "@jupyter-widgets/controls",
          "model_name": "DescriptionStyleModel",
          "model_module_version": "1.5.0",
          "state": {
            "_model_module": "@jupyter-widgets/controls",
            "_model_module_version": "1.5.0",
            "_model_name": "DescriptionStyleModel",
            "_view_count": null,
            "_view_module": "@jupyter-widgets/base",
            "_view_module_version": "1.2.0",
            "_view_name": "StyleView",
            "description_width": ""
          }
        },
        "e57f03b517a8491f9c420923f23d92f4": {
          "model_module": "@jupyter-widgets/controls",
          "model_name": "TextModel",
          "model_module_version": "1.5.0",
          "state": {
            "_dom_classes": [],
            "_model_module": "@jupyter-widgets/controls",
            "_model_module_version": "1.5.0",
            "_model_name": "TextModel",
            "_view_count": null,
            "_view_module": "@jupyter-widgets/controls",
            "_view_module_version": "1.5.0",
            "_view_name": "TextView",
            "continuous_update": true,
            "description": "",
            "description_tooltip": null,
            "disabled": false,
            "layout": "IPY_MODEL_7aef503d267a4c038ca3b341154f45de",
            "placeholder": "​",
            "style": "IPY_MODEL_2f3bb407887442e892e9a6bdb2fa7e8b",
            "value": "-"
          }
        },
        "7aef503d267a4c038ca3b341154f45de": {
          "model_module": "@jupyter-widgets/base",
          "model_name": "LayoutModel",
          "model_module_version": "1.2.0",
          "state": {
            "_model_module": "@jupyter-widgets/base",
            "_model_module_version": "1.2.0",
            "_model_name": "LayoutModel",
            "_view_count": null,
            "_view_module": "@jupyter-widgets/base",
            "_view_module_version": "1.2.0",
            "_view_name": "LayoutView",
            "align_content": null,
            "align_items": null,
            "align_self": null,
            "border": null,
            "bottom": null,
            "display": null,
            "flex": null,
            "flex_flow": null,
            "grid_area": null,
            "grid_auto_columns": null,
            "grid_auto_flow": null,
            "grid_auto_rows": null,
            "grid_column": null,
            "grid_gap": null,
            "grid_row": null,
            "grid_template_areas": null,
            "grid_template_columns": null,
            "grid_template_rows": null,
            "height": null,
            "justify_content": null,
            "justify_items": null,
            "left": null,
            "margin": null,
            "max_height": null,
            "max_width": null,
            "min_height": null,
            "min_width": null,
            "object_fit": null,
            "object_position": null,
            "order": null,
            "overflow": null,
            "overflow_x": null,
            "overflow_y": null,
            "padding": null,
            "right": null,
            "top": null,
            "visibility": null,
            "width": null
          }
        },
        "2f3bb407887442e892e9a6bdb2fa7e8b": {
          "model_module": "@jupyter-widgets/controls",
          "model_name": "DescriptionStyleModel",
          "model_module_version": "1.5.0",
          "state": {
            "_model_module": "@jupyter-widgets/controls",
            "_model_module_version": "1.5.0",
            "_model_name": "DescriptionStyleModel",
            "_view_count": null,
            "_view_module": "@jupyter-widgets/base",
            "_view_module_version": "1.2.0",
            "_view_name": "StyleView",
            "description_width": ""
          }
        },
        "a0d2737290504137b4c9669c345a857c": {
          "model_module": "@jupyter-widgets/controls",
          "model_name": "TextModel",
          "model_module_version": "1.5.0",
          "state": {
            "_dom_classes": [],
            "_model_module": "@jupyter-widgets/controls",
            "_model_module_version": "1.5.0",
            "_model_name": "TextModel",
            "_view_count": null,
            "_view_module": "@jupyter-widgets/controls",
            "_view_module_version": "1.5.0",
            "_view_name": "TextView",
            "continuous_update": true,
            "description": "",
            "description_tooltip": null,
            "disabled": false,
            "layout": "IPY_MODEL_82f6b3e49e3b4f87891b91b9c4becaa6",
            "placeholder": "​",
            "style": "IPY_MODEL_9626266ec5ae4658ad885719ae4f7288",
            "value": "-"
          }
        },
        "82f6b3e49e3b4f87891b91b9c4becaa6": {
          "model_module": "@jupyter-widgets/base",
          "model_name": "LayoutModel",
          "model_module_version": "1.2.0",
          "state": {
            "_model_module": "@jupyter-widgets/base",
            "_model_module_version": "1.2.0",
            "_model_name": "LayoutModel",
            "_view_count": null,
            "_view_module": "@jupyter-widgets/base",
            "_view_module_version": "1.2.0",
            "_view_name": "LayoutView",
            "align_content": null,
            "align_items": null,
            "align_self": null,
            "border": null,
            "bottom": null,
            "display": null,
            "flex": null,
            "flex_flow": null,
            "grid_area": null,
            "grid_auto_columns": null,
            "grid_auto_flow": null,
            "grid_auto_rows": null,
            "grid_column": null,
            "grid_gap": null,
            "grid_row": null,
            "grid_template_areas": null,
            "grid_template_columns": null,
            "grid_template_rows": null,
            "height": null,
            "justify_content": null,
            "justify_items": null,
            "left": null,
            "margin": null,
            "max_height": null,
            "max_width": null,
            "min_height": null,
            "min_width": null,
            "object_fit": null,
            "object_position": null,
            "order": null,
            "overflow": null,
            "overflow_x": null,
            "overflow_y": null,
            "padding": null,
            "right": null,
            "top": null,
            "visibility": null,
            "width": null
          }
        },
        "9626266ec5ae4658ad885719ae4f7288": {
          "model_module": "@jupyter-widgets/controls",
          "model_name": "DescriptionStyleModel",
          "model_module_version": "1.5.0",
          "state": {
            "_model_module": "@jupyter-widgets/controls",
            "_model_module_version": "1.5.0",
            "_model_name": "DescriptionStyleModel",
            "_view_count": null,
            "_view_module": "@jupyter-widgets/base",
            "_view_module_version": "1.2.0",
            "_view_name": "StyleView",
            "description_width": ""
          }
        },
        "3a2bb99bd6b84acaa792d0b0eeeca673": {
          "model_module": "@jupyter-widgets/controls",
          "model_name": "TextModel",
          "model_module_version": "1.5.0",
          "state": {
            "_dom_classes": [],
            "_model_module": "@jupyter-widgets/controls",
            "_model_module_version": "1.5.0",
            "_model_name": "TextModel",
            "_view_count": null,
            "_view_module": "@jupyter-widgets/controls",
            "_view_module_version": "1.5.0",
            "_view_name": "TextView",
            "continuous_update": true,
            "description": "",
            "description_tooltip": null,
            "disabled": false,
            "layout": "IPY_MODEL_ffdb92c0b1374291afda6e3f4e3c49a8",
            "placeholder": "​",
            "style": "IPY_MODEL_fbeee328ad2444eba2ecbe23d7ac8c1c",
            "value": "20"
          }
        },
        "ffdb92c0b1374291afda6e3f4e3c49a8": {
          "model_module": "@jupyter-widgets/base",
          "model_name": "LayoutModel",
          "model_module_version": "1.2.0",
          "state": {
            "_model_module": "@jupyter-widgets/base",
            "_model_module_version": "1.2.0",
            "_model_name": "LayoutModel",
            "_view_count": null,
            "_view_module": "@jupyter-widgets/base",
            "_view_module_version": "1.2.0",
            "_view_name": "LayoutView",
            "align_content": null,
            "align_items": null,
            "align_self": null,
            "border": null,
            "bottom": null,
            "display": null,
            "flex": null,
            "flex_flow": null,
            "grid_area": null,
            "grid_auto_columns": null,
            "grid_auto_flow": null,
            "grid_auto_rows": null,
            "grid_column": null,
            "grid_gap": null,
            "grid_row": null,
            "grid_template_areas": null,
            "grid_template_columns": null,
            "grid_template_rows": null,
            "height": null,
            "justify_content": null,
            "justify_items": null,
            "left": null,
            "margin": null,
            "max_height": null,
            "max_width": null,
            "min_height": null,
            "min_width": null,
            "object_fit": null,
            "object_position": null,
            "order": null,
            "overflow": null,
            "overflow_x": null,
            "overflow_y": null,
            "padding": null,
            "right": null,
            "top": null,
            "visibility": null,
            "width": null
          }
        },
        "fbeee328ad2444eba2ecbe23d7ac8c1c": {
          "model_module": "@jupyter-widgets/controls",
          "model_name": "DescriptionStyleModel",
          "model_module_version": "1.5.0",
          "state": {
            "_model_module": "@jupyter-widgets/controls",
            "_model_module_version": "1.5.0",
            "_model_name": "DescriptionStyleModel",
            "_view_count": null,
            "_view_module": "@jupyter-widgets/base",
            "_view_module_version": "1.2.0",
            "_view_name": "StyleView",
            "description_width": ""
          }
        },
        "1e3c01879ca74c4ca5e3bdc7aabfae46": {
          "model_module": "@jupyter-widgets/controls",
          "model_name": "TextModel",
          "model_module_version": "1.5.0",
          "state": {
            "_dom_classes": [],
            "_model_module": "@jupyter-widgets/controls",
            "_model_module_version": "1.5.0",
            "_model_name": "TextModel",
            "_view_count": null,
            "_view_module": "@jupyter-widgets/controls",
            "_view_module_version": "1.5.0",
            "_view_name": "TextView",
            "continuous_update": true,
            "description": "",
            "description_tooltip": null,
            "disabled": false,
            "layout": "IPY_MODEL_aaba0b733d204f51b5f8d5b8e85b688a",
            "placeholder": "​",
            "style": "IPY_MODEL_a41d3b2a93a34269bbb6b42903ed9f2e",
            "value": "  add r5,r5,4"
          }
        },
        "aaba0b733d204f51b5f8d5b8e85b688a": {
          "model_module": "@jupyter-widgets/base",
          "model_name": "LayoutModel",
          "model_module_version": "1.2.0",
          "state": {
            "_model_module": "@jupyter-widgets/base",
            "_model_module_version": "1.2.0",
            "_model_name": "LayoutModel",
            "_view_count": null,
            "_view_module": "@jupyter-widgets/base",
            "_view_module_version": "1.2.0",
            "_view_name": "LayoutView",
            "align_content": null,
            "align_items": null,
            "align_self": null,
            "border": null,
            "bottom": null,
            "display": null,
            "flex": null,
            "flex_flow": null,
            "grid_area": null,
            "grid_auto_columns": null,
            "grid_auto_flow": null,
            "grid_auto_rows": null,
            "grid_column": null,
            "grid_gap": null,
            "grid_row": null,
            "grid_template_areas": null,
            "grid_template_columns": null,
            "grid_template_rows": null,
            "height": null,
            "justify_content": null,
            "justify_items": null,
            "left": null,
            "margin": null,
            "max_height": null,
            "max_width": null,
            "min_height": null,
            "min_width": null,
            "object_fit": null,
            "object_position": null,
            "order": null,
            "overflow": null,
            "overflow_x": null,
            "overflow_y": null,
            "padding": null,
            "right": null,
            "top": null,
            "visibility": null,
            "width": null
          }
        },
        "a41d3b2a93a34269bbb6b42903ed9f2e": {
          "model_module": "@jupyter-widgets/controls",
          "model_name": "DescriptionStyleModel",
          "model_module_version": "1.5.0",
          "state": {
            "_model_module": "@jupyter-widgets/controls",
            "_model_module_version": "1.5.0",
            "_model_name": "DescriptionStyleModel",
            "_view_count": null,
            "_view_module": "@jupyter-widgets/base",
            "_view_module_version": "1.2.0",
            "_view_name": "StyleView",
            "description_width": ""
          }
        },
        "de02e27b48c5403d919214ad8cde6e95": {
          "model_module": "@jupyter-widgets/controls",
          "model_name": "TextModel",
          "model_module_version": "1.5.0",
          "state": {
            "_dom_classes": [],
            "_model_module": "@jupyter-widgets/controls",
            "_model_module_version": "1.5.0",
            "_model_name": "TextModel",
            "_view_count": null,
            "_view_module": "@jupyter-widgets/controls",
            "_view_module_version": "1.5.0",
            "_view_name": "TextView",
            "continuous_update": true,
            "description": "",
            "description_tooltip": null,
            "disabled": false,
            "layout": "IPY_MODEL_564727af61ab48ce9c4703ee0eb11ef8",
            "placeholder": "​",
            "style": "IPY_MODEL_d16768a39068474683184e3ed8cce72a",
            "value": "-"
          }
        },
        "564727af61ab48ce9c4703ee0eb11ef8": {
          "model_module": "@jupyter-widgets/base",
          "model_name": "LayoutModel",
          "model_module_version": "1.2.0",
          "state": {
            "_model_module": "@jupyter-widgets/base",
            "_model_module_version": "1.2.0",
            "_model_name": "LayoutModel",
            "_view_count": null,
            "_view_module": "@jupyter-widgets/base",
            "_view_module_version": "1.2.0",
            "_view_name": "LayoutView",
            "align_content": null,
            "align_items": null,
            "align_self": null,
            "border": null,
            "bottom": null,
            "display": null,
            "flex": null,
            "flex_flow": null,
            "grid_area": null,
            "grid_auto_columns": null,
            "grid_auto_flow": null,
            "grid_auto_rows": null,
            "grid_column": null,
            "grid_gap": null,
            "grid_row": null,
            "grid_template_areas": null,
            "grid_template_columns": null,
            "grid_template_rows": null,
            "height": null,
            "justify_content": null,
            "justify_items": null,
            "left": null,
            "margin": null,
            "max_height": null,
            "max_width": null,
            "min_height": null,
            "min_width": null,
            "object_fit": null,
            "object_position": null,
            "order": null,
            "overflow": null,
            "overflow_x": null,
            "overflow_y": null,
            "padding": null,
            "right": null,
            "top": null,
            "visibility": null,
            "width": null
          }
        },
        "d16768a39068474683184e3ed8cce72a": {
          "model_module": "@jupyter-widgets/controls",
          "model_name": "DescriptionStyleModel",
          "model_module_version": "1.5.0",
          "state": {
            "_model_module": "@jupyter-widgets/controls",
            "_model_module_version": "1.5.0",
            "_model_name": "DescriptionStyleModel",
            "_view_count": null,
            "_view_module": "@jupyter-widgets/base",
            "_view_module_version": "1.2.0",
            "_view_name": "StyleView",
            "description_width": ""
          }
        },
        "236b75a350074094a90665895ee82ce6": {
          "model_module": "@jupyter-widgets/controls",
          "model_name": "TextModel",
          "model_module_version": "1.5.0",
          "state": {
            "_dom_classes": [],
            "_model_module": "@jupyter-widgets/controls",
            "_model_module_version": "1.5.0",
            "_model_name": "TextModel",
            "_view_count": null,
            "_view_module": "@jupyter-widgets/controls",
            "_view_module_version": "1.5.0",
            "_view_name": "TextView",
            "continuous_update": true,
            "description": "",
            "description_tooltip": null,
            "disabled": false,
            "layout": "IPY_MODEL_ea8ecb212dfe4b9cb73a1aaee6e6cfd0",
            "placeholder": "​",
            "style": "IPY_MODEL_0df9d76225064f1081a50a819d532a72",
            "value": "-"
          }
        },
        "ea8ecb212dfe4b9cb73a1aaee6e6cfd0": {
          "model_module": "@jupyter-widgets/base",
          "model_name": "LayoutModel",
          "model_module_version": "1.2.0",
          "state": {
            "_model_module": "@jupyter-widgets/base",
            "_model_module_version": "1.2.0",
            "_model_name": "LayoutModel",
            "_view_count": null,
            "_view_module": "@jupyter-widgets/base",
            "_view_module_version": "1.2.0",
            "_view_name": "LayoutView",
            "align_content": null,
            "align_items": null,
            "align_self": null,
            "border": null,
            "bottom": null,
            "display": null,
            "flex": null,
            "flex_flow": null,
            "grid_area": null,
            "grid_auto_columns": null,
            "grid_auto_flow": null,
            "grid_auto_rows": null,
            "grid_column": null,
            "grid_gap": null,
            "grid_row": null,
            "grid_template_areas": null,
            "grid_template_columns": null,
            "grid_template_rows": null,
            "height": null,
            "justify_content": null,
            "justify_items": null,
            "left": null,
            "margin": null,
            "max_height": null,
            "max_width": null,
            "min_height": null,
            "min_width": null,
            "object_fit": null,
            "object_position": null,
            "order": null,
            "overflow": null,
            "overflow_x": null,
            "overflow_y": null,
            "padding": null,
            "right": null,
            "top": null,
            "visibility": null,
            "width": null
          }
        },
        "0df9d76225064f1081a50a819d532a72": {
          "model_module": "@jupyter-widgets/controls",
          "model_name": "DescriptionStyleModel",
          "model_module_version": "1.5.0",
          "state": {
            "_model_module": "@jupyter-widgets/controls",
            "_model_module_version": "1.5.0",
            "_model_name": "DescriptionStyleModel",
            "_view_count": null,
            "_view_module": "@jupyter-widgets/base",
            "_view_module_version": "1.2.0",
            "_view_name": "StyleView",
            "description_width": ""
          }
        },
        "2655cf94c1c746a5a6642c591dbd63c4": {
          "model_module": "@jupyter-widgets/controls",
          "model_name": "TextModel",
          "model_module_version": "1.5.0",
          "state": {
            "_dom_classes": [],
            "_model_module": "@jupyter-widgets/controls",
            "_model_module_version": "1.5.0",
            "_model_name": "TextModel",
            "_view_count": null,
            "_view_module": "@jupyter-widgets/controls",
            "_view_module_version": "1.5.0",
            "_view_name": "TextView",
            "continuous_update": true,
            "description": "",
            "description_tooltip": null,
            "disabled": false,
            "layout": "IPY_MODEL_5d1868caff8b47629d20972387e1c480",
            "placeholder": "​",
            "style": "IPY_MODEL_473e8f09e66b4970812fbf96408b3759",
            "value": "-"
          }
        },
        "5d1868caff8b47629d20972387e1c480": {
          "model_module": "@jupyter-widgets/base",
          "model_name": "LayoutModel",
          "model_module_version": "1.2.0",
          "state": {
            "_model_module": "@jupyter-widgets/base",
            "_model_module_version": "1.2.0",
            "_model_name": "LayoutModel",
            "_view_count": null,
            "_view_module": "@jupyter-widgets/base",
            "_view_module_version": "1.2.0",
            "_view_name": "LayoutView",
            "align_content": null,
            "align_items": null,
            "align_self": null,
            "border": null,
            "bottom": null,
            "display": null,
            "flex": null,
            "flex_flow": null,
            "grid_area": null,
            "grid_auto_columns": null,
            "grid_auto_flow": null,
            "grid_auto_rows": null,
            "grid_column": null,
            "grid_gap": null,
            "grid_row": null,
            "grid_template_areas": null,
            "grid_template_columns": null,
            "grid_template_rows": null,
            "height": null,
            "justify_content": null,
            "justify_items": null,
            "left": null,
            "margin": null,
            "max_height": null,
            "max_width": null,
            "min_height": null,
            "min_width": null,
            "object_fit": null,
            "object_position": null,
            "order": null,
            "overflow": null,
            "overflow_x": null,
            "overflow_y": null,
            "padding": null,
            "right": null,
            "top": null,
            "visibility": null,
            "width": null
          }
        },
        "473e8f09e66b4970812fbf96408b3759": {
          "model_module": "@jupyter-widgets/controls",
          "model_name": "DescriptionStyleModel",
          "model_module_version": "1.5.0",
          "state": {
            "_model_module": "@jupyter-widgets/controls",
            "_model_module_version": "1.5.0",
            "_model_name": "DescriptionStyleModel",
            "_view_count": null,
            "_view_module": "@jupyter-widgets/base",
            "_view_module_version": "1.2.0",
            "_view_name": "StyleView",
            "description_width": ""
          }
        },
        "9a0d485e00d54516a30ba1ee835609a8": {
          "model_module": "@jupyter-widgets/controls",
          "model_name": "TextModel",
          "model_module_version": "1.5.0",
          "state": {
            "_dom_classes": [],
            "_model_module": "@jupyter-widgets/controls",
            "_model_module_version": "1.5.0",
            "_model_name": "TextModel",
            "_view_count": null,
            "_view_module": "@jupyter-widgets/controls",
            "_view_module_version": "1.5.0",
            "_view_name": "TextView",
            "continuous_update": true,
            "description": "",
            "description_tooltip": null,
            "disabled": false,
            "layout": "IPY_MODEL_67a1abec7e9e4c419c65df8460bb32bf",
            "placeholder": "​",
            "style": "IPY_MODEL_1d33de7ae0ac4aa2ab46336d880b941c",
            "value": "-"
          }
        },
        "67a1abec7e9e4c419c65df8460bb32bf": {
          "model_module": "@jupyter-widgets/base",
          "model_name": "LayoutModel",
          "model_module_version": "1.2.0",
          "state": {
            "_model_module": "@jupyter-widgets/base",
            "_model_module_version": "1.2.0",
            "_model_name": "LayoutModel",
            "_view_count": null,
            "_view_module": "@jupyter-widgets/base",
            "_view_module_version": "1.2.0",
            "_view_name": "LayoutView",
            "align_content": null,
            "align_items": null,
            "align_self": null,
            "border": null,
            "bottom": null,
            "display": null,
            "flex": null,
            "flex_flow": null,
            "grid_area": null,
            "grid_auto_columns": null,
            "grid_auto_flow": null,
            "grid_auto_rows": null,
            "grid_column": null,
            "grid_gap": null,
            "grid_row": null,
            "grid_template_areas": null,
            "grid_template_columns": null,
            "grid_template_rows": null,
            "height": null,
            "justify_content": null,
            "justify_items": null,
            "left": null,
            "margin": null,
            "max_height": null,
            "max_width": null,
            "min_height": null,
            "min_width": null,
            "object_fit": null,
            "object_position": null,
            "order": null,
            "overflow": null,
            "overflow_x": null,
            "overflow_y": null,
            "padding": null,
            "right": null,
            "top": null,
            "visibility": null,
            "width": null
          }
        },
        "1d33de7ae0ac4aa2ab46336d880b941c": {
          "model_module": "@jupyter-widgets/controls",
          "model_name": "DescriptionStyleModel",
          "model_module_version": "1.5.0",
          "state": {
            "_model_module": "@jupyter-widgets/controls",
            "_model_module_version": "1.5.0",
            "_model_name": "DescriptionStyleModel",
            "_view_count": null,
            "_view_module": "@jupyter-widgets/base",
            "_view_module_version": "1.2.0",
            "_view_name": "StyleView",
            "description_width": ""
          }
        },
        "28d1a3bf387b43f783b839092ffb9a42": {
          "model_module": "@jupyter-widgets/controls",
          "model_name": "TextModel",
          "model_module_version": "1.5.0",
          "state": {
            "_dom_classes": [],
            "_model_module": "@jupyter-widgets/controls",
            "_model_module_version": "1.5.0",
            "_model_name": "TextModel",
            "_view_count": null,
            "_view_module": "@jupyter-widgets/controls",
            "_view_module_version": "1.5.0",
            "_view_name": "TextView",
            "continuous_update": true,
            "description": "",
            "description_tooltip": null,
            "disabled": false,
            "layout": "IPY_MODEL_dbdca07372194672a328426176937160",
            "placeholder": "​",
            "style": "IPY_MODEL_1af3e8ce2cbf406fbc883513b30dc5d9",
            "value": "-"
          }
        },
        "dbdca07372194672a328426176937160": {
          "model_module": "@jupyter-widgets/base",
          "model_name": "LayoutModel",
          "model_module_version": "1.2.0",
          "state": {
            "_model_module": "@jupyter-widgets/base",
            "_model_module_version": "1.2.0",
            "_model_name": "LayoutModel",
            "_view_count": null,
            "_view_module": "@jupyter-widgets/base",
            "_view_module_version": "1.2.0",
            "_view_name": "LayoutView",
            "align_content": null,
            "align_items": null,
            "align_self": null,
            "border": null,
            "bottom": null,
            "display": null,
            "flex": null,
            "flex_flow": null,
            "grid_area": null,
            "grid_auto_columns": null,
            "grid_auto_flow": null,
            "grid_auto_rows": null,
            "grid_column": null,
            "grid_gap": null,
            "grid_row": null,
            "grid_template_areas": null,
            "grid_template_columns": null,
            "grid_template_rows": null,
            "height": null,
            "justify_content": null,
            "justify_items": null,
            "left": null,
            "margin": null,
            "max_height": null,
            "max_width": null,
            "min_height": null,
            "min_width": null,
            "object_fit": null,
            "object_position": null,
            "order": null,
            "overflow": null,
            "overflow_x": null,
            "overflow_y": null,
            "padding": null,
            "right": null,
            "top": null,
            "visibility": null,
            "width": null
          }
        },
        "1af3e8ce2cbf406fbc883513b30dc5d9": {
          "model_module": "@jupyter-widgets/controls",
          "model_name": "DescriptionStyleModel",
          "model_module_version": "1.5.0",
          "state": {
            "_model_module": "@jupyter-widgets/controls",
            "_model_module_version": "1.5.0",
            "_model_name": "DescriptionStyleModel",
            "_view_count": null,
            "_view_module": "@jupyter-widgets/base",
            "_view_module_version": "1.2.0",
            "_view_name": "StyleView",
            "description_width": ""
          }
        },
        "80561be4e3f74b658c76f19945c65e3e": {
          "model_module": "@jupyter-widgets/controls",
          "model_name": "TextModel",
          "model_module_version": "1.5.0",
          "state": {
            "_dom_classes": [],
            "_model_module": "@jupyter-widgets/controls",
            "_model_module_version": "1.5.0",
            "_model_name": "TextModel",
            "_view_count": null,
            "_view_module": "@jupyter-widgets/controls",
            "_view_module_version": "1.5.0",
            "_view_name": "TextView",
            "continuous_update": true,
            "description": "",
            "description_tooltip": null,
            "disabled": false,
            "layout": "IPY_MODEL_5d588e99b0fe41cfbee146b88e53b518",
            "placeholder": "​",
            "style": "IPY_MODEL_1856e901210d40908a8f70c548ad7add",
            "value": "24"
          }
        },
        "5d588e99b0fe41cfbee146b88e53b518": {
          "model_module": "@jupyter-widgets/base",
          "model_name": "LayoutModel",
          "model_module_version": "1.2.0",
          "state": {
            "_model_module": "@jupyter-widgets/base",
            "_model_module_version": "1.2.0",
            "_model_name": "LayoutModel",
            "_view_count": null,
            "_view_module": "@jupyter-widgets/base",
            "_view_module_version": "1.2.0",
            "_view_name": "LayoutView",
            "align_content": null,
            "align_items": null,
            "align_self": null,
            "border": null,
            "bottom": null,
            "display": null,
            "flex": null,
            "flex_flow": null,
            "grid_area": null,
            "grid_auto_columns": null,
            "grid_auto_flow": null,
            "grid_auto_rows": null,
            "grid_column": null,
            "grid_gap": null,
            "grid_row": null,
            "grid_template_areas": null,
            "grid_template_columns": null,
            "grid_template_rows": null,
            "height": null,
            "justify_content": null,
            "justify_items": null,
            "left": null,
            "margin": null,
            "max_height": null,
            "max_width": null,
            "min_height": null,
            "min_width": null,
            "object_fit": null,
            "object_position": null,
            "order": null,
            "overflow": null,
            "overflow_x": null,
            "overflow_y": null,
            "padding": null,
            "right": null,
            "top": null,
            "visibility": null,
            "width": null
          }
        },
        "1856e901210d40908a8f70c548ad7add": {
          "model_module": "@jupyter-widgets/controls",
          "model_name": "DescriptionStyleModel",
          "model_module_version": "1.5.0",
          "state": {
            "_model_module": "@jupyter-widgets/controls",
            "_model_module_version": "1.5.0",
            "_model_name": "DescriptionStyleModel",
            "_view_count": null,
            "_view_module": "@jupyter-widgets/base",
            "_view_module_version": "1.2.0",
            "_view_name": "StyleView",
            "description_width": ""
          }
        },
        "03f5fd77ae404f018b7d042bc88747fe": {
          "model_module": "@jupyter-widgets/controls",
          "model_name": "TextModel",
          "model_module_version": "1.5.0",
          "state": {
            "_dom_classes": [],
            "_model_module": "@jupyter-widgets/controls",
            "_model_module_version": "1.5.0",
            "_model_name": "TextModel",
            "_view_count": null,
            "_view_module": "@jupyter-widgets/controls",
            "_view_module_version": "1.5.0",
            "_view_name": "TextView",
            "continuous_update": true,
            "description": "",
            "description_tooltip": null,
            "disabled": false,
            "layout": "IPY_MODEL_d42303cbdf0a4aec8d89486d78310f03",
            "placeholder": "​",
            "style": "IPY_MODEL_b21cc8157d744eecb5ecac37901bda00",
            "value": " beq r5,r2,loop"
          }
        },
        "d42303cbdf0a4aec8d89486d78310f03": {
          "model_module": "@jupyter-widgets/base",
          "model_name": "LayoutModel",
          "model_module_version": "1.2.0",
          "state": {
            "_model_module": "@jupyter-widgets/base",
            "_model_module_version": "1.2.0",
            "_model_name": "LayoutModel",
            "_view_count": null,
            "_view_module": "@jupyter-widgets/base",
            "_view_module_version": "1.2.0",
            "_view_name": "LayoutView",
            "align_content": null,
            "align_items": null,
            "align_self": null,
            "border": null,
            "bottom": null,
            "display": null,
            "flex": null,
            "flex_flow": null,
            "grid_area": null,
            "grid_auto_columns": null,
            "grid_auto_flow": null,
            "grid_auto_rows": null,
            "grid_column": null,
            "grid_gap": null,
            "grid_row": null,
            "grid_template_areas": null,
            "grid_template_columns": null,
            "grid_template_rows": null,
            "height": null,
            "justify_content": null,
            "justify_items": null,
            "left": null,
            "margin": null,
            "max_height": null,
            "max_width": null,
            "min_height": null,
            "min_width": null,
            "object_fit": null,
            "object_position": null,
            "order": null,
            "overflow": null,
            "overflow_x": null,
            "overflow_y": null,
            "padding": null,
            "right": null,
            "top": null,
            "visibility": null,
            "width": null
          }
        },
        "b21cc8157d744eecb5ecac37901bda00": {
          "model_module": "@jupyter-widgets/controls",
          "model_name": "DescriptionStyleModel",
          "model_module_version": "1.5.0",
          "state": {
            "_model_module": "@jupyter-widgets/controls",
            "_model_module_version": "1.5.0",
            "_model_name": "DescriptionStyleModel",
            "_view_count": null,
            "_view_module": "@jupyter-widgets/base",
            "_view_module_version": "1.2.0",
            "_view_name": "StyleView",
            "description_width": ""
          }
        },
        "ee4c9e2012bf4473a0be32a0d3aa2263": {
          "model_module": "@jupyter-widgets/controls",
          "model_name": "TextModel",
          "model_module_version": "1.5.0",
          "state": {
            "_dom_classes": [],
            "_model_module": "@jupyter-widgets/controls",
            "_model_module_version": "1.5.0",
            "_model_name": "TextModel",
            "_view_count": null,
            "_view_module": "@jupyter-widgets/controls",
            "_view_module_version": "1.5.0",
            "_view_name": "TextView",
            "continuous_update": true,
            "description": "",
            "description_tooltip": null,
            "disabled": false,
            "layout": "IPY_MODEL_0b8f5584cef74248ad06e9f7d6c03a4e",
            "placeholder": "​",
            "style": "IPY_MODEL_e39f16e09840412b9c876caffa7dbcb0",
            "value": "-"
          }
        },
        "0b8f5584cef74248ad06e9f7d6c03a4e": {
          "model_module": "@jupyter-widgets/base",
          "model_name": "LayoutModel",
          "model_module_version": "1.2.0",
          "state": {
            "_model_module": "@jupyter-widgets/base",
            "_model_module_version": "1.2.0",
            "_model_name": "LayoutModel",
            "_view_count": null,
            "_view_module": "@jupyter-widgets/base",
            "_view_module_version": "1.2.0",
            "_view_name": "LayoutView",
            "align_content": null,
            "align_items": null,
            "align_self": null,
            "border": null,
            "bottom": null,
            "display": null,
            "flex": null,
            "flex_flow": null,
            "grid_area": null,
            "grid_auto_columns": null,
            "grid_auto_flow": null,
            "grid_auto_rows": null,
            "grid_column": null,
            "grid_gap": null,
            "grid_row": null,
            "grid_template_areas": null,
            "grid_template_columns": null,
            "grid_template_rows": null,
            "height": null,
            "justify_content": null,
            "justify_items": null,
            "left": null,
            "margin": null,
            "max_height": null,
            "max_width": null,
            "min_height": null,
            "min_width": null,
            "object_fit": null,
            "object_position": null,
            "order": null,
            "overflow": null,
            "overflow_x": null,
            "overflow_y": null,
            "padding": null,
            "right": null,
            "top": null,
            "visibility": null,
            "width": null
          }
        },
        "e39f16e09840412b9c876caffa7dbcb0": {
          "model_module": "@jupyter-widgets/controls",
          "model_name": "DescriptionStyleModel",
          "model_module_version": "1.5.0",
          "state": {
            "_model_module": "@jupyter-widgets/controls",
            "_model_module_version": "1.5.0",
            "_model_name": "DescriptionStyleModel",
            "_view_count": null,
            "_view_module": "@jupyter-widgets/base",
            "_view_module_version": "1.2.0",
            "_view_name": "StyleView",
            "description_width": ""
          }
        },
        "0f86cfd5969347ca8a394681f9ef6c36": {
          "model_module": "@jupyter-widgets/controls",
          "model_name": "TextModel",
          "model_module_version": "1.5.0",
          "state": {
            "_dom_classes": [],
            "_model_module": "@jupyter-widgets/controls",
            "_model_module_version": "1.5.0",
            "_model_name": "TextModel",
            "_view_count": null,
            "_view_module": "@jupyter-widgets/controls",
            "_view_module_version": "1.5.0",
            "_view_name": "TextView",
            "continuous_update": true,
            "description": "",
            "description_tooltip": null,
            "disabled": false,
            "layout": "IPY_MODEL_d58edfb7e66d4b90b2e361a0e2e80092",
            "placeholder": "​",
            "style": "IPY_MODEL_3afa90be4e934339900b1e2ec41ea930",
            "value": "-"
          }
        },
        "d58edfb7e66d4b90b2e361a0e2e80092": {
          "model_module": "@jupyter-widgets/base",
          "model_name": "LayoutModel",
          "model_module_version": "1.2.0",
          "state": {
            "_model_module": "@jupyter-widgets/base",
            "_model_module_version": "1.2.0",
            "_model_name": "LayoutModel",
            "_view_count": null,
            "_view_module": "@jupyter-widgets/base",
            "_view_module_version": "1.2.0",
            "_view_name": "LayoutView",
            "align_content": null,
            "align_items": null,
            "align_self": null,
            "border": null,
            "bottom": null,
            "display": null,
            "flex": null,
            "flex_flow": null,
            "grid_area": null,
            "grid_auto_columns": null,
            "grid_auto_flow": null,
            "grid_auto_rows": null,
            "grid_column": null,
            "grid_gap": null,
            "grid_row": null,
            "grid_template_areas": null,
            "grid_template_columns": null,
            "grid_template_rows": null,
            "height": null,
            "justify_content": null,
            "justify_items": null,
            "left": null,
            "margin": null,
            "max_height": null,
            "max_width": null,
            "min_height": null,
            "min_width": null,
            "object_fit": null,
            "object_position": null,
            "order": null,
            "overflow": null,
            "overflow_x": null,
            "overflow_y": null,
            "padding": null,
            "right": null,
            "top": null,
            "visibility": null,
            "width": null
          }
        },
        "3afa90be4e934339900b1e2ec41ea930": {
          "model_module": "@jupyter-widgets/controls",
          "model_name": "DescriptionStyleModel",
          "model_module_version": "1.5.0",
          "state": {
            "_model_module": "@jupyter-widgets/controls",
            "_model_module_version": "1.5.0",
            "_model_name": "DescriptionStyleModel",
            "_view_count": null,
            "_view_module": "@jupyter-widgets/base",
            "_view_module_version": "1.2.0",
            "_view_name": "StyleView",
            "description_width": ""
          }
        },
        "b4c0e1f9b3d44b60bf532a87ca4db361": {
          "model_module": "@jupyter-widgets/controls",
          "model_name": "TextModel",
          "model_module_version": "1.5.0",
          "state": {
            "_dom_classes": [],
            "_model_module": "@jupyter-widgets/controls",
            "_model_module_version": "1.5.0",
            "_model_name": "TextModel",
            "_view_count": null,
            "_view_module": "@jupyter-widgets/controls",
            "_view_module_version": "1.5.0",
            "_view_name": "TextView",
            "continuous_update": true,
            "description": "",
            "description_tooltip": null,
            "disabled": false,
            "layout": "IPY_MODEL_aafb1dfde2e14661a11406b1dd59f400",
            "placeholder": "​",
            "style": "IPY_MODEL_4d538945fb8041f09324fdb09b422bf3",
            "value": "-"
          }
        },
        "aafb1dfde2e14661a11406b1dd59f400": {
          "model_module": "@jupyter-widgets/base",
          "model_name": "LayoutModel",
          "model_module_version": "1.2.0",
          "state": {
            "_model_module": "@jupyter-widgets/base",
            "_model_module_version": "1.2.0",
            "_model_name": "LayoutModel",
            "_view_count": null,
            "_view_module": "@jupyter-widgets/base",
            "_view_module_version": "1.2.0",
            "_view_name": "LayoutView",
            "align_content": null,
            "align_items": null,
            "align_self": null,
            "border": null,
            "bottom": null,
            "display": null,
            "flex": null,
            "flex_flow": null,
            "grid_area": null,
            "grid_auto_columns": null,
            "grid_auto_flow": null,
            "grid_auto_rows": null,
            "grid_column": null,
            "grid_gap": null,
            "grid_row": null,
            "grid_template_areas": null,
            "grid_template_columns": null,
            "grid_template_rows": null,
            "height": null,
            "justify_content": null,
            "justify_items": null,
            "left": null,
            "margin": null,
            "max_height": null,
            "max_width": null,
            "min_height": null,
            "min_width": null,
            "object_fit": null,
            "object_position": null,
            "order": null,
            "overflow": null,
            "overflow_x": null,
            "overflow_y": null,
            "padding": null,
            "right": null,
            "top": null,
            "visibility": null,
            "width": null
          }
        },
        "4d538945fb8041f09324fdb09b422bf3": {
          "model_module": "@jupyter-widgets/controls",
          "model_name": "DescriptionStyleModel",
          "model_module_version": "1.5.0",
          "state": {
            "_model_module": "@jupyter-widgets/controls",
            "_model_module_version": "1.5.0",
            "_model_name": "DescriptionStyleModel",
            "_view_count": null,
            "_view_module": "@jupyter-widgets/base",
            "_view_module_version": "1.2.0",
            "_view_name": "StyleView",
            "description_width": ""
          }
        },
        "af62b55ae8a84f8fb30728cd68fd3831": {
          "model_module": "@jupyter-widgets/controls",
          "model_name": "TextModel",
          "model_module_version": "1.5.0",
          "state": {
            "_dom_classes": [],
            "_model_module": "@jupyter-widgets/controls",
            "_model_module_version": "1.5.0",
            "_model_name": "TextModel",
            "_view_count": null,
            "_view_module": "@jupyter-widgets/controls",
            "_view_module_version": "1.5.0",
            "_view_name": "TextView",
            "continuous_update": true,
            "description": "",
            "description_tooltip": null,
            "disabled": false,
            "layout": "IPY_MODEL_74c6b7045f86438f9a2df5f54aa6c30a",
            "placeholder": "​",
            "style": "IPY_MODEL_40d7f01d32134947b8398bba7bd9d44f",
            "value": "-"
          }
        },
        "74c6b7045f86438f9a2df5f54aa6c30a": {
          "model_module": "@jupyter-widgets/base",
          "model_name": "LayoutModel",
          "model_module_version": "1.2.0",
          "state": {
            "_model_module": "@jupyter-widgets/base",
            "_model_module_version": "1.2.0",
            "_model_name": "LayoutModel",
            "_view_count": null,
            "_view_module": "@jupyter-widgets/base",
            "_view_module_version": "1.2.0",
            "_view_name": "LayoutView",
            "align_content": null,
            "align_items": null,
            "align_self": null,
            "border": null,
            "bottom": null,
            "display": null,
            "flex": null,
            "flex_flow": null,
            "grid_area": null,
            "grid_auto_columns": null,
            "grid_auto_flow": null,
            "grid_auto_rows": null,
            "grid_column": null,
            "grid_gap": null,
            "grid_row": null,
            "grid_template_areas": null,
            "grid_template_columns": null,
            "grid_template_rows": null,
            "height": null,
            "justify_content": null,
            "justify_items": null,
            "left": null,
            "margin": null,
            "max_height": null,
            "max_width": null,
            "min_height": null,
            "min_width": null,
            "object_fit": null,
            "object_position": null,
            "order": null,
            "overflow": null,
            "overflow_x": null,
            "overflow_y": null,
            "padding": null,
            "right": null,
            "top": null,
            "visibility": null,
            "width": null
          }
        },
        "40d7f01d32134947b8398bba7bd9d44f": {
          "model_module": "@jupyter-widgets/controls",
          "model_name": "DescriptionStyleModel",
          "model_module_version": "1.5.0",
          "state": {
            "_model_module": "@jupyter-widgets/controls",
            "_model_module_version": "1.5.0",
            "_model_name": "DescriptionStyleModel",
            "_view_count": null,
            "_view_module": "@jupyter-widgets/base",
            "_view_module_version": "1.2.0",
            "_view_name": "StyleView",
            "description_width": ""
          }
        },
        "db81ba90e8bc4c34b10131d3117d8c3c": {
          "model_module": "@jupyter-widgets/controls",
          "model_name": "TextModel",
          "model_module_version": "1.5.0",
          "state": {
            "_dom_classes": [],
            "_model_module": "@jupyter-widgets/controls",
            "_model_module_version": "1.5.0",
            "_model_name": "TextModel",
            "_view_count": null,
            "_view_module": "@jupyter-widgets/controls",
            "_view_module_version": "1.5.0",
            "_view_name": "TextView",
            "continuous_update": true,
            "description": "",
            "description_tooltip": null,
            "disabled": false,
            "layout": "IPY_MODEL_abc5677dee0448f8bae2bff50edd0d89",
            "placeholder": "​",
            "style": "IPY_MODEL_55525d9643734428bde992cc84c05f20",
            "value": "-"
          }
        },
        "abc5677dee0448f8bae2bff50edd0d89": {
          "model_module": "@jupyter-widgets/base",
          "model_name": "LayoutModel",
          "model_module_version": "1.2.0",
          "state": {
            "_model_module": "@jupyter-widgets/base",
            "_model_module_version": "1.2.0",
            "_model_name": "LayoutModel",
            "_view_count": null,
            "_view_module": "@jupyter-widgets/base",
            "_view_module_version": "1.2.0",
            "_view_name": "LayoutView",
            "align_content": null,
            "align_items": null,
            "align_self": null,
            "border": null,
            "bottom": null,
            "display": null,
            "flex": null,
            "flex_flow": null,
            "grid_area": null,
            "grid_auto_columns": null,
            "grid_auto_flow": null,
            "grid_auto_rows": null,
            "grid_column": null,
            "grid_gap": null,
            "grid_row": null,
            "grid_template_areas": null,
            "grid_template_columns": null,
            "grid_template_rows": null,
            "height": null,
            "justify_content": null,
            "justify_items": null,
            "left": null,
            "margin": null,
            "max_height": null,
            "max_width": null,
            "min_height": null,
            "min_width": null,
            "object_fit": null,
            "object_position": null,
            "order": null,
            "overflow": null,
            "overflow_x": null,
            "overflow_y": null,
            "padding": null,
            "right": null,
            "top": null,
            "visibility": null,
            "width": null
          }
        },
        "55525d9643734428bde992cc84c05f20": {
          "model_module": "@jupyter-widgets/controls",
          "model_name": "DescriptionStyleModel",
          "model_module_version": "1.5.0",
          "state": {
            "_model_module": "@jupyter-widgets/controls",
            "_model_module_version": "1.5.0",
            "_model_name": "DescriptionStyleModel",
            "_view_count": null,
            "_view_module": "@jupyter-widgets/base",
            "_view_module_version": "1.2.0",
            "_view_name": "StyleView",
            "description_width": ""
          }
        },
        "c1a4155260a44782b529159e8480551d": {
          "model_module": "@jupyter-widgets/controls",
          "model_name": "ButtonModel",
          "model_module_version": "1.5.0",
          "state": {
            "_dom_classes": [],
            "_model_module": "@jupyter-widgets/controls",
            "_model_module_version": "1.5.0",
            "_model_name": "ButtonModel",
            "_view_count": null,
            "_view_module": "@jupyter-widgets/controls",
            "_view_module_version": "1.5.0",
            "_view_name": "ButtonView",
            "button_style": "",
            "description": "Submit changes",
            "disabled": false,
            "icon": "",
            "layout": "IPY_MODEL_4e56211379494ec7b31835f6b216c889",
            "style": "IPY_MODEL_ab545b6662e249979294000b1ca65637",
            "tooltip": ""
          }
        },
        "4e56211379494ec7b31835f6b216c889": {
          "model_module": "@jupyter-widgets/base",
          "model_name": "LayoutModel",
          "model_module_version": "1.2.0",
          "state": {
            "_model_module": "@jupyter-widgets/base",
            "_model_module_version": "1.2.0",
            "_model_name": "LayoutModel",
            "_view_count": null,
            "_view_module": "@jupyter-widgets/base",
            "_view_module_version": "1.2.0",
            "_view_name": "LayoutView",
            "align_content": null,
            "align_items": null,
            "align_self": null,
            "border": null,
            "bottom": null,
            "display": null,
            "flex": null,
            "flex_flow": null,
            "grid_area": null,
            "grid_auto_columns": null,
            "grid_auto_flow": null,
            "grid_auto_rows": null,
            "grid_column": null,
            "grid_gap": null,
            "grid_row": null,
            "grid_template_areas": null,
            "grid_template_columns": null,
            "grid_template_rows": null,
            "height": null,
            "justify_content": null,
            "justify_items": null,
            "left": null,
            "margin": null,
            "max_height": null,
            "max_width": null,
            "min_height": null,
            "min_width": null,
            "object_fit": null,
            "object_position": null,
            "order": null,
            "overflow": null,
            "overflow_x": null,
            "overflow_y": null,
            "padding": null,
            "right": null,
            "top": null,
            "visibility": null,
            "width": null
          }
        },
        "ab545b6662e249979294000b1ca65637": {
          "model_module": "@jupyter-widgets/controls",
          "model_name": "ButtonStyleModel",
          "model_module_version": "1.5.0",
          "state": {
            "_model_module": "@jupyter-widgets/controls",
            "_model_module_version": "1.5.0",
            "_model_name": "ButtonStyleModel",
            "_view_count": null,
            "_view_module": "@jupyter-widgets/base",
            "_view_module_version": "1.2.0",
            "_view_name": "StyleView",
            "button_color": null,
            "font_weight": ""
          }
        },
        "7764860a47514e58ac534a06f37eb52e": {
          "model_module": "@jupyter-widgets/controls",
          "model_name": "CheckboxModel",
          "model_module_version": "1.5.0",
          "state": {
            "_dom_classes": [],
            "_model_module": "@jupyter-widgets/controls",
            "_model_module_version": "1.5.0",
            "_model_name": "CheckboxModel",
            "_view_count": null,
            "_view_module": "@jupyter-widgets/controls",
            "_view_module_version": "1.5.0",
            "_view_name": "CheckboxView",
            "description": "Edit table",
            "description_tooltip": null,
            "disabled": false,
            "indent": false,
            "layout": "IPY_MODEL_ce4c78b0598547e4adcbc725b8be03f1",
            "style": "IPY_MODEL_1a59930080f143faae92d813c627efc8",
            "value": true
          }
        },
        "ce4c78b0598547e4adcbc725b8be03f1": {
          "model_module": "@jupyter-widgets/base",
          "model_name": "LayoutModel",
          "model_module_version": "1.2.0",
          "state": {
            "_model_module": "@jupyter-widgets/base",
            "_model_module_version": "1.2.0",
            "_model_name": "LayoutModel",
            "_view_count": null,
            "_view_module": "@jupyter-widgets/base",
            "_view_module_version": "1.2.0",
            "_view_name": "LayoutView",
            "align_content": null,
            "align_items": null,
            "align_self": null,
            "border": null,
            "bottom": null,
            "display": null,
            "flex": null,
            "flex_flow": null,
            "grid_area": null,
            "grid_auto_columns": null,
            "grid_auto_flow": null,
            "grid_auto_rows": null,
            "grid_column": null,
            "grid_gap": null,
            "grid_row": null,
            "grid_template_areas": null,
            "grid_template_columns": null,
            "grid_template_rows": null,
            "height": null,
            "justify_content": null,
            "justify_items": null,
            "left": null,
            "margin": null,
            "max_height": null,
            "max_width": null,
            "min_height": null,
            "min_width": null,
            "object_fit": null,
            "object_position": null,
            "order": null,
            "overflow": null,
            "overflow_x": null,
            "overflow_y": null,
            "padding": null,
            "right": null,
            "top": null,
            "visibility": null,
            "width": null
          }
        },
        "1a59930080f143faae92d813c627efc8": {
          "model_module": "@jupyter-widgets/controls",
          "model_name": "DescriptionStyleModel",
          "model_module_version": "1.5.0",
          "state": {
            "_model_module": "@jupyter-widgets/controls",
            "_model_module_version": "1.5.0",
            "_model_name": "DescriptionStyleModel",
            "_view_count": null,
            "_view_module": "@jupyter-widgets/base",
            "_view_module_version": "1.2.0",
            "_view_name": "StyleView",
            "description_width": ""
          }
        },
        "f9bf927ce2c346cdb0ffc28e4a50ee1c": {
          "model_module": "@jupyter-widgets/controls",
          "model_name": "VBoxModel",
          "model_module_version": "1.5.0",
          "state": {
            "_dom_classes": [],
            "_model_module": "@jupyter-widgets/controls",
            "_model_module_version": "1.5.0",
            "_model_name": "VBoxModel",
            "_view_count": null,
            "_view_module": "@jupyter-widgets/controls",
            "_view_module_version": "1.5.0",
            "_view_name": "VBoxView",
            "box_style": "",
            "children": [
              "IPY_MODEL_74135af8b4514efc8ae47e86a5cedd08",
              "IPY_MODEL_b9580d84d1f64e2bb18b25766eedab55"
            ],
            "layout": "IPY_MODEL_d77d28b3eeeb48d7a4aadb9c0297af59"
          }
        },
        "74135af8b4514efc8ae47e86a5cedd08": {
          "model_module": "@jupyter-widgets/controls",
          "model_name": "HBoxModel",
          "model_module_version": "1.5.0",
          "state": {
            "_dom_classes": [],
            "_model_module": "@jupyter-widgets/controls",
            "_model_module_version": "1.5.0",
            "_model_name": "HBoxModel",
            "_view_count": null,
            "_view_module": "@jupyter-widgets/controls",
            "_view_module_version": "1.5.0",
            "_view_name": "HBoxView",
            "box_style": "",
            "children": [
              "IPY_MODEL_5b1ce3a552794832a21ab136ebffab22",
              "IPY_MODEL_8cf0008312d54f1685f626bffabb44e8"
            ],
            "layout": "IPY_MODEL_b1ad20f4c78a48648ddf71204991567c"
          }
        },
        "b9580d84d1f64e2bb18b25766eedab55": {
          "model_module": "@jupyter-widgets/output",
          "model_name": "OutputModel",
          "model_module_version": "1.0.0",
          "state": {
            "_dom_classes": [],
            "_model_module": "@jupyter-widgets/output",
            "_model_module_version": "1.0.0",
            "_model_name": "OutputModel",
            "_view_count": null,
            "_view_module": "@jupyter-widgets/output",
            "_view_module_version": "1.0.0",
            "_view_name": "OutputView",
            "layout": "IPY_MODEL_29021b3f33a74eb5bcb68cb59dbfb6ba",
            "msg_id": "",
            "outputs": [
              {
                "output_type": "display_data",
                "data": {
                  "text/plain": "  PC            instrução     F     D     X   W  F.1  D.1  X.1  W \n0   0   loop: Ld F1,0(r1)     1     2   3-4   5    -    -    -   -\n1   4         Ld F3,4(r1)     2     3   4-5   6    -    -    -   -\n2   8       addf F1,F1,F2     3     4   5-7   8    -    -    -   -\n3  12      addf F3,F3,F2      4     5   6-8   9    -    -    -   -\n4  16         Sd F1,0(r1)     5   6-7   8-9   -    -    -    -   -\n5  20         Sd F3,4(r1)   6-7     8     9   -    -    -    -   -\n6  24         add r1,r1,8     -     -     -   -    -    -    -   -\n7  28      bne r1,r3,loop     -     -     -   -    -    -    -   -",
                  "text/html": "\n  <div id=\"df-209298c3-26e2-4c26-aaf6-fac852d1e359\">\n    <div class=\"colab-df-container\">\n      <div>\n<style scoped>\n    .dataframe tbody tr th:only-of-type {\n        vertical-align: middle;\n    }\n\n    .dataframe tbody tr th {\n        vertical-align: top;\n    }\n\n    .dataframe thead th {\n        text-align: right;\n    }\n</style>\n<table border=\"1\" class=\"dataframe\">\n  <thead>\n    <tr style=\"text-align: right;\">\n      <th></th>\n      <th>PC</th>\n      <th>instrução</th>\n      <th>F</th>\n      <th>D</th>\n      <th>X</th>\n      <th>W</th>\n      <th>F.1</th>\n      <th>D.1</th>\n      <th>X.1</th>\n      <th>W</th>\n    </tr>\n  </thead>\n  <tbody>\n    <tr>\n      <th>0</th>\n      <td>0</td>\n      <td>loop: Ld F1,0(r1)</td>\n      <td>1</td>\n      <td>2</td>\n      <td>3-4</td>\n      <td>5</td>\n      <td>-</td>\n      <td>-</td>\n      <td>-</td>\n      <td>-</td>\n    </tr>\n    <tr>\n      <th>1</th>\n      <td>4</td>\n      <td>Ld F3,4(r1)</td>\n      <td>2</td>\n      <td>3</td>\n      <td>4-5</td>\n      <td>6</td>\n      <td>-</td>\n      <td>-</td>\n      <td>-</td>\n      <td>-</td>\n    </tr>\n    <tr>\n      <th>2</th>\n      <td>8</td>\n      <td>addf F1,F1,F2</td>\n      <td>3</td>\n      <td>4</td>\n      <td>5-7</td>\n      <td>8</td>\n      <td>-</td>\n      <td>-</td>\n      <td>-</td>\n      <td>-</td>\n    </tr>\n    <tr>\n      <th>3</th>\n      <td>12</td>\n      <td>addf F3,F3,F2</td>\n      <td>4</td>\n      <td>5</td>\n      <td>6-8</td>\n      <td>9</td>\n      <td>-</td>\n      <td>-</td>\n      <td>-</td>\n      <td>-</td>\n    </tr>\n    <tr>\n      <th>4</th>\n      <td>16</td>\n      <td>Sd F1,0(r1)</td>\n      <td>5</td>\n      <td>6-7</td>\n      <td>8-9</td>\n      <td>-</td>\n      <td>-</td>\n      <td>-</td>\n      <td>-</td>\n      <td>-</td>\n    </tr>\n    <tr>\n      <th>5</th>\n      <td>20</td>\n      <td>Sd F3,4(r1)</td>\n      <td>6-7</td>\n      <td>8</td>\n      <td>9</td>\n      <td>-</td>\n      <td>-</td>\n      <td>-</td>\n      <td>-</td>\n      <td>-</td>\n    </tr>\n    <tr>\n      <th>6</th>\n      <td>24</td>\n      <td>add r1,r1,8</td>\n      <td>-</td>\n      <td>-</td>\n      <td>-</td>\n      <td>-</td>\n      <td>-</td>\n      <td>-</td>\n      <td>-</td>\n      <td>-</td>\n    </tr>\n    <tr>\n      <th>7</th>\n      <td>28</td>\n      <td>bne r1,r3,loop</td>\n      <td>-</td>\n      <td>-</td>\n      <td>-</td>\n      <td>-</td>\n      <td>-</td>\n      <td>-</td>\n      <td>-</td>\n      <td>-</td>\n    </tr>\n  </tbody>\n</table>\n</div>\n      <button class=\"colab-df-convert\" onclick=\"convertToInteractive('df-209298c3-26e2-4c26-aaf6-fac852d1e359')\"\n              title=\"Convert this dataframe to an interactive table.\"\n              style=\"display:none;\">\n        \n  <svg xmlns=\"http://www.w3.org/2000/svg\" height=\"24px\"viewBox=\"0 0 24 24\"\n       width=\"24px\">\n    <path d=\"M0 0h24v24H0V0z\" fill=\"none\"/>\n    <path d=\"M18.56 5.44l.94 2.06.94-2.06 2.06-.94-2.06-.94-.94-2.06-.94 2.06-2.06.94zm-11 1L8.5 8.5l.94-2.06 2.06-.94-2.06-.94L8.5 2.5l-.94 2.06-2.06.94zm10 10l.94 2.06.94-2.06 2.06-.94-2.06-.94-.94-2.06-.94 2.06-2.06.94z\"/><path d=\"M17.41 7.96l-1.37-1.37c-.4-.4-.92-.59-1.43-.59-.52 0-1.04.2-1.43.59L10.3 9.45l-7.72 7.72c-.78.78-.78 2.05 0 2.83L4 21.41c.39.39.9.59 1.41.59.51 0 1.02-.2 1.41-.59l7.78-7.78 2.81-2.81c.8-.78.8-2.07 0-2.86zM5.41 20L4 18.59l7.72-7.72 1.47 1.35L5.41 20z\"/>\n  </svg>\n      </button>\n      \n  <style>\n    .colab-df-container {\n      display:flex;\n      flex-wrap:wrap;\n      gap: 12px;\n    }\n\n    .colab-df-convert {\n      background-color: #E8F0FE;\n      border: none;\n      border-radius: 50%;\n      cursor: pointer;\n      display: none;\n      fill: #1967D2;\n      height: 32px;\n      padding: 0 0 0 0;\n      width: 32px;\n    }\n\n    .colab-df-convert:hover {\n      background-color: #E2EBFA;\n      box-shadow: 0px 1px 2px rgba(60, 64, 67, 0.3), 0px 1px 3px 1px rgba(60, 64, 67, 0.15);\n      fill: #174EA6;\n    }\n\n    [theme=dark] .colab-df-convert {\n      background-color: #3B4455;\n      fill: #D2E3FC;\n    }\n\n    [theme=dark] .colab-df-convert:hover {\n      background-color: #434B5C;\n      box-shadow: 0px 1px 3px 1px rgba(0, 0, 0, 0.15);\n      filter: drop-shadow(0px 1px 2px rgba(0, 0, 0, 0.3));\n      fill: #FFFFFF;\n    }\n  </style>\n\n      <script>\n        const buttonEl =\n          document.querySelector('#df-209298c3-26e2-4c26-aaf6-fac852d1e359 button.colab-df-convert');\n        buttonEl.style.display =\n          google.colab.kernel.accessAllowed ? 'block' : 'none';\n\n        async function convertToInteractive(key) {\n          const element = document.querySelector('#df-209298c3-26e2-4c26-aaf6-fac852d1e359');\n          const dataTable =\n            await google.colab.kernel.invokeFunction('convertToInteractive',\n                                                     [key], {});\n          if (!dataTable) return;\n\n          const docLinkHtml = 'Like what you see? Visit the ' +\n            '<a target=\"_blank\" href=https://colab.research.google.com/notebooks/data_table.ipynb>data table notebook</a>'\n            + ' to learn more about interactive tables.';\n          element.innerHTML = '';\n          dataTable['output_type'] = 'display_data';\n          await google.colab.output.renderOutput(dataTable, element);\n          const docLink = document.createElement('div');\n          docLink.innerHTML = docLinkHtml;\n          element.appendChild(docLink);\n        }\n      </script>\n    </div>\n  </div>\n  "
                },
                "metadata": {}
              },
              {
                "output_type": "display_data",
                "data": {
                  "text/plain": "<IPython.core.display.Markdown object>",
                  "text/markdown": "## Unroll dependência no SD"
                },
                "metadata": {}
              }
            ]
          }
        },
        "d77d28b3eeeb48d7a4aadb9c0297af59": {
          "model_module": "@jupyter-widgets/base",
          "model_name": "LayoutModel",
          "model_module_version": "1.2.0",
          "state": {
            "_model_module": "@jupyter-widgets/base",
            "_model_module_version": "1.2.0",
            "_model_name": "LayoutModel",
            "_view_count": null,
            "_view_module": "@jupyter-widgets/base",
            "_view_module_version": "1.2.0",
            "_view_name": "LayoutView",
            "align_content": null,
            "align_items": null,
            "align_self": null,
            "border": null,
            "bottom": null,
            "display": null,
            "flex": null,
            "flex_flow": null,
            "grid_area": null,
            "grid_auto_columns": null,
            "grid_auto_flow": null,
            "grid_auto_rows": null,
            "grid_column": null,
            "grid_gap": null,
            "grid_row": null,
            "grid_template_areas": null,
            "grid_template_columns": null,
            "grid_template_rows": null,
            "height": null,
            "justify_content": null,
            "justify_items": null,
            "left": null,
            "margin": null,
            "max_height": null,
            "max_width": null,
            "min_height": null,
            "min_width": null,
            "object_fit": null,
            "object_position": null,
            "order": null,
            "overflow": null,
            "overflow_x": null,
            "overflow_y": null,
            "padding": null,
            "right": null,
            "top": null,
            "visibility": null,
            "width": null
          }
        },
        "5b1ce3a552794832a21ab136ebffab22": {
          "model_module": "@jupyter-widgets/controls",
          "model_name": "ButtonModel",
          "model_module_version": "1.5.0",
          "state": {
            "_dom_classes": [],
            "_model_module": "@jupyter-widgets/controls",
            "_model_module_version": "1.5.0",
            "_model_name": "ButtonModel",
            "_view_count": null,
            "_view_module": "@jupyter-widgets/controls",
            "_view_module_version": "1.5.0",
            "_view_name": "ButtonView",
            "button_style": "",
            "description": "<<",
            "disabled": false,
            "icon": "",
            "layout": "IPY_MODEL_0371d1f2c74548e89895d867b20024e0",
            "style": "IPY_MODEL_6b08dacb5b8a4609bf813852cdfbb273",
            "tooltip": ""
          }
        },
        "8cf0008312d54f1685f626bffabb44e8": {
          "model_module": "@jupyter-widgets/controls",
          "model_name": "ButtonModel",
          "model_module_version": "1.5.0",
          "state": {
            "_dom_classes": [],
            "_model_module": "@jupyter-widgets/controls",
            "_model_module_version": "1.5.0",
            "_model_name": "ButtonModel",
            "_view_count": null,
            "_view_module": "@jupyter-widgets/controls",
            "_view_module_version": "1.5.0",
            "_view_name": "ButtonView",
            "button_style": "",
            "description": ">>",
            "disabled": false,
            "icon": "",
            "layout": "IPY_MODEL_437fb06e06564b58945787bfa8af05ac",
            "style": "IPY_MODEL_92ab6dd7a117469ab6260b339d6a9461",
            "tooltip": ""
          }
        },
        "b1ad20f4c78a48648ddf71204991567c": {
          "model_module": "@jupyter-widgets/base",
          "model_name": "LayoutModel",
          "model_module_version": "1.2.0",
          "state": {
            "_model_module": "@jupyter-widgets/base",
            "_model_module_version": "1.2.0",
            "_model_name": "LayoutModel",
            "_view_count": null,
            "_view_module": "@jupyter-widgets/base",
            "_view_module_version": "1.2.0",
            "_view_name": "LayoutView",
            "align_content": null,
            "align_items": null,
            "align_self": null,
            "border": null,
            "bottom": null,
            "display": null,
            "flex": null,
            "flex_flow": null,
            "grid_area": null,
            "grid_auto_columns": null,
            "grid_auto_flow": null,
            "grid_auto_rows": null,
            "grid_column": null,
            "grid_gap": null,
            "grid_row": null,
            "grid_template_areas": null,
            "grid_template_columns": null,
            "grid_template_rows": null,
            "height": null,
            "justify_content": null,
            "justify_items": null,
            "left": null,
            "margin": null,
            "max_height": null,
            "max_width": null,
            "min_height": null,
            "min_width": null,
            "object_fit": null,
            "object_position": null,
            "order": null,
            "overflow": null,
            "overflow_x": null,
            "overflow_y": null,
            "padding": null,
            "right": null,
            "top": null,
            "visibility": null,
            "width": null
          }
        },
        "0371d1f2c74548e89895d867b20024e0": {
          "model_module": "@jupyter-widgets/base",
          "model_name": "LayoutModel",
          "model_module_version": "1.2.0",
          "state": {
            "_model_module": "@jupyter-widgets/base",
            "_model_module_version": "1.2.0",
            "_model_name": "LayoutModel",
            "_view_count": null,
            "_view_module": "@jupyter-widgets/base",
            "_view_module_version": "1.2.0",
            "_view_name": "LayoutView",
            "align_content": null,
            "align_items": null,
            "align_self": null,
            "border": null,
            "bottom": null,
            "display": null,
            "flex": null,
            "flex_flow": null,
            "grid_area": null,
            "grid_auto_columns": null,
            "grid_auto_flow": null,
            "grid_auto_rows": null,
            "grid_column": null,
            "grid_gap": null,
            "grid_row": null,
            "grid_template_areas": null,
            "grid_template_columns": null,
            "grid_template_rows": null,
            "height": null,
            "justify_content": null,
            "justify_items": null,
            "left": null,
            "margin": null,
            "max_height": null,
            "max_width": null,
            "min_height": null,
            "min_width": null,
            "object_fit": null,
            "object_position": null,
            "order": null,
            "overflow": null,
            "overflow_x": null,
            "overflow_y": null,
            "padding": null,
            "right": null,
            "top": null,
            "visibility": null,
            "width": null
          }
        },
        "6b08dacb5b8a4609bf813852cdfbb273": {
          "model_module": "@jupyter-widgets/controls",
          "model_name": "ButtonStyleModel",
          "model_module_version": "1.5.0",
          "state": {
            "_model_module": "@jupyter-widgets/controls",
            "_model_module_version": "1.5.0",
            "_model_name": "ButtonStyleModel",
            "_view_count": null,
            "_view_module": "@jupyter-widgets/base",
            "_view_module_version": "1.2.0",
            "_view_name": "StyleView",
            "button_color": null,
            "font_weight": ""
          }
        },
        "437fb06e06564b58945787bfa8af05ac": {
          "model_module": "@jupyter-widgets/base",
          "model_name": "LayoutModel",
          "model_module_version": "1.2.0",
          "state": {
            "_model_module": "@jupyter-widgets/base",
            "_model_module_version": "1.2.0",
            "_model_name": "LayoutModel",
            "_view_count": null,
            "_view_module": "@jupyter-widgets/base",
            "_view_module_version": "1.2.0",
            "_view_name": "LayoutView",
            "align_content": null,
            "align_items": null,
            "align_self": null,
            "border": null,
            "bottom": null,
            "display": null,
            "flex": null,
            "flex_flow": null,
            "grid_area": null,
            "grid_auto_columns": null,
            "grid_auto_flow": null,
            "grid_auto_rows": null,
            "grid_column": null,
            "grid_gap": null,
            "grid_row": null,
            "grid_template_areas": null,
            "grid_template_columns": null,
            "grid_template_rows": null,
            "height": null,
            "justify_content": null,
            "justify_items": null,
            "left": null,
            "margin": null,
            "max_height": null,
            "max_width": null,
            "min_height": null,
            "min_width": null,
            "object_fit": null,
            "object_position": null,
            "order": null,
            "overflow": null,
            "overflow_x": null,
            "overflow_y": null,
            "padding": null,
            "right": null,
            "top": null,
            "visibility": null,
            "width": null
          }
        },
        "92ab6dd7a117469ab6260b339d6a9461": {
          "model_module": "@jupyter-widgets/controls",
          "model_name": "ButtonStyleModel",
          "model_module_version": "1.5.0",
          "state": {
            "_model_module": "@jupyter-widgets/controls",
            "_model_module_version": "1.5.0",
            "_model_name": "ButtonStyleModel",
            "_view_count": null,
            "_view_module": "@jupyter-widgets/base",
            "_view_module_version": "1.2.0",
            "_view_name": "StyleView",
            "button_color": null,
            "font_weight": ""
          }
        },
        "29021b3f33a74eb5bcb68cb59dbfb6ba": {
          "model_module": "@jupyter-widgets/base",
          "model_name": "LayoutModel",
          "model_module_version": "1.2.0",
          "state": {
            "_model_module": "@jupyter-widgets/base",
            "_model_module_version": "1.2.0",
            "_model_name": "LayoutModel",
            "_view_count": null,
            "_view_module": "@jupyter-widgets/base",
            "_view_module_version": "1.2.0",
            "_view_name": "LayoutView",
            "align_content": null,
            "align_items": null,
            "align_self": null,
            "border": null,
            "bottom": null,
            "display": null,
            "flex": null,
            "flex_flow": null,
            "grid_area": null,
            "grid_auto_columns": null,
            "grid_auto_flow": null,
            "grid_auto_rows": null,
            "grid_column": null,
            "grid_gap": null,
            "grid_row": null,
            "grid_template_areas": null,
            "grid_template_columns": null,
            "grid_template_rows": null,
            "height": null,
            "justify_content": null,
            "justify_items": null,
            "left": null,
            "margin": null,
            "max_height": null,
            "max_width": null,
            "min_height": null,
            "min_width": null,
            "object_fit": null,
            "object_position": null,
            "order": null,
            "overflow": null,
            "overflow_x": null,
            "overflow_y": null,
            "padding": null,
            "right": null,
            "top": null,
            "visibility": null,
            "width": null
          }
        },
        "948de04718f946ed866072afefaa8d8e": {
          "model_module": "@jupyter-widgets/controls",
          "model_name": "VBoxModel",
          "model_module_version": "1.5.0",
          "state": {
            "_dom_classes": [],
            "_model_module": "@jupyter-widgets/controls",
            "_model_module_version": "1.5.0",
            "_model_name": "VBoxModel",
            "_view_count": null,
            "_view_module": "@jupyter-widgets/controls",
            "_view_module_version": "1.5.0",
            "_view_name": "VBoxView",
            "box_style": "",
            "children": [
              "IPY_MODEL_95341ddc9eef4bfcb332becaa5a09be6",
              "IPY_MODEL_0f45f45491944f70b3d722f16ea82156"
            ],
            "layout": "IPY_MODEL_e4a0c6d599fe4afba2027e0b50da6bf3"
          }
        },
        "95341ddc9eef4bfcb332becaa5a09be6": {
          "model_module": "@jupyter-widgets/controls",
          "model_name": "HBoxModel",
          "model_module_version": "1.5.0",
          "state": {
            "_dom_classes": [],
            "_model_module": "@jupyter-widgets/controls",
            "_model_module_version": "1.5.0",
            "_model_name": "HBoxModel",
            "_view_count": null,
            "_view_module": "@jupyter-widgets/controls",
            "_view_module_version": "1.5.0",
            "_view_name": "HBoxView",
            "box_style": "",
            "children": [
              "IPY_MODEL_71b158d6ff814625891d44cd35b54819",
              "IPY_MODEL_2652af2709e74a988a2ab918abceb3d0"
            ],
            "layout": "IPY_MODEL_73da80f322674939b43f803ec45c0592"
          }
        },
        "0f45f45491944f70b3d722f16ea82156": {
          "model_module": "@jupyter-widgets/output",
          "model_name": "OutputModel",
          "model_module_version": "1.0.0",
          "state": {
            "_dom_classes": [],
            "_model_module": "@jupyter-widgets/output",
            "_model_module_version": "1.0.0",
            "_model_name": "OutputModel",
            "_view_count": null,
            "_view_module": "@jupyter-widgets/output",
            "_view_module_version": "1.0.0",
            "_view_name": "OutputView",
            "layout": "IPY_MODEL_f3d7f510bc4948b9bfe774931caf7929",
            "msg_id": "",
            "outputs": [
              {
                "output_type": "display_data",
                "data": {
                  "text/plain": "      instruçao   F   I       X         W  F.1  I.1  X.1  W.1  Comentario\n0   LD F1,0(R1)   1   2     3-4   5 (L1)*    -    -    -    -           -\n1  ADD F1,F1,F2   2   3   4,5-8   9 (A1)+    -    -    -    -           -\n2   LD F2,8(R1)   -   -       -         -    -    -    -    -           -\n3  MUL F3,F2,F1   -   -       -         -    -    -    -    -           -\n4  MUL F4,F3,F5   -   -       -         -    -    -    -    -           -\n5  Sub R1,r1,32   -   -       -         -    -    -    -    -           -\n6  BNEZ R1,LOOP   -   -       -         -    -    -    -    -           -",
                  "text/html": "\n  <div id=\"df-72b83dcc-829b-4f02-938a-475fc023ebbc\">\n    <div class=\"colab-df-container\">\n      <div>\n<style scoped>\n    .dataframe tbody tr th:only-of-type {\n        vertical-align: middle;\n    }\n\n    .dataframe tbody tr th {\n        vertical-align: top;\n    }\n\n    .dataframe thead th {\n        text-align: right;\n    }\n</style>\n<table border=\"1\" class=\"dataframe\">\n  <thead>\n    <tr style=\"text-align: right;\">\n      <th></th>\n      <th>instruçao</th>\n      <th>F</th>\n      <th>I</th>\n      <th>X</th>\n      <th>W</th>\n      <th>F.1</th>\n      <th>I.1</th>\n      <th>X.1</th>\n      <th>W.1</th>\n      <th>Comentario</th>\n    </tr>\n  </thead>\n  <tbody>\n    <tr>\n      <th>0</th>\n      <td>LD F1,0(R1)</td>\n      <td>1</td>\n      <td>2</td>\n      <td>3-4</td>\n      <td>5 (L1)*</td>\n      <td>-</td>\n      <td>-</td>\n      <td>-</td>\n      <td>-</td>\n      <td>-</td>\n    </tr>\n    <tr>\n      <th>1</th>\n      <td>ADD F1,F1,F2</td>\n      <td>2</td>\n      <td>3</td>\n      <td>4,5-8</td>\n      <td>9 (A1)+</td>\n      <td>-</td>\n      <td>-</td>\n      <td>-</td>\n      <td>-</td>\n      <td>-</td>\n    </tr>\n    <tr>\n      <th>2</th>\n      <td>LD F2,8(R1)</td>\n      <td>-</td>\n      <td>-</td>\n      <td>-</td>\n      <td>-</td>\n      <td>-</td>\n      <td>-</td>\n      <td>-</td>\n      <td>-</td>\n      <td>-</td>\n    </tr>\n    <tr>\n      <th>3</th>\n      <td>MUL F3,F2,F1</td>\n      <td>-</td>\n      <td>-</td>\n      <td>-</td>\n      <td>-</td>\n      <td>-</td>\n      <td>-</td>\n      <td>-</td>\n      <td>-</td>\n      <td>-</td>\n    </tr>\n    <tr>\n      <th>4</th>\n      <td>MUL F4,F3,F5</td>\n      <td>-</td>\n      <td>-</td>\n      <td>-</td>\n      <td>-</td>\n      <td>-</td>\n      <td>-</td>\n      <td>-</td>\n      <td>-</td>\n      <td>-</td>\n    </tr>\n    <tr>\n      <th>5</th>\n      <td>Sub R1,r1,32</td>\n      <td>-</td>\n      <td>-</td>\n      <td>-</td>\n      <td>-</td>\n      <td>-</td>\n      <td>-</td>\n      <td>-</td>\n      <td>-</td>\n      <td>-</td>\n    </tr>\n    <tr>\n      <th>6</th>\n      <td>BNEZ R1,LOOP</td>\n      <td>-</td>\n      <td>-</td>\n      <td>-</td>\n      <td>-</td>\n      <td>-</td>\n      <td>-</td>\n      <td>-</td>\n      <td>-</td>\n      <td>-</td>\n    </tr>\n  </tbody>\n</table>\n</div>\n      <button class=\"colab-df-convert\" onclick=\"convertToInteractive('df-72b83dcc-829b-4f02-938a-475fc023ebbc')\"\n              title=\"Convert this dataframe to an interactive table.\"\n              style=\"display:none;\">\n        \n  <svg xmlns=\"http://www.w3.org/2000/svg\" height=\"24px\"viewBox=\"0 0 24 24\"\n       width=\"24px\">\n    <path d=\"M0 0h24v24H0V0z\" fill=\"none\"/>\n    <path d=\"M18.56 5.44l.94 2.06.94-2.06 2.06-.94-2.06-.94-.94-2.06-.94 2.06-2.06.94zm-11 1L8.5 8.5l.94-2.06 2.06-.94-2.06-.94L8.5 2.5l-.94 2.06-2.06.94zm10 10l.94 2.06.94-2.06 2.06-.94-2.06-.94-.94-2.06-.94 2.06-2.06.94z\"/><path d=\"M17.41 7.96l-1.37-1.37c-.4-.4-.92-.59-1.43-.59-.52 0-1.04.2-1.43.59L10.3 9.45l-7.72 7.72c-.78.78-.78 2.05 0 2.83L4 21.41c.39.39.9.59 1.41.59.51 0 1.02-.2 1.41-.59l7.78-7.78 2.81-2.81c.8-.78.8-2.07 0-2.86zM5.41 20L4 18.59l7.72-7.72 1.47 1.35L5.41 20z\"/>\n  </svg>\n      </button>\n      \n  <style>\n    .colab-df-container {\n      display:flex;\n      flex-wrap:wrap;\n      gap: 12px;\n    }\n\n    .colab-df-convert {\n      background-color: #E8F0FE;\n      border: none;\n      border-radius: 50%;\n      cursor: pointer;\n      display: none;\n      fill: #1967D2;\n      height: 32px;\n      padding: 0 0 0 0;\n      width: 32px;\n    }\n\n    .colab-df-convert:hover {\n      background-color: #E2EBFA;\n      box-shadow: 0px 1px 2px rgba(60, 64, 67, 0.3), 0px 1px 3px 1px rgba(60, 64, 67, 0.15);\n      fill: #174EA6;\n    }\n\n    [theme=dark] .colab-df-convert {\n      background-color: #3B4455;\n      fill: #D2E3FC;\n    }\n\n    [theme=dark] .colab-df-convert:hover {\n      background-color: #434B5C;\n      box-shadow: 0px 1px 3px 1px rgba(0, 0, 0, 0.15);\n      filter: drop-shadow(0px 1px 2px rgba(0, 0, 0, 0.3));\n      fill: #FFFFFF;\n    }\n  </style>\n\n      <script>\n        const buttonEl =\n          document.querySelector('#df-72b83dcc-829b-4f02-938a-475fc023ebbc button.colab-df-convert');\n        buttonEl.style.display =\n          google.colab.kernel.accessAllowed ? 'block' : 'none';\n\n        async function convertToInteractive(key) {\n          const element = document.querySelector('#df-72b83dcc-829b-4f02-938a-475fc023ebbc');\n          const dataTable =\n            await google.colab.kernel.invokeFunction('convertToInteractive',\n                                                     [key], {});\n          if (!dataTable) return;\n\n          const docLinkHtml = 'Like what you see? Visit the ' +\n            '<a target=\"_blank\" href=https://colab.research.google.com/notebooks/data_table.ipynb>data table notebook</a>'\n            + ' to learn more about interactive tables.';\n          element.innerHTML = '';\n          dataTable['output_type'] = 'display_data';\n          await google.colab.output.renderOutput(dataTable, element);\n          const docLink = document.createElement('div');\n          docLink.innerHTML = docLinkHtml;\n          element.appendChild(docLink);\n        }\n      </script>\n    </div>\n  </div>\n  "
                },
                "metadata": {}
              },
              {
                "output_type": "display_data",
                "data": {
                  "text/plain": "<IPython.core.display.Markdown object>",
                  "text/markdown": "## Add é emitido no ciclo 4 e começa a executar no 5 \n * LD na estacao L1 \n + ADD na estacao A1"
                },
                "metadata": {}
              }
            ]
          }
        },
        "e4a0c6d599fe4afba2027e0b50da6bf3": {
          "model_module": "@jupyter-widgets/base",
          "model_name": "LayoutModel",
          "model_module_version": "1.2.0",
          "state": {
            "_model_module": "@jupyter-widgets/base",
            "_model_module_version": "1.2.0",
            "_model_name": "LayoutModel",
            "_view_count": null,
            "_view_module": "@jupyter-widgets/base",
            "_view_module_version": "1.2.0",
            "_view_name": "LayoutView",
            "align_content": null,
            "align_items": null,
            "align_self": null,
            "border": null,
            "bottom": null,
            "display": null,
            "flex": null,
            "flex_flow": null,
            "grid_area": null,
            "grid_auto_columns": null,
            "grid_auto_flow": null,
            "grid_auto_rows": null,
            "grid_column": null,
            "grid_gap": null,
            "grid_row": null,
            "grid_template_areas": null,
            "grid_template_columns": null,
            "grid_template_rows": null,
            "height": null,
            "justify_content": null,
            "justify_items": null,
            "left": null,
            "margin": null,
            "max_height": null,
            "max_width": null,
            "min_height": null,
            "min_width": null,
            "object_fit": null,
            "object_position": null,
            "order": null,
            "overflow": null,
            "overflow_x": null,
            "overflow_y": null,
            "padding": null,
            "right": null,
            "top": null,
            "visibility": null,
            "width": null
          }
        },
        "71b158d6ff814625891d44cd35b54819": {
          "model_module": "@jupyter-widgets/controls",
          "model_name": "ButtonModel",
          "model_module_version": "1.5.0",
          "state": {
            "_dom_classes": [],
            "_model_module": "@jupyter-widgets/controls",
            "_model_module_version": "1.5.0",
            "_model_name": "ButtonModel",
            "_view_count": null,
            "_view_module": "@jupyter-widgets/controls",
            "_view_module_version": "1.5.0",
            "_view_name": "ButtonView",
            "button_style": "",
            "description": "<<",
            "disabled": false,
            "icon": "",
            "layout": "IPY_MODEL_26a200860e164e31be1614fc096c5b07",
            "style": "IPY_MODEL_4bedf41c51b94261ab8816e2f850bd02",
            "tooltip": ""
          }
        },
        "2652af2709e74a988a2ab918abceb3d0": {
          "model_module": "@jupyter-widgets/controls",
          "model_name": "ButtonModel",
          "model_module_version": "1.5.0",
          "state": {
            "_dom_classes": [],
            "_model_module": "@jupyter-widgets/controls",
            "_model_module_version": "1.5.0",
            "_model_name": "ButtonModel",
            "_view_count": null,
            "_view_module": "@jupyter-widgets/controls",
            "_view_module_version": "1.5.0",
            "_view_name": "ButtonView",
            "button_style": "",
            "description": ">>",
            "disabled": false,
            "icon": "",
            "layout": "IPY_MODEL_1dd185c8d6c54af19bc96763760a3687",
            "style": "IPY_MODEL_a544552335654d38baec83a7124e36a3",
            "tooltip": ""
          }
        },
        "73da80f322674939b43f803ec45c0592": {
          "model_module": "@jupyter-widgets/base",
          "model_name": "LayoutModel",
          "model_module_version": "1.2.0",
          "state": {
            "_model_module": "@jupyter-widgets/base",
            "_model_module_version": "1.2.0",
            "_model_name": "LayoutModel",
            "_view_count": null,
            "_view_module": "@jupyter-widgets/base",
            "_view_module_version": "1.2.0",
            "_view_name": "LayoutView",
            "align_content": null,
            "align_items": null,
            "align_self": null,
            "border": null,
            "bottom": null,
            "display": null,
            "flex": null,
            "flex_flow": null,
            "grid_area": null,
            "grid_auto_columns": null,
            "grid_auto_flow": null,
            "grid_auto_rows": null,
            "grid_column": null,
            "grid_gap": null,
            "grid_row": null,
            "grid_template_areas": null,
            "grid_template_columns": null,
            "grid_template_rows": null,
            "height": null,
            "justify_content": null,
            "justify_items": null,
            "left": null,
            "margin": null,
            "max_height": null,
            "max_width": null,
            "min_height": null,
            "min_width": null,
            "object_fit": null,
            "object_position": null,
            "order": null,
            "overflow": null,
            "overflow_x": null,
            "overflow_y": null,
            "padding": null,
            "right": null,
            "top": null,
            "visibility": null,
            "width": null
          }
        },
        "26a200860e164e31be1614fc096c5b07": {
          "model_module": "@jupyter-widgets/base",
          "model_name": "LayoutModel",
          "model_module_version": "1.2.0",
          "state": {
            "_model_module": "@jupyter-widgets/base",
            "_model_module_version": "1.2.0",
            "_model_name": "LayoutModel",
            "_view_count": null,
            "_view_module": "@jupyter-widgets/base",
            "_view_module_version": "1.2.0",
            "_view_name": "LayoutView",
            "align_content": null,
            "align_items": null,
            "align_self": null,
            "border": null,
            "bottom": null,
            "display": null,
            "flex": null,
            "flex_flow": null,
            "grid_area": null,
            "grid_auto_columns": null,
            "grid_auto_flow": null,
            "grid_auto_rows": null,
            "grid_column": null,
            "grid_gap": null,
            "grid_row": null,
            "grid_template_areas": null,
            "grid_template_columns": null,
            "grid_template_rows": null,
            "height": null,
            "justify_content": null,
            "justify_items": null,
            "left": null,
            "margin": null,
            "max_height": null,
            "max_width": null,
            "min_height": null,
            "min_width": null,
            "object_fit": null,
            "object_position": null,
            "order": null,
            "overflow": null,
            "overflow_x": null,
            "overflow_y": null,
            "padding": null,
            "right": null,
            "top": null,
            "visibility": null,
            "width": null
          }
        },
        "4bedf41c51b94261ab8816e2f850bd02": {
          "model_module": "@jupyter-widgets/controls",
          "model_name": "ButtonStyleModel",
          "model_module_version": "1.5.0",
          "state": {
            "_model_module": "@jupyter-widgets/controls",
            "_model_module_version": "1.5.0",
            "_model_name": "ButtonStyleModel",
            "_view_count": null,
            "_view_module": "@jupyter-widgets/base",
            "_view_module_version": "1.2.0",
            "_view_name": "StyleView",
            "button_color": null,
            "font_weight": ""
          }
        },
        "1dd185c8d6c54af19bc96763760a3687": {
          "model_module": "@jupyter-widgets/base",
          "model_name": "LayoutModel",
          "model_module_version": "1.2.0",
          "state": {
            "_model_module": "@jupyter-widgets/base",
            "_model_module_version": "1.2.0",
            "_model_name": "LayoutModel",
            "_view_count": null,
            "_view_module": "@jupyter-widgets/base",
            "_view_module_version": "1.2.0",
            "_view_name": "LayoutView",
            "align_content": null,
            "align_items": null,
            "align_self": null,
            "border": null,
            "bottom": null,
            "display": null,
            "flex": null,
            "flex_flow": null,
            "grid_area": null,
            "grid_auto_columns": null,
            "grid_auto_flow": null,
            "grid_auto_rows": null,
            "grid_column": null,
            "grid_gap": null,
            "grid_row": null,
            "grid_template_areas": null,
            "grid_template_columns": null,
            "grid_template_rows": null,
            "height": null,
            "justify_content": null,
            "justify_items": null,
            "left": null,
            "margin": null,
            "max_height": null,
            "max_width": null,
            "min_height": null,
            "min_width": null,
            "object_fit": null,
            "object_position": null,
            "order": null,
            "overflow": null,
            "overflow_x": null,
            "overflow_y": null,
            "padding": null,
            "right": null,
            "top": null,
            "visibility": null,
            "width": null
          }
        },
        "a544552335654d38baec83a7124e36a3": {
          "model_module": "@jupyter-widgets/controls",
          "model_name": "ButtonStyleModel",
          "model_module_version": "1.5.0",
          "state": {
            "_model_module": "@jupyter-widgets/controls",
            "_model_module_version": "1.5.0",
            "_model_name": "ButtonStyleModel",
            "_view_count": null,
            "_view_module": "@jupyter-widgets/base",
            "_view_module_version": "1.2.0",
            "_view_name": "StyleView",
            "button_color": null,
            "font_weight": ""
          }
        },
        "f3d7f510bc4948b9bfe774931caf7929": {
          "model_module": "@jupyter-widgets/base",
          "model_name": "LayoutModel",
          "model_module_version": "1.2.0",
          "state": {
            "_model_module": "@jupyter-widgets/base",
            "_model_module_version": "1.2.0",
            "_model_name": "LayoutModel",
            "_view_count": null,
            "_view_module": "@jupyter-widgets/base",
            "_view_module_version": "1.2.0",
            "_view_name": "LayoutView",
            "align_content": null,
            "align_items": null,
            "align_self": null,
            "border": null,
            "bottom": null,
            "display": null,
            "flex": null,
            "flex_flow": null,
            "grid_area": null,
            "grid_auto_columns": null,
            "grid_auto_flow": null,
            "grid_auto_rows": null,
            "grid_column": null,
            "grid_gap": null,
            "grid_row": null,
            "grid_template_areas": null,
            "grid_template_columns": null,
            "grid_template_rows": null,
            "height": null,
            "justify_content": null,
            "justify_items": null,
            "left": null,
            "margin": null,
            "max_height": null,
            "max_width": null,
            "min_height": null,
            "min_width": null,
            "object_fit": null,
            "object_position": null,
            "order": null,
            "overflow": null,
            "overflow_x": null,
            "overflow_y": null,
            "padding": null,
            "right": null,
            "top": null,
            "visibility": null,
            "width": null
          }
        },
        "806d363f4b8e4eebaf14528527b6cc44": {
          "model_module": "@jupyter-widgets/controls",
          "model_name": "VBoxModel",
          "model_module_version": "1.5.0",
          "state": {
            "_dom_classes": [],
            "_model_module": "@jupyter-widgets/controls",
            "_model_module_version": "1.5.0",
            "_model_name": "VBoxModel",
            "_view_count": null,
            "_view_module": "@jupyter-widgets/controls",
            "_view_module_version": "1.5.0",
            "_view_name": "VBoxView",
            "box_style": "",
            "children": [
              "IPY_MODEL_26cb9e94c38a48ea96f66c58831c8074",
              "IPY_MODEL_7d25b0c448aa4057a236eae179db685b"
            ],
            "layout": "IPY_MODEL_a1fb40490dee442582a4f7684fa71b79"
          }
        },
        "26cb9e94c38a48ea96f66c58831c8074": {
          "model_module": "@jupyter-widgets/controls",
          "model_name": "HBoxModel",
          "model_module_version": "1.5.0",
          "state": {
            "_dom_classes": [],
            "_model_module": "@jupyter-widgets/controls",
            "_model_module_version": "1.5.0",
            "_model_name": "HBoxModel",
            "_view_count": null,
            "_view_module": "@jupyter-widgets/controls",
            "_view_module_version": "1.5.0",
            "_view_name": "HBoxView",
            "box_style": "",
            "children": [
              "IPY_MODEL_d742075d5908462ea5ca749a3101a036",
              "IPY_MODEL_fb3b453d8b46459d957204c519df1817"
            ],
            "layout": "IPY_MODEL_43200755a196428d95fe5b86950f2946"
          }
        },
        "7d25b0c448aa4057a236eae179db685b": {
          "model_module": "@jupyter-widgets/output",
          "model_name": "OutputModel",
          "model_module_version": "1.0.0",
          "state": {
            "_dom_classes": [],
            "_model_module": "@jupyter-widgets/output",
            "_model_module_version": "1.0.0",
            "_model_name": "OutputModel",
            "_view_count": null,
            "_view_module": "@jupyter-widgets/output",
            "_view_module_version": "1.0.0",
            "_view_name": "OutputView",
            "layout": "IPY_MODEL_cd3130ad5a964e338a61af7c14e966b8",
            "msg_id": "",
            "outputs": [
              {
                "output_type": "display_data",
                "data": {
                  "text/plain": "                inst   F   I        X         W  F.1  I.1      X.1       W.1  \\\n0  Loop: LD F1,0(R1)   1   2      3-4    5 (L1)    5    6    7-8,9   10 (L2)   \n1        LD F2,8(R1)   1   2     3-45    6 (L2)    5    6   7-9,11   12 (L3)   \n2       Sub R1,r1,32   2   3        4   5 (int)    6    -        -         -   \n3      MUL F3,F2,F2    2   3   4-6-10   11 (M1)    6    -        -         -   \n4       ADD F1,F1,F2   3   4     56-8    9 (A1)    -    -        -         -   \n5       SD F1,16(R1)   3   4   5,9-10   - (L1)     -    -        -         -   \n6       MUL F4,F3,F4   4   5  6,11-15   16 (M2)    -    -        -         -   \n7      BNEZ R1, LOOP   4                                -        -         -   \n\n  Unnamed: 9  \n0          -  \n1          -  \n2          -  \n3          -  \n4          -  \n5          -  \n6          -  \n7          -  ",
                  "text/html": "\n  <div id=\"df-46e06149-1e7f-44ed-a1db-c2180d17802d\">\n    <div class=\"colab-df-container\">\n      <div>\n<style scoped>\n    .dataframe tbody tr th:only-of-type {\n        vertical-align: middle;\n    }\n\n    .dataframe tbody tr th {\n        vertical-align: top;\n    }\n\n    .dataframe thead th {\n        text-align: right;\n    }\n</style>\n<table border=\"1\" class=\"dataframe\">\n  <thead>\n    <tr style=\"text-align: right;\">\n      <th></th>\n      <th>inst</th>\n      <th>F</th>\n      <th>I</th>\n      <th>X</th>\n      <th>W</th>\n      <th>F.1</th>\n      <th>I.1</th>\n      <th>X.1</th>\n      <th>W.1</th>\n      <th>Unnamed: 9</th>\n    </tr>\n  </thead>\n  <tbody>\n    <tr>\n      <th>0</th>\n      <td>Loop: LD F1,0(R1)</td>\n      <td>1</td>\n      <td>2</td>\n      <td>3-4</td>\n      <td>5 (L1)</td>\n      <td>5</td>\n      <td>6</td>\n      <td>7-8,9</td>\n      <td>10 (L2)</td>\n      <td>-</td>\n    </tr>\n    <tr>\n      <th>1</th>\n      <td>LD F2,8(R1)</td>\n      <td>1</td>\n      <td>2</td>\n      <td>3-45</td>\n      <td>6 (L2)</td>\n      <td>5</td>\n      <td>6</td>\n      <td>7-9,11</td>\n      <td>12 (L3)</td>\n      <td>-</td>\n    </tr>\n    <tr>\n      <th>2</th>\n      <td>Sub R1,r1,32</td>\n      <td>2</td>\n      <td>3</td>\n      <td>4</td>\n      <td>5 (int)</td>\n      <td>6</td>\n      <td>-</td>\n      <td>-</td>\n      <td>-</td>\n      <td>-</td>\n    </tr>\n    <tr>\n      <th>3</th>\n      <td>MUL F3,F2,F2</td>\n      <td>2</td>\n      <td>3</td>\n      <td>4-6-10</td>\n      <td>11 (M1)</td>\n      <td>6</td>\n      <td>-</td>\n      <td>-</td>\n      <td>-</td>\n      <td>-</td>\n    </tr>\n    <tr>\n      <th>4</th>\n      <td>ADD F1,F1,F2</td>\n      <td>3</td>\n      <td>4</td>\n      <td>56-8</td>\n      <td>9 (A1)</td>\n      <td>-</td>\n      <td>-</td>\n      <td>-</td>\n      <td>-</td>\n      <td>-</td>\n    </tr>\n    <tr>\n      <th>5</th>\n      <td>SD F1,16(R1)</td>\n      <td>3</td>\n      <td>4</td>\n      <td>5,9-10</td>\n      <td>- (L1)</td>\n      <td>-</td>\n      <td>-</td>\n      <td>-</td>\n      <td>-</td>\n      <td>-</td>\n    </tr>\n    <tr>\n      <th>6</th>\n      <td>MUL F4,F3,F4</td>\n      <td>4</td>\n      <td>5</td>\n      <td>6,11-15</td>\n      <td>16 (M2)</td>\n      <td>-</td>\n      <td>-</td>\n      <td>-</td>\n      <td>-</td>\n      <td>-</td>\n    </tr>\n    <tr>\n      <th>7</th>\n      <td>BNEZ R1, LOOP</td>\n      <td>4</td>\n      <td></td>\n      <td></td>\n      <td></td>\n      <td></td>\n      <td>-</td>\n      <td>-</td>\n      <td>-</td>\n      <td>-</td>\n    </tr>\n  </tbody>\n</table>\n</div>\n      <button class=\"colab-df-convert\" onclick=\"convertToInteractive('df-46e06149-1e7f-44ed-a1db-c2180d17802d')\"\n              title=\"Convert this dataframe to an interactive table.\"\n              style=\"display:none;\">\n        \n  <svg xmlns=\"http://www.w3.org/2000/svg\" height=\"24px\"viewBox=\"0 0 24 24\"\n       width=\"24px\">\n    <path d=\"M0 0h24v24H0V0z\" fill=\"none\"/>\n    <path d=\"M18.56 5.44l.94 2.06.94-2.06 2.06-.94-2.06-.94-.94-2.06-.94 2.06-2.06.94zm-11 1L8.5 8.5l.94-2.06 2.06-.94-2.06-.94L8.5 2.5l-.94 2.06-2.06.94zm10 10l.94 2.06.94-2.06 2.06-.94-2.06-.94-.94-2.06-.94 2.06-2.06.94z\"/><path d=\"M17.41 7.96l-1.37-1.37c-.4-.4-.92-.59-1.43-.59-.52 0-1.04.2-1.43.59L10.3 9.45l-7.72 7.72c-.78.78-.78 2.05 0 2.83L4 21.41c.39.39.9.59 1.41.59.51 0 1.02-.2 1.41-.59l7.78-7.78 2.81-2.81c.8-.78.8-2.07 0-2.86zM5.41 20L4 18.59l7.72-7.72 1.47 1.35L5.41 20z\"/>\n  </svg>\n      </button>\n      \n  <style>\n    .colab-df-container {\n      display:flex;\n      flex-wrap:wrap;\n      gap: 12px;\n    }\n\n    .colab-df-convert {\n      background-color: #E8F0FE;\n      border: none;\n      border-radius: 50%;\n      cursor: pointer;\n      display: none;\n      fill: #1967D2;\n      height: 32px;\n      padding: 0 0 0 0;\n      width: 32px;\n    }\n\n    .colab-df-convert:hover {\n      background-color: #E2EBFA;\n      box-shadow: 0px 1px 2px rgba(60, 64, 67, 0.3), 0px 1px 3px 1px rgba(60, 64, 67, 0.15);\n      fill: #174EA6;\n    }\n\n    [theme=dark] .colab-df-convert {\n      background-color: #3B4455;\n      fill: #D2E3FC;\n    }\n\n    [theme=dark] .colab-df-convert:hover {\n      background-color: #434B5C;\n      box-shadow: 0px 1px 3px 1px rgba(0, 0, 0, 0.15);\n      filter: drop-shadow(0px 1px 2px rgba(0, 0, 0, 0.3));\n      fill: #FFFFFF;\n    }\n  </style>\n\n      <script>\n        const buttonEl =\n          document.querySelector('#df-46e06149-1e7f-44ed-a1db-c2180d17802d button.colab-df-convert');\n        buttonEl.style.display =\n          google.colab.kernel.accessAllowed ? 'block' : 'none';\n\n        async function convertToInteractive(key) {\n          const element = document.querySelector('#df-46e06149-1e7f-44ed-a1db-c2180d17802d');\n          const dataTable =\n            await google.colab.kernel.invokeFunction('convertToInteractive',\n                                                     [key], {});\n          if (!dataTable) return;\n\n          const docLinkHtml = 'Like what you see? Visit the ' +\n            '<a target=\"_blank\" href=https://colab.research.google.com/notebooks/data_table.ipynb>data table notebook</a>'\n            + ' to learn more about interactive tables.';\n          element.innerHTML = '';\n          dataTable['output_type'] = 'display_data';\n          await google.colab.output.renderOutput(dataTable, element);\n          const docLink = document.createElement('div');\n          docLink.innerHTML = docLinkHtml;\n          element.appendChild(docLink);\n        }\n      </script>\n    </div>\n  </div>\n  "
                },
                "metadata": {}
              },
              {
                "output_type": "display_data",
                "data": {
                  "text/plain": "<IPython.core.display.Markdown object>",
                  "text/markdown": "## Atenção as gravacoes (W) e numero de estacoes de reserva"
                },
                "metadata": {}
              }
            ]
          }
        },
        "a1fb40490dee442582a4f7684fa71b79": {
          "model_module": "@jupyter-widgets/base",
          "model_name": "LayoutModel",
          "model_module_version": "1.2.0",
          "state": {
            "_model_module": "@jupyter-widgets/base",
            "_model_module_version": "1.2.0",
            "_model_name": "LayoutModel",
            "_view_count": null,
            "_view_module": "@jupyter-widgets/base",
            "_view_module_version": "1.2.0",
            "_view_name": "LayoutView",
            "align_content": null,
            "align_items": null,
            "align_self": null,
            "border": null,
            "bottom": null,
            "display": null,
            "flex": null,
            "flex_flow": null,
            "grid_area": null,
            "grid_auto_columns": null,
            "grid_auto_flow": null,
            "grid_auto_rows": null,
            "grid_column": null,
            "grid_gap": null,
            "grid_row": null,
            "grid_template_areas": null,
            "grid_template_columns": null,
            "grid_template_rows": null,
            "height": null,
            "justify_content": null,
            "justify_items": null,
            "left": null,
            "margin": null,
            "max_height": null,
            "max_width": null,
            "min_height": null,
            "min_width": null,
            "object_fit": null,
            "object_position": null,
            "order": null,
            "overflow": null,
            "overflow_x": null,
            "overflow_y": null,
            "padding": null,
            "right": null,
            "top": null,
            "visibility": null,
            "width": null
          }
        },
        "d742075d5908462ea5ca749a3101a036": {
          "model_module": "@jupyter-widgets/controls",
          "model_name": "ButtonModel",
          "model_module_version": "1.5.0",
          "state": {
            "_dom_classes": [],
            "_model_module": "@jupyter-widgets/controls",
            "_model_module_version": "1.5.0",
            "_model_name": "ButtonModel",
            "_view_count": null,
            "_view_module": "@jupyter-widgets/controls",
            "_view_module_version": "1.5.0",
            "_view_name": "ButtonView",
            "button_style": "",
            "description": "<<",
            "disabled": false,
            "icon": "",
            "layout": "IPY_MODEL_55c66d5ad7a14f61a987bf69c7335cf1",
            "style": "IPY_MODEL_f080a388ac0e4ddb9662c72643707d5d",
            "tooltip": ""
          }
        },
        "fb3b453d8b46459d957204c519df1817": {
          "model_module": "@jupyter-widgets/controls",
          "model_name": "ButtonModel",
          "model_module_version": "1.5.0",
          "state": {
            "_dom_classes": [],
            "_model_module": "@jupyter-widgets/controls",
            "_model_module_version": "1.5.0",
            "_model_name": "ButtonModel",
            "_view_count": null,
            "_view_module": "@jupyter-widgets/controls",
            "_view_module_version": "1.5.0",
            "_view_name": "ButtonView",
            "button_style": "",
            "description": ">>",
            "disabled": false,
            "icon": "",
            "layout": "IPY_MODEL_c6b0db10b8cd4b7da800400440bba316",
            "style": "IPY_MODEL_21209fe9b9a146f9a5567dbdce46892c",
            "tooltip": ""
          }
        },
        "43200755a196428d95fe5b86950f2946": {
          "model_module": "@jupyter-widgets/base",
          "model_name": "LayoutModel",
          "model_module_version": "1.2.0",
          "state": {
            "_model_module": "@jupyter-widgets/base",
            "_model_module_version": "1.2.0",
            "_model_name": "LayoutModel",
            "_view_count": null,
            "_view_module": "@jupyter-widgets/base",
            "_view_module_version": "1.2.0",
            "_view_name": "LayoutView",
            "align_content": null,
            "align_items": null,
            "align_self": null,
            "border": null,
            "bottom": null,
            "display": null,
            "flex": null,
            "flex_flow": null,
            "grid_area": null,
            "grid_auto_columns": null,
            "grid_auto_flow": null,
            "grid_auto_rows": null,
            "grid_column": null,
            "grid_gap": null,
            "grid_row": null,
            "grid_template_areas": null,
            "grid_template_columns": null,
            "grid_template_rows": null,
            "height": null,
            "justify_content": null,
            "justify_items": null,
            "left": null,
            "margin": null,
            "max_height": null,
            "max_width": null,
            "min_height": null,
            "min_width": null,
            "object_fit": null,
            "object_position": null,
            "order": null,
            "overflow": null,
            "overflow_x": null,
            "overflow_y": null,
            "padding": null,
            "right": null,
            "top": null,
            "visibility": null,
            "width": null
          }
        },
        "55c66d5ad7a14f61a987bf69c7335cf1": {
          "model_module": "@jupyter-widgets/base",
          "model_name": "LayoutModel",
          "model_module_version": "1.2.0",
          "state": {
            "_model_module": "@jupyter-widgets/base",
            "_model_module_version": "1.2.0",
            "_model_name": "LayoutModel",
            "_view_count": null,
            "_view_module": "@jupyter-widgets/base",
            "_view_module_version": "1.2.0",
            "_view_name": "LayoutView",
            "align_content": null,
            "align_items": null,
            "align_self": null,
            "border": null,
            "bottom": null,
            "display": null,
            "flex": null,
            "flex_flow": null,
            "grid_area": null,
            "grid_auto_columns": null,
            "grid_auto_flow": null,
            "grid_auto_rows": null,
            "grid_column": null,
            "grid_gap": null,
            "grid_row": null,
            "grid_template_areas": null,
            "grid_template_columns": null,
            "grid_template_rows": null,
            "height": null,
            "justify_content": null,
            "justify_items": null,
            "left": null,
            "margin": null,
            "max_height": null,
            "max_width": null,
            "min_height": null,
            "min_width": null,
            "object_fit": null,
            "object_position": null,
            "order": null,
            "overflow": null,
            "overflow_x": null,
            "overflow_y": null,
            "padding": null,
            "right": null,
            "top": null,
            "visibility": null,
            "width": null
          }
        },
        "f080a388ac0e4ddb9662c72643707d5d": {
          "model_module": "@jupyter-widgets/controls",
          "model_name": "ButtonStyleModel",
          "model_module_version": "1.5.0",
          "state": {
            "_model_module": "@jupyter-widgets/controls",
            "_model_module_version": "1.5.0",
            "_model_name": "ButtonStyleModel",
            "_view_count": null,
            "_view_module": "@jupyter-widgets/base",
            "_view_module_version": "1.2.0",
            "_view_name": "StyleView",
            "button_color": null,
            "font_weight": ""
          }
        },
        "c6b0db10b8cd4b7da800400440bba316": {
          "model_module": "@jupyter-widgets/base",
          "model_name": "LayoutModel",
          "model_module_version": "1.2.0",
          "state": {
            "_model_module": "@jupyter-widgets/base",
            "_model_module_version": "1.2.0",
            "_model_name": "LayoutModel",
            "_view_count": null,
            "_view_module": "@jupyter-widgets/base",
            "_view_module_version": "1.2.0",
            "_view_name": "LayoutView",
            "align_content": null,
            "align_items": null,
            "align_self": null,
            "border": null,
            "bottom": null,
            "display": null,
            "flex": null,
            "flex_flow": null,
            "grid_area": null,
            "grid_auto_columns": null,
            "grid_auto_flow": null,
            "grid_auto_rows": null,
            "grid_column": null,
            "grid_gap": null,
            "grid_row": null,
            "grid_template_areas": null,
            "grid_template_columns": null,
            "grid_template_rows": null,
            "height": null,
            "justify_content": null,
            "justify_items": null,
            "left": null,
            "margin": null,
            "max_height": null,
            "max_width": null,
            "min_height": null,
            "min_width": null,
            "object_fit": null,
            "object_position": null,
            "order": null,
            "overflow": null,
            "overflow_x": null,
            "overflow_y": null,
            "padding": null,
            "right": null,
            "top": null,
            "visibility": null,
            "width": null
          }
        },
        "21209fe9b9a146f9a5567dbdce46892c": {
          "model_module": "@jupyter-widgets/controls",
          "model_name": "ButtonStyleModel",
          "model_module_version": "1.5.0",
          "state": {
            "_model_module": "@jupyter-widgets/controls",
            "_model_module_version": "1.5.0",
            "_model_name": "ButtonStyleModel",
            "_view_count": null,
            "_view_module": "@jupyter-widgets/base",
            "_view_module_version": "1.2.0",
            "_view_name": "StyleView",
            "button_color": null,
            "font_weight": ""
          }
        },
        "cd3130ad5a964e338a61af7c14e966b8": {
          "model_module": "@jupyter-widgets/base",
          "model_name": "LayoutModel",
          "model_module_version": "1.2.0",
          "state": {
            "_model_module": "@jupyter-widgets/base",
            "_model_module_version": "1.2.0",
            "_model_name": "LayoutModel",
            "_view_count": null,
            "_view_module": "@jupyter-widgets/base",
            "_view_module_version": "1.2.0",
            "_view_name": "LayoutView",
            "align_content": null,
            "align_items": null,
            "align_self": null,
            "border": null,
            "bottom": null,
            "display": null,
            "flex": null,
            "flex_flow": null,
            "grid_area": null,
            "grid_auto_columns": null,
            "grid_auto_flow": null,
            "grid_auto_rows": null,
            "grid_column": null,
            "grid_gap": null,
            "grid_row": null,
            "grid_template_areas": null,
            "grid_template_columns": null,
            "grid_template_rows": null,
            "height": null,
            "justify_content": null,
            "justify_items": null,
            "left": null,
            "margin": null,
            "max_height": null,
            "max_width": null,
            "min_height": null,
            "min_width": null,
            "object_fit": null,
            "object_position": null,
            "order": null,
            "overflow": null,
            "overflow_x": null,
            "overflow_y": null,
            "padding": null,
            "right": null,
            "top": null,
            "visibility": null,
            "width": null
          }
        },
        "e0270799e0e941628588d52c7bbcdbb8": {
          "model_module": "@jupyter-widgets/controls",
          "model_name": "VBoxModel",
          "model_module_version": "1.5.0",
          "state": {
            "_dom_classes": [],
            "_model_module": "@jupyter-widgets/controls",
            "_model_module_version": "1.5.0",
            "_model_name": "VBoxModel",
            "_view_count": null,
            "_view_module": "@jupyter-widgets/controls",
            "_view_module_version": "1.5.0",
            "_view_name": "VBoxView",
            "box_style": "",
            "children": [
              "IPY_MODEL_ea91bad6a0904bceb3f7f8b5132c9d1d",
              "IPY_MODEL_795ab55e9fbc4ebd8366fc11b6f9115d"
            ],
            "layout": "IPY_MODEL_0ec96fd2398942d88de48a19c1b241f5"
          }
        },
        "ea91bad6a0904bceb3f7f8b5132c9d1d": {
          "model_module": "@jupyter-widgets/controls",
          "model_name": "HBoxModel",
          "model_module_version": "1.5.0",
          "state": {
            "_dom_classes": [],
            "_model_module": "@jupyter-widgets/controls",
            "_model_module_version": "1.5.0",
            "_model_name": "HBoxModel",
            "_view_count": null,
            "_view_module": "@jupyter-widgets/controls",
            "_view_module_version": "1.5.0",
            "_view_name": "HBoxView",
            "box_style": "",
            "children": [
              "IPY_MODEL_c5c51f57225b4d47a64ca86d9c2bb2ae",
              "IPY_MODEL_499cb3a94d754d51b685669e3d3c7fa6"
            ],
            "layout": "IPY_MODEL_bf00940aa1d54d538b56f94f05e892e3"
          }
        },
        "795ab55e9fbc4ebd8366fc11b6f9115d": {
          "model_module": "@jupyter-widgets/output",
          "model_name": "OutputModel",
          "model_module_version": "1.0.0",
          "state": {
            "_dom_classes": [],
            "_model_module": "@jupyter-widgets/output",
            "_model_module_version": "1.0.0",
            "_model_name": "OutputModel",
            "_view_count": null,
            "_view_module": "@jupyter-widgets/output",
            "_view_module_version": "1.0.0",
            "_view_name": "OutputView",
            "layout": "IPY_MODEL_d012a5c9f8ba4393a7c09a6876646d0a",
            "msg_id": "",
            "outputs": [
              {
                "output_type": "display_data",
                "data": {
                  "text/plain": "          instrucao       F       D       E    W  F.1  D.1     E.1  W.1   \n0  loop LD F1,0(r1)       1       2     3-4   5    20   21   22-23   24  -\n1      Add F2,F1,F3       2     3-4     5-7   8     -    -       -    -  -\n2       SD F2,0(r1)     3-4     5-7     8-9         -    -       -    -  -\n3       LD F4,4(r1)     5-7       8    9-10  11          -       -    -  -\n4      Mul F5,F4,F4       8    9-10   11-15   16    -    -       -    -  -\n5      Add F6,F5,F4    9-10   11-15   16-18   19    -    -       -    -  -\n6       Sd F6,4(r1)   11-15   16-18   19-20         -    -       -    -  -\n7       add r1,r1,8   16-18      19      20   21    -    -       -    -  -\n8   bne r1,r2, loop      19       -       -    -    -    -       -    -  -",
                  "text/html": "\n  <div id=\"df-e2b4782b-329a-4b8f-a16b-103f84308743\">\n    <div class=\"colab-df-container\">\n      <div>\n<style scoped>\n    .dataframe tbody tr th:only-of-type {\n        vertical-align: middle;\n    }\n\n    .dataframe tbody tr th {\n        vertical-align: top;\n    }\n\n    .dataframe thead th {\n        text-align: right;\n    }\n</style>\n<table border=\"1\" class=\"dataframe\">\n  <thead>\n    <tr style=\"text-align: right;\">\n      <th></th>\n      <th>instrucao</th>\n      <th>F</th>\n      <th>D</th>\n      <th>E</th>\n      <th>W</th>\n      <th>F.1</th>\n      <th>D.1</th>\n      <th>E.1</th>\n      <th>W.1</th>\n      <th></th>\n    </tr>\n  </thead>\n  <tbody>\n    <tr>\n      <th>0</th>\n      <td>loop LD F1,0(r1)</td>\n      <td>1</td>\n      <td>2</td>\n      <td>3-4</td>\n      <td>5</td>\n      <td>20</td>\n      <td>21</td>\n      <td>22-23</td>\n      <td>24</td>\n      <td>-</td>\n    </tr>\n    <tr>\n      <th>1</th>\n      <td>Add F2,F1,F3</td>\n      <td>2</td>\n      <td>3-4</td>\n      <td>5-7</td>\n      <td>8</td>\n      <td>-</td>\n      <td>-</td>\n      <td>-</td>\n      <td>-</td>\n      <td>-</td>\n    </tr>\n    <tr>\n      <th>2</th>\n      <td>SD F2,0(r1)</td>\n      <td>3-4</td>\n      <td>5-7</td>\n      <td>8-9</td>\n      <td></td>\n      <td>-</td>\n      <td>-</td>\n      <td>-</td>\n      <td>-</td>\n      <td>-</td>\n    </tr>\n    <tr>\n      <th>3</th>\n      <td>LD F4,4(r1)</td>\n      <td>5-7</td>\n      <td>8</td>\n      <td>9-10</td>\n      <td>11</td>\n      <td></td>\n      <td>-</td>\n      <td>-</td>\n      <td>-</td>\n      <td>-</td>\n    </tr>\n    <tr>\n      <th>4</th>\n      <td>Mul F5,F4,F4</td>\n      <td>8</td>\n      <td>9-10</td>\n      <td>11-15</td>\n      <td>16</td>\n      <td>-</td>\n      <td>-</td>\n      <td>-</td>\n      <td>-</td>\n      <td>-</td>\n    </tr>\n    <tr>\n      <th>5</th>\n      <td>Add F6,F5,F4</td>\n      <td>9-10</td>\n      <td>11-15</td>\n      <td>16-18</td>\n      <td>19</td>\n      <td>-</td>\n      <td>-</td>\n      <td>-</td>\n      <td>-</td>\n      <td>-</td>\n    </tr>\n    <tr>\n      <th>6</th>\n      <td>Sd F6,4(r1)</td>\n      <td>11-15</td>\n      <td>16-18</td>\n      <td>19-20</td>\n      <td></td>\n      <td>-</td>\n      <td>-</td>\n      <td>-</td>\n      <td>-</td>\n      <td>-</td>\n    </tr>\n    <tr>\n      <th>7</th>\n      <td>add r1,r1,8</td>\n      <td>16-18</td>\n      <td>19</td>\n      <td>20</td>\n      <td>21</td>\n      <td>-</td>\n      <td>-</td>\n      <td>-</td>\n      <td>-</td>\n      <td>-</td>\n    </tr>\n    <tr>\n      <th>8</th>\n      <td>bne r1,r2, loop</td>\n      <td>19</td>\n      <td>-</td>\n      <td>-</td>\n      <td>-</td>\n      <td>-</td>\n      <td>-</td>\n      <td>-</td>\n      <td>-</td>\n      <td>-</td>\n    </tr>\n  </tbody>\n</table>\n</div>\n      <button class=\"colab-df-convert\" onclick=\"convertToInteractive('df-e2b4782b-329a-4b8f-a16b-103f84308743')\"\n              title=\"Convert this dataframe to an interactive table.\"\n              style=\"display:none;\">\n        \n  <svg xmlns=\"http://www.w3.org/2000/svg\" height=\"24px\"viewBox=\"0 0 24 24\"\n       width=\"24px\">\n    <path d=\"M0 0h24v24H0V0z\" fill=\"none\"/>\n    <path d=\"M18.56 5.44l.94 2.06.94-2.06 2.06-.94-2.06-.94-.94-2.06-.94 2.06-2.06.94zm-11 1L8.5 8.5l.94-2.06 2.06-.94-2.06-.94L8.5 2.5l-.94 2.06-2.06.94zm10 10l.94 2.06.94-2.06 2.06-.94-2.06-.94-.94-2.06-.94 2.06-2.06.94z\"/><path d=\"M17.41 7.96l-1.37-1.37c-.4-.4-.92-.59-1.43-.59-.52 0-1.04.2-1.43.59L10.3 9.45l-7.72 7.72c-.78.78-.78 2.05 0 2.83L4 21.41c.39.39.9.59 1.41.59.51 0 1.02-.2 1.41-.59l7.78-7.78 2.81-2.81c.8-.78.8-2.07 0-2.86zM5.41 20L4 18.59l7.72-7.72 1.47 1.35L5.41 20z\"/>\n  </svg>\n      </button>\n      \n  <style>\n    .colab-df-container {\n      display:flex;\n      flex-wrap:wrap;\n      gap: 12px;\n    }\n\n    .colab-df-convert {\n      background-color: #E8F0FE;\n      border: none;\n      border-radius: 50%;\n      cursor: pointer;\n      display: none;\n      fill: #1967D2;\n      height: 32px;\n      padding: 0 0 0 0;\n      width: 32px;\n    }\n\n    .colab-df-convert:hover {\n      background-color: #E2EBFA;\n      box-shadow: 0px 1px 2px rgba(60, 64, 67, 0.3), 0px 1px 3px 1px rgba(60, 64, 67, 0.15);\n      fill: #174EA6;\n    }\n\n    [theme=dark] .colab-df-convert {\n      background-color: #3B4455;\n      fill: #D2E3FC;\n    }\n\n    [theme=dark] .colab-df-convert:hover {\n      background-color: #434B5C;\n      box-shadow: 0px 1px 3px 1px rgba(0, 0, 0, 0.15);\n      filter: drop-shadow(0px 1px 2px rgba(0, 0, 0, 0.3));\n      fill: #FFFFFF;\n    }\n  </style>\n\n      <script>\n        const buttonEl =\n          document.querySelector('#df-e2b4782b-329a-4b8f-a16b-103f84308743 button.colab-df-convert');\n        buttonEl.style.display =\n          google.colab.kernel.accessAllowed ? 'block' : 'none';\n\n        async function convertToInteractive(key) {\n          const element = document.querySelector('#df-e2b4782b-329a-4b8f-a16b-103f84308743');\n          const dataTable =\n            await google.colab.kernel.invokeFunction('convertToInteractive',\n                                                     [key], {});\n          if (!dataTable) return;\n\n          const docLinkHtml = 'Like what you see? Visit the ' +\n            '<a target=\"_blank\" href=https://colab.research.google.com/notebooks/data_table.ipynb>data table notebook</a>'\n            + ' to learn more about interactive tables.';\n          element.innerHTML = '';\n          dataTable['output_type'] = 'display_data';\n          await google.colab.output.renderOutput(dataTable, element);\n          const docLink = document.createElement('div');\n          docLink.innerHTML = docLinkHtml;\n          element.appendChild(docLink);\n        }\n      </script>\n    </div>\n  </div>\n  "
                },
                "metadata": {}
              },
              {
                "output_type": "display_data",
                "data": {
                  "text/plain": "<IPython.core.display.Markdown object>",
                  "text/markdown": "## 24-5 ciclos / 9 instrucoes = 2,1"
                },
                "metadata": {}
              }
            ]
          }
        },
        "0ec96fd2398942d88de48a19c1b241f5": {
          "model_module": "@jupyter-widgets/base",
          "model_name": "LayoutModel",
          "model_module_version": "1.2.0",
          "state": {
            "_model_module": "@jupyter-widgets/base",
            "_model_module_version": "1.2.0",
            "_model_name": "LayoutModel",
            "_view_count": null,
            "_view_module": "@jupyter-widgets/base",
            "_view_module_version": "1.2.0",
            "_view_name": "LayoutView",
            "align_content": null,
            "align_items": null,
            "align_self": null,
            "border": null,
            "bottom": null,
            "display": null,
            "flex": null,
            "flex_flow": null,
            "grid_area": null,
            "grid_auto_columns": null,
            "grid_auto_flow": null,
            "grid_auto_rows": null,
            "grid_column": null,
            "grid_gap": null,
            "grid_row": null,
            "grid_template_areas": null,
            "grid_template_columns": null,
            "grid_template_rows": null,
            "height": null,
            "justify_content": null,
            "justify_items": null,
            "left": null,
            "margin": null,
            "max_height": null,
            "max_width": null,
            "min_height": null,
            "min_width": null,
            "object_fit": null,
            "object_position": null,
            "order": null,
            "overflow": null,
            "overflow_x": null,
            "overflow_y": null,
            "padding": null,
            "right": null,
            "top": null,
            "visibility": null,
            "width": null
          }
        },
        "c5c51f57225b4d47a64ca86d9c2bb2ae": {
          "model_module": "@jupyter-widgets/controls",
          "model_name": "ButtonModel",
          "model_module_version": "1.5.0",
          "state": {
            "_dom_classes": [],
            "_model_module": "@jupyter-widgets/controls",
            "_model_module_version": "1.5.0",
            "_model_name": "ButtonModel",
            "_view_count": null,
            "_view_module": "@jupyter-widgets/controls",
            "_view_module_version": "1.5.0",
            "_view_name": "ButtonView",
            "button_style": "",
            "description": "<<",
            "disabled": false,
            "icon": "",
            "layout": "IPY_MODEL_3ae83762f01b4ada9d58322785749955",
            "style": "IPY_MODEL_422784e3afaf4d6580d94d05981bf9b6",
            "tooltip": ""
          }
        },
        "499cb3a94d754d51b685669e3d3c7fa6": {
          "model_module": "@jupyter-widgets/controls",
          "model_name": "ButtonModel",
          "model_module_version": "1.5.0",
          "state": {
            "_dom_classes": [],
            "_model_module": "@jupyter-widgets/controls",
            "_model_module_version": "1.5.0",
            "_model_name": "ButtonModel",
            "_view_count": null,
            "_view_module": "@jupyter-widgets/controls",
            "_view_module_version": "1.5.0",
            "_view_name": "ButtonView",
            "button_style": "",
            "description": ">>",
            "disabled": false,
            "icon": "",
            "layout": "IPY_MODEL_68d05ffdcad04129bbcd8d15fa348145",
            "style": "IPY_MODEL_d5fe42345f644d6bb63b7da999ca058e",
            "tooltip": ""
          }
        },
        "bf00940aa1d54d538b56f94f05e892e3": {
          "model_module": "@jupyter-widgets/base",
          "model_name": "LayoutModel",
          "model_module_version": "1.2.0",
          "state": {
            "_model_module": "@jupyter-widgets/base",
            "_model_module_version": "1.2.0",
            "_model_name": "LayoutModel",
            "_view_count": null,
            "_view_module": "@jupyter-widgets/base",
            "_view_module_version": "1.2.0",
            "_view_name": "LayoutView",
            "align_content": null,
            "align_items": null,
            "align_self": null,
            "border": null,
            "bottom": null,
            "display": null,
            "flex": null,
            "flex_flow": null,
            "grid_area": null,
            "grid_auto_columns": null,
            "grid_auto_flow": null,
            "grid_auto_rows": null,
            "grid_column": null,
            "grid_gap": null,
            "grid_row": null,
            "grid_template_areas": null,
            "grid_template_columns": null,
            "grid_template_rows": null,
            "height": null,
            "justify_content": null,
            "justify_items": null,
            "left": null,
            "margin": null,
            "max_height": null,
            "max_width": null,
            "min_height": null,
            "min_width": null,
            "object_fit": null,
            "object_position": null,
            "order": null,
            "overflow": null,
            "overflow_x": null,
            "overflow_y": null,
            "padding": null,
            "right": null,
            "top": null,
            "visibility": null,
            "width": null
          }
        },
        "3ae83762f01b4ada9d58322785749955": {
          "model_module": "@jupyter-widgets/base",
          "model_name": "LayoutModel",
          "model_module_version": "1.2.0",
          "state": {
            "_model_module": "@jupyter-widgets/base",
            "_model_module_version": "1.2.0",
            "_model_name": "LayoutModel",
            "_view_count": null,
            "_view_module": "@jupyter-widgets/base",
            "_view_module_version": "1.2.0",
            "_view_name": "LayoutView",
            "align_content": null,
            "align_items": null,
            "align_self": null,
            "border": null,
            "bottom": null,
            "display": null,
            "flex": null,
            "flex_flow": null,
            "grid_area": null,
            "grid_auto_columns": null,
            "grid_auto_flow": null,
            "grid_auto_rows": null,
            "grid_column": null,
            "grid_gap": null,
            "grid_row": null,
            "grid_template_areas": null,
            "grid_template_columns": null,
            "grid_template_rows": null,
            "height": null,
            "justify_content": null,
            "justify_items": null,
            "left": null,
            "margin": null,
            "max_height": null,
            "max_width": null,
            "min_height": null,
            "min_width": null,
            "object_fit": null,
            "object_position": null,
            "order": null,
            "overflow": null,
            "overflow_x": null,
            "overflow_y": null,
            "padding": null,
            "right": null,
            "top": null,
            "visibility": null,
            "width": null
          }
        },
        "422784e3afaf4d6580d94d05981bf9b6": {
          "model_module": "@jupyter-widgets/controls",
          "model_name": "ButtonStyleModel",
          "model_module_version": "1.5.0",
          "state": {
            "_model_module": "@jupyter-widgets/controls",
            "_model_module_version": "1.5.0",
            "_model_name": "ButtonStyleModel",
            "_view_count": null,
            "_view_module": "@jupyter-widgets/base",
            "_view_module_version": "1.2.0",
            "_view_name": "StyleView",
            "button_color": null,
            "font_weight": ""
          }
        },
        "68d05ffdcad04129bbcd8d15fa348145": {
          "model_module": "@jupyter-widgets/base",
          "model_name": "LayoutModel",
          "model_module_version": "1.2.0",
          "state": {
            "_model_module": "@jupyter-widgets/base",
            "_model_module_version": "1.2.0",
            "_model_name": "LayoutModel",
            "_view_count": null,
            "_view_module": "@jupyter-widgets/base",
            "_view_module_version": "1.2.0",
            "_view_name": "LayoutView",
            "align_content": null,
            "align_items": null,
            "align_self": null,
            "border": null,
            "bottom": null,
            "display": null,
            "flex": null,
            "flex_flow": null,
            "grid_area": null,
            "grid_auto_columns": null,
            "grid_auto_flow": null,
            "grid_auto_rows": null,
            "grid_column": null,
            "grid_gap": null,
            "grid_row": null,
            "grid_template_areas": null,
            "grid_template_columns": null,
            "grid_template_rows": null,
            "height": null,
            "justify_content": null,
            "justify_items": null,
            "left": null,
            "margin": null,
            "max_height": null,
            "max_width": null,
            "min_height": null,
            "min_width": null,
            "object_fit": null,
            "object_position": null,
            "order": null,
            "overflow": null,
            "overflow_x": null,
            "overflow_y": null,
            "padding": null,
            "right": null,
            "top": null,
            "visibility": null,
            "width": null
          }
        },
        "d5fe42345f644d6bb63b7da999ca058e": {
          "model_module": "@jupyter-widgets/controls",
          "model_name": "ButtonStyleModel",
          "model_module_version": "1.5.0",
          "state": {
            "_model_module": "@jupyter-widgets/controls",
            "_model_module_version": "1.5.0",
            "_model_name": "ButtonStyleModel",
            "_view_count": null,
            "_view_module": "@jupyter-widgets/base",
            "_view_module_version": "1.2.0",
            "_view_name": "StyleView",
            "button_color": null,
            "font_weight": ""
          }
        },
        "d012a5c9f8ba4393a7c09a6876646d0a": {
          "model_module": "@jupyter-widgets/base",
          "model_name": "LayoutModel",
          "model_module_version": "1.2.0",
          "state": {
            "_model_module": "@jupyter-widgets/base",
            "_model_module_version": "1.2.0",
            "_model_name": "LayoutModel",
            "_view_count": null,
            "_view_module": "@jupyter-widgets/base",
            "_view_module_version": "1.2.0",
            "_view_name": "LayoutView",
            "align_content": null,
            "align_items": null,
            "align_self": null,
            "border": null,
            "bottom": null,
            "display": null,
            "flex": null,
            "flex_flow": null,
            "grid_area": null,
            "grid_auto_columns": null,
            "grid_auto_flow": null,
            "grid_auto_rows": null,
            "grid_column": null,
            "grid_gap": null,
            "grid_row": null,
            "grid_template_areas": null,
            "grid_template_columns": null,
            "grid_template_rows": null,
            "height": null,
            "justify_content": null,
            "justify_items": null,
            "left": null,
            "margin": null,
            "max_height": null,
            "max_width": null,
            "min_height": null,
            "min_width": null,
            "object_fit": null,
            "object_position": null,
            "order": null,
            "overflow": null,
            "overflow_x": null,
            "overflow_y": null,
            "padding": null,
            "right": null,
            "top": null,
            "visibility": null,
            "width": null
          }
        },
        "b5700923da3947ed9bfb7cad5cd17612": {
          "model_module": "@jupyter-widgets/controls",
          "model_name": "VBoxModel",
          "model_module_version": "1.5.0",
          "state": {
            "_dom_classes": [],
            "_model_module": "@jupyter-widgets/controls",
            "_model_module_version": "1.5.0",
            "_model_name": "VBoxModel",
            "_view_count": null,
            "_view_module": "@jupyter-widgets/controls",
            "_view_module_version": "1.5.0",
            "_view_name": "VBoxView",
            "box_style": "",
            "children": [
              "IPY_MODEL_738dfcd135614f98b75e2a8e800c4a7f",
              "IPY_MODEL_525b44076c844f44b0bf5049fa11c780"
            ],
            "layout": "IPY_MODEL_fa36377aff7a4663aa93406d15662ef7"
          }
        },
        "738dfcd135614f98b75e2a8e800c4a7f": {
          "model_module": "@jupyter-widgets/controls",
          "model_name": "HBoxModel",
          "model_module_version": "1.5.0",
          "state": {
            "_dom_classes": [],
            "_model_module": "@jupyter-widgets/controls",
            "_model_module_version": "1.5.0",
            "_model_name": "HBoxModel",
            "_view_count": null,
            "_view_module": "@jupyter-widgets/controls",
            "_view_module_version": "1.5.0",
            "_view_name": "HBoxView",
            "box_style": "",
            "children": [
              "IPY_MODEL_b2f98de5eb67456aa4a597241e7cd54b",
              "IPY_MODEL_2a56f058de1d4fc1821db867618d94f5"
            ],
            "layout": "IPY_MODEL_1ef96ddb71a648778d0bd1be70e55329"
          }
        },
        "525b44076c844f44b0bf5049fa11c780": {
          "model_module": "@jupyter-widgets/output",
          "model_name": "OutputModel",
          "model_module_version": "1.0.0",
          "state": {
            "_dom_classes": [],
            "_model_module": "@jupyter-widgets/output",
            "_model_module_version": "1.0.0",
            "_model_name": "OutputModel",
            "_view_count": null,
            "_view_module": "@jupyter-widgets/output",
            "_view_module_version": "1.0.0",
            "_view_name": "OutputView",
            "layout": "IPY_MODEL_7609f7ba23c54af499010bbc9066d31f",
            "msg_id": "",
            "outputs": [
              {
                "output_type": "display_data",
                "data": {
                  "text/plain": "          instrucao   F   D         E      W  F.1  D.1        E.1     W.1   \n0  loop LD F1,0(r1)   1   2       3-4   5 L0   10   11   12-13,14   15 L0  -\n1      Add F2,F1,F3   2   3     4,5-7   8 A0    -    -          -       -  -\n2       SD F2,0(r1)   3   4     5,8-9     L0    -    -          -       -  -\n3       LD F4,4(r1)   4   5     6-7,8   9 L1         -          -       -  -\n4      Mul F5,F4,F4   5   6    7,9-13  14 M0    -    -          -       -  -\n5      Add F6,F5,F4   6   7   8,14-16  17 A0         -          -       -  -\n6       Sd F6,4(r1)   7   8   9,17-18     L1    -    -          -       -  -\n7       add r1,r1,8   8   9        10     11    -    -          -       -  -\n8   bne r1,r2, loop   9   -         -      -    -    -          -       -  -",
                  "text/html": "\n  <div id=\"df-5492c831-bac0-4087-b59c-bf9969995133\">\n    <div class=\"colab-df-container\">\n      <div>\n<style scoped>\n    .dataframe tbody tr th:only-of-type {\n        vertical-align: middle;\n    }\n\n    .dataframe tbody tr th {\n        vertical-align: top;\n    }\n\n    .dataframe thead th {\n        text-align: right;\n    }\n</style>\n<table border=\"1\" class=\"dataframe\">\n  <thead>\n    <tr style=\"text-align: right;\">\n      <th></th>\n      <th>instrucao</th>\n      <th>F</th>\n      <th>D</th>\n      <th>E</th>\n      <th>W</th>\n      <th>F.1</th>\n      <th>D.1</th>\n      <th>E.1</th>\n      <th>W.1</th>\n      <th></th>\n    </tr>\n  </thead>\n  <tbody>\n    <tr>\n      <th>0</th>\n      <td>loop LD F1,0(r1)</td>\n      <td>1</td>\n      <td>2</td>\n      <td>3-4</td>\n      <td>5 L0</td>\n      <td>10</td>\n      <td>11</td>\n      <td>12-13,14</td>\n      <td>15 L0</td>\n      <td>-</td>\n    </tr>\n    <tr>\n      <th>1</th>\n      <td>Add F2,F1,F3</td>\n      <td>2</td>\n      <td>3</td>\n      <td>4,5-7</td>\n      <td>8 A0</td>\n      <td>-</td>\n      <td>-</td>\n      <td>-</td>\n      <td>-</td>\n      <td>-</td>\n    </tr>\n    <tr>\n      <th>2</th>\n      <td>SD F2,0(r1)</td>\n      <td>3</td>\n      <td>4</td>\n      <td>5,8-9</td>\n      <td>L0</td>\n      <td>-</td>\n      <td>-</td>\n      <td>-</td>\n      <td>-</td>\n      <td>-</td>\n    </tr>\n    <tr>\n      <th>3</th>\n      <td>LD F4,4(r1)</td>\n      <td>4</td>\n      <td>5</td>\n      <td>6-7,8</td>\n      <td>9 L1</td>\n      <td></td>\n      <td>-</td>\n      <td>-</td>\n      <td>-</td>\n      <td>-</td>\n    </tr>\n    <tr>\n      <th>4</th>\n      <td>Mul F5,F4,F4</td>\n      <td>5</td>\n      <td>6</td>\n      <td>7,9-13</td>\n      <td>14 M0</td>\n      <td>-</td>\n      <td>-</td>\n      <td>-</td>\n      <td>-</td>\n      <td>-</td>\n    </tr>\n    <tr>\n      <th>5</th>\n      <td>Add F6,F5,F4</td>\n      <td>6</td>\n      <td>7</td>\n      <td>8,14-16</td>\n      <td>17 A0</td>\n      <td></td>\n      <td>-</td>\n      <td>-</td>\n      <td>-</td>\n      <td>-</td>\n    </tr>\n    <tr>\n      <th>6</th>\n      <td>Sd F6,4(r1)</td>\n      <td>7</td>\n      <td>8</td>\n      <td>9,17-18</td>\n      <td>L1</td>\n      <td>-</td>\n      <td>-</td>\n      <td>-</td>\n      <td>-</td>\n      <td>-</td>\n    </tr>\n    <tr>\n      <th>7</th>\n      <td>add r1,r1,8</td>\n      <td>8</td>\n      <td>9</td>\n      <td>10</td>\n      <td>11</td>\n      <td>-</td>\n      <td>-</td>\n      <td>-</td>\n      <td>-</td>\n      <td>-</td>\n    </tr>\n    <tr>\n      <th>8</th>\n      <td>bne r1,r2, loop</td>\n      <td>9</td>\n      <td>-</td>\n      <td>-</td>\n      <td>-</td>\n      <td>-</td>\n      <td>-</td>\n      <td>-</td>\n      <td>-</td>\n      <td>-</td>\n    </tr>\n  </tbody>\n</table>\n</div>\n      <button class=\"colab-df-convert\" onclick=\"convertToInteractive('df-5492c831-bac0-4087-b59c-bf9969995133')\"\n              title=\"Convert this dataframe to an interactive table.\"\n              style=\"display:none;\">\n        \n  <svg xmlns=\"http://www.w3.org/2000/svg\" height=\"24px\"viewBox=\"0 0 24 24\"\n       width=\"24px\">\n    <path d=\"M0 0h24v24H0V0z\" fill=\"none\"/>\n    <path d=\"M18.56 5.44l.94 2.06.94-2.06 2.06-.94-2.06-.94-.94-2.06-.94 2.06-2.06.94zm-11 1L8.5 8.5l.94-2.06 2.06-.94-2.06-.94L8.5 2.5l-.94 2.06-2.06.94zm10 10l.94 2.06.94-2.06 2.06-.94-2.06-.94-.94-2.06-.94 2.06-2.06.94z\"/><path d=\"M17.41 7.96l-1.37-1.37c-.4-.4-.92-.59-1.43-.59-.52 0-1.04.2-1.43.59L10.3 9.45l-7.72 7.72c-.78.78-.78 2.05 0 2.83L4 21.41c.39.39.9.59 1.41.59.51 0 1.02-.2 1.41-.59l7.78-7.78 2.81-2.81c.8-.78.8-2.07 0-2.86zM5.41 20L4 18.59l7.72-7.72 1.47 1.35L5.41 20z\"/>\n  </svg>\n      </button>\n      \n  <style>\n    .colab-df-container {\n      display:flex;\n      flex-wrap:wrap;\n      gap: 12px;\n    }\n\n    .colab-df-convert {\n      background-color: #E8F0FE;\n      border: none;\n      border-radius: 50%;\n      cursor: pointer;\n      display: none;\n      fill: #1967D2;\n      height: 32px;\n      padding: 0 0 0 0;\n      width: 32px;\n    }\n\n    .colab-df-convert:hover {\n      background-color: #E2EBFA;\n      box-shadow: 0px 1px 2px rgba(60, 64, 67, 0.3), 0px 1px 3px 1px rgba(60, 64, 67, 0.15);\n      fill: #174EA6;\n    }\n\n    [theme=dark] .colab-df-convert {\n      background-color: #3B4455;\n      fill: #D2E3FC;\n    }\n\n    [theme=dark] .colab-df-convert:hover {\n      background-color: #434B5C;\n      box-shadow: 0px 1px 3px 1px rgba(0, 0, 0, 0.15);\n      filter: drop-shadow(0px 1px 2px rgba(0, 0, 0, 0.3));\n      fill: #FFFFFF;\n    }\n  </style>\n\n      <script>\n        const buttonEl =\n          document.querySelector('#df-5492c831-bac0-4087-b59c-bf9969995133 button.colab-df-convert');\n        buttonEl.style.display =\n          google.colab.kernel.accessAllowed ? 'block' : 'none';\n\n        async function convertToInteractive(key) {\n          const element = document.querySelector('#df-5492c831-bac0-4087-b59c-bf9969995133');\n          const dataTable =\n            await google.colab.kernel.invokeFunction('convertToInteractive',\n                                                     [key], {});\n          if (!dataTable) return;\n\n          const docLinkHtml = 'Like what you see? Visit the ' +\n            '<a target=\"_blank\" href=https://colab.research.google.com/notebooks/data_table.ipynb>data table notebook</a>'\n            + ' to learn more about interactive tables.';\n          element.innerHTML = '';\n          dataTable['output_type'] = 'display_data';\n          await google.colab.output.renderOutput(dataTable, element);\n          const docLink = document.createElement('div');\n          docLink.innerHTML = docLinkHtml;\n          element.appendChild(docLink);\n        }\n      </script>\n    </div>\n  </div>\n  "
                },
                "metadata": {}
              },
              {
                "output_type": "display_data",
                "data": {
                  "text/plain": "<IPython.core.display.Markdown object>",
                  "text/markdown": "## Desvio especulativo comeca no ciclo 11 a iteracao 2"
                },
                "metadata": {}
              }
            ]
          }
        },
        "fa36377aff7a4663aa93406d15662ef7": {
          "model_module": "@jupyter-widgets/base",
          "model_name": "LayoutModel",
          "model_module_version": "1.2.0",
          "state": {
            "_model_module": "@jupyter-widgets/base",
            "_model_module_version": "1.2.0",
            "_model_name": "LayoutModel",
            "_view_count": null,
            "_view_module": "@jupyter-widgets/base",
            "_view_module_version": "1.2.0",
            "_view_name": "LayoutView",
            "align_content": null,
            "align_items": null,
            "align_self": null,
            "border": null,
            "bottom": null,
            "display": null,
            "flex": null,
            "flex_flow": null,
            "grid_area": null,
            "grid_auto_columns": null,
            "grid_auto_flow": null,
            "grid_auto_rows": null,
            "grid_column": null,
            "grid_gap": null,
            "grid_row": null,
            "grid_template_areas": null,
            "grid_template_columns": null,
            "grid_template_rows": null,
            "height": null,
            "justify_content": null,
            "justify_items": null,
            "left": null,
            "margin": null,
            "max_height": null,
            "max_width": null,
            "min_height": null,
            "min_width": null,
            "object_fit": null,
            "object_position": null,
            "order": null,
            "overflow": null,
            "overflow_x": null,
            "overflow_y": null,
            "padding": null,
            "right": null,
            "top": null,
            "visibility": null,
            "width": null
          }
        },
        "b2f98de5eb67456aa4a597241e7cd54b": {
          "model_module": "@jupyter-widgets/controls",
          "model_name": "ButtonModel",
          "model_module_version": "1.5.0",
          "state": {
            "_dom_classes": [],
            "_model_module": "@jupyter-widgets/controls",
            "_model_module_version": "1.5.0",
            "_model_name": "ButtonModel",
            "_view_count": null,
            "_view_module": "@jupyter-widgets/controls",
            "_view_module_version": "1.5.0",
            "_view_name": "ButtonView",
            "button_style": "",
            "description": "<<",
            "disabled": false,
            "icon": "",
            "layout": "IPY_MODEL_9d09dd91075d4d3b8b6191da01934c80",
            "style": "IPY_MODEL_7c447808d3c44ea98051df6ab5e82cae",
            "tooltip": ""
          }
        },
        "2a56f058de1d4fc1821db867618d94f5": {
          "model_module": "@jupyter-widgets/controls",
          "model_name": "ButtonModel",
          "model_module_version": "1.5.0",
          "state": {
            "_dom_classes": [],
            "_model_module": "@jupyter-widgets/controls",
            "_model_module_version": "1.5.0",
            "_model_name": "ButtonModel",
            "_view_count": null,
            "_view_module": "@jupyter-widgets/controls",
            "_view_module_version": "1.5.0",
            "_view_name": "ButtonView",
            "button_style": "",
            "description": ">>",
            "disabled": false,
            "icon": "",
            "layout": "IPY_MODEL_2d07fb384e7a4c4fb8d98b4bea00f0ef",
            "style": "IPY_MODEL_fcd63c7debc7452f8c7ba3ab447ef709",
            "tooltip": ""
          }
        },
        "1ef96ddb71a648778d0bd1be70e55329": {
          "model_module": "@jupyter-widgets/base",
          "model_name": "LayoutModel",
          "model_module_version": "1.2.0",
          "state": {
            "_model_module": "@jupyter-widgets/base",
            "_model_module_version": "1.2.0",
            "_model_name": "LayoutModel",
            "_view_count": null,
            "_view_module": "@jupyter-widgets/base",
            "_view_module_version": "1.2.0",
            "_view_name": "LayoutView",
            "align_content": null,
            "align_items": null,
            "align_self": null,
            "border": null,
            "bottom": null,
            "display": null,
            "flex": null,
            "flex_flow": null,
            "grid_area": null,
            "grid_auto_columns": null,
            "grid_auto_flow": null,
            "grid_auto_rows": null,
            "grid_column": null,
            "grid_gap": null,
            "grid_row": null,
            "grid_template_areas": null,
            "grid_template_columns": null,
            "grid_template_rows": null,
            "height": null,
            "justify_content": null,
            "justify_items": null,
            "left": null,
            "margin": null,
            "max_height": null,
            "max_width": null,
            "min_height": null,
            "min_width": null,
            "object_fit": null,
            "object_position": null,
            "order": null,
            "overflow": null,
            "overflow_x": null,
            "overflow_y": null,
            "padding": null,
            "right": null,
            "top": null,
            "visibility": null,
            "width": null
          }
        },
        "9d09dd91075d4d3b8b6191da01934c80": {
          "model_module": "@jupyter-widgets/base",
          "model_name": "LayoutModel",
          "model_module_version": "1.2.0",
          "state": {
            "_model_module": "@jupyter-widgets/base",
            "_model_module_version": "1.2.0",
            "_model_name": "LayoutModel",
            "_view_count": null,
            "_view_module": "@jupyter-widgets/base",
            "_view_module_version": "1.2.0",
            "_view_name": "LayoutView",
            "align_content": null,
            "align_items": null,
            "align_self": null,
            "border": null,
            "bottom": null,
            "display": null,
            "flex": null,
            "flex_flow": null,
            "grid_area": null,
            "grid_auto_columns": null,
            "grid_auto_flow": null,
            "grid_auto_rows": null,
            "grid_column": null,
            "grid_gap": null,
            "grid_row": null,
            "grid_template_areas": null,
            "grid_template_columns": null,
            "grid_template_rows": null,
            "height": null,
            "justify_content": null,
            "justify_items": null,
            "left": null,
            "margin": null,
            "max_height": null,
            "max_width": null,
            "min_height": null,
            "min_width": null,
            "object_fit": null,
            "object_position": null,
            "order": null,
            "overflow": null,
            "overflow_x": null,
            "overflow_y": null,
            "padding": null,
            "right": null,
            "top": null,
            "visibility": null,
            "width": null
          }
        },
        "7c447808d3c44ea98051df6ab5e82cae": {
          "model_module": "@jupyter-widgets/controls",
          "model_name": "ButtonStyleModel",
          "model_module_version": "1.5.0",
          "state": {
            "_model_module": "@jupyter-widgets/controls",
            "_model_module_version": "1.5.0",
            "_model_name": "ButtonStyleModel",
            "_view_count": null,
            "_view_module": "@jupyter-widgets/base",
            "_view_module_version": "1.2.0",
            "_view_name": "StyleView",
            "button_color": null,
            "font_weight": ""
          }
        },
        "2d07fb384e7a4c4fb8d98b4bea00f0ef": {
          "model_module": "@jupyter-widgets/base",
          "model_name": "LayoutModel",
          "model_module_version": "1.2.0",
          "state": {
            "_model_module": "@jupyter-widgets/base",
            "_model_module_version": "1.2.0",
            "_model_name": "LayoutModel",
            "_view_count": null,
            "_view_module": "@jupyter-widgets/base",
            "_view_module_version": "1.2.0",
            "_view_name": "LayoutView",
            "align_content": null,
            "align_items": null,
            "align_self": null,
            "border": null,
            "bottom": null,
            "display": null,
            "flex": null,
            "flex_flow": null,
            "grid_area": null,
            "grid_auto_columns": null,
            "grid_auto_flow": null,
            "grid_auto_rows": null,
            "grid_column": null,
            "grid_gap": null,
            "grid_row": null,
            "grid_template_areas": null,
            "grid_template_columns": null,
            "grid_template_rows": null,
            "height": null,
            "justify_content": null,
            "justify_items": null,
            "left": null,
            "margin": null,
            "max_height": null,
            "max_width": null,
            "min_height": null,
            "min_width": null,
            "object_fit": null,
            "object_position": null,
            "order": null,
            "overflow": null,
            "overflow_x": null,
            "overflow_y": null,
            "padding": null,
            "right": null,
            "top": null,
            "visibility": null,
            "width": null
          }
        },
        "fcd63c7debc7452f8c7ba3ab447ef709": {
          "model_module": "@jupyter-widgets/controls",
          "model_name": "ButtonStyleModel",
          "model_module_version": "1.5.0",
          "state": {
            "_model_module": "@jupyter-widgets/controls",
            "_model_module_version": "1.5.0",
            "_model_name": "ButtonStyleModel",
            "_view_count": null,
            "_view_module": "@jupyter-widgets/base",
            "_view_module_version": "1.2.0",
            "_view_name": "StyleView",
            "button_color": null,
            "font_weight": ""
          }
        },
        "7609f7ba23c54af499010bbc9066d31f": {
          "model_module": "@jupyter-widgets/base",
          "model_name": "LayoutModel",
          "model_module_version": "1.2.0",
          "state": {
            "_model_module": "@jupyter-widgets/base",
            "_model_module_version": "1.2.0",
            "_model_name": "LayoutModel",
            "_view_count": null,
            "_view_module": "@jupyter-widgets/base",
            "_view_module_version": "1.2.0",
            "_view_name": "LayoutView",
            "align_content": null,
            "align_items": null,
            "align_self": null,
            "border": null,
            "bottom": null,
            "display": null,
            "flex": null,
            "flex_flow": null,
            "grid_area": null,
            "grid_auto_columns": null,
            "grid_auto_flow": null,
            "grid_auto_rows": null,
            "grid_column": null,
            "grid_gap": null,
            "grid_row": null,
            "grid_template_areas": null,
            "grid_template_columns": null,
            "grid_template_rows": null,
            "height": null,
            "justify_content": null,
            "justify_items": null,
            "left": null,
            "margin": null,
            "max_height": null,
            "max_width": null,
            "min_height": null,
            "min_width": null,
            "object_fit": null,
            "object_position": null,
            "order": null,
            "overflow": null,
            "overflow_x": null,
            "overflow_y": null,
            "padding": null,
            "right": null,
            "top": null,
            "visibility": null,
            "width": null
          }
        },
        "fd1e1fa82e3c40ce8be045aaa920a745": {
          "model_module": "@jupyter-widgets/controls",
          "model_name": "VBoxModel",
          "model_module_version": "1.5.0",
          "state": {
            "_dom_classes": [],
            "_model_module": "@jupyter-widgets/controls",
            "_model_module_version": "1.5.0",
            "_model_name": "VBoxModel",
            "_view_count": null,
            "_view_module": "@jupyter-widgets/controls",
            "_view_module_version": "1.5.0",
            "_view_name": "VBoxView",
            "box_style": "",
            "children": [
              "IPY_MODEL_2b940489809d413689e28298cd37b70f",
              "IPY_MODEL_4ca703a38f2b4360abede8e0b6f67e5f"
            ],
            "layout": "IPY_MODEL_b8de0edf58fc4b2e9c2e8dde720f6e51"
          }
        },
        "2b940489809d413689e28298cd37b70f": {
          "model_module": "@jupyter-widgets/controls",
          "model_name": "HBoxModel",
          "model_module_version": "1.5.0",
          "state": {
            "_dom_classes": [],
            "_model_module": "@jupyter-widgets/controls",
            "_model_module_version": "1.5.0",
            "_model_name": "HBoxModel",
            "_view_count": null,
            "_view_module": "@jupyter-widgets/controls",
            "_view_module_version": "1.5.0",
            "_view_name": "HBoxView",
            "box_style": "",
            "children": [
              "IPY_MODEL_8255866dc6b0450e93d9dac7bcf5eb2d",
              "IPY_MODEL_f8bab137907d48e69f42b26fc7680ce5"
            ],
            "layout": "IPY_MODEL_ad081612d99d48999277b5dd2ceb81c5"
          }
        },
        "4ca703a38f2b4360abede8e0b6f67e5f": {
          "model_module": "@jupyter-widgets/output",
          "model_name": "OutputModel",
          "model_module_version": "1.0.0",
          "state": {
            "_dom_classes": [],
            "_model_module": "@jupyter-widgets/output",
            "_model_module_version": "1.0.0",
            "_model_name": "OutputModel",
            "_view_count": null,
            "_view_module": "@jupyter-widgets/output",
            "_view_module_version": "1.0.0",
            "_view_name": "OutputView",
            "layout": "IPY_MODEL_8c7ef23956534f15a226cb1b1c3360a0",
            "msg_id": "",
            "outputs": [
              {
                "output_type": "display_data",
                "data": {
                  "text/plain": "  PC         instrução     F     D     X   W\n0   0     ld f1,0(r5)      1     2   3-4   5\n1   4     add f1,f1,f3     2   3-4     5   -\n2   8    mult f2,f1,f1   3-4     -     -   -\n3  12     add f4,f1,f2     -     -     -   -\n4  16      sd f4,0(r5)     -     -     -   -\n5  20      add r5,r5,4     -     -     -   -\n6  24   beq r5,r2,loop     -     -     -   -",
                  "text/html": "\n  <div id=\"df-5850aa47-d1b8-40be-a064-3949c93e4bc9\">\n    <div class=\"colab-df-container\">\n      <div>\n<style scoped>\n    .dataframe tbody tr th:only-of-type {\n        vertical-align: middle;\n    }\n\n    .dataframe tbody tr th {\n        vertical-align: top;\n    }\n\n    .dataframe thead th {\n        text-align: right;\n    }\n</style>\n<table border=\"1\" class=\"dataframe\">\n  <thead>\n    <tr style=\"text-align: right;\">\n      <th></th>\n      <th>PC</th>\n      <th>instrução</th>\n      <th>F</th>\n      <th>D</th>\n      <th>X</th>\n      <th>W</th>\n    </tr>\n  </thead>\n  <tbody>\n    <tr>\n      <th>0</th>\n      <td>0</td>\n      <td>ld f1,0(r5)</td>\n      <td>1</td>\n      <td>2</td>\n      <td>3-4</td>\n      <td>5</td>\n    </tr>\n    <tr>\n      <th>1</th>\n      <td>4</td>\n      <td>add f1,f1,f3</td>\n      <td>2</td>\n      <td>3-4</td>\n      <td>5</td>\n      <td>-</td>\n    </tr>\n    <tr>\n      <th>2</th>\n      <td>8</td>\n      <td>mult f2,f1,f1</td>\n      <td>3-4</td>\n      <td>-</td>\n      <td>-</td>\n      <td>-</td>\n    </tr>\n    <tr>\n      <th>3</th>\n      <td>12</td>\n      <td>add f4,f1,f2</td>\n      <td>-</td>\n      <td>-</td>\n      <td>-</td>\n      <td>-</td>\n    </tr>\n    <tr>\n      <th>4</th>\n      <td>16</td>\n      <td>sd f4,0(r5)</td>\n      <td>-</td>\n      <td>-</td>\n      <td>-</td>\n      <td>-</td>\n    </tr>\n    <tr>\n      <th>5</th>\n      <td>20</td>\n      <td>add r5,r5,4</td>\n      <td>-</td>\n      <td>-</td>\n      <td>-</td>\n      <td>-</td>\n    </tr>\n    <tr>\n      <th>6</th>\n      <td>24</td>\n      <td>beq r5,r2,loop</td>\n      <td>-</td>\n      <td>-</td>\n      <td>-</td>\n      <td>-</td>\n    </tr>\n  </tbody>\n</table>\n</div>\n      <button class=\"colab-df-convert\" onclick=\"convertToInteractive('df-5850aa47-d1b8-40be-a064-3949c93e4bc9')\"\n              title=\"Convert this dataframe to an interactive table.\"\n              style=\"display:none;\">\n        \n  <svg xmlns=\"http://www.w3.org/2000/svg\" height=\"24px\"viewBox=\"0 0 24 24\"\n       width=\"24px\">\n    <path d=\"M0 0h24v24H0V0z\" fill=\"none\"/>\n    <path d=\"M18.56 5.44l.94 2.06.94-2.06 2.06-.94-2.06-.94-.94-2.06-.94 2.06-2.06.94zm-11 1L8.5 8.5l.94-2.06 2.06-.94-2.06-.94L8.5 2.5l-.94 2.06-2.06.94zm10 10l.94 2.06.94-2.06 2.06-.94-2.06-.94-.94-2.06-.94 2.06-2.06.94z\"/><path d=\"M17.41 7.96l-1.37-1.37c-.4-.4-.92-.59-1.43-.59-.52 0-1.04.2-1.43.59L10.3 9.45l-7.72 7.72c-.78.78-.78 2.05 0 2.83L4 21.41c.39.39.9.59 1.41.59.51 0 1.02-.2 1.41-.59l7.78-7.78 2.81-2.81c.8-.78.8-2.07 0-2.86zM5.41 20L4 18.59l7.72-7.72 1.47 1.35L5.41 20z\"/>\n  </svg>\n      </button>\n      \n  <style>\n    .colab-df-container {\n      display:flex;\n      flex-wrap:wrap;\n      gap: 12px;\n    }\n\n    .colab-df-convert {\n      background-color: #E8F0FE;\n      border: none;\n      border-radius: 50%;\n      cursor: pointer;\n      display: none;\n      fill: #1967D2;\n      height: 32px;\n      padding: 0 0 0 0;\n      width: 32px;\n    }\n\n    .colab-df-convert:hover {\n      background-color: #E2EBFA;\n      box-shadow: 0px 1px 2px rgba(60, 64, 67, 0.3), 0px 1px 3px 1px rgba(60, 64, 67, 0.15);\n      fill: #174EA6;\n    }\n\n    [theme=dark] .colab-df-convert {\n      background-color: #3B4455;\n      fill: #D2E3FC;\n    }\n\n    [theme=dark] .colab-df-convert:hover {\n      background-color: #434B5C;\n      box-shadow: 0px 1px 3px 1px rgba(0, 0, 0, 0.15);\n      filter: drop-shadow(0px 1px 2px rgba(0, 0, 0, 0.3));\n      fill: #FFFFFF;\n    }\n  </style>\n\n      <script>\n        const buttonEl =\n          document.querySelector('#df-5850aa47-d1b8-40be-a064-3949c93e4bc9 button.colab-df-convert');\n        buttonEl.style.display =\n          google.colab.kernel.accessAllowed ? 'block' : 'none';\n\n        async function convertToInteractive(key) {\n          const element = document.querySelector('#df-5850aa47-d1b8-40be-a064-3949c93e4bc9');\n          const dataTable =\n            await google.colab.kernel.invokeFunction('convertToInteractive',\n                                                     [key], {});\n          if (!dataTable) return;\n\n          const docLinkHtml = 'Like what you see? Visit the ' +\n            '<a target=\"_blank\" href=https://colab.research.google.com/notebooks/data_table.ipynb>data table notebook</a>'\n            + ' to learn more about interactive tables.';\n          element.innerHTML = '';\n          dataTable['output_type'] = 'display_data';\n          await google.colab.output.renderOutput(dataTable, element);\n          const docLink = document.createElement('div');\n          docLink.innerHTML = docLinkHtml;\n          element.appendChild(docLink);\n        }\n      </script>\n    </div>\n  </div>\n  "
                },
                "metadata": {}
              },
              {
                "output_type": "display_data",
                "data": {
                  "text/plain": "<IPython.core.display.Markdown object>",
                  "text/markdown": "## Para no Decode RAW em F1"
                },
                "metadata": {}
              }
            ]
          }
        },
        "b8de0edf58fc4b2e9c2e8dde720f6e51": {
          "model_module": "@jupyter-widgets/base",
          "model_name": "LayoutModel",
          "model_module_version": "1.2.0",
          "state": {
            "_model_module": "@jupyter-widgets/base",
            "_model_module_version": "1.2.0",
            "_model_name": "LayoutModel",
            "_view_count": null,
            "_view_module": "@jupyter-widgets/base",
            "_view_module_version": "1.2.0",
            "_view_name": "LayoutView",
            "align_content": null,
            "align_items": null,
            "align_self": null,
            "border": null,
            "bottom": null,
            "display": null,
            "flex": null,
            "flex_flow": null,
            "grid_area": null,
            "grid_auto_columns": null,
            "grid_auto_flow": null,
            "grid_auto_rows": null,
            "grid_column": null,
            "grid_gap": null,
            "grid_row": null,
            "grid_template_areas": null,
            "grid_template_columns": null,
            "grid_template_rows": null,
            "height": null,
            "justify_content": null,
            "justify_items": null,
            "left": null,
            "margin": null,
            "max_height": null,
            "max_width": null,
            "min_height": null,
            "min_width": null,
            "object_fit": null,
            "object_position": null,
            "order": null,
            "overflow": null,
            "overflow_x": null,
            "overflow_y": null,
            "padding": null,
            "right": null,
            "top": null,
            "visibility": null,
            "width": null
          }
        },
        "8255866dc6b0450e93d9dac7bcf5eb2d": {
          "model_module": "@jupyter-widgets/controls",
          "model_name": "ButtonModel",
          "model_module_version": "1.5.0",
          "state": {
            "_dom_classes": [],
            "_model_module": "@jupyter-widgets/controls",
            "_model_module_version": "1.5.0",
            "_model_name": "ButtonModel",
            "_view_count": null,
            "_view_module": "@jupyter-widgets/controls",
            "_view_module_version": "1.5.0",
            "_view_name": "ButtonView",
            "button_style": "",
            "description": "<<",
            "disabled": false,
            "icon": "",
            "layout": "IPY_MODEL_50f22b6330804250afd470bf82c6924d",
            "style": "IPY_MODEL_cea2e967ca734cdfb9f89c5d4c052cd3",
            "tooltip": ""
          }
        },
        "f8bab137907d48e69f42b26fc7680ce5": {
          "model_module": "@jupyter-widgets/controls",
          "model_name": "ButtonModel",
          "model_module_version": "1.5.0",
          "state": {
            "_dom_classes": [],
            "_model_module": "@jupyter-widgets/controls",
            "_model_module_version": "1.5.0",
            "_model_name": "ButtonModel",
            "_view_count": null,
            "_view_module": "@jupyter-widgets/controls",
            "_view_module_version": "1.5.0",
            "_view_name": "ButtonView",
            "button_style": "",
            "description": ">>",
            "disabled": false,
            "icon": "",
            "layout": "IPY_MODEL_037e0b2d81dd46c39633021fbc500398",
            "style": "IPY_MODEL_c4f9b012d9b649b7bb5c0b30a034d79f",
            "tooltip": ""
          }
        },
        "ad081612d99d48999277b5dd2ceb81c5": {
          "model_module": "@jupyter-widgets/base",
          "model_name": "LayoutModel",
          "model_module_version": "1.2.0",
          "state": {
            "_model_module": "@jupyter-widgets/base",
            "_model_module_version": "1.2.0",
            "_model_name": "LayoutModel",
            "_view_count": null,
            "_view_module": "@jupyter-widgets/base",
            "_view_module_version": "1.2.0",
            "_view_name": "LayoutView",
            "align_content": null,
            "align_items": null,
            "align_self": null,
            "border": null,
            "bottom": null,
            "display": null,
            "flex": null,
            "flex_flow": null,
            "grid_area": null,
            "grid_auto_columns": null,
            "grid_auto_flow": null,
            "grid_auto_rows": null,
            "grid_column": null,
            "grid_gap": null,
            "grid_row": null,
            "grid_template_areas": null,
            "grid_template_columns": null,
            "grid_template_rows": null,
            "height": null,
            "justify_content": null,
            "justify_items": null,
            "left": null,
            "margin": null,
            "max_height": null,
            "max_width": null,
            "min_height": null,
            "min_width": null,
            "object_fit": null,
            "object_position": null,
            "order": null,
            "overflow": null,
            "overflow_x": null,
            "overflow_y": null,
            "padding": null,
            "right": null,
            "top": null,
            "visibility": null,
            "width": null
          }
        },
        "50f22b6330804250afd470bf82c6924d": {
          "model_module": "@jupyter-widgets/base",
          "model_name": "LayoutModel",
          "model_module_version": "1.2.0",
          "state": {
            "_model_module": "@jupyter-widgets/base",
            "_model_module_version": "1.2.0",
            "_model_name": "LayoutModel",
            "_view_count": null,
            "_view_module": "@jupyter-widgets/base",
            "_view_module_version": "1.2.0",
            "_view_name": "LayoutView",
            "align_content": null,
            "align_items": null,
            "align_self": null,
            "border": null,
            "bottom": null,
            "display": null,
            "flex": null,
            "flex_flow": null,
            "grid_area": null,
            "grid_auto_columns": null,
            "grid_auto_flow": null,
            "grid_auto_rows": null,
            "grid_column": null,
            "grid_gap": null,
            "grid_row": null,
            "grid_template_areas": null,
            "grid_template_columns": null,
            "grid_template_rows": null,
            "height": null,
            "justify_content": null,
            "justify_items": null,
            "left": null,
            "margin": null,
            "max_height": null,
            "max_width": null,
            "min_height": null,
            "min_width": null,
            "object_fit": null,
            "object_position": null,
            "order": null,
            "overflow": null,
            "overflow_x": null,
            "overflow_y": null,
            "padding": null,
            "right": null,
            "top": null,
            "visibility": null,
            "width": null
          }
        },
        "cea2e967ca734cdfb9f89c5d4c052cd3": {
          "model_module": "@jupyter-widgets/controls",
          "model_name": "ButtonStyleModel",
          "model_module_version": "1.5.0",
          "state": {
            "_model_module": "@jupyter-widgets/controls",
            "_model_module_version": "1.5.0",
            "_model_name": "ButtonStyleModel",
            "_view_count": null,
            "_view_module": "@jupyter-widgets/base",
            "_view_module_version": "1.2.0",
            "_view_name": "StyleView",
            "button_color": null,
            "font_weight": ""
          }
        },
        "037e0b2d81dd46c39633021fbc500398": {
          "model_module": "@jupyter-widgets/base",
          "model_name": "LayoutModel",
          "model_module_version": "1.2.0",
          "state": {
            "_model_module": "@jupyter-widgets/base",
            "_model_module_version": "1.2.0",
            "_model_name": "LayoutModel",
            "_view_count": null,
            "_view_module": "@jupyter-widgets/base",
            "_view_module_version": "1.2.0",
            "_view_name": "LayoutView",
            "align_content": null,
            "align_items": null,
            "align_self": null,
            "border": null,
            "bottom": null,
            "display": null,
            "flex": null,
            "flex_flow": null,
            "grid_area": null,
            "grid_auto_columns": null,
            "grid_auto_flow": null,
            "grid_auto_rows": null,
            "grid_column": null,
            "grid_gap": null,
            "grid_row": null,
            "grid_template_areas": null,
            "grid_template_columns": null,
            "grid_template_rows": null,
            "height": null,
            "justify_content": null,
            "justify_items": null,
            "left": null,
            "margin": null,
            "max_height": null,
            "max_width": null,
            "min_height": null,
            "min_width": null,
            "object_fit": null,
            "object_position": null,
            "order": null,
            "overflow": null,
            "overflow_x": null,
            "overflow_y": null,
            "padding": null,
            "right": null,
            "top": null,
            "visibility": null,
            "width": null
          }
        },
        "c4f9b012d9b649b7bb5c0b30a034d79f": {
          "model_module": "@jupyter-widgets/controls",
          "model_name": "ButtonStyleModel",
          "model_module_version": "1.5.0",
          "state": {
            "_model_module": "@jupyter-widgets/controls",
            "_model_module_version": "1.5.0",
            "_model_name": "ButtonStyleModel",
            "_view_count": null,
            "_view_module": "@jupyter-widgets/base",
            "_view_module_version": "1.2.0",
            "_view_name": "StyleView",
            "button_color": null,
            "font_weight": ""
          }
        },
        "8c7ef23956534f15a226cb1b1c3360a0": {
          "model_module": "@jupyter-widgets/base",
          "model_name": "LayoutModel",
          "model_module_version": "1.2.0",
          "state": {
            "_model_module": "@jupyter-widgets/base",
            "_model_module_version": "1.2.0",
            "_model_name": "LayoutModel",
            "_view_count": null,
            "_view_module": "@jupyter-widgets/base",
            "_view_module_version": "1.2.0",
            "_view_name": "LayoutView",
            "align_content": null,
            "align_items": null,
            "align_self": null,
            "border": null,
            "bottom": null,
            "display": null,
            "flex": null,
            "flex_flow": null,
            "grid_area": null,
            "grid_auto_columns": null,
            "grid_auto_flow": null,
            "grid_auto_rows": null,
            "grid_column": null,
            "grid_gap": null,
            "grid_row": null,
            "grid_template_areas": null,
            "grid_template_columns": null,
            "grid_template_rows": null,
            "height": null,
            "justify_content": null,
            "justify_items": null,
            "left": null,
            "margin": null,
            "max_height": null,
            "max_width": null,
            "min_height": null,
            "min_width": null,
            "object_fit": null,
            "object_position": null,
            "order": null,
            "overflow": null,
            "overflow_x": null,
            "overflow_y": null,
            "padding": null,
            "right": null,
            "top": null,
            "visibility": null,
            "width": null
          }
        },
        "532b352f143742e8a3942ce821ddef3a": {
          "model_module": "@jupyter-widgets/controls",
          "model_name": "CheckboxModel",
          "model_module_version": "1.5.0",
          "state": {
            "_dom_classes": [],
            "_model_module": "@jupyter-widgets/controls",
            "_model_module_version": "1.5.0",
            "_model_name": "CheckboxModel",
            "_view_count": null,
            "_view_module": "@jupyter-widgets/controls",
            "_view_module_version": "1.5.0",
            "_view_name": "CheckboxView",
            "description": "Edit table",
            "description_tooltip": null,
            "disabled": false,
            "indent": false,
            "layout": "IPY_MODEL_06ce6636b2cd425eb68379043e8594b1",
            "style": "IPY_MODEL_eb8434a82e8d4ce7bec1c016f2a7b7dc",
            "value": false
          }
        },
        "06ce6636b2cd425eb68379043e8594b1": {
          "model_module": "@jupyter-widgets/base",
          "model_name": "LayoutModel",
          "model_module_version": "1.2.0",
          "state": {
            "_model_module": "@jupyter-widgets/base",
            "_model_module_version": "1.2.0",
            "_model_name": "LayoutModel",
            "_view_count": null,
            "_view_module": "@jupyter-widgets/base",
            "_view_module_version": "1.2.0",
            "_view_name": "LayoutView",
            "align_content": null,
            "align_items": null,
            "align_self": null,
            "border": null,
            "bottom": null,
            "display": null,
            "flex": null,
            "flex_flow": null,
            "grid_area": null,
            "grid_auto_columns": null,
            "grid_auto_flow": null,
            "grid_auto_rows": null,
            "grid_column": null,
            "grid_gap": null,
            "grid_row": null,
            "grid_template_areas": null,
            "grid_template_columns": null,
            "grid_template_rows": null,
            "height": null,
            "justify_content": null,
            "justify_items": null,
            "left": null,
            "margin": null,
            "max_height": null,
            "max_width": null,
            "min_height": null,
            "min_width": null,
            "object_fit": null,
            "object_position": null,
            "order": null,
            "overflow": null,
            "overflow_x": null,
            "overflow_y": null,
            "padding": null,
            "right": null,
            "top": null,
            "visibility": null,
            "width": null
          }
        },
        "eb8434a82e8d4ce7bec1c016f2a7b7dc": {
          "model_module": "@jupyter-widgets/controls",
          "model_name": "DescriptionStyleModel",
          "model_module_version": "1.5.0",
          "state": {
            "_model_module": "@jupyter-widgets/controls",
            "_model_module_version": "1.5.0",
            "_model_name": "DescriptionStyleModel",
            "_view_count": null,
            "_view_module": "@jupyter-widgets/base",
            "_view_module_version": "1.2.0",
            "_view_name": "StyleView",
            "description_width": ""
          }
        }
      }
    }
  },
  "cells": [
    {
      "cell_type": "markdown",
      "source": [
        "# Introdução a Múltiplas Unidades Funcionais"
      ],
      "metadata": {
        "id": "_1iOKZcRucZ-"
      }
    },
    {
      "cell_type": "markdown",
      "source": [
        "![](http://ece-research.unm.edu/jimp/611/slides/chap3_6-1.gif)\n",
        "\n",
        "![](http://ece-research.unm.edu/jimp/611/slides/chap3_6-2.gif)\n",
        "\n",
        "[Fonte das Figuras extraídas](http://ece-research.unm.edu/jimp/611/slides/chap3_6.html) - CMSC 611: Advanced Computer Architecture - Jim Plusquellic"
      ],
      "metadata": {
        "id": "Ro4cqzf2UzZu"
      }
    },
    {
      "cell_type": "markdown",
      "source": [
        "![](http://ece-research.unm.edu/jimp/611/slides/chap3_6-3.gif)\n",
        "\n",
        "* MULTD stalls due to load latency.\n",
        "\n",
        "\n",
        "* ADDD stalls until multiply produces F0 value, which is forwarded.\n",
        "\n",
        "\n",
        "* SD stalls in MEM waiting on result from ADDD\n"
      ],
      "metadata": {
        "id": "ZJ54nA_DVK9e"
      }
    },
    {
      "cell_type": "markdown",
      "source": [
        "Assume FP register file has one write port.\n",
        "\n",
        "![](http://ece-research.unm.edu/jimp/611/slides/chap3_6-4.gif)\n",
        "\n",
        "The single write port represents a structural hazard.\n",
        "\n",
        "\n",
        "This can be solved by:\n",
        "* Increasing the number of write ports. Not worth it since steady state usage is close to 1.\n",
        "\n",
        "* Serialize the writes.\n"
      ],
      "metadata": {
        "id": "NWgvAdt4VbQE"
      }
    },
    {
      "cell_type": "markdown",
      "source": [
        "## Exemplos de Código\n",
        "\n",
        "Iremos apresentar alguns exemplos de execução. SUpondo:\n",
        "\n",
        "* 3 ciclos para ADDF\n",
        "* 5 ciclos para MULTF\n",
        "* 1 ciclo para ADD inteiros\n",
        "* 2 ciclos para LD e SD\n",
        "* Apenas uma instrução por realizar um Write Back (WR) no banco de registradores por ciclo. Se existir duas, a segunda irá aguardar no estágio Decode para possibilitar a solução do conflito.\n",
        "* Existe Forward, então uma instrução com dependência de dados pode começar a executar no ciclo do WB da instrução produtora do valor, conflito de RAW (Read After Write).\n",
        "* Pode ocorrer escrita em um registrador de **inteiro (R) ao mesmo tempo** que um registrador de **float (F)**.\n"
      ],
      "metadata": {
        "id": "mzsild0kWL4p"
      }
    },
    {
      "cell_type": "markdown",
      "source": [
        "### Primeiro Exemplo\n",
        "\n",
        "```\n",
        " add f1,f2,f3 ;  f1 = f2+f3\n",
        " add f3,f4,f3\n",
        "```"
      ],
      "metadata": {
        "id": "6Yn92ar4HBBy"
      }
    },
    {
      "cell_type": "code",
      "execution_count": null,
      "metadata": {
        "colab": {
          "base_uri": "https://localhost:8080/"
        },
        "id": "oiR828LyGEjw",
        "outputId": "eb26d91c-0301-4434-9a2d-d7178e7bc977"
      },
      "outputs": [
        {
          "output_type": "stream",
          "name": "stdout",
          "text": [
            "Writing exemplo.csv\n"
          ]
        }
      ],
      "source": [
        "#@title Duas primeiras instruçoes\n",
        "%%writefile exemplo.csv\n",
        "PC; instrucao; 1; 2;3;4;5;6;7;8\n",
        "0; add f1,f2,f3; F;D;A0;A1;A2;W;\n",
        "1; add f3,f4,f3; ; F;D;A0;A1;A2;W;"
      ]
    },
    {
      "cell_type": "code",
      "source": [
        "#@title Imprime\n",
        "import pandas as pd\n",
        "import ipywidgets as widgets\n",
        "from IPython.display import display, clear_output\n",
        "\n",
        "# create checkbox widget\n",
        "checkbox = widgets.Checkbox(\n",
        "    value=False,\n",
        "    description='Edit table',\n",
        "    indent=False\n",
        ")\n",
        "\n",
        "# Lê o arquivo CSV e carrega em um dataframe\n",
        "df = pd.read_csv('exemplo.csv', delimiter=';')\n",
        "df = df.fillna(\"-\")\n",
        "from google.colab import data_table\n",
        "# define function to display dataframe\n",
        "def show_df(use_display):\n",
        "    clear_output()  # clear current output\n",
        "    if use_display:\n",
        "        display(df)\n",
        "    else:\n",
        "        print(df)\n",
        "    display(checkbox)\n",
        "\n",
        "\n",
        "#data_table.DataTable(data.airports(), include_index=False, num_rows_per_page=10)\n",
        "\n",
        "# display checkbox and dataframe\n",
        "display(checkbox)\n",
        "show_df(checkbox.value)\n",
        "\n",
        "# define callback for checkbox widget\n",
        "def on_checkbox_change(change):\n",
        "    show_df(change.new)\n",
        "\n",
        "# attach callback to checkbox widget\n",
        "checkbox.observe(on_checkbox_change, names='value')\n"
      ],
      "metadata": {
        "colab": {
          "base_uri": "https://localhost:8080/",
          "height": 101,
          "referenced_widgets": [
            "532b352f143742e8a3942ce821ddef3a",
            "06ce6636b2cd425eb68379043e8594b1",
            "eb8434a82e8d4ce7bec1c016f2a7b7dc"
          ]
        },
        "id": "wqJwA-dKGvoB",
        "outputId": "24b72699-e165-488b-8360-4399d1b9c6b6"
      },
      "execution_count": null,
      "outputs": [
        {
          "output_type": "stream",
          "name": "stdout",
          "text": [
            "   PC      instrucao   1   2   3   4   5   6  7  8\n",
            "0   0   add f1,f2,f3   F   D  A0  A1  A2   W  -  -\n",
            "1   1   add f3,f4,f3       F   D  A0  A1  A2  W  -\n"
          ]
        },
        {
          "output_type": "display_data",
          "data": {
            "text/plain": [
              "Checkbox(value=False, description='Edit table', indent=False)"
            ],
            "application/vnd.jupyter.widget-view+json": {
              "version_major": 2,
              "version_minor": 0,
              "model_id": "532b352f143742e8a3942ce821ddef3a"
            }
          },
          "metadata": {}
        }
      ]
    },
    {
      "cell_type": "markdown",
      "source": [
        "### Segundo Exemplo\n",
        "\n",
        "```\n",
        " add f1,f2,f3;\n",
        " add f3,f1,f3 ; F3 = F1 + F3 RAW (Read after Write) em F1...\n",
        "```"
      ],
      "metadata": {
        "id": "xbtnZzEcHUPb"
      }
    },
    {
      "cell_type": "markdown",
      "source": [
        "#### Ciclo 3"
      ],
      "metadata": {
        "id": "ECC6xf1nH6em"
      }
    },
    {
      "cell_type": "code",
      "execution_count": null,
      "metadata": {
        "colab": {
          "base_uri": "https://localhost:8080/"
        },
        "outputId": "35e8e558-1f83-462c-8410-def9c216fee1",
        "id": "sPsw6pr3HUPb",
        "cellView": "form"
      },
      "outputs": [
        {
          "output_type": "stream",
          "name": "stdout",
          "text": [
            "Overwriting exemplo.csv\n"
          ]
        }
      ],
      "source": [
        "#@title codigo\n",
        "%%writefile exemplo.csv\n",
        "PC; instrucao; 1; 2;3; Comentario\n",
        "0; add f1,f2,f3; F;D;A0;\n",
        "1; add f3,f1,f3; ; F;D; Stall devido a dependencia em f1"
      ]
    },
    {
      "cell_type": "code",
      "source": [
        "#@title Imprime\n",
        "import pandas as pd\n",
        "\n",
        "# Lê o arquivo CSV e carrega em um dataframe\n",
        "df = pd.read_csv('exemplo.csv', delimiter=';')\n",
        "df = df.fillna(\"-\")\n",
        "# display checkbox and dataframe\n",
        "display(checkbox)\n",
        "show_df(checkbox.value)\n",
        "\n",
        "# define callback for checkbox widget\n",
        "def on_checkbox_change(change):\n",
        "    show_df(change.new)\n",
        "\n",
        "# attach callback to checkbox widget\n",
        "checkbox.observe(on_checkbox_change, names='value')\n"
      ],
      "metadata": {
        "colab": {
          "base_uri": "https://localhost:8080/",
          "height": 144,
          "referenced_widgets": [
            "7764860a47514e58ac534a06f37eb52e",
            "ce4c78b0598547e4adcbc725b8be03f1",
            "1a59930080f143faae92d813c627efc8"
          ]
        },
        "outputId": "0ab057f9-2714-49e2-94ab-1942caaa77ea",
        "id": "gBQLuwA8HUPc",
        "cellView": "form"
      },
      "execution_count": null,
      "outputs": [
        {
          "output_type": "display_data",
          "data": {
            "text/plain": [
              "   PC      instrucao   1   2   3                         Comentario\n",
              "0   0   add f1,f2,f3   F   D  A0                                  -\n",
              "1   1   add f3,f1,f3       F   D   Stall devido a dependencia em f1"
            ],
            "text/html": [
              "\n",
              "  <div id=\"df-5e876053-35fb-4eb6-80b0-14be08f10698\">\n",
              "    <div class=\"colab-df-container\">\n",
              "      <div>\n",
              "<style scoped>\n",
              "    .dataframe tbody tr th:only-of-type {\n",
              "        vertical-align: middle;\n",
              "    }\n",
              "\n",
              "    .dataframe tbody tr th {\n",
              "        vertical-align: top;\n",
              "    }\n",
              "\n",
              "    .dataframe thead th {\n",
              "        text-align: right;\n",
              "    }\n",
              "</style>\n",
              "<table border=\"1\" class=\"dataframe\">\n",
              "  <thead>\n",
              "    <tr style=\"text-align: right;\">\n",
              "      <th></th>\n",
              "      <th>PC</th>\n",
              "      <th>instrucao</th>\n",
              "      <th>1</th>\n",
              "      <th>2</th>\n",
              "      <th>3</th>\n",
              "      <th>Comentario</th>\n",
              "    </tr>\n",
              "  </thead>\n",
              "  <tbody>\n",
              "    <tr>\n",
              "      <th>0</th>\n",
              "      <td>0</td>\n",
              "      <td>add f1,f2,f3</td>\n",
              "      <td>F</td>\n",
              "      <td>D</td>\n",
              "      <td>A0</td>\n",
              "      <td>-</td>\n",
              "    </tr>\n",
              "    <tr>\n",
              "      <th>1</th>\n",
              "      <td>1</td>\n",
              "      <td>add f3,f1,f3</td>\n",
              "      <td></td>\n",
              "      <td>F</td>\n",
              "      <td>D</td>\n",
              "      <td>Stall devido a dependencia em f1</td>\n",
              "    </tr>\n",
              "  </tbody>\n",
              "</table>\n",
              "</div>\n",
              "      <button class=\"colab-df-convert\" onclick=\"convertToInteractive('df-5e876053-35fb-4eb6-80b0-14be08f10698')\"\n",
              "              title=\"Convert this dataframe to an interactive table.\"\n",
              "              style=\"display:none;\">\n",
              "        \n",
              "  <svg xmlns=\"http://www.w3.org/2000/svg\" height=\"24px\"viewBox=\"0 0 24 24\"\n",
              "       width=\"24px\">\n",
              "    <path d=\"M0 0h24v24H0V0z\" fill=\"none\"/>\n",
              "    <path d=\"M18.56 5.44l.94 2.06.94-2.06 2.06-.94-2.06-.94-.94-2.06-.94 2.06-2.06.94zm-11 1L8.5 8.5l.94-2.06 2.06-.94-2.06-.94L8.5 2.5l-.94 2.06-2.06.94zm10 10l.94 2.06.94-2.06 2.06-.94-2.06-.94-.94-2.06-.94 2.06-2.06.94z\"/><path d=\"M17.41 7.96l-1.37-1.37c-.4-.4-.92-.59-1.43-.59-.52 0-1.04.2-1.43.59L10.3 9.45l-7.72 7.72c-.78.78-.78 2.05 0 2.83L4 21.41c.39.39.9.59 1.41.59.51 0 1.02-.2 1.41-.59l7.78-7.78 2.81-2.81c.8-.78.8-2.07 0-2.86zM5.41 20L4 18.59l7.72-7.72 1.47 1.35L5.41 20z\"/>\n",
              "  </svg>\n",
              "      </button>\n",
              "      \n",
              "  <style>\n",
              "    .colab-df-container {\n",
              "      display:flex;\n",
              "      flex-wrap:wrap;\n",
              "      gap: 12px;\n",
              "    }\n",
              "\n",
              "    .colab-df-convert {\n",
              "      background-color: #E8F0FE;\n",
              "      border: none;\n",
              "      border-radius: 50%;\n",
              "      cursor: pointer;\n",
              "      display: none;\n",
              "      fill: #1967D2;\n",
              "      height: 32px;\n",
              "      padding: 0 0 0 0;\n",
              "      width: 32px;\n",
              "    }\n",
              "\n",
              "    .colab-df-convert:hover {\n",
              "      background-color: #E2EBFA;\n",
              "      box-shadow: 0px 1px 2px rgba(60, 64, 67, 0.3), 0px 1px 3px 1px rgba(60, 64, 67, 0.15);\n",
              "      fill: #174EA6;\n",
              "    }\n",
              "\n",
              "    [theme=dark] .colab-df-convert {\n",
              "      background-color: #3B4455;\n",
              "      fill: #D2E3FC;\n",
              "    }\n",
              "\n",
              "    [theme=dark] .colab-df-convert:hover {\n",
              "      background-color: #434B5C;\n",
              "      box-shadow: 0px 1px 3px 1px rgba(0, 0, 0, 0.15);\n",
              "      filter: drop-shadow(0px 1px 2px rgba(0, 0, 0, 0.3));\n",
              "      fill: #FFFFFF;\n",
              "    }\n",
              "  </style>\n",
              "\n",
              "      <script>\n",
              "        const buttonEl =\n",
              "          document.querySelector('#df-5e876053-35fb-4eb6-80b0-14be08f10698 button.colab-df-convert');\n",
              "        buttonEl.style.display =\n",
              "          google.colab.kernel.accessAllowed ? 'block' : 'none';\n",
              "\n",
              "        async function convertToInteractive(key) {\n",
              "          const element = document.querySelector('#df-5e876053-35fb-4eb6-80b0-14be08f10698');\n",
              "          const dataTable =\n",
              "            await google.colab.kernel.invokeFunction('convertToInteractive',\n",
              "                                                     [key], {});\n",
              "          if (!dataTable) return;\n",
              "\n",
              "          const docLinkHtml = 'Like what you see? Visit the ' +\n",
              "            '<a target=\"_blank\" href=https://colab.research.google.com/notebooks/data_table.ipynb>data table notebook</a>'\n",
              "            + ' to learn more about interactive tables.';\n",
              "          element.innerHTML = '';\n",
              "          dataTable['output_type'] = 'display_data';\n",
              "          await google.colab.output.renderOutput(dataTable, element);\n",
              "          const docLink = document.createElement('div');\n",
              "          docLink.innerHTML = docLinkHtml;\n",
              "          element.appendChild(docLink);\n",
              "        }\n",
              "      </script>\n",
              "    </div>\n",
              "  </div>\n",
              "  "
            ]
          },
          "metadata": {}
        },
        {
          "output_type": "display_data",
          "data": {
            "text/plain": [
              "Checkbox(value=True, description='Edit table', indent=False)"
            ],
            "application/vnd.jupyter.widget-view+json": {
              "version_major": 2,
              "version_minor": 0,
              "model_id": "7764860a47514e58ac534a06f37eb52e"
            }
          },
          "metadata": {}
        }
      ]
    },
    {
      "cell_type": "markdown",
      "source": [
        "#### Ciclo 6"
      ],
      "metadata": {
        "id": "9xNiMa8RIL5S"
      }
    },
    {
      "cell_type": "code",
      "execution_count": null,
      "metadata": {
        "colab": {
          "base_uri": "https://localhost:8080/"
        },
        "cellView": "form",
        "outputId": "a10fb482-77a8-4b9a-b186-42b404e85c78",
        "id": "1Qudsr8NIL5S"
      },
      "outputs": [
        {
          "output_type": "stream",
          "name": "stdout",
          "text": [
            "Overwriting exemplo.csv\n"
          ]
        }
      ],
      "source": [
        "#@title codigo\n",
        "%%writefile exemplo.csv\n",
        "PC; instrucao; 1; 2;3;4;5;6\n",
        "0; add f1,f2,f3; F;D;A0;A1;A2;W\n",
        "1; add f3,f1,f3; ; F;D;D;D;A0"
      ]
    },
    {
      "cell_type": "code",
      "source": [
        "#@title Imprime\n",
        "import pandas as pd\n",
        "\n",
        "# Lê o arquivo CSV e carrega em um dataframe\n",
        "df = pd.read_csv('exemplo.csv', delimiter=';')\n",
        "df = df.fillna(\"-\")\n",
        "# Imprime o dataframe\n",
        "print(df)\n",
        "print(\"O f1 é escrito no ciclo 6, que libera para execução a instrução add F3...\")\n"
      ],
      "metadata": {
        "colab": {
          "base_uri": "https://localhost:8080/"
        },
        "cellView": "form",
        "outputId": "24297a7d-6738-4526-e5ef-25f0f4f7bc1a",
        "id": "xIjvmdHNIL5S"
      },
      "execution_count": null,
      "outputs": [
        {
          "output_type": "stream",
          "name": "stdout",
          "text": [
            "   PC      instrucao   1   2   3   4   5  6 \n",
            "0   0   add f1,f2,f3   F   D  A0  A1  A2   W\n",
            "1   1   add f3,f1,f3       F   D   D   D  A0\n",
            "O f1 é escrito no ciclo 6, que libera para execução a instrução add F3...\n"
          ]
        }
      ]
    },
    {
      "cell_type": "markdown",
      "source": [
        "#### Ciclo 9"
      ],
      "metadata": {
        "id": "I69dgTNbIn3o"
      }
    },
    {
      "cell_type": "code",
      "execution_count": null,
      "metadata": {
        "colab": {
          "base_uri": "https://localhost:8080/"
        },
        "outputId": "7774d90c-a288-47d7-c79e-272382523249",
        "id": "3S5E2ckYIn3o"
      },
      "outputs": [
        {
          "output_type": "stream",
          "name": "stdout",
          "text": [
            "Overwriting exemplo.csv\n"
          ]
        }
      ],
      "source": [
        "#@title código\n",
        "%%writefile exemplo.csv\n",
        "PC; instrucao; 1; 2;3;4;5;6;7;8;9\n",
        "0; add f1,f2,f3; F;D;A0;A1;A2;W\n",
        "1; add f3,f1,f3; ; F;D;D;D;A0;A1;A2;W"
      ]
    },
    {
      "cell_type": "markdown",
      "source": [
        "```\n",
        "add f1,f2,f3;  f1 = f2 + f3\n",
        "add f3,f1,f3;  f3 = f1 + f3 - Dependência em f1 (RAW)\n",
        "```\n",
        "\n",
        "$ \\begin{array}{lccc}\n",
        "add & \\boxed{F1},\\searrow  & \\boxed{F2}, & \\boxed{F3} \\\\\n",
        "add & \\boxed{F3}, & \\boxed{F1}, & \\boxed{F3} \\\\\n",
        "\\end{array} $\n"
      ],
      "metadata": {
        "id": "dt9MPD39YU1q"
      }
    },
    {
      "cell_type": "code",
      "source": [
        "#@title Imprime\n",
        "import pandas as pd\n",
        "\n",
        "# Lê o arquivo CSV e carrega em um dataframe\n",
        "df = pd.read_csv('exemplo.csv', delimiter=';')\n",
        "df = df.fillna(\"-\")\n",
        "# Imprime o dataframe\n",
        "print(df)"
      ],
      "metadata": {
        "colab": {
          "base_uri": "https://localhost:8080/"
        },
        "outputId": "3a44b45f-c015-4a2b-8570-d36aa6309586",
        "id": "24DGZjmbIn3p",
        "cellView": "form"
      },
      "execution_count": null,
      "outputs": [
        {
          "output_type": "stream",
          "name": "stdout",
          "text": [
            "   PC      instrucao   1   2   3   4   5   6   7   8  9\n",
            "0   0   add f1,f2,f3   F   D  A0  A1  A2   W   -   -  -\n",
            "1   1   add f3,f1,f3       F   D   D   D  A0  A1  A2  W\n"
          ]
        }
      ]
    },
    {
      "cell_type": "markdown",
      "source": [
        "### Terceiro  Exemplo\n",
        "\n",
        "```\n",
        " ld f1,0(r5)\n",
        " add f1,f1,f3\n",
        " mult f2,f1,f1\n",
        " add f4,f1,f2\n",
        " sd f1,0(r5)\n",
        " add r5,r5,4\n",
        " beq r5,r2,loop\n",
        "```"
      ],
      "metadata": {
        "id": "rF0CuYLaJCG7"
      }
    },
    {
      "cell_type": "markdown",
      "source": [
        "#### Ciclo 5"
      ],
      "metadata": {
        "id": "sur02cL2JCG8"
      }
    },
    {
      "cell_type": "code",
      "execution_count": null,
      "metadata": {
        "colab": {
          "base_uri": "https://localhost:8080/"
        },
        "outputId": "5702b6e2-e680-4d90-b176-e400cea3296e",
        "id": "xP4IO-cEJCG8"
      },
      "outputs": [
        {
          "output_type": "stream",
          "name": "stdout",
          "text": [
            "Writing exemplo1.csv\n"
          ]
        }
      ],
      "source": [
        "#@title codigo\n",
        "%%writefile exemplo1.csv\n",
        "PC ; instrução; F; D; X; W\n",
        "0; ld f1,0(r5) ; 1; 2; 3-4; 5\n",
        "4;  add f1,f1,f3; 2; 3-4; 5;\n",
        "8; mult f2,f1,f1; 3-4;\n",
        "12; add f4,f1,f2\n",
        "16; sd f4,0(r5)\n",
        "20;  add r5,r5,4\n",
        "24; beq r5,r2,loop"
      ]
    },
    {
      "cell_type": "code",
      "source": [
        "#@title Imprime\n",
        "import pandas as pd\n",
        "\n",
        "# Lê o arquivo CSV e carrega em um dataframe\n",
        "df = pd.read_csv('exemplo1.csv', delimiter=';', dtype=\"str\")\n",
        "df = df.fillna(\"-\")\n",
        "\n",
        "# Imprime o dataframe\n",
        "print(df)\n",
        "from IPython.display import Markdown\n",
        "display(Markdown('## Irar parar no decode nos ciclos 3-4 devido a dependência em f1'))\n",
        "display(Markdown('## Efeito em cascata que segura a instrução mult no Fetch'))"
      ],
      "metadata": {
        "colab": {
          "base_uri": "https://localhost:8080/",
          "height": 247
        },
        "outputId": "bf35410d-82c7-4617-fd3b-7f9ffc004a38",
        "id": "XMSH3uqwJCG8",
        "cellView": "form"
      },
      "execution_count": null,
      "outputs": [
        {
          "output_type": "stream",
          "name": "stdout",
          "text": [
            "  PC         instrução     F     D     X   W\n",
            "0   0     ld f1,0(r5)      1     2   3-4   5\n",
            "1   4     add f1,f1,f3     2   3-4     5   -\n",
            "2   8    mult f2,f1,f1   3-4     -     -   -\n",
            "3  12     add f4,f1,f2     -     -     -   -\n",
            "4  16      sd f4,0(r5)     -     -     -   -\n",
            "5  20      add r5,r5,4     -     -     -   -\n",
            "6  24   beq r5,r2,loop     -     -     -   -\n"
          ]
        },
        {
          "output_type": "display_data",
          "data": {
            "text/plain": [
              "<IPython.core.display.Markdown object>"
            ],
            "text/markdown": "## Irar parar no decode nos ciclos 3-4 devido a dependência em f1"
          },
          "metadata": {}
        },
        {
          "output_type": "display_data",
          "data": {
            "text/plain": [
              "<IPython.core.display.Markdown object>"
            ],
            "text/markdown": "## Efeito em cascata que segura a instrução mult no Fetch"
          },
          "metadata": {}
        }
      ]
    },
    {
      "cell_type": "markdown",
      "source": [
        "#### Ciclo 15"
      ],
      "metadata": {
        "id": "exAV9SlrbCqV"
      }
    },
    {
      "cell_type": "code",
      "execution_count": null,
      "metadata": {
        "colab": {
          "base_uri": "https://localhost:8080/"
        },
        "outputId": "ad5aa870-4ba0-48ec-d6a0-bc247b3e4508",
        "id": "OENvn_E-bCqg"
      },
      "outputs": [
        {
          "output_type": "stream",
          "name": "stdout",
          "text": [
            "Writing exemplo2.csv\n"
          ]
        }
      ],
      "source": [
        "#@title codigo\n",
        "%%writefile exemplo2.csv\n",
        "PC ; instrução; F; D; X; W\n",
        "0; ld f1,0(r5) ; 1; 2; 3-4; 5\n",
        "4;  add f1,f1,f3; 2; 3-4; 5-7; 8\n",
        "8; mult f2,f1,f1; 3-4; 5-7; 8-12;13\n",
        "12; add f4,f1,f2; 5-7;8-12; 13-15\n",
        "16; sd f4,0(r5); 8-12; 13-15\n",
        "20;  add r5,r5,4; 13-15;\n",
        "24; beq r5,r2,loop"
      ]
    },
    {
      "cell_type": "code",
      "source": [
        "#@title Imprime\n",
        "import pandas as pd\n",
        "\n",
        "# Lê o arquivo CSV e carrega em um dataframe\n",
        "df = pd.read_csv('exemplo2.csv', delimiter=';',dtype=\"str\")\n",
        "df = df.fillna(\"-\")\n",
        "\n",
        "# Imprime o dataframe\n",
        "print(df)\n",
        "from IPython.display import Markdown\n",
        "display(Markdown('## As dependências RAW irão bloquear várias vezes o Decode'))\n",
        "display(Markdown('## Efeito em cascata que segura o Fetch'))\n",
        "display(Markdown('## No ciclo 15 começa a primeira instrução de Inteiro'))\n"
      ],
      "metadata": {
        "colab": {
          "base_uri": "https://localhost:8080/"
        },
        "outputId": "cf4942b9-523b-4c27-dec5-586cca90b7a0",
        "id": "5dRx5sPcbCqg"
      },
      "execution_count": null,
      "outputs": [
        {
          "output_type": "stream",
          "name": "stdout",
          "text": [
            "  PC         instrução       F        D       X   W\n",
            "0   0     ld f1,0(r5)        1        2     3-4   5\n",
            "1   4     add f1,f1,f3       2      3-4     5-7   8\n",
            "2   8    mult f2,f1,f1     3-4      5-7    8-12  13\n",
            "3  12     add f4,f1,f2     5-7     8-12   13-15   -\n",
            "4  16      sd f4,0(r5)    8-12   13-15        -   -\n",
            "5  20      add r5,r5,4   13-15        -       -   -\n",
            "6  24   beq r5,r2,loop       -        -       -   -\n"
          ]
        },
        {
          "output_type": "display_data",
          "data": {
            "text/plain": [
              "<IPython.core.display.Markdown object>"
            ],
            "text/markdown": "## As dependências RAW irão bloquear várias vezes o Decode"
          },
          "metadata": {}
        },
        {
          "output_type": "display_data",
          "data": {
            "text/plain": [
              "<IPython.core.display.Markdown object>"
            ],
            "text/markdown": "## Efeito em cascata que segura o Fetch"
          },
          "metadata": {}
        },
        {
          "output_type": "display_data",
          "data": {
            "text/plain": [
              "<IPython.core.display.Markdown object>"
            ],
            "text/markdown": "## No ciclo 15 começa a primeira instrução de Inteiro"
          },
          "metadata": {}
        }
      ]
    },
    {
      "cell_type": "markdown",
      "source": [
        "#### Ciclo 15"
      ],
      "metadata": {
        "id": "rM_7tmHqrLjA"
      }
    },
    {
      "cell_type": "code",
      "execution_count": null,
      "metadata": {
        "colab": {
          "base_uri": "https://localhost:8080/"
        },
        "outputId": "ff735b4b-1e9e-4928-e193-85c97e318d49",
        "id": "XX5g_tAYrLjA"
      },
      "outputs": [
        {
          "output_type": "stream",
          "name": "stdout",
          "text": [
            "Writing exemplo3.csv\n"
          ]
        }
      ],
      "source": [
        "#@title codigo\n",
        "%%writefile exemplo3.csv\n",
        "PC ; instrução; F; D; X; W; F; D; X; W\n",
        "0; ld f1,0(r5) ; 1; 2; 3-4; 5; 18; 19; 20-21; 22\n",
        "4;  add f1,f1,f3; 2; 3-4; 5-7; 8\n",
        "8; mult f2,f1,f1; 3-4; 5-7; 8-12;13\n",
        "12; add f4,f1,f2; 5-7;8-12; 13-15; 16\n",
        "16; sd f4,0(r5); 8-12; 13-15; 16-17;\n",
        "20;  add r5,r5,4; 13-15;16;17;18\n",
        "24; beq r5,r2,loop ;16; 17"
      ]
    },
    {
      "cell_type": "code",
      "source": [
        "#@title Imprime\n",
        "import pandas as pd\n",
        "\n",
        "# Lê o arquivo CSV e carrega em um dataframe\n",
        "df = pd.read_csv('exemplo3.csv', delimiter=';',dtype=\"str\")\n",
        "df = df.fillna(\"-\")\n",
        "\n",
        "# Imprime o dataframe\n",
        "print(df)\n",
        "from IPython.display import Markdown\n",
        "display(Markdown('## Executa uma iteração completa'))\n",
        "display(Markdown('## O desvio executa no estágio de Decode'))\n",
        "display(Markdown('## CPI = Ciclos por instrução'))\n",
        "cpi = (22-5)/7\n",
        "display(Markdown('## Observar LD, CPI = (22-5)/7 = '+str(cpi)))"
      ],
      "metadata": {
        "colab": {
          "base_uri": "https://localhost:8080/",
          "height": 334
        },
        "outputId": "e5fe76c1-e0f1-4201-9428-e2ec011f0dfd",
        "id": "R7fu8MoNrLjB",
        "cellView": "form"
      },
      "execution_count": null,
      "outputs": [
        {
          "output_type": "stream",
          "name": "stdout",
          "text": [
            "  PC          instrução       F       D       X    W  F.1  D.1     X.1   W \n",
            "0   0      ld f1,0(r5)        1       2     3-4    5   18   19   20-21   22\n",
            "1   4      add f1,f1,f3       2     3-4     5-7    8    -    -       -    -\n",
            "2   8     mult f2,f1,f1     3-4     5-7    8-12   13    -    -       -    -\n",
            "3  12      add f4,f1,f2     5-7    8-12   13-15   16    -    -       -    -\n",
            "4  16       sd f4,0(r5)    8-12   13-15   16-17         -    -       -    -\n",
            "5  20       add r5,r5,4   13-15      16      17   18    -    -       -    -\n",
            "6  24   beq r5,r2,loop       16     17        -    -    -    -       -    -\n"
          ]
        },
        {
          "output_type": "display_data",
          "data": {
            "text/plain": [
              "<IPython.core.display.Markdown object>"
            ],
            "text/markdown": "## Executa uma iteração completa"
          },
          "metadata": {}
        },
        {
          "output_type": "display_data",
          "data": {
            "text/plain": [
              "<IPython.core.display.Markdown object>"
            ],
            "text/markdown": "## O desvio executa no estágio de Decode"
          },
          "metadata": {}
        },
        {
          "output_type": "display_data",
          "data": {
            "text/plain": [
              "<IPython.core.display.Markdown object>"
            ],
            "text/markdown": "## CPI = Ciclos por instrução"
          },
          "metadata": {}
        },
        {
          "output_type": "display_data",
          "data": {
            "text/plain": [
              "<IPython.core.display.Markdown object>"
            ],
            "text/markdown": "## Observar LD, CPI = (22-5)/7 = 2.4285714285714284"
          },
          "metadata": {}
        }
      ]
    },
    {
      "cell_type": "markdown",
      "source": [
        "## Navegando nos resultados"
      ],
      "metadata": {
        "id": "JUh974PxrFko"
      }
    },
    {
      "cell_type": "code",
      "source": [
        "#@title Imagens botões << e >>>\n",
        "import ipywidgets as widgets\n",
        "from IPython.display import Image\n",
        "from IPython.display import clear_output\n",
        "import time\n",
        "\n",
        "first = 1\n",
        "last = 3\n",
        "filename = \"exemplo\"\n",
        "\n",
        "from IPython.display import Markdown\n",
        "marklist = []\n",
        "marklist.append(\"Para no Decode RAW em F1\")\n",
        "marklist.append(\"Após sequência RAW, busca instrução inteiro sem RAW\")\n",
        "marklist.append(\"Após execução de uma iteração, CPI= 2.42\")\n",
        "\n",
        "upbutton = widgets.Button(description='>>')\n",
        "downbutton = widgets.Button(description='<<')\n",
        "\n",
        "\n",
        "\n",
        "out = widgets.Output()\n",
        "count = first\n",
        "samp_text = filename + str(first) + \".csv\"\n",
        "\n",
        "\n",
        "def up_button_clicked(_, incr=1):\n",
        "  global count,samp_text\n",
        "  with out:\n",
        "    if (count < last and  incr == 1):\n",
        "      count += incr\n",
        "\n",
        "    if (count > first and incr == -1):\n",
        "      count += incr\n",
        "\n",
        "    clear_output(wait=True)\n",
        "    samp_text = filename + str(count) + \".csv\"\n",
        "    df = pd.read_csv(samp_text, delimiter=';',dtype=\"str\")\n",
        "    df = df.fillna(\"-\")\n",
        "    display(df)\n",
        "    display(Markdown('## '+marklist[count-1]))\n",
        "\n",
        "upbutton.on_click(up_button_clicked)\n",
        "\n",
        "def down_button_clicked(_):\n",
        "  return up_button_clicked(_, -1)\n",
        "\n",
        "downbutton.on_click(down_button_clicked)\n",
        "# displaying button and its output together\n",
        "buttons = widgets.HBox([downbutton,upbutton])\n",
        "#widgets.VBox([buttons,out,Image(samp_text)])\n",
        "\n",
        "myvbox = widgets.VBox([buttons,out],)\n",
        "\n",
        "display(myvbox)\n",
        "with out:\n",
        "  df = pd.read_csv(filename + str(first) + \".csv\", delimiter=';',dtype=\"str\")\n",
        "  df = df.fillna(\"-\")\n",
        "  display(df)\n",
        "  display(Markdown('## '+marklist[first-1]))\n",
        "\n"
      ],
      "metadata": {
        "colab": {
          "base_uri": "https://localhost:8080/",
          "height": 348,
          "referenced_widgets": [
            "fd1e1fa82e3c40ce8be045aaa920a745",
            "2b940489809d413689e28298cd37b70f",
            "4ca703a38f2b4360abede8e0b6f67e5f",
            "b8de0edf58fc4b2e9c2e8dde720f6e51",
            "8255866dc6b0450e93d9dac7bcf5eb2d",
            "f8bab137907d48e69f42b26fc7680ce5",
            "ad081612d99d48999277b5dd2ceb81c5",
            "50f22b6330804250afd470bf82c6924d",
            "cea2e967ca734cdfb9f89c5d4c052cd3",
            "037e0b2d81dd46c39633021fbc500398",
            "c4f9b012d9b649b7bb5c0b30a034d79f",
            "8c7ef23956534f15a226cb1b1c3360a0"
          ]
        },
        "id": "z0FhKhxwr7A5",
        "outputId": "c864a0d8-9952-4aad-e49b-cababacd777a",
        "cellView": "form"
      },
      "execution_count": null,
      "outputs": [
        {
          "output_type": "display_data",
          "data": {
            "text/plain": [
              "VBox(children=(HBox(children=(Button(description='<<', style=ButtonStyle()), Button(description='>>', style=Bu…"
            ],
            "application/vnd.jupyter.widget-view+json": {
              "version_major": 2,
              "version_minor": 0,
              "model_id": "fd1e1fa82e3c40ce8be045aaa920a745"
            }
          },
          "metadata": {}
        }
      ]
    },
    {
      "cell_type": "markdown",
      "source": [
        "## **Questao 1 Prova 2023**\n",
        "\n",
        "multiplas unidades"
      ],
      "metadata": {
        "id": "0NvZcVuzf-JM"
      }
    },
    {
      "cell_type": "code",
      "source": [
        "%%writefile exemplo1.csv\n",
        "instrucao; F; D; E; W; F; D; E; W;\n",
        "loop LD F1,0(r1); 1; 2; 3-4; 5 ; 20; 21; 22-23; 24;\n",
        "Add F2,F1,F3; 2; 3-4; 5-7;8 ;\n",
        "SD F2,0(r1); 3-4; 5-7;8-9; ;\n",
        "LD F4,4(r1); 5-7; 8; 9-10;11 ;\n",
        "Mul F5,F4,F4; 8; 9-10;11-15;16;\n",
        "Add F6,F5,F4; 9-10; 11-15; 16-18;19\n",
        "Sd F6,4(r1); 11-15; 16-18; 19-20;\n",
        "add r1,r1,8; 16-18; 19; 20; 21\n",
        "bne r1,r2, loop; 19;\n"
      ],
      "metadata": {
        "colab": {
          "base_uri": "https://localhost:8080/"
        },
        "outputId": "9cc8b19a-4402-4ccb-ebf6-f2f7efb421d5",
        "id": "MnFiuUqHf-JY"
      },
      "execution_count": null,
      "outputs": [
        {
          "output_type": "stream",
          "name": "stdout",
          "text": [
            "Overwriting exemplo1.csv\n"
          ]
        }
      ]
    },
    {
      "cell_type": "code",
      "source": [
        "#@title Imagens botões << e >>>\n",
        "import pandas as pd\n",
        "import ipywidgets as widgets\n",
        "from IPython.display import Image\n",
        "from IPython.display import clear_output\n",
        "import time\n",
        "\n",
        "first = 1\n",
        "last = 1\n",
        "filename = \"exemplo\"\n",
        "\n",
        "from IPython.display import Markdown\n",
        "marklist = []\n",
        "marklist.append(\"24-5 ciclos / 9 instrucoes = 2,1\")\n",
        "\n",
        "upbutton = widgets.Button(description='>>')\n",
        "downbutton = widgets.Button(description='<<')\n",
        "\n",
        "\n",
        "\n",
        "out = widgets.Output()\n",
        "count = first\n",
        "samp_text = filename + str(first) + \".csv\"\n",
        "\n",
        "\n",
        "def up_button_clicked(_, incr=1):\n",
        "  global count,samp_text\n",
        "  with out:\n",
        "    if (count < last and  incr == 1):\n",
        "      count += incr\n",
        "\n",
        "    if (count > first and incr == -1):\n",
        "      count += incr\n",
        "\n",
        "    clear_output(wait=True)\n",
        "    samp_text = filename + str(count) + \".csv\"\n",
        "    df = pd.read_csv(samp_text, delimiter=';',dtype=\"str\")\n",
        "    df = df.fillna(\"-\")\n",
        "    display(df)\n",
        "    display(Markdown('## '+marklist[count-1]))\n",
        "\n",
        "upbutton.on_click(up_button_clicked)\n",
        "\n",
        "def down_button_clicked(_):\n",
        "  return up_button_clicked(_, -1)\n",
        "\n",
        "downbutton.on_click(down_button_clicked)\n",
        "# displaying button and its output together\n",
        "buttons = widgets.HBox([downbutton,upbutton])\n",
        "#widgets.VBox([buttons,out,Image(samp_text)])\n",
        "\n",
        "myvbox = widgets.VBox([buttons,out],)\n",
        "\n",
        "display(myvbox)\n",
        "with out:\n",
        "  df = pd.read_csv(filename + str(first) + \".csv\", delimiter=';',dtype=\"str\")\n",
        "  df = df.fillna(\"-\")\n",
        "  display(df)\n",
        "  display(Markdown('## '+marklist[first-1]))\n",
        "\n"
      ],
      "metadata": {
        "colab": {
          "base_uri": "https://localhost:8080/",
          "height": 411,
          "referenced_widgets": [
            "e0270799e0e941628588d52c7bbcdbb8",
            "ea91bad6a0904bceb3f7f8b5132c9d1d",
            "795ab55e9fbc4ebd8366fc11b6f9115d",
            "0ec96fd2398942d88de48a19c1b241f5",
            "c5c51f57225b4d47a64ca86d9c2bb2ae",
            "499cb3a94d754d51b685669e3d3c7fa6",
            "bf00940aa1d54d538b56f94f05e892e3",
            "3ae83762f01b4ada9d58322785749955",
            "422784e3afaf4d6580d94d05981bf9b6",
            "68d05ffdcad04129bbcd8d15fa348145",
            "d5fe42345f644d6bb63b7da999ca058e",
            "d012a5c9f8ba4393a7c09a6876646d0a"
          ]
        },
        "outputId": "157e7fa5-2afa-43e2-f05b-10c5626fb14e",
        "cellView": "form",
        "id": "GmvSKBh6f-JZ"
      },
      "execution_count": null,
      "outputs": [
        {
          "output_type": "display_data",
          "data": {
            "text/plain": [
              "VBox(children=(HBox(children=(Button(description='<<', style=ButtonStyle()), Button(description='>>', style=Bu…"
            ],
            "application/vnd.jupyter.widget-view+json": {
              "version_major": 2,
              "version_minor": 0,
              "model_id": "e0270799e0e941628588d52c7bbcdbb8"
            }
          },
          "metadata": {}
        }
      ]
    },
    {
      "cell_type": "markdown",
      "source": [
        "# Loop Unrolling"
      ],
      "metadata": {
        "id": "EQmu_SmDu2x2"
      }
    },
    {
      "cell_type": "markdown",
      "source": [
        "```\n",
        "For (i=0; i<100; i++)\n",
        "   a[i] = a[i] + x;\n",
        "```\n",
        "\n",
        "```\n",
        "#pragma unroll 4\n",
        "For (i=0; i<100; i+=4)\n",
        "   a[i] = a[i] + x;\n",
        "   a[i+1] = a[i+1] + x;\n",
        "   a[i+2] = a[i+2] + x;\n",
        "   a[i+3] = a[i+3] + x;\n",
        "```\n"
      ],
      "metadata": {
        "id": "ekJgvY4MtLQa"
      }
    },
    {
      "cell_type": "markdown",
      "source": [
        "## Exemplo que não pode unroll sem uma analise detalhada\n",
        "\n",
        "```\n",
        "For (i=1; i<100; i++)\n",
        "   a[i] = a[i-1] + x;\n",
        "```\n"
      ],
      "metadata": {
        "id": "UXfx3A9Fw0A2"
      }
    },
    {
      "cell_type": "markdown",
      "source": [
        "## Exemplo 1\n",
        "\n",
        "```\n",
        "f2 = 3.0\n",
        "loop: Ld F1,0(r1)\n",
        "addf F1,F1,F2\n",
        "Sd F1,0(r1)\n",
        "add r1,r1,4\n",
        "bne r1,r3,loop\n",
        "```\n",
        "\n",
        "$ \\begin{array}{lccc}\n",
        "index & r1\\downarrow  & & \\ldots &  \\\\\n",
        "Vetor & \\boxed{6} & \\boxed{8} &  \\ldots & \\boxed{13} \\\\\n",
        "Ld   & F1= 6 & \\\\\n",
        "add  & F1=9 & \\\\\n",
        "sd & \\boxed{9} & \\boxed{8} &  \\ldots & \\boxed{13}\n",
        "\\\\\n",
        "\\\\\n",
        "\\\\\n",
        "index &   & r1\\downarrow& \\ldots &  \\\\\n",
        "Vetor & \\boxed{9} & \\boxed{8} &  \\ldots & \\boxed{13} \\\\\n",
        "Ld   & & F1= 8 & \\\\\n",
        "add  & & F1=11 & \\\\\n",
        "sd & \\boxed{9} & \\boxed{11} &  \\ldots & \\boxed{13} \\\\\n",
        "\\ldots \\\\\n",
        "\\end{array} $\n"
      ],
      "metadata": {
        "id": "NfKKYHJyu9_8"
      }
    },
    {
      "cell_type": "markdown",
      "source": [],
      "metadata": {
        "id": "FPS5ALwaw8Gh"
      }
    },
    {
      "cell_type": "markdown",
      "source": [
        "### Unroll 2\n",
        "\n",
        "```\n",
        "f2 = 3.0\n",
        "loop: Ld F1,0(r1)\n",
        "addf F1,F1,F2\n",
        "Sd F1,0(r1)\n",
        "Ld F3,4(r1)\n",
        "addf F3,F3,F2\n",
        "Sd F3,4(r1)\n",
        "add r1,r1,8\n",
        "bne r1,r3,loop\n",
        "```\n",
        "\n",
        "$ \\begin{array}{lccc}\n",
        "index & r1\\downarrow  & r1+4\\downarrow& \\ldots &  \\\\\n",
        "Vetor & \\boxed{6} & \\boxed{8} &  \\ldots & \\boxed{13} \\\\\n",
        "Ld   & F1= 6 & \\\\\n",
        "add  & F1=9 & \\\\\n",
        "sd & \\boxed{9} & \\boxed{8} &  \\ldots & \\boxed{13} \\\\\n",
        "Ld   & & F3= 8 & \\\\\n",
        "add  & & F3=11 & \\\\\n",
        "sd & \\boxed{9} & \\boxed{11} &  \\ldots & \\boxed{13} \\\\\n",
        "\\ldots \\\\\n",
        "\\end{array} $\n"
      ],
      "metadata": {
        "id": "hKffez85w8YI"
      }
    },
    {
      "cell_type": "markdown",
      "source": [
        "### Unroll 2 + Escalonamento Estático\n",
        "\n",
        "```\n",
        "f2 = 3.0\n",
        "loop: Ld F1,0(r1)\n",
        "Ld F3,4(r1)\n",
        "addf F1,F1,F2\n",
        "addf F3,F3,F2\n",
        "Sd F1,0(r1)\n",
        "Sd F3,4(r1)\n",
        "add r1,r1,8\n",
        "bne r1,r3,loop\n",
        "```\n",
        "\n",
        "$ \\begin{array}{lccc}\n",
        "index & r1\\downarrow  & r1+4\\downarrow& \\ldots &  \\\\\n",
        "Vetor & \\boxed{6} & \\boxed{8} &  \\ldots & \\boxed{13} \\\\\n",
        "Ld   & F1= 6 & \\\\\n",
        "Ld   & & F3= 8 & \\\\\n",
        "add  & F1=9 & \\\\\n",
        "add  & & F3=11 & \\\\\n",
        "sd & \\boxed{9} & \\boxed{8} &  \\ldots & \\boxed{13} \\\\\n",
        "sd & \\boxed{9} & \\boxed{11} &  \\ldots & \\boxed{13} \\\\\n",
        "\\ldots \\\\\n",
        "\\end{array} $\n"
      ],
      "metadata": {
        "id": "PT9_XEoYQFFL"
      }
    },
    {
      "cell_type": "markdown",
      "source": [
        "### Ciclo 9"
      ],
      "metadata": {
        "id": "ir9-mjsKvs0h"
      }
    },
    {
      "cell_type": "code",
      "source": [
        "#@title codigo\n",
        "%%writefile exemplo1.csv\n",
        "PC ; instrução; F; D; X; W; F; D; X; W\n",
        "0; loop: Ld F1,0(r1); 1; 2; 3-4; 5\n",
        "4; Ld F3,4(r1); 2; 3; 4-5; 6\n",
        "8; addf F1,F1,F2; 3; 4; 5-7; 8\n",
        "12; addf F3,F3,F2 ; 4; 5; 6-8; 9\n",
        "16; Sd F1,0(r1); 5; 6-7; 8-9;\n",
        "20; Sd F3,4(r1); 6-7; 8; 9\n",
        "24; add r1,r1,8\n",
        "28; bne r1,r3,loop"
      ],
      "metadata": {
        "colab": {
          "base_uri": "https://localhost:8080/"
        },
        "id": "GTEiZKn7u7MB",
        "outputId": "ae20f531-08d4-4f5b-e0d9-d6964d0c928b"
      },
      "execution_count": null,
      "outputs": [
        {
          "output_type": "stream",
          "name": "stdout",
          "text": [
            "Overwriting exemplo1.csv\n"
          ]
        }
      ]
    },
    {
      "cell_type": "code",
      "source": [
        "#@title Imprime\n",
        "import pandas as pd\n",
        "\n",
        "# Lê o arquivo CSV e carrega em um dataframe\n",
        "df = pd.read_csv('exemplo1.csv', delimiter=';',dtype=\"str\")\n",
        "df = df.fillna(\"-\")\n",
        "\n",
        "# Imprime o dataframe\n",
        "print(df)\n",
        "from IPython.display import Markdown\n",
        "display(Markdown('## Unroll com escalonamento estático intercalando as duas iterações'))\n",
        "display(Markdown('## Unroll resolveu dependencia Ld e ADD'))\n",
        "display(Markdown('## Porem o primeiro SD teve que aguardar 1 ciclo'))"
      ],
      "metadata": {
        "colab": {
          "base_uri": "https://localhost:8080/"
        },
        "cellView": "form",
        "id": "KATwVKycv0mA",
        "outputId": "0cf0c026-a20a-4af2-fbb1-91fbbca8e2d6"
      },
      "execution_count": null,
      "outputs": [
        {
          "output_type": "stream",
          "name": "stdout",
          "text": [
            "  PC            instrução     F     D     X   W  F.1  D.1  X.1  W \n",
            "0   0   loop: Ld F1,0(r1)     1     2   3-4   5    -    -    -   -\n",
            "1   4         Ld F3,4(r1)     2     3   4-5   6    -    -    -   -\n",
            "2   8       addf F1,F1,F2     3     4   5-7   8    -    -    -   -\n",
            "3  12      addf F3,F3,F2      4     5   6-8   9    -    -    -   -\n",
            "4  16         Sd F1,0(r1)     5   6-7   8-9   -    -    -    -   -\n",
            "5  20         Sd F3,4(r1)   6-7     8     9   -    -    -    -   -\n",
            "6  24         add r1,r1,8     -     -     -   -    -    -    -   -\n",
            "7  28      bne r1,r3,loop     -     -     -   -    -    -    -   -\n"
          ]
        },
        {
          "output_type": "display_data",
          "data": {
            "text/plain": [
              "<IPython.core.display.Markdown object>"
            ],
            "text/markdown": "## Unroll com escalonamento estático intercalando as duas iterações"
          },
          "metadata": {}
        },
        {
          "output_type": "display_data",
          "data": {
            "text/plain": [
              "<IPython.core.display.Markdown object>"
            ],
            "text/markdown": "## Unroll resolveu dependencia Ld e ADD"
          },
          "metadata": {}
        },
        {
          "output_type": "display_data",
          "data": {
            "text/plain": [
              "<IPython.core.display.Markdown object>"
            ],
            "text/markdown": "## Porem o primeiro SD teve que aguardar 1 ciclo"
          },
          "metadata": {}
        }
      ]
    },
    {
      "cell_type": "markdown",
      "source": [
        "### Ciclo 9 com escalonamento do **add r1**"
      ],
      "metadata": {
        "id": "yq6hrJdVx0b8"
      }
    },
    {
      "cell_type": "code",
      "source": [
        "#@title codigo\n",
        "%%writefile exemplo2.csv\n",
        "PC ; instrução; F; D; X; W; F; D; X; W\n",
        "0; loop: Ld F1,0(r1); 1; 2; 3-4; 5\n",
        "4; Ld F3,4(r1); 2; 3; 4-5; 6\n",
        "8; addf F1,F1,F2; 3; 4; 5-7; 8\n",
        "12; addf F3,F3,F2 ; 4; 5; 6-8; 9\n",
        "16; add r1,r1,8; 5; 6; 7; 8\n",
        "20; Sd F1,-8(r1); 6; 7; 8-9;\n",
        "24; Sd F3,-4(r1); 7; 8; 9\n",
        "28; bne r1,r3,loop"
      ],
      "metadata": {
        "colab": {
          "base_uri": "https://localhost:8080/"
        },
        "outputId": "1b9ab0ac-43c4-411f-d471-a3dc8732c578",
        "id": "LVBQe30fx0cH"
      },
      "execution_count": null,
      "outputs": [
        {
          "output_type": "stream",
          "name": "stdout",
          "text": [
            "Overwriting exemplo2.csv\n"
          ]
        }
      ]
    },
    {
      "cell_type": "code",
      "source": [
        "#@title Imprime\n",
        "import pandas as pd\n",
        "\n",
        "# Lê o arquivo CSV e carrega em um dataframe\n",
        "df = pd.read_csv('exemplo2.csv', delimiter=';',dtype=\"str\")\n",
        "df = df.fillna(\"-\")\n",
        "\n",
        "# Imprime o dataframe\n",
        "print(df)\n",
        "from IPython.display import Markdown\n",
        "display(Markdown('## Unroll com escalonamento estático intercalando as duas iterações'))\n",
        "display(Markdown('## Unroll resolveu dependencia Ld, ADD, SD'))\n",
        "display(Markdown('## Escalonou o add r1 para melhorar SD'))"
      ],
      "metadata": {
        "colab": {
          "base_uri": "https://localhost:8080/"
        },
        "outputId": "425711d3-97f1-44a5-908b-8468044b2204",
        "id": "ljuDWrGhx0cI"
      },
      "execution_count": null,
      "outputs": [
        {
          "output_type": "stream",
          "name": "stdout",
          "text": [
            "  PC            instrução   F   D     X   W  F.1  D.1  X.1  W \n",
            "0   0   loop: Ld F1,0(r1)   1   2   3-4   5    -    -    -   -\n",
            "1   4         Ld F3,4(r1)   2   3   4-5   6    -    -    -   -\n",
            "2   8       addf F1,F1,F2   3   4   5-7   8    -    -    -   -\n",
            "3  12      addf F3,F3,F2    4   5   6-8   9    -    -    -   -\n",
            "4  16         add r1,r1,8   5   6     7   8    -    -    -   -\n",
            "5  20        Sd F1,-8(r1)   6   7   8-9   -    -    -    -   -\n",
            "6  24        Sd F3,-4(r1)   7   8     9   -    -    -    -   -\n",
            "7  28      bne r1,r3,loop   -   -     -   -    -    -    -   -\n"
          ]
        },
        {
          "output_type": "display_data",
          "data": {
            "text/plain": [
              "<IPython.core.display.Markdown object>"
            ],
            "text/markdown": "## Unroll com escalonamento estático intercalando as duas iterações"
          },
          "metadata": {}
        },
        {
          "output_type": "display_data",
          "data": {
            "text/plain": [
              "<IPython.core.display.Markdown object>"
            ],
            "text/markdown": "## Unroll resolveu dependencia Ld, ADD, SD"
          },
          "metadata": {}
        },
        {
          "output_type": "display_data",
          "data": {
            "text/plain": [
              "<IPython.core.display.Markdown object>"
            ],
            "text/markdown": "## Escalonou o add r1 para melhorar SD"
          },
          "metadata": {}
        }
      ]
    },
    {
      "cell_type": "markdown",
      "source": [
        "### Ciclo 14 com 2 iterações completas"
      ],
      "metadata": {
        "id": "kWkDm8bIyf5s"
      }
    },
    {
      "cell_type": "code",
      "source": [
        "#@title codigo\n",
        "%%writefile exemplo3.csv\n",
        "PC ; instrução; F; D; X; W; F; D; X; W\n",
        "0; loop: Ld F1,0(r1); 1; 2; 3-4; 5; 10;11; 12-13; 14\n",
        "4; Ld F3,4(r1); 2; 3; 4-5; 6\n",
        "8; addf F1,F1,F2; 3; 4; 5-7; 8\n",
        "12; addf F3,F3,F2 ; 4; 5; 6-8; 9\n",
        "16; add r1,r1,8; 5; 6; 7; 8\n",
        "20; Sd F1,-8(r1); 6; 7; 8-9;\n",
        "24; Sd F3,-4(r1); 7; 8; 9-10\n",
        "28; bne r1,r3,loop; 8; 9;"
      ],
      "metadata": {
        "colab": {
          "base_uri": "https://localhost:8080/"
        },
        "outputId": "74f7f2ee-44a4-4b29-c094-d260010c6bed",
        "id": "N9j1eNKayf53"
      },
      "execution_count": null,
      "outputs": [
        {
          "output_type": "stream",
          "name": "stdout",
          "text": [
            "Overwriting exemplo3.csv\n"
          ]
        }
      ]
    },
    {
      "cell_type": "code",
      "source": [
        "#@title Imprime\n",
        "import pandas as pd\n",
        "\n",
        "# Lê o arquivo CSV e carrega em um dataframe\n",
        "df = pd.read_csv('exemplo3.csv', delimiter=';',dtype=\"str\")\n",
        "df = df.fillna(\"-\")\n",
        "\n",
        "# Imprime o dataframe\n",
        "print(df)\n",
        "from IPython.display import Markdown\n",
        "display(Markdown('## Unroll com escalonamento estático intercalando as duas iterações'))\n",
        "cpi = (14-5)/8\n",
        "display(Markdown('## Unroll 2 resolveu dependencia Ld, ADD, SD'))\n",
        "display(Markdown('## CPI = '+str(cpi)))"
      ],
      "metadata": {
        "colab": {
          "base_uri": "https://localhost:8080/",
          "height": 334
        },
        "outputId": "45ca5e88-f738-438b-df8c-35ff98f03fb8",
        "cellView": "form",
        "id": "nxz5Asoeyf53"
      },
      "execution_count": null,
      "outputs": [
        {
          "output_type": "stream",
          "name": "stdout",
          "text": [
            "  PC            instrução   F   D      X   W  F.1  D.1     X.1   W \n",
            "0   0   loop: Ld F1,0(r1)   1   2    3-4   5   10   11   12-13   14\n",
            "1   4         Ld F3,4(r1)   2   3    4-5   6    -    -       -    -\n",
            "2   8       addf F1,F1,F2   3   4    5-7   8    -    -       -    -\n",
            "3  12      addf F3,F3,F2    4   5    6-8   9    -    -       -    -\n",
            "4  16         add r1,r1,8   5   6      7   8    -    -       -    -\n",
            "5  20        Sd F1,-8(r1)   6   7    8-9        -    -       -    -\n",
            "6  24        Sd F3,-4(r1)   7   8   9-10   -    -    -       -    -\n",
            "7  28      bne r1,r3,loop   8   9      -   -    -    -       -    -\n"
          ]
        },
        {
          "output_type": "display_data",
          "data": {
            "text/plain": [
              "<IPython.core.display.Markdown object>"
            ],
            "text/markdown": "## Unroll com escalonamento estático intercalando as duas iterações"
          },
          "metadata": {}
        },
        {
          "output_type": "display_data",
          "data": {
            "text/plain": [
              "<IPython.core.display.Markdown object>"
            ],
            "text/markdown": "## Unroll 2 resolveu dependencia Ld, ADD, SD"
          },
          "metadata": {}
        },
        {
          "output_type": "display_data",
          "data": {
            "text/plain": [
              "<IPython.core.display.Markdown object>"
            ],
            "text/markdown": "## CPI = 1.125"
          },
          "metadata": {}
        }
      ]
    },
    {
      "cell_type": "code",
      "source": [
        "#@title Imagens botões << e >>>\n",
        "import ipywidgets as widgets\n",
        "from IPython.display import Image\n",
        "from IPython.display import clear_output\n",
        "import time\n",
        "\n",
        "first = 1\n",
        "last = 3\n",
        "filename = \"exemplo\"\n",
        "\n",
        "from IPython.display import Markdown\n",
        "marklist = []\n",
        "marklist.append(\"Unroll dependência no SD\")\n",
        "marklist.append(\"Escalonou o add r1\")\n",
        "marklist.append(\"Após execução de duas iterações, CPI= 1.25\")\n",
        "\n",
        "upbutton = widgets.Button(description='>>')\n",
        "downbutton = widgets.Button(description='<<')\n",
        "\n",
        "\n",
        "\n",
        "out = widgets.Output()\n",
        "count = first\n",
        "samp_text = filename + str(first) + \".csv\"\n",
        "\n",
        "\n",
        "def up_button_clicked(_, incr=1):\n",
        "  global count,samp_text\n",
        "  with out:\n",
        "    if (count < last and  incr == 1):\n",
        "      count += incr\n",
        "\n",
        "    if (count > first and incr == -1):\n",
        "      count += incr\n",
        "\n",
        "    clear_output(wait=True)\n",
        "    samp_text = filename + str(count) + \".csv\"\n",
        "    df = pd.read_csv(samp_text, delimiter=';',dtype=\"str\")\n",
        "    df = df.fillna(\"-\")\n",
        "    display(df)\n",
        "    display(Markdown('## '+marklist[count-1]))\n",
        "\n",
        "upbutton.on_click(up_button_clicked)\n",
        "\n",
        "def down_button_clicked(_):\n",
        "  return up_button_clicked(_, -1)\n",
        "\n",
        "downbutton.on_click(down_button_clicked)\n",
        "# displaying button and its output together\n",
        "buttons = widgets.HBox([downbutton,upbutton])\n",
        "#widgets.VBox([buttons,out,Image(samp_text)])\n",
        "\n",
        "myvbox = widgets.VBox([buttons,out],)\n",
        "\n",
        "display(myvbox)\n",
        "with out:\n",
        "  df = pd.read_csv(filename + str(first) + \".csv\", delimiter=';',dtype=\"str\")\n",
        "  df = df.fillna(\"-\")\n",
        "  display(df)\n",
        "  display(Markdown('## '+marklist[first-1]))\n",
        "\n"
      ],
      "metadata": {
        "colab": {
          "base_uri": "https://localhost:8080/",
          "height": 379,
          "referenced_widgets": [
            "f9bf927ce2c346cdb0ffc28e4a50ee1c",
            "74135af8b4514efc8ae47e86a5cedd08",
            "b9580d84d1f64e2bb18b25766eedab55",
            "d77d28b3eeeb48d7a4aadb9c0297af59",
            "5b1ce3a552794832a21ab136ebffab22",
            "8cf0008312d54f1685f626bffabb44e8",
            "b1ad20f4c78a48648ddf71204991567c",
            "0371d1f2c74548e89895d867b20024e0",
            "6b08dacb5b8a4609bf813852cdfbb273",
            "437fb06e06564b58945787bfa8af05ac",
            "92ab6dd7a117469ab6260b339d6a9461",
            "29021b3f33a74eb5bcb68cb59dbfb6ba"
          ]
        },
        "id": "tjMdCkRfzYcb",
        "outputId": "34c79df3-d831-4f1a-f1cf-c402ebd420ac"
      },
      "execution_count": null,
      "outputs": [
        {
          "output_type": "display_data",
          "data": {
            "text/plain": [
              "VBox(children=(HBox(children=(Button(description='<<', style=ButtonStyle()), Button(description='>>', style=Bu…"
            ],
            "application/vnd.jupyter.widget-view+json": {
              "version_major": 2,
              "version_minor": 0,
              "model_id": "f9bf927ce2c346cdb0ffc28e4a50ee1c"
            }
          },
          "metadata": {}
        }
      ]
    },
    {
      "cell_type": "markdown",
      "source": [
        "# Software Pipelining"
      ],
      "metadata": {
        "id": "2yYAVJ1KQiuy"
      }
    },
    {
      "cell_type": "markdown",
      "source": [
        "## Exemplo 1"
      ],
      "metadata": {
        "id": "i7eZ-w7G0lCa"
      }
    },
    {
      "cell_type": "markdown",
      "source": [
        "Trace da execução do código (rastreio)\n",
        "\n",
        "```\n",
        "f2 = 3.0\n",
        "loop: Ld F1,0(r1)\n",
        "addf F1,F1,F2\n",
        "Sd F1,0(r1)\n",
        "add r1,r1,4\n",
        "bne r1,r3,loop\n",
        "\n",
        "loop: Ld F1,0(r1)\n",
        "addf F1,F1,F2\n",
        "Sd F1,0(r1)\n",
        "add r1,r1,4\n",
        "bne r1,r3,loop\n",
        "\n",
        "loop: Ld F1,0(r1)\n",
        "addf F1,F1,F2\n",
        "Sd F1,0(r1)\n",
        "add r1,r1,4\n",
        "bne r1,r3,loop\n",
        "\n",
        "```\n"
      ],
      "metadata": {
        "id": "J_QelwyW0opR"
      }
    },
    {
      "cell_type": "markdown",
      "source": [
        "* Loop com 3 operações\n",
        "* $ld_i \\rightarrow add_i \\rightarrow sd_i$\n",
        "* como são três, vou retirar as duas primeiras operações da iteração 1.\n",
        "* Retirar a primeira operação da iteração 2.\n",
        "* funciona para uma cadeia linear de dependência dentro do código.\n",
        "* Novo Loop:\n",
        "  * começar SD da \"primeira\" iteração\n",
        "  * ADD da segunda\n",
        "  * Ld da terceira\n",
        "\n",
        "```\n",
        "f2 = 3.0\n",
        "Ld F1,0(r1) ; 1 iteracao\n",
        "addf F3,F1,F2 ; 1 iteracao\n",
        "Ld F1,4(r1) ; 2 iteracao\n",
        "\n",
        "loop:\n",
        "Sd F3,0(r1); 1 iteracao\n",
        "add F3,F1,F2;  2 iteracao\n",
        "ld F1,8(r1); 3 iteracao\n",
        "add r1,r1,4\n",
        "bne r1,r3,loop\n",
        "\n",
        "sd   ; da penultima iteracao\n",
        "add  ; ultima iteracao\n",
        "sd   ; ultima iteracao\n",
        "```\n",
        "\n",
        "[desenho no excalidraw](https://excalidraw.com/#json=9Q_yFVyxUTW0urNwUwhzz,QqrRUktCQGXYKiDUfNbKuQ)"
      ],
      "metadata": {
        "id": "4Om-gcYW1HFm"
      }
    },
    {
      "cell_type": "markdown",
      "source": [
        "### Ciclo 7"
      ],
      "metadata": {
        "id": "-nluTQzH47Ud"
      }
    },
    {
      "cell_type": "code",
      "source": [
        " #@title codigo\n",
        "%%writefile exemplo1.csv\n",
        "PC ; instrução; F; D; X; W; F; D; X; W\n",
        "20; loop: Sd F3,0(r1); 1; 2; 3-4;\n",
        "24; add F3,F1,F2;  2; 3; 4-6; 7;\n",
        "28; ld F1,8(r1); 3; 4; 5-6;\n",
        "32; add r1,r1,4\n",
        "36; bne r1,r3,loop\n"
      ],
      "metadata": {
        "colab": {
          "base_uri": "https://localhost:8080/"
        },
        "id": "IKF4C2Ie4b18",
        "outputId": "8c45aec1-f7fe-434d-f505-a638fc1dbe3f"
      },
      "execution_count": null,
      "outputs": [
        {
          "output_type": "stream",
          "name": "stdout",
          "text": [
            "Overwriting exemplo1.csv\n"
          ]
        }
      ]
    },
    {
      "cell_type": "code",
      "source": [
        " #@title codigo\n",
        "%%writefile exemplo2.csv\n",
        "PC ; instrução; F; D; X; W; F; D; X; W\n",
        "20; loop: Sd F3,0(r1); 1; 2; 3-4; - ; 6; 7; 8-9\n",
        "24; add F3,F1,F2;  2; 3; 4-6; 7; 8; 9-11; 12;\n",
        "28; add r1,r1,4; 3; 4; 5; 6; 8; 9; 10; 11\n",
        "32; ld F1,4(r1); 4; 5; 6-7; 8; 9; 10; 11-12; 13\n",
        "36; bne r1,r3,loop ; 5;\n"
      ],
      "metadata": {
        "colab": {
          "base_uri": "https://localhost:8080/"
        },
        "id": "S9oBCCNQ5Dp0",
        "outputId": "7920691c-2720-4707-a466-4798b4af549d"
      },
      "execution_count": null,
      "outputs": [
        {
          "output_type": "stream",
          "name": "stdout",
          "text": [
            "Overwriting exemplo2.csv\n"
          ]
        }
      ]
    },
    {
      "cell_type": "code",
      "source": [
        "#@title Imagens botões << e >>>\n",
        "import ipywidgets as widgets\n",
        "from IPython.display import Image\n",
        "from IPython.display import clear_output\n",
        "import time\n",
        "\n",
        "first = 1\n",
        "last = 2\n",
        "filename = \"exemplo\"\n",
        "\n",
        "from IPython.display import Markdown\n",
        "marklist = []\n",
        "marklist.append(\"Unroll dependência no SD\")\n",
        "marklist.append(\"Escalonou o add r1\")\n",
        "marklist.append(\"Após execução de duas iterações, CPI= 1.25\")\n",
        "\n",
        "upbutton = widgets.Button(description='>>')\n",
        "downbutton = widgets.Button(description='<<')\n",
        "\n",
        "\n",
        "\n",
        "out = widgets.Output()\n",
        "count = first\n",
        "samp_text = filename + str(first) + \".csv\"\n",
        "\n",
        "\n",
        "def up_button_clicked(_, incr=1):\n",
        "  global count,samp_text\n",
        "  with out:\n",
        "    if (count < last and  incr == 1):\n",
        "      count += incr\n",
        "\n",
        "    if (count > first and incr == -1):\n",
        "      count += incr\n",
        "\n",
        "    clear_output(wait=True)\n",
        "    samp_text = filename + str(count) + \".csv\"\n",
        "    df = pd.read_csv(samp_text, delimiter=';',dtype=\"str\")\n",
        "    df = df.fillna(\"-\")\n",
        "    display(df)\n",
        "    display(Markdown('## '+marklist[count-1]))\n",
        "\n",
        "upbutton.on_click(up_button_clicked)\n",
        "\n",
        "def down_button_clicked(_):\n",
        "  return up_button_clicked(_, -1)\n",
        "\n",
        "downbutton.on_click(down_button_clicked)\n",
        "# displaying button and its output together\n",
        "buttons = widgets.HBox([downbutton,upbutton])\n",
        "#widgets.VBox([buttons,out,Image(samp_text)])\n",
        "\n",
        "myvbox = widgets.VBox([buttons,out],)\n",
        "\n",
        "display(myvbox)\n",
        "with out:\n",
        "  df = pd.read_csv(filename + str(first) + \".csv\", delimiter=';',dtype=\"str\")\n",
        "  df = df.fillna(\"-\")\n",
        "  display(df)\n",
        "  display(Markdown('## '+marklist[first-1]))\n",
        "\n"
      ],
      "metadata": {
        "id": "_h8knP0054Ur"
      },
      "execution_count": null,
      "outputs": []
    },
    {
      "cell_type": "markdown",
      "source": [
        "## Outros Colabs\n",
        "\n",
        "\n",
        "\n",
        "[Colab da Primeira aula de software pipeline](https://colab.research.google.com/drive/1oeHtya06AMZBuPofLHvckZfkf8Q1DMX1?usp=sharing)\n",
        "\n",
        "[Trabalho 2](https://colab.research.google.com/drive/1AxCoNSCoCkKlF_ZgufGuD0HBy7FAR9Ye?usp=sharing)\n",
        "\n"
      ],
      "metadata": {
        "id": "X4-Gd9bRG_0N"
      }
    },
    {
      "cell_type": "markdown",
      "source": [
        "## Exemplo 2\n",
        "\n",
        "```\n",
        "LOOP:ld F1,0(r1)\n",
        "add F3,F1,F2\n",
        "mult F1,F3,F1\n",
        "sd F1,0(r1)\n",
        "add r1,r1,8\n",
        "bne r1,r2,LOOP\n",
        "```"
      ],
      "metadata": {
        "id": "tH3t2-OSEUYi"
      }
    },
    {
      "cell_type": "code",
      "source": [
        "from graphviz import Digraph\n",
        "fsm = Digraph()\n",
        "fsm.node('1','Ld F1')\n",
        "fsm.node('2','add f3,f1,f2')\n",
        "fsm.node('3','mul f1,f3,f1')\n",
        "fsm.node('4','sd f1')\n",
        "fsm.edge('1','2','f1')\n",
        "fsm.edge('2','3','f3')\n",
        "fsm.edge('3','4','f1')\n",
        "\n",
        "fsm"
      ],
      "metadata": {
        "colab": {
          "base_uri": "https://localhost:8080/",
          "height": 428
        },
        "id": "BTWBOH3vGftE",
        "outputId": "89782be9-b2c4-46d9-e9ba-ea1426b6e036"
      },
      "execution_count": null,
      "outputs": [
        {
          "output_type": "execute_result",
          "data": {
            "image/svg+xml": "<?xml version=\"1.0\" encoding=\"UTF-8\" standalone=\"no\"?>\n<!DOCTYPE svg PUBLIC \"-//W3C//DTD SVG 1.1//EN\"\n \"http://www.w3.org/Graphics/SVG/1.1/DTD/svg11.dtd\">\n<!-- Generated by graphviz version 2.43.0 (0)\n -->\n<!-- Title: %3 Pages: 1 -->\n<svg width=\"116pt\" height=\"305pt\"\n viewBox=\"0.00 0.00 115.89 305.00\" xmlns=\"http://www.w3.org/2000/svg\" xmlns:xlink=\"http://www.w3.org/1999/xlink\">\n<g id=\"graph0\" class=\"graph\" transform=\"scale(1 1) rotate(0) translate(4 301)\">\n<title>%3</title>\n<polygon fill=\"white\" stroke=\"transparent\" points=\"-4,4 -4,-301 111.89,-301 111.89,4 -4,4\"/>\n<!-- 1 -->\n<g id=\"node1\" class=\"node\">\n<title>1</title>\n<ellipse fill=\"none\" stroke=\"black\" cx=\"53.95\" cy=\"-279\" rx=\"32.49\" ry=\"18\"/>\n<text text-anchor=\"middle\" x=\"53.95\" y=\"-275.3\" font-family=\"Times,serif\" font-size=\"14.00\">Ld F1</text>\n</g>\n<!-- 2 -->\n<g id=\"node2\" class=\"node\">\n<title>2</title>\n<ellipse fill=\"none\" stroke=\"black\" cx=\"53.95\" cy=\"-192\" rx=\"52.79\" ry=\"18\"/>\n<text text-anchor=\"middle\" x=\"53.95\" y=\"-188.3\" font-family=\"Times,serif\" font-size=\"14.00\">add f3,f1,f2</text>\n</g>\n<!-- 1&#45;&gt;2 -->\n<g id=\"edge1\" class=\"edge\">\n<title>1&#45;&gt;2</title>\n<path fill=\"none\" stroke=\"black\" d=\"M53.95,-260.8C53.95,-249.16 53.95,-233.55 53.95,-220.24\"/>\n<polygon fill=\"black\" stroke=\"black\" points=\"57.45,-220.18 53.95,-210.18 50.45,-220.18 57.45,-220.18\"/>\n<text text-anchor=\"middle\" x=\"59.95\" y=\"-231.8\" font-family=\"Times,serif\" font-size=\"14.00\">f1</text>\n</g>\n<!-- 3 -->\n<g id=\"node3\" class=\"node\">\n<title>3</title>\n<ellipse fill=\"none\" stroke=\"black\" cx=\"53.95\" cy=\"-105\" rx=\"53.89\" ry=\"18\"/>\n<text text-anchor=\"middle\" x=\"53.95\" y=\"-101.3\" font-family=\"Times,serif\" font-size=\"14.00\">mul f1,f3,f1</text>\n</g>\n<!-- 2&#45;&gt;3 -->\n<g id=\"edge2\" class=\"edge\">\n<title>2&#45;&gt;3</title>\n<path fill=\"none\" stroke=\"black\" d=\"M53.95,-173.8C53.95,-162.16 53.95,-146.55 53.95,-133.24\"/>\n<polygon fill=\"black\" stroke=\"black\" points=\"57.45,-133.18 53.95,-123.18 50.45,-133.18 57.45,-133.18\"/>\n<text text-anchor=\"middle\" x=\"59.95\" y=\"-144.8\" font-family=\"Times,serif\" font-size=\"14.00\">f3</text>\n</g>\n<!-- 4 -->\n<g id=\"node4\" class=\"node\">\n<title>4</title>\n<ellipse fill=\"none\" stroke=\"black\" cx=\"53.95\" cy=\"-18\" rx=\"28.7\" ry=\"18\"/>\n<text text-anchor=\"middle\" x=\"53.95\" y=\"-14.3\" font-family=\"Times,serif\" font-size=\"14.00\">sd f1</text>\n</g>\n<!-- 3&#45;&gt;4 -->\n<g id=\"edge3\" class=\"edge\">\n<title>3&#45;&gt;4</title>\n<path fill=\"none\" stroke=\"black\" d=\"M53.95,-86.8C53.95,-75.16 53.95,-59.55 53.95,-46.24\"/>\n<polygon fill=\"black\" stroke=\"black\" points=\"57.45,-46.18 53.95,-36.18 50.45,-46.18 57.45,-46.18\"/>\n<text text-anchor=\"middle\" x=\"59.95\" y=\"-57.8\" font-family=\"Times,serif\" font-size=\"14.00\">f1</text>\n</g>\n</g>\n</svg>\n",
            "text/plain": [
              "<graphviz.graphs.Digraph at 0x7f23c0493af0>"
            ]
          },
          "metadata": {},
          "execution_count": 2
        }
      ]
    },
    {
      "cell_type": "markdown",
      "source": [
        "## Exemplo 3\n",
        "\n",
        "```\n",
        "LOOP: ld F1,0(r1)\n",
        "add F1,F1,F2\n",
        "sd F1,0(r1)\n",
        "ld F1,4(r1)\n",
        "mul F1,F1,F2\n",
        "sd F1,0(r1)\n",
        "add r1,r1,8\n",
        "bne r1,r2,LOOP\n",
        "```"
      ],
      "metadata": {
        "id": "F9d5gd3OEjiU"
      }
    },
    {
      "cell_type": "markdown",
      "source": [
        "## Exemplo 4\n",
        "\n",
        "```\n",
        "LOOP: ld F1,0(r1)\n",
        "add F1,F1,F2\n",
        "mul F1,F1,F2\n",
        "sd F1,0(r1)\n",
        "ld F1,4(r1)\n",
        "mul F1,F1,F2\n",
        "sd F1,0(r1)\n",
        "add r1,r1,8\n",
        "bne r1,r2,LOOP\n",
        "```"
      ],
      "metadata": {
        "id": "nKx1MLx2FlR6"
      }
    },
    {
      "cell_type": "markdown",
      "source": [
        "## Exemplo 5\n",
        "\n",
        "```\n",
        "LOOP: ld F1,0(r1)\n",
        "add F3,F1,F2\n",
        "mul F1,F1,F3\n",
        "sd F1,0(r1)\n",
        "ld F1,4(r1)\n",
        "mul F1,F1,F3\n",
        "sd F1,0(r1)\n",
        "add r1,r1,8\n",
        "bne r1,r2,LOOP\n",
        "```"
      ],
      "metadata": {
        "id": "-oV33E8YF3ua"
      }
    },
    {
      "cell_type": "markdown",
      "source": [
        "# Escalonamento Dinâmico"
      ],
      "metadata": {
        "id": "1OPOQQqCQ6kj"
      }
    },
    {
      "cell_type": "markdown",
      "source": [
        "## **Questao 2 Prova 2023**\n",
        "\n",
        "2 estacoes de reserva para: Ld, add, Mult"
      ],
      "metadata": {
        "id": "8jCE2gKLTLnW"
      }
    },
    {
      "cell_type": "code",
      "source": [
        "%%writefile exemplo1.csv\n",
        "instrucao; F; D; E; W; F; D; E; W;\n",
        "loop LD F1,0(r1); 1; 2; 3-4; 5 L0;\n",
        "Add F2,F1,F3; 2; 3; 4,5-7;8 A0;\n",
        "SD F2,0(r1); 3; 4;5,8-9; L0;\n",
        "LD F4,4(r1); 4; 5; 6-7,8; 9 L1;\n",
        "Mul F5,F4,F4; 5; 6;7,9\n",
        "Add F6,F5,F4; 6; 7;8,\n",
        "Sd F6,4(r1); 7;\n",
        "add r1,r1,8;\n",
        "bne r1,r2, loop;\n"
      ],
      "metadata": {
        "colab": {
          "base_uri": "https://localhost:8080/"
        },
        "id": "FZs1CWe3TQs-",
        "outputId": "e5e265c2-9441-4caa-8444-d37a7bdba318"
      },
      "execution_count": null,
      "outputs": [
        {
          "output_type": "stream",
          "name": "stdout",
          "text": [
            "Overwriting exemplo1.csv\n"
          ]
        }
      ]
    },
    {
      "cell_type": "code",
      "source": [
        "%%writefile exemplo2.csv\n",
        "instrucao; F; D; E; W; F; D; E; W;\n",
        "loop LD F1,0(r1); 1; 2; 3-4; 5 L0;\n",
        "Add F2,F1,F3; 2; 3; 4,5-7;8 A0;\n",
        "SD F2,0(r1); 3; 4;5,8-9; L0;\n",
        "LD F4,4(r1); 4; 5; 6-7,8; 9 L1;\n",
        "Mul F5,F4,F4; 5; 6;7,9-13;14 M0;\n",
        "Add F6,F5,F4; 6; 7;8,14-16;17 A0;\n",
        "Sd F6,4(r1); 7; 8; 9,17-18; L1\n",
        "add r1,r1,8; 8;\n",
        "bne r1,r2, loop;\n"
      ],
      "metadata": {
        "colab": {
          "base_uri": "https://localhost:8080/"
        },
        "outputId": "7d470b0e-99eb-464c-9492-640136adac8d",
        "id": "FK4JK8usbNP4"
      },
      "execution_count": null,
      "outputs": [
        {
          "output_type": "stream",
          "name": "stdout",
          "text": [
            "Overwriting exemplo2.csv\n"
          ]
        }
      ]
    },
    {
      "cell_type": "code",
      "source": [
        "%%writefile exemplo3.csv\n",
        "instrucao; F; D; E; W; F; D; E; W;\n",
        "loop LD F1,0(r1); 1; 2; 3-4; 5 L0; 10; 11; 12-13,14; 15 L0\n",
        "Add F2,F1,F3; 2; 3; 4,5-7;8 A0;\n",
        "SD F2,0(r1); 3; 4;5,8-9; L0;\n",
        "LD F4,4(r1); 4; 5; 6-7,8; 9 L1;\n",
        "Mul F5,F4,F4; 5; 6;7,9-13;14 M0;\n",
        "Add F6,F5,F4; 6; 7;8,14-16;17 A0;\n",
        "Sd F6,4(r1); 7; 8; 9,17-18; L1\n",
        "add r1,r1,8; 8; 9;10;11;\n",
        "bne r1,r2, loop; 9;\n"
      ],
      "metadata": {
        "colab": {
          "base_uri": "https://localhost:8080/"
        },
        "outputId": "afc90d80-b02d-4746-9f31-a1d9126e6470",
        "id": "B9PRL1F_b20k"
      },
      "execution_count": null,
      "outputs": [
        {
          "output_type": "stream",
          "name": "stdout",
          "text": [
            "Overwriting exemplo3.csv\n"
          ]
        }
      ]
    },
    {
      "cell_type": "code",
      "source": [
        "%%writefile exemplo4.csv\n",
        "instrucao; F; D; E; W; F; D; E; W;\n",
        "loop LD F1,0(r1); 1; 2; 3-4; 5 L0; 10; 11; 12-13,14; 15 L0\n",
        "Add F2,F1,F3; 2; 3; 4,5-7;8 A0; 11; 12; 13,15-17; 18 A1\n",
        "SD F2,0(r1); 3; 4;5,8-9; L0; 12; 13-14; 15,18-19; L0;\n",
        "LD F4,4(r1); 4; 5; 6-7,8; 9 L1; 13-14;\n",
        "Mul F5,F4,F4; 5; 6;7,9-13;14 M0;\n",
        "Add F6,F5,F4; 6; 7;8,14-16;17 A0;\n",
        "Sd F6,4(r1); 7; 8; 17-18; L1\n",
        "add r1,r1,8; 8; 9;10;11;\n",
        "bne r1,r2, loop; 9;\n"
      ],
      "metadata": {
        "colab": {
          "base_uri": "https://localhost:8080/"
        },
        "outputId": "0d17bd9f-d403-4bc3-9ec9-8fa7fe792321",
        "id": "e1uG7M4gcFtk"
      },
      "execution_count": null,
      "outputs": [
        {
          "output_type": "stream",
          "name": "stdout",
          "text": [
            "Overwriting exemplo4.csv\n"
          ]
        }
      ]
    },
    {
      "cell_type": "code",
      "source": [
        "%%writefile exemplo5.csv\n",
        "instrucao; F; D; E; W; F; D; E; W;\n",
        "loop LD F1,0(r1); 1; 2; 3-4; 5 L0; 10; 11; 12-13,14; 15 L0\n",
        "Add F2,F1,F3; 2; 3; 4,5-7;8 A0; 11; 12; 13,15-17; 18 A1\n",
        "SD F2,0(r1); 3; 4;5,8-9; L0; 12; 13-14; 15,18-19; L0\n",
        "LD F4,4(r1); 4; 5; 6-7,8; 9 L1; 13-14; 15-18; 19-20; 21 L1\n",
        "Mul F5,F4,F4; 5; 6;7,9-13;14 M0; 15-18; 19; 20,21-25; 26 M0\n",
        "Add F6,F5,F4; 6; 7;8,14-16;17 A0; 19;\n",
        "Sd F6,4(r1); 7; 8; 17-18; L1\n",
        "add r1,r1,8; 8; 9;10;11;\n",
        "bne r1,r2, loop; 9;\n"
      ],
      "metadata": {
        "colab": {
          "base_uri": "https://localhost:8080/"
        },
        "outputId": "aeb9f4b1-2761-48a9-ba46-770a9296260d",
        "id": "kah3flDtcmGw"
      },
      "execution_count": null,
      "outputs": [
        {
          "output_type": "stream",
          "name": "stdout",
          "text": [
            "Overwriting exemplo5.csv\n"
          ]
        }
      ]
    },
    {
      "cell_type": "code",
      "source": [
        "%%writefile exemplo6.csv\n",
        "instrucao; F; D; E; W; F; D; E; W;\n",
        "loop LD F1,0(r1); 1; 2; 3-4; 5 L0; 10; 11; 12-13,14; 15 L0\n",
        "Add F2,F1,F3; 2; 3; 4,5-7;8 A0; 11; 12; 13,15-17; 18 A1\n",
        "SD F2,0(r1); 3; 4;5,8-9; L0; 12; 13-14; 15,18-19; L0\n",
        "LD F4,4(r1); 4; 5; 6-7,8; 9 L1; 13-14; 15-18; 19-20; 21 L1\n",
        "Mul F5,F4,F4; 5; 6;7,9-13;14 M0; 15-18; 19; 20,21-25; 26 M0\n",
        "Add F6,F5,F4; 6; 7;8,14-16;17 A0; 19; 20; 21,26-28; 29 A0\n",
        "Sd F6,4(r1); 7; 8; 17-18; L1; 20; 21; 22,29-30; L0\n",
        "add r1,r1,8; 8; 9;10;11; 21; 22; 23; 24\n",
        "bne r1,r2, loop; 9; ; ; ; 22;\n",
        "\n"
      ],
      "metadata": {
        "colab": {
          "base_uri": "https://localhost:8080/"
        },
        "outputId": "b0b2a899-b21d-4cd8-a043-d2b17716f753",
        "id": "ZG7bBrpUcsrG"
      },
      "execution_count": null,
      "outputs": [
        {
          "output_type": "stream",
          "name": "stdout",
          "text": [
            "Overwriting exemplo6.csv\n"
          ]
        }
      ]
    },
    {
      "cell_type": "code",
      "source": [
        "#@title Imagens botões << e >>>\n",
        "import pandas as pd\n",
        "import ipywidgets as widgets\n",
        "from IPython.display import Image\n",
        "from IPython.display import clear_output\n",
        "import time\n",
        "\n",
        "first = 1\n",
        "last = 6\n",
        "filename = \"exemplo\"\n",
        "\n",
        "from IPython.display import Markdown\n",
        "marklist = []\n",
        "marklist.append(\"conflito em W no ciclo 8, LD e ADD, atrasa LD para ciclo 9\")\n",
        "marklist.append(\"bloqueia no decode pois não tem unidade livre no ciclo 8\")\n",
        "marklist.append(\"Desvio especulativo comeca no ciclo 11 a iteracao 2\")\n",
        "marklist.append(\"ciclo 15, verificar se tem estacao de LOAD livre\")\n",
        "marklist.append(\"Esperar até ciclo 18 para liberar estacao de LOAD\")\n",
        "marklist.append(\"12 ciclos / 9 instrucoes = 1,33\")\n",
        "\n",
        "upbutton = widgets.Button(description='>>')\n",
        "downbutton = widgets.Button(description='<<')\n",
        "\n",
        "\n",
        "\n",
        "out = widgets.Output()\n",
        "count = first\n",
        "samp_text = filename + str(first) + \".csv\"\n",
        "\n",
        "\n",
        "def up_button_clicked(_, incr=1):\n",
        "  global count,samp_text\n",
        "  with out:\n",
        "    if (count < last and  incr == 1):\n",
        "      count += incr\n",
        "\n",
        "    if (count > first and incr == -1):\n",
        "      count += incr\n",
        "\n",
        "    clear_output(wait=True)\n",
        "    samp_text = filename + str(count) + \".csv\"\n",
        "    df = pd.read_csv(samp_text, delimiter=';',dtype=\"str\")\n",
        "    df = df.fillna(\"-\")\n",
        "    display(df)\n",
        "    display(Markdown('## '+marklist[count-1]))\n",
        "\n",
        "upbutton.on_click(up_button_clicked)\n",
        "\n",
        "def down_button_clicked(_):\n",
        "  return up_button_clicked(_, -1)\n",
        "\n",
        "downbutton.on_click(down_button_clicked)\n",
        "# displaying button and its output together\n",
        "buttons = widgets.HBox([downbutton,upbutton])\n",
        "#widgets.VBox([buttons,out,Image(samp_text)])\n",
        "\n",
        "myvbox = widgets.VBox([buttons,out],)\n",
        "\n",
        "display(myvbox)\n",
        "with out:\n",
        "  df = pd.read_csv(filename + str(first) + \".csv\", delimiter=';',dtype=\"str\")\n",
        "  df = df.fillna(\"-\")\n",
        "  display(df)\n",
        "  display(Markdown('## '+marklist[first-1]))\n",
        "\n"
      ],
      "metadata": {
        "colab": {
          "base_uri": "https://localhost:8080/",
          "height": 411,
          "referenced_widgets": [
            "b5700923da3947ed9bfb7cad5cd17612",
            "738dfcd135614f98b75e2a8e800c4a7f",
            "525b44076c844f44b0bf5049fa11c780",
            "fa36377aff7a4663aa93406d15662ef7",
            "b2f98de5eb67456aa4a597241e7cd54b",
            "2a56f058de1d4fc1821db867618d94f5",
            "1ef96ddb71a648778d0bd1be70e55329",
            "9d09dd91075d4d3b8b6191da01934c80",
            "7c447808d3c44ea98051df6ab5e82cae",
            "2d07fb384e7a4c4fb8d98b4bea00f0ef",
            "fcd63c7debc7452f8c7ba3ab447ef709",
            "7609f7ba23c54af499010bbc9066d31f"
          ]
        },
        "outputId": "619e2c5c-cb79-489f-8bb1-94a6580152c3",
        "cellView": "form",
        "id": "DBfKWYuMUtvd"
      },
      "execution_count": null,
      "outputs": [
        {
          "output_type": "display_data",
          "data": {
            "text/plain": [
              "VBox(children=(HBox(children=(Button(description='<<', style=ButtonStyle()), Button(description='>>', style=Bu…"
            ],
            "application/vnd.jupyter.widget-view+json": {
              "version_major": 2,
              "version_minor": 0,
              "model_id": "b5700923da3947ed9bfb7cad5cd17612"
            }
          },
          "metadata": {}
        }
      ]
    },
    {
      "cell_type": "markdown",
      "source": [
        "## Exemplo 1\n",
        "```\n",
        "Loop: LD F1,0(R1)\n",
        "ADD F1,F1,F2\n",
        "LD F2,8(R1)\n",
        "MUL F3,F2,F1\n",
        "MUL F4,F3,F5\n",
        "Sub R1,r1,32\n",
        "BNEZ R1,LOOP\n",
        "```\n",
        "\n",
        "Com encaminhamento (forward) Escalonamento dinâmico\n",
        "- Suponha para ponto flutuante, 2 unidades de ADD em 4 ciclos, 2 unidade de MUL em 6 ciclos, 4 unidades de LD e SD em 2\n",
        "ciclos, Inteiros em 1 ciclo e execução especulativa. Complete duas interações do LOOP abaixo"
      ],
      "metadata": {
        "id": "-ZZ1Dbo23-Z9"
      }
    },
    {
      "cell_type": "code",
      "source": [
        "#@title duas primeiras instrucoes\n",
        "%%writefile exemplo1.csv\n",
        "instruçao; F; I; X; W; F; I; X; W; Comentario\n",
        "LD F1,0(R1); 1; 2; 3-4; 5 (L1)*;\n",
        "ADD F1,F1,F2; 2; 3; 4,5-8; 9 (A1)+;\n",
        "LD F2,8(R1);\n",
        "MUL F3,F2,F1\n",
        "MUL F4,F3,F5\n",
        "Sub R1,r1,32\n",
        "BNEZ R1,LOOP"
      ],
      "metadata": {
        "colab": {
          "base_uri": "https://localhost:8080/"
        },
        "id": "HtMxd1Hu4Z3M",
        "outputId": "f42eced8-ead9-48e6-f297-0414077c2ac5"
      },
      "execution_count": null,
      "outputs": [
        {
          "output_type": "stream",
          "name": "stdout",
          "text": [
            "Writing exemplo1.csv\n"
          ]
        }
      ]
    },
    {
      "cell_type": "code",
      "source": [
        "#@title ciclo 9\n",
        "%%writefile exemplo2.csv\n",
        "instruçao; F; I; X; W; F; I; X; W; Comentario\n",
        "LD F1,0(R1); 1; 2; 3-4; 5 (L1)*; 8; 9;\n",
        "ADD F1,F1,F2; 2; 3; 4,5-8; 9 (A1)+; 9;\n",
        "LD F2,8(R1); 3; 4; 5-6; 7 (L2);\n",
        "MUL F3,F2,F1; 4; 5; 6,9..; (M1);\n",
        "MUL F4,F3,F5; 5; 6; 7,...; (M2);\n",
        "Sub R1,r1,32; 6; 7; 8; 9;\n",
        "BNEZ R1,LOOP; 7;"
      ],
      "metadata": {
        "colab": {
          "base_uri": "https://localhost:8080/"
        },
        "outputId": "9671ba9e-3679-4301-a4b2-eb4f5a3a1523",
        "id": "DhQ30coe8Xqs"
      },
      "execution_count": null,
      "outputs": [
        {
          "output_type": "stream",
          "name": "stdout",
          "text": [
            "Writing exemplo2.csv\n"
          ]
        }
      ]
    },
    {
      "cell_type": "code",
      "source": [
        "#@title ciclo 26\n",
        "%%writefile exemplo3.csv\n",
        "instruçao; F; I; X; W; F; I; X; W; F; I; X; W;\n",
        "LD F1,0(R1); 1; 2; 3-4; 5 (L1); 8; 9; 10-11; 12 (L1) ; 22; 23;24-25;26(L1)\n",
        "ADD F1,F1,F2; 2; 3; 4,5-8; 9 (A1); 9; 10;11,12-15; 16 (A1)\n",
        "LD F2,8(R1); 3; 4; 5-6; 7 (L1); 10; 11; 12-13; 14 (L1)\n",
        "MUL F3,F2,F1; 4; 5; 6,9-14; 15 (M1); 12; 13-14**; 15,16-21;22(M1)\n",
        "MUL F4,F3,F5; 5; 6; 7,15-20; 21 (M2); 13-14; 15-20; 21,22-27;28 (M2)\n",
        "Sub R1,r1,32; 6; 7; 8; 9; 15-20; 21; 22; 23;\n",
        "BNEZ R1,LOOP; 7;  ;  ;  ; 21;"
      ],
      "metadata": {
        "colab": {
          "base_uri": "https://localhost:8080/"
        },
        "id": "1Pv20cKqo8S4",
        "outputId": "e648e247-d574-4506-928d-0d0696f5de2f"
      },
      "execution_count": null,
      "outputs": [
        {
          "output_type": "stream",
          "name": "stdout",
          "text": [
            "Overwriting exemplo3.csv\n"
          ]
        }
      ]
    },
    {
      "cell_type": "code",
      "source": [
        "#@title Imagens botões << e >>>\n",
        "import pandas as pd\n",
        "import ipywidgets as widgets\n",
        "from IPython.display import Image\n",
        "from IPython.display import clear_output\n",
        "import time\n",
        "\n",
        "first = 1\n",
        "last = 3\n",
        "filename = \"exemplo\"\n",
        "\n",
        "from IPython.display import Markdown\n",
        "marklist = []\n",
        "marklist.append(\"Add é emitido no ciclo 4 e começa a executar no 5 \\n * LD na estacao L1 \\n + ADD na estacao A1\")\n",
        "marklist.append(\"Começou a execução 2 iteracao \\n * Estacao M1 Valor L2 Aguarda A1 \\n * Estacao M2 valor F5 Aguarda M1\")\n",
        "marklist.append(\"Faltou estacao Mult, travou no Issue, CPI= 2\")\n",
        "\n",
        "upbutton = widgets.Button(description='>>')\n",
        "downbutton = widgets.Button(description='<<')\n",
        "\n",
        "\n",
        "\n",
        "out = widgets.Output()\n",
        "count = first\n",
        "samp_text = filename + str(first) + \".csv\"\n",
        "\n",
        "\n",
        "def up_button_clicked(_, incr=1):\n",
        "  global count,samp_text\n",
        "  with out:\n",
        "    if (count < last and  incr == 1):\n",
        "      count += incr\n",
        "\n",
        "    if (count > first and incr == -1):\n",
        "      count += incr\n",
        "\n",
        "    clear_output(wait=True)\n",
        "    samp_text = filename + str(count) + \".csv\"\n",
        "    df = pd.read_csv(samp_text, delimiter=';',dtype=\"str\")\n",
        "    df = df.fillna(\"-\")\n",
        "    display(df)\n",
        "    display(Markdown('## '+marklist[count-1]))\n",
        "\n",
        "upbutton.on_click(up_button_clicked)\n",
        "\n",
        "def down_button_clicked(_):\n",
        "  return up_button_clicked(_, -1)\n",
        "\n",
        "downbutton.on_click(down_button_clicked)\n",
        "# displaying button and its output together\n",
        "buttons = widgets.HBox([downbutton,upbutton])\n",
        "#widgets.VBox([buttons,out,Image(samp_text)])\n",
        "\n",
        "myvbox = widgets.VBox([buttons,out],)\n",
        "\n",
        "display(myvbox)\n",
        "with out:\n",
        "  df = pd.read_csv(filename + str(first) + \".csv\", delimiter=';',dtype=\"str\")\n",
        "  df = df.fillna(\"-\")\n",
        "  display(df)\n",
        "  display(Markdown('## '+marklist[first-1]))\n",
        "\n"
      ],
      "metadata": {
        "colab": {
          "base_uri": "https://localhost:8080/",
          "height": 391,
          "referenced_widgets": [
            "948de04718f946ed866072afefaa8d8e",
            "95341ddc9eef4bfcb332becaa5a09be6",
            "0f45f45491944f70b3d722f16ea82156",
            "e4a0c6d599fe4afba2027e0b50da6bf3",
            "71b158d6ff814625891d44cd35b54819",
            "2652af2709e74a988a2ab918abceb3d0",
            "73da80f322674939b43f803ec45c0592",
            "26a200860e164e31be1614fc096c5b07",
            "4bedf41c51b94261ab8816e2f850bd02",
            "1dd185c8d6c54af19bc96763760a3687",
            "a544552335654d38baec83a7124e36a3",
            "f3d7f510bc4948b9bfe774931caf7929"
          ]
        },
        "cellView": "form",
        "id": "C_FvzMdu40zk",
        "outputId": "683eef4c-62b4-4ebf-854b-ea527550cf93"
      },
      "execution_count": null,
      "outputs": [
        {
          "output_type": "display_data",
          "data": {
            "text/plain": [
              "VBox(children=(HBox(children=(Button(description='<<', style=ButtonStyle()), Button(description='>>', style=Bu…"
            ],
            "application/vnd.jupyter.widget-view+json": {
              "version_major": 2,
              "version_minor": 0,
              "model_id": "948de04718f946ed866072afefaa8d8e"
            }
          },
          "metadata": {}
        }
      ]
    },
    {
      "cell_type": "code",
      "source": [],
      "metadata": {
        "id": "ZjvYRSkv40GD"
      },
      "execution_count": null,
      "outputs": []
    },
    {
      "cell_type": "markdown",
      "source": [
        "# Superscalar"
      ],
      "metadata": {
        "id": "VvjKn9fCQ9By"
      }
    },
    {
      "cell_type": "markdown",
      "source": [
        "## Exemplo Escalonamento Dinamico e Superscalar 2 em 2\n",
        "\n",
        "* add 2 unidades, 3 ciclos\n",
        "* mul 2 unidades, 5 ciclos\n",
        "* ld 3 unidades, 2 ciclos"
      ],
      "metadata": {
        "id": "YyRYD9rYsqHG"
      }
    },
    {
      "cell_type": "code",
      "source": [
        "%%writefile exemplo1.csv\n",
        "inst; F; I; X; W; F; I; X; W;\n",
        "Loop: LD F1,0(R1); 1; 2\n",
        "LD F2,8(R1); 1; 2;\n",
        "Sub R1,r1,32; 2;\n",
        "MUL F3,F2,F2 ;2;\n",
        "ADD F1,F1,F2\n",
        "SD F1,16(R1)\n",
        "MUL F4,F3,F4\n",
        "BNEZ R1, LOOP"
      ],
      "metadata": {
        "colab": {
          "base_uri": "https://localhost:8080/"
        },
        "id": "jLYm4cjdsZWz",
        "outputId": "7799d8bb-9817-4e99-874a-c063f60ccfa5"
      },
      "execution_count": null,
      "outputs": [
        {
          "output_type": "stream",
          "name": "stdout",
          "text": [
            "Overwriting exemplo1.csv\n"
          ]
        }
      ]
    },
    {
      "cell_type": "code",
      "source": [
        "%%writefile exemplo2.csv\n",
        "inst; F; I; X; W; F; I; X; W;\n",
        "Loop: LD F1,0(R1); 1; 2; 3-4;5 (L1); 5; 6; 7-8,9; 10 (L2)\n",
        "LD F2,8(R1); 1; 2; 3-45;6 (L2); 5; 6; 7-9,11; 12 (L3)\n",
        "Sub R1,r1,32; 2; 3;4;5 (int); 6;\n",
        "MUL F3,F2,F2 ;2;3;4-6-10;11 (M1); 6;\n",
        "ADD F1,F1,F2;3;4; 56-8; 9 (A1)\n",
        "SD F1,16(R1);3;4;5,9-10; - (L1)\n",
        "MUL F4,F3,F4; 4; 5;6,11-15; 16 (M2);\n",
        "BNEZ R1, LOOP; 4; ;      ; ;"
      ],
      "metadata": {
        "colab": {
          "base_uri": "https://localhost:8080/"
        },
        "outputId": "967ff5ed-dc09-4d01-89dd-79ac85e978b5",
        "id": "b_Jj3mortgKk"
      },
      "execution_count": null,
      "outputs": [
        {
          "output_type": "stream",
          "name": "stdout",
          "text": [
            "Overwriting exemplo2.csv\n"
          ]
        }
      ]
    },
    {
      "cell_type": "code",
      "source": [
        "%%writefile exemplo3.csv\n",
        "inst; F; I; X; W; F; I; X; W; F1\n",
        "Loop: LD F1,0(R1); 1; 2; 3-4;5 (L1); 5; 6; 7-8,9; 10 (L2); 12-15; 16; 17-18;19\n",
        "LD F2,8(R1); 1; 2; 3-45;6 (L2); 5; 6; 7-9,11; 12 (L3); 12-15\n",
        "Sub R1,r1,32; 2; 3;4;5 (int); 6; 7; 8; 9\n",
        "MUL F3,F2,F2 ;2;3;4-6-10;11 (M1); 6;7-10; 11,12-16; 17(M1)\n",
        "ADD F1,F1,F2;3;4; 56-8; 9 (A1); 7-10; 11; 12-14;15(A1)\n",
        "SD F1,16(R1);3;4;5,9-10; - (L1); 7-10; 11; 15-16; (L1)\n",
        "MUL F4,F3,F4; 4; 5;6,11-15; 16 (M2); 11; 12-15; 16,17..;(M2)\n",
        "BNEZ R1, LOOP; 4; ;      ; ; 11; 12;"
      ],
      "metadata": {
        "colab": {
          "base_uri": "https://localhost:8080/"
        },
        "outputId": "4c9a42eb-084e-4c4d-abc7-89a4a3eb960e",
        "id": "WBzQr9WOv5zT"
      },
      "execution_count": null,
      "outputs": [
        {
          "output_type": "stream",
          "name": "stdout",
          "text": [
            "Overwriting exemplo3.csv\n"
          ]
        }
      ]
    },
    {
      "cell_type": "code",
      "source": [
        "#@title Imagens botões << e >>>\n",
        "import pandas as pd\n",
        "import ipywidgets as widgets\n",
        "from IPython.display import Image\n",
        "from IPython.display import clear_output\n",
        "import time\n",
        "\n",
        "first = 1\n",
        "last = 3\n",
        "filename = \"exemplo\"\n",
        "\n",
        "from IPython.display import Markdown\n",
        "marklist = []\n",
        "marklist.append(\"Dispara duas intrucoes por vez\")\n",
        "marklist.append(\"Atenção as gravacoes (W) e numero de estacoes de reserva\")\n",
        "marklist.append(\"CPI da 3 e 2 iteracao, olhando load \\n CPI = (19-10)/8=1.125 > 0.5\")\n",
        "\n",
        "upbutton = widgets.Button(description='>>')\n",
        "downbutton = widgets.Button(description='<<')\n",
        "\n",
        "\n",
        "\n",
        "out = widgets.Output()\n",
        "count = first\n",
        "samp_text = filename + str(first) + \".csv\"\n",
        "\n",
        "\n",
        "def up_button_clicked(_, incr=1):\n",
        "  global count,samp_text\n",
        "  with out:\n",
        "    if (count < last and  incr == 1):\n",
        "      count += incr\n",
        "\n",
        "    if (count > first and incr == -1):\n",
        "      count += incr\n",
        "\n",
        "    clear_output(wait=True)\n",
        "    samp_text = filename + str(count) + \".csv\"\n",
        "    df = pd.read_csv(samp_text, delimiter=';',dtype=\"str\")\n",
        "    df = df.fillna(\"-\")\n",
        "    display(df)\n",
        "    display(Markdown('## '+marklist[count-1]))\n",
        "\n",
        "upbutton.on_click(up_button_clicked)\n",
        "\n",
        "def down_button_clicked(_):\n",
        "  return up_button_clicked(_, -1)\n",
        "\n",
        "downbutton.on_click(down_button_clicked)\n",
        "# displaying button and its output together\n",
        "buttons = widgets.HBox([downbutton,upbutton])\n",
        "#widgets.VBox([buttons,out,Image(samp_text)])\n",
        "\n",
        "myvbox = widgets.VBox([buttons,out],)\n",
        "\n",
        "display(myvbox)\n",
        "with out:\n",
        "  df = pd.read_csv(filename + str(first) + \".csv\", delimiter=';',dtype=\"str\")\n",
        "  df = df.fillna(\"-\")\n",
        "  display(df)\n",
        "  display(Markdown('## '+marklist[first-1]))\n",
        "\n"
      ],
      "metadata": {
        "colab": {
          "base_uri": "https://localhost:8080/",
          "height": 379,
          "referenced_widgets": [
            "806d363f4b8e4eebaf14528527b6cc44",
            "26cb9e94c38a48ea96f66c58831c8074",
            "7d25b0c448aa4057a236eae179db685b",
            "a1fb40490dee442582a4f7684fa71b79",
            "d742075d5908462ea5ca749a3101a036",
            "fb3b453d8b46459d957204c519df1817",
            "43200755a196428d95fe5b86950f2946",
            "55c66d5ad7a14f61a987bf69c7335cf1",
            "f080a388ac0e4ddb9662c72643707d5d",
            "c6b0db10b8cd4b7da800400440bba316",
            "21209fe9b9a146f9a5567dbdce46892c",
            "cd3130ad5a964e338a61af7c14e966b8"
          ]
        },
        "cellView": "form",
        "outputId": "3314f564-9e26-4741-dfd8-97b791eccf95",
        "id": "Z-jRs50ntM3S"
      },
      "execution_count": null,
      "outputs": [
        {
          "output_type": "display_data",
          "data": {
            "text/plain": [
              "VBox(children=(HBox(children=(Button(description='<<', style=ButtonStyle()), Button(description='>>', style=Bu…"
            ],
            "application/vnd.jupyter.widget-view+json": {
              "version_major": 2,
              "version_minor": 0,
              "model_id": "806d363f4b8e4eebaf14528527b6cc44"
            }
          },
          "metadata": {}
        }
      ]
    },
    {
      "cell_type": "markdown",
      "source": [
        "# VLIW"
      ],
      "metadata": {
        "id": "Pb3tg19nQ_k6"
      }
    },
    {
      "cell_type": "markdown",
      "source": [
        "# Predição de Desvios"
      ],
      "metadata": {
        "id": "kulgaSLFRBpD"
      }
    },
    {
      "cell_type": "markdown",
      "source": [
        "# outros recursos"
      ],
      "metadata": {
        "id": "WgMAyTNvdJ26"
      }
    },
    {
      "cell_type": "code",
      "source": [],
      "metadata": {
        "id": "HpaZdtFvdLqc"
      },
      "execution_count": null,
      "outputs": []
    },
    {
      "cell_type": "code",
      "source": [
        "#@title Imprime e Edita\n",
        "import pandas as pd\n",
        "import ipywidgets as widgets\n",
        "from IPython.display import display, HTML\n",
        "from IPython.display import Markdown\n",
        "display(Markdown('## Irar parar no decode nos ciclos 3-4 devido a dependência em f1'))\n",
        "display(Markdown('## Efeito em cascata que segura a instrução mult no Fetch'))\n",
        "\n",
        "# Lê o arquivo CSV e carrega em um dataframe\n",
        "df = pd.read_csv('exemplo.csv', delimiter=';',dtype=str)\n",
        "df = df.fillna(\"-\")\n",
        "\n",
        "# create a dictionary to store input widgets for each cell\n",
        "input_widgets = {}\n",
        "\n",
        "# create a function to update the DataFrame based on the input widget values\n",
        "def update_df(sender):\n",
        "    for index, row in df.iterrows():\n",
        "        for col in df.columns:\n",
        "            widget = input_widgets[(index, col)]\n",
        "            if isinstance(widget, widgets.Dropdown):\n",
        "                df.loc[index, col] = widget.value\n",
        "            elif isinstance(widget, widgets.Text):\n",
        "                try:\n",
        "                    value = int(widget.value)\n",
        "                except ValueError:\n",
        "                    value = widget.value\n",
        "                df.loc[index, col] = value\n",
        "\n",
        "# display the DataFrame as a table with input widgets for each cell\n",
        "display(HTML(df.to_html(index=False)))\n",
        "for index, row in df.iterrows():\n",
        "    for col in df.columns:\n",
        "        value = row[col]\n",
        "        if isinstance(value, int):\n",
        "            widget = widgets.IntText(value=value)\n",
        "        elif isinstance(value, str):\n",
        "            widget = widgets.Text(value=value)\n",
        "        else:\n",
        "            # create dropdown widget for categorical columns\n",
        "            options = sorted(df[col].unique().tolist())\n",
        "            widget = widgets.Dropdown(options=options, value=value)\n",
        "        # store the widget in the input_widgets dictionary\n",
        "        input_widgets[(index, col)] = widget\n",
        "        widget.observe(update_df)\n",
        "        display(widget, end=' ')\n",
        "    print()\n",
        "\n",
        "# add a button to submit changes\n",
        "submit_button = widgets.Button(description='Submit changes')\n",
        "submit_button.on_click(update_df)\n",
        "display(submit_button)\n"
      ],
      "metadata": {
        "colab": {
          "base_uri": "https://localhost:8080/",
          "height": 1000,
          "referenced_widgets": [
            "dcabd6859cf34263a072ee9acb122dc3",
            "2189e9ff910f419f907197700f928cc4",
            "39458703e63e44d8aa4dc64fcb6d3ca6",
            "3943ef4b555943c1930b4b22b9be7332",
            "78791e7f82ef4103b7033c5b3b3e7916",
            "5057ee170dc4479a98f0c3578e0ce444",
            "f339da06ff3b422fb0e368fb95dc8d53",
            "e4cce9c0e8ff4a28ba5a6fb03d186851",
            "021159e1f4704c329dac53dc0e431617",
            "ec5ca797dc064e1bbb9cb8419fd0111a",
            "27f4fda01ba04136b2a6a1c30e71d5f8",
            "24f49f8350cf4f16b0839324b75ed46b",
            "9fd9e778d1e24f148391278af9e0ecb5",
            "9feadf9a6db2437ab142d7970e70157b",
            "445403ee8fd444c9932945519910bbf5",
            "d540d144a53341fbbf535c51ad1eb070",
            "88d73dfa4c044ae2bf966eb76d51716b",
            "34c673e7a1574fbd92db23e475218bd3",
            "afd4ef84e19c4a979af92f20c0a3b39c",
            "c40672c183974c94b50ae5ebe20cb101",
            "e95c06d2a0ca4ef99ea8bea47eb08994",
            "37f59aba9e7c4842960270c43376e54c",
            "bd8a47c785d148da9f3167b3eff2cf68",
            "63f48f433cee4c37a9d6dc7e937e44bd",
            "d793ac89e2d841cf81fd1d3d1881cd20",
            "22fcf69e78384511bb8cea9597a410ed",
            "2902f0c453434c408dc7f81dc0cb707c",
            "185d7542d79d4afe8d2459a96ea20b49",
            "af2e1e3b082e4a91b441da8aacc3f842",
            "cbaf86fc909448d78832cfe9d50c8310",
            "e794f2fee8714ef6a57185960a84a849",
            "69ddf7053bdc484b9a4674682ab0c876",
            "ef57382cc74f493d8ee07b24776c7b16",
            "2756949914fa40c0b56817cb726c68c4",
            "2504f1ff56fe48ca9266ff7d9b6331a6",
            "ee548fa793ca452d9765b88140ad54f8",
            "5d828d7860c245a486d64af8399e29c6",
            "0713877e7d0b4f11904ee8dda2569596",
            "b640dbdee0e64ae095f7c77df3c79125",
            "144c652f295a450c89e2d15cbf1f2b7b",
            "c46e2a38a4d74556892a9f090b10236a",
            "e31699ddeba141b7acece42691e55a1e",
            "ca97d51ed8524974aadb373e0afad1de",
            "c9b6a4a6353143b991d8c274f5c591fd",
            "4bcf9cdfca734649b9d1803ce6a4c538",
            "6a7b1462769e49629f2239e9f111a0e0",
            "25e7dcbe4f374d5fbfdd5b1ea7bf8df4",
            "9bb03b5106bb4847a01b18317f9e4a6b",
            "4da65d4c3a7d4e64b3c4760645afff57",
            "246ce0a79e6243b0847c89e14102f21e",
            "8038c5ff8a6d41ebac3d50acaca48ade",
            "cf0155f296be48a7be4d6c391cf42bca",
            "2e7f3217d0e747e994aeb06b7e7b516a",
            "d9207c5203ef4470a61f18ebc42ca98b",
            "35ca585b85a84fb1bc09bff34ca6d7bf",
            "4a1346e10ba2446693bf5c23a9108e28",
            "068a9c41efd54f0483498328625bb2d1",
            "79ef1a60415948f29efe10de3cc6f194",
            "7bc33e6609fa4decba02bccb793ea142",
            "fd7643f0feed4193804a6aadeb72176d",
            "5084aca3383941e9ae4150fca1ed8406",
            "33f29e826abe4b8da8c28dfc8a4af7b8",
            "4eb9fb94d5984199a74d7b190419bd7d",
            "42b8800e35ab44e7b8b7fa5bd22f70e6",
            "a9528a6bf0324002b852ee93d0445b32",
            "59b0b5622bb14c64bc03827ea70a92ef",
            "4fce8f611c3048cb8c9021976b94dc26",
            "f2b711470e3f4fd6918109022dd2be52",
            "fdc1b0e2d4b6406ea4df1677978fcf7c",
            "6f9d7af49756446da43c23ac0adcf071",
            "e04b028b55af42cf8c749c8a717a9759",
            "4cf1b5a27c20453eaf9b3695fe508667",
            "e18fb8f7776240678cc547cfad2e711c",
            "38f35dfe525a4d49b700e5ca04feab78",
            "cc2a2a1fe7af46cfbd41567f0943d382",
            "16b8c48f20f7483188e0c09d200d3141",
            "f0e0bfd70bdc423bac54fbaba992b4ba",
            "ab0e17b75ec445c3a8bcb110704b899e",
            "28dbb9591fb14226a8a58b0ba28dabf9",
            "694a8af2d0014c5b9a382bb89860758c",
            "0f0359d3bf5349f4b1d9a2c52b74b420",
            "defa10d78a5d44b393020cffd3bb4565",
            "229c9082e07b48b58936126ca3dca52a",
            "f16b9e530bee4e9284c98585b7280770",
            "67958e0fe4944710a45ef4cb12bd9409",
            "e0983b11e62b4c18ada3d6f66c5faa13",
            "6147341ef7e04821bc097c927ac38e47",
            "7f318c2f3663428a982685d6ab70221c",
            "0aeca6358f2b405581b816ef38ff66fe",
            "5ca9a40aa4374b308bbf8daeb9493a29",
            "2b0afa837d20482ba5dcc5c3c5dc7405",
            "c8b5f058d7fd4674a57fea4e29c67ae1",
            "afbec7ec7e6f45b18931d88fafb1d374",
            "c6134b49cd7648c6ac1afad754b75831",
            "85e96ceb7dd74fc3b5efc7d8da0a5016",
            "0f419ab231234a51a0735012b307c857",
            "d9a3a0cd1c2043f1bd54206e5bf68037",
            "4b494132da794f749c0c33ca6fff3c15",
            "2100f45882b5466caa063729b30e110d",
            "e57f03b517a8491f9c420923f23d92f4",
            "7aef503d267a4c038ca3b341154f45de",
            "2f3bb407887442e892e9a6bdb2fa7e8b",
            "a0d2737290504137b4c9669c345a857c",
            "82f6b3e49e3b4f87891b91b9c4becaa6",
            "9626266ec5ae4658ad885719ae4f7288",
            "3a2bb99bd6b84acaa792d0b0eeeca673",
            "ffdb92c0b1374291afda6e3f4e3c49a8",
            "fbeee328ad2444eba2ecbe23d7ac8c1c",
            "1e3c01879ca74c4ca5e3bdc7aabfae46",
            "aaba0b733d204f51b5f8d5b8e85b688a",
            "a41d3b2a93a34269bbb6b42903ed9f2e",
            "de02e27b48c5403d919214ad8cde6e95",
            "564727af61ab48ce9c4703ee0eb11ef8",
            "d16768a39068474683184e3ed8cce72a",
            "236b75a350074094a90665895ee82ce6",
            "ea8ecb212dfe4b9cb73a1aaee6e6cfd0",
            "0df9d76225064f1081a50a819d532a72",
            "2655cf94c1c746a5a6642c591dbd63c4",
            "5d1868caff8b47629d20972387e1c480",
            "473e8f09e66b4970812fbf96408b3759",
            "9a0d485e00d54516a30ba1ee835609a8",
            "67a1abec7e9e4c419c65df8460bb32bf",
            "1d33de7ae0ac4aa2ab46336d880b941c",
            "28d1a3bf387b43f783b839092ffb9a42",
            "dbdca07372194672a328426176937160",
            "1af3e8ce2cbf406fbc883513b30dc5d9",
            "80561be4e3f74b658c76f19945c65e3e",
            "5d588e99b0fe41cfbee146b88e53b518",
            "1856e901210d40908a8f70c548ad7add",
            "03f5fd77ae404f018b7d042bc88747fe",
            "d42303cbdf0a4aec8d89486d78310f03",
            "b21cc8157d744eecb5ecac37901bda00",
            "ee4c9e2012bf4473a0be32a0d3aa2263",
            "0b8f5584cef74248ad06e9f7d6c03a4e",
            "e39f16e09840412b9c876caffa7dbcb0",
            "0f86cfd5969347ca8a394681f9ef6c36",
            "d58edfb7e66d4b90b2e361a0e2e80092",
            "3afa90be4e934339900b1e2ec41ea930",
            "b4c0e1f9b3d44b60bf532a87ca4db361",
            "aafb1dfde2e14661a11406b1dd59f400",
            "4d538945fb8041f09324fdb09b422bf3",
            "af62b55ae8a84f8fb30728cd68fd3831",
            "74c6b7045f86438f9a2df5f54aa6c30a",
            "40d7f01d32134947b8398bba7bd9d44f",
            "db81ba90e8bc4c34b10131d3117d8c3c",
            "abc5677dee0448f8bae2bff50edd0d89",
            "55525d9643734428bde992cc84c05f20",
            "c1a4155260a44782b529159e8480551d",
            "4e56211379494ec7b31835f6b216c889",
            "ab545b6662e249979294000b1ca65637"
          ]
        },
        "cellView": "form",
        "id": "dhiK0reJbV7I",
        "outputId": "7d9aa4ee-f639-4651-eac3-e45adfab08bb"
      },
      "execution_count": null,
      "outputs": [
        {
          "output_type": "display_data",
          "data": {
            "text/plain": [
              "<IPython.core.display.Markdown object>"
            ],
            "text/markdown": "## Irar parar no decode nos ciclos 3-4 devido a dependência em f1"
          },
          "metadata": {}
        },
        {
          "output_type": "display_data",
          "data": {
            "text/plain": [
              "<IPython.core.display.Markdown object>"
            ],
            "text/markdown": "## Efeito em cascata que segura a instrução mult no Fetch"
          },
          "metadata": {}
        },
        {
          "output_type": "display_data",
          "data": {
            "text/plain": [
              "<IPython.core.display.HTML object>"
            ],
            "text/html": [
              "<table border=\"1\" class=\"dataframe\">\n",
              "  <thead>\n",
              "    <tr style=\"text-align: right;\">\n",
              "      <th>PC</th>\n",
              "      <th>instrução</th>\n",
              "      <th>F</th>\n",
              "      <th>D</th>\n",
              "      <th>X</th>\n",
              "      <th>W</th>\n",
              "      <th>Unnamed: 6</th>\n",
              "    </tr>\n",
              "  </thead>\n",
              "  <tbody>\n",
              "    <tr>\n",
              "      <td>0</td>\n",
              "      <td>ld f1,0(r5)</td>\n",
              "      <td>1</td>\n",
              "      <td>2</td>\n",
              "      <td>3-4</td>\n",
              "      <td>5</td>\n",
              "      <td>-</td>\n",
              "    </tr>\n",
              "    <tr>\n",
              "      <td>4</td>\n",
              "      <td>add f1,f1,f3</td>\n",
              "      <td>2</td>\n",
              "      <td>3-4</td>\n",
              "      <td>5</td>\n",
              "      <td>-</td>\n",
              "      <td>-</td>\n",
              "    </tr>\n",
              "    <tr>\n",
              "      <td>8</td>\n",
              "      <td>mult f2,f1,f1</td>\n",
              "      <td>3-4</td>\n",
              "      <td>-</td>\n",
              "      <td>-</td>\n",
              "      <td>-</td>\n",
              "      <td>-</td>\n",
              "    </tr>\n",
              "    <tr>\n",
              "      <td>12</td>\n",
              "      <td>add f4,f1,f2</td>\n",
              "      <td>-</td>\n",
              "      <td>-</td>\n",
              "      <td>-</td>\n",
              "      <td>-</td>\n",
              "      <td>-</td>\n",
              "    </tr>\n",
              "    <tr>\n",
              "      <td>16</td>\n",
              "      <td>sd f1,0(r5)</td>\n",
              "      <td>-</td>\n",
              "      <td>-</td>\n",
              "      <td>-</td>\n",
              "      <td>-</td>\n",
              "      <td>-</td>\n",
              "    </tr>\n",
              "    <tr>\n",
              "      <td>20</td>\n",
              "      <td>add r5,r5,4</td>\n",
              "      <td>-</td>\n",
              "      <td>-</td>\n",
              "      <td>-</td>\n",
              "      <td>-</td>\n",
              "      <td>-</td>\n",
              "    </tr>\n",
              "    <tr>\n",
              "      <td>24</td>\n",
              "      <td>beq r5,r2,loop</td>\n",
              "      <td>-</td>\n",
              "      <td>-</td>\n",
              "      <td>-</td>\n",
              "      <td>-</td>\n",
              "      <td>-</td>\n",
              "    </tr>\n",
              "  </tbody>\n",
              "</table>"
            ]
          },
          "metadata": {}
        },
        {
          "output_type": "display_data",
          "data": {
            "text/plain": [
              "Text(value='0')"
            ],
            "application/vnd.jupyter.widget-view+json": {
              "version_major": 2,
              "version_minor": 0,
              "model_id": "dcabd6859cf34263a072ee9acb122dc3"
            }
          },
          "metadata": {}
        },
        {
          "output_type": "display_data",
          "data": {
            "text/plain": [
              "Text(value=' ld f1,0(r5) ')"
            ],
            "application/vnd.jupyter.widget-view+json": {
              "version_major": 2,
              "version_minor": 0,
              "model_id": "3943ef4b555943c1930b4b22b9be7332"
            }
          },
          "metadata": {}
        },
        {
          "output_type": "display_data",
          "data": {
            "text/plain": [
              "Text(value=' 1')"
            ],
            "application/vnd.jupyter.widget-view+json": {
              "version_major": 2,
              "version_minor": 0,
              "model_id": "f339da06ff3b422fb0e368fb95dc8d53"
            }
          },
          "metadata": {}
        },
        {
          "output_type": "display_data",
          "data": {
            "text/plain": [
              "Text(value=' 2')"
            ],
            "application/vnd.jupyter.widget-view+json": {
              "version_major": 2,
              "version_minor": 0,
              "model_id": "ec5ca797dc064e1bbb9cb8419fd0111a"
            }
          },
          "metadata": {}
        },
        {
          "output_type": "display_data",
          "data": {
            "text/plain": [
              "Text(value=' 3-4')"
            ],
            "application/vnd.jupyter.widget-view+json": {
              "version_major": 2,
              "version_minor": 0,
              "model_id": "9fd9e778d1e24f148391278af9e0ecb5"
            }
          },
          "metadata": {}
        },
        {
          "output_type": "display_data",
          "data": {
            "text/plain": [
              "Text(value=' 5')"
            ],
            "application/vnd.jupyter.widget-view+json": {
              "version_major": 2,
              "version_minor": 0,
              "model_id": "d540d144a53341fbbf535c51ad1eb070"
            }
          },
          "metadata": {}
        },
        {
          "output_type": "display_data",
          "data": {
            "text/plain": [
              "Text(value='-')"
            ],
            "application/vnd.jupyter.widget-view+json": {
              "version_major": 2,
              "version_minor": 0,
              "model_id": "afd4ef84e19c4a979af92f20c0a3b39c"
            }
          },
          "metadata": {}
        },
        {
          "output_type": "stream",
          "name": "stdout",
          "text": [
            "\n"
          ]
        },
        {
          "output_type": "display_data",
          "data": {
            "text/plain": [
              "Text(value='4')"
            ],
            "application/vnd.jupyter.widget-view+json": {
              "version_major": 2,
              "version_minor": 0,
              "model_id": "37f59aba9e7c4842960270c43376e54c"
            }
          },
          "metadata": {}
        },
        {
          "output_type": "display_data",
          "data": {
            "text/plain": [
              "Text(value='  add f1,f1,f3')"
            ],
            "application/vnd.jupyter.widget-view+json": {
              "version_major": 2,
              "version_minor": 0,
              "model_id": "d793ac89e2d841cf81fd1d3d1881cd20"
            }
          },
          "metadata": {}
        },
        {
          "output_type": "display_data",
          "data": {
            "text/plain": [
              "Text(value=' 2')"
            ],
            "application/vnd.jupyter.widget-view+json": {
              "version_major": 2,
              "version_minor": 0,
              "model_id": "185d7542d79d4afe8d2459a96ea20b49"
            }
          },
          "metadata": {}
        },
        {
          "output_type": "display_data",
          "data": {
            "text/plain": [
              "Text(value=' 3-4')"
            ],
            "application/vnd.jupyter.widget-view+json": {
              "version_major": 2,
              "version_minor": 0,
              "model_id": "e794f2fee8714ef6a57185960a84a849"
            }
          },
          "metadata": {}
        },
        {
          "output_type": "display_data",
          "data": {
            "text/plain": [
              "Text(value=' 5')"
            ],
            "application/vnd.jupyter.widget-view+json": {
              "version_major": 2,
              "version_minor": 0,
              "model_id": "2756949914fa40c0b56817cb726c68c4"
            }
          },
          "metadata": {}
        },
        {
          "output_type": "display_data",
          "data": {
            "text/plain": [
              "Text(value='-')"
            ],
            "application/vnd.jupyter.widget-view+json": {
              "version_major": 2,
              "version_minor": 0,
              "model_id": "5d828d7860c245a486d64af8399e29c6"
            }
          },
          "metadata": {}
        },
        {
          "output_type": "display_data",
          "data": {
            "text/plain": [
              "Text(value='-')"
            ],
            "application/vnd.jupyter.widget-view+json": {
              "version_major": 2,
              "version_minor": 0,
              "model_id": "144c652f295a450c89e2d15cbf1f2b7b"
            }
          },
          "metadata": {}
        },
        {
          "output_type": "stream",
          "name": "stdout",
          "text": [
            "\n"
          ]
        },
        {
          "output_type": "display_data",
          "data": {
            "text/plain": [
              "Text(value='8')"
            ],
            "application/vnd.jupyter.widget-view+json": {
              "version_major": 2,
              "version_minor": 0,
              "model_id": "ca97d51ed8524974aadb373e0afad1de"
            }
          },
          "metadata": {}
        },
        {
          "output_type": "display_data",
          "data": {
            "text/plain": [
              "Text(value=' mult f2,f1,f1')"
            ],
            "application/vnd.jupyter.widget-view+json": {
              "version_major": 2,
              "version_minor": 0,
              "model_id": "6a7b1462769e49629f2239e9f111a0e0"
            }
          },
          "metadata": {}
        },
        {
          "output_type": "display_data",
          "data": {
            "text/plain": [
              "Text(value=' 3-4')"
            ],
            "application/vnd.jupyter.widget-view+json": {
              "version_major": 2,
              "version_minor": 0,
              "model_id": "4da65d4c3a7d4e64b3c4760645afff57"
            }
          },
          "metadata": {}
        },
        {
          "output_type": "display_data",
          "data": {
            "text/plain": [
              "Text(value='-')"
            ],
            "application/vnd.jupyter.widget-view+json": {
              "version_major": 2,
              "version_minor": 0,
              "model_id": "cf0155f296be48a7be4d6c391cf42bca"
            }
          },
          "metadata": {}
        },
        {
          "output_type": "display_data",
          "data": {
            "text/plain": [
              "Text(value='-')"
            ],
            "application/vnd.jupyter.widget-view+json": {
              "version_major": 2,
              "version_minor": 0,
              "model_id": "35ca585b85a84fb1bc09bff34ca6d7bf"
            }
          },
          "metadata": {}
        },
        {
          "output_type": "display_data",
          "data": {
            "text/plain": [
              "Text(value='-')"
            ],
            "application/vnd.jupyter.widget-view+json": {
              "version_major": 2,
              "version_minor": 0,
              "model_id": "79ef1a60415948f29efe10de3cc6f194"
            }
          },
          "metadata": {}
        },
        {
          "output_type": "display_data",
          "data": {
            "text/plain": [
              "Text(value='-')"
            ],
            "application/vnd.jupyter.widget-view+json": {
              "version_major": 2,
              "version_minor": 0,
              "model_id": "5084aca3383941e9ae4150fca1ed8406"
            }
          },
          "metadata": {}
        },
        {
          "output_type": "stream",
          "name": "stdout",
          "text": [
            "\n"
          ]
        },
        {
          "output_type": "display_data",
          "data": {
            "text/plain": [
              "Text(value='12')"
            ],
            "application/vnd.jupyter.widget-view+json": {
              "version_major": 2,
              "version_minor": 0,
              "model_id": "42b8800e35ab44e7b8b7fa5bd22f70e6"
            }
          },
          "metadata": {}
        },
        {
          "output_type": "display_data",
          "data": {
            "text/plain": [
              "Text(value=' add f4,f1,f2')"
            ],
            "application/vnd.jupyter.widget-view+json": {
              "version_major": 2,
              "version_minor": 0,
              "model_id": "4fce8f611c3048cb8c9021976b94dc26"
            }
          },
          "metadata": {}
        },
        {
          "output_type": "display_data",
          "data": {
            "text/plain": [
              "Text(value='-')"
            ],
            "application/vnd.jupyter.widget-view+json": {
              "version_major": 2,
              "version_minor": 0,
              "model_id": "6f9d7af49756446da43c23ac0adcf071"
            }
          },
          "metadata": {}
        },
        {
          "output_type": "display_data",
          "data": {
            "text/plain": [
              "Text(value='-')"
            ],
            "application/vnd.jupyter.widget-view+json": {
              "version_major": 2,
              "version_minor": 0,
              "model_id": "e18fb8f7776240678cc547cfad2e711c"
            }
          },
          "metadata": {}
        },
        {
          "output_type": "display_data",
          "data": {
            "text/plain": [
              "Text(value='-')"
            ],
            "application/vnd.jupyter.widget-view+json": {
              "version_major": 2,
              "version_minor": 0,
              "model_id": "16b8c48f20f7483188e0c09d200d3141"
            }
          },
          "metadata": {}
        },
        {
          "output_type": "display_data",
          "data": {
            "text/plain": [
              "Text(value='-')"
            ],
            "application/vnd.jupyter.widget-view+json": {
              "version_major": 2,
              "version_minor": 0,
              "model_id": "28dbb9591fb14226a8a58b0ba28dabf9"
            }
          },
          "metadata": {}
        },
        {
          "output_type": "display_data",
          "data": {
            "text/plain": [
              "Text(value='-')"
            ],
            "application/vnd.jupyter.widget-view+json": {
              "version_major": 2,
              "version_minor": 0,
              "model_id": "defa10d78a5d44b393020cffd3bb4565"
            }
          },
          "metadata": {}
        },
        {
          "output_type": "stream",
          "name": "stdout",
          "text": [
            "\n"
          ]
        },
        {
          "output_type": "display_data",
          "data": {
            "text/plain": [
              "Text(value='16')"
            ],
            "application/vnd.jupyter.widget-view+json": {
              "version_major": 2,
              "version_minor": 0,
              "model_id": "67958e0fe4944710a45ef4cb12bd9409"
            }
          },
          "metadata": {}
        },
        {
          "output_type": "display_data",
          "data": {
            "text/plain": [
              "Text(value=' sd f1,0(r5)')"
            ],
            "application/vnd.jupyter.widget-view+json": {
              "version_major": 2,
              "version_minor": 0,
              "model_id": "7f318c2f3663428a982685d6ab70221c"
            }
          },
          "metadata": {}
        },
        {
          "output_type": "display_data",
          "data": {
            "text/plain": [
              "Text(value='-')"
            ],
            "application/vnd.jupyter.widget-view+json": {
              "version_major": 2,
              "version_minor": 0,
              "model_id": "2b0afa837d20482ba5dcc5c3c5dc7405"
            }
          },
          "metadata": {}
        },
        {
          "output_type": "display_data",
          "data": {
            "text/plain": [
              "Text(value='-')"
            ],
            "application/vnd.jupyter.widget-view+json": {
              "version_major": 2,
              "version_minor": 0,
              "model_id": "c6134b49cd7648c6ac1afad754b75831"
            }
          },
          "metadata": {}
        },
        {
          "output_type": "display_data",
          "data": {
            "text/plain": [
              "Text(value='-')"
            ],
            "application/vnd.jupyter.widget-view+json": {
              "version_major": 2,
              "version_minor": 0,
              "model_id": "d9a3a0cd1c2043f1bd54206e5bf68037"
            }
          },
          "metadata": {}
        },
        {
          "output_type": "display_data",
          "data": {
            "text/plain": [
              "Text(value='-')"
            ],
            "application/vnd.jupyter.widget-view+json": {
              "version_major": 2,
              "version_minor": 0,
              "model_id": "e57f03b517a8491f9c420923f23d92f4"
            }
          },
          "metadata": {}
        },
        {
          "output_type": "display_data",
          "data": {
            "text/plain": [
              "Text(value='-')"
            ],
            "application/vnd.jupyter.widget-view+json": {
              "version_major": 2,
              "version_minor": 0,
              "model_id": "a0d2737290504137b4c9669c345a857c"
            }
          },
          "metadata": {}
        },
        {
          "output_type": "stream",
          "name": "stdout",
          "text": [
            "\n"
          ]
        },
        {
          "output_type": "display_data",
          "data": {
            "text/plain": [
              "Text(value='20')"
            ],
            "application/vnd.jupyter.widget-view+json": {
              "version_major": 2,
              "version_minor": 0,
              "model_id": "3a2bb99bd6b84acaa792d0b0eeeca673"
            }
          },
          "metadata": {}
        },
        {
          "output_type": "display_data",
          "data": {
            "text/plain": [
              "Text(value='  add r5,r5,4')"
            ],
            "application/vnd.jupyter.widget-view+json": {
              "version_major": 2,
              "version_minor": 0,
              "model_id": "1e3c01879ca74c4ca5e3bdc7aabfae46"
            }
          },
          "metadata": {}
        },
        {
          "output_type": "display_data",
          "data": {
            "text/plain": [
              "Text(value='-')"
            ],
            "application/vnd.jupyter.widget-view+json": {
              "version_major": 2,
              "version_minor": 0,
              "model_id": "de02e27b48c5403d919214ad8cde6e95"
            }
          },
          "metadata": {}
        },
        {
          "output_type": "display_data",
          "data": {
            "text/plain": [
              "Text(value='-')"
            ],
            "application/vnd.jupyter.widget-view+json": {
              "version_major": 2,
              "version_minor": 0,
              "model_id": "236b75a350074094a90665895ee82ce6"
            }
          },
          "metadata": {}
        },
        {
          "output_type": "display_data",
          "data": {
            "text/plain": [
              "Text(value='-')"
            ],
            "application/vnd.jupyter.widget-view+json": {
              "version_major": 2,
              "version_minor": 0,
              "model_id": "2655cf94c1c746a5a6642c591dbd63c4"
            }
          },
          "metadata": {}
        },
        {
          "output_type": "display_data",
          "data": {
            "text/plain": [
              "Text(value='-')"
            ],
            "application/vnd.jupyter.widget-view+json": {
              "version_major": 2,
              "version_minor": 0,
              "model_id": "9a0d485e00d54516a30ba1ee835609a8"
            }
          },
          "metadata": {}
        },
        {
          "output_type": "display_data",
          "data": {
            "text/plain": [
              "Text(value='-')"
            ],
            "application/vnd.jupyter.widget-view+json": {
              "version_major": 2,
              "version_minor": 0,
              "model_id": "28d1a3bf387b43f783b839092ffb9a42"
            }
          },
          "metadata": {}
        },
        {
          "output_type": "stream",
          "name": "stdout",
          "text": [
            "\n"
          ]
        },
        {
          "output_type": "display_data",
          "data": {
            "text/plain": [
              "Text(value='24')"
            ],
            "application/vnd.jupyter.widget-view+json": {
              "version_major": 2,
              "version_minor": 0,
              "model_id": "80561be4e3f74b658c76f19945c65e3e"
            }
          },
          "metadata": {}
        },
        {
          "output_type": "display_data",
          "data": {
            "text/plain": [
              "Text(value=' beq r5,r2,loop')"
            ],
            "application/vnd.jupyter.widget-view+json": {
              "version_major": 2,
              "version_minor": 0,
              "model_id": "03f5fd77ae404f018b7d042bc88747fe"
            }
          },
          "metadata": {}
        },
        {
          "output_type": "display_data",
          "data": {
            "text/plain": [
              "Text(value='-')"
            ],
            "application/vnd.jupyter.widget-view+json": {
              "version_major": 2,
              "version_minor": 0,
              "model_id": "ee4c9e2012bf4473a0be32a0d3aa2263"
            }
          },
          "metadata": {}
        },
        {
          "output_type": "display_data",
          "data": {
            "text/plain": [
              "Text(value='-')"
            ],
            "application/vnd.jupyter.widget-view+json": {
              "version_major": 2,
              "version_minor": 0,
              "model_id": "0f86cfd5969347ca8a394681f9ef6c36"
            }
          },
          "metadata": {}
        },
        {
          "output_type": "display_data",
          "data": {
            "text/plain": [
              "Text(value='-')"
            ],
            "application/vnd.jupyter.widget-view+json": {
              "version_major": 2,
              "version_minor": 0,
              "model_id": "b4c0e1f9b3d44b60bf532a87ca4db361"
            }
          },
          "metadata": {}
        },
        {
          "output_type": "display_data",
          "data": {
            "text/plain": [
              "Text(value='-')"
            ],
            "application/vnd.jupyter.widget-view+json": {
              "version_major": 2,
              "version_minor": 0,
              "model_id": "af62b55ae8a84f8fb30728cd68fd3831"
            }
          },
          "metadata": {}
        },
        {
          "output_type": "display_data",
          "data": {
            "text/plain": [
              "Text(value='-')"
            ],
            "application/vnd.jupyter.widget-view+json": {
              "version_major": 2,
              "version_minor": 0,
              "model_id": "db81ba90e8bc4c34b10131d3117d8c3c"
            }
          },
          "metadata": {}
        },
        {
          "output_type": "stream",
          "name": "stdout",
          "text": [
            "\n"
          ]
        },
        {
          "output_type": "display_data",
          "data": {
            "text/plain": [
              "Button(description='Submit changes', style=ButtonStyle())"
            ],
            "application/vnd.jupyter.widget-view+json": {
              "version_major": 2,
              "version_minor": 0,
              "model_id": "c1a4155260a44782b529159e8480551d"
            }
          },
          "metadata": {}
        }
      ]
    }
  ]
}