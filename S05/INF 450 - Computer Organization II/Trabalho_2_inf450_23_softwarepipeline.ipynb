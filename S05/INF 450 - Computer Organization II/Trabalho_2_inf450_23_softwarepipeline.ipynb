{
  "nbformat": 4,
  "nbformat_minor": 0,
  "metadata": {
    "colab": {
      "provenance": [],
      "toc_visible": true
    },
    "kernelspec": {
      "name": "python3",
      "display_name": "Python 3"
    },
    "language_info": {
      "name": "python"
    }
  },
  "cells": [
    {
      "cell_type": "markdown",
      "source": [
        "# Trabalho 2\n",
        "\n",
        "Nomes e Matriculas dos integrantes\n",
        "\n",
        "1. Luísa de Souza Ferreira - 102026\n",
        "\n",
        "2. Lademir Junior - 102018\n",
        "\n",
        "3. Jonas Magalhães - 102010\n",
        "\n",
        "4. Felipe Ferreira - 102017\n",
        "\n",
        "5. Bruno Alencar - 102008\n",
        "\n"
      ],
      "metadata": {
        "id": "vtWIx9E5htI4"
      }
    },
    {
      "cell_type": "markdown",
      "source": [
        "## Parte I\n",
        "\n",
        "$ v[i] = ( (2*v[i] + v[i]) *v[i] )$\n",
        "\n",
        "1. Escreva o codigo do loop em assembler\n",
        "2. Faça a simulação em Python\n",
        "3. Faça a tabela de execução e calcule o CPI\n",
        "4. Faça o grafo de dependência com graphviz\n",
        "5. Escreva o código do software pipeline em python e faça a validação.\n",
        "6. Faça a tabela de execução e calcule o CPI."
      ],
      "metadata": {
        "id": "cIHd4lwPh5Zw"
      }
    },
    {
      "cell_type": "markdown",
      "source": [
        "1. Escreva o codigo do loop em assembler\n",
        "####LOOP: Ld f3,0(r1)\n",
        "####addf f4,f3,f3 (2 * v[i])\n",
        "####addf f4,f4,f3 (2 * v[i] + v[i])\n",
        "####mult f5,f4,f3 ((2 * v[i] + v[i]) * v[i])\n",
        "####sd f5,0(r1)\n",
        "####Addi r1,r1,4\n",
        "####Beq r1,r2,LOOP"
      ],
      "metadata": {
        "id": "b3KrDBVUeV14"
      }
    },
    {
      "cell_type": "markdown",
      "source": [
        "2. Faça a simulação em Python"
      ],
      "metadata": {
        "id": "tBZKDUkAesEY"
      }
    },
    {
      "cell_type": "code",
      "source": [
        "# Aqui temos o codigo emulado em Python\n",
        "#LOOP:\n",
        "#Ld f3,0(r1)\n",
        "#addf f4,f3,f3 (2 * v[i])\n",
        "#addf f4,f4,f3 (2 * v[i] + v[i])\n",
        "#mult f5,f4,f3 ((2 * v[i] + v[i]) * v[i])\n",
        "#sd f5,0(r1)\n",
        "#Addi r1,r1,4\n",
        "#Beq r1,r2,LOOP\n",
        "l = [0,1,2,3,4,5,6,7,8,9,10,11,12,13,14,15,16,17,18,19,20,21,22,23,24,25,26,27,28,29,30]\n",
        "f2 = 1\n",
        "l2 = []\n",
        "for i in range(20):\n",
        "   f3 = l[i]  # ld\n",
        "   f4 = f3+f3 # addf\n",
        "   f4 = f4 + f3 #addf\n",
        "   f5 = f4*f3 # mul\n",
        "   l[i] = f5  # sd\n",
        "   l2.append((2*f3+f3)*f3)\n",
        "\n",
        "print(l)\n",
        "print(l2)"
      ],
      "metadata": {
        "colab": {
          "base_uri": "https://localhost:8080/"
        },
        "id": "qkN7jfnSa8rR",
        "outputId": "9de7dfc8-7daf-426b-d077-a42bde0708af"
      },
      "execution_count": null,
      "outputs": [
        {
          "output_type": "stream",
          "name": "stdout",
          "text": [
            "[0, 3, 12, 27, 48, 75, 108, 147, 192, 243, 300, 363, 432, 507, 588, 675, 768, 867, 972, 1083, 20, 21, 22, 23, 24, 25, 26, 27, 28, 29, 30]\n",
            "[0, 3, 12, 27, 48, 75, 108, 147, 192, 243, 300, 363, 432, 507, 588, 675, 768, 867, 972, 1083]\n"
          ]
        }
      ]
    },
    {
      "cell_type": "markdown",
      "source": [
        "3. Faça a tabela de execução e calcule o CPI\n",
        "\n",
        "Podemos montar a tabela de execução considerando 2 ciclos para LD e SD, 3 ciclos para ADD de float e 5 ciclos para MUL de float.\n",
        "\n",
        "Se calcularmos o CPI como o tempo do W da segunda iteração - tempo do W da primeira, por exemplo para instrução LOAD teremos\n",
        "\n",
        "Calculo da CPI = $(22 -5) / 7= 2,4$\n",
        "\n",
        "Codigo | F | D | E | W | F | D | E | W\n",
        "---|---|---|---|---|---|---|---|---\n",
        "Ld f3,0(r1) | 1| 2 | 34| 5 | 18 | 19 | 2021 | 22\n",
        "addf f4,f3,f3 | 2 | 34 | 567 | 8 | 19 | 2021 | 21-23 | 24\n",
        "addf f4,f4,f3 | 34 | 567 | 8910| 11\n",
        "multf f4,f4,f3 | 567 | 8910 | 11-15 | 16\n",
        "sd f4,0(r1) | 8910 | 11-15 | 1617 | -\n",
        "Addi r1,r1,4 | 11-15 | 16 | 17 | 18\n",
        "Beq r1,r1,LOOP | 16 | 17 |  |"
      ],
      "metadata": {
        "id": "19gqQlz6ce41"
      }
    },
    {
      "cell_type": "markdown",
      "source": [
        "4. Faça o grafo de dependência com graphviz\n"
      ],
      "metadata": {
        "id": "lHIbvkbXglRU"
      }
    },
    {
      "cell_type": "code",
      "source": [
        "from graphviz import Digraph\n",
        "fsm = Digraph()\n",
        "fsm.node('1','Ld F3')\n",
        "fsm.node('2','addf f4,f3,f3')\n",
        "fsm.node('3','addf f4,f4,f3')\n",
        "fsm.node('4','multf f5,f4,f3')\n",
        "fsm.node('5','sd f5')\n",
        "fsm.edge('1','2','f3')\n",
        "fsm.edge('1','3','f3')\n",
        "fsm.edge('1','4','f3')\n",
        "fsm.edge('2','3','f4')\n",
        "fsm.edge('3','4','f4')\n",
        "fsm.edge('4','5','f4')\n",
        "\n",
        "fsm"
      ],
      "metadata": {
        "colab": {
          "base_uri": "https://localhost:8080/",
          "height": 544
        },
        "id": "05neMiLlg0wa",
        "outputId": "4be33945-0687-4698-e78e-fc10989402a1"
      },
      "execution_count": null,
      "outputs": [
        {
          "output_type": "execute_result",
          "data": {
            "image/svg+xml": "<?xml version=\"1.0\" encoding=\"UTF-8\" standalone=\"no\"?>\n<!DOCTYPE svg PUBLIC \"-//W3C//DTD SVG 1.1//EN\"\n \"http://www.w3.org/Graphics/SVG/1.1/DTD/svg11.dtd\">\n<!-- Generated by graphviz version 2.43.0 (0)\n -->\n<!-- Title: %3 Pages: 1 -->\n<svg width=\"214pt\" height=\"392pt\"\n viewBox=\"0.00 0.00 213.69 392.00\" xmlns=\"http://www.w3.org/2000/svg\" xmlns:xlink=\"http://www.w3.org/1999/xlink\">\n<g id=\"graph0\" class=\"graph\" transform=\"scale(1 1) rotate(0) translate(4 388)\">\n<title>%3</title>\n<polygon fill=\"white\" stroke=\"transparent\" points=\"-4,4 -4,-388 209.69,-388 209.69,4 -4,4\"/>\n<!-- 1 -->\n<g id=\"node1\" class=\"node\">\n<title>1</title>\n<ellipse fill=\"none\" stroke=\"black\" cx=\"147.9\" cy=\"-366\" rx=\"32.49\" ry=\"18\"/>\n<text text-anchor=\"middle\" x=\"147.9\" y=\"-362.3\" font-family=\"Times,serif\" font-size=\"14.00\">Ld F3</text>\n</g>\n<!-- 2 -->\n<g id=\"node2\" class=\"node\">\n<title>2</title>\n<ellipse fill=\"none\" stroke=\"black\" cx=\"55.9\" cy=\"-279\" rx=\"55.79\" ry=\"18\"/>\n<text text-anchor=\"middle\" x=\"55.9\" y=\"-275.3\" font-family=\"Times,serif\" font-size=\"14.00\">addf f4,f3,f3</text>\n</g>\n<!-- 1&#45;&gt;2 -->\n<g id=\"edge1\" class=\"edge\">\n<title>1&#45;&gt;2</title>\n<path fill=\"none\" stroke=\"black\" d=\"M131.87,-350.19C117.89,-337.28 97.37,-318.32 81.17,-303.36\"/>\n<polygon fill=\"black\" stroke=\"black\" points=\"83.34,-300.59 73.62,-296.38 78.59,-305.73 83.34,-300.59\"/>\n<text text-anchor=\"middle\" x=\"113.9\" y=\"-318.8\" font-family=\"Times,serif\" font-size=\"14.00\">f3</text>\n</g>\n<!-- 3 -->\n<g id=\"node3\" class=\"node\">\n<title>3</title>\n<ellipse fill=\"none\" stroke=\"black\" cx=\"103.9\" cy=\"-192\" rx=\"55.79\" ry=\"18\"/>\n<text text-anchor=\"middle\" x=\"103.9\" y=\"-188.3\" font-family=\"Times,serif\" font-size=\"14.00\">addf f4,f4,f3</text>\n</g>\n<!-- 1&#45;&gt;3 -->\n<g id=\"edge2\" class=\"edge\">\n<title>1&#45;&gt;3</title>\n<path fill=\"none\" stroke=\"black\" d=\"M143.52,-347.88C135.84,-317.87 119.9,-255.58 110.75,-219.81\"/>\n<polygon fill=\"black\" stroke=\"black\" points=\"114.13,-218.87 108.26,-210.05 107.34,-220.61 114.13,-218.87\"/>\n<text text-anchor=\"middle\" x=\"136.9\" y=\"-275.3\" font-family=\"Times,serif\" font-size=\"14.00\">f3</text>\n</g>\n<!-- 4 -->\n<g id=\"node4\" class=\"node\">\n<title>4</title>\n<ellipse fill=\"none\" stroke=\"black\" cx=\"145.9\" cy=\"-105\" rx=\"59.59\" ry=\"18\"/>\n<text text-anchor=\"middle\" x=\"145.9\" y=\"-101.3\" font-family=\"Times,serif\" font-size=\"14.00\">multf f5,f4,f3</text>\n</g>\n<!-- 1&#45;&gt;4 -->\n<g id=\"edge3\" class=\"edge\">\n<title>1&#45;&gt;4</title>\n<path fill=\"none\" stroke=\"black\" d=\"M152.84,-348.05C161.92,-314.62 179.4,-237.86 168.9,-174 166.59,-159.97 161.77,-144.95 157.14,-132.6\"/>\n<polygon fill=\"black\" stroke=\"black\" points=\"160.26,-130.96 153.35,-122.93 153.74,-133.52 160.26,-130.96\"/>\n<text text-anchor=\"middle\" x=\"177.9\" y=\"-231.8\" font-family=\"Times,serif\" font-size=\"14.00\">f3</text>\n</g>\n<!-- 2&#45;&gt;3 -->\n<g id=\"edge4\" class=\"edge\">\n<title>2&#45;&gt;3</title>\n<path fill=\"none\" stroke=\"black\" d=\"M65.38,-261.21C72.22,-249.1 81.57,-232.53 89.35,-218.76\"/>\n<polygon fill=\"black\" stroke=\"black\" points=\"92.56,-220.19 94.43,-209.76 86.47,-216.74 92.56,-220.19\"/>\n<text text-anchor=\"middle\" x=\"88.9\" y=\"-231.8\" font-family=\"Times,serif\" font-size=\"14.00\">f4</text>\n</g>\n<!-- 3&#45;&gt;4 -->\n<g id=\"edge5\" class=\"edge\">\n<title>3&#45;&gt;4</title>\n<path fill=\"none\" stroke=\"black\" d=\"M112.39,-173.8C118.3,-161.85 126.27,-145.72 132.96,-132.18\"/>\n<polygon fill=\"black\" stroke=\"black\" points=\"136.26,-133.4 137.55,-122.89 129.98,-130.3 136.26,-133.4\"/>\n<text text-anchor=\"middle\" x=\"133.9\" y=\"-144.8\" font-family=\"Times,serif\" font-size=\"14.00\">f4</text>\n</g>\n<!-- 5 -->\n<g id=\"node5\" class=\"node\">\n<title>5</title>\n<ellipse fill=\"none\" stroke=\"black\" cx=\"145.9\" cy=\"-18\" rx=\"28.7\" ry=\"18\"/>\n<text text-anchor=\"middle\" x=\"145.9\" y=\"-14.3\" font-family=\"Times,serif\" font-size=\"14.00\">sd f5</text>\n</g>\n<!-- 4&#45;&gt;5 -->\n<g id=\"edge6\" class=\"edge\">\n<title>4&#45;&gt;5</title>\n<path fill=\"none\" stroke=\"black\" d=\"M145.9,-86.8C145.9,-75.16 145.9,-59.55 145.9,-46.24\"/>\n<polygon fill=\"black\" stroke=\"black\" points=\"149.4,-46.18 145.9,-36.18 142.4,-46.18 149.4,-46.18\"/>\n<text text-anchor=\"middle\" x=\"151.9\" y=\"-57.8\" font-family=\"Times,serif\" font-size=\"14.00\">f4</text>\n</g>\n</g>\n</svg>\n",
            "text/plain": [
              "<graphviz.graphs.Digraph at 0x7fb213459f70>"
            ]
          },
          "metadata": {},
          "execution_count": 1
        }
      ]
    },
    {
      "cell_type": "markdown",
      "source": [
        "5. Escreva o código do software pipeline em python e faça a validação.\n"
      ],
      "metadata": {
        "id": "nzJkvksSjuRH"
      }
    },
    {
      "cell_type": "code",
      "source": [
        "# Aqui temos o codigo emulado em Python\n",
        "#LOOP:\n",
        "#sd f5, 0 (r1)\n",
        "#mult f1,f3,f2\n",
        "#addf\n",
        "#Ld f3,0(r1)\n",
        "#addf f4,f3,f3 (2 * v[i])\n",
        "#addf f4,f4,f3 (2 * v[i] + v[i])\n",
        "#mult f5,f4,f3 ((2 * v[i] + v[i]) * v[i])\n",
        "#sd f5,0(r1)\n",
        "#Addi r1,r1,4\n",
        "#Beq r1,r2,LOOP\n",
        "l = [0,1,2,3,4,5,6,7,8,9,10,11,12,13,14,15,16,17,18,19,20,21,22,23,24,25,26,27,28,29,30]\n",
        "f1 = l[0]\n",
        "f2 = f1 + f1\n",
        "f2 = f2 + f1\n",
        "f2 = f2 * f1\n",
        "#executamos as 4 primeiras instruções da primeira iteração, precisa dar sd no f3 e f1,f2 estao livres f3 ocupado\n",
        "f1 = l[1]\n",
        "f3 = f1 + f1\n",
        "f3 = f3 + f1\n",
        "f4 = f1\n",
        "#executamos as 3 primeiras instruções da segunda iteração, precisa dar mul e multiplicar f1,f2 estao ocupados\n",
        "f1 = l[2]\n",
        "f5 = f1 + f1\n",
        "#executamos as 2 primeiras instruções da terceira iteração, precisa dar mul e multiplicar f4,f5 estao ocupados\n",
        "f6 = l[3]\n",
        "\n",
        "for i in range(20):\n",
        "   l[i] = f2\n",
        "   f2 = f3 * f4\n",
        "   f4 = f1\n",
        "   f3 = f5 + f1\n",
        "   f5 = f6 + f6\n",
        "   f1 = f6\n",
        "   f6 = l[i+4]\n",
        "\n",
        "\n",
        "print(l)\n",
        "print(l2)"
      ],
      "metadata": {
        "id": "cfYAncyIjpZg",
        "colab": {
          "base_uri": "https://localhost:8080/"
        },
        "outputId": "a2bcea89-ecbf-40d3-a257-03d4d0de3a25"
      },
      "execution_count": null,
      "outputs": [
        {
          "output_type": "stream",
          "name": "stdout",
          "text": [
            "[0, 3, 12, 27, 48, 75, 108, 147, 192, 243, 300, 363, 432, 507, 588, 675, 768, 867, 972, 1083, 20, 21, 22, 23, 24, 25, 26, 27, 28, 29, 30]\n",
            "[0, 3, 12, 27, 48, 75, 108, 147, 192, 243, 300, 363, 432, 507, 588, 675, 768, 867, 972, 1083]\n"
          ]
        }
      ]
    },
    {
      "cell_type": "markdown",
      "source": [
        "6. Faça a tabela de execução e calcule o CPI."
      ],
      "metadata": {
        "id": "ympb274GFlee"
      }
    },
    {
      "cell_type": "markdown",
      "source": [
        "Calculo da CPI = $(22-9)/9=13/9=1.4$\n",
        "\n",
        "Codigo | F | D | E | W | F | D | E | W\n",
        "---|---|---|---|---|---|---|---|---\n",
        "sd f2,0(r1) | 1| 2 | 34| - | 14 | 15 | 16-17 | -\n",
        "multf f2,f3,f4 | 2 | 3 | 4-8 | 9 | 15 | 16 | 17-21 | 22\n",
        "MV f4,f1 | 3| 4| 5| 6| |  |\n",
        "addf f3,f5,f1 | 4 | 5-6 | 7-9 | 10\n",
        "addf f5,f6,f6 | 5-6 | 7-9 | 10-12 | 13\n",
        "MV f1,f6 |7-9 | 10-11 | 12-13 | 14| |  |\n",
        "ld f6,4(r1) | 10-11 | 12 | 13-14 | 15\n",
        "Addi r1,r1,4 | 12 | 13 | 14 | 15\n",
        "Beq r1,r1,LOOP | 13 | 14 |  |"
      ],
      "metadata": {
        "id": "Ywky3TlDFrsI"
      }
    },
    {
      "cell_type": "markdown",
      "source": [
        "## Parte II\n",
        "\n",
        "\n",
        "\n",
        "```\n",
        "For i=0; i < N; i+=2\n",
        "  v[i] = v[i]+3\n",
        "  v[i+1] = v[i+1]*2 + v[i+1]\n",
        "```\n",
        "\n",
        "1. Escreva o codigo do loop em assembler\n",
        "2. Faça a simulação em Python\n",
        "3. Faça a tabela de execução e calcule o CPI\n",
        "4. Faça o grafo de dependência com graphviz\n",
        "5. Escreva o código do software pipeline em python e faça a validação.\n",
        "6. Faça a tabela de execução e calcule o CPI.\n",
        "\n"
      ],
      "metadata": {
        "id": "FuycTFCb1qjP"
      }
    },
    {
      "cell_type": "markdown",
      "source": [
        "1. Escreva o codigo do loop em assembler\n",
        "####LOOP: ld f3, 0(r1)\n",
        "####addf f3,f3,3 (v[i] + 3)\n",
        "####sd f3, 0(r1)\n",
        "####ld f4, 4(r1)\n",
        "####addf f5, f4, f4 (v[i] * 2)\n",
        "####addf f5, f5, f4 (v[i] * 2) + v[i]\n",
        "####sd f5, 4(ri)\n",
        "####addi r1, r1, 8\n",
        "####Bne r1,r2,LOOP\n"
      ],
      "metadata": {
        "id": "RmuDKxzi3eGd"
      }
    },
    {
      "cell_type": "markdown",
      "source": [
        "2. Faça a simulação em Python"
      ],
      "metadata": {
        "id": "44Fy0mwWkDi4"
      }
    },
    {
      "cell_type": "code",
      "source": [
        "# Aqui temos o codigo emulado em Python\n",
        "#LOOP: ld f3, 0(r1)\n",
        "#addf f3,f3,2 (v[i] + 2)\n",
        "#sd f3, 0(r1)\n",
        "#ld f3, 4(r1)\n",
        "#addf f4, f3, f3 (v[i] * 2)\n",
        "#addf f4, f4, f3 (v[i] * 2) + v[i]\n",
        "#sd f4, 4(ri)\n",
        "#addi r1, r1, 8\n",
        "#Beq r1,r2,LOOP\n",
        "l = [0,1,2,3,4,5,6,7,8,9,10,11,12,13,14,15,16,17,18,19,20,21,22,23,24,25,26,27,28,29,30]\n",
        "l2 = []\n",
        "\n",
        "for i in range(0,30,2):\n",
        "    first  = l[i]\n",
        "    second = l[i+1]\n",
        "    f3 = l[i]  # ld\n",
        "    f3 = f3+3 # addf\n",
        "    l[i] = f3 #addf\n",
        "    f3 = l[i+1] # ld\n",
        "    f4 = f3 + f3 # addf vi * 2\n",
        "    f4 = f4 + f3 #adff\n",
        "    l[i+1] = f4\n",
        "    l2.append(first+3)\n",
        "    l2.append((second * 2 )+ second)\n",
        "\n",
        "print(l)\n",
        "print(l2)"
      ],
      "metadata": {
        "colab": {
          "base_uri": "https://localhost:8080/"
        },
        "outputId": "f6a86bf8-7bfe-4ff6-e7ac-09c58a655e83",
        "id": "SWxCcZ6Q3jSD"
      },
      "execution_count": null,
      "outputs": [
        {
          "output_type": "stream",
          "name": "stdout",
          "text": [
            "[3, 3, 5, 9, 7, 15, 9, 21, 11, 27, 13, 33, 15, 39, 17, 45, 19, 51, 21, 57, 23, 63, 25, 69, 27, 75, 29, 81, 31, 87, 30]\n",
            "[3, 3, 5, 9, 7, 15, 9, 21, 11, 27, 13, 33, 15, 39, 17, 45, 19, 51, 21, 57, 23, 63, 25, 69, 27, 75, 29, 81, 31, 87]\n"
          ]
        }
      ]
    },
    {
      "cell_type": "markdown",
      "source": [
        "3. Faça a tabela de execução e calcule o CPI"
      ],
      "metadata": {
        "id": "5nuaJrMokGtp"
      }
    },
    {
      "cell_type": "markdown",
      "source": [
        "Calculo da CPI  = (25-5) / 9 = 2.22\n",
        "\n",
        "Codigo | F | D | E | W | F | D | E | W\n",
        "---|---|---|---|---|---|---|---|---\n",
        "ld f3, 0(r1) |1 |2 |3-4 |5 | 21| 22 |23-24|25\n",
        "addf f3, f3, 2|2| 3-4|5-7 |8 | |  |\n",
        "sd f3, 0(r1) |34 |57 | 89|- | |  |\n",
        "ld f4, 4(r1) | 57|8 |910 |11 | |  |\n",
        "addf f5,f4,f4 | 8|910 |11-13| 14| |  |\n",
        "addf f5,f5,f4 | 9-10|11-13 |14-16 |17 | |  |\n",
        "sd f5,4(r1) | 11-13|14-16 |17-18 |19 | |  |\n",
        "addi r1,r1,8 | 14-16|17 |1819 |20| |  |\n",
        "bne r1,r2,LOOP | 17 |1819 |20 | | |  |"
      ],
      "metadata": {
        "id": "PQOFtfS0fnyz"
      }
    },
    {
      "cell_type": "markdown",
      "source": [
        "4. Faça o grafo de dependência com graphviz"
      ],
      "metadata": {
        "id": "CybQGLFLkKCX"
      }
    },
    {
      "cell_type": "code",
      "source": [
        "from graphviz import Digraph\n",
        "fsm = Digraph()\n",
        "fsm.node('1','Ld F3')\n",
        "fsm.node('2','add f10,f3,2')\n",
        "fsm.node('8','mv f6, f10')\n",
        "fsm.node('3','sd f6, 0(ri)')\n",
        "fsm.node('4','ld f4')\n",
        "fsm.node('5','add f5, f4, f4')\n",
        "fsm.node('9','mv f7, f4')\n",
        "fsm.node('6','add f8,f5,f7')\n",
        "fsm.node('7','sd f8')\n",
        "\n",
        "\n",
        "\n",
        "fsm.edge('1','2','f3')\n",
        "fsm.edge('5','6','f5')\n",
        "fsm.edge('4','5','f4')\n",
        "fsm.edge('6','7','f8')\n",
        "fsm.edge('2','8','f10')\n",
        "fsm.edge('8','3','f6')\n",
        "fsm.edge('4','9','f4')\n",
        "fsm.edge('9','6','f7')\n",
        "\n",
        "\n",
        "fsm"
      ],
      "metadata": {
        "colab": {
          "base_uri": "https://localhost:8080/",
          "height": 427
        },
        "id": "EjauzXWg3qTi",
        "outputId": "e798c41c-b245-48d4-d99e-48abf1fec330"
      },
      "execution_count": null,
      "outputs": [
        {
          "output_type": "execute_result",
          "data": {
            "image/svg+xml": "<?xml version=\"1.0\" encoding=\"UTF-8\" standalone=\"no\"?>\n<!DOCTYPE svg PUBLIC \"-//W3C//DTD SVG 1.1//EN\"\n \"http://www.w3.org/Graphics/SVG/1.1/DTD/svg11.dtd\">\n<!-- Generated by graphviz version 2.43.0 (0)\n -->\n<!-- Title: %3 Pages: 1 -->\n<svg width=\"356pt\" height=\"305pt\"\n viewBox=\"0.00 0.00 356.14 305.00\" xmlns=\"http://www.w3.org/2000/svg\" xmlns:xlink=\"http://www.w3.org/1999/xlink\">\n<g id=\"graph0\" class=\"graph\" transform=\"scale(1 1) rotate(0) translate(4 301)\">\n<title>%3</title>\n<polygon fill=\"white\" stroke=\"transparent\" points=\"-4,4 -4,-301 352.14,-301 352.14,4 -4,4\"/>\n<!-- 1 -->\n<g id=\"node1\" class=\"node\">\n<title>1</title>\n<ellipse fill=\"none\" stroke=\"black\" cx=\"53.95\" cy=\"-279\" rx=\"32.49\" ry=\"18\"/>\n<text text-anchor=\"middle\" x=\"53.95\" y=\"-275.3\" font-family=\"Times,serif\" font-size=\"14.00\">Ld F3</text>\n</g>\n<!-- 2 -->\n<g id=\"node2\" class=\"node\">\n<title>2</title>\n<ellipse fill=\"none\" stroke=\"black\" cx=\"53.95\" cy=\"-192\" rx=\"53.89\" ry=\"18\"/>\n<text text-anchor=\"middle\" x=\"53.95\" y=\"-188.3\" font-family=\"Times,serif\" font-size=\"14.00\">add f10,f3,2</text>\n</g>\n<!-- 1&#45;&gt;2 -->\n<g id=\"edge1\" class=\"edge\">\n<title>1&#45;&gt;2</title>\n<path fill=\"none\" stroke=\"black\" d=\"M53.95,-260.8C53.95,-249.16 53.95,-233.55 53.95,-220.24\"/>\n<polygon fill=\"black\" stroke=\"black\" points=\"57.45,-220.18 53.95,-210.18 50.45,-220.18 57.45,-220.18\"/>\n<text text-anchor=\"middle\" x=\"59.95\" y=\"-231.8\" font-family=\"Times,serif\" font-size=\"14.00\">f3</text>\n</g>\n<!-- 8 -->\n<g id=\"node3\" class=\"node\">\n<title>8</title>\n<ellipse fill=\"none\" stroke=\"black\" cx=\"53.95\" cy=\"-105\" rx=\"48.99\" ry=\"18\"/>\n<text text-anchor=\"middle\" x=\"53.95\" y=\"-101.3\" font-family=\"Times,serif\" font-size=\"14.00\">mv f6, f10</text>\n</g>\n<!-- 2&#45;&gt;8 -->\n<g id=\"edge5\" class=\"edge\">\n<title>2&#45;&gt;8</title>\n<path fill=\"none\" stroke=\"black\" d=\"M53.95,-173.8C53.95,-162.16 53.95,-146.55 53.95,-133.24\"/>\n<polygon fill=\"black\" stroke=\"black\" points=\"57.45,-133.18 53.95,-123.18 50.45,-133.18 57.45,-133.18\"/>\n<text text-anchor=\"middle\" x=\"63.45\" y=\"-144.8\" font-family=\"Times,serif\" font-size=\"14.00\">f10</text>\n</g>\n<!-- 3 -->\n<g id=\"node4\" class=\"node\">\n<title>3</title>\n<ellipse fill=\"none\" stroke=\"black\" cx=\"53.95\" cy=\"-18\" rx=\"48.99\" ry=\"18\"/>\n<text text-anchor=\"middle\" x=\"53.95\" y=\"-14.3\" font-family=\"Times,serif\" font-size=\"14.00\">sd f6, 0(ri)</text>\n</g>\n<!-- 8&#45;&gt;3 -->\n<g id=\"edge6\" class=\"edge\">\n<title>8&#45;&gt;3</title>\n<path fill=\"none\" stroke=\"black\" d=\"M53.95,-86.8C53.95,-75.16 53.95,-59.55 53.95,-46.24\"/>\n<polygon fill=\"black\" stroke=\"black\" points=\"57.45,-46.18 53.95,-36.18 50.45,-46.18 57.45,-46.18\"/>\n<text text-anchor=\"middle\" x=\"59.95\" y=\"-57.8\" font-family=\"Times,serif\" font-size=\"14.00\">f6</text>\n</g>\n<!-- 4 -->\n<g id=\"node5\" class=\"node\">\n<title>4</title>\n<ellipse fill=\"none\" stroke=\"black\" cx=\"243.95\" cy=\"-279\" rx=\"27.1\" ry=\"18\"/>\n<text text-anchor=\"middle\" x=\"243.95\" y=\"-275.3\" font-family=\"Times,serif\" font-size=\"14.00\">ld f4</text>\n</g>\n<!-- 5 -->\n<g id=\"node6\" class=\"node\">\n<title>5</title>\n<ellipse fill=\"none\" stroke=\"black\" cx=\"183.95\" cy=\"-192\" rx=\"57.69\" ry=\"18\"/>\n<text text-anchor=\"middle\" x=\"183.95\" y=\"-188.3\" font-family=\"Times,serif\" font-size=\"14.00\">add f5, f4, f4</text>\n</g>\n<!-- 4&#45;&gt;5 -->\n<g id=\"edge3\" class=\"edge\">\n<title>4&#45;&gt;5</title>\n<path fill=\"none\" stroke=\"black\" d=\"M232.94,-262.41C224.2,-250.03 211.8,-232.47 201.67,-218.11\"/>\n<polygon fill=\"black\" stroke=\"black\" points=\"204.33,-215.81 195.7,-209.65 198.61,-219.84 204.33,-215.81\"/>\n<text text-anchor=\"middle\" x=\"223.95\" y=\"-231.8\" font-family=\"Times,serif\" font-size=\"14.00\">f4</text>\n</g>\n<!-- 9 -->\n<g id=\"node7\" class=\"node\">\n<title>9</title>\n<ellipse fill=\"none\" stroke=\"black\" cx=\"303.95\" cy=\"-192\" rx=\"44.39\" ry=\"18\"/>\n<text text-anchor=\"middle\" x=\"303.95\" y=\"-188.3\" font-family=\"Times,serif\" font-size=\"14.00\">mv f7, f4</text>\n</g>\n<!-- 4&#45;&gt;9 -->\n<g id=\"edge7\" class=\"edge\">\n<title>4&#45;&gt;9</title>\n<path fill=\"none\" stroke=\"black\" d=\"M254.95,-262.41C263.69,-250.03 276.09,-232.47 286.22,-218.11\"/>\n<polygon fill=\"black\" stroke=\"black\" points=\"289.28,-219.84 292.19,-209.65 283.56,-215.81 289.28,-219.84\"/>\n<text text-anchor=\"middle\" x=\"283.95\" y=\"-231.8\" font-family=\"Times,serif\" font-size=\"14.00\">f4</text>\n</g>\n<!-- 6 -->\n<g id=\"node8\" class=\"node\">\n<title>6</title>\n<ellipse fill=\"none\" stroke=\"black\" cx=\"242.95\" cy=\"-105\" rx=\"52.79\" ry=\"18\"/>\n<text text-anchor=\"middle\" x=\"242.95\" y=\"-101.3\" font-family=\"Times,serif\" font-size=\"14.00\">add f8,f5,f7</text>\n</g>\n<!-- 5&#45;&gt;6 -->\n<g id=\"edge2\" class=\"edge\">\n<title>5&#45;&gt;6</title>\n<path fill=\"none\" stroke=\"black\" d=\"M195.6,-174.21C204.09,-161.98 215.73,-145.21 225.34,-131.36\"/>\n<polygon fill=\"black\" stroke=\"black\" points=\"228.49,-132.97 231.31,-122.76 222.74,-128.98 228.49,-132.97\"/>\n<text text-anchor=\"middle\" x=\"223.95\" y=\"-144.8\" font-family=\"Times,serif\" font-size=\"14.00\">f5</text>\n</g>\n<!-- 9&#45;&gt;6 -->\n<g id=\"edge8\" class=\"edge\">\n<title>9&#45;&gt;6</title>\n<path fill=\"none\" stroke=\"black\" d=\"M292.18,-174.61C283.3,-162.23 270.94,-145.01 260.83,-130.92\"/>\n<polygon fill=\"black\" stroke=\"black\" points=\"263.55,-128.71 254.88,-122.63 257.87,-132.79 263.55,-128.71\"/>\n<text text-anchor=\"middle\" x=\"283.95\" y=\"-144.8\" font-family=\"Times,serif\" font-size=\"14.00\">f7</text>\n</g>\n<!-- 7 -->\n<g id=\"node9\" class=\"node\">\n<title>7</title>\n<ellipse fill=\"none\" stroke=\"black\" cx=\"242.95\" cy=\"-18\" rx=\"28.7\" ry=\"18\"/>\n<text text-anchor=\"middle\" x=\"242.95\" y=\"-14.3\" font-family=\"Times,serif\" font-size=\"14.00\">sd f8</text>\n</g>\n<!-- 6&#45;&gt;7 -->\n<g id=\"edge4\" class=\"edge\">\n<title>6&#45;&gt;7</title>\n<path fill=\"none\" stroke=\"black\" d=\"M242.95,-86.8C242.95,-75.16 242.95,-59.55 242.95,-46.24\"/>\n<polygon fill=\"black\" stroke=\"black\" points=\"246.45,-46.18 242.95,-36.18 239.45,-46.18 246.45,-46.18\"/>\n<text text-anchor=\"middle\" x=\"248.95\" y=\"-57.8\" font-family=\"Times,serif\" font-size=\"14.00\">f8</text>\n</g>\n</g>\n</svg>\n",
            "text/plain": [
              "<graphviz.graphs.Digraph at 0x7f40543dff70>"
            ]
          },
          "metadata": {},
          "execution_count": 4
        }
      ]
    },
    {
      "cell_type": "markdown",
      "source": [
        "5. Escreva o código do software pipeline em python e faça a validação."
      ],
      "metadata": {
        "id": "8lDHOYFxkPm5"
      }
    },
    {
      "cell_type": "code",
      "source": [
        "# Aqui temos o codigo emulado em Python\n",
        "#LOOP: ld f3, 0(r1)\n",
        "#addf f3,f3,2 (v[i] + 2)\n",
        "#sd f3, 0(r1)\n",
        "#ld f3, 4(r1)\n",
        "#addf f4, f3, f3 (v[i] * 2)\n",
        "#addf f4, f4, f3 (v[i] * 2) + v[i]\n",
        "#sd f4, 4(ri)\n",
        "#addi r1, r1, 8\n",
        "#Beq r1,r2,LOOP\n",
        "l = [0,1,2,3,4,5,6,7,8,9,10,11,12,13,14,15,16,17,18,19,20,21,22,23,24,25,26,27,28,29,30]\n",
        "\n",
        "#Sao 4 estagios, precisamos fazer os 3 primeiros da primeira iteracao\n",
        "f3=l[0]\n",
        "f4=l[1]\n",
        "\n",
        "f10 = f3+3\n",
        "f7 = f4\n",
        "f5 = f4+f4\n",
        "\n",
        "f6 = f10\n",
        "f8 = f5+f7\n",
        "\n",
        "#Os 2 primeiros da segunda iteração\n",
        "f3=l[2]\n",
        "f4= l[3]\n",
        "\n",
        "f10 = f3+3\n",
        "f7 = f4\n",
        "f5 = f4+f4\n",
        "\n",
        "# o 1 da terceira iteração\n",
        "f3 = l[4]\n",
        "f4 = l[5]\n",
        "\n",
        "for i in range(0,23,2):\n",
        "    # estagio 4\n",
        "    l[i] = f6\n",
        "    l[i+1] = f8\n",
        "\n",
        "    #estagio 3\n",
        "    f6 = f10\n",
        "    f8 = f5+f7\n",
        "\n",
        "    #estagio 2\n",
        "    f10=f3+3\n",
        "    f7 = f4\n",
        "    f5 = f4+f4\n",
        "\n",
        "    #estagio 1\n",
        "    f3 = l[i+6]\n",
        "    f4 = l[i+7]\n",
        "\n",
        "print(l[:23])\n",
        "print(l2[:23])"
      ],
      "metadata": {
        "colab": {
          "base_uri": "https://localhost:8080/"
        },
        "id": "d3WXeDtU4wU3",
        "outputId": "299a4dad-5953-436c-a177-7293db009eea"
      },
      "execution_count": null,
      "outputs": [
        {
          "output_type": "stream",
          "name": "stdout",
          "text": [
            "[3, 3, 5, 9, 7, 15, 9, 21, 11, 27, 13, 33, 15, 39, 17, 45, 19, 51, 21, 57, 23, 63, 25]\n",
            "[3, 3, 5, 9, 7, 15, 9, 21, 11, 27, 13, 33, 15, 39, 17, 45, 19, 51, 21, 57, 23, 63, 25]\n"
          ]
        }
      ]
    },
    {
      "cell_type": "markdown",
      "source": [
        "6. Faça a tabela de execução e calcule o CPI."
      ],
      "metadata": {
        "id": "vSno6SGBkT03"
      }
    },
    {
      "cell_type": "markdown",
      "source": [
        "Calculo da CPI  = (17-5) / 11 = 1,09\n",
        "\n",
        "Codigo | F | D | E | W | F | D | E | W\n",
        "---|---|---|---|---|---|---|---|---\n",
        "sd f6,0(r1) |1|2|34|-|13|14|1516|17\n",
        "mv f6,f10 |2|3|45|6|||\n",
        "sd f8,4(r1) |3|4|56|7|||\n",
        "add f8,f5,f7 |4|5|678|9|||\n",
        "addi f10,f3,2 |5|6|7|8|||\n",
        "mv f7,f4 |6|78|9|10|||\n",
        "ld f3,0(r1) |7|8|910|11|||\n",
        "add f5,f4,f4 |8|9|10-12|13|||\n",
        "add r1,r1,4 |9|10|11|12\n",
        "ld f4,4(r1) |10|11|1213|14|||\n",
        "bne r1,r2,loop | 11|12"
      ],
      "metadata": {
        "id": "6jN0pApQ_0uD"
      }
    },
    {
      "cell_type": "markdown",
      "source": [
        "## Parte III\n",
        "\n",
        "\n",
        "\n",
        "```\n",
        "For i=0; i < N; i+=2\n",
        "  v[i] = (v[i]+2)*v[i+1]\n",
        "  v[i+1] = v[i+1]*2 + v[i]\n",
        "```\n",
        "\n",
        "1. Escreva o codigo do loop em assembler\n",
        "2. Faça a simulação em Python\n",
        "3. Faça a tabela de execução e calcule o CPI\n",
        "4. Faça o grafo de dependência com graphviz\n",
        "5. Escreva o código do software pipeline em python e faça a validação.\n",
        "6. Faça a tabela de execução e calcule o CPI.\n",
        "\n"
      ],
      "metadata": {
        "id": "4k6Oup_Otd9F"
      }
    },
    {
      "cell_type": "markdown",
      "source": [
        "1. Escreva o codigo do loop em assembler\n",
        "\n"
      ],
      "metadata": {
        "id": "WL73Lh6Vtd9H"
      }
    },
    {
      "cell_type": "code",
      "source": [
        "loop: addi, r2, r2, 4 # i+=2\n",
        "ld f1, 0(r1) # v[i]\n",
        "ld f2, 4(r1) # v[i+1]\n",
        "\n",
        "addf f3,f1,2 # (v[i]+2)\n",
        "multf f4,f3,f2 # (v[i]+2) * v[i+1]\n",
        "sd f4, 0(r1) # v[i] = (v[i]+2) * v[i+1]\n",
        "\n",
        "multf f5, f2, 2 # v[i+1]*2\n",
        "addf f6, f5, f1 # v[i+1]*2 + v[i]\n",
        "sd f6, 4(r2) # v[i+1] = v[i+1]*2 + v[i]\n",
        "\n",
        "addi r1, r1, 8\n",
        "beq r1, r2, loop"
      ],
      "metadata": {
        "id": "TpPq6aou4hQ-"
      },
      "execution_count": null,
      "outputs": []
    },
    {
      "cell_type": "markdown",
      "source": [
        "2. Faça a simulação em Python"
      ],
      "metadata": {
        "id": "rSW_m_wOtd9K"
      }
    },
    {
      "cell_type": "code",
      "source": [
        "# loop: addi, r2, r2, 4 # i+=2\n",
        "# ld f1, 0(r1) # v[i]\n",
        "# ld f2, 4(r1) # v[i+1]\n",
        "\n",
        "# addf f1,f1,2 # (v[i]+2)\n",
        "# multf f1,f1,f2 # (v[i]+2) * v[i+1]\n",
        "# sd f1, 0(r1) # v[i] = (v[i]+2) * v[i+1]\n",
        "\n",
        "# multf f2, f2, 2 # v[i+1]*2\n",
        "# addf f2, f2, f1 # v[i+1]*2 + v[i]\n",
        "# sd f2, 4(r2) # v[i+1] = v[i+1]*2 + v[i]\n",
        "\n",
        "# addi r1, r1, 4\n",
        "# beq r1, r2, loop\n",
        "import random\n",
        "\n",
        "l = [i for i in range(50)]\n",
        "l2 = [i for i in range(50)]\n",
        "\n",
        "for i in range(0, len(l), 2):\n",
        "  f1 = l[i]\n",
        "  f2 = l[i+1]\n",
        "  f1 = f1+2\n",
        "  f1 = f1*f2\n",
        "  l[i] = f1\n",
        "  f2 = f2*2\n",
        "  f2 = f2+f1\n",
        "  l[i+1] = f2\n",
        "\n",
        "for i in range(0, len(l2), 2):\n",
        "  l2[i] = (l2[i]+2)*l2[i+1]\n",
        "  l2[i+1] = l2[i+1]*2 + l2[i]\n",
        "\n",
        "\n",
        "for i in range(len(l2)):\n",
        "  if l[i] != l2[i]:\n",
        "    print(\"Algum erro no software pipeline\")\n",
        "\n",
        "print(l)\n",
        "print(l2)"
      ],
      "metadata": {
        "colab": {
          "base_uri": "https://localhost:8080/"
        },
        "id": "oGm-arvd-oIA",
        "outputId": "3f05e0f3-676f-47dc-c286-c347e1b9297d"
      },
      "execution_count": null,
      "outputs": [
        {
          "output_type": "stream",
          "name": "stdout",
          "text": [
            "[2, 4, 12, 18, 30, 40, 56, 70, 90, 108, 132, 154, 182, 208, 240, 270, 306, 340, 380, 418, 462, 504, 552, 598, 650, 700, 756, 810, 870, 928, 992, 1054, 1122, 1188, 1260, 1330, 1406, 1480, 1560, 1638, 1722, 1804, 1892, 1978, 2070, 2160, 2256, 2350, 2450, 2548]\n",
            "[2, 4, 12, 18, 30, 40, 56, 70, 90, 108, 132, 154, 182, 208, 240, 270, 306, 340, 380, 418, 462, 504, 552, 598, 650, 700, 756, 810, 870, 928, 992, 1054, 1122, 1188, 1260, 1330, 1406, 1480, 1560, 1638, 1722, 1804, 1892, 1978, 2070, 2160, 2256, 2350, 2450, 2548]\n"
          ]
        }
      ]
    },
    {
      "cell_type": "markdown",
      "source": [
        "3. Faça a tabela de execução e calcule o CPI\n",
        "\n",
        "Calculo da CPI = $(21-5)/11=16/10=1,6$\n",
        "\n",
        "Codigo | F | D | E | W | F | D | E | W\n",
        "---|---|---|---|---|---|---|---|---\n",
        "ld f1,0(r1)|1|2|3-4|5|17|18|19-20|21\n",
        "ld f2,4(r1)|2|3|4-5|6|18|19|20-21|22\n",
        "addf f3,f1,2|3|4|5-7|8\n",
        "multf f4,f1,f2|4|5-7|8-12|13\n",
        "sd f4, 0(r1)|5|6|7-8|-\n",
        "multf f5, f2, 2|6|7|8-12.13|14\n",
        "addf f6, f5, f1|7|8-13|14-16|17\n",
        "sd f6, 4(r2) |8-13|14|15-16| -\n",
        "addi r1, r1, 4|14|15|16|17\n",
        "beq r1, r2, loop|15|16|-|-"
      ],
      "metadata": {
        "id": "Y5EiD6idtd9M"
      }
    },
    {
      "cell_type": "markdown",
      "source": [
        "4. Faça o grafo de dependência com graphviz"
      ],
      "metadata": {
        "id": "oY2kvzp9td9N"
      }
    },
    {
      "cell_type": "code",
      "source": [
        "from graphviz import Digraph\n",
        "fsm = Digraph()\n",
        "# ld f1, 0(r1) # v[i]\n",
        "# ld f2, 4(r1) # v[i+1]\n",
        "\n",
        "# addf f1,f1,2 # (v[i]+2)\n",
        "# multf f1,f1,f2 # (v[i]+2) * v[i+1]\n",
        "# sd f1, 0(r1) # v[i] = (v[i]+2) * v[i+1]\n",
        "\n",
        "# multf f2, f2, 2 # v[i+1]*2\n",
        "# addf f2, f2, f1 # v[i+1]*2 + v[i]\n",
        "# sd f2, 4(r2) # v[i+1] = v[i+1]*2 + v[i]\n",
        "\n",
        "# addi r1, r1, 4\n",
        "# beq r1, r2, loop\n",
        "\n",
        "\n",
        "\n",
        "\n",
        "\n",
        "fsm.node('1','ld f1,0(r1)')\n",
        "fsm.node('2','ld f2,4(r1)')\n",
        "fsm.node('3','addf f1,f1,2')\n",
        "fsm.node('4','multf f1,f1,f2')\n",
        "fsm.node('5','sd f1, 0(r1)')\n",
        "fsm.node('6','multf f2, f2, 2')\n",
        "fsm.node('7','addf f2, f2, f1')\n",
        "fsm.node('8','sd f2, 4(r2)')\n",
        "# fsm.node('9','addi r1, r1, 4')\n",
        "# fsm.node('10','beq r1, r2, loop')\n",
        "\n",
        "fsm.edge('1','3','f1')\n",
        "fsm.edge('3','4','f1')\n",
        "fsm.edge('2','6','f2')\n",
        "fsm.edge('2','4','f2')\n",
        "fsm.edge('4','5','f1')\n",
        "fsm.edge('4','7','f1')\n",
        "fsm.edge('7','8','f2')\n",
        "# fsm.edge('9','10','r1')\n",
        "fsm.edge('6','7','f2')\n",
        "\n",
        "fsm\n",
        "\n",
        "# For i=0; i < N; i+=2\n",
        "#   v[i] = (v[i]+2)*v[i+1]\n",
        "#   v[i+1] = v[i+1]*2 + v[i]"
      ],
      "metadata": {
        "colab": {
          "base_uri": "https://localhost:8080/",
          "height": 544
        },
        "id": "IsZ9kk4TKEIb",
        "outputId": "111de9f8-94e3-4a2c-8ee9-b4979dcf39d8"
      },
      "execution_count": null,
      "outputs": [
        {
          "output_type": "execute_result",
          "data": {
            "image/svg+xml": "<?xml version=\"1.0\" encoding=\"UTF-8\" standalone=\"no\"?>\n<!DOCTYPE svg PUBLIC \"-//W3C//DTD SVG 1.1//EN\"\n \"http://www.w3.org/Graphics/SVG/1.1/DTD/svg11.dtd\">\n<!-- Generated by graphviz version 2.43.0 (0)\n -->\n<!-- Title: %3 Pages: 1 -->\n<svg width=\"270pt\" height=\"392pt\"\n viewBox=\"0.00 0.00 269.54 392.00\" xmlns=\"http://www.w3.org/2000/svg\" xmlns:xlink=\"http://www.w3.org/1999/xlink\">\n<g id=\"graph0\" class=\"graph\" transform=\"scale(1 1) rotate(0) translate(4 388)\">\n<title>%3</title>\n<polygon fill=\"white\" stroke=\"transparent\" points=\"-4,4 -4,-388 265.54,-388 265.54,4 -4,4\"/>\n<!-- 1 -->\n<g id=\"node1\" class=\"node\">\n<title>1</title>\n<ellipse fill=\"none\" stroke=\"black\" cx=\"59.79\" cy=\"-366\" rx=\"47.39\" ry=\"18\"/>\n<text text-anchor=\"middle\" x=\"59.79\" y=\"-362.3\" font-family=\"Times,serif\" font-size=\"14.00\">ld f1,0(r1)</text>\n</g>\n<!-- 3 -->\n<g id=\"node3\" class=\"node\">\n<title>3</title>\n<ellipse fill=\"none\" stroke=\"black\" cx=\"59.79\" cy=\"-279\" rx=\"52.79\" ry=\"18\"/>\n<text text-anchor=\"middle\" x=\"59.79\" y=\"-275.3\" font-family=\"Times,serif\" font-size=\"14.00\">addf f1,f1,2</text>\n</g>\n<!-- 1&#45;&gt;3 -->\n<g id=\"edge1\" class=\"edge\">\n<title>1&#45;&gt;3</title>\n<path fill=\"none\" stroke=\"black\" d=\"M59.79,-347.8C59.79,-336.16 59.79,-320.55 59.79,-307.24\"/>\n<polygon fill=\"black\" stroke=\"black\" points=\"63.29,-307.18 59.79,-297.18 56.29,-307.18 63.29,-307.18\"/>\n<text text-anchor=\"middle\" x=\"65.79\" y=\"-318.8\" font-family=\"Times,serif\" font-size=\"14.00\">f1</text>\n</g>\n<!-- 2 -->\n<g id=\"node2\" class=\"node\">\n<title>2</title>\n<ellipse fill=\"none\" stroke=\"black\" cx=\"188.79\" cy=\"-279\" rx=\"47.39\" ry=\"18\"/>\n<text text-anchor=\"middle\" x=\"188.79\" y=\"-275.3\" font-family=\"Times,serif\" font-size=\"14.00\">ld f2,4(r1)</text>\n</g>\n<!-- 4 -->\n<g id=\"node4\" class=\"node\">\n<title>4</title>\n<ellipse fill=\"none\" stroke=\"black\" cx=\"59.79\" cy=\"-192\" rx=\"59.59\" ry=\"18\"/>\n<text text-anchor=\"middle\" x=\"59.79\" y=\"-188.3\" font-family=\"Times,serif\" font-size=\"14.00\">multf f1,f1,f2</text>\n</g>\n<!-- 2&#45;&gt;4 -->\n<g id=\"edge4\" class=\"edge\">\n<title>2&#45;&gt;4</title>\n<path fill=\"none\" stroke=\"black\" d=\"M166.03,-263C145.51,-249.48 115.1,-229.44 92.07,-214.27\"/>\n<polygon fill=\"black\" stroke=\"black\" points=\"93.92,-211.29 83.64,-208.71 90.07,-217.14 93.92,-211.29\"/>\n<text text-anchor=\"middle\" x=\"137.79\" y=\"-231.8\" font-family=\"Times,serif\" font-size=\"14.00\">f2</text>\n</g>\n<!-- 6 -->\n<g id=\"node6\" class=\"node\">\n<title>6</title>\n<ellipse fill=\"none\" stroke=\"black\" cx=\"199.79\" cy=\"-192\" rx=\"61.99\" ry=\"18\"/>\n<text text-anchor=\"middle\" x=\"199.79\" y=\"-188.3\" font-family=\"Times,serif\" font-size=\"14.00\">multf f2, f2, 2</text>\n</g>\n<!-- 2&#45;&gt;6 -->\n<g id=\"edge3\" class=\"edge\">\n<title>2&#45;&gt;6</title>\n<path fill=\"none\" stroke=\"black\" d=\"M191.02,-260.8C192.53,-249.16 194.55,-233.55 196.27,-220.24\"/>\n<polygon fill=\"black\" stroke=\"black\" points=\"199.76,-220.54 197.57,-210.18 192.82,-219.64 199.76,-220.54\"/>\n<text text-anchor=\"middle\" x=\"200.79\" y=\"-231.8\" font-family=\"Times,serif\" font-size=\"14.00\">f2</text>\n</g>\n<!-- 3&#45;&gt;4 -->\n<g id=\"edge2\" class=\"edge\">\n<title>3&#45;&gt;4</title>\n<path fill=\"none\" stroke=\"black\" d=\"M59.79,-260.8C59.79,-249.16 59.79,-233.55 59.79,-220.24\"/>\n<polygon fill=\"black\" stroke=\"black\" points=\"63.29,-220.18 59.79,-210.18 56.29,-220.18 63.29,-220.18\"/>\n<text text-anchor=\"middle\" x=\"65.79\" y=\"-231.8\" font-family=\"Times,serif\" font-size=\"14.00\">f1</text>\n</g>\n<!-- 5 -->\n<g id=\"node5\" class=\"node\">\n<title>5</title>\n<ellipse fill=\"none\" stroke=\"black\" cx=\"59.79\" cy=\"-105\" rx=\"50.89\" ry=\"18\"/>\n<text text-anchor=\"middle\" x=\"59.79\" y=\"-101.3\" font-family=\"Times,serif\" font-size=\"14.00\">sd f1, 0(r1)</text>\n</g>\n<!-- 4&#45;&gt;5 -->\n<g id=\"edge5\" class=\"edge\">\n<title>4&#45;&gt;5</title>\n<path fill=\"none\" stroke=\"black\" d=\"M59.79,-173.8C59.79,-162.16 59.79,-146.55 59.79,-133.24\"/>\n<polygon fill=\"black\" stroke=\"black\" points=\"63.29,-133.18 59.79,-123.18 56.29,-133.18 63.29,-133.18\"/>\n<text text-anchor=\"middle\" x=\"65.79\" y=\"-144.8\" font-family=\"Times,serif\" font-size=\"14.00\">f1</text>\n</g>\n<!-- 7 -->\n<g id=\"node7\" class=\"node\">\n<title>7</title>\n<ellipse fill=\"none\" stroke=\"black\" cx=\"193.79\" cy=\"-105\" rx=\"60.39\" ry=\"18\"/>\n<text text-anchor=\"middle\" x=\"193.79\" y=\"-101.3\" font-family=\"Times,serif\" font-size=\"14.00\">addf f2, f2, f1</text>\n</g>\n<!-- 4&#45;&gt;7 -->\n<g id=\"edge6\" class=\"edge\">\n<title>4&#45;&gt;7</title>\n<path fill=\"none\" stroke=\"black\" d=\"M84.37,-175.41C105.81,-161.81 137.1,-141.97 160.73,-126.98\"/>\n<polygon fill=\"black\" stroke=\"black\" points=\"162.8,-129.8 169.37,-121.49 159.05,-123.89 162.8,-129.8\"/>\n<text text-anchor=\"middle\" x=\"140.79\" y=\"-144.8\" font-family=\"Times,serif\" font-size=\"14.00\">f1</text>\n</g>\n<!-- 6&#45;&gt;7 -->\n<g id=\"edge8\" class=\"edge\">\n<title>6&#45;&gt;7</title>\n<path fill=\"none\" stroke=\"black\" d=\"M198.58,-173.8C197.76,-162.16 196.66,-146.55 195.72,-133.24\"/>\n<polygon fill=\"black\" stroke=\"black\" points=\"199.2,-132.9 195.01,-123.18 192.22,-133.4 199.2,-132.9\"/>\n<text text-anchor=\"middle\" x=\"202.79\" y=\"-144.8\" font-family=\"Times,serif\" font-size=\"14.00\">f2</text>\n</g>\n<!-- 8 -->\n<g id=\"node8\" class=\"node\">\n<title>8</title>\n<ellipse fill=\"none\" stroke=\"black\" cx=\"193.79\" cy=\"-18\" rx=\"50.89\" ry=\"18\"/>\n<text text-anchor=\"middle\" x=\"193.79\" y=\"-14.3\" font-family=\"Times,serif\" font-size=\"14.00\">sd f2, 4(r2)</text>\n</g>\n<!-- 7&#45;&gt;8 -->\n<g id=\"edge7\" class=\"edge\">\n<title>7&#45;&gt;8</title>\n<path fill=\"none\" stroke=\"black\" d=\"M193.79,-86.8C193.79,-75.16 193.79,-59.55 193.79,-46.24\"/>\n<polygon fill=\"black\" stroke=\"black\" points=\"197.29,-46.18 193.79,-36.18 190.29,-46.18 197.29,-46.18\"/>\n<text text-anchor=\"middle\" x=\"199.79\" y=\"-57.8\" font-family=\"Times,serif\" font-size=\"14.00\">f2</text>\n</g>\n</g>\n</svg>\n",
            "text/plain": [
              "<graphviz.graphs.Digraph at 0x7f785e0f1a80>"
            ]
          },
          "metadata": {},
          "execution_count": 3
        }
      ]
    },
    {
      "cell_type": "markdown",
      "source": [
        "5. Escreva o código do software pipeline em python e faça a validação."
      ],
      "metadata": {
        "id": "ZNWneNGltd9Q"
      }
    },
    {
      "cell_type": "code",
      "source": [
        "# loop: addi, r2, r2, 4 # i+=2\n",
        "# ld f1, 0(r1) # v[i]\n",
        "# ld f2, 4(r1) # v[i+1]\n",
        "\n",
        "# addf f1,f1,2 # (v[i]+2)\n",
        "# multf f1,f1,f2 # (v[i]+2) * v[i+1]\n",
        "# sd f1, 0(r1) # v[i] = (v[i]+2) * v[i+1]\n",
        "\n",
        "# multf f2, f2, 2 # v[i+1]*2\n",
        "# addf f2, f2, f1 # v[i+1]*2 + v[i]\n",
        "# sd f2, 4(r2) # v[i+1] = v[i+1]*2 + v[i]\n",
        "\n",
        "# addi r1, r1, 4\n",
        "# beq r1, r2, loop\n",
        "\n",
        "\n",
        "\n",
        "#LOOP\n",
        "# sd f1\n",
        "# sd f2\n",
        "# multf f1,f3,f8\n",
        "# addf f2, f1, f4\n",
        "# addf f3,f5,2\n",
        "# mv f8,f6\n",
        "# multf f4, f6, 2\n",
        "# ld f5\n",
        "# ld f6\n",
        "\n",
        "\n",
        "l = [i for i in range(50)]\n",
        "l2 = [i for i in range(50)]\n",
        "\n",
        "# f1 =l[0]\n",
        "# f2=l[1]\n",
        "# f9=f2\n",
        "# f3=f1+2\n",
        "# f4=f2*2\n",
        "# f5=f3*f9\n",
        "# f6=f5+f4\n",
        "\n",
        "# f1=l[2]\n",
        "# f2=l[3]\n",
        "# f9=f2\n",
        "# f3=f1+2\n",
        "# f4=f2*2\n",
        "\n",
        "# f1=l[4]\n",
        "# f2=l[5]\n",
        "\n",
        "f5=l[0]\n",
        "f6=l[1]\n",
        "f8=f6\n",
        "f3=f5+2\n",
        "f4=f6*2\n",
        "f1=f3*f8\n",
        "f2=f4*f1\n",
        "\n",
        "f5=l[2]\n",
        "f6=l[3]\n",
        "f3=f5*2\n",
        "f8=f6\n",
        "f4=f6*2\n",
        "\n",
        "f5=l[4]\n",
        "f6=l[5]\n",
        "\n",
        "\n",
        "for i in range(0, len(l) - 10, 2):\n",
        "  l[i]=f1\n",
        "  f1=f3*f8\n",
        "  l[i+1]=f2\n",
        "  f3=f5+2\n",
        "  f8=f6\n",
        "\n",
        "  f2=f1+f4\n",
        "  f4=f6*2\n",
        "\n",
        "\n",
        "  f5=l[i+6]\n",
        "  f6=l[i+7]\n",
        "\n",
        "for i in range(0, len(l2) -10, 2):\n",
        "  l2[i] = (l2[i]+2)*l2[i+1]\n",
        "  l2[i+1] = l2[i+1]*2 + l2[i]\n",
        "\n",
        "print(l)\n",
        "print(l2)"
      ],
      "metadata": {
        "colab": {
          "base_uri": "https://localhost:8080/"
        },
        "id": "8J3eLf8efBMv",
        "outputId": "1e8959ff-c049-4067-a1f2-fa286f781711"
      },
      "execution_count": null,
      "outputs": [
        {
          "output_type": "stream",
          "name": "stdout",
          "text": [
            "[2, 4, 12, 18, 30, 40, 56, 70, 90, 108, 132, 154, 182, 208, 240, 270, 306, 340, 380, 418, 462, 504, 552, 598, 650, 700, 756, 810, 870, 928, 992, 1054, 1122, 1188, 1260, 1330, 1406, 1480, 1560, 1638, 40, 41, 42, 43, 44, 45, 46, 47, 48, 49]\n",
            "[2, 4, 12, 18, 30, 40, 56, 70, 90, 108, 132, 154, 182, 208, 240, 270, 306, 340, 380, 418, 462, 504, 552, 598, 650, 700, 756, 810, 870, 928, 992, 1054, 1122, 1188, 1260, 1330, 1406, 1480, 1560, 1638, 40, 41, 42, 43, 44, 45, 46, 47, 48, 49]\n"
          ]
        }
      ]
    },
    {
      "cell_type": "markdown",
      "source": [
        "6. Faça a tabela de execução e calcule o CPI.\n",
        "\n",
        "Calculo da CPI = $(18-5)/11=13/11=1.18$\n",
        "\n",
        "Codigo | F | D | E | W | F | D | E | W\n",
        "---|---|---|---|---|---|---|---|---\n",
        "sd f1,0(r1)|1|2|3-4|5|14|15|16-17|18\n",
        "multf f1,f3,f8|2|3|4-8|9\n",
        "sd f2,4(r1)|3|4|5-6|7\n",
        "addf f3,f5,2|4|5|6-8...9|10\n",
        "mv f8,f6|5|6|7|8\n",
        "addf f2,f1f4|6|7|8-10...11|12\n",
        "multf f4,f6,2|7|8|9-13|14\n",
        "addi r1,r1,4|8|9|10|11\n",
        "ld f5,20(r1)|9|10|11-12|13\n",
        "ld f6,24(r1)|10|11-12|13-14|15\n",
        "bn1 r1,r2,loop|11-12|13|-|-\n",
        "\n",
        "\n",
        "\n"
      ],
      "metadata": {
        "id": "rNZz5f0Etd9U"
      }
    }
  ]
}