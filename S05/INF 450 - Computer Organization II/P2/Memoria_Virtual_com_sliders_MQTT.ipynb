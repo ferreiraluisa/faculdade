{
  "nbformat": 4,
  "nbformat_minor": 0,
  "metadata": {
    "colab": {
      "provenance": []
    },
    "kernelspec": {
      "name": "python3",
      "display_name": "Python 3"
    },
    "language_info": {
      "name": "python"
    },
    "widgets": {
      "application/vnd.jupyter.widget-state+json": {
        "b615c870b32d4d44ac9e58e68eb80fca": {
          "model_module": "@jupyter-widgets/controls",
          "model_name": "IntTextModel",
          "model_module_version": "1.5.0",
          "state": {
            "_dom_classes": [],
            "_model_module": "@jupyter-widgets/controls",
            "_model_module_version": "1.5.0",
            "_model_name": "IntTextModel",
            "_view_count": null,
            "_view_module": "@jupyter-widgets/controls",
            "_view_module_version": "1.5.0",
            "_view_name": "IntTextView",
            "continuous_update": false,
            "description": "Digite um número inteiro:",
            "description_tooltip": null,
            "disabled": false,
            "layout": "IPY_MODEL_098c6ded02b34d1b9357c45cdf6bdbf0",
            "step": 1,
            "style": "IPY_MODEL_ca13664f22e443628fc1352178bd030c",
            "value": 1025
          }
        },
        "098c6ded02b34d1b9357c45cdf6bdbf0": {
          "model_module": "@jupyter-widgets/base",
          "model_name": "LayoutModel",
          "model_module_version": "1.2.0",
          "state": {
            "_model_module": "@jupyter-widgets/base",
            "_model_module_version": "1.2.0",
            "_model_name": "LayoutModel",
            "_view_count": null,
            "_view_module": "@jupyter-widgets/base",
            "_view_module_version": "1.2.0",
            "_view_name": "LayoutView",
            "align_content": null,
            "align_items": null,
            "align_self": null,
            "border": null,
            "bottom": null,
            "display": null,
            "flex": null,
            "flex_flow": null,
            "grid_area": null,
            "grid_auto_columns": null,
            "grid_auto_flow": null,
            "grid_auto_rows": null,
            "grid_column": null,
            "grid_gap": null,
            "grid_row": null,
            "grid_template_areas": null,
            "grid_template_columns": null,
            "grid_template_rows": null,
            "height": null,
            "justify_content": null,
            "justify_items": null,
            "left": null,
            "margin": null,
            "max_height": null,
            "max_width": null,
            "min_height": null,
            "min_width": null,
            "object_fit": null,
            "object_position": null,
            "order": null,
            "overflow": null,
            "overflow_x": null,
            "overflow_y": null,
            "padding": null,
            "right": null,
            "top": null,
            "visibility": null,
            "width": null
          }
        },
        "ca13664f22e443628fc1352178bd030c": {
          "model_module": "@jupyter-widgets/controls",
          "model_name": "DescriptionStyleModel",
          "model_module_version": "1.5.0",
          "state": {
            "_model_module": "@jupyter-widgets/controls",
            "_model_module_version": "1.5.0",
            "_model_name": "DescriptionStyleModel",
            "_view_count": null,
            "_view_module": "@jupyter-widgets/base",
            "_view_module_version": "1.2.0",
            "_view_name": "StyleView",
            "description_width": ""
          }
        },
        "1c7a40b7f0c840a2a76704d1653a85ec": {
          "model_module": "@jupyter-widgets/controls",
          "model_name": "ButtonModel",
          "model_module_version": "1.5.0",
          "state": {
            "_dom_classes": [],
            "_model_module": "@jupyter-widgets/controls",
            "_model_module_version": "1.5.0",
            "_model_name": "ButtonModel",
            "_view_count": null,
            "_view_module": "@jupyter-widgets/controls",
            "_view_module_version": "1.5.0",
            "_view_name": "ButtonView",
            "button_style": "",
            "description": "Responder",
            "disabled": false,
            "icon": "",
            "layout": "IPY_MODEL_a7e389c5afa64e5e9009cadce0238b8e",
            "style": "IPY_MODEL_f3604bca70a34054841f5d6236ed0817",
            "tooltip": ""
          }
        },
        "a7e389c5afa64e5e9009cadce0238b8e": {
          "model_module": "@jupyter-widgets/base",
          "model_name": "LayoutModel",
          "model_module_version": "1.2.0",
          "state": {
            "_model_module": "@jupyter-widgets/base",
            "_model_module_version": "1.2.0",
            "_model_name": "LayoutModel",
            "_view_count": null,
            "_view_module": "@jupyter-widgets/base",
            "_view_module_version": "1.2.0",
            "_view_name": "LayoutView",
            "align_content": null,
            "align_items": null,
            "align_self": null,
            "border": null,
            "bottom": null,
            "display": null,
            "flex": null,
            "flex_flow": null,
            "grid_area": null,
            "grid_auto_columns": null,
            "grid_auto_flow": null,
            "grid_auto_rows": null,
            "grid_column": null,
            "grid_gap": null,
            "grid_row": null,
            "grid_template_areas": null,
            "grid_template_columns": null,
            "grid_template_rows": null,
            "height": null,
            "justify_content": null,
            "justify_items": null,
            "left": null,
            "margin": null,
            "max_height": null,
            "max_width": null,
            "min_height": null,
            "min_width": null,
            "object_fit": null,
            "object_position": null,
            "order": null,
            "overflow": null,
            "overflow_x": null,
            "overflow_y": null,
            "padding": null,
            "right": null,
            "top": null,
            "visibility": null,
            "width": null
          }
        },
        "f3604bca70a34054841f5d6236ed0817": {
          "model_module": "@jupyter-widgets/controls",
          "model_name": "ButtonStyleModel",
          "model_module_version": "1.5.0",
          "state": {
            "_model_module": "@jupyter-widgets/controls",
            "_model_module_version": "1.5.0",
            "_model_name": "ButtonStyleModel",
            "_view_count": null,
            "_view_module": "@jupyter-widgets/base",
            "_view_module_version": "1.2.0",
            "_view_name": "StyleView",
            "button_color": null,
            "font_weight": ""
          }
        },
        "a663120b1ff94319a26bf84c2ca26758": {
          "model_module": "@jupyter-widgets/controls",
          "model_name": "IntTextModel",
          "model_module_version": "1.5.0",
          "state": {
            "_dom_classes": [],
            "_model_module": "@jupyter-widgets/controls",
            "_model_module_version": "1.5.0",
            "_model_name": "IntTextModel",
            "_view_count": null,
            "_view_module": "@jupyter-widgets/controls",
            "_view_module_version": "1.5.0",
            "_view_name": "IntTextView",
            "continuous_update": false,
            "description": "Digite um número inteiro:",
            "description_tooltip": null,
            "disabled": false,
            "layout": "IPY_MODEL_77d9ba2e783f4c0f9f50d9d772148655",
            "step": 1,
            "style": "IPY_MODEL_d7712a41b7e349acb9cc72b00cbb5ab9",
            "value": 515
          }
        },
        "77d9ba2e783f4c0f9f50d9d772148655": {
          "model_module": "@jupyter-widgets/base",
          "model_name": "LayoutModel",
          "model_module_version": "1.2.0",
          "state": {
            "_model_module": "@jupyter-widgets/base",
            "_model_module_version": "1.2.0",
            "_model_name": "LayoutModel",
            "_view_count": null,
            "_view_module": "@jupyter-widgets/base",
            "_view_module_version": "1.2.0",
            "_view_name": "LayoutView",
            "align_content": null,
            "align_items": null,
            "align_self": null,
            "border": null,
            "bottom": null,
            "display": null,
            "flex": null,
            "flex_flow": null,
            "grid_area": null,
            "grid_auto_columns": null,
            "grid_auto_flow": null,
            "grid_auto_rows": null,
            "grid_column": null,
            "grid_gap": null,
            "grid_row": null,
            "grid_template_areas": null,
            "grid_template_columns": null,
            "grid_template_rows": null,
            "height": null,
            "justify_content": null,
            "justify_items": null,
            "left": null,
            "margin": null,
            "max_height": null,
            "max_width": null,
            "min_height": null,
            "min_width": null,
            "object_fit": null,
            "object_position": null,
            "order": null,
            "overflow": null,
            "overflow_x": null,
            "overflow_y": null,
            "padding": null,
            "right": null,
            "top": null,
            "visibility": null,
            "width": null
          }
        },
        "d7712a41b7e349acb9cc72b00cbb5ab9": {
          "model_module": "@jupyter-widgets/controls",
          "model_name": "DescriptionStyleModel",
          "model_module_version": "1.5.0",
          "state": {
            "_model_module": "@jupyter-widgets/controls",
            "_model_module_version": "1.5.0",
            "_model_name": "DescriptionStyleModel",
            "_view_count": null,
            "_view_module": "@jupyter-widgets/base",
            "_view_module_version": "1.2.0",
            "_view_name": "StyleView",
            "description_width": ""
          }
        },
        "ee478f5ece844a8785a25933c31c7cde": {
          "model_module": "@jupyter-widgets/controls",
          "model_name": "ButtonModel",
          "model_module_version": "1.5.0",
          "state": {
            "_dom_classes": [],
            "_model_module": "@jupyter-widgets/controls",
            "_model_module_version": "1.5.0",
            "_model_name": "ButtonModel",
            "_view_count": null,
            "_view_module": "@jupyter-widgets/controls",
            "_view_module_version": "1.5.0",
            "_view_name": "ButtonView",
            "button_style": "",
            "description": "Responder",
            "disabled": false,
            "icon": "",
            "layout": "IPY_MODEL_f9a553e040c54b55a172d9b6021ada14",
            "style": "IPY_MODEL_2a94734633bd48d1b225d1610811517a",
            "tooltip": ""
          }
        },
        "f9a553e040c54b55a172d9b6021ada14": {
          "model_module": "@jupyter-widgets/base",
          "model_name": "LayoutModel",
          "model_module_version": "1.2.0",
          "state": {
            "_model_module": "@jupyter-widgets/base",
            "_model_module_version": "1.2.0",
            "_model_name": "LayoutModel",
            "_view_count": null,
            "_view_module": "@jupyter-widgets/base",
            "_view_module_version": "1.2.0",
            "_view_name": "LayoutView",
            "align_content": null,
            "align_items": null,
            "align_self": null,
            "border": null,
            "bottom": null,
            "display": null,
            "flex": null,
            "flex_flow": null,
            "grid_area": null,
            "grid_auto_columns": null,
            "grid_auto_flow": null,
            "grid_auto_rows": null,
            "grid_column": null,
            "grid_gap": null,
            "grid_row": null,
            "grid_template_areas": null,
            "grid_template_columns": null,
            "grid_template_rows": null,
            "height": null,
            "justify_content": null,
            "justify_items": null,
            "left": null,
            "margin": null,
            "max_height": null,
            "max_width": null,
            "min_height": null,
            "min_width": null,
            "object_fit": null,
            "object_position": null,
            "order": null,
            "overflow": null,
            "overflow_x": null,
            "overflow_y": null,
            "padding": null,
            "right": null,
            "top": null,
            "visibility": null,
            "width": null
          }
        },
        "2a94734633bd48d1b225d1610811517a": {
          "model_module": "@jupyter-widgets/controls",
          "model_name": "ButtonStyleModel",
          "model_module_version": "1.5.0",
          "state": {
            "_model_module": "@jupyter-widgets/controls",
            "_model_module_version": "1.5.0",
            "_model_name": "ButtonStyleModel",
            "_view_count": null,
            "_view_module": "@jupyter-widgets/base",
            "_view_module_version": "1.2.0",
            "_view_name": "StyleView",
            "button_color": null,
            "font_weight": ""
          }
        },
        "8a5fa65ea57a40ad982d2d632bfaf2b8": {
          "model_module": "@jupyter-widgets/controls",
          "model_name": "IntTextModel",
          "model_module_version": "1.5.0",
          "state": {
            "_dom_classes": [],
            "_model_module": "@jupyter-widgets/controls",
            "_model_module_version": "1.5.0",
            "_model_name": "IntTextModel",
            "_view_count": null,
            "_view_module": "@jupyter-widgets/controls",
            "_view_module_version": "1.5.0",
            "_view_name": "IntTextView",
            "continuous_update": false,
            "description": "Tab Ptr:",
            "description_tooltip": null,
            "disabled": false,
            "layout": "IPY_MODEL_1b21529d50794253a354398718284df5",
            "step": 1,
            "style": "IPY_MODEL_a5d86a532d1d487993fee990e11307ab",
            "value": 2060
          }
        },
        "1b21529d50794253a354398718284df5": {
          "model_module": "@jupyter-widgets/base",
          "model_name": "LayoutModel",
          "model_module_version": "1.2.0",
          "state": {
            "_model_module": "@jupyter-widgets/base",
            "_model_module_version": "1.2.0",
            "_model_name": "LayoutModel",
            "_view_count": null,
            "_view_module": "@jupyter-widgets/base",
            "_view_module_version": "1.2.0",
            "_view_name": "LayoutView",
            "align_content": null,
            "align_items": null,
            "align_self": null,
            "border": null,
            "bottom": null,
            "display": null,
            "flex": null,
            "flex_flow": null,
            "grid_area": null,
            "grid_auto_columns": null,
            "grid_auto_flow": null,
            "grid_auto_rows": null,
            "grid_column": null,
            "grid_gap": null,
            "grid_row": null,
            "grid_template_areas": null,
            "grid_template_columns": null,
            "grid_template_rows": null,
            "height": null,
            "justify_content": null,
            "justify_items": null,
            "left": null,
            "margin": null,
            "max_height": null,
            "max_width": null,
            "min_height": null,
            "min_width": null,
            "object_fit": null,
            "object_position": null,
            "order": null,
            "overflow": null,
            "overflow_x": null,
            "overflow_y": null,
            "padding": null,
            "right": null,
            "top": null,
            "visibility": null,
            "width": null
          }
        },
        "a5d86a532d1d487993fee990e11307ab": {
          "model_module": "@jupyter-widgets/controls",
          "model_name": "DescriptionStyleModel",
          "model_module_version": "1.5.0",
          "state": {
            "_model_module": "@jupyter-widgets/controls",
            "_model_module_version": "1.5.0",
            "_model_name": "DescriptionStyleModel",
            "_view_count": null,
            "_view_module": "@jupyter-widgets/base",
            "_view_module_version": "1.2.0",
            "_view_name": "StyleView",
            "description_width": ""
          }
        },
        "9f1e6191fb39463c83ed68a0cec942e5": {
          "model_module": "@jupyter-widgets/controls",
          "model_name": "IntTextModel",
          "model_module_version": "1.5.0",
          "state": {
            "_dom_classes": [],
            "_model_module": "@jupyter-widgets/controls",
            "_model_module_version": "1.5.0",
            "_model_name": "IntTextModel",
            "_view_count": null,
            "_view_module": "@jupyter-widgets/controls",
            "_view_module_version": "1.5.0",
            "_view_name": "IntTextView",
            "continuous_update": false,
            "description": "Dados:",
            "description_tooltip": null,
            "disabled": false,
            "layout": "IPY_MODEL_740bd94e39604a94be0a7dd2eb59667a",
            "step": 1,
            "style": "IPY_MODEL_78955bcaaa2a4a10b3badc37a537525d",
            "value": 6132
          }
        },
        "740bd94e39604a94be0a7dd2eb59667a": {
          "model_module": "@jupyter-widgets/base",
          "model_name": "LayoutModel",
          "model_module_version": "1.2.0",
          "state": {
            "_model_module": "@jupyter-widgets/base",
            "_model_module_version": "1.2.0",
            "_model_name": "LayoutModel",
            "_view_count": null,
            "_view_module": "@jupyter-widgets/base",
            "_view_module_version": "1.2.0",
            "_view_name": "LayoutView",
            "align_content": null,
            "align_items": null,
            "align_self": null,
            "border": null,
            "bottom": null,
            "display": null,
            "flex": null,
            "flex_flow": null,
            "grid_area": null,
            "grid_auto_columns": null,
            "grid_auto_flow": null,
            "grid_auto_rows": null,
            "grid_column": null,
            "grid_gap": null,
            "grid_row": null,
            "grid_template_areas": null,
            "grid_template_columns": null,
            "grid_template_rows": null,
            "height": null,
            "justify_content": null,
            "justify_items": null,
            "left": null,
            "margin": null,
            "max_height": null,
            "max_width": null,
            "min_height": null,
            "min_width": null,
            "object_fit": null,
            "object_position": null,
            "order": null,
            "overflow": null,
            "overflow_x": null,
            "overflow_y": null,
            "padding": null,
            "right": null,
            "top": null,
            "visibility": null,
            "width": null
          }
        },
        "78955bcaaa2a4a10b3badc37a537525d": {
          "model_module": "@jupyter-widgets/controls",
          "model_name": "DescriptionStyleModel",
          "model_module_version": "1.5.0",
          "state": {
            "_model_module": "@jupyter-widgets/controls",
            "_model_module_version": "1.5.0",
            "_model_name": "DescriptionStyleModel",
            "_view_count": null,
            "_view_module": "@jupyter-widgets/base",
            "_view_module_version": "1.2.0",
            "_view_name": "StyleView",
            "description_width": ""
          }
        },
        "0a847e9a8e1b4924b67ec277ad2554f7": {
          "model_module": "@jupyter-widgets/controls",
          "model_name": "ButtonModel",
          "model_module_version": "1.5.0",
          "state": {
            "_dom_classes": [],
            "_model_module": "@jupyter-widgets/controls",
            "_model_module_version": "1.5.0",
            "_model_name": "ButtonModel",
            "_view_count": null,
            "_view_module": "@jupyter-widgets/controls",
            "_view_module_version": "1.5.0",
            "_view_name": "ButtonView",
            "button_style": "",
            "description": "Responder",
            "disabled": false,
            "icon": "",
            "layout": "IPY_MODEL_7768946586804750a881b616d0a3e06e",
            "style": "IPY_MODEL_5a782b81b78846c7afab6ce8a8ae7e55",
            "tooltip": ""
          }
        },
        "7768946586804750a881b616d0a3e06e": {
          "model_module": "@jupyter-widgets/base",
          "model_name": "LayoutModel",
          "model_module_version": "1.2.0",
          "state": {
            "_model_module": "@jupyter-widgets/base",
            "_model_module_version": "1.2.0",
            "_model_name": "LayoutModel",
            "_view_count": null,
            "_view_module": "@jupyter-widgets/base",
            "_view_module_version": "1.2.0",
            "_view_name": "LayoutView",
            "align_content": null,
            "align_items": null,
            "align_self": null,
            "border": null,
            "bottom": null,
            "display": null,
            "flex": null,
            "flex_flow": null,
            "grid_area": null,
            "grid_auto_columns": null,
            "grid_auto_flow": null,
            "grid_auto_rows": null,
            "grid_column": null,
            "grid_gap": null,
            "grid_row": null,
            "grid_template_areas": null,
            "grid_template_columns": null,
            "grid_template_rows": null,
            "height": null,
            "justify_content": null,
            "justify_items": null,
            "left": null,
            "margin": null,
            "max_height": null,
            "max_width": null,
            "min_height": null,
            "min_width": null,
            "object_fit": null,
            "object_position": null,
            "order": null,
            "overflow": null,
            "overflow_x": null,
            "overflow_y": null,
            "padding": null,
            "right": null,
            "top": null,
            "visibility": null,
            "width": null
          }
        },
        "5a782b81b78846c7afab6ce8a8ae7e55": {
          "model_module": "@jupyter-widgets/controls",
          "model_name": "ButtonStyleModel",
          "model_module_version": "1.5.0",
          "state": {
            "_model_module": "@jupyter-widgets/controls",
            "_model_module_version": "1.5.0",
            "_model_name": "ButtonStyleModel",
            "_view_count": null,
            "_view_module": "@jupyter-widgets/base",
            "_view_module_version": "1.2.0",
            "_view_name": "StyleView",
            "button_color": null,
            "font_weight": ""
          }
        },
        "9c8c76b8ab514e35afb68988d8aac7e8": {
          "model_module": "@jupyter-widgets/controls",
          "model_name": "TextModel",
          "model_module_version": "1.5.0",
          "state": {
            "_dom_classes": [],
            "_model_module": "@jupyter-widgets/controls",
            "_model_module_version": "1.5.0",
            "_model_name": "TextModel",
            "_view_count": null,
            "_view_module": "@jupyter-widgets/controls",
            "_view_module_version": "1.5.0",
            "_view_name": "TextView",
            "continuous_update": true,
            "description": "1 Address:",
            "description_tooltip": null,
            "disabled": false,
            "layout": "IPY_MODEL_00397af8d06a402da216bc22d6be494c",
            "placeholder": "​",
            "style": "IPY_MODEL_143e6aeb285d4bc2ba19b4e12108ac84",
            "value": "32"
          }
        },
        "00397af8d06a402da216bc22d6be494c": {
          "model_module": "@jupyter-widgets/base",
          "model_name": "LayoutModel",
          "model_module_version": "1.2.0",
          "state": {
            "_model_module": "@jupyter-widgets/base",
            "_model_module_version": "1.2.0",
            "_model_name": "LayoutModel",
            "_view_count": null,
            "_view_module": "@jupyter-widgets/base",
            "_view_module_version": "1.2.0",
            "_view_name": "LayoutView",
            "align_content": null,
            "align_items": null,
            "align_self": null,
            "border": null,
            "bottom": null,
            "display": null,
            "flex": null,
            "flex_flow": null,
            "grid_area": null,
            "grid_auto_columns": null,
            "grid_auto_flow": null,
            "grid_auto_rows": null,
            "grid_column": null,
            "grid_gap": null,
            "grid_row": null,
            "grid_template_areas": null,
            "grid_template_columns": null,
            "grid_template_rows": null,
            "height": null,
            "justify_content": null,
            "justify_items": null,
            "left": null,
            "margin": null,
            "max_height": null,
            "max_width": null,
            "min_height": null,
            "min_width": null,
            "object_fit": null,
            "object_position": null,
            "order": null,
            "overflow": null,
            "overflow_x": null,
            "overflow_y": null,
            "padding": null,
            "right": null,
            "top": null,
            "visibility": null,
            "width": null
          }
        },
        "143e6aeb285d4bc2ba19b4e12108ac84": {
          "model_module": "@jupyter-widgets/controls",
          "model_name": "DescriptionStyleModel",
          "model_module_version": "1.5.0",
          "state": {
            "_model_module": "@jupyter-widgets/controls",
            "_model_module_version": "1.5.0",
            "_model_name": "DescriptionStyleModel",
            "_view_count": null,
            "_view_module": "@jupyter-widgets/base",
            "_view_module_version": "1.2.0",
            "_view_name": "StyleView",
            "description_width": ""
          }
        },
        "1f09ddf8e15044efb6d5d50038d64bef": {
          "model_module": "@jupyter-widgets/controls",
          "model_name": "TextModel",
          "model_module_version": "1.5.0",
          "state": {
            "_dom_classes": [],
            "_model_module": "@jupyter-widgets/controls",
            "_model_module_version": "1.5.0",
            "_model_name": "TextModel",
            "_view_count": null,
            "_view_module": "@jupyter-widgets/controls",
            "_view_module_version": "1.5.0",
            "_view_name": "TextView",
            "continuous_update": true,
            "description": "2 Address:",
            "description_tooltip": null,
            "disabled": false,
            "layout": "IPY_MODEL_3a31144935c141e1beebf4255292f182",
            "placeholder": "​",
            "style": "IPY_MODEL_39321eda90e742ef969d52114f0ab7de",
            "value": "2123e7"
          }
        },
        "3a31144935c141e1beebf4255292f182": {
          "model_module": "@jupyter-widgets/base",
          "model_name": "LayoutModel",
          "model_module_version": "1.2.0",
          "state": {
            "_model_module": "@jupyter-widgets/base",
            "_model_module_version": "1.2.0",
            "_model_name": "LayoutModel",
            "_view_count": null,
            "_view_module": "@jupyter-widgets/base",
            "_view_module_version": "1.2.0",
            "_view_name": "LayoutView",
            "align_content": null,
            "align_items": null,
            "align_self": null,
            "border": null,
            "bottom": null,
            "display": null,
            "flex": null,
            "flex_flow": null,
            "grid_area": null,
            "grid_auto_columns": null,
            "grid_auto_flow": null,
            "grid_auto_rows": null,
            "grid_column": null,
            "grid_gap": null,
            "grid_row": null,
            "grid_template_areas": null,
            "grid_template_columns": null,
            "grid_template_rows": null,
            "height": null,
            "justify_content": null,
            "justify_items": null,
            "left": null,
            "margin": null,
            "max_height": null,
            "max_width": null,
            "min_height": null,
            "min_width": null,
            "object_fit": null,
            "object_position": null,
            "order": null,
            "overflow": null,
            "overflow_x": null,
            "overflow_y": null,
            "padding": null,
            "right": null,
            "top": null,
            "visibility": null,
            "width": null
          }
        },
        "39321eda90e742ef969d52114f0ab7de": {
          "model_module": "@jupyter-widgets/controls",
          "model_name": "DescriptionStyleModel",
          "model_module_version": "1.5.0",
          "state": {
            "_model_module": "@jupyter-widgets/controls",
            "_model_module_version": "1.5.0",
            "_model_name": "DescriptionStyleModel",
            "_view_count": null,
            "_view_module": "@jupyter-widgets/base",
            "_view_module_version": "1.2.0",
            "_view_name": "StyleView",
            "description_width": ""
          }
        },
        "bcc499c795644070a8fda3419194e7c2": {
          "model_module": "@jupyter-widgets/controls",
          "model_name": "ButtonModel",
          "model_module_version": "1.5.0",
          "state": {
            "_dom_classes": [],
            "_model_module": "@jupyter-widgets/controls",
            "_model_module_version": "1.5.0",
            "_model_name": "ButtonModel",
            "_view_count": null,
            "_view_module": "@jupyter-widgets/controls",
            "_view_module_version": "1.5.0",
            "_view_name": "ButtonView",
            "button_style": "",
            "description": "Responder",
            "disabled": false,
            "icon": "",
            "layout": "IPY_MODEL_52d75bbe9b9f4dcab9fb0d3615ee2bb3",
            "style": "IPY_MODEL_83e6aa3b196741898b593444063b6ddb",
            "tooltip": ""
          }
        },
        "52d75bbe9b9f4dcab9fb0d3615ee2bb3": {
          "model_module": "@jupyter-widgets/base",
          "model_name": "LayoutModel",
          "model_module_version": "1.2.0",
          "state": {
            "_model_module": "@jupyter-widgets/base",
            "_model_module_version": "1.2.0",
            "_model_name": "LayoutModel",
            "_view_count": null,
            "_view_module": "@jupyter-widgets/base",
            "_view_module_version": "1.2.0",
            "_view_name": "LayoutView",
            "align_content": null,
            "align_items": null,
            "align_self": null,
            "border": null,
            "bottom": null,
            "display": null,
            "flex": null,
            "flex_flow": null,
            "grid_area": null,
            "grid_auto_columns": null,
            "grid_auto_flow": null,
            "grid_auto_rows": null,
            "grid_column": null,
            "grid_gap": null,
            "grid_row": null,
            "grid_template_areas": null,
            "grid_template_columns": null,
            "grid_template_rows": null,
            "height": null,
            "justify_content": null,
            "justify_items": null,
            "left": null,
            "margin": null,
            "max_height": null,
            "max_width": null,
            "min_height": null,
            "min_width": null,
            "object_fit": null,
            "object_position": null,
            "order": null,
            "overflow": null,
            "overflow_x": null,
            "overflow_y": null,
            "padding": null,
            "right": null,
            "top": null,
            "visibility": null,
            "width": null
          }
        },
        "83e6aa3b196741898b593444063b6ddb": {
          "model_module": "@jupyter-widgets/controls",
          "model_name": "ButtonStyleModel",
          "model_module_version": "1.5.0",
          "state": {
            "_model_module": "@jupyter-widgets/controls",
            "_model_module_version": "1.5.0",
            "_model_name": "ButtonStyleModel",
            "_view_count": null,
            "_view_module": "@jupyter-widgets/base",
            "_view_module_version": "1.2.0",
            "_view_name": "StyleView",
            "button_color": null,
            "font_weight": ""
          }
        },
        "c01032512f634f62838b8028bcfd168f": {
          "model_module": "@jupyter-widgets/controls",
          "model_name": "VBoxModel",
          "model_module_version": "1.5.0",
          "state": {
            "_dom_classes": [
              "widget-interact"
            ],
            "_model_module": "@jupyter-widgets/controls",
            "_model_module_version": "1.5.0",
            "_model_name": "VBoxModel",
            "_view_count": null,
            "_view_module": "@jupyter-widgets/controls",
            "_view_module_version": "1.5.0",
            "_view_name": "VBoxView",
            "box_style": "",
            "children": [
              "IPY_MODEL_9d1af60eb1bf4f9c82f9cbc3f9cdbfe8",
              "IPY_MODEL_3fc611c8ad2549ef9d3b6ce514b5dd76"
            ],
            "layout": "IPY_MODEL_1eb9a0206ec94de7ac2f1f6682f60a38"
          }
        },
        "9d1af60eb1bf4f9c82f9cbc3f9cdbfe8": {
          "model_module": "@jupyter-widgets/controls",
          "model_name": "DropdownModel",
          "model_module_version": "1.5.0",
          "state": {
            "_dom_classes": [],
            "_model_module": "@jupyter-widgets/controls",
            "_model_module_version": "1.5.0",
            "_model_name": "DropdownModel",
            "_options_labels": [
              "1",
              "2",
              "4",
              "8",
              "16",
              "32",
              "64",
              "128",
              "256",
              "512",
              "1024",
              "2048",
              "4096",
              "8192"
            ],
            "_view_count": null,
            "_view_module": "@jupyter-widgets/controls",
            "_view_module_version": "1.5.0",
            "_view_name": "DropdownView",
            "description": "Power of 2:",
            "description_tooltip": null,
            "disabled": false,
            "index": 0,
            "layout": "IPY_MODEL_a9d5180b120c441f96dc08271e87d6c0",
            "style": "IPY_MODEL_a78322fd14a94336a4e6ed62dac646b8"
          }
        },
        "3fc611c8ad2549ef9d3b6ce514b5dd76": {
          "model_module": "@jupyter-widgets/output",
          "model_name": "OutputModel",
          "model_module_version": "1.0.0",
          "state": {
            "_dom_classes": [],
            "_model_module": "@jupyter-widgets/output",
            "_model_module_version": "1.0.0",
            "_model_name": "OutputModel",
            "_view_count": null,
            "_view_module": "@jupyter-widgets/output",
            "_view_module_version": "1.0.0",
            "_view_name": "OutputView",
            "layout": "IPY_MODEL_da449f42af1b4a99b7c474c3230f6b79",
            "msg_id": "",
            "outputs": [
              {
                "output_type": "stream",
                "name": "stdout",
                "text": [
                  "1 requer 0 bits\n"
                ]
              }
            ]
          }
        },
        "1eb9a0206ec94de7ac2f1f6682f60a38": {
          "model_module": "@jupyter-widgets/base",
          "model_name": "LayoutModel",
          "model_module_version": "1.2.0",
          "state": {
            "_model_module": "@jupyter-widgets/base",
            "_model_module_version": "1.2.0",
            "_model_name": "LayoutModel",
            "_view_count": null,
            "_view_module": "@jupyter-widgets/base",
            "_view_module_version": "1.2.0",
            "_view_name": "LayoutView",
            "align_content": null,
            "align_items": null,
            "align_self": null,
            "border": null,
            "bottom": null,
            "display": null,
            "flex": null,
            "flex_flow": null,
            "grid_area": null,
            "grid_auto_columns": null,
            "grid_auto_flow": null,
            "grid_auto_rows": null,
            "grid_column": null,
            "grid_gap": null,
            "grid_row": null,
            "grid_template_areas": null,
            "grid_template_columns": null,
            "grid_template_rows": null,
            "height": null,
            "justify_content": null,
            "justify_items": null,
            "left": null,
            "margin": null,
            "max_height": null,
            "max_width": null,
            "min_height": null,
            "min_width": null,
            "object_fit": null,
            "object_position": null,
            "order": null,
            "overflow": null,
            "overflow_x": null,
            "overflow_y": null,
            "padding": null,
            "right": null,
            "top": null,
            "visibility": null,
            "width": null
          }
        },
        "a9d5180b120c441f96dc08271e87d6c0": {
          "model_module": "@jupyter-widgets/base",
          "model_name": "LayoutModel",
          "model_module_version": "1.2.0",
          "state": {
            "_model_module": "@jupyter-widgets/base",
            "_model_module_version": "1.2.0",
            "_model_name": "LayoutModel",
            "_view_count": null,
            "_view_module": "@jupyter-widgets/base",
            "_view_module_version": "1.2.0",
            "_view_name": "LayoutView",
            "align_content": null,
            "align_items": null,
            "align_self": null,
            "border": null,
            "bottom": null,
            "display": null,
            "flex": null,
            "flex_flow": null,
            "grid_area": null,
            "grid_auto_columns": null,
            "grid_auto_flow": null,
            "grid_auto_rows": null,
            "grid_column": null,
            "grid_gap": null,
            "grid_row": null,
            "grid_template_areas": null,
            "grid_template_columns": null,
            "grid_template_rows": null,
            "height": null,
            "justify_content": null,
            "justify_items": null,
            "left": null,
            "margin": null,
            "max_height": null,
            "max_width": null,
            "min_height": null,
            "min_width": null,
            "object_fit": null,
            "object_position": null,
            "order": null,
            "overflow": null,
            "overflow_x": null,
            "overflow_y": null,
            "padding": null,
            "right": null,
            "top": null,
            "visibility": null,
            "width": null
          }
        },
        "a78322fd14a94336a4e6ed62dac646b8": {
          "model_module": "@jupyter-widgets/controls",
          "model_name": "DescriptionStyleModel",
          "model_module_version": "1.5.0",
          "state": {
            "_model_module": "@jupyter-widgets/controls",
            "_model_module_version": "1.5.0",
            "_model_name": "DescriptionStyleModel",
            "_view_count": null,
            "_view_module": "@jupyter-widgets/base",
            "_view_module_version": "1.2.0",
            "_view_name": "StyleView",
            "description_width": ""
          }
        },
        "da449f42af1b4a99b7c474c3230f6b79": {
          "model_module": "@jupyter-widgets/base",
          "model_name": "LayoutModel",
          "model_module_version": "1.2.0",
          "state": {
            "_model_module": "@jupyter-widgets/base",
            "_model_module_version": "1.2.0",
            "_model_name": "LayoutModel",
            "_view_count": null,
            "_view_module": "@jupyter-widgets/base",
            "_view_module_version": "1.2.0",
            "_view_name": "LayoutView",
            "align_content": null,
            "align_items": null,
            "align_self": null,
            "border": null,
            "bottom": null,
            "display": null,
            "flex": null,
            "flex_flow": null,
            "grid_area": null,
            "grid_auto_columns": null,
            "grid_auto_flow": null,
            "grid_auto_rows": null,
            "grid_column": null,
            "grid_gap": null,
            "grid_row": null,
            "grid_template_areas": null,
            "grid_template_columns": null,
            "grid_template_rows": null,
            "height": null,
            "justify_content": null,
            "justify_items": null,
            "left": null,
            "margin": null,
            "max_height": null,
            "max_width": null,
            "min_height": null,
            "min_width": null,
            "object_fit": null,
            "object_position": null,
            "order": null,
            "overflow": null,
            "overflow_x": null,
            "overflow_y": null,
            "padding": null,
            "right": null,
            "top": null,
            "visibility": null,
            "width": null
          }
        },
        "9914c93c1e2f4e6ca1cbac0bc6818264": {
          "model_module": "@jupyter-widgets/controls",
          "model_name": "DropdownModel",
          "model_module_version": "1.5.0",
          "state": {
            "_dom_classes": [],
            "_model_module": "@jupyter-widgets/controls",
            "_model_module_version": "1.5.0",
            "_model_name": "DropdownModel",
            "_options_labels": [
              "1",
              "2",
              "4",
              "8",
              "16",
              "32",
              "64",
              "128",
              "256",
              "512",
              "1024",
              "2048",
              "4096",
              "8192",
              "16384",
              "32768",
              "65536",
              "131072",
              "262144",
              "524288",
              "1048576"
            ],
            "_view_count": null,
            "_view_module": "@jupyter-widgets/controls",
            "_view_module_version": "1.5.0",
            "_view_name": "DropdownView",
            "description": "Tamanho da Tabela em Molduras",
            "description_tooltip": null,
            "disabled": false,
            "index": 4,
            "layout": "IPY_MODEL_cf742d7175814df690176b6b640d56a6",
            "style": "IPY_MODEL_63220aa899914a499d3d1a5e8cddc054"
          }
        },
        "cf742d7175814df690176b6b640d56a6": {
          "model_module": "@jupyter-widgets/base",
          "model_name": "LayoutModel",
          "model_module_version": "1.2.0",
          "state": {
            "_model_module": "@jupyter-widgets/base",
            "_model_module_version": "1.2.0",
            "_model_name": "LayoutModel",
            "_view_count": null,
            "_view_module": "@jupyter-widgets/base",
            "_view_module_version": "1.2.0",
            "_view_name": "LayoutView",
            "align_content": null,
            "align_items": null,
            "align_self": null,
            "border": null,
            "bottom": null,
            "display": null,
            "flex": null,
            "flex_flow": null,
            "grid_area": null,
            "grid_auto_columns": null,
            "grid_auto_flow": null,
            "grid_auto_rows": null,
            "grid_column": null,
            "grid_gap": null,
            "grid_row": null,
            "grid_template_areas": null,
            "grid_template_columns": null,
            "grid_template_rows": null,
            "height": null,
            "justify_content": null,
            "justify_items": null,
            "left": null,
            "margin": null,
            "max_height": null,
            "max_width": null,
            "min_height": null,
            "min_width": null,
            "object_fit": null,
            "object_position": null,
            "order": null,
            "overflow": null,
            "overflow_x": null,
            "overflow_y": null,
            "padding": null,
            "right": null,
            "top": null,
            "visibility": null,
            "width": null
          }
        },
        "63220aa899914a499d3d1a5e8cddc054": {
          "model_module": "@jupyter-widgets/controls",
          "model_name": "DescriptionStyleModel",
          "model_module_version": "1.5.0",
          "state": {
            "_model_module": "@jupyter-widgets/controls",
            "_model_module_version": "1.5.0",
            "_model_name": "DescriptionStyleModel",
            "_view_count": null,
            "_view_module": "@jupyter-widgets/base",
            "_view_module_version": "1.2.0",
            "_view_name": "StyleView",
            "description_width": ""
          }
        },
        "ea6de12131a2404084283cd8d2d8b119": {
          "model_module": "@jupyter-widgets/controls",
          "model_name": "ButtonModel",
          "model_module_version": "1.5.0",
          "state": {
            "_dom_classes": [],
            "_model_module": "@jupyter-widgets/controls",
            "_model_module_version": "1.5.0",
            "_model_name": "ButtonModel",
            "_view_count": null,
            "_view_module": "@jupyter-widgets/controls",
            "_view_module_version": "1.5.0",
            "_view_name": "ButtonView",
            "button_style": "",
            "description": "Responder",
            "disabled": false,
            "icon": "",
            "layout": "IPY_MODEL_dfa80f94443f4e298221510e2980c289",
            "style": "IPY_MODEL_7d6e4568762247998b7f4f222c369702",
            "tooltip": ""
          }
        },
        "dfa80f94443f4e298221510e2980c289": {
          "model_module": "@jupyter-widgets/base",
          "model_name": "LayoutModel",
          "model_module_version": "1.2.0",
          "state": {
            "_model_module": "@jupyter-widgets/base",
            "_model_module_version": "1.2.0",
            "_model_name": "LayoutModel",
            "_view_count": null,
            "_view_module": "@jupyter-widgets/base",
            "_view_module_version": "1.2.0",
            "_view_name": "LayoutView",
            "align_content": null,
            "align_items": null,
            "align_self": null,
            "border": null,
            "bottom": null,
            "display": null,
            "flex": null,
            "flex_flow": null,
            "grid_area": null,
            "grid_auto_columns": null,
            "grid_auto_flow": null,
            "grid_auto_rows": null,
            "grid_column": null,
            "grid_gap": null,
            "grid_row": null,
            "grid_template_areas": null,
            "grid_template_columns": null,
            "grid_template_rows": null,
            "height": null,
            "justify_content": null,
            "justify_items": null,
            "left": null,
            "margin": null,
            "max_height": null,
            "max_width": null,
            "min_height": null,
            "min_width": null,
            "object_fit": null,
            "object_position": null,
            "order": null,
            "overflow": null,
            "overflow_x": null,
            "overflow_y": null,
            "padding": null,
            "right": null,
            "top": null,
            "visibility": null,
            "width": null
          }
        },
        "7d6e4568762247998b7f4f222c369702": {
          "model_module": "@jupyter-widgets/controls",
          "model_name": "ButtonStyleModel",
          "model_module_version": "1.5.0",
          "state": {
            "_model_module": "@jupyter-widgets/controls",
            "_model_module_version": "1.5.0",
            "_model_name": "ButtonStyleModel",
            "_view_count": null,
            "_view_module": "@jupyter-widgets/base",
            "_view_module_version": "1.2.0",
            "_view_name": "StyleView",
            "button_color": null,
            "font_weight": ""
          }
        }
      }
    }
  },
  "cells": [
    {
      "cell_type": "markdown",
      "source": [
        "# Exercício de Treinamento para Memória Virtual\n",
        "\n",
        "Este colab tem 5 exercícios para cálculo do espaço ocupado pela tabela de páginas para memória virtual com 1 ou 2 niveis. Tem exercícios com a situação ótima de ocupação das molduras com dois níveis considerando que o segundo nível usa apenas 1 moldura. O tamanho dos ponteiros pode ser de 1, 2 ou 4 bytes, dependendo da especificações do problema (virtual, física e página). Tem um exercício de mapeamento de endereço.\n",
        "\n",
        "[Consulte também o Colab com Introdução a Memória Virtual](https://colab.research.google.com/drive/1yFMBKIOR94sudsBO0Z3nhZ4xExBITQnx?usp=sharing)\n"
      ],
      "metadata": {
        "id": "GYzEaCe3I6I0"
      }
    },
    {
      "cell_type": "code",
      "source": [
        "#@title Instalação das Bibliotecas\n",
        "!pip install paho-mqtt &> /dev/null\n",
        "# !pip install simpy &> /dev/null\n",
        "ID =  input(\"Digite a sua matrícula (somente números, sem espaços) \")\n",
        "topic =  \"inf450/2023/Colab_Virtual/\"+str(ID)\n",
        "from datetime import datetime\n",
        "def getCurrentTime():\n",
        "  myobj = datetime.now()\n",
        "  t = str(myobj.hour)+\"_\"+str(myobj.minute)+\"_\"+str(myobj.second)\n",
        "  return t\n",
        "\n",
        "t = getCurrentTime()"
      ],
      "metadata": {
        "id": "fhcInolD7xhF",
        "colab": {
          "base_uri": "https://localhost:8080/"
        },
        "outputId": "bbb35ec5-1084-4570-e7ae-a9e04a2d6a61",
        "cellView": "form"
      },
      "execution_count": null,
      "outputs": [
        {
          "name": "stdout",
          "output_type": "stream",
          "text": [
            "Digite a sua matrícula (somente números, sem espaços) 71269\n"
          ]
        }
      ]
    },
    {
      "cell_type": "code",
      "source": [
        "#@title funcoes de apoio\n",
        "from paho.mqtt import client as mqtt_client\n",
        "\n",
        "\n",
        "def publish(client, pergunta, resposta, topico, initialTime,responseTime):\n",
        "  form_pergunta = pergunta.replace('\\n',\"\").replace(',',\"\")\n",
        "  msg = f\"{form_pergunta}; {resposta}; {topico}; {initialTime}; {responseTime}; {t}\"\n",
        "  print(t)\n",
        "  top = topic+\"/\"+t\n",
        "  result = client.publish(top, msg)\n",
        "  status = result[0]\n",
        "  if status == 0:\n",
        "            print(f\"Send `{msg}` to topic `{top}`\")\n",
        "  else:\n",
        "            print(f\"Failed to send message to topic {top}\")\n",
        "  client.disconnect() # disconnect gracefully\n",
        "  client.loop_stop() # stops network loop\n",
        "\n",
        "def connect_mqtt():\n",
        "    print(\"try to connect\")\n",
        "    def on_connect(client, userdata, flags, rc):\n",
        "        if rc == 0:\n",
        "            print(\"Conectou no MQTT Broker!\")\n",
        "        else:\n",
        "            print(\"Falhou a conexão com o Broker, return code %d\\n\", rc)\n",
        "\n",
        "    client = mqtt_client.Client(client_id)\n",
        "    client.on_connect = on_connect\n",
        "    client.connect(broker, port)\n",
        "    return client\n",
        "\n",
        "import random\n",
        "import time\n",
        "\n",
        "\n",
        "\n",
        "broker = 'broker.emqx.io'\n",
        "port = 1883\n",
        "# generate client ID with pub prefix randomly\n",
        "client_id = ID+f'Ex_virtual{random.randint(0, 1000)}'\n",
        "\n",
        "print(client_id)\n",
        "\n",
        "def monitora(pergunta,resposta,id,initialTime,responseTime):\n",
        "  client = connect_mqtt()\n",
        "  client.loop_start()\n",
        "  publish(client,pergunta,resposta,id, initialTime, responseTime)\n",
        "  client.loop_stop()\n"
      ],
      "metadata": {
        "colab": {
          "base_uri": "https://localhost:8080/"
        },
        "id": "Bss9AHdO76tB",
        "outputId": "2a54a9da-35d5-4c33-e65f-7540a6c18034",
        "cellView": "form"
      },
      "execution_count": null,
      "outputs": [
        {
          "output_type": "stream",
          "name": "stdout",
          "text": [
            "71269Ex_virtual89\n"
          ]
        }
      ]
    },
    {
      "cell_type": "code",
      "source": [
        "#@title Classe Auxiliar\n",
        "#Produz dropdown de potencias de 2 e um botao, executa a funcao f, quando o botao e clicado\n",
        "import ipywidgets as widgets\n",
        "import math\n",
        "\n",
        "Table = [2**i for i in range(int(math.log2(2**20))+1)]\n",
        "\n",
        "class CustomInput:\n",
        "  def __init__(self, enunc = \"\", f = lambda *args: print (f\"Empty function\") ):\n",
        "    self.table = widgets.Dropdown(\n",
        "    options=Table,\n",
        "    description='Tamanho da Tabela em Molduras',\n",
        "    value=1,\n",
        ")\n",
        "    self.button = widgets.Button(description='Responder')\n",
        "    self.f = f\n",
        "    self.button.on_click(lambda *args: (f(self.table.value)))\n",
        "\n",
        "  def display (self):\n",
        "    display(self.table, self.button)\n",
        "\n",
        "class CustomInput1:\n",
        "  def __init__(self, enunc = \"\", f = lambda *args: print (f\"Empty function\") ):\n",
        "    self.table = widgets.IntText(\n",
        "    value=0,\n",
        "    description='Digite um número inteiro:',\n",
        ")\n",
        "    self.button = widgets.Button(description='Responder')\n",
        "    self.f = f\n",
        "    self.button.on_click(lambda *args: (f(self.table.value)))\n",
        "\n",
        "  def display (self):\n",
        "    display(self.table, self.button)\n",
        "\n",
        "class CustomInput2:\n",
        "  def __init__(self, enunc = \"\", f = lambda *args: print (f\"Empty function\") ):\n",
        "    self.table = widgets.IntText(\n",
        "    value=0,\n",
        "    description='Tab Ptr:',\n",
        "    )\n",
        "    self.data = widgets.IntText(\n",
        "    value=0,\n",
        "    description='Dados:',\n",
        "    )\n",
        "    self.button = widgets.Button(description='Responder')\n",
        "    self.f = f\n",
        "    self.button.on_click(lambda *args: (f(self.table.value,self.data.value)))\n",
        "\n",
        "  def display (self):\n",
        "    display(self.table, self.data, self.button)\n",
        "\n",
        "class CustomInput3:\n",
        "  def __init__(self, enunc = \"\", f = lambda *args: print (f\"Empty function\") ):\n",
        "    self.table = widgets.Text(\n",
        "    value=\"0\",\n",
        "    description='1 Address:',\n",
        "    )\n",
        "    self.data = widgets.Text(\n",
        "    value=\"0\",\n",
        "    description='2 Address:',\n",
        "    )\n",
        "    self.button = widgets.Button(description='Responder')\n",
        "    self.f = f\n",
        "    self.button.on_click(lambda *args: (f(self.table.value,self.data.value)))\n",
        "\n",
        "  def display (self):\n",
        "    display(self.table, self.data, self.button)"
      ],
      "metadata": {
        "id": "CmDT42eMh9YU",
        "cellView": "form"
      },
      "execution_count": null,
      "outputs": []
    },
    {
      "cell_type": "code",
      "source": [
        "#@title Treinar as potências de 2\n",
        "import ipywidgets as widgets\n",
        "import math\n",
        "\n",
        "# Create a dropdown widget\n",
        "powers_of_2 = [2**i for i in range(int(math.log2(8192))+1)]\n",
        "dropdown = widgets.Dropdown(\n",
        "    options=powers_of_2,\n",
        "    description='Power of 2:',\n",
        "    value=1\n",
        ")\n",
        "\n",
        "# Define the function that computes log2\n",
        "def compute_log2(power):\n",
        "    result = math.log2(power)\n",
        "    result = math.ceil(result)\n",
        "    print(f\"{power} requer {result} bits\")\n",
        "\n",
        "# Call the function using interact\n",
        "widgets.interact(compute_log2, power=dropdown)\n"
      ],
      "metadata": {
        "colab": {
          "base_uri": "https://localhost:8080/",
          "height": 84,
          "referenced_widgets": [
            "c01032512f634f62838b8028bcfd168f",
            "9d1af60eb1bf4f9c82f9cbc3f9cdbfe8",
            "3fc611c8ad2549ef9d3b6ce514b5dd76",
            "1eb9a0206ec94de7ac2f1f6682f60a38",
            "a9d5180b120c441f96dc08271e87d6c0",
            "a78322fd14a94336a4e6ed62dac646b8",
            "da449f42af1b4a99b7c474c3230f6b79"
          ]
        },
        "id": "1yahdSwxj36M",
        "outputId": "de58fb8d-d35d-4746-be11-0374a457e3e0",
        "cellView": "form"
      },
      "execution_count": null,
      "outputs": [
        {
          "output_type": "display_data",
          "data": {
            "text/plain": [
              "interactive(children=(Dropdown(description='Power of 2:', options=(1, 2, 4, 8, 16, 32, 64, 128, 256, 512, 1024…"
            ],
            "application/vnd.jupyter.widget-view+json": {
              "version_major": 2,
              "version_minor": 0,
              "model_id": "c01032512f634f62838b8028bcfd168f"
            }
          },
          "metadata": {}
        },
        {
          "output_type": "execute_result",
          "data": {
            "text/plain": [
              "<function __main__.compute_log2(power)>"
            ]
          },
          "metadata": {},
          "execution_count": 5
        }
      ]
    },
    {
      "cell_type": "code",
      "execution_count": null,
      "metadata": {
        "id": "kWXCJ_FSlvJ_",
        "cellView": "form"
      },
      "outputs": [],
      "source": [
        "from posixpath import pardir\n",
        "#@title Gerador Aleatório\n",
        "\n",
        "import math\n",
        "import random\n",
        "\n",
        "KB = 2**10\n",
        "MB = 2**20\n",
        "GB = 2**30\n",
        "\n",
        "\n",
        "Virtual_size = [512*MB, 1*GB, 256*MB, 128*MB, 2*GB, 4*GB, 8*GB]\n",
        "Physical_size = [64*KB, 128*KB, 256*KB, 8*MB, 16*MB, 32*MB, 64*MB]\n",
        "page_size = [1*KB, 512, 2*KB, 8*KB, 4*KB, 2*MB,256]\n",
        "\n",
        "def f(tam):\n",
        "  if(tam % GB == 0):\n",
        "    return f\"{int(tam/GB)} GB\"\n",
        "  if(tam % MB == 0):\n",
        "    return f\"{int(tam/MB)} MB\"\n",
        "  if(tam % KB == 0):\n",
        "    return f\"{int(tam/KB)} KB\"\n",
        "  return str(tam)\n",
        "\n",
        "def compute_pointer(a):\n",
        "  bits = int(math.log2(a))\n",
        "  if ( bits < 9):\n",
        "    return 1\n",
        "  elif ( bits < 17):\n",
        "    return 2\n",
        "  return 4\n",
        "\n",
        "\n",
        "\n",
        "def gera_exec_pagina_1_nivel_tabela():\n",
        "  res = None\n",
        "  while True:\n",
        "    idx = random.randrange(len(Virtual_size))\n",
        "    v = Virtual_size[idx]\n",
        "    idx = random.randrange(len(Physical_size))\n",
        "    ph = Physical_size[idx]\n",
        "    idx = random.randrange(len(page_size))\n",
        "    p = page_size[idx]\n",
        "    pointer_size = compute_pointer(ph/p)\n",
        "    valid = (v/p)*pointer_size <= ph and ph > p\n",
        "    table_size = v/p*pointer_size\n",
        "    frames = math.ceil(table_size/p)\n",
        "    res = {\"size\":frames}\n",
        "    if (valid): break #avoid case that table size is bigger than required\n",
        "\n",
        "  q = [v,ph,p]\n",
        "  input = f\"Calcule o tamanho da tabela de página em molduras para uma memória virtual de {f(v)} \\n com memória física de {f(ph)} e página de {p} bytes\"\n",
        "  return input, res ,q\n",
        "\n",
        "def endereco_1_nivel_tabela():\n",
        "  res = None\n",
        "  while True:\n",
        "    idx = random.randrange(len(Virtual_size))\n",
        "    v = Virtual_size[idx]\n",
        "    idx = random.randrange(len(Physical_size))\n",
        "    ph = Physical_size[idx]\n",
        "    idx = random.randrange(len(page_size))\n",
        "    p = page_size[idx]\n",
        "    pointer_size = compute_pointer(ph/p)\n",
        "    valid = (v/p)*pointer_size <= ph and ph > p and v > 64*p\n",
        "    table_size = v/p*pointer_size\n",
        "    frames = math.ceil(table_size/p)\n",
        "    address = random.randrange(64*p)\n",
        "    page = address//p*pointer_size\n",
        "    offset = address%p\n",
        "    data = frames*p+offset\n",
        "    res = {\"page\":page,\"data\":data}\n",
        "    if (valid): break #avoid case that table size is bigger than required\n",
        "\n",
        "  q = [v,ph,p]\n",
        "  input = f\"Para uma memória virtual de {f(v)} com memória física de {f(ph)} e página de {p} bytes \\n suponha que o primeiro acesso aloque a primeira moldura livre \\n e que a tabela esteja no inicio da memoria \\n quais os dois enderecos que o processador gera \\n para acessar a {hex(address)}\"\n",
        "  return input, res ,q\n",
        "\n",
        "\n",
        "\n",
        "\n",
        "\n",
        "def gera_exec_pagina_2_niveis_tabela():\n",
        "  res = None\n",
        "  while True:\n",
        "    idx = random.randrange(len(Virtual_size))\n",
        "    v = Virtual_size[idx]\n",
        "    idx = random.randrange(len(Physical_size))\n",
        "    ph = Physical_size[idx]\n",
        "    idx = random.randrange(len(page_size))\n",
        "    p = page_size[idx]\n",
        "    pointer_size = compute_pointer(ph/p)\n",
        "    valid = (v/p) > ph and v/p/p > 1 and (v/p/p*pointer_size) < ph\n",
        "    first = v/p/p*pointer_size*pointer_size\n",
        "    frames = math.ceil(first/p)+1\n",
        "    res = {\"size\":frames}\n",
        "    if (valid): break #avoid case that table size is bigger than required\n",
        "\n",
        "  q = [v,ph,p]\n",
        "  input = f\"Calcule número mínimo de molduras ocupado pelos ponteiros da tabela de página \\n considere apenas as páginas ocupadas por ponteiros do primeiro e segundo nivel \\n para ter uma página de dados na memória \\n com dois níveis de paginação, onde o segundo nível ocupa uma moldura, para uma memória virtual de {f(v)} \\n com memória física de {f(ph)} e página de {p} bytes\"\n",
        "  return input, res ,q\n",
        "\n",
        "\n",
        "\n",
        "\n",
        "Virtual2_size = [512*GB, 16*GB, 256*GB, 128*GB, 64*GB, 32*GB, 8*GB]\n",
        "Physical2_size = [64*MB, 128*MB, 256*MB, 8*MB, 16*MB, 32*MB, 512*MB]\n",
        "page2_size = [1*KB, 2*KB, 8*KB, 4*KB]\n",
        "\n",
        "def Ocupacao_otima_1_5_moldura_pagina_2_niveis():\n",
        "  res = None\n",
        "  while True:\n",
        "    idx = random.randrange(len(Virtual2_size))\n",
        "    v = Virtual2_size[idx]\n",
        "    idx = random.randrange(len(Physical2_size))\n",
        "    ph = Physical2_size[idx]\n",
        "    idx = random.randrange(len(page2_size))\n",
        "    p = page2_size[idx]\n",
        "    pointer_size = compute_pointer(ph/p)\n",
        "    first = v/p/p*pointer_size*pointer_size\n",
        "    valid = first < ph and  (pointer_size*1.5)*p < ph/p\n",
        "    frames = math.ceil(first/p)+ math.ceil(pointer_size*1.5)\n",
        "    res = {\"size\":frames}\n",
        "    if (valid): break #avoid case that table size is bigger than required\n",
        "\n",
        "  q = [v,ph,p]\n",
        "  input = f\"Calcule número mínimo de molduras ocupado pelos ponteiros da tabela de página \\n para ter {1.5*p} páginas de dados na memória \\n com dois níveis de paginação, onde o segundo nível ocupa uma moldura, para uma memória virtual de {f(v)} \\n com memória física de {f(ph)} e página de {p} bytes\"\n",
        "  return input, res ,q\n",
        "\n",
        "\n",
        "def fragment(x,y):\n",
        "  if x < y:\n",
        "    return y\n",
        "  return x\n",
        "\n",
        "def ocupacao_maxima_pagina_2_niveis_tabela():\n",
        "  res = None\n",
        "  while True:\n",
        "    idx = random.randrange(len(Virtual2_size))\n",
        "    v = Virtual2_size[idx]\n",
        "    idx = random.randrange(len(Physical2_size))\n",
        "    ph = Physical2_size[idx]\n",
        "    idx = random.randrange(len(page2_size))\n",
        "    p = page2_size[idx]\n",
        "    pointer_size = compute_pointer(ph/p)\n",
        "    valid = (v/p) > ph and v/p/p > 1\n",
        "    first = v/p/p*pointer_size*pointer_size\n",
        "    free_page = math.floor((ph - fragment(first,p))/p)\n",
        "    complete = free_page//(1+p/pointer_size)\n",
        "    remain = free_page%(1+p/pointer_size) -1\n",
        "    if ( remain > 0 ):\n",
        "      last = 1\n",
        "    else:\n",
        "      last = 0\n",
        "    frames_L1 = math.ceil(fragment(first,p)/p)\n",
        "    total = frames_L1+complete+last\n",
        "    pages = p*complete/pointer_size+remain\n",
        "    res = {\"size\":total, \"pages\": pages}\n",
        "    if (valid): break #avoid case that table size is bigger than required\n",
        "\n",
        "\n",
        "  q = [v,ph,p]\n",
        "  input = f\"Calcule número de molduras ocupadas pelos ponteiros da tabela de página e pelos dados \\n incluindo primeiro e segundo nível \\n para ter o máximo de páginas de dados na memória \\n com mínimo de páginas de ponteiros de dois níveis de paginação, onde o segundo nível ocupa uma moldura, para uma memória virtual de {f(v)} \\n com memória física de {f(ph)} e página de {p} bytes\"\n",
        "  return input, res ,q\n",
        "\n"
      ]
    },
    {
      "cell_type": "markdown",
      "source": [
        "# Exercicio 1\n",
        "\n",
        "[video com dica para exercicio 1](https://youtu.be/rRuHeXdykSw) e desenho do excalidraw de [rascunho](https://excalidraw.com/#json=WKYq5KkImL7pxL3WbFszY,rEWRblPjVCN-DIq179YrgQ)\n",
        "\n",
        "* [Exemplos da aula de revisão antes da prova para **QUESTÃO 3** da prova 2023](https://youtu.be/flxWyFYF6n0)"
      ],
      "metadata": {
        "id": "c8gZVs9Vh69q"
      }
    },
    {
      "cell_type": "code",
      "source": [
        "#@title Exercicio 1 Tabela de Página com 1 nível, espaço ocupado em molduras\n",
        "enunc, resposta, q = gera_exec_pagina_1_nivel_tabela()\n",
        "Q1_start_time = getCurrentTime()\n",
        "def avalia(*args):\n",
        "  global Q1_start_time\n",
        "  responseTime = getCurrentTime()\n",
        "  if(resposta[\"size\"] == args[0]):\n",
        "    monitora(\"Q1_1nivel\",[True,q],ID, Q1_start_time, responseTime)\n",
        "    print(\"Correto\")\n",
        "  else:\n",
        "    monitora(\"Q1_1nivel\", [False,q], ID, Q1_start_time, responseTime)\n",
        "    print(\"Falso\")\n",
        "  Q1_startTime = responseTime\n",
        "\n",
        "print(enunc)\n",
        "inp = CustomInput(f=avalia)\n",
        "inp.display()\n"
      ],
      "metadata": {
        "colab": {
          "base_uri": "https://localhost:8080/",
          "height": 344,
          "referenced_widgets": [
            "9914c93c1e2f4e6ca1cbac0bc6818264",
            "cf742d7175814df690176b6b640d56a6",
            "63220aa899914a499d3d1a5e8cddc054",
            "ea6de12131a2404084283cd8d2d8b119",
            "dfa80f94443f4e298221510e2980c289",
            "7d6e4568762247998b7f4f222c369702"
          ]
        },
        "id": "sJEqW_52iOi-",
        "outputId": "064150c9-14fb-4062-89b1-d6f7c33e9289",
        "cellView": "form"
      },
      "execution_count": null,
      "outputs": [
        {
          "output_type": "stream",
          "name": "stdout",
          "text": [
            "Calcule o tamanho da tabela de página em molduras para uma memória virtual de 128 MB \n",
            " com memória física de 32 MB e página de 4096 bytes\n"
          ]
        },
        {
          "output_type": "display_data",
          "data": {
            "text/plain": [
              "Dropdown(description='Tamanho da Tabela em Molduras', options=(1, 2, 4, 8, 16, 32, 64, 128, 256, 512, 1024, 20…"
            ],
            "application/vnd.jupyter.widget-view+json": {
              "version_major": 2,
              "version_minor": 0,
              "model_id": "9914c93c1e2f4e6ca1cbac0bc6818264"
            }
          },
          "metadata": {}
        },
        {
          "output_type": "display_data",
          "data": {
            "text/plain": [
              "Button(description='Responder', style=ButtonStyle())"
            ],
            "application/vnd.jupyter.widget-view+json": {
              "version_major": 2,
              "version_minor": 0,
              "model_id": "ea6de12131a2404084283cd8d2d8b119"
            }
          },
          "metadata": {}
        },
        {
          "output_type": "stream",
          "name": "stdout",
          "text": [
            "try to connect\n",
            "17_24_1\n",
            "Send `Q1_1nivel; [False, [134217728, 33554432, 4096]]; 71269; 17_29_54; 17_38_38; 17_24_1` to topic `inf450/2023/Colab_Virtual/71269/17_24_1`\n",
            "Falso\n",
            "try to connect\n",
            "17_24_1\n",
            "Send `Q1_1nivel; [False, [134217728, 33554432, 4096]]; 71269; 17_29_54; 17_38_42; 17_24_1` to topic `inf450/2023/Colab_Virtual/71269/17_24_1`\n",
            "Falso\n",
            "try to connect\n",
            "17_24_1\n",
            "Send `Q1_1nivel; [True, [134217728, 33554432, 4096]]; 71269; 17_29_54; 17_40_10; 17_24_1` to topic `inf450/2023/Colab_Virtual/71269/17_24_1`\n",
            "Correto\n"
          ]
        }
      ]
    },
    {
      "cell_type": "markdown",
      "source": [
        "# Exercicio 2\n",
        "\n",
        "* [exemplo 128M virtual, 64KB fisica, pagina de 1024 - desenho](https://excalidraw.com/#json=wY3zItp8PzuSZi_Yz9P3K,iBH-0bYbXaK2y-aeSelNqg) + [explicacao em video neste exemplo ponteiro 1 byte](https://youtu.be/hCZrjIREtJU)\n",
        "\n",
        "* [exemplo 128M virtual, 256KB fisica, pagina de 256, desenho](https://excalidraw.com/#json=Xhca7R9qzU9UdBdNtfjqY,qwCqUNL40u3NClJh9XVlRw) + [explicacao em video neste exemplo ponteiro 2 bytes](https://youtu.be/ezCwUkhQkLk)\n",
        "\n",
        "* [Dois exemplos da aula de revisão para prova](https://youtu.be/AswXTFb_Xs0)\n",
        "\n",
        "\n",
        "* [Exemplos da **QUESTÃO 4** da prova de 2023](https://youtu.be/MZrO_w3t4is)"
      ],
      "metadata": {
        "id": "dQ2EmHcVPQjf"
      }
    },
    {
      "cell_type": "code",
      "source": [
        "#@title **Exercicio 2** Tabela de Página com 2 niveis, espaço de uma página de dados, segundo nível usa 1 moldura\n",
        "enunc, resposta, q = gera_exec_pagina_2_niveis_tabela()\n",
        "Q2_start_time = getCurrentTime()\n",
        "def avalia(*args):\n",
        "  global Q2_start_time\n",
        "  responseTime = getCurrentTime()\n",
        "  if(resposta[\"size\"] == args[0]):\n",
        "    monitora(\"Q2_2nivel1pag\",[True,q],ID, Q2_start_time, responseTime)\n",
        "    print(\"Correto\")\n",
        "  else:\n",
        "    monitora(\"Q2_2nivel1pag\",[False,q],ID, Q2_start_time, responseTime)\n",
        "    print(\"Falso\")\n",
        "  Q2_start_time = responseTime\n",
        "\n",
        "print(enunc)\n",
        "inp = CustomInput1(f=avalia)\n",
        "inp.display()\n"
      ],
      "metadata": {
        "colab": {
          "base_uri": "https://localhost:8080/",
          "height": 257,
          "referenced_widgets": [
            "b615c870b32d4d44ac9e58e68eb80fca",
            "098c6ded02b34d1b9357c45cdf6bdbf0",
            "ca13664f22e443628fc1352178bd030c",
            "1c7a40b7f0c840a2a76704d1653a85ec",
            "a7e389c5afa64e5e9009cadce0238b8e",
            "f3604bca70a34054841f5d6236ed0817"
          ]
        },
        "id": "tBImZE2FPzPB",
        "outputId": "877740ab-7ab5-469e-d733-1dc147f94614",
        "cellView": "form"
      },
      "execution_count": null,
      "outputs": [
        {
          "output_type": "stream",
          "name": "stdout",
          "text": [
            "Calcule número mínimo de molduras ocupado pelos ponteiros da tabela de página \n",
            " considere apenas as páginas ocupadas por ponteiros do primeiro e segundo nivel \n",
            " para ter uma página de dados na memória \n",
            " com dois níveis de paginação, onde o segundo nível ocupa uma moldura, para uma memória virtual de 4 GB \n",
            " com memória física de 256 KB e página de 256 bytes\n"
          ]
        },
        {
          "output_type": "display_data",
          "data": {
            "text/plain": [
              "IntText(value=0, description='Digite um número inteiro:')"
            ],
            "application/vnd.jupyter.widget-view+json": {
              "version_major": 2,
              "version_minor": 0,
              "model_id": "b615c870b32d4d44ac9e58e68eb80fca"
            }
          },
          "metadata": {}
        },
        {
          "output_type": "display_data",
          "data": {
            "text/plain": [
              "Button(description='Responder', style=ButtonStyle())"
            ],
            "application/vnd.jupyter.widget-view+json": {
              "version_major": 2,
              "version_minor": 0,
              "model_id": "1c7a40b7f0c840a2a76704d1653a85ec"
            }
          },
          "metadata": {}
        },
        {
          "output_type": "stream",
          "name": "stdout",
          "text": [
            "try to connect\n",
            "19_0_32\n",
            "Send `Q2_2nivel1pag; [True, [4294967296, 262144, 256]]; 71269; 19_51_30; 19_54_18; 19_0_32` to topic `inf450/2023/Colab_Virtual/71269/19_0_32`\n",
            "Correto\n"
          ]
        }
      ]
    },
    {
      "cell_type": "markdown",
      "source": [
        "# Exercicio 3\n",
        "* [Exemplo com virtual 16G com paginas de 2K, fisica 512M, ocupação ótima para 3072 páginas](https://excalidraw.com/#json=nVzzIXms8zQAT_7tBIyqh,RUQEQ-TnSorrcUfPMz2W7w) + [video com explicacoes com ponteiros de 4 bytes](https://youtu.be/L0kvdERnRv8)\n",
        "\n",
        "* [Dois exemplos de aula de revisão para prova](https://youtu.be/0wk9WBrvpCA)\n",
        "\n",
        "\n",
        "* [Exemplos da **QUESTÃO 4** da prova de 2023](https://youtu.be/MZrO_w3t4is)"
      ],
      "metadata": {
        "id": "zBESoTbCmUZQ"
      }
    },
    {
      "cell_type": "code",
      "source": [
        "#@title **Exercicio 3** Tabela de Página com 2 niveis, espaço otimo para ocupação considerando X páginas, segundo nível usa 1 moldura\n",
        "enunc, resposta, q = Ocupacao_otima_1_5_moldura_pagina_2_niveis()\n",
        "Q3_start_time = getCurrentTime()\n",
        "def avalia(*args):\n",
        "  global Q3_start_time\n",
        "  responseTime = getCurrentTime()\n",
        "  if(resposta[\"size\"] == args[0]):\n",
        "    monitora(\"Q3_2nivelOtimoXpag\",[True,q],ID, Q3_start_time, responseTime)\n",
        "    print(\"Correto\")\n",
        "  else:\n",
        "    monitora(\"Q3_2nivelOtimoXpag\",[False,q],ID, Q3_start_time, responseTime)\n",
        "    print(\"Falso\")\n",
        "  Q3_startTime = responseTime\n",
        "\n",
        "print(enunc)\n",
        "inp = CustomInput1(f=avalia)\n",
        "inp.display()\n",
        "\n"
      ],
      "metadata": {
        "colab": {
          "base_uri": "https://localhost:8080/",
          "height": 240,
          "referenced_widgets": [
            "a663120b1ff94319a26bf84c2ca26758",
            "77d9ba2e783f4c0f9f50d9d772148655",
            "d7712a41b7e349acb9cc72b00cbb5ab9",
            "ee478f5ece844a8785a25933c31c7cde",
            "f9a553e040c54b55a172d9b6021ada14",
            "2a94734633bd48d1b225d1610811517a"
          ]
        },
        "id": "xMkF3fobh5eB",
        "outputId": "244a41f2-e651-4b70-d97e-1e5f7c906c79",
        "cellView": "form"
      },
      "execution_count": null,
      "outputs": [
        {
          "output_type": "stream",
          "name": "stdout",
          "text": [
            "Calcule número mínimo de molduras ocupado pelos ponteiros da tabela de página \n",
            " para ter 1536.0 páginas de dados na memória \n",
            " com dois níveis de paginação, onde o segundo nível ocupa uma moldura, para uma memória virtual de 128 GB \n",
            " com memória física de 16 MB e página de 1024 bytes\n"
          ]
        },
        {
          "output_type": "display_data",
          "data": {
            "text/plain": [
              "IntText(value=0, description='Digite um número inteiro:')"
            ],
            "application/vnd.jupyter.widget-view+json": {
              "version_major": 2,
              "version_minor": 0,
              "model_id": "a663120b1ff94319a26bf84c2ca26758"
            }
          },
          "metadata": {}
        },
        {
          "output_type": "display_data",
          "data": {
            "text/plain": [
              "Button(description='Responder', style=ButtonStyle())"
            ],
            "application/vnd.jupyter.widget-view+json": {
              "version_major": 2,
              "version_minor": 0,
              "model_id": "ee478f5ece844a8785a25933c31c7cde"
            }
          },
          "metadata": {}
        },
        {
          "output_type": "stream",
          "name": "stdout",
          "text": [
            "try to connect\n",
            "19_0_32\n",
            "Send `Q3_2nivelOtimoXpag; [True, [137438953472, 16777216, 1024]]; 71269; 20_2_36; 20_7_59; 19_0_32` to topic `inf450/2023/Colab_Virtual/71269/19_0_32`\n",
            "Correto\n"
          ]
        }
      ]
    },
    {
      "cell_type": "markdown",
      "source": [
        "# Exercicio 4\n",
        "\n",
        "* [Exemplo 256G virtual, 8M fisica, pagina 8k, ocupacao maxima e otima, segundo nivel 1 moldura](https://excalidraw.com/#json=T8fACajHVnseKtsfRB0JC,XwZp_GC0wvOqCGSicm4dlg) + [explicacoes com ponteiros de 2 bytes, não chega nem a ocupar uma moldura de segundo nível](https://youtu.be/RWm4ImJ18CY)\n",
        "\n",
        "* [exemplo com 64 G Virtual, 32M fisica, 1k pagina, ocupacao maxima de otima da memoria com dados, segundo nivel 1 moldura](https://excalidraw.com/#json=zjhRtNucw_VvSzyjqlC6K,Fx5ZaooyZosPq0VVufFAEg) [explicacoes com 2 byte de ponteiros](https://youtu.be/1MPUm-YvBIg)\n",
        "\n",
        "* [exemplo com 256 G Virtual, 64M fisica, 1k pagina, ocupacao maxima de otima da memoria com dados, segundo nivel 1 moldura](https://excalidraw.com/#json=2087Vs7HCWfqAxe7qFCPZ,TlWOIBM3UClCFTc6-y44Dg) [explicacoes com 2 byte de ponteiros](https://youtu.be/EogoROU_atA)\n",
        "\n",
        "* [Dois exemplos da aula de revisão para prova](https://youtu.be/8D6M0YOWrQQ)\n",
        "\n",
        "* [Exemplos para **QUESTÃO 5** da prova 2023](https://youtu.be/RIRGim_mpjQ)"
      ],
      "metadata": {
        "id": "wtAVnvAXvaLF"
      }
    },
    {
      "cell_type": "code",
      "source": [
        "#@title **Exercicio 4** Tabela de Página com 2 niveis, espaço otimo para ocupação maxima, segundo nível usa 1 moldura\n",
        "enunc, resposta, q = ocupacao_maxima_pagina_2_niveis_tabela()\n",
        "Q4_start_time = getCurrentTime()\n",
        "def avalia(*args):\n",
        "  global Q4_start_time\n",
        "  responseTime = getCurrentTime()\n",
        "  if(resposta[\"size\"] == args[0] and resposta[\"pages\"] == args[1]):\n",
        "    monitora(\"Q4_2NiveisOtimoCheia\",[True,q],ID, Q4_start_time, responseTime)\n",
        "    print(\"Correto\")\n",
        "  else:\n",
        "    monitora(\"Q4_2NiveisOtimoCheia\",[False,q],ID, Q4_start_time, responseTime)\n",
        "    print(\"Falso\")\n",
        "  Q4_startTime = responseTime\n",
        "\n",
        "print(enunc)\n",
        "inp = CustomInput2(f=avalia)\n",
        "inp.display()\n",
        "\n"
      ],
      "metadata": {
        "colab": {
          "base_uri": "https://localhost:8080/",
          "height": 357,
          "referenced_widgets": [
            "8a5fa65ea57a40ad982d2d632bfaf2b8",
            "1b21529d50794253a354398718284df5",
            "a5d86a532d1d487993fee990e11307ab",
            "9f1e6191fb39463c83ed68a0cec942e5",
            "740bd94e39604a94be0a7dd2eb59667a",
            "78955bcaaa2a4a10b3badc37a537525d",
            "0a847e9a8e1b4924b67ec277ad2554f7",
            "7768946586804750a881b616d0a3e06e",
            "5a782b81b78846c7afab6ce8a8ae7e55"
          ]
        },
        "id": "HSABHxaY4P1R",
        "outputId": "90e3b010-3def-421f-e323-47f24e6a0d60",
        "cellView": "form"
      },
      "execution_count": null,
      "outputs": [
        {
          "output_type": "stream",
          "name": "stdout",
          "text": [
            "Calcule número de molduras ocupadas pelos ponteiros da tabela de página e pelos dados \n",
            " incluindo primeiro e segundo nível \n",
            " para ter o máximo de páginas de dados na memória \n",
            " com mínimo de páginas de ponteiros de dois níveis de paginação, onde o segundo nível ocupa uma moldura, para uma memória virtual de 512 GB \n",
            " com memória física de 8 MB e página de 1024 bytes\n"
          ]
        },
        {
          "output_type": "display_data",
          "data": {
            "text/plain": [
              "IntText(value=0, description='Tab Ptr:')"
            ],
            "application/vnd.jupyter.widget-view+json": {
              "version_major": 2,
              "version_minor": 0,
              "model_id": "8a5fa65ea57a40ad982d2d632bfaf2b8"
            }
          },
          "metadata": {}
        },
        {
          "output_type": "display_data",
          "data": {
            "text/plain": [
              "IntText(value=0, description='Dados:')"
            ],
            "application/vnd.jupyter.widget-view+json": {
              "version_major": 2,
              "version_minor": 0,
              "model_id": "9f1e6191fb39463c83ed68a0cec942e5"
            }
          },
          "metadata": {}
        },
        {
          "output_type": "display_data",
          "data": {
            "text/plain": [
              "Button(description='Responder', style=ButtonStyle())"
            ],
            "application/vnd.jupyter.widget-view+json": {
              "version_major": 2,
              "version_minor": 0,
              "model_id": "0a847e9a8e1b4924b67ec277ad2554f7"
            }
          },
          "metadata": {}
        },
        {
          "output_type": "stream",
          "name": "stdout",
          "text": [
            "try to connect\n",
            "19_0_32\n",
            "Send `Q4_2NiveisOtimoCheia; [False, [549755813888, 8388608, 1024]]; 71269; 20_17_40; 20_26_33; 19_0_32` to topic `inf450/2023/Colab_Virtual/71269/19_0_32`\n",
            "Falso\n",
            "try to connect\n",
            "19_0_32\n",
            "Send `Q4_2NiveisOtimoCheia; [True, [549755813888, 8388608, 1024]]; 71269; 20_17_40; 20_26_38; 19_0_32` to topic `inf450/2023/Colab_Virtual/71269/19_0_32`\n",
            "Correto\n"
          ]
        }
      ]
    },
    {
      "cell_type": "markdown",
      "source": [
        "# exercicio 5\n",
        "\n",
        "* [esboco para 256M virtual, 64M fisica, pagina de 512, ponteiro de 4 bytes, ocupando primeira moldura livre para endereco 0xea6](https://excalidraw.com/#json=B4nuEowviPqVOMzKFLI97,a3A68O1_YjtpRZyHp077-A) + [video com explicações](https://youtu.be/S8qE2lUfsgM)\n",
        "\n",
        "* [esboco para 512M virtual, 128K fisica, 8K pagina, ponteiro 1 byte](https://excalidraw.com/#json=ECxMRRzjVzXYQMMsCAqAg,6nx93GihiE1I17BfUxjZPg) + [video com explicacoes](https://youtu.be/LuTFS1W2s_k)\n",
        "\n",
        "* [esboco para 2G virtual, 8M fisica, 4K pagina, ponteiro 2 bytes](https://excalidraw.com/#json=BZXXXTKJv1G_TKbFoQ2FL,gM_kcSKm0M6GdLc9AeXAZA) + [video com explicacoes](https://youtu.be/B7zqUHl5uWo)\n",
        "\n",
        "* [dois exemplos da aula de revisão para prova](https://youtu.be/KyUlZ2BkSOQ)\n",
        "\n",
        "* [Exemplos da aula de revisão antes da prova para **QUESTÃO 3** da prova 2023](https://youtu.be/flxWyFYF6n0)"
      ],
      "metadata": {
        "id": "uknZIkt8pugy"
      }
    },
    {
      "cell_type": "code",
      "source": [
        "#@title **Exercicio 5** Tabela de Página com 1 nivel, ocupa primeira moldura livre, quais são os dois acessos ?\n",
        "enunc, resposta, q = endereco_1_nivel_tabela()\n",
        "Q5_start_time = getCurrentTime()\n",
        "def avalia(*args):\n",
        "  global Q5_start_time\n",
        "  responseTime = getCurrentTime()\n",
        "  if(resposta[\"page\"] == int(args[0],16) and resposta[\"data\"] == int(args[1],16)):\n",
        "    monitora(\"Q5_1nivel_mapeamento\",[True,q],ID, Q5_start_time, responseTime)\n",
        "    print(\"Correto\")\n",
        "  else:\n",
        "    monitora(\"Q5_1nivel_mapeamento\",[False,q],ID, Q5_start_time, responseTime)\n",
        "    print(\"Falso\")\n",
        "  Q5_startTime = responseTime\n",
        "\n",
        "print(enunc)\n",
        "inp = CustomInput3(f=avalia)\n",
        "inp.display()\n",
        "\n"
      ],
      "metadata": {
        "colab": {
          "base_uri": "https://localhost:8080/",
          "height": 287,
          "referenced_widgets": [
            "9c8c76b8ab514e35afb68988d8aac7e8",
            "00397af8d06a402da216bc22d6be494c",
            "143e6aeb285d4bc2ba19b4e12108ac84",
            "1f09ddf8e15044efb6d5d50038d64bef",
            "3a31144935c141e1beebf4255292f182",
            "39321eda90e742ef969d52114f0ab7de",
            "bcc499c795644070a8fda3419194e7c2",
            "52d75bbe9b9f4dcab9fb0d3615ee2bb3",
            "83e6aa3b196741898b593444063b6ddb"
          ]
        },
        "cellView": "form",
        "id": "H6UOI4ZCWuL8",
        "outputId": "e495e8ee-22dc-431d-b0e2-9f176f1db0d9"
      },
      "execution_count": null,
      "outputs": [
        {
          "output_type": "stream",
          "name": "stdout",
          "text": [
            "Para uma memória virtual de 8 GB com memória física de 64 MB e página de 2097152 bytes \n",
            " suponha que o primeiro acesso aloque a primeira moldura livre \n",
            " e que a tabela esteja no inicio da memoria \n",
            " quais os dois enderecos que o processador gera \n",
            " para acessar a 0x64123e7\n"
          ]
        },
        {
          "output_type": "display_data",
          "data": {
            "text/plain": [
              "Text(value='0', description='1 Address:')"
            ],
            "application/vnd.jupyter.widget-view+json": {
              "version_major": 2,
              "version_minor": 0,
              "model_id": "9c8c76b8ab514e35afb68988d8aac7e8"
            }
          },
          "metadata": {}
        },
        {
          "output_type": "display_data",
          "data": {
            "text/plain": [
              "Text(value='0', description='2 Address:')"
            ],
            "application/vnd.jupyter.widget-view+json": {
              "version_major": 2,
              "version_minor": 0,
              "model_id": "1f09ddf8e15044efb6d5d50038d64bef"
            }
          },
          "metadata": {}
        },
        {
          "output_type": "display_data",
          "data": {
            "text/plain": [
              "Button(description='Responder', style=ButtonStyle())"
            ],
            "application/vnd.jupyter.widget-view+json": {
              "version_major": 2,
              "version_minor": 0,
              "model_id": "bcc499c795644070a8fda3419194e7c2"
            }
          },
          "metadata": {}
        },
        {
          "output_type": "stream",
          "name": "stdout",
          "text": [
            "try to connect\n",
            "19_0_32\n",
            "Send `Q5_1nivel_mapeamento; [True, [8589934592, 67108864, 2097152]]; 71269; 19_31_39; 19_39_27; 19_0_32` to topic `inf450/2023/Colab_Virtual/71269/19_0_32`\n",
            "Correto\n"
          ]
        }
      ]
    }
  ]
}