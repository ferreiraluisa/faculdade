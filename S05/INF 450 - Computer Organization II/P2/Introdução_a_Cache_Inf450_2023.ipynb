{
  "nbformat": 4,
  "nbformat_minor": 0,
  "metadata": {
    "colab": {
      "provenance": []
    },
    "kernelspec": {
      "name": "python3",
      "display_name": "Python 3"
    },
    "language_info": {
      "name": "python"
    },
    "widgets": {
      "application/vnd.jupyter.widget-state+json": {
        "dcc3c3fae9bd43168fa779487c43cf81": {
          "model_module": "@jupyter-widgets/controls",
          "model_name": "CheckboxModel",
          "model_module_version": "1.5.0",
          "state": {
            "_dom_classes": [],
            "_model_module": "@jupyter-widgets/controls",
            "_model_module_version": "1.5.0",
            "_model_name": "CheckboxModel",
            "_view_count": null,
            "_view_module": "@jupyter-widgets/controls",
            "_view_module_version": "1.5.0",
            "_view_name": "CheckboxView",
            "description": "Edit table",
            "description_tooltip": null,
            "disabled": false,
            "indent": false,
            "layout": "IPY_MODEL_fa48b81f660848f5b7a11b5e200801f5",
            "style": "IPY_MODEL_14fdf073253f42fc917d8f40ae2cbe38",
            "value": false
          }
        },
        "fa48b81f660848f5b7a11b5e200801f5": {
          "model_module": "@jupyter-widgets/base",
          "model_name": "LayoutModel",
          "model_module_version": "1.2.0",
          "state": {
            "_model_module": "@jupyter-widgets/base",
            "_model_module_version": "1.2.0",
            "_model_name": "LayoutModel",
            "_view_count": null,
            "_view_module": "@jupyter-widgets/base",
            "_view_module_version": "1.2.0",
            "_view_name": "LayoutView",
            "align_content": null,
            "align_items": null,
            "align_self": null,
            "border": null,
            "bottom": null,
            "display": null,
            "flex": null,
            "flex_flow": null,
            "grid_area": null,
            "grid_auto_columns": null,
            "grid_auto_flow": null,
            "grid_auto_rows": null,
            "grid_column": null,
            "grid_gap": null,
            "grid_row": null,
            "grid_template_areas": null,
            "grid_template_columns": null,
            "grid_template_rows": null,
            "height": null,
            "justify_content": null,
            "justify_items": null,
            "left": null,
            "margin": null,
            "max_height": null,
            "max_width": null,
            "min_height": null,
            "min_width": null,
            "object_fit": null,
            "object_position": null,
            "order": null,
            "overflow": null,
            "overflow_x": null,
            "overflow_y": null,
            "padding": null,
            "right": null,
            "top": null,
            "visibility": null,
            "width": null
          }
        },
        "14fdf073253f42fc917d8f40ae2cbe38": {
          "model_module": "@jupyter-widgets/controls",
          "model_name": "DescriptionStyleModel",
          "model_module_version": "1.5.0",
          "state": {
            "_model_module": "@jupyter-widgets/controls",
            "_model_module_version": "1.5.0",
            "_model_name": "DescriptionStyleModel",
            "_view_count": null,
            "_view_module": "@jupyter-widgets/base",
            "_view_module_version": "1.2.0",
            "_view_name": "StyleView",
            "description_width": ""
          }
        },
        "5cd4764cec344263ae70d5b65d4892cb": {
          "model_module": "@jupyter-widgets/controls",
          "model_name": "CheckboxModel",
          "model_module_version": "1.5.0",
          "state": {
            "_dom_classes": [],
            "_model_module": "@jupyter-widgets/controls",
            "_model_module_version": "1.5.0",
            "_model_name": "CheckboxModel",
            "_view_count": null,
            "_view_module": "@jupyter-widgets/controls",
            "_view_module_version": "1.5.0",
            "_view_name": "CheckboxView",
            "description": "Edit table",
            "description_tooltip": null,
            "disabled": false,
            "indent": false,
            "layout": "IPY_MODEL_cfeee0d2be9d49a3adada064ba1c0ba9",
            "style": "IPY_MODEL_b772ea0ee19c4000b075de479f818767",
            "value": false
          }
        },
        "cfeee0d2be9d49a3adada064ba1c0ba9": {
          "model_module": "@jupyter-widgets/base",
          "model_name": "LayoutModel",
          "model_module_version": "1.2.0",
          "state": {
            "_model_module": "@jupyter-widgets/base",
            "_model_module_version": "1.2.0",
            "_model_name": "LayoutModel",
            "_view_count": null,
            "_view_module": "@jupyter-widgets/base",
            "_view_module_version": "1.2.0",
            "_view_name": "LayoutView",
            "align_content": null,
            "align_items": null,
            "align_self": null,
            "border": null,
            "bottom": null,
            "display": null,
            "flex": null,
            "flex_flow": null,
            "grid_area": null,
            "grid_auto_columns": null,
            "grid_auto_flow": null,
            "grid_auto_rows": null,
            "grid_column": null,
            "grid_gap": null,
            "grid_row": null,
            "grid_template_areas": null,
            "grid_template_columns": null,
            "grid_template_rows": null,
            "height": null,
            "justify_content": null,
            "justify_items": null,
            "left": null,
            "margin": null,
            "max_height": null,
            "max_width": null,
            "min_height": null,
            "min_width": null,
            "object_fit": null,
            "object_position": null,
            "order": null,
            "overflow": null,
            "overflow_x": null,
            "overflow_y": null,
            "padding": null,
            "right": null,
            "top": null,
            "visibility": null,
            "width": null
          }
        },
        "b772ea0ee19c4000b075de479f818767": {
          "model_module": "@jupyter-widgets/controls",
          "model_name": "DescriptionStyleModel",
          "model_module_version": "1.5.0",
          "state": {
            "_model_module": "@jupyter-widgets/controls",
            "_model_module_version": "1.5.0",
            "_model_name": "DescriptionStyleModel",
            "_view_count": null,
            "_view_module": "@jupyter-widgets/base",
            "_view_module_version": "1.2.0",
            "_view_name": "StyleView",
            "description_width": ""
          }
        },
        "403496a07fc545b2838e83dc8a0a6527": {
          "model_module": "@jupyter-widgets/controls",
          "model_name": "CheckboxModel",
          "model_module_version": "1.5.0",
          "state": {
            "_dom_classes": [],
            "_model_module": "@jupyter-widgets/controls",
            "_model_module_version": "1.5.0",
            "_model_name": "CheckboxModel",
            "_view_count": null,
            "_view_module": "@jupyter-widgets/controls",
            "_view_module_version": "1.5.0",
            "_view_name": "CheckboxView",
            "description": "Edit table",
            "description_tooltip": null,
            "disabled": false,
            "indent": false,
            "layout": "IPY_MODEL_232ca8b4f6ae4755b2a857c03db6ff75",
            "style": "IPY_MODEL_6b527f9ba1244824be51cbee4d758ffb",
            "value": false
          }
        },
        "232ca8b4f6ae4755b2a857c03db6ff75": {
          "model_module": "@jupyter-widgets/base",
          "model_name": "LayoutModel",
          "model_module_version": "1.2.0",
          "state": {
            "_model_module": "@jupyter-widgets/base",
            "_model_module_version": "1.2.0",
            "_model_name": "LayoutModel",
            "_view_count": null,
            "_view_module": "@jupyter-widgets/base",
            "_view_module_version": "1.2.0",
            "_view_name": "LayoutView",
            "align_content": null,
            "align_items": null,
            "align_self": null,
            "border": null,
            "bottom": null,
            "display": null,
            "flex": null,
            "flex_flow": null,
            "grid_area": null,
            "grid_auto_columns": null,
            "grid_auto_flow": null,
            "grid_auto_rows": null,
            "grid_column": null,
            "grid_gap": null,
            "grid_row": null,
            "grid_template_areas": null,
            "grid_template_columns": null,
            "grid_template_rows": null,
            "height": null,
            "justify_content": null,
            "justify_items": null,
            "left": null,
            "margin": null,
            "max_height": null,
            "max_width": null,
            "min_height": null,
            "min_width": null,
            "object_fit": null,
            "object_position": null,
            "order": null,
            "overflow": null,
            "overflow_x": null,
            "overflow_y": null,
            "padding": null,
            "right": null,
            "top": null,
            "visibility": null,
            "width": null
          }
        },
        "6b527f9ba1244824be51cbee4d758ffb": {
          "model_module": "@jupyter-widgets/controls",
          "model_name": "DescriptionStyleModel",
          "model_module_version": "1.5.0",
          "state": {
            "_model_module": "@jupyter-widgets/controls",
            "_model_module_version": "1.5.0",
            "_model_name": "DescriptionStyleModel",
            "_view_count": null,
            "_view_module": "@jupyter-widgets/base",
            "_view_module_version": "1.2.0",
            "_view_name": "StyleView",
            "description_width": ""
          }
        },
        "21b3f575615a4a598fb561a02e172ded": {
          "model_module": "@jupyter-widgets/controls",
          "model_name": "CheckboxModel",
          "model_module_version": "1.5.0",
          "state": {
            "_dom_classes": [],
            "_model_module": "@jupyter-widgets/controls",
            "_model_module_version": "1.5.0",
            "_model_name": "CheckboxModel",
            "_view_count": null,
            "_view_module": "@jupyter-widgets/controls",
            "_view_module_version": "1.5.0",
            "_view_name": "CheckboxView",
            "description": "Edit table",
            "description_tooltip": null,
            "disabled": false,
            "indent": false,
            "layout": "IPY_MODEL_15c289a7271d472883415c79f7548f02",
            "style": "IPY_MODEL_fa89572b83094686be28ed8533708009",
            "value": false
          }
        },
        "15c289a7271d472883415c79f7548f02": {
          "model_module": "@jupyter-widgets/base",
          "model_name": "LayoutModel",
          "model_module_version": "1.2.0",
          "state": {
            "_model_module": "@jupyter-widgets/base",
            "_model_module_version": "1.2.0",
            "_model_name": "LayoutModel",
            "_view_count": null,
            "_view_module": "@jupyter-widgets/base",
            "_view_module_version": "1.2.0",
            "_view_name": "LayoutView",
            "align_content": null,
            "align_items": null,
            "align_self": null,
            "border": null,
            "bottom": null,
            "display": null,
            "flex": null,
            "flex_flow": null,
            "grid_area": null,
            "grid_auto_columns": null,
            "grid_auto_flow": null,
            "grid_auto_rows": null,
            "grid_column": null,
            "grid_gap": null,
            "grid_row": null,
            "grid_template_areas": null,
            "grid_template_columns": null,
            "grid_template_rows": null,
            "height": null,
            "justify_content": null,
            "justify_items": null,
            "left": null,
            "margin": null,
            "max_height": null,
            "max_width": null,
            "min_height": null,
            "min_width": null,
            "object_fit": null,
            "object_position": null,
            "order": null,
            "overflow": null,
            "overflow_x": null,
            "overflow_y": null,
            "padding": null,
            "right": null,
            "top": null,
            "visibility": null,
            "width": null
          }
        },
        "fa89572b83094686be28ed8533708009": {
          "model_module": "@jupyter-widgets/controls",
          "model_name": "DescriptionStyleModel",
          "model_module_version": "1.5.0",
          "state": {
            "_model_module": "@jupyter-widgets/controls",
            "_model_module_version": "1.5.0",
            "_model_name": "DescriptionStyleModel",
            "_view_count": null,
            "_view_module": "@jupyter-widgets/base",
            "_view_module_version": "1.2.0",
            "_view_name": "StyleView",
            "description_width": ""
          }
        },
        "f02359396d3348a9acdce6db218c5321": {
          "model_module": "@jupyter-widgets/controls",
          "model_name": "CheckboxModel",
          "model_module_version": "1.5.0",
          "state": {
            "_dom_classes": [],
            "_model_module": "@jupyter-widgets/controls",
            "_model_module_version": "1.5.0",
            "_model_name": "CheckboxModel",
            "_view_count": null,
            "_view_module": "@jupyter-widgets/controls",
            "_view_module_version": "1.5.0",
            "_view_name": "CheckboxView",
            "description": "Edit table",
            "description_tooltip": null,
            "disabled": false,
            "indent": false,
            "layout": "IPY_MODEL_f64f6ee5c81849f78ebdc4f37fa6fe0b",
            "style": "IPY_MODEL_7c80d23d308e47adb64e286855b8d547",
            "value": false
          }
        },
        "f64f6ee5c81849f78ebdc4f37fa6fe0b": {
          "model_module": "@jupyter-widgets/base",
          "model_name": "LayoutModel",
          "model_module_version": "1.2.0",
          "state": {
            "_model_module": "@jupyter-widgets/base",
            "_model_module_version": "1.2.0",
            "_model_name": "LayoutModel",
            "_view_count": null,
            "_view_module": "@jupyter-widgets/base",
            "_view_module_version": "1.2.0",
            "_view_name": "LayoutView",
            "align_content": null,
            "align_items": null,
            "align_self": null,
            "border": null,
            "bottom": null,
            "display": null,
            "flex": null,
            "flex_flow": null,
            "grid_area": null,
            "grid_auto_columns": null,
            "grid_auto_flow": null,
            "grid_auto_rows": null,
            "grid_column": null,
            "grid_gap": null,
            "grid_row": null,
            "grid_template_areas": null,
            "grid_template_columns": null,
            "grid_template_rows": null,
            "height": null,
            "justify_content": null,
            "justify_items": null,
            "left": null,
            "margin": null,
            "max_height": null,
            "max_width": null,
            "min_height": null,
            "min_width": null,
            "object_fit": null,
            "object_position": null,
            "order": null,
            "overflow": null,
            "overflow_x": null,
            "overflow_y": null,
            "padding": null,
            "right": null,
            "top": null,
            "visibility": null,
            "width": null
          }
        },
        "7c80d23d308e47adb64e286855b8d547": {
          "model_module": "@jupyter-widgets/controls",
          "model_name": "DescriptionStyleModel",
          "model_module_version": "1.5.0",
          "state": {
            "_model_module": "@jupyter-widgets/controls",
            "_model_module_version": "1.5.0",
            "_model_name": "DescriptionStyleModel",
            "_view_count": null,
            "_view_module": "@jupyter-widgets/base",
            "_view_module_version": "1.2.0",
            "_view_name": "StyleView",
            "description_width": ""
          }
        },
        "be3c643c17b34ab093c098a2058baadc": {
          "model_module": "@jupyter-widgets/controls",
          "model_name": "VBoxModel",
          "model_module_version": "1.5.0",
          "state": {
            "_dom_classes": [
              "widget-interact"
            ],
            "_model_module": "@jupyter-widgets/controls",
            "_model_module_version": "1.5.0",
            "_model_name": "VBoxModel",
            "_view_count": null,
            "_view_module": "@jupyter-widgets/controls",
            "_view_module_version": "1.5.0",
            "_view_name": "VBoxView",
            "box_style": "",
            "children": [
              "IPY_MODEL_408c964039514eed807280828431c572",
              "IPY_MODEL_b657baeb3e03423195d5f97482790f98"
            ],
            "layout": "IPY_MODEL_69de5f83998e4209bf05317ef2d374a0"
          }
        },
        "408c964039514eed807280828431c572": {
          "model_module": "@jupyter-widgets/controls",
          "model_name": "DropdownModel",
          "model_module_version": "1.5.0",
          "state": {
            "_dom_classes": [],
            "_model_module": "@jupyter-widgets/controls",
            "_model_module_version": "1.5.0",
            "_model_name": "DropdownModel",
            "_options_labels": [
              "cache1.png",
              "cache3.png",
              "cache2.png",
              "cache4.png"
            ],
            "_view_count": null,
            "_view_module": "@jupyter-widgets/controls",
            "_view_module_version": "1.5.0",
            "_view_name": "DropdownView",
            "description": "file",
            "description_tooltip": null,
            "disabled": false,
            "index": 3,
            "layout": "IPY_MODEL_c7543e609ae04fe1be380d09fc8342cb",
            "style": "IPY_MODEL_11a16ef0424c46efb770aef9b8c339eb"
          }
        },
        "b657baeb3e03423195d5f97482790f98": {
          "model_module": "@jupyter-widgets/output",
          "model_name": "OutputModel",
          "model_module_version": "1.0.0",
          "state": {
            "_dom_classes": [],
            "_model_module": "@jupyter-widgets/output",
            "_model_module_version": "1.0.0",
            "_model_name": "OutputModel",
            "_view_count": null,
            "_view_module": "@jupyter-widgets/output",
            "_view_module_version": "1.0.0",
            "_view_name": "OutputView",
            "layout": "IPY_MODEL_ec3a4e6e5890457b95c41ee98f997015",
            "msg_id": "",
            "outputs": [
              {
                "output_type": "display_data",
                "data": {
                  "image/png": "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\n",
                  "text/plain": "<IPython.core.display.Image object>"
                },
                "metadata": {
                  "image/png": {
                    "height": 400
                  }
                }
              }
            ]
          }
        },
        "69de5f83998e4209bf05317ef2d374a0": {
          "model_module": "@jupyter-widgets/base",
          "model_name": "LayoutModel",
          "model_module_version": "1.2.0",
          "state": {
            "_model_module": "@jupyter-widgets/base",
            "_model_module_version": "1.2.0",
            "_model_name": "LayoutModel",
            "_view_count": null,
            "_view_module": "@jupyter-widgets/base",
            "_view_module_version": "1.2.0",
            "_view_name": "LayoutView",
            "align_content": null,
            "align_items": null,
            "align_self": null,
            "border": null,
            "bottom": null,
            "display": null,
            "flex": null,
            "flex_flow": null,
            "grid_area": null,
            "grid_auto_columns": null,
            "grid_auto_flow": null,
            "grid_auto_rows": null,
            "grid_column": null,
            "grid_gap": null,
            "grid_row": null,
            "grid_template_areas": null,
            "grid_template_columns": null,
            "grid_template_rows": null,
            "height": null,
            "justify_content": null,
            "justify_items": null,
            "left": null,
            "margin": null,
            "max_height": null,
            "max_width": null,
            "min_height": null,
            "min_width": null,
            "object_fit": null,
            "object_position": null,
            "order": null,
            "overflow": null,
            "overflow_x": null,
            "overflow_y": null,
            "padding": null,
            "right": null,
            "top": null,
            "visibility": null,
            "width": null
          }
        },
        "c7543e609ae04fe1be380d09fc8342cb": {
          "model_module": "@jupyter-widgets/base",
          "model_name": "LayoutModel",
          "model_module_version": "1.2.0",
          "state": {
            "_model_module": "@jupyter-widgets/base",
            "_model_module_version": "1.2.0",
            "_model_name": "LayoutModel",
            "_view_count": null,
            "_view_module": "@jupyter-widgets/base",
            "_view_module_version": "1.2.0",
            "_view_name": "LayoutView",
            "align_content": null,
            "align_items": null,
            "align_self": null,
            "border": null,
            "bottom": null,
            "display": null,
            "flex": null,
            "flex_flow": null,
            "grid_area": null,
            "grid_auto_columns": null,
            "grid_auto_flow": null,
            "grid_auto_rows": null,
            "grid_column": null,
            "grid_gap": null,
            "grid_row": null,
            "grid_template_areas": null,
            "grid_template_columns": null,
            "grid_template_rows": null,
            "height": null,
            "justify_content": null,
            "justify_items": null,
            "left": null,
            "margin": null,
            "max_height": null,
            "max_width": null,
            "min_height": null,
            "min_width": null,
            "object_fit": null,
            "object_position": null,
            "order": null,
            "overflow": null,
            "overflow_x": null,
            "overflow_y": null,
            "padding": null,
            "right": null,
            "top": null,
            "visibility": null,
            "width": null
          }
        },
        "11a16ef0424c46efb770aef9b8c339eb": {
          "model_module": "@jupyter-widgets/controls",
          "model_name": "DescriptionStyleModel",
          "model_module_version": "1.5.0",
          "state": {
            "_model_module": "@jupyter-widgets/controls",
            "_model_module_version": "1.5.0",
            "_model_name": "DescriptionStyleModel",
            "_view_count": null,
            "_view_module": "@jupyter-widgets/base",
            "_view_module_version": "1.2.0",
            "_view_name": "StyleView",
            "description_width": ""
          }
        },
        "ec3a4e6e5890457b95c41ee98f997015": {
          "model_module": "@jupyter-widgets/base",
          "model_name": "LayoutModel",
          "model_module_version": "1.2.0",
          "state": {
            "_model_module": "@jupyter-widgets/base",
            "_model_module_version": "1.2.0",
            "_model_name": "LayoutModel",
            "_view_count": null,
            "_view_module": "@jupyter-widgets/base",
            "_view_module_version": "1.2.0",
            "_view_name": "LayoutView",
            "align_content": null,
            "align_items": null,
            "align_self": null,
            "border": null,
            "bottom": null,
            "display": null,
            "flex": null,
            "flex_flow": null,
            "grid_area": null,
            "grid_auto_columns": null,
            "grid_auto_flow": null,
            "grid_auto_rows": null,
            "grid_column": null,
            "grid_gap": null,
            "grid_row": null,
            "grid_template_areas": null,
            "grid_template_columns": null,
            "grid_template_rows": null,
            "height": null,
            "justify_content": null,
            "justify_items": null,
            "left": null,
            "margin": null,
            "max_height": null,
            "max_width": null,
            "min_height": null,
            "min_width": null,
            "object_fit": null,
            "object_position": null,
            "order": null,
            "overflow": null,
            "overflow_x": null,
            "overflow_y": null,
            "padding": null,
            "right": null,
            "top": null,
            "visibility": null,
            "width": null
          }
        },
        "6bb5abe97a2b4f21930183039ca187f5": {
          "model_module": "@jupyter-widgets/controls",
          "model_name": "CheckboxModel",
          "model_module_version": "1.5.0",
          "state": {
            "_dom_classes": [],
            "_model_module": "@jupyter-widgets/controls",
            "_model_module_version": "1.5.0",
            "_model_name": "CheckboxModel",
            "_view_count": null,
            "_view_module": "@jupyter-widgets/controls",
            "_view_module_version": "1.5.0",
            "_view_name": "CheckboxView",
            "description": "Edit table",
            "description_tooltip": null,
            "disabled": false,
            "indent": false,
            "layout": "IPY_MODEL_41d9cd7f077f4915aacfde22bbd9acba",
            "style": "IPY_MODEL_b04cdaa550a94982b17de27b271975ed",
            "value": false
          }
        },
        "41d9cd7f077f4915aacfde22bbd9acba": {
          "model_module": "@jupyter-widgets/base",
          "model_name": "LayoutModel",
          "model_module_version": "1.2.0",
          "state": {
            "_model_module": "@jupyter-widgets/base",
            "_model_module_version": "1.2.0",
            "_model_name": "LayoutModel",
            "_view_count": null,
            "_view_module": "@jupyter-widgets/base",
            "_view_module_version": "1.2.0",
            "_view_name": "LayoutView",
            "align_content": null,
            "align_items": null,
            "align_self": null,
            "border": null,
            "bottom": null,
            "display": null,
            "flex": null,
            "flex_flow": null,
            "grid_area": null,
            "grid_auto_columns": null,
            "grid_auto_flow": null,
            "grid_auto_rows": null,
            "grid_column": null,
            "grid_gap": null,
            "grid_row": null,
            "grid_template_areas": null,
            "grid_template_columns": null,
            "grid_template_rows": null,
            "height": null,
            "justify_content": null,
            "justify_items": null,
            "left": null,
            "margin": null,
            "max_height": null,
            "max_width": null,
            "min_height": null,
            "min_width": null,
            "object_fit": null,
            "object_position": null,
            "order": null,
            "overflow": null,
            "overflow_x": null,
            "overflow_y": null,
            "padding": null,
            "right": null,
            "top": null,
            "visibility": null,
            "width": null
          }
        },
        "b04cdaa550a94982b17de27b271975ed": {
          "model_module": "@jupyter-widgets/controls",
          "model_name": "DescriptionStyleModel",
          "model_module_version": "1.5.0",
          "state": {
            "_model_module": "@jupyter-widgets/controls",
            "_model_module_version": "1.5.0",
            "_model_name": "DescriptionStyleModel",
            "_view_count": null,
            "_view_module": "@jupyter-widgets/base",
            "_view_module_version": "1.2.0",
            "_view_name": "StyleView",
            "description_width": ""
          }
        },
        "a239d86d9ef2445ca3a1791063087064": {
          "model_module": "@jupyter-widgets/controls",
          "model_name": "CheckboxModel",
          "model_module_version": "1.5.0",
          "state": {
            "_dom_classes": [],
            "_model_module": "@jupyter-widgets/controls",
            "_model_module_version": "1.5.0",
            "_model_name": "CheckboxModel",
            "_view_count": null,
            "_view_module": "@jupyter-widgets/controls",
            "_view_module_version": "1.5.0",
            "_view_name": "CheckboxView",
            "description": "Edit table",
            "description_tooltip": null,
            "disabled": false,
            "indent": false,
            "layout": "IPY_MODEL_0fd69e47a3244bf8a6375244ff8fdb40",
            "style": "IPY_MODEL_2df45c4ad8b94886b3c5fde3f76b12ce",
            "value": false
          }
        },
        "0fd69e47a3244bf8a6375244ff8fdb40": {
          "model_module": "@jupyter-widgets/base",
          "model_name": "LayoutModel",
          "model_module_version": "1.2.0",
          "state": {
            "_model_module": "@jupyter-widgets/base",
            "_model_module_version": "1.2.0",
            "_model_name": "LayoutModel",
            "_view_count": null,
            "_view_module": "@jupyter-widgets/base",
            "_view_module_version": "1.2.0",
            "_view_name": "LayoutView",
            "align_content": null,
            "align_items": null,
            "align_self": null,
            "border": null,
            "bottom": null,
            "display": null,
            "flex": null,
            "flex_flow": null,
            "grid_area": null,
            "grid_auto_columns": null,
            "grid_auto_flow": null,
            "grid_auto_rows": null,
            "grid_column": null,
            "grid_gap": null,
            "grid_row": null,
            "grid_template_areas": null,
            "grid_template_columns": null,
            "grid_template_rows": null,
            "height": null,
            "justify_content": null,
            "justify_items": null,
            "left": null,
            "margin": null,
            "max_height": null,
            "max_width": null,
            "min_height": null,
            "min_width": null,
            "object_fit": null,
            "object_position": null,
            "order": null,
            "overflow": null,
            "overflow_x": null,
            "overflow_y": null,
            "padding": null,
            "right": null,
            "top": null,
            "visibility": null,
            "width": null
          }
        },
        "2df45c4ad8b94886b3c5fde3f76b12ce": {
          "model_module": "@jupyter-widgets/controls",
          "model_name": "DescriptionStyleModel",
          "model_module_version": "1.5.0",
          "state": {
            "_model_module": "@jupyter-widgets/controls",
            "_model_module_version": "1.5.0",
            "_model_name": "DescriptionStyleModel",
            "_view_count": null,
            "_view_module": "@jupyter-widgets/base",
            "_view_module_version": "1.2.0",
            "_view_name": "StyleView",
            "description_width": ""
          }
        },
        "b2e1245294ee43a2b39a680a2c3d8d7d": {
          "model_module": "@jupyter-widgets/controls",
          "model_name": "CheckboxModel",
          "model_module_version": "1.5.0",
          "state": {
            "_dom_classes": [],
            "_model_module": "@jupyter-widgets/controls",
            "_model_module_version": "1.5.0",
            "_model_name": "CheckboxModel",
            "_view_count": null,
            "_view_module": "@jupyter-widgets/controls",
            "_view_module_version": "1.5.0",
            "_view_name": "CheckboxView",
            "description": "Edit table",
            "description_tooltip": null,
            "disabled": false,
            "indent": false,
            "layout": "IPY_MODEL_96ecaa35cd944ac3b009f4c7baf5daca",
            "style": "IPY_MODEL_ac6a0531d87b456293b546768fe6a8ab",
            "value": true
          }
        },
        "96ecaa35cd944ac3b009f4c7baf5daca": {
          "model_module": "@jupyter-widgets/base",
          "model_name": "LayoutModel",
          "model_module_version": "1.2.0",
          "state": {
            "_model_module": "@jupyter-widgets/base",
            "_model_module_version": "1.2.0",
            "_model_name": "LayoutModel",
            "_view_count": null,
            "_view_module": "@jupyter-widgets/base",
            "_view_module_version": "1.2.0",
            "_view_name": "LayoutView",
            "align_content": null,
            "align_items": null,
            "align_self": null,
            "border": null,
            "bottom": null,
            "display": null,
            "flex": null,
            "flex_flow": null,
            "grid_area": null,
            "grid_auto_columns": null,
            "grid_auto_flow": null,
            "grid_auto_rows": null,
            "grid_column": null,
            "grid_gap": null,
            "grid_row": null,
            "grid_template_areas": null,
            "grid_template_columns": null,
            "grid_template_rows": null,
            "height": null,
            "justify_content": null,
            "justify_items": null,
            "left": null,
            "margin": null,
            "max_height": null,
            "max_width": null,
            "min_height": null,
            "min_width": null,
            "object_fit": null,
            "object_position": null,
            "order": null,
            "overflow": null,
            "overflow_x": null,
            "overflow_y": null,
            "padding": null,
            "right": null,
            "top": null,
            "visibility": null,
            "width": null
          }
        },
        "ac6a0531d87b456293b546768fe6a8ab": {
          "model_module": "@jupyter-widgets/controls",
          "model_name": "DescriptionStyleModel",
          "model_module_version": "1.5.0",
          "state": {
            "_model_module": "@jupyter-widgets/controls",
            "_model_module_version": "1.5.0",
            "_model_name": "DescriptionStyleModel",
            "_view_count": null,
            "_view_module": "@jupyter-widgets/base",
            "_view_module_version": "1.2.0",
            "_view_name": "StyleView",
            "description_width": ""
          }
        },
        "297ea7f8140045eeb89add5bf405e5fc": {
          "model_module": "@jupyter-widgets/controls",
          "model_name": "CheckboxModel",
          "model_module_version": "1.5.0",
          "state": {
            "_dom_classes": [],
            "_model_module": "@jupyter-widgets/controls",
            "_model_module_version": "1.5.0",
            "_model_name": "CheckboxModel",
            "_view_count": null,
            "_view_module": "@jupyter-widgets/controls",
            "_view_module_version": "1.5.0",
            "_view_name": "CheckboxView",
            "description": "Edit table",
            "description_tooltip": null,
            "disabled": false,
            "indent": false,
            "layout": "IPY_MODEL_f88efa8f594c451e89a93ffadf521d80",
            "style": "IPY_MODEL_06aef18e5abc4d1caf86ae2c75e51d59",
            "value": false
          }
        },
        "f88efa8f594c451e89a93ffadf521d80": {
          "model_module": "@jupyter-widgets/base",
          "model_name": "LayoutModel",
          "model_module_version": "1.2.0",
          "state": {
            "_model_module": "@jupyter-widgets/base",
            "_model_module_version": "1.2.0",
            "_model_name": "LayoutModel",
            "_view_count": null,
            "_view_module": "@jupyter-widgets/base",
            "_view_module_version": "1.2.0",
            "_view_name": "LayoutView",
            "align_content": null,
            "align_items": null,
            "align_self": null,
            "border": null,
            "bottom": null,
            "display": null,
            "flex": null,
            "flex_flow": null,
            "grid_area": null,
            "grid_auto_columns": null,
            "grid_auto_flow": null,
            "grid_auto_rows": null,
            "grid_column": null,
            "grid_gap": null,
            "grid_row": null,
            "grid_template_areas": null,
            "grid_template_columns": null,
            "grid_template_rows": null,
            "height": null,
            "justify_content": null,
            "justify_items": null,
            "left": null,
            "margin": null,
            "max_height": null,
            "max_width": null,
            "min_height": null,
            "min_width": null,
            "object_fit": null,
            "object_position": null,
            "order": null,
            "overflow": null,
            "overflow_x": null,
            "overflow_y": null,
            "padding": null,
            "right": null,
            "top": null,
            "visibility": null,
            "width": null
          }
        },
        "06aef18e5abc4d1caf86ae2c75e51d59": {
          "model_module": "@jupyter-widgets/controls",
          "model_name": "DescriptionStyleModel",
          "model_module_version": "1.5.0",
          "state": {
            "_model_module": "@jupyter-widgets/controls",
            "_model_module_version": "1.5.0",
            "_model_name": "DescriptionStyleModel",
            "_view_count": null,
            "_view_module": "@jupyter-widgets/base",
            "_view_module_version": "1.2.0",
            "_view_name": "StyleView",
            "description_width": ""
          }
        },
        "eee495cd76834bdf95063ba2660de2a7": {
          "model_module": "@jupyter-widgets/controls",
          "model_name": "CheckboxModel",
          "model_module_version": "1.5.0",
          "state": {
            "_dom_classes": [],
            "_model_module": "@jupyter-widgets/controls",
            "_model_module_version": "1.5.0",
            "_model_name": "CheckboxModel",
            "_view_count": null,
            "_view_module": "@jupyter-widgets/controls",
            "_view_module_version": "1.5.0",
            "_view_name": "CheckboxView",
            "description": "Edit table",
            "description_tooltip": null,
            "disabled": false,
            "indent": false,
            "layout": "IPY_MODEL_a6c76309d8224632a0740e0d4add90dd",
            "style": "IPY_MODEL_c865df4b8ffc4d28b47f414e1c4007ff",
            "value": false
          }
        },
        "a6c76309d8224632a0740e0d4add90dd": {
          "model_module": "@jupyter-widgets/base",
          "model_name": "LayoutModel",
          "model_module_version": "1.2.0",
          "state": {
            "_model_module": "@jupyter-widgets/base",
            "_model_module_version": "1.2.0",
            "_model_name": "LayoutModel",
            "_view_count": null,
            "_view_module": "@jupyter-widgets/base",
            "_view_module_version": "1.2.0",
            "_view_name": "LayoutView",
            "align_content": null,
            "align_items": null,
            "align_self": null,
            "border": null,
            "bottom": null,
            "display": null,
            "flex": null,
            "flex_flow": null,
            "grid_area": null,
            "grid_auto_columns": null,
            "grid_auto_flow": null,
            "grid_auto_rows": null,
            "grid_column": null,
            "grid_gap": null,
            "grid_row": null,
            "grid_template_areas": null,
            "grid_template_columns": null,
            "grid_template_rows": null,
            "height": null,
            "justify_content": null,
            "justify_items": null,
            "left": null,
            "margin": null,
            "max_height": null,
            "max_width": null,
            "min_height": null,
            "min_width": null,
            "object_fit": null,
            "object_position": null,
            "order": null,
            "overflow": null,
            "overflow_x": null,
            "overflow_y": null,
            "padding": null,
            "right": null,
            "top": null,
            "visibility": null,
            "width": null
          }
        },
        "c865df4b8ffc4d28b47f414e1c4007ff": {
          "model_module": "@jupyter-widgets/controls",
          "model_name": "DescriptionStyleModel",
          "model_module_version": "1.5.0",
          "state": {
            "_model_module": "@jupyter-widgets/controls",
            "_model_module_version": "1.5.0",
            "_model_name": "DescriptionStyleModel",
            "_view_count": null,
            "_view_module": "@jupyter-widgets/base",
            "_view_module_version": "1.2.0",
            "_view_name": "StyleView",
            "description_width": ""
          }
        },
        "b14d72ac71b848b08b0deb9b50ed59aa": {
          "model_module": "@jupyter-widgets/controls",
          "model_name": "CheckboxModel",
          "model_module_version": "1.5.0",
          "state": {
            "_dom_classes": [],
            "_model_module": "@jupyter-widgets/controls",
            "_model_module_version": "1.5.0",
            "_model_name": "CheckboxModel",
            "_view_count": null,
            "_view_module": "@jupyter-widgets/controls",
            "_view_module_version": "1.5.0",
            "_view_name": "CheckboxView",
            "description": "Edit table",
            "description_tooltip": null,
            "disabled": false,
            "indent": false,
            "layout": "IPY_MODEL_0854d820cca4483ea31375512d45d790",
            "style": "IPY_MODEL_cccfeecdb05843ddb97fa66312beb0b0",
            "value": false
          }
        },
        "0854d820cca4483ea31375512d45d790": {
          "model_module": "@jupyter-widgets/base",
          "model_name": "LayoutModel",
          "model_module_version": "1.2.0",
          "state": {
            "_model_module": "@jupyter-widgets/base",
            "_model_module_version": "1.2.0",
            "_model_name": "LayoutModel",
            "_view_count": null,
            "_view_module": "@jupyter-widgets/base",
            "_view_module_version": "1.2.0",
            "_view_name": "LayoutView",
            "align_content": null,
            "align_items": null,
            "align_self": null,
            "border": null,
            "bottom": null,
            "display": null,
            "flex": null,
            "flex_flow": null,
            "grid_area": null,
            "grid_auto_columns": null,
            "grid_auto_flow": null,
            "grid_auto_rows": null,
            "grid_column": null,
            "grid_gap": null,
            "grid_row": null,
            "grid_template_areas": null,
            "grid_template_columns": null,
            "grid_template_rows": null,
            "height": null,
            "justify_content": null,
            "justify_items": null,
            "left": null,
            "margin": null,
            "max_height": null,
            "max_width": null,
            "min_height": null,
            "min_width": null,
            "object_fit": null,
            "object_position": null,
            "order": null,
            "overflow": null,
            "overflow_x": null,
            "overflow_y": null,
            "padding": null,
            "right": null,
            "top": null,
            "visibility": null,
            "width": null
          }
        },
        "cccfeecdb05843ddb97fa66312beb0b0": {
          "model_module": "@jupyter-widgets/controls",
          "model_name": "DescriptionStyleModel",
          "model_module_version": "1.5.0",
          "state": {
            "_model_module": "@jupyter-widgets/controls",
            "_model_module_version": "1.5.0",
            "_model_name": "DescriptionStyleModel",
            "_view_count": null,
            "_view_module": "@jupyter-widgets/base",
            "_view_module_version": "1.2.0",
            "_view_name": "StyleView",
            "description_width": ""
          }
        },
        "a0a262ba01fd4822a104bc5654f1173e": {
          "model_module": "@jupyter-widgets/controls",
          "model_name": "CheckboxModel",
          "model_module_version": "1.5.0",
          "state": {
            "_dom_classes": [],
            "_model_module": "@jupyter-widgets/controls",
            "_model_module_version": "1.5.0",
            "_model_name": "CheckboxModel",
            "_view_count": null,
            "_view_module": "@jupyter-widgets/controls",
            "_view_module_version": "1.5.0",
            "_view_name": "CheckboxView",
            "description": "Edit table",
            "description_tooltip": null,
            "disabled": false,
            "indent": false,
            "layout": "IPY_MODEL_2870a311162f4ae49a51cb60fbc502c9",
            "style": "IPY_MODEL_119ef3d1f5634c27b1093520bdbe9f35",
            "value": false
          }
        },
        "2870a311162f4ae49a51cb60fbc502c9": {
          "model_module": "@jupyter-widgets/base",
          "model_name": "LayoutModel",
          "model_module_version": "1.2.0",
          "state": {
            "_model_module": "@jupyter-widgets/base",
            "_model_module_version": "1.2.0",
            "_model_name": "LayoutModel",
            "_view_count": null,
            "_view_module": "@jupyter-widgets/base",
            "_view_module_version": "1.2.0",
            "_view_name": "LayoutView",
            "align_content": null,
            "align_items": null,
            "align_self": null,
            "border": null,
            "bottom": null,
            "display": null,
            "flex": null,
            "flex_flow": null,
            "grid_area": null,
            "grid_auto_columns": null,
            "grid_auto_flow": null,
            "grid_auto_rows": null,
            "grid_column": null,
            "grid_gap": null,
            "grid_row": null,
            "grid_template_areas": null,
            "grid_template_columns": null,
            "grid_template_rows": null,
            "height": null,
            "justify_content": null,
            "justify_items": null,
            "left": null,
            "margin": null,
            "max_height": null,
            "max_width": null,
            "min_height": null,
            "min_width": null,
            "object_fit": null,
            "object_position": null,
            "order": null,
            "overflow": null,
            "overflow_x": null,
            "overflow_y": null,
            "padding": null,
            "right": null,
            "top": null,
            "visibility": null,
            "width": null
          }
        },
        "119ef3d1f5634c27b1093520bdbe9f35": {
          "model_module": "@jupyter-widgets/controls",
          "model_name": "DescriptionStyleModel",
          "model_module_version": "1.5.0",
          "state": {
            "_model_module": "@jupyter-widgets/controls",
            "_model_module_version": "1.5.0",
            "_model_name": "DescriptionStyleModel",
            "_view_count": null,
            "_view_module": "@jupyter-widgets/base",
            "_view_module_version": "1.2.0",
            "_view_name": "StyleView",
            "description_width": ""
          }
        },
        "6f3a4ce555fc48e5901ec84b0bb840b3": {
          "model_module": "@jupyter-widgets/controls",
          "model_name": "CheckboxModel",
          "model_module_version": "1.5.0",
          "state": {
            "_dom_classes": [],
            "_model_module": "@jupyter-widgets/controls",
            "_model_module_version": "1.5.0",
            "_model_name": "CheckboxModel",
            "_view_count": null,
            "_view_module": "@jupyter-widgets/controls",
            "_view_module_version": "1.5.0",
            "_view_name": "CheckboxView",
            "description": "Edit table",
            "description_tooltip": null,
            "disabled": false,
            "indent": false,
            "layout": "IPY_MODEL_b5f9aa12006a451c8838f8adf16de0cd",
            "style": "IPY_MODEL_180edaaf748045cb8ca57fc453b4af09",
            "value": false
          }
        },
        "b5f9aa12006a451c8838f8adf16de0cd": {
          "model_module": "@jupyter-widgets/base",
          "model_name": "LayoutModel",
          "model_module_version": "1.2.0",
          "state": {
            "_model_module": "@jupyter-widgets/base",
            "_model_module_version": "1.2.0",
            "_model_name": "LayoutModel",
            "_view_count": null,
            "_view_module": "@jupyter-widgets/base",
            "_view_module_version": "1.2.0",
            "_view_name": "LayoutView",
            "align_content": null,
            "align_items": null,
            "align_self": null,
            "border": null,
            "bottom": null,
            "display": null,
            "flex": null,
            "flex_flow": null,
            "grid_area": null,
            "grid_auto_columns": null,
            "grid_auto_flow": null,
            "grid_auto_rows": null,
            "grid_column": null,
            "grid_gap": null,
            "grid_row": null,
            "grid_template_areas": null,
            "grid_template_columns": null,
            "grid_template_rows": null,
            "height": null,
            "justify_content": null,
            "justify_items": null,
            "left": null,
            "margin": null,
            "max_height": null,
            "max_width": null,
            "min_height": null,
            "min_width": null,
            "object_fit": null,
            "object_position": null,
            "order": null,
            "overflow": null,
            "overflow_x": null,
            "overflow_y": null,
            "padding": null,
            "right": null,
            "top": null,
            "visibility": null,
            "width": null
          }
        },
        "180edaaf748045cb8ca57fc453b4af09": {
          "model_module": "@jupyter-widgets/controls",
          "model_name": "DescriptionStyleModel",
          "model_module_version": "1.5.0",
          "state": {
            "_model_module": "@jupyter-widgets/controls",
            "_model_module_version": "1.5.0",
            "_model_name": "DescriptionStyleModel",
            "_view_count": null,
            "_view_module": "@jupyter-widgets/base",
            "_view_module_version": "1.2.0",
            "_view_name": "StyleView",
            "description_width": ""
          }
        },
        "e0a83e45fc8945c6bb3ff76a2d71e7ac": {
          "model_module": "@jupyter-widgets/controls",
          "model_name": "CheckboxModel",
          "model_module_version": "1.5.0",
          "state": {
            "_dom_classes": [],
            "_model_module": "@jupyter-widgets/controls",
            "_model_module_version": "1.5.0",
            "_model_name": "CheckboxModel",
            "_view_count": null,
            "_view_module": "@jupyter-widgets/controls",
            "_view_module_version": "1.5.0",
            "_view_name": "CheckboxView",
            "description": "Edit table",
            "description_tooltip": null,
            "disabled": false,
            "indent": false,
            "layout": "IPY_MODEL_013ddecd498341a9af9e679c142d0ff2",
            "style": "IPY_MODEL_6cba1493f5d349b086c0c7059aa26ff0",
            "value": false
          }
        },
        "013ddecd498341a9af9e679c142d0ff2": {
          "model_module": "@jupyter-widgets/base",
          "model_name": "LayoutModel",
          "model_module_version": "1.2.0",
          "state": {
            "_model_module": "@jupyter-widgets/base",
            "_model_module_version": "1.2.0",
            "_model_name": "LayoutModel",
            "_view_count": null,
            "_view_module": "@jupyter-widgets/base",
            "_view_module_version": "1.2.0",
            "_view_name": "LayoutView",
            "align_content": null,
            "align_items": null,
            "align_self": null,
            "border": null,
            "bottom": null,
            "display": null,
            "flex": null,
            "flex_flow": null,
            "grid_area": null,
            "grid_auto_columns": null,
            "grid_auto_flow": null,
            "grid_auto_rows": null,
            "grid_column": null,
            "grid_gap": null,
            "grid_row": null,
            "grid_template_areas": null,
            "grid_template_columns": null,
            "grid_template_rows": null,
            "height": null,
            "justify_content": null,
            "justify_items": null,
            "left": null,
            "margin": null,
            "max_height": null,
            "max_width": null,
            "min_height": null,
            "min_width": null,
            "object_fit": null,
            "object_position": null,
            "order": null,
            "overflow": null,
            "overflow_x": null,
            "overflow_y": null,
            "padding": null,
            "right": null,
            "top": null,
            "visibility": null,
            "width": null
          }
        },
        "6cba1493f5d349b086c0c7059aa26ff0": {
          "model_module": "@jupyter-widgets/controls",
          "model_name": "DescriptionStyleModel",
          "model_module_version": "1.5.0",
          "state": {
            "_model_module": "@jupyter-widgets/controls",
            "_model_module_version": "1.5.0",
            "_model_name": "DescriptionStyleModel",
            "_view_count": null,
            "_view_module": "@jupyter-widgets/base",
            "_view_module_version": "1.2.0",
            "_view_name": "StyleView",
            "description_width": ""
          }
        },
        "1c056a2b9944475cbaa0c2e3cf37eeed": {
          "model_module": "@jupyter-widgets/controls",
          "model_name": "CheckboxModel",
          "model_module_version": "1.5.0",
          "state": {
            "_dom_classes": [],
            "_model_module": "@jupyter-widgets/controls",
            "_model_module_version": "1.5.0",
            "_model_name": "CheckboxModel",
            "_view_count": null,
            "_view_module": "@jupyter-widgets/controls",
            "_view_module_version": "1.5.0",
            "_view_name": "CheckboxView",
            "description": "Edit table",
            "description_tooltip": null,
            "disabled": false,
            "indent": false,
            "layout": "IPY_MODEL_0ed988e0fe104a2a966370454da07692",
            "style": "IPY_MODEL_279489cbe69845fa80f56e2908c99946",
            "value": false
          }
        },
        "0ed988e0fe104a2a966370454da07692": {
          "model_module": "@jupyter-widgets/base",
          "model_name": "LayoutModel",
          "model_module_version": "1.2.0",
          "state": {
            "_model_module": "@jupyter-widgets/base",
            "_model_module_version": "1.2.0",
            "_model_name": "LayoutModel",
            "_view_count": null,
            "_view_module": "@jupyter-widgets/base",
            "_view_module_version": "1.2.0",
            "_view_name": "LayoutView",
            "align_content": null,
            "align_items": null,
            "align_self": null,
            "border": null,
            "bottom": null,
            "display": null,
            "flex": null,
            "flex_flow": null,
            "grid_area": null,
            "grid_auto_columns": null,
            "grid_auto_flow": null,
            "grid_auto_rows": null,
            "grid_column": null,
            "grid_gap": null,
            "grid_row": null,
            "grid_template_areas": null,
            "grid_template_columns": null,
            "grid_template_rows": null,
            "height": null,
            "justify_content": null,
            "justify_items": null,
            "left": null,
            "margin": null,
            "max_height": null,
            "max_width": null,
            "min_height": null,
            "min_width": null,
            "object_fit": null,
            "object_position": null,
            "order": null,
            "overflow": null,
            "overflow_x": null,
            "overflow_y": null,
            "padding": null,
            "right": null,
            "top": null,
            "visibility": null,
            "width": null
          }
        },
        "279489cbe69845fa80f56e2908c99946": {
          "model_module": "@jupyter-widgets/controls",
          "model_name": "DescriptionStyleModel",
          "model_module_version": "1.5.0",
          "state": {
            "_model_module": "@jupyter-widgets/controls",
            "_model_module_version": "1.5.0",
            "_model_name": "DescriptionStyleModel",
            "_view_count": null,
            "_view_module": "@jupyter-widgets/base",
            "_view_module_version": "1.2.0",
            "_view_name": "StyleView",
            "description_width": ""
          }
        },
        "f97cf7df0a2244a688a3688fb437ec9f": {
          "model_module": "@jupyter-widgets/controls",
          "model_name": "CheckboxModel",
          "model_module_version": "1.5.0",
          "state": {
            "_dom_classes": [],
            "_model_module": "@jupyter-widgets/controls",
            "_model_module_version": "1.5.0",
            "_model_name": "CheckboxModel",
            "_view_count": null,
            "_view_module": "@jupyter-widgets/controls",
            "_view_module_version": "1.5.0",
            "_view_name": "CheckboxView",
            "description": "Edit table",
            "description_tooltip": null,
            "disabled": false,
            "indent": false,
            "layout": "IPY_MODEL_0094ed63823849d4913c0bed4b0c1e62",
            "style": "IPY_MODEL_9db02bd090374b7b89fd32289756a5c7",
            "value": false
          }
        },
        "0094ed63823849d4913c0bed4b0c1e62": {
          "model_module": "@jupyter-widgets/base",
          "model_name": "LayoutModel",
          "model_module_version": "1.2.0",
          "state": {
            "_model_module": "@jupyter-widgets/base",
            "_model_module_version": "1.2.0",
            "_model_name": "LayoutModel",
            "_view_count": null,
            "_view_module": "@jupyter-widgets/base",
            "_view_module_version": "1.2.0",
            "_view_name": "LayoutView",
            "align_content": null,
            "align_items": null,
            "align_self": null,
            "border": null,
            "bottom": null,
            "display": null,
            "flex": null,
            "flex_flow": null,
            "grid_area": null,
            "grid_auto_columns": null,
            "grid_auto_flow": null,
            "grid_auto_rows": null,
            "grid_column": null,
            "grid_gap": null,
            "grid_row": null,
            "grid_template_areas": null,
            "grid_template_columns": null,
            "grid_template_rows": null,
            "height": null,
            "justify_content": null,
            "justify_items": null,
            "left": null,
            "margin": null,
            "max_height": null,
            "max_width": null,
            "min_height": null,
            "min_width": null,
            "object_fit": null,
            "object_position": null,
            "order": null,
            "overflow": null,
            "overflow_x": null,
            "overflow_y": null,
            "padding": null,
            "right": null,
            "top": null,
            "visibility": null,
            "width": null
          }
        },
        "9db02bd090374b7b89fd32289756a5c7": {
          "model_module": "@jupyter-widgets/controls",
          "model_name": "DescriptionStyleModel",
          "model_module_version": "1.5.0",
          "state": {
            "_model_module": "@jupyter-widgets/controls",
            "_model_module_version": "1.5.0",
            "_model_name": "DescriptionStyleModel",
            "_view_count": null,
            "_view_module": "@jupyter-widgets/base",
            "_view_module_version": "1.2.0",
            "_view_name": "StyleView",
            "description_width": ""
          }
        },
        "b189435c6da5488294e5cb22bbd333b8": {
          "model_module": "@jupyter-widgets/controls",
          "model_name": "CheckboxModel",
          "model_module_version": "1.5.0",
          "state": {
            "_dom_classes": [],
            "_model_module": "@jupyter-widgets/controls",
            "_model_module_version": "1.5.0",
            "_model_name": "CheckboxModel",
            "_view_count": null,
            "_view_module": "@jupyter-widgets/controls",
            "_view_module_version": "1.5.0",
            "_view_name": "CheckboxView",
            "description": "Edit table",
            "description_tooltip": null,
            "disabled": false,
            "indent": false,
            "layout": "IPY_MODEL_0fd7dc0ea85840f1a43279e3aaf00eb3",
            "style": "IPY_MODEL_9f035f0e53504ed1b0dace8dbd0ebbcd",
            "value": false
          }
        },
        "0fd7dc0ea85840f1a43279e3aaf00eb3": {
          "model_module": "@jupyter-widgets/base",
          "model_name": "LayoutModel",
          "model_module_version": "1.2.0",
          "state": {
            "_model_module": "@jupyter-widgets/base",
            "_model_module_version": "1.2.0",
            "_model_name": "LayoutModel",
            "_view_count": null,
            "_view_module": "@jupyter-widgets/base",
            "_view_module_version": "1.2.0",
            "_view_name": "LayoutView",
            "align_content": null,
            "align_items": null,
            "align_self": null,
            "border": null,
            "bottom": null,
            "display": null,
            "flex": null,
            "flex_flow": null,
            "grid_area": null,
            "grid_auto_columns": null,
            "grid_auto_flow": null,
            "grid_auto_rows": null,
            "grid_column": null,
            "grid_gap": null,
            "grid_row": null,
            "grid_template_areas": null,
            "grid_template_columns": null,
            "grid_template_rows": null,
            "height": null,
            "justify_content": null,
            "justify_items": null,
            "left": null,
            "margin": null,
            "max_height": null,
            "max_width": null,
            "min_height": null,
            "min_width": null,
            "object_fit": null,
            "object_position": null,
            "order": null,
            "overflow": null,
            "overflow_x": null,
            "overflow_y": null,
            "padding": null,
            "right": null,
            "top": null,
            "visibility": null,
            "width": null
          }
        },
        "9f035f0e53504ed1b0dace8dbd0ebbcd": {
          "model_module": "@jupyter-widgets/controls",
          "model_name": "DescriptionStyleModel",
          "model_module_version": "1.5.0",
          "state": {
            "_model_module": "@jupyter-widgets/controls",
            "_model_module_version": "1.5.0",
            "_model_name": "DescriptionStyleModel",
            "_view_count": null,
            "_view_module": "@jupyter-widgets/base",
            "_view_module_version": "1.2.0",
            "_view_name": "StyleView",
            "description_width": ""
          }
        },
        "e4b475c97cf54f6b9189a7314d5fe25a": {
          "model_module": "@jupyter-widgets/controls",
          "model_name": "CheckboxModel",
          "model_module_version": "1.5.0",
          "state": {
            "_dom_classes": [],
            "_model_module": "@jupyter-widgets/controls",
            "_model_module_version": "1.5.0",
            "_model_name": "CheckboxModel",
            "_view_count": null,
            "_view_module": "@jupyter-widgets/controls",
            "_view_module_version": "1.5.0",
            "_view_name": "CheckboxView",
            "description": "Edit table",
            "description_tooltip": null,
            "disabled": false,
            "indent": false,
            "layout": "IPY_MODEL_50d12846ba0147e4ab82b60c6c553536",
            "style": "IPY_MODEL_1185c2fb35904dadb1d6ed584af1fbae",
            "value": false
          }
        },
        "50d12846ba0147e4ab82b60c6c553536": {
          "model_module": "@jupyter-widgets/base",
          "model_name": "LayoutModel",
          "model_module_version": "1.2.0",
          "state": {
            "_model_module": "@jupyter-widgets/base",
            "_model_module_version": "1.2.0",
            "_model_name": "LayoutModel",
            "_view_count": null,
            "_view_module": "@jupyter-widgets/base",
            "_view_module_version": "1.2.0",
            "_view_name": "LayoutView",
            "align_content": null,
            "align_items": null,
            "align_self": null,
            "border": null,
            "bottom": null,
            "display": null,
            "flex": null,
            "flex_flow": null,
            "grid_area": null,
            "grid_auto_columns": null,
            "grid_auto_flow": null,
            "grid_auto_rows": null,
            "grid_column": null,
            "grid_gap": null,
            "grid_row": null,
            "grid_template_areas": null,
            "grid_template_columns": null,
            "grid_template_rows": null,
            "height": null,
            "justify_content": null,
            "justify_items": null,
            "left": null,
            "margin": null,
            "max_height": null,
            "max_width": null,
            "min_height": null,
            "min_width": null,
            "object_fit": null,
            "object_position": null,
            "order": null,
            "overflow": null,
            "overflow_x": null,
            "overflow_y": null,
            "padding": null,
            "right": null,
            "top": null,
            "visibility": null,
            "width": null
          }
        },
        "1185c2fb35904dadb1d6ed584af1fbae": {
          "model_module": "@jupyter-widgets/controls",
          "model_name": "DescriptionStyleModel",
          "model_module_version": "1.5.0",
          "state": {
            "_model_module": "@jupyter-widgets/controls",
            "_model_module_version": "1.5.0",
            "_model_name": "DescriptionStyleModel",
            "_view_count": null,
            "_view_module": "@jupyter-widgets/base",
            "_view_module_version": "1.2.0",
            "_view_name": "StyleView",
            "description_width": ""
          }
        },
        "faa46766b87243f78e9fa943bfe2a293": {
          "model_module": "@jupyter-widgets/controls",
          "model_name": "CheckboxModel",
          "model_module_version": "1.5.0",
          "state": {
            "_dom_classes": [],
            "_model_module": "@jupyter-widgets/controls",
            "_model_module_version": "1.5.0",
            "_model_name": "CheckboxModel",
            "_view_count": null,
            "_view_module": "@jupyter-widgets/controls",
            "_view_module_version": "1.5.0",
            "_view_name": "CheckboxView",
            "description": "Edit table",
            "description_tooltip": null,
            "disabled": false,
            "indent": false,
            "layout": "IPY_MODEL_d769199f3d1342c79ccaa268d22ee7b8",
            "style": "IPY_MODEL_291eb230e2f648a6840ac8bb8f39ff0a",
            "value": true
          }
        },
        "d769199f3d1342c79ccaa268d22ee7b8": {
          "model_module": "@jupyter-widgets/base",
          "model_name": "LayoutModel",
          "model_module_version": "1.2.0",
          "state": {
            "_model_module": "@jupyter-widgets/base",
            "_model_module_version": "1.2.0",
            "_model_name": "LayoutModel",
            "_view_count": null,
            "_view_module": "@jupyter-widgets/base",
            "_view_module_version": "1.2.0",
            "_view_name": "LayoutView",
            "align_content": null,
            "align_items": null,
            "align_self": null,
            "border": null,
            "bottom": null,
            "display": null,
            "flex": null,
            "flex_flow": null,
            "grid_area": null,
            "grid_auto_columns": null,
            "grid_auto_flow": null,
            "grid_auto_rows": null,
            "grid_column": null,
            "grid_gap": null,
            "grid_row": null,
            "grid_template_areas": null,
            "grid_template_columns": null,
            "grid_template_rows": null,
            "height": null,
            "justify_content": null,
            "justify_items": null,
            "left": null,
            "margin": null,
            "max_height": null,
            "max_width": null,
            "min_height": null,
            "min_width": null,
            "object_fit": null,
            "object_position": null,
            "order": null,
            "overflow": null,
            "overflow_x": null,
            "overflow_y": null,
            "padding": null,
            "right": null,
            "top": null,
            "visibility": null,
            "width": null
          }
        },
        "291eb230e2f648a6840ac8bb8f39ff0a": {
          "model_module": "@jupyter-widgets/controls",
          "model_name": "DescriptionStyleModel",
          "model_module_version": "1.5.0",
          "state": {
            "_model_module": "@jupyter-widgets/controls",
            "_model_module_version": "1.5.0",
            "_model_name": "DescriptionStyleModel",
            "_view_count": null,
            "_view_module": "@jupyter-widgets/base",
            "_view_module_version": "1.2.0",
            "_view_name": "StyleView",
            "description_width": ""
          }
        },
        "efaf3a6ffc1445f6b5d46d878ed6682f": {
          "model_module": "@jupyter-widgets/controls",
          "model_name": "CheckboxModel",
          "model_module_version": "1.5.0",
          "state": {
            "_dom_classes": [],
            "_model_module": "@jupyter-widgets/controls",
            "_model_module_version": "1.5.0",
            "_model_name": "CheckboxModel",
            "_view_count": null,
            "_view_module": "@jupyter-widgets/controls",
            "_view_module_version": "1.5.0",
            "_view_name": "CheckboxView",
            "description": "Edit table",
            "description_tooltip": null,
            "disabled": false,
            "indent": false,
            "layout": "IPY_MODEL_e0eaa7721b48440fbe38169e4aa31e8b",
            "style": "IPY_MODEL_41abfa4b90d84be683ba91e9006e4c51",
            "value": false
          }
        },
        "e0eaa7721b48440fbe38169e4aa31e8b": {
          "model_module": "@jupyter-widgets/base",
          "model_name": "LayoutModel",
          "model_module_version": "1.2.0",
          "state": {
            "_model_module": "@jupyter-widgets/base",
            "_model_module_version": "1.2.0",
            "_model_name": "LayoutModel",
            "_view_count": null,
            "_view_module": "@jupyter-widgets/base",
            "_view_module_version": "1.2.0",
            "_view_name": "LayoutView",
            "align_content": null,
            "align_items": null,
            "align_self": null,
            "border": null,
            "bottom": null,
            "display": null,
            "flex": null,
            "flex_flow": null,
            "grid_area": null,
            "grid_auto_columns": null,
            "grid_auto_flow": null,
            "grid_auto_rows": null,
            "grid_column": null,
            "grid_gap": null,
            "grid_row": null,
            "grid_template_areas": null,
            "grid_template_columns": null,
            "grid_template_rows": null,
            "height": null,
            "justify_content": null,
            "justify_items": null,
            "left": null,
            "margin": null,
            "max_height": null,
            "max_width": null,
            "min_height": null,
            "min_width": null,
            "object_fit": null,
            "object_position": null,
            "order": null,
            "overflow": null,
            "overflow_x": null,
            "overflow_y": null,
            "padding": null,
            "right": null,
            "top": null,
            "visibility": null,
            "width": null
          }
        },
        "41abfa4b90d84be683ba91e9006e4c51": {
          "model_module": "@jupyter-widgets/controls",
          "model_name": "DescriptionStyleModel",
          "model_module_version": "1.5.0",
          "state": {
            "_model_module": "@jupyter-widgets/controls",
            "_model_module_version": "1.5.0",
            "_model_name": "DescriptionStyleModel",
            "_view_count": null,
            "_view_module": "@jupyter-widgets/base",
            "_view_module_version": "1.2.0",
            "_view_name": "StyleView",
            "description_width": ""
          }
        }
      }
    }
  },
  "cells": [
    {
      "cell_type": "markdown",
      "source": [
        "# Prova 2023\n",
        "\n",
        "* [exercicios de sequência de acesso com simuladores](https://youtu.be/um9Se1Nub6Y)\n",
        "\n",
        "\n",
        "* [aula de revisão para **questão 1 e 2** da prova 2023](https://youtu.be/knAflJ3Qmz0)\n",
        "\n",
        "* [colab de treino de questoes de tamanho dos campos](https://colab.research.google.com/drive/1dmRzbEnBkj3LgcAaKjobFRPek_aPJ_aa?usp=sharing)"
      ],
      "metadata": {
        "id": "Iodv20lq3l4R"
      }
    },
    {
      "cell_type": "markdown",
      "source": [
        "# Cache\n",
        "\n",
        "![](https://raw.githubusercontent.com/arduinoufv/inf450/master/figures/Captura%20de%20tela%20de%202022-08-21%2010-25-21.png)"
      ],
      "metadata": {
        "id": "V3GGaW55aKfs"
      }
    },
    {
      "cell_type": "markdown",
      "source": [
        "# Cache and Star Wars\n",
        "\n",
        "A long time ago, in a galaxy far, far away, the Empire was struggling with high latency memories. They knew they needed to act quickly to save their systems from failing completely. The solution they found was to exploit the spatial and temporal locality of their data by implementing a cache.\n",
        "\n",
        "Through the power of the Force, they utilized associativity to reduce cache conflicts and increase the efficiency of their system. By using medium size blocks, they were able to reduce the miss rate and avoid unnecessary trips to memory.\n",
        "\n",
        "The Empire also knew that they needed to avoid constantly writing to memory, which would only slow down their system even further. So they implemented the write back method to reduce writes to memory, and keep their system running smoothly.\n",
        "\n",
        "Finally, the Empire used the power of the Dark Side to implement the LRU (Least Recently Used) method, ensuring that the most recent data was always kept in the cache.\n",
        "\n",
        "Thanks to these powerful techniques, the Empire was able to save their systems from the brink of failure. They could continue to rule the galaxy with ease, knowing that their cache was always working to keep their systems running smoothly and efficiently."
      ],
      "metadata": {
        "id": "D59VZlXCnoUp"
      }
    },
    {
      "cell_type": "code",
      "source": [
        "#@title Criando a pasta local com as figuras\n",
        "!mkdir caches\n",
        "%cd caches\n",
        "!wget https://github.com/arduinoufv/inf450/raw/master/cache/figuras/cache1.png &> /dev/null\n",
        "!wget https://github.com/arduinoufv/inf450/raw/master/cache/figuras/cache2.png &> /dev/null\n",
        "!wget https://github.com/arduinoufv/inf450/raw/master/cache/figuras/cache3.png &> /dev/null\n",
        "!wget https://github.com/arduinoufv/inf450/raw/master/cache/figuras/cache4.png &> /dev/null\n",
        "%cd /content"
      ],
      "metadata": {
        "colab": {
          "base_uri": "https://localhost:8080/"
        },
        "id": "lGiuCKEjSOzu",
        "outputId": "4933c899-5c52-40f4-8552-e1515c435388",
        "cellView": "form"
      },
      "execution_count": null,
      "outputs": [
        {
          "output_type": "stream",
          "name": "stdout",
          "text": [
            "/content/caches\n",
            "/content\n"
          ]
        }
      ]
    },
    {
      "cell_type": "markdown",
      "source": [
        "## Qual é a cache do Processador do Colab ?"
      ],
      "metadata": {
        "id": "h_BEvA01K41U"
      }
    },
    {
      "cell_type": "code",
      "source": [
        "!lscpu | grep cache"
      ],
      "metadata": {
        "id": "mIoM0Ntk0yxi",
        "outputId": "4b9f58b7-2374-48a3-ed6a-9ac43a4c0f2e",
        "colab": {
          "base_uri": "https://localhost:8080/"
        }
      },
      "execution_count": null,
      "outputs": [
        {
          "output_type": "stream",
          "name": "stdout",
          "text": [
            "L1d cache:                       32 KiB\n",
            "L1i cache:                       32 KiB\n",
            "L2 cache:                        256 KiB\n",
            "L3 cache:                        55 MiB\n"
          ]
        }
      ]
    },
    {
      "cell_type": "code",
      "source": [
        "#@title Mostra uma animação da sequencia de figuras com controle manual para algumas figuras de Cache\n",
        "import os\n",
        "from IPython.display import Image\n",
        "\n",
        "import ipywidgets as widgets\n",
        "from ipywidgets import interact, interact_manual\n",
        "\n",
        "fdir = \"/content/caches/\"\n",
        "@interact\n",
        "def show_images(file=os.listdir('caches/')):\n",
        "    display(Image(fdir+file,height=400))"
      ],
      "metadata": {
        "colab": {
          "base_uri": "https://localhost:8080/",
          "height": 449,
          "referenced_widgets": [
            "be3c643c17b34ab093c098a2058baadc",
            "408c964039514eed807280828431c572",
            "b657baeb3e03423195d5f97482790f98",
            "69de5f83998e4209bf05317ef2d374a0",
            "c7543e609ae04fe1be380d09fc8342cb",
            "11a16ef0424c46efb770aef9b8c339eb",
            "ec3a4e6e5890457b95c41ee98f997015"
          ]
        },
        "id": "aAMU328bTq4r",
        "outputId": "40bca82c-da66-48ff-dcf8-fff86aa315da",
        "cellView": "form"
      },
      "execution_count": null,
      "outputs": [
        {
          "output_type": "display_data",
          "data": {
            "text/plain": [
              "interactive(children=(Dropdown(description='file', options=('cache1.png', 'cache3.png', 'cache2.png', 'cache4.…"
            ],
            "application/vnd.jupyter.widget-view+json": {
              "version_major": 2,
              "version_minor": 0,
              "model_id": "be3c643c17b34ab093c098a2058baadc"
            }
          },
          "metadata": {}
        }
      ]
    },
    {
      "cell_type": "code",
      "source": [
        "#@title Instalando plugin externos para suporte com Comandos mágicos a outras linguagens\n",
        "!pip install git+https://github.com/lesc-ufv/cad4u &> /dev/null\n",
        "!git clone https://github.com/lesc-ufv/cad4u &> /dev/null\n",
        "%load_ext plugin\n",
        "\n"
      ],
      "metadata": {
        "id": "AVgOEFRCpMSc"
      },
      "execution_count": null,
      "outputs": []
    },
    {
      "cell_type": "code",
      "source": [
        "#@title Imprime\n",
        "import pandas as pd\n",
        "import ipywidgets as widgets\n",
        "from IPython.display import display, clear_output\n",
        "\n",
        "def Imprime(filename):\n",
        "# create checkbox widget\n",
        "  checkbox = widgets.Checkbox(\n",
        "    value=False,\n",
        "    description='Edit table',\n",
        "    indent=False\n",
        "  )\n",
        "\n",
        "  # Lê o arquivo CSV e carrega em um dataframe\n",
        "  df = pd.read_csv(filename, delimiter=';')\n",
        "  df = df.fillna(\"-\")\n",
        "  from google.colab import data_table\n",
        "  # define function to display dataframe\n",
        "  def show_df(use_display):\n",
        "    clear_output()  # clear current output\n",
        "    if use_display:\n",
        "        display(df)\n",
        "    else:\n",
        "        print(df)\n",
        "    display(checkbox)\n",
        "  # display checkbox and dataframe\n",
        "  display(checkbox)\n",
        "  show_df(checkbox.value)\n",
        "\n",
        "  # define callback for checkbox widget\n",
        "  def on_checkbox_change(change):\n",
        "    show_df(change.new)\n",
        "\n",
        "  # attach callback to checkbox widget\n",
        "  checkbox.observe(on_checkbox_change, names='value')\n"
      ],
      "metadata": {
        "cellView": "form",
        "id": "-g_mmz3Oy6cr"
      },
      "execution_count": null,
      "outputs": []
    },
    {
      "cell_type": "markdown",
      "source": [
        "# Simuladores"
      ],
      "metadata": {
        "id": "8J1FdIfe3Igj"
      }
    },
    {
      "cell_type": "markdown",
      "source": [
        "## Simulador do NTU\n",
        "\n",
        "Ferramenta desenvolida pela \tDr. Smitha Kavallur Pisharath Gopi\n",
        "Nanyang Technological University com [vários tipos de Cache, escrita, sequências e tem um exemplo de memoria virtual](https://www3.ntu.edu.sg/home/smitha/ParaCache/Paracache/dmc.html)"
      ],
      "metadata": {
        "id": "bX4CLUIQ3Km4"
      }
    },
    {
      "cell_type": "code",
      "source": [
        "#@title Demo\n",
        "from IPython.display import YouTubeVideo\n",
        "YouTubeVideo('4twk9S9nKQs')"
      ],
      "metadata": {
        "colab": {
          "base_uri": "https://localhost:8080/",
          "height": 321
        },
        "cellView": "form",
        "id": "gxlMN-gC3R_5",
        "outputId": "92d92214-a1e5-42b4-f9e0-c3378ab7b717"
      },
      "execution_count": null,
      "outputs": [
        {
          "output_type": "execute_result",
          "data": {
            "text/plain": [
              "<IPython.lib.display.YouTubeVideo at 0x7f9676f45180>"
            ],
            "text/html": [
              "\n",
              "        <iframe\n",
              "            width=\"400\"\n",
              "            height=\"300\"\n",
              "            src=\"https://www.youtube.com/embed/4twk9S9nKQs\"\n",
              "            frameborder=\"0\"\n",
              "            allowfullscreen\n",
              "            \n",
              "        ></iframe>\n",
              "        "
            ]
          },
          "metadata": {},
          "execution_count": 2
        }
      ]
    },
    {
      "cell_type": "markdown",
      "source": [
        "## Simulador do Grupo do Prof. Sam Wolfson\n",
        "\n",
        "The Hardware/Software Interface\n",
        "Winter 2023 (wolfson@cs.uw.edu)\n",
        "\n",
        "* [Cache Simulator](https://courses.cs.washington.edu/courses/cse351/cachesim/)"
      ],
      "metadata": {
        "id": "0yrLUL1k6V8q"
      }
    },
    {
      "cell_type": "markdown",
      "source": [
        "# Simuladores para apoio de exercícios\n",
        "\n",
        "\n",
        "\n",
        "\n",
        "* [Simulador de Michigan](https://vhosts.eecs.umich.edu/370simulators/cache/simulator.html)\n",
        "\n",
        "\n",
        "[Slides e Vídeos da avaliação de simuladores da turma de 2020](https://docs.google.com/presentation/d/1LNsp_3ZWud4W_AGfWaYfViiDl8C3dVWJSXZGu1XD2wI/edit?usp=sharing)\n",
        "\n",
        "* [Colab Cache Mapeamento Direto em Verilog](https://colab.research.google.com/drive/1bh5ODMjvlMs8Zem0-SQ6tOvOpMCL16Ob?usp=sharing)\n",
        "\n",
        "* [Colab Cache 2 way e Gradio em Verilog](https://colab.research.google.com/drive/1ELlrZ0N4BvWV8JeeCjpqECF8oA79znWk?usp=sharing)\n",
        "\n",
        "* [Colab com o Simulador Valgrind](https://colab.research.google.com/drive/1FrlRcZ_Shg1IZSh-PPHvJZLSy0rLDR5N?usp=sharing)"
      ],
      "metadata": {
        "id": "Hs061fXBLF0U"
      }
    },
    {
      "cell_type": "markdown",
      "source": [
        "# Exercicios de Cache para Treinamento\n",
        "\n",
        "Para fazer o exercício, voce deve digitar a matricula. Para quem fizer pelo menos três vezes (com valores diferentes) cada um dos três exercícios (mínimo de 9, então), com a solução correta, ganha 1 ponto extra.\n",
        "\n",
        "[link para o colab](https://colab.research.google.com/drive/1dmRzbEnBkj3LgcAaKjobFRPek_aPJ_aa?usp=sharing)"
      ],
      "metadata": {
        "id": "xE7WkPpc811L"
      }
    },
    {
      "cell_type": "markdown",
      "source": [
        "# Caches\n",
        "\n",
        "Ideia: subconjunto da memória que é mais frequemente acessado (localidade temporal, localidade espacial dos dados e instruções).\n",
        "\n",
        "* Tempo de acesso\n",
        "* Tipos: onde será mapeado o dado\n",
        "   * Direto: rápida e baixo custo, porém tem conflitos\n",
        "   * N-way: reduz conflito, um pouco mais cara, continua rápida\n",
        "   * Totalmente Associativa: sem conflitos, porém alto custo e mais lenta quando o dado está na cache.\n",
        "* Política de Escrita\n",
        "* Política de Substituição\n",
        "* Múltiplas caches com Múltiplos Núcleos"
      ],
      "metadata": {
        "id": "waBpV-ONu6xB"
      }
    },
    {
      "cell_type": "markdown",
      "source": [
        "# Cache Mapeamento Direto"
      ],
      "metadata": {
        "id": "B3wWCmD5nnJS"
      }
    },
    {
      "cell_type": "markdown",
      "source": [
        "## Definição\n",
        "\n",
        "![](https://www.researchgate.net/profile/Philip-Shirvani/publication/3800962/figure/fig1/AS:669950486274049@1536740051086/Block-diagram-of-a-direct-mapped-cache.png)\n",
        "\n",
        "* Uma cache de mapeamento direto é um tipo de memória cache em que cada bloco de dados da memória principal é mapeado para uma **única linha** da cache.\n",
        "\n",
        "* O endereço de memória é dividido em **três partes**: o **índice da linha** da cache, o **deslocamento dentro da linha** da cache e o **tag** de identificação.\n",
        "  * O índice da linha é usado para localizar a linha correspondente na cache\n",
        "  * O deslocamento é usado para acessar o dado específico dentro da linha.\n",
        "  * O tag de identificação é usado para verificar se o dado na linha da cache corresponde ao dado na memória principal.\n",
        "\n",
        "* Se o **tag corresponder**, o dado é considerado válido e pode ser usado diretamente da cache, evitando a necessidade de acessar a memória principal.\n",
        "\n",
        "* Se o **tag não corresponder**, é necessário buscar o dado na memória principal e atualizar a linha correspondente na cache.\n",
        "\n",
        "* Uma cache de mapeamento direto é mais simples e fácil de implementar do que outros tipos de caches, mas pode levar a conflitos de cache se dois blocos de memória forem mapeados para a mesma linha da cache."
      ],
      "metadata": {
        "id": "p_1O_W3VlJ94"
      }
    },
    {
      "cell_type": "markdown",
      "source": [
        "## Cálculo dos Campos de endereço para um exemplo\n",
        "\n",
        "Para determinar a divisão do endereço em índice, tag e deslocamento, precisamos levar em consideração o tamanho da cache e o tamanho dos blocos.\n",
        "\n",
        "No caso descrito, temos uma cache de 32 KBytes, o que equivale a 2^15 bytes. Como os blocos são de 8 bytes, a cache tem 2^15 / 8 = 2^12 blocos ou linhas.\n",
        "\n",
        "$linhas = \\frac{Tamanho Cache}{Tamanho Bloco} = \\frac{2^{15}}{2^3}= 2^{12}=4096$ linhas\n",
        "\n",
        "Já a memória principal tem 4 GBytes, o que equivale a 2^32 bytes.\n",
        "\n",
        "Para a divisão do endereço em índice, tag e deslocamento, podemos usar a seguinte fórmula:\n",
        "\n",
        "Endereço = Tag + Índice + Deslocamento\n",
        "\n",
        "Onde:\n",
        "- Tag é o número de bits necessário para identificar exclusivamente cada bloco na memória principal.\n",
        "- Índice é o número de bits necessário para identificar qual linha da cache deve ser usada.\n",
        "- Deslocamento é o número de bits necessário para identificar a posição do byte dentro do bloco.\n",
        "\n",
        "Para encontrar a divisão adequada, precisamos encontrar o número de bits necessário para representar cada um desses valores. Como temos 2^12 blocos na cache, precisamos de 12 bits para o índice. O deslocamento é de 3 bits (2^3 = 8).\n",
        "\n",
        "Para encontrar o número de bits necessários para a tag, podemos subtrair o número de bits do índice e do deslocamento do tamanho total do endereço. Assim, temos:\n",
        "\n",
        "$Tag = Tamanho$ $do$ $Endereço - Índice - Deslocamento=$\n",
        "\n",
        "$= 32 bits - 12 bits  - 3 bits= 17$ bits\n",
        "\n",
        "Portanto, o endereço é dividido em:\n",
        "- 17 bits para o tag\n",
        "- 12 bits para o índice ou número da linha\n",
        "- 3 bits para o deslocamento ou acesso dentro do bloco"
      ],
      "metadata": {
        "id": "t9_YGpO8mcFE"
      }
    },
    {
      "cell_type": "markdown",
      "source": [
        "## Custo da Cache\n",
        "\n",
        "Para calcular o custo temos que considerar os recursos:\n",
        "* Decodificador de linha\n",
        "* Decodificador de bloco\n",
        "* comparador\n",
        "* Area para dados na Cache\n",
        "* Area para Tag na Cache\n",
        "\n",
        "Como parametros temos o tamanho do bloco, tamanho da cache e o tamanho da memória.\n",
        "\n",
        "Iremos fazer os seguintes passos:\n",
        "\n",
        "1. Dado o exemplo: 2 GB RAM, bloco 32 bytes e cache de 64 Kbytes.\n",
        "2. Calcular o número de bits do endereço da RAM. 2 GB = $2^{31}$ Bytes, portanto são 31 bits de endereçamento.\n",
        "3. Calcular número de linhas da cache. Cada linha tem um bloco. Portanto, número de linhas é o tamanho da cache dividido pelo tamanho do bloco. Linhas = $\\frac{Cache}{bloco}=\\frac{64K}{32}=2k$.\n",
        "4. Calcular o número de bits para endereçar as linhas, que será 2k=$2^{11}$ Bytes. Portanto serão 11 bits.\n",
        "5. Para o bloco precisaremos de 5 bits, pois $32=2^5$.\n",
        "6. Finalmente, podemos calcular o tamanho do **tag**, total de bits para ram menos os bits de endereçamento da linha e do bloco. Portanto, para nosso exemplo será 31-11-5=15 bits.\n",
        "\n",
        "[desenho fonte](https://excalidraw.com/#json=62He8nsHNcwPHmqj2liCi,1XASuUVlpmc10T9Hd5-wTQ)\n",
        "\n",
        "\n",
        "<img src= \"https://github.com/arduinoufv/inf450/blob/master/cache/figuras/cache_direto_2GB_64k_bloco_32.png?raw=true\" width = \"400px\">\n",
        "\n",
        "\n",
        "Para o custo teremos\n",
        "* decodificador de linha 11:2K\n",
        "* decodificador de bloco 5:32\n",
        "* comparador de 15 bits\n",
        "* 64 Kbytes de dados\n",
        "* 2k * 15 bits para armazenar os **tags**\n"
      ],
      "metadata": {
        "id": "hqzCp4CwoFep"
      }
    },
    {
      "cell_type": "markdown",
      "source": [
        "### Decoder\n",
        "\n",
        "![](https://github.com/arduinoufv/inf450/blob/master/cache/figuras/decoder3to8.gif?raw=true)\n",
        "\n",
        "[video](https://www.youtube.com/watch?v=GdghEJ2WT-w)"
      ],
      "metadata": {
        "id": "J6ZYrPXe0sQv"
      }
    },
    {
      "cell_type": "markdown",
      "source": [
        "### Exercicios\n",
        "\n",
        "1. RAM de 16 GB, Cache de 128KB, Bloco de 16 bytes, calcule os custos.\n",
        "\n",
        "2. RAM de 4 GB, Cache de 512KB, Bloco de 8 bytes, calcule os custos.\n",
        "\n",
        "1. RAM de 32 GB, Cache de 256KB, Bloco de 64 bytes, calcule os custos.\n",
        "\n"
      ],
      "metadata": {
        "id": "rn7KGKb9_aMS"
      }
    },
    {
      "cell_type": "markdown",
      "source": [
        "## Exemplos de Mapeamento na Cache"
      ],
      "metadata": {
        "id": "CYk12GcMoVHI"
      }
    },
    {
      "cell_type": "markdown",
      "source": [
        "### Exemplo 1\n",
        "\n",
        "Pequena cache e memória para fins didáticos. Cache com blocos de 2 bytes, memoria Ram de 256 bytes e uma cache de 8 bytes (4 linhas).\n",
        "\n",
        "* supor que a memória $i$ tem o dado $i$, por exemplo m[4] = 4\n",
        "\n",
        "Supor o conteudo inicial ilustrado abaixo:"
      ],
      "metadata": {
        "id": "cMCig2QDxtYN"
      }
    },
    {
      "cell_type": "code",
      "source": [
        "#@title Execute para carregar a cache inicial\n",
        "%%writefile exemplo.csv\n",
        "Tag; Dados\n",
        " - ; -\n",
        " - ; -\n",
        " - ; -\n",
        " - ; -\n"
      ],
      "metadata": {
        "colab": {
          "base_uri": "https://localhost:8080/"
        },
        "id": "BN0wZnRayNor",
        "outputId": "9f75966a-c56d-47d6-b1cd-322f15faf92f"
      },
      "execution_count": null,
      "outputs": [
        {
          "output_type": "stream",
          "name": "stdout",
          "text": [
            "Overwriting exemplo.csv\n"
          ]
        }
      ]
    },
    {
      "cell_type": "code",
      "source": [
        "Imprime(\"exemplo.csv\")"
      ],
      "metadata": {
        "colab": {
          "base_uri": "https://localhost:8080/",
          "height": 225,
          "referenced_widgets": [
            "faa46766b87243f78e9fa943bfe2a293",
            "d769199f3d1342c79ccaa268d22ee7b8",
            "291eb230e2f648a6840ac8bb8f39ff0a"
          ]
        },
        "id": "fy4Dp-ZizXZZ",
        "outputId": "d4192b2f-6734-4583-a9ac-5144db05416a"
      },
      "execution_count": null,
      "outputs": [
        {
          "output_type": "display_data",
          "data": {
            "text/plain": [
              "   Tag  Dados\n",
              "0   -       -\n",
              "1   -       -\n",
              "2   -       -\n",
              "3   -       -"
            ],
            "text/html": [
              "\n",
              "  <div id=\"df-d2b24961-12d0-46cc-83ed-81d7f16c2da4\">\n",
              "    <div class=\"colab-df-container\">\n",
              "      <div>\n",
              "<style scoped>\n",
              "    .dataframe tbody tr th:only-of-type {\n",
              "        vertical-align: middle;\n",
              "    }\n",
              "\n",
              "    .dataframe tbody tr th {\n",
              "        vertical-align: top;\n",
              "    }\n",
              "\n",
              "    .dataframe thead th {\n",
              "        text-align: right;\n",
              "    }\n",
              "</style>\n",
              "<table border=\"1\" class=\"dataframe\">\n",
              "  <thead>\n",
              "    <tr style=\"text-align: right;\">\n",
              "      <th></th>\n",
              "      <th>Tag</th>\n",
              "      <th>Dados</th>\n",
              "    </tr>\n",
              "  </thead>\n",
              "  <tbody>\n",
              "    <tr>\n",
              "      <th>0</th>\n",
              "      <td>-</td>\n",
              "      <td>-</td>\n",
              "    </tr>\n",
              "    <tr>\n",
              "      <th>1</th>\n",
              "      <td>-</td>\n",
              "      <td>-</td>\n",
              "    </tr>\n",
              "    <tr>\n",
              "      <th>2</th>\n",
              "      <td>-</td>\n",
              "      <td>-</td>\n",
              "    </tr>\n",
              "    <tr>\n",
              "      <th>3</th>\n",
              "      <td>-</td>\n",
              "      <td>-</td>\n",
              "    </tr>\n",
              "  </tbody>\n",
              "</table>\n",
              "</div>\n",
              "      <button class=\"colab-df-convert\" onclick=\"convertToInteractive('df-d2b24961-12d0-46cc-83ed-81d7f16c2da4')\"\n",
              "              title=\"Convert this dataframe to an interactive table.\"\n",
              "              style=\"display:none;\">\n",
              "        \n",
              "  <svg xmlns=\"http://www.w3.org/2000/svg\" height=\"24px\"viewBox=\"0 0 24 24\"\n",
              "       width=\"24px\">\n",
              "    <path d=\"M0 0h24v24H0V0z\" fill=\"none\"/>\n",
              "    <path d=\"M18.56 5.44l.94 2.06.94-2.06 2.06-.94-2.06-.94-.94-2.06-.94 2.06-2.06.94zm-11 1L8.5 8.5l.94-2.06 2.06-.94-2.06-.94L8.5 2.5l-.94 2.06-2.06.94zm10 10l.94 2.06.94-2.06 2.06-.94-2.06-.94-.94-2.06-.94 2.06-2.06.94z\"/><path d=\"M17.41 7.96l-1.37-1.37c-.4-.4-.92-.59-1.43-.59-.52 0-1.04.2-1.43.59L10.3 9.45l-7.72 7.72c-.78.78-.78 2.05 0 2.83L4 21.41c.39.39.9.59 1.41.59.51 0 1.02-.2 1.41-.59l7.78-7.78 2.81-2.81c.8-.78.8-2.07 0-2.86zM5.41 20L4 18.59l7.72-7.72 1.47 1.35L5.41 20z\"/>\n",
              "  </svg>\n",
              "      </button>\n",
              "      \n",
              "  <style>\n",
              "    .colab-df-container {\n",
              "      display:flex;\n",
              "      flex-wrap:wrap;\n",
              "      gap: 12px;\n",
              "    }\n",
              "\n",
              "    .colab-df-convert {\n",
              "      background-color: #E8F0FE;\n",
              "      border: none;\n",
              "      border-radius: 50%;\n",
              "      cursor: pointer;\n",
              "      display: none;\n",
              "      fill: #1967D2;\n",
              "      height: 32px;\n",
              "      padding: 0 0 0 0;\n",
              "      width: 32px;\n",
              "    }\n",
              "\n",
              "    .colab-df-convert:hover {\n",
              "      background-color: #E2EBFA;\n",
              "      box-shadow: 0px 1px 2px rgba(60, 64, 67, 0.3), 0px 1px 3px 1px rgba(60, 64, 67, 0.15);\n",
              "      fill: #174EA6;\n",
              "    }\n",
              "\n",
              "    [theme=dark] .colab-df-convert {\n",
              "      background-color: #3B4455;\n",
              "      fill: #D2E3FC;\n",
              "    }\n",
              "\n",
              "    [theme=dark] .colab-df-convert:hover {\n",
              "      background-color: #434B5C;\n",
              "      box-shadow: 0px 1px 3px 1px rgba(0, 0, 0, 0.15);\n",
              "      filter: drop-shadow(0px 1px 2px rgba(0, 0, 0, 0.3));\n",
              "      fill: #FFFFFF;\n",
              "    }\n",
              "  </style>\n",
              "\n",
              "      <script>\n",
              "        const buttonEl =\n",
              "          document.querySelector('#df-d2b24961-12d0-46cc-83ed-81d7f16c2da4 button.colab-df-convert');\n",
              "        buttonEl.style.display =\n",
              "          google.colab.kernel.accessAllowed ? 'block' : 'none';\n",
              "\n",
              "        async function convertToInteractive(key) {\n",
              "          const element = document.querySelector('#df-d2b24961-12d0-46cc-83ed-81d7f16c2da4');\n",
              "          const dataTable =\n",
              "            await google.colab.kernel.invokeFunction('convertToInteractive',\n",
              "                                                     [key], {});\n",
              "          if (!dataTable) return;\n",
              "\n",
              "          const docLinkHtml = 'Like what you see? Visit the ' +\n",
              "            '<a target=\"_blank\" href=https://colab.research.google.com/notebooks/data_table.ipynb>data table notebook</a>'\n",
              "            + ' to learn more about interactive tables.';\n",
              "          element.innerHTML = '';\n",
              "          dataTable['output_type'] = 'display_data';\n",
              "          await google.colab.output.renderOutput(dataTable, element);\n",
              "          const docLink = document.createElement('div');\n",
              "          docLink.innerHTML = docLinkHtml;\n",
              "          element.appendChild(docLink);\n",
              "        }\n",
              "      </script>\n",
              "    </div>\n",
              "  </div>\n",
              "  "
            ]
          },
          "metadata": {}
        },
        {
          "output_type": "display_data",
          "data": {
            "text/plain": [
              "Checkbox(value=True, description='Edit table', indent=False)"
            ],
            "application/vnd.jupyter.widget-view+json": {
              "version_major": 2,
              "version_minor": 0,
              "model_id": "faa46766b87243f78e9fa943bfe2a293"
            }
          },
          "metadata": {}
        }
      ]
    },
    {
      "cell_type": "markdown",
      "source": [
        "#### Sequencia de leituras\n",
        "\n",
        "Ler posições 0x32 e 0x21. Iremos usar hexadecimal para facilitar as conversões.\n",
        "\n",
        "* 0x32 = 0011 0010 em binário. Dividindo nos campos tag=$00110$, linha=$01$, dentro do bloco na posição =$0$\n",
        "\n",
        "$ \\begin{array}{lcc}\n",
        "Tag & Linha   & Bloco  \\\\\n",
        "\\boxed{00110} & \\boxed{01} & \\boxed{0} \\\\\n",
        "\\end{array} $\n",
        "\n",
        "Portanto teremos\n",
        "\n",
        "$ \\begin{array}{lccc}\n",
        "Linha & Tag   & Dados  \\\\\n",
        "      &       & 0 & 1 \\\\\n",
        "\\mbox{1 ou 01} & \\boxed{00110} & \\boxed{0x32} & \\boxed{0x33} \\\\\n",
        "\\end{array} $\n",
        "\n",
        "\n",
        "* 0x21 = 0010 0001 em binário. Dividindo nos campos tag=$00100$, linha=$00$, dentro do bloco na posição=$1$\n",
        "\n",
        "Resulta na cache abaixo:\n"
      ],
      "metadata": {
        "id": "K_VCW_i7z1Qm"
      }
    },
    {
      "cell_type": "code",
      "source": [
        "#@title Apos ler 0x32 e 0x21\n",
        "%%writefile exemplo1.csv\n",
        "Tag; Dados\n",
        " 00100 ; 0x20,0x21\n",
        " 00110 ; 0x32,0x33\n",
        " - ; -\n",
        " - ; -\n"
      ],
      "metadata": {
        "colab": {
          "base_uri": "https://localhost:8080/"
        },
        "id": "s6Kuv8Pt05aN",
        "outputId": "b7d4c065-ba66-4975-badd-36d6ad784dcc"
      },
      "execution_count": null,
      "outputs": [
        {
          "output_type": "stream",
          "name": "stdout",
          "text": [
            "Writing exemplo1.csv\n"
          ]
        }
      ]
    },
    {
      "cell_type": "code",
      "source": [
        "Imprime(\"exemplo1.csv\")"
      ],
      "metadata": {
        "colab": {
          "base_uri": "https://localhost:8080/",
          "height": 140,
          "referenced_widgets": [
            "6bb5abe97a2b4f21930183039ca187f5",
            "41d9cd7f077f4915aacfde22bbd9acba",
            "b04cdaa550a94982b17de27b271975ed"
          ]
        },
        "id": "6P9ct20w1Oim",
        "outputId": "a8eca872-9199-44ef-d717-26f5c4d34ead"
      },
      "execution_count": null,
      "outputs": [
        {
          "output_type": "stream",
          "name": "stdout",
          "text": [
            "       Tag       Dados\n",
            "0   00100    0x20,0x21\n",
            "1   00110    0x32,0x33\n",
            "2       -            -\n",
            "3       -            -\n"
          ]
        },
        {
          "output_type": "display_data",
          "data": {
            "text/plain": [
              "Checkbox(value=False, description='Edit table', indent=False)"
            ],
            "application/vnd.jupyter.widget-view+json": {
              "version_major": 2,
              "version_minor": 0,
              "model_id": "6bb5abe97a2b4f21930183039ca187f5"
            }
          },
          "metadata": {}
        }
      ]
    },
    {
      "cell_type": "code",
      "source": [
        "#@title Apos ler 0x04 e 0x0F\n",
        "%%writefile exemplo2.csv\n",
        "Tag; Dados\n",
        " 00100 ; 0x20,0x21\n",
        " 00110 ; 0x32,0x33\n",
        " 00000 ; 0x4,0x5\n",
        " 00001 ; 0xE,0xF\n"
      ],
      "metadata": {
        "colab": {
          "base_uri": "https://localhost:8080/"
        },
        "cellView": "form",
        "id": "zBxxm8042Vx8",
        "outputId": "8f67f010-139d-4c1a-9828-702af9822f65"
      },
      "execution_count": null,
      "outputs": [
        {
          "output_type": "stream",
          "name": "stdout",
          "text": [
            "Writing exemplo2.csv\n"
          ]
        }
      ]
    },
    {
      "cell_type": "code",
      "source": [
        "Imprime(\"exemplo2.csv\")"
      ],
      "metadata": {
        "colab": {
          "base_uri": "https://localhost:8080/",
          "height": 140,
          "referenced_widgets": [
            "a239d86d9ef2445ca3a1791063087064",
            "0fd69e47a3244bf8a6375244ff8fdb40",
            "2df45c4ad8b94886b3c5fde3f76b12ce"
          ]
        },
        "id": "k6nWMp1H2uEc",
        "outputId": "af0bcad5-6451-415b-8ae2-94a760b59df6"
      },
      "execution_count": null,
      "outputs": [
        {
          "output_type": "stream",
          "name": "stdout",
          "text": [
            "   Tag       Dados\n",
            "0  100   0x20,0x21\n",
            "1  110   0x32,0x33\n",
            "2    0     0x4,0x5\n",
            "3    1     0xE,0xF\n"
          ]
        },
        {
          "output_type": "display_data",
          "data": {
            "text/plain": [
              "Checkbox(value=False, description='Edit table', indent=False)"
            ],
            "application/vnd.jupyter.widget-view+json": {
              "version_major": 2,
              "version_minor": 0,
              "model_id": "a239d86d9ef2445ca3a1791063087064"
            }
          },
          "metadata": {}
        }
      ]
    },
    {
      "cell_type": "code",
      "source": [
        "#@title Apos ler 0x05 e 0x20\n",
        "%%writefile exemplo3.csv\n",
        "Tag; Dados\n",
        " 00100 ; 0x20,0x21\n",
        " 00110 ; 0x32,0x33\n",
        " 00000 ; 0x4,0x5\n",
        " 00001 ; 0xE,0xF"
      ],
      "metadata": {
        "colab": {
          "base_uri": "https://localhost:8080/"
        },
        "cellView": "form",
        "id": "U_SabspA3CNa",
        "outputId": "5f0b7b9a-7bf0-44d0-af8a-0d754cc8a895"
      },
      "execution_count": null,
      "outputs": [
        {
          "output_type": "stream",
          "name": "stdout",
          "text": [
            "Writing exemplo3.csv\n"
          ]
        }
      ]
    },
    {
      "cell_type": "code",
      "source": [
        "Imprime(\"exemplo3.csv\")"
      ],
      "metadata": {
        "colab": {
          "base_uri": "https://localhost:8080/",
          "height": 207,
          "referenced_widgets": [
            "b2e1245294ee43a2b39a680a2c3d8d7d",
            "96ecaa35cd944ac3b009f4c7baf5daca",
            "ac6a0531d87b456293b546768fe6a8ab"
          ]
        },
        "id": "xgKrkXqx3HlL",
        "outputId": "f05616a4-cbb5-4137-9e92-64adc17f3940"
      },
      "execution_count": null,
      "outputs": [
        {
          "output_type": "display_data",
          "data": {
            "text/plain": [
              "   Tag       Dados\n",
              "0  100   0x20,0x21\n",
              "1  110   0x32,0x33\n",
              "2    0     0x4,0x5\n",
              "3    1     0xE,0xF"
            ],
            "text/html": [
              "\n",
              "  <div id=\"df-e92ed9fc-133d-484b-a117-1d0a342cf116\">\n",
              "    <div class=\"colab-df-container\">\n",
              "      <div>\n",
              "<style scoped>\n",
              "    .dataframe tbody tr th:only-of-type {\n",
              "        vertical-align: middle;\n",
              "    }\n",
              "\n",
              "    .dataframe tbody tr th {\n",
              "        vertical-align: top;\n",
              "    }\n",
              "\n",
              "    .dataframe thead th {\n",
              "        text-align: right;\n",
              "    }\n",
              "</style>\n",
              "<table border=\"1\" class=\"dataframe\">\n",
              "  <thead>\n",
              "    <tr style=\"text-align: right;\">\n",
              "      <th></th>\n",
              "      <th>Tag</th>\n",
              "      <th>Dados</th>\n",
              "    </tr>\n",
              "  </thead>\n",
              "  <tbody>\n",
              "    <tr>\n",
              "      <th>0</th>\n",
              "      <td>100</td>\n",
              "      <td>0x20,0x21</td>\n",
              "    </tr>\n",
              "    <tr>\n",
              "      <th>1</th>\n",
              "      <td>110</td>\n",
              "      <td>0x32,0x33</td>\n",
              "    </tr>\n",
              "    <tr>\n",
              "      <th>2</th>\n",
              "      <td>0</td>\n",
              "      <td>0x4,0x5</td>\n",
              "    </tr>\n",
              "    <tr>\n",
              "      <th>3</th>\n",
              "      <td>1</td>\n",
              "      <td>0xE,0xF</td>\n",
              "    </tr>\n",
              "  </tbody>\n",
              "</table>\n",
              "</div>\n",
              "      <button class=\"colab-df-convert\" onclick=\"convertToInteractive('df-e92ed9fc-133d-484b-a117-1d0a342cf116')\"\n",
              "              title=\"Convert this dataframe to an interactive table.\"\n",
              "              style=\"display:none;\">\n",
              "        \n",
              "  <svg xmlns=\"http://www.w3.org/2000/svg\" height=\"24px\"viewBox=\"0 0 24 24\"\n",
              "       width=\"24px\">\n",
              "    <path d=\"M0 0h24v24H0V0z\" fill=\"none\"/>\n",
              "    <path d=\"M18.56 5.44l.94 2.06.94-2.06 2.06-.94-2.06-.94-.94-2.06-.94 2.06-2.06.94zm-11 1L8.5 8.5l.94-2.06 2.06-.94-2.06-.94L8.5 2.5l-.94 2.06-2.06.94zm10 10l.94 2.06.94-2.06 2.06-.94-2.06-.94-.94-2.06-.94 2.06-2.06.94z\"/><path d=\"M17.41 7.96l-1.37-1.37c-.4-.4-.92-.59-1.43-.59-.52 0-1.04.2-1.43.59L10.3 9.45l-7.72 7.72c-.78.78-.78 2.05 0 2.83L4 21.41c.39.39.9.59 1.41.59.51 0 1.02-.2 1.41-.59l7.78-7.78 2.81-2.81c.8-.78.8-2.07 0-2.86zM5.41 20L4 18.59l7.72-7.72 1.47 1.35L5.41 20z\"/>\n",
              "  </svg>\n",
              "      </button>\n",
              "      \n",
              "  <style>\n",
              "    .colab-df-container {\n",
              "      display:flex;\n",
              "      flex-wrap:wrap;\n",
              "      gap: 12px;\n",
              "    }\n",
              "\n",
              "    .colab-df-convert {\n",
              "      background-color: #E8F0FE;\n",
              "      border: none;\n",
              "      border-radius: 50%;\n",
              "      cursor: pointer;\n",
              "      display: none;\n",
              "      fill: #1967D2;\n",
              "      height: 32px;\n",
              "      padding: 0 0 0 0;\n",
              "      width: 32px;\n",
              "    }\n",
              "\n",
              "    .colab-df-convert:hover {\n",
              "      background-color: #E2EBFA;\n",
              "      box-shadow: 0px 1px 2px rgba(60, 64, 67, 0.3), 0px 1px 3px 1px rgba(60, 64, 67, 0.15);\n",
              "      fill: #174EA6;\n",
              "    }\n",
              "\n",
              "    [theme=dark] .colab-df-convert {\n",
              "      background-color: #3B4455;\n",
              "      fill: #D2E3FC;\n",
              "    }\n",
              "\n",
              "    [theme=dark] .colab-df-convert:hover {\n",
              "      background-color: #434B5C;\n",
              "      box-shadow: 0px 1px 3px 1px rgba(0, 0, 0, 0.15);\n",
              "      filter: drop-shadow(0px 1px 2px rgba(0, 0, 0, 0.3));\n",
              "      fill: #FFFFFF;\n",
              "    }\n",
              "  </style>\n",
              "\n",
              "      <script>\n",
              "        const buttonEl =\n",
              "          document.querySelector('#df-e92ed9fc-133d-484b-a117-1d0a342cf116 button.colab-df-convert');\n",
              "        buttonEl.style.display =\n",
              "          google.colab.kernel.accessAllowed ? 'block' : 'none';\n",
              "\n",
              "        async function convertToInteractive(key) {\n",
              "          const element = document.querySelector('#df-e92ed9fc-133d-484b-a117-1d0a342cf116');\n",
              "          const dataTable =\n",
              "            await google.colab.kernel.invokeFunction('convertToInteractive',\n",
              "                                                     [key], {});\n",
              "          if (!dataTable) return;\n",
              "\n",
              "          const docLinkHtml = 'Like what you see? Visit the ' +\n",
              "            '<a target=\"_blank\" href=https://colab.research.google.com/notebooks/data_table.ipynb>data table notebook</a>'\n",
              "            + ' to learn more about interactive tables.';\n",
              "          element.innerHTML = '';\n",
              "          dataTable['output_type'] = 'display_data';\n",
              "          await google.colab.output.renderOutput(dataTable, element);\n",
              "          const docLink = document.createElement('div');\n",
              "          docLink.innerHTML = docLinkHtml;\n",
              "          element.appendChild(docLink);\n",
              "        }\n",
              "      </script>\n",
              "    </div>\n",
              "  </div>\n",
              "  "
            ]
          },
          "metadata": {}
        },
        {
          "output_type": "display_data",
          "data": {
            "text/plain": [
              "Checkbox(value=True, description='Edit table', indent=False)"
            ],
            "application/vnd.jupyter.widget-view+json": {
              "version_major": 2,
              "version_minor": 0,
              "model_id": "b2e1245294ee43a2b39a680a2c3d8d7d"
            }
          },
          "metadata": {}
        }
      ]
    },
    {
      "cell_type": "code",
      "source": [
        "#@title Apos ler 0x0C e 0x06\n",
        "%%writefile exemplo4.csv\n",
        "Tag; Dados\n",
        " 00100 ; 0x20,0x21\n",
        " 00110 ; 0x32,0x33\n",
        " 00001 ; 0xC,0xD\n",
        " 00000 ; 0x6,0x7"
      ],
      "metadata": {
        "colab": {
          "base_uri": "https://localhost:8080/"
        },
        "id": "Bd2oeSEr3WFx",
        "outputId": "d9fcd641-bba8-4763-d3b9-20a73e84284f"
      },
      "execution_count": null,
      "outputs": [
        {
          "output_type": "stream",
          "name": "stdout",
          "text": [
            "Overwriting exemplo4.csv\n"
          ]
        }
      ]
    },
    {
      "cell_type": "code",
      "source": [
        "Imprime(\"exemplo4.csv\")"
      ],
      "metadata": {
        "colab": {
          "base_uri": "https://localhost:8080/",
          "height": 140,
          "referenced_widgets": [
            "297ea7f8140045eeb89add5bf405e5fc",
            "f88efa8f594c451e89a93ffadf521d80",
            "06aef18e5abc4d1caf86ae2c75e51d59"
          ]
        },
        "id": "hwuJX5Kz3i4C",
        "outputId": "e7bd8ab5-01a6-4a70-a9ba-b072a98225e3"
      },
      "execution_count": null,
      "outputs": [
        {
          "output_type": "stream",
          "name": "stdout",
          "text": [
            "   Tag       Dados\n",
            "0  100   0x20,0x21\n",
            "1  110   0x32,0x33\n",
            "2    1     0xC,0xD\n",
            "3    0     0x6,0x7\n"
          ]
        },
        {
          "output_type": "display_data",
          "data": {
            "text/plain": [
              "Checkbox(value=False, description='Edit table', indent=False)"
            ],
            "application/vnd.jupyter.widget-view+json": {
              "version_major": 2,
              "version_minor": 0,
              "model_id": "297ea7f8140045eeb89add5bf405e5fc"
            }
          },
          "metadata": {}
        }
      ]
    },
    {
      "cell_type": "markdown",
      "source": [
        "### Exemplo 2\n",
        "\n",
        "Pequena cache e memória para fins didáticos. Cache com blocos de 4 bytes, memoria Ram de 256 bytes e uma cache de 32 bytes (8 linhas).\n",
        "\n",
        "* supor que a memória $i$ tem o dado $i$, por exemplo m[4] = 4\n",
        "\n",
        "Supor o conteudo inicial ilustrado abaixo:"
      ],
      "metadata": {
        "id": "Gilue9pV59GM"
      }
    },
    {
      "cell_type": "code",
      "source": [
        "#@title Execute para carregar a cache inicial\n",
        "%%writefile exemplo.csv\n",
        "Tag; Dados\n",
        " - ; -\n",
        " - ; -\n",
        " - ; -\n",
        " - ; -\n",
        "  - ; -\n",
        " - ; -\n",
        " - ; -\n",
        " - ; -\n"
      ],
      "metadata": {
        "colab": {
          "base_uri": "https://localhost:8080/"
        },
        "outputId": "cc4866f8-3b4b-488d-d997-446694fc914e",
        "cellView": "form",
        "id": "POqlGb7v59GW"
      },
      "execution_count": null,
      "outputs": [
        {
          "output_type": "stream",
          "name": "stdout",
          "text": [
            "Overwriting exemplo.csv\n"
          ]
        }
      ]
    },
    {
      "cell_type": "code",
      "source": [
        "Imprime(\"exemplo.csv\")"
      ],
      "metadata": {
        "colab": {
          "base_uri": "https://localhost:8080/",
          "height": 205,
          "referenced_widgets": [
            "efaf3a6ffc1445f6b5d46d878ed6682f",
            "e0eaa7721b48440fbe38169e4aa31e8b",
            "41abfa4b90d84be683ba91e9006e4c51"
          ]
        },
        "outputId": "9d523713-12f3-4a49-c1a5-a5a9483e118f",
        "id": "zVw7kNfi59GX"
      },
      "execution_count": null,
      "outputs": [
        {
          "output_type": "stream",
          "name": "stdout",
          "text": [
            "    Tag  Dados\n",
            "0    -       -\n",
            "1    -       -\n",
            "2    -       -\n",
            "3    -       -\n",
            "4    -       -\n",
            "5    -       -\n",
            "6    -       -\n",
            "7    -       -\n"
          ]
        },
        {
          "output_type": "display_data",
          "data": {
            "text/plain": [
              "Checkbox(value=False, description='Edit table', indent=False)"
            ],
            "application/vnd.jupyter.widget-view+json": {
              "version_major": 2,
              "version_minor": 0,
              "model_id": "efaf3a6ffc1445f6b5d46d878ed6682f"
            }
          },
          "metadata": {}
        }
      ]
    },
    {
      "cell_type": "markdown",
      "source": [
        "#### Sequencia de leituras\n",
        "\n",
        "Ler posições 0x32 e 0x21. Iremos usar hexadecimal para facilitar as conversões.\n",
        "\n",
        "* 0x32 = 0011 0010 em binário. Dividindo nos campos tag=$001$, linha=$100$, dentro do bloco na posição =$10$\n",
        "\n",
        "$ \\begin{array}{lcc}\n",
        "Tag & Linha   & Bloco  \\\\\n",
        "\\boxed{001} & \\boxed{100} & \\boxed{10} \\\\\n",
        "\\end{array} $\n",
        "\n",
        "Portanto teremos\n",
        "\n",
        "$ \\begin{array}{lccccc}\n",
        "Linha & Tag   & Dados  \\\\\n",
        "      &       & 0 & 1 & 2 & 3 \\\\\n",
        "\\mbox{4 ou 100} & \\boxed{001} & \\boxed{0x30} & \\boxed{0x31} & \\boxed{0x32} & \\boxed{0x33} \\\\\n",
        "\\end{array} $\n",
        "\n",
        "\n",
        "* 0x21 = 0010 0001 em binário. Dividindo nos campos tag=$001$, linha=$000$, dentro do bloco na posição=$01$\n",
        "\n",
        "Resulta na cache abaixo:\n"
      ],
      "metadata": {
        "id": "bzzeXOUn59GX"
      }
    },
    {
      "cell_type": "code",
      "source": [
        "#@title Apos ler 0x32 e 0x21\n",
        "%%writefile exemplo1.csv\n",
        "Tag; Dados\n",
        " 001 ; 0x20,0x21,0x22,0x23\n",
        " - ; -\n",
        " - ; -\n",
        "- ; -\n",
        " 001 ; 0x30,0x31,0x32,0x33\n",
        " - ; -\n",
        " - ; -\n",
        "- ; -"
      ],
      "metadata": {
        "colab": {
          "base_uri": "https://localhost:8080/"
        },
        "outputId": "80fcfd48-ea4a-4703-c295-fc2eb7490bce",
        "id": "fJvhb26059GX"
      },
      "execution_count": null,
      "outputs": [
        {
          "output_type": "stream",
          "name": "stdout",
          "text": [
            "Writing exemplo1.csv\n"
          ]
        }
      ]
    },
    {
      "cell_type": "code",
      "source": [
        "Imprime(\"exemplo1.csv\")"
      ],
      "metadata": {
        "colab": {
          "base_uri": "https://localhost:8080/",
          "height": 213,
          "referenced_widgets": [
            "eee495cd76834bdf95063ba2660de2a7",
            "a6c76309d8224632a0740e0d4add90dd",
            "c865df4b8ffc4d28b47f414e1c4007ff"
          ]
        },
        "outputId": "1c6f03da-8bf5-4345-80a6-fc36ba5a4438",
        "id": "qjDLEYTv59GY"
      },
      "execution_count": null,
      "outputs": [
        {
          "output_type": "stream",
          "name": "stdout",
          "text": [
            "     Tag                 Dados\n",
            "0   001    0x20,0x21,0x22,0x23\n",
            "1     -                      -\n",
            "2     -                      -\n",
            "3     -                      -\n",
            "4   001    0x30,0x31,0x32,0x33\n",
            "5     -                      -\n",
            "6     -                      -\n",
            "7     -                      -\n"
          ]
        },
        {
          "output_type": "display_data",
          "data": {
            "text/plain": [
              "Checkbox(value=False, description='Edit table', indent=False)"
            ],
            "application/vnd.jupyter.widget-view+json": {
              "version_major": 2,
              "version_minor": 0,
              "model_id": "eee495cd76834bdf95063ba2660de2a7"
            }
          },
          "metadata": {}
        }
      ]
    },
    {
      "cell_type": "code",
      "source": [
        "#@title Apos ler 0x04=000 001 00 e 0x0F = 000 011 11\n",
        "%%writefile exemplo2.csv\n",
        "Tag; Dados\n",
        " 001 ; 0x20,0x21,0x22,0x23\n",
        " 000 ; 0x04,0x05,0x06,0x07\n",
        " - ; -\n",
        "000 ; 0x0C,0x0D,0x0E,0x0F\n",
        " 001 ; 0x30,0x31,0x32,0x33\n",
        " - ; -\n",
        " - ; -\n",
        "- ; -\n"
      ],
      "metadata": {
        "colab": {
          "base_uri": "https://localhost:8080/"
        },
        "cellView": "form",
        "outputId": "f7a793fc-23a4-46d1-8468-234d8653a5fd",
        "id": "kKSTkxY659GY"
      },
      "execution_count": null,
      "outputs": [
        {
          "output_type": "stream",
          "name": "stdout",
          "text": [
            "Overwriting exemplo2.csv\n"
          ]
        }
      ]
    },
    {
      "cell_type": "code",
      "source": [
        "Imprime(\"exemplo2.csv\")"
      ],
      "metadata": {
        "colab": {
          "base_uri": "https://localhost:8080/",
          "height": 213,
          "referenced_widgets": [
            "b14d72ac71b848b08b0deb9b50ed59aa",
            "0854d820cca4483ea31375512d45d790",
            "cccfeecdb05843ddb97fa66312beb0b0"
          ]
        },
        "outputId": "abbd403f-be58-4cc5-a24f-a4624159a513",
        "id": "1nUma5Ar59GY"
      },
      "execution_count": null,
      "outputs": [
        {
          "output_type": "stream",
          "name": "stdout",
          "text": [
            "     Tag                 Dados\n",
            "0   001    0x20,0x21,0x22,0x23\n",
            "1   000    0x04,0x05,0x06,0x07\n",
            "2     -                      -\n",
            "3   000    0x0C,0x0D,0x0E,0x0F\n",
            "4   001    0x30,0x31,0x32,0x33\n",
            "5     -                      -\n",
            "6     -                      -\n",
            "7     -                      -\n"
          ]
        },
        {
          "output_type": "display_data",
          "data": {
            "text/plain": [
              "Checkbox(value=False, description='Edit table', indent=False)"
            ],
            "application/vnd.jupyter.widget-view+json": {
              "version_major": 2,
              "version_minor": 0,
              "model_id": "b14d72ac71b848b08b0deb9b50ed59aa"
            }
          },
          "metadata": {}
        }
      ]
    },
    {
      "cell_type": "code",
      "source": [
        "#@title Apos ler 0x05 e 0x20\n",
        "%%writefile exemplo3.csv\n",
        "Tag; Dados\n",
        " 001 ; 0x20,0x21,0x22,0x23\n",
        " 000 ; 0x04,0x05,0x06,0x07\n",
        " - ; -\n",
        "000 ; 0x0C,0x0D,0x0E,0x0F\n",
        " 001 ; 0x30,0x31,0x32,0x33\n",
        " - ; -\n",
        " - ; -\n",
        "- ; -"
      ],
      "metadata": {
        "colab": {
          "base_uri": "https://localhost:8080/"
        },
        "outputId": "60d26264-2b4c-4482-8dea-1354ccf0a5fd",
        "id": "y195jPiW59GY"
      },
      "execution_count": null,
      "outputs": [
        {
          "output_type": "stream",
          "name": "stdout",
          "text": [
            "Overwriting exemplo3.csv\n"
          ]
        }
      ]
    },
    {
      "cell_type": "code",
      "source": [
        "Imprime(\"exemplo3.csv\")"
      ],
      "metadata": {
        "colab": {
          "base_uri": "https://localhost:8080/",
          "height": 213,
          "referenced_widgets": [
            "a0a262ba01fd4822a104bc5654f1173e",
            "2870a311162f4ae49a51cb60fbc502c9",
            "119ef3d1f5634c27b1093520bdbe9f35"
          ]
        },
        "outputId": "fea0497c-d283-4f30-d3bd-18043de8d336",
        "id": "CyElKLH_59GY"
      },
      "execution_count": null,
      "outputs": [
        {
          "output_type": "stream",
          "name": "stdout",
          "text": [
            "     Tag                 Dados\n",
            "0   001    0x20,0x21,0x22,0x23\n",
            "1   000    0x04,0x05,0x06,0x07\n",
            "2     -                      -\n",
            "3   000    0x0C,0x0D,0x0E,0x0F\n",
            "4   001    0x30,0x31,0x32,0x33\n",
            "5     -                      -\n",
            "6     -                      -\n",
            "7     -                      -\n"
          ]
        },
        {
          "output_type": "display_data",
          "data": {
            "text/plain": [
              "Checkbox(value=False, description='Edit table', indent=False)"
            ],
            "application/vnd.jupyter.widget-view+json": {
              "version_major": 2,
              "version_minor": 0,
              "model_id": "a0a262ba01fd4822a104bc5654f1173e"
            }
          },
          "metadata": {}
        }
      ]
    },
    {
      "cell_type": "code",
      "source": [
        "#@title Apos ler 0x0C e 0x06\n",
        "%%writefile exemplo4.csv\n",
        "Tag; Dados\n",
        "  001 ; 0x20,0x21,0x22,0x23\n",
        " 000 ; 0x04,0x05,0x06,0x07\n",
        " - ; -\n",
        "000 ; 0x0C,0x0D,0x0E,0x0F\n",
        " 001 ; 0x30,0x31,0x32,0x33\n",
        " - ; -\n",
        " - ; -\n",
        "- ; -"
      ],
      "metadata": {
        "colab": {
          "base_uri": "https://localhost:8080/"
        },
        "outputId": "871e9551-f0b6-4018-e9e5-994771a3af73",
        "id": "6w3S0FOG59GZ",
        "cellView": "form"
      },
      "execution_count": null,
      "outputs": [
        {
          "output_type": "stream",
          "name": "stdout",
          "text": [
            "Overwriting exemplo4.csv\n"
          ]
        }
      ]
    },
    {
      "cell_type": "code",
      "source": [
        "Imprime(\"exemplo4.csv\")"
      ],
      "metadata": {
        "colab": {
          "base_uri": "https://localhost:8080/",
          "height": 213,
          "referenced_widgets": [
            "6f3a4ce555fc48e5901ec84b0bb840b3",
            "b5f9aa12006a451c8838f8adf16de0cd",
            "180edaaf748045cb8ca57fc453b4af09"
          ]
        },
        "outputId": "b003a140-8662-46f5-c645-de94d9d4cde5",
        "id": "FaPrmtD059GZ"
      },
      "execution_count": null,
      "outputs": [
        {
          "output_type": "stream",
          "name": "stdout",
          "text": [
            "      Tag                 Dados\n",
            "0    001    0x20,0x21,0x22,0x23\n",
            "1    000    0x04,0x05,0x06,0x07\n",
            "2      -                      -\n",
            "3    000    0x0C,0x0D,0x0E,0x0F\n",
            "4    001    0x30,0x31,0x32,0x33\n",
            "5      -                      -\n",
            "6      -                      -\n",
            "7      -                      -\n"
          ]
        },
        {
          "output_type": "display_data",
          "data": {
            "text/plain": [
              "Checkbox(value=False, description='Edit table', indent=False)"
            ],
            "application/vnd.jupyter.widget-view+json": {
              "version_major": 2,
              "version_minor": 0,
              "model_id": "6f3a4ce555fc48e5901ec84b0bb840b3"
            }
          },
          "metadata": {}
        }
      ]
    },
    {
      "cell_type": "markdown",
      "source": [
        "### Exercicios\n",
        "\n",
        "1. Cache de 16 bytes e blocos de 8 bytes. Executar a mesma sequência de acessos. Mostrar passo a passo o conteúdo.\n",
        "2. Cache de 32 bytes e blocos de 8 bytes. Executar a mesma sequência de acessos. Mostrar passo a passo o conteúdo.\n",
        "3. Cache de 16 bytes e blocos de 2 bytes. Executar a mesma sequência de acessos. Mostrar passo a passo o conteúdo.\n",
        "4. Cache de 16 bytes e blocos de 4 bytes. Executar a mesma sequência de acessos. Mostrar passo a passo o conteúdo.\n"
      ],
      "metadata": {
        "id": "W3221pCH-YwO"
      }
    },
    {
      "cell_type": "markdown",
      "source": [
        "# Cache Totalmente associativa\n",
        "\n"
      ],
      "metadata": {
        "id": "Bie7J5PhoHpr"
      }
    },
    {
      "cell_type": "markdown",
      "source": [
        "## Definição e comparação com Mapeamento direto\n",
        "\n",
        "\n",
        "A cache **totalmente associativa** é um tipo de cache em que cada bloco da memória principal pode ser armazenado em qualquer local da cache. Isso significa que, quando o processador faz uma solicitação, a cache deve verificar todos os blocos da cache para ver se os dados estão presentes nela. Como resultado, a cache totalmente associativa é muito mais cara e difícil de implementar do que outros tipos de cache. Porém não terá falhas devido a colisão de dados na mesma posição da cache. Apenas terá falhas por capacidade, quando a área de dados que o processador estiver fazendo acesso é maior que o tamanho da cache.\n",
        "\n",
        "Por outro lado, o mapeamento direto é um tipo de cache em que cada bloco da memória principal é mapeado em uma posição específica na cache. Quando o processador faz uma solicitação, a cache verifica apenas a posição da cache em que o bloco deve estar localizado. Esse tipo de cache é mais fácil de implementar e mais barato do que a cache totalmente associativa, mas pode levar a conflitos de cache quando dois blocos da memória principal são mapeados para a mesma posição na cache. O tempo de acerto é menor na mapeamento direto, pois consulta apenas uma posição.\n",
        "\n",
        "Em resumo, a cache totalmente associativa é mais flexível e não gera colisões, mas também é mais cara e difícil de implementar do que o mapeamento direto, que é mais simples e mais barato. A escolha do tipo de cache a ser utilizado depende das necessidades específicas do sistema e das restrições de recursos."
      ],
      "metadata": {
        "id": "CTfOWt6XoLOc"
      }
    },
    {
      "cell_type": "markdown",
      "source": [
        "## Custo\n",
        "\n",
        "[desenho para editar com \"uma\" linha](https://excalidraw.com/#json=6rcvG2r3UQuAO2RWk8uRR,F4cgyQNC5vtDg1tVNHqQVg)\n",
        "\n",
        "\n",
        "Podemos pensar que a cache totalmente associativa tem uma única linha, então não teremos decodificador de linha. Esta linha terá N conjuntos. Temos que olhar em todos os conjuntos ao mesmo tempo, que requer um comparador por conjunto. Portanto seu custo é bem elevado como ilustrado para o nosso exemplo de 2GB de Ram, bloco de 32 bytes e cache de 64Kbytes.\n",
        "\n",
        "<img src=\"https://github.com/arduinoufv/inf450/blob/master/cache/figuras/cache_FAlinha_2GB_64k_bloco_32.png?raw=true\" width=\"900px\">\n",
        "\n",
        "* conjuntos = $\\frac{cache}{bloco}=\\frac{64K}{32}=2k$\n",
        "* Tag = $endereço_{ram} - endereço_{bloco}= 31-5 = 26$\n",
        "* 2k comparadores de 26 bits\n",
        "* 2k * 26 bits de area de TAG\n",
        "* 64K de dados\n",
        "* 1 decodificador de 5:32 de bloco\n",
        "* um mux de 2K:1 para selecionar a resposta\n",
        "\n",
        "\n",
        "[desenho para editar com um \"módulo\"](https://excalidraw.com/#json=SonJzpNVoWon3V1bmay7u,jV9Bt51vlvY1GvhPPo5FKQ)\n"
      ],
      "metadata": {
        "id": "Ciziye48AZHW"
      }
    },
    {
      "cell_type": "markdown",
      "source": [
        "### Exemplo 1\n",
        "\n",
        "Pequena cache e memória para fins didáticos. Cache com blocos de 2 bytes, memoria Ram de 256 bytes e uma cache totalmente assoaciativa de 8 bytes.\n",
        "\n",
        "* supor que a memória $i$ tem o dado $i$, por exemplo m[4] = 4\n",
        "\n",
        "Supor o conteudo inicial ilustrado abaixo:"
      ],
      "metadata": {
        "id": "tD8G9yBNqa2t"
      }
    },
    {
      "cell_type": "code",
      "source": [
        "#@title Execute para carregar a cache inicial\n",
        "%%writefile exemplo.csv\n",
        "Tag; Dados\n",
        " - ; -\n",
        " - ; -\n",
        " - ; -\n",
        " - ; -\n"
      ],
      "metadata": {
        "colab": {
          "base_uri": "https://localhost:8080/"
        },
        "outputId": "b11bb23e-d861-4383-edbd-8b3b0bc466e9",
        "id": "to0dRu_Oqa25"
      },
      "execution_count": null,
      "outputs": [
        {
          "output_type": "stream",
          "name": "stdout",
          "text": [
            "Writing exemplo.csv\n"
          ]
        }
      ]
    },
    {
      "cell_type": "code",
      "source": [
        "Imprime(\"exemplo.csv\")"
      ],
      "metadata": {
        "colab": {
          "base_uri": "https://localhost:8080/",
          "height": 140,
          "referenced_widgets": [
            "e0a83e45fc8945c6bb3ff76a2d71e7ac",
            "013ddecd498341a9af9e679c142d0ff2",
            "6cba1493f5d349b086c0c7059aa26ff0"
          ]
        },
        "outputId": "e867ad00-1e82-452f-d077-2f8531975e5d",
        "id": "WgGN5yCjqa25"
      },
      "execution_count": null,
      "outputs": [
        {
          "output_type": "stream",
          "name": "stdout",
          "text": [
            "   Tag  Dados\n",
            "0   -       -\n",
            "1   -       -\n",
            "2   -       -\n",
            "3   -       -\n"
          ]
        },
        {
          "output_type": "display_data",
          "data": {
            "text/plain": [
              "Checkbox(value=False, description='Edit table', indent=False)"
            ],
            "application/vnd.jupyter.widget-view+json": {
              "version_major": 2,
              "version_minor": 0,
              "model_id": "e0a83e45fc8945c6bb3ff76a2d71e7ac"
            }
          },
          "metadata": {}
        }
      ]
    },
    {
      "cell_type": "markdown",
      "source": [
        "#### Sequencia de leituras\n",
        "\n",
        "Ler posições 0x32 e 0x21. Iremos usar hexadecimal para facilitar as conversões.\n",
        "\n",
        "* 0x32 = 0011 0010 em binário. Dividindo nos campos tag=$0011001$, dentro do bloco na posição =$0$\n",
        "\n",
        "$ \\begin{array}{lc}\n",
        "Tag  & Bloco  \\\\\n",
        "\\boxed{0011001}  & \\boxed{0} \\\\\n",
        "\\end{array} $\n",
        "\n",
        "Portanto teremos\n",
        "\n",
        "$ \\begin{array}{lcc}\n",
        "Linha & Tag & Dados  \\\\\n",
        "           & & 0 & 1 \\\\\n",
        "\\mbox{0} & \\boxed{0011001} & \\boxed{0x32} & \\boxed{0x33} \\\\\n",
        "\\end{array} $\n",
        "\n",
        "\n",
        "* 0x21 = 0010 0001 em binário. Dividindo nos campos tag=$0010000$, dentro do bloco na posição=$1$\n",
        "\n",
        "Resulta na cache abaixo:\n"
      ],
      "metadata": {
        "id": "Qfd-siKcqa26"
      }
    },
    {
      "cell_type": "code",
      "source": [
        "#@title Apos ler 0x32 e 0x21\n",
        "%%writefile exemplo1.csv\n",
        "Tag; Dados\n",
        "0011001 ; 0x32,0x33\n",
        "0010000 ; 0x20,0x21\n",
        " - ; -\n",
        " - ; -\n"
      ],
      "metadata": {
        "colab": {
          "base_uri": "https://localhost:8080/"
        },
        "outputId": "fd7c84f7-1a33-4869-b59f-3cbbc736fb64",
        "id": "GGBFrB0rqa26"
      },
      "execution_count": null,
      "outputs": [
        {
          "output_type": "stream",
          "name": "stdout",
          "text": [
            "Overwriting exemplo1.csv\n"
          ]
        }
      ]
    },
    {
      "cell_type": "code",
      "source": [
        "Imprime(\"exemplo1.csv\")"
      ],
      "metadata": {
        "colab": {
          "base_uri": "https://localhost:8080/",
          "height": 140,
          "referenced_widgets": [
            "1c056a2b9944475cbaa0c2e3cf37eeed",
            "0ed988e0fe104a2a966370454da07692",
            "279489cbe69845fa80f56e2908c99946"
          ]
        },
        "outputId": "a7f4dd4b-744b-4871-a110-8c88ed7ec296",
        "id": "B5dKVbr5qa26"
      },
      "execution_count": null,
      "outputs": [
        {
          "output_type": "stream",
          "name": "stdout",
          "text": [
            "        Tag       Dados\n",
            "0  0011001    0x32,0x33\n",
            "1  0010000    0x20,0x21\n",
            "2        -            -\n",
            "3        -            -\n"
          ]
        },
        {
          "output_type": "display_data",
          "data": {
            "text/plain": [
              "Checkbox(value=False, description='Edit table', indent=False)"
            ],
            "application/vnd.jupyter.widget-view+json": {
              "version_major": 2,
              "version_minor": 0,
              "model_id": "1c056a2b9944475cbaa0c2e3cf37eeed"
            }
          },
          "metadata": {}
        }
      ]
    },
    {
      "cell_type": "code",
      "source": [
        "#@title Apos ler 0x03 e 0x0F\n",
        "%%writefile exemplo2.csv\n",
        "Tag; Dados\n",
        "0011001 ; 0x32,0x33\n",
        "0010000 ; 0x20,0x21\n",
        "0000001; 0x02,0x03\n",
        "0000111; 0x0E,0x0F\n"
      ],
      "metadata": {
        "colab": {
          "base_uri": "https://localhost:8080/"
        },
        "outputId": "4f6f0ec0-b261-4a15-ecee-8d0d7ec4bb04",
        "id": "Wz4mbVTeqa27",
        "cellView": "form"
      },
      "execution_count": null,
      "outputs": [
        {
          "output_type": "stream",
          "name": "stdout",
          "text": [
            "Overwriting exemplo2.csv\n"
          ]
        }
      ]
    },
    {
      "cell_type": "code",
      "source": [
        "Imprime(\"exemplo2.csv\")"
      ],
      "metadata": {
        "colab": {
          "base_uri": "https://localhost:8080/",
          "height": 140,
          "referenced_widgets": [
            "f97cf7df0a2244a688a3688fb437ec9f",
            "0094ed63823849d4913c0bed4b0c1e62",
            "9db02bd090374b7b89fd32289756a5c7"
          ]
        },
        "outputId": "fc18e000-b31b-427e-ff62-1ed943618063",
        "id": "iVPZS2rAqa27"
      },
      "execution_count": null,
      "outputs": [
        {
          "output_type": "stream",
          "name": "stdout",
          "text": [
            "     Tag       Dados\n",
            "0  11001   0x32,0x33\n",
            "1  10000   0x20,0x21\n",
            "2      1   0x02,0x03\n",
            "3    111   0x0E,0x0F\n"
          ]
        },
        {
          "output_type": "display_data",
          "data": {
            "text/plain": [
              "Checkbox(value=False, description='Edit table', indent=False)"
            ],
            "application/vnd.jupyter.widget-view+json": {
              "version_major": 2,
              "version_minor": 0,
              "model_id": "f97cf7df0a2244a688a3688fb437ec9f"
            }
          },
          "metadata": {}
        }
      ]
    },
    {
      "cell_type": "code",
      "source": [
        "#@title Apos ler 0x00 e 0x06, politica FIFO\n",
        "%%writefile exemplo3.csv\n",
        "Tag; Dados\n",
        "0000000 ; 0x00,0x01\n",
        "0000011 ; 0x06,0x07\n",
        "0000001; 0x02,0x03\n",
        "0000111; 0x0E,0x0F"
      ],
      "metadata": {
        "colab": {
          "base_uri": "https://localhost:8080/"
        },
        "outputId": "b2b344dd-787f-4c4d-e37d-cea6f2562b36",
        "cellView": "form",
        "id": "_0xgjwtRqa27"
      },
      "execution_count": null,
      "outputs": [
        {
          "output_type": "stream",
          "name": "stdout",
          "text": [
            "Overwriting exemplo3.csv\n"
          ]
        }
      ]
    },
    {
      "cell_type": "code",
      "source": [
        "Imprime(\"exemplo3.csv\")"
      ],
      "metadata": {
        "colab": {
          "base_uri": "https://localhost:8080/",
          "height": 140,
          "referenced_widgets": [
            "b189435c6da5488294e5cb22bbd333b8",
            "0fd7dc0ea85840f1a43279e3aaf00eb3",
            "9f035f0e53504ed1b0dace8dbd0ebbcd"
          ]
        },
        "outputId": "f166b9b1-d78f-46b0-ffef-8bd7562ed6c5",
        "id": "PYDEZjHHqa28"
      },
      "execution_count": null,
      "outputs": [
        {
          "output_type": "stream",
          "name": "stdout",
          "text": [
            "   Tag       Dados\n",
            "0    0   0x00,0x01\n",
            "1   11   0x06,0x07\n",
            "2    1   0x02,0x03\n",
            "3  111   0x0E,0x0F\n"
          ]
        },
        {
          "output_type": "display_data",
          "data": {
            "text/plain": [
              "Checkbox(value=False, description='Edit table', indent=False)"
            ],
            "application/vnd.jupyter.widget-view+json": {
              "version_major": 2,
              "version_minor": 0,
              "model_id": "b189435c6da5488294e5cb22bbd333b8"
            }
          },
          "metadata": {}
        }
      ]
    },
    {
      "cell_type": "code",
      "source": [
        "#@title Apos ler 0x04 e 0x0c\n",
        "%%writefile exemplo4.csv\n",
        "Tag; Dados\n",
        "0000000 ; 0x00,0x01\n",
        "0000011 ; 0x06,0x07\n",
        "0000010; 0x04,0x05\n",
        "00001; 0x0E,0x0F"
      ],
      "metadata": {
        "colab": {
          "base_uri": "https://localhost:8080/"
        },
        "outputId": "69405cbc-ee90-4275-a80d-394db06f0a82",
        "id": "qpx3OZQ7qa28",
        "cellView": "form"
      },
      "execution_count": null,
      "outputs": [
        {
          "output_type": "stream",
          "name": "stdout",
          "text": [
            "Overwriting exemplo4.csv\n"
          ]
        }
      ]
    },
    {
      "cell_type": "code",
      "source": [
        "Imprime(\"exemplo4.csv\")"
      ],
      "metadata": {
        "colab": {
          "base_uri": "https://localhost:8080/",
          "height": 140,
          "referenced_widgets": [
            "e4b475c97cf54f6b9189a7314d5fe25a",
            "50d12846ba0147e4ab82b60c6c553536",
            "1185c2fb35904dadb1d6ed584af1fbae"
          ]
        },
        "outputId": "8062b9db-dcb4-4aa4-92f8-d1d5d7a8a766",
        "id": "X5QnLWAYqa29"
      },
      "execution_count": null,
      "outputs": [
        {
          "output_type": "stream",
          "name": "stdout",
          "text": [
            "   Tag       Dados\n",
            "0    0   0x00,0x01\n",
            "1   11   0x06,0x07\n",
            "2   10   0x04,0x05\n",
            "3    1   0x0E,0x0F\n"
          ]
        },
        {
          "output_type": "display_data",
          "data": {
            "text/plain": [
              "Checkbox(value=False, description='Edit table', indent=False)"
            ],
            "application/vnd.jupyter.widget-view+json": {
              "version_major": 2,
              "version_minor": 0,
              "model_id": "e4b475c97cf54f6b9189a7314d5fe25a"
            }
          },
          "metadata": {}
        }
      ]
    },
    {
      "cell_type": "markdown",
      "source": [
        "# Cache Associativa por conjunto ou n-way\n",
        "\n",
        "[desenho para editar](https://excalidraw.com/#json=CR1GbnHwKak7erZcdeWlq,izojGq73BAb5Yxagseffkw)\n",
        "<img src=\"https://github.com/arduinoufv/inf450/blob/master/cache/figuras/cache_2way_2GB_64k_bloco_32.png?raw=true\" width=\"600px\">"
      ],
      "metadata": {
        "id": "HEGT9cXHAbh5"
      }
    },
    {
      "cell_type": "markdown",
      "source": [
        "## Definição\n",
        "\n",
        "**mapeamento direto** $\\rightarrow$ **n-way** $\\rightarrow$ **totalmente associativa**\n",
        "\n",
        "**rapida, barata, -----** $\\rightarrow$ **n-way** $\\rightarrow$ **lenta, cara**\n",
        "\n",
        "**muita colisão, -----** $\\rightarrow$ **n-way** $\\rightarrow$ **sem colisão**\n",
        "\n",
        "\n",
        "Uma cache **n-way** ou **associativa por conjunto** é uma técnica de cache que combina os benefícios da cache de **mapeamento direto** e da cache **totalmente associativa**.\n",
        "\n",
        "Na cache de **mapeamento direto**, cada bloco de memória principal é mapeado para uma única linha de cache, com base em um cálculo simples de endereço. No entanto, esse mapeamento pode resultar em **colisões frequentes**, onde dois ou mais blocos diferentes de memória principal são mapeados para a mesma linha de cache. Isso pode levar a uma **alta taxa de substituição de cache**, o que **reduz o desempenho** geral da cache.\n",
        "\n",
        "Por outro lado, na cache **totalmente associativa**, cada bloco de memória principal pode ser mapeado para qualquer linha de cache disponível. Isso reduz as colisões de cache, mas também aumenta o custo e a complexidade da implementação.\n",
        "\n",
        "A cache n-way ou associativa por conjunto é uma solução **intermediária**. Ela divide a cache em conjuntos de linhas, com cada conjunto contendo n linhas. Cada bloco de memória principal é mapeado para um conjunto específico, e pode ser armazenado em qualquer uma das n linhas desse conjunto.\n",
        "\n",
        "Essa abordagem reduz as colisões de cache em comparação com a cache de mapeamento direto, mas mantém um **nível razoável de complexidade e custo** em comparação com a cache totalmente associativa. A escolha de n depende de vários fatores, incluindo o tamanho total da cache e o tamanho dos blocos de memória principal."
      ],
      "metadata": {
        "id": "59Ogt3uCAjeg"
      }
    },
    {
      "cell_type": "markdown",
      "source": [
        "## Cálculo dos campos de endereço com um exemplo\n",
        "\n",
        "Para calcular a divisão dos campos de endereço para uma cache 2-way de 64 KB e blocos de 32 bytes, podemos seguir os seguintes passos:\n",
        "\n",
        "1. Calcular o tamanho do conjunto:\n",
        "  - Como a cache é 2-way, temos 2 linhas por conjunto, ou podemos pensar em uma cache com duas colunas (conjuntos).\n",
        "  - O tamanho total da cache é de 64 KB, que pode ser expresso como 2^16 bytes.\n",
        "  - Cada linha da cache armazena um bloco de 32 bytes, então o número total de linhas da cache é de $\\frac{2^{16}}{32 \\cdot 2}= 1024$ linhas.\n",
        "\n",
        "2. Dividir o endereço em três campos:\n",
        "  - O campo de **tag**, que identifica o bloco de memória principal correspondente à linha da cache, que agora tem duas opções (uma em cada conjunto ou coluna)\n",
        "  - O campo de índice (ou **linha**), que identifica a linha na cache onde o bloco pode ser encontrado.\n",
        "  - O campo de deslocamento, que identifica a posição do byte dentro do bloco de memória principal.\n",
        "\n",
        "3. Para calcular o número de bits necessários para cada campo, podemos usar a fórmula:\n",
        "  - Número de bits = log2 (tamanho do campo)\n",
        "\n",
        "  Então, temos:\n",
        "\n",
        "  - Tamanho do bloco: 32 bytes = $2^5$ bytes\n",
        "  - Tamanho do conjunto: 1024 conjuntos = $2^{10}$ conjuntos, que é o tamanho da cache dividido pelo tamanho do bloco vezes o número de conjunto (ou **ways**).\n",
        "  - Tamanho da memória RAM: 2 GB = $2^{31}$ bytes\n",
        "\n",
        "  - Campo de deslocamento: 5 bits (32 = $2^5$)\n",
        "  - Campo de índice (ou linha): 10 bits (1024 = $2^{10}$)\n",
        "- Campo de tag: 16 bits (2^31 / 2^5 / 2^10 = 2^16)\n",
        "\n",
        "4. Portanto, a divisão dos campos de endereço fica da seguinte forma:\n",
        "  - Tag: bits 15 a 0 (16 bits)\n",
        "  - Linha: bits 25 a 16 (10 bits)\n",
        "  - Deslocamento: bits 4 a 0 (5 bits)\n",
        "\n",
        "\n",
        "$ \\begin{array}{lcc}\n",
        "Tag & Linha   & Bloco  \\\\\n",
        "\\boxed{16 bits} & \\boxed{10 bits} & \\boxed{5 bits} \\\\\n",
        "\\end{array} $\n",
        "\n",
        "Um cache de mapeamento direto teria a seguinte distribuição:\n",
        "\n",
        "$ \\begin{array}{lcc}\n",
        "Tag & Linha   & Bloco  \\\\\n",
        "\\boxed{15 bits} & \\boxed{11 bits} & \\boxed{5 bits} \\\\\n",
        "\\end{array} $\n",
        "\n",
        "Onde teríamos o dobro de linhas, pois é apenas **1 coluna**, ou seja, só tem uma opção para cada endereço na linha, que pode gerar uma colisão.\n",
        "\n"
      ],
      "metadata": {
        "id": "54BZ_eaJD-NT"
      }
    },
    {
      "cell_type": "markdown",
      "source": [
        "## Custo com um exemplo\n",
        "\n",
        "<img src=\"https://github.com/arduinoufv/inf450/blob/master/cache/figuras/cache_2way_2GB_64k_bloco_32.png?raw=true\" width=\"600px\">\n",
        "\n",
        "Similar a cache de mapeamento direto, a cache 2-way, neste exemplo, podemos ver que são 2 conjuntos ou duas colunas. Portanto a cache fica mais \"curta\" e mais \"larga\" ao ter duas opções para cada entrada de linha. Os dois decodificadores podem ser compartilhados. Agora precisamos de 2 comparadores, um para cada conjunto ou coluna. O tag aumenta de um bits que aumenta um pouco o custo da area do tag e dos comparadores.\n",
        "\n",
        "Custo:\n",
        "* decodificador de linha 10:1k\n",
        "* decodificador de bloco 5:32\n",
        "* 2 comparadores de 16 bits\n",
        "* 64 K bytes de dados\n",
        "* 2K * 16 bits para armazenar os **tags**\n"
      ],
      "metadata": {
        "id": "GPaJGMJWIlwq"
      }
    },
    {
      "cell_type": "markdown",
      "source": [
        "### Exemplo com 4 way\n",
        "\n",
        "[desenho para editar](https://excalidraw.com/#json=bGYdkSP9jlNI_YI5E4bP1,IfcuLVdiOFErjfgTHGrOKQ)\n",
        "\n",
        "<img src=\"https://github.com/arduinoufv/inf450/blob/master/cache/figuras/cache_4way_2GB_64k_bloco_32.png?raw=true\" width = \"800px\">\n",
        "\n",
        "Similar a cache 2-way, a cache 4-way, neste exemplo, podemos ver que são 4 conjuntos ou 4 colunas. Portanto a cache fica mais \"curta\" e mais \"larga\" ao ter 4 opções para cada entrada de linha. Os dois decodificadores podem ser compartilhados. Agora precisamos de 4 comparadores, um para cada conjunto ou coluna. O tag aumenta de um bit que aumenta um pouco o custo da area do tag e dos comparadores.\n",
        "\n",
        "* Tag = $Endereço_{ram} - Endereço_{bloco} - Endereço_{linha}$\n",
        "\n",
        "* Linha  = $\\frac{Cache}{way \\times bloco}=\\frac{64K}{4 \\times 32}=512$ ou 9 bits de endereço de linha.\n",
        "\n",
        "* Custo:\n",
        "  * decodificador de linha 9:512\n",
        "  * decodificador de bloco 5:32\n",
        "  * 4 comparadores de 17 bits\n",
        "  * 64 K bytes de dados\n",
        "  * 4* 512 * 17 bits para armazenar os **tags**\n",
        "\n",
        "---\n",
        "\n",
        "  Para **8-way**, O tag aumenta de um bit que aumenta um pouco o custo da area do tag e dos comparadores.\n",
        "\n",
        "\n",
        "* Linha  = $\\frac{Cache}{way \\times bloco}=\\frac{64K}{8 \\times 32}=256$ ou 8 bits de endereço de linha.\n",
        "\n",
        "* Tag = $Endereço_{ram} - Endereço_{bloco} - Endereço_{linha} = 31 - 5 - 8 = 18$ bits\n",
        "\n",
        "\n",
        "* Custo:\n",
        "  * decodificador de linha 8:256\n",
        "  * decodificador de bloco 5:32\n",
        "  * 8 comparadores de 18 bits\n",
        "  * 64 K bytes de dados\n",
        "  * 8* 256 * 18 bits para armazenar os **tags**\n"
      ],
      "metadata": {
        "id": "xh4whHgb8DRa"
      }
    },
    {
      "cell_type": "markdown",
      "source": [
        "### Exemplo 1\n",
        "\n",
        "Pequena cache e memória para fins didáticos. Cache com blocos de 2 bytes, memoria Ram de 256 bytes e uma cache 2-way de 16 bytes (4 linhas e duas colunas).\n",
        "\n",
        "* supor que a memória $i$ tem o dado $i$, por exemplo m[4] = 4\n",
        "\n",
        "Supor o conteudo inicial ilustrado abaixo:"
      ],
      "metadata": {
        "id": "dyBhR1KlnWOA"
      }
    },
    {
      "cell_type": "code",
      "source": [
        "#@title Execute para carregar a cache inicial\n",
        "%%writefile exemplo.csv\n",
        "Tag; Dados;Tag; Dados\n",
        " - ; -;- ; -\n",
        " - ; -;- ; -\n",
        " - ; -;- ; -\n",
        " - ; -;- ; -\n"
      ],
      "metadata": {
        "colab": {
          "base_uri": "https://localhost:8080/"
        },
        "outputId": "217d39ae-f40b-4ed6-d8ac-3a85600957d9",
        "id": "AAdRbrYanWOI"
      },
      "execution_count": null,
      "outputs": [
        {
          "output_type": "stream",
          "name": "stdout",
          "text": [
            "Writing exemplo.csv\n"
          ]
        }
      ]
    },
    {
      "cell_type": "code",
      "source": [
        "Imprime(\"exemplo.csv\")"
      ],
      "metadata": {
        "colab": {
          "base_uri": "https://localhost:8080/",
          "height": 140,
          "referenced_widgets": [
            "5cd4764cec344263ae70d5b65d4892cb",
            "cfeee0d2be9d49a3adada064ba1c0ba9",
            "b772ea0ee19c4000b075de479f818767"
          ]
        },
        "outputId": "1de2aed8-cd11-4df8-d883-d3a816366ced",
        "id": "pGM-ouVBnWOI"
      },
      "execution_count": null,
      "outputs": [
        {
          "output_type": "stream",
          "name": "stdout",
          "text": [
            "   Tag  Dados Tag.1  Dados.1\n",
            "0   -       -    -         -\n",
            "1   -       -    -         -\n",
            "2   -       -    -         -\n",
            "3   -       -    -         -\n"
          ]
        },
        {
          "output_type": "display_data",
          "data": {
            "text/plain": [
              "Checkbox(value=False, description='Edit table', indent=False)"
            ],
            "application/vnd.jupyter.widget-view+json": {
              "version_major": 2,
              "version_minor": 0,
              "model_id": "5cd4764cec344263ae70d5b65d4892cb"
            }
          },
          "metadata": {}
        }
      ]
    },
    {
      "cell_type": "markdown",
      "source": [
        "#### Sequencia de leituras\n",
        "\n",
        "Ler posições 0x32 e 0x21. Iremos usar hexadecimal para facilitar as conversões.\n",
        "\n",
        "* 0x32 = 0011 0010 em binário. Dividindo nos campos tag=$00110$, linha=$01$, dentro do bloco na posição =$0$\n",
        "\n",
        "$ \\begin{array}{lcc}\n",
        "Tag & Linha   & Bloco  \\\\\n",
        "\\boxed{00110} & \\boxed{01} & \\boxed{0} \\\\\n",
        "\\end{array} $\n",
        "\n",
        "Portanto teremos\n",
        "\n",
        "$ \\begin{array}{lccc}\n",
        "Linha & Tag   & Dados  \\\\\n",
        "      &       & 0 & 1 \\\\\n",
        "\\mbox{1 ou 01} & \\boxed{00110} & \\boxed{0x32} & \\boxed{0x33} \\\\\n",
        "\\end{array} $\n",
        "\n",
        "\n",
        "* 0x21 = 0010 0001 em binário. Dividindo nos campos tag=$00100$, linha=$00$, dentro do bloco na posição=$1$\n",
        "\n",
        "Resulta na cache abaixo:\n"
      ],
      "metadata": {
        "id": "Km6Xesk_nWOJ"
      }
    },
    {
      "cell_type": "code",
      "source": [
        "#@title Apos ler 0x32 e 0x21\n",
        "%%writefile exemplo1.csv\n",
        "Tag; Dados;Tag; Dados\n",
        " 00100 ; 0x20,0x21;- ; -\n",
        " 00110 ; 0x32,0x33;- ; -\n",
        " - ; -;- ; -\n",
        " - ; -- ; -\n"
      ],
      "metadata": {
        "colab": {
          "base_uri": "https://localhost:8080/"
        },
        "cellView": "form",
        "outputId": "026ef8be-17da-42d0-8d65-e8b2dcb3a528",
        "id": "3-ZtSezNnWOJ"
      },
      "execution_count": null,
      "outputs": [
        {
          "output_type": "stream",
          "name": "stdout",
          "text": [
            "Writing exemplo1.csv\n"
          ]
        }
      ]
    },
    {
      "cell_type": "code",
      "source": [
        "Imprime(\"exemplo1.csv\")"
      ],
      "metadata": {
        "colab": {
          "base_uri": "https://localhost:8080/",
          "height": 140,
          "referenced_widgets": [
            "403496a07fc545b2838e83dc8a0a6527",
            "232ca8b4f6ae4755b2a857c03db6ff75",
            "6b527f9ba1244824be51cbee4d758ffb"
          ]
        },
        "outputId": "85d5ef26-9250-4876-ad68-84b512a5dfc5",
        "id": "3KN3sQxQnWOJ"
      },
      "execution_count": null,
      "outputs": [
        {
          "output_type": "stream",
          "name": "stdout",
          "text": [
            "       Tag       Dados Tag.1  Dados.1\n",
            "0   00100    0x20,0x21    -         -\n",
            "1   00110    0x32,0x33    -         -\n",
            "2       -            -    -         -\n",
            "3       -          --      -        -\n"
          ]
        },
        {
          "output_type": "display_data",
          "data": {
            "text/plain": [
              "Checkbox(value=False, description='Edit table', indent=False)"
            ],
            "application/vnd.jupyter.widget-view+json": {
              "version_major": 2,
              "version_minor": 0,
              "model_id": "403496a07fc545b2838e83dc8a0a6527"
            }
          },
          "metadata": {}
        }
      ]
    },
    {
      "cell_type": "code",
      "source": [
        "#@title Apos ler 0x03 e 0x0F\n",
        "%%writefile exemplo2.csv\n",
        "Tag; Dados;Tag; Dados\n",
        " 00100 ; 0x20,0x21; -;-\n",
        " 00110 ; 0x32,0x33;00000 ;0x02,0x03\n",
        " -;- ;-;-\n",
        " 00001 ; 0xE,0xF;-;-\n"
      ],
      "metadata": {
        "colab": {
          "base_uri": "https://localhost:8080/"
        },
        "outputId": "597a8002-e4e0-45cb-d56e-1d0e4b78a17d",
        "id": "VBfxQKmnnWOJ"
      },
      "execution_count": null,
      "outputs": [
        {
          "output_type": "stream",
          "name": "stdout",
          "text": [
            "Overwriting exemplo2.csv\n"
          ]
        }
      ]
    },
    {
      "cell_type": "code",
      "source": [
        "Imprime(\"exemplo2.csv\")"
      ],
      "metadata": {
        "colab": {
          "base_uri": "https://localhost:8080/",
          "height": 140,
          "referenced_widgets": [
            "21b3f575615a4a598fb561a02e172ded",
            "15c289a7271d472883415c79f7548f02",
            "fa89572b83094686be28ed8533708009"
          ]
        },
        "outputId": "fa52fa9c-70bf-4bb2-e243-42c1aa52f43b",
        "id": "kkxCMZAFnWOK"
      },
      "execution_count": null,
      "outputs": [
        {
          "output_type": "stream",
          "name": "stdout",
          "text": [
            "       Tag       Dados   Tag.1    Dados.1\n",
            "0   00100    0x20,0x21       -          -\n",
            "1   00110    0x32,0x33  00000   0x02,0x03\n",
            "2        -          -        -          -\n",
            "3   00001      0xE,0xF       -          -\n"
          ]
        },
        {
          "output_type": "display_data",
          "data": {
            "text/plain": [
              "Checkbox(value=False, description='Edit table', indent=False)"
            ],
            "application/vnd.jupyter.widget-view+json": {
              "version_major": 2,
              "version_minor": 0,
              "model_id": "21b3f575615a4a598fb561a02e172ded"
            }
          },
          "metadata": {}
        }
      ]
    },
    {
      "cell_type": "code",
      "source": [
        "#@title Apos ler 0x00 e 0x06\n",
        "%%writefile exemplo3.csv\n",
        "Tag; Dados;Tag; Dados\n",
        " 00100 ; 0x20,0x21; 00000 ; 0x00,0x01\n",
        " 00110 ; 0x32,0x33;00000;0x02,0x03\n",
        " -;- ;-;-\n",
        " 00001 ; 0xE,0xF; 00000; 0x06,0x07"
      ],
      "metadata": {
        "colab": {
          "base_uri": "https://localhost:8080/"
        },
        "outputId": "3ddc5b58-489e-42b4-e6e3-569e9eb5cad3",
        "id": "TWkv6yJpnWOK"
      },
      "execution_count": null,
      "outputs": [
        {
          "output_type": "stream",
          "name": "stdout",
          "text": [
            "Writing exemplo3.csv\n"
          ]
        }
      ]
    },
    {
      "cell_type": "code",
      "source": [
        "Imprime(\"exemplo3.csv\")"
      ],
      "metadata": {
        "colab": {
          "base_uri": "https://localhost:8080/",
          "height": 140,
          "referenced_widgets": [
            "f02359396d3348a9acdce6db218c5321",
            "f64f6ee5c81849f78ebdc4f37fa6fe0b",
            "7c80d23d308e47adb64e286855b8d547"
          ]
        },
        "outputId": "bcaadeb5-08be-46d2-926b-1f33deef1e70",
        "id": "N7GaQKHmnWOK"
      },
      "execution_count": null,
      "outputs": [
        {
          "output_type": "stream",
          "name": "stdout",
          "text": [
            "       Tag       Dados    Tag.1     Dados.1\n",
            "0   00100    0x20,0x21   00000    0x00,0x01\n",
            "1   00110    0x32,0x33    00000   0x02,0x03\n",
            "2        -          -         -           -\n",
            "3   00001      0xE,0xF    00000   0x06,0x07\n"
          ]
        },
        {
          "output_type": "display_data",
          "data": {
            "text/plain": [
              "Checkbox(value=False, description='Edit table', indent=False)"
            ],
            "application/vnd.jupyter.widget-view+json": {
              "version_major": 2,
              "version_minor": 0,
              "model_id": "f02359396d3348a9acdce6db218c5321"
            }
          },
          "metadata": {}
        }
      ]
    },
    {
      "cell_type": "code",
      "source": [
        "#@title Apos ler 0x04 e 0x0c\n",
        "%%writefile exemplo4.csv\n",
        " 00100 ; 0x20,0x21; 00000 ; 0x00,0x01\n",
        " 00110 ; 0x32,0x33;00000;0x02,0x03\n",
        " 00000; 0x04,0x05 ; 00001 ; 0x0C, 0x0D\n",
        " 00001 ; 0xE,0xF; 00000; 0x06,0x07"
      ],
      "metadata": {
        "colab": {
          "base_uri": "https://localhost:8080/"
        },
        "cellView": "form",
        "outputId": "0cdcfc04-d81e-4ed0-bba3-17d62e777956",
        "id": "uLrKnmx2nWOK"
      },
      "execution_count": null,
      "outputs": [
        {
          "output_type": "stream",
          "name": "stdout",
          "text": [
            "Writing exemplo4.csv\n"
          ]
        }
      ]
    },
    {
      "cell_type": "code",
      "source": [
        "Imprime(\"exemplo4.csv\")"
      ],
      "metadata": {
        "colab": {
          "base_uri": "https://localhost:8080/",
          "height": 122,
          "referenced_widgets": [
            "dcc3c3fae9bd43168fa779487c43cf81",
            "fa48b81f660848f5b7a11b5e200801f5",
            "14fdf073253f42fc917d8f40ae2cbe38"
          ]
        },
        "outputId": "9c5b6463-40a8-498f-c8ee-75c5859bfe46",
        "id": "fCHdeQNUnWOK"
      },
      "execution_count": null,
      "outputs": [
        {
          "output_type": "stream",
          "name": "stdout",
          "text": [
            "    00100     0x20,0x21   00000     0x00,0x01\n",
            "0      110    0x32,0x33        0    0x02,0x03\n",
            "1        0   0x04,0x05         1   0x0C, 0x0D\n",
            "2        1      0xE,0xF        0    0x06,0x07\n"
          ]
        },
        {
          "output_type": "display_data",
          "data": {
            "text/plain": [
              "Checkbox(value=False, description='Edit table', indent=False)"
            ],
            "application/vnd.jupyter.widget-view+json": {
              "version_major": 2,
              "version_minor": 0,
              "model_id": "dcc3c3fae9bd43168fa779487c43cf81"
            }
          },
          "metadata": {}
        }
      ]
    },
    {
      "cell_type": "markdown",
      "source": [
        "# Tempo de Acesso\n",
        "\n",
        "Certamente, a equação do tempo médio de acesso à cache é dada por:\n",
        "\n",
        "Tmédio = $T_c + (1 - h) × T_m$\n",
        "\n",
        "onde:\n",
        "\n",
        "- h é a taxa de acertos (hit rate) da cache, ou seja, a fração das solicitações que encontram os dados na cache.\n",
        "- Tc é o tempo de acesso à cache, que é geralmente muito menor do que o tempo de acesso à memória principal.\n",
        "- Tm é o tempo de acesso à memória principal, que é geralmente muito maior do que o tempo de acesso à cache.\n",
        "\n",
        "Na cache totalmente associativa, a taxa de falhas (miss rate) é menor do que no mapeamento direto, porque cada bloco pode ser armazenado em qualquer local da cache. Isso significa que a cache pode armazenar mais dados que poderiam ter conflitos nas outras cache. No entanto, a busca pelo bloco na cache é mais complexa e demorada, porque a cache deve procurar em todos os blocos para encontrar o bloco desejado. Portanto, o tempo de acesso $T_c$ à cache é maior do que no mapeamento direto.\n",
        "\n",
        "Assim, a cache totalmente associativa reduz a taxa de falhas e, portanto, aumenta a taxa de acertos (hit rate), mas ao mesmo tempo aumenta o tempo de acesso $T_c$ em comparação com o mapeamento direto. A escolha entre os dois tipos de cache depende do trade-off entre a taxa de acertos e o tempo de acesso médio, bem como de outros fatores, como a complexidade e o custo de implementação."
      ],
      "metadata": {
        "id": "AHfvAkc6pTsY"
      }
    },
    {
      "cell_type": "markdown",
      "source": [
        "## Cache com 2 níveis\n",
        "\n",
        "Quando uma cache é dividida em dois ou mais níveis, a equação do tempo médio de acesso se torna mais complexa, mas ainda pode ser calculada usando a seguinte fórmula:\n",
        "\n",
        "Tmédio =  Tc1 + (1 - h1) × ( Tc2 + (1 - h2) × Tm)\n",
        "\n",
        "onde:\n",
        "\n",
        "- h1 é a taxa de acertos (hit rate) da cache L1, ou seja, a fração das solicitações que encontram os dados na cache L1.\n",
        "- Tc1 é o tempo de acesso à cache L1, que é geralmente muito menor do que o tempo de acesso à memória principal.\n",
        "- h2 é a taxa de acertos (hit rate) da cache L2, ou seja, a fração das solicitações que encontram os dados na cache L2.\n",
        "- Tc2 é o tempo de acesso à cache L2, que é geralmente maior do que o tempo de acesso à cache L1, mas ainda menor do que o tempo de acesso à memória principal.\n",
        "- Tm é o tempo de acesso à memória principal, que é geralmente muito maior do que o tempo de acesso à cache L2.\n",
        "\n",
        "Nessa fórmula, a cache L1 é a cache mais rápida e menor, que é usada para armazenar os dados mais frequentemente usados ​​pelo processador. Se a solicitação não encontrar os dados na cache L1, a cache L2 é verificada. Se os dados também não estiverem na cache L2, a memória principal é acessada.\n",
        "\n",
        "A eficácia de uma cache de dois níveis depende do tamanho, da organização e das políticas de substituição usadas em cada nível. Em geral, uma cache L1 menor e mais rápida é mais eficaz para armazenar os dados mais frequentemente usados, enquanto uma cache L2 maior e mais lenta é mais eficaz para armazenar os dados menos frequentemente usados. A escolha dos tamanhos e políticas de substituição ideais para cada cache depende das características do sistema e dos padrões de acesso aos dados."
      ],
      "metadata": {
        "id": "SXhbhJDLp_hh"
      }
    },
    {
      "cell_type": "markdown",
      "source": [
        "## Cache com três niveis\n",
        "\n",
        "Quando uma cache é dividida em três ou mais níveis, a equação do tempo médio de acesso se torna ainda mais complexa, mas ainda pode ser calculada usando a seguinte fórmula:\n",
        "\n",
        "Tmédio = Tc1 + (1 - h1) × [Tc2 + (1 - h2) × (  Tc3 + (1 - h3) × Tm)]\n",
        "\n",
        "onde:\n",
        "\n",
        "- h1 é a taxa de acertos (hit rate) da cache L1, ou seja, a fração das solicitações que encontram os dados na cache L1.\n",
        "- Tc1 é o tempo de acesso à cache L1, que é geralmente muito menor do que o tempo de acesso à memória principal.\n",
        "- h2 é a taxa de acertos (hit rate) da cache L2, ou seja, a fração das solicitações que encontram os dados na cache L2.\n",
        "- Tc2 é o tempo de acesso à cache L2, que é geralmente maior do que o tempo de acesso à cache L1, mas ainda menor do que o tempo de acesso à memória principal.\n",
        "- h3 é a taxa de acertos (hit rate) da cache L3, ou seja, a fração das solicitações que encontram os dados na cache L3.\n",
        "- Tc3 é o tempo de acesso à cache L3, que é geralmente maior do que o tempo de acesso à cache L2, mas ainda menor do que o tempo de acesso à memória principal.\n",
        "- Tm é o tempo de acesso à memória principal, que é geralmente muito maior do que o tempo de acesso à cache L3.\n",
        "\n",
        "Nessa fórmula, a cache L1 é a cache mais rápida e menor, que é usada para armazenar os dados mais frequentemente usados ​​pelo processador. Se a solicitação não encontrar os dados na cache L1, a cache L2 é verificada. Se os dados também não estiverem na cache L2, a cache L3 é verificada. Se os dados ainda não estiverem na cache L3, a memória principal é acessada.\n",
        "\n",
        "A eficácia de uma cache de três níveis (ou mais) depende do tamanho, da organização e das políticas de substituição usadas em cada nível. Em geral, uma cache L1 menor e mais rápida é mais eficaz para armazenar os dados mais frequentemente usados, enquanto caches maiores e mais lentas, como L2 e L3, são mais eficazes para armazenar os dados menos frequentemente usados. A escolha dos tamanhos e políticas de substituição ideais para cada cache depende das características do sistema e dos padrões de acesso aos dados."
      ],
      "metadata": {
        "id": "z7A_Boo-qWcn"
      }
    },
    {
      "cell_type": "markdown",
      "source": [
        "## Tempo considerando politica de escrita na Cache\n",
        "\n",
        "Em uma cache com política write-back, quando um bloco de dados é atualizado, ele não é imediatamente escrito de volta para a memória principal, mas sim marcado como \"sujo\" (dirty), indicando que ele foi modificado e precisa ser escrito de volta em algum momento no futuro. Isso permite reduzir o tráfego de escrita na memória principal e melhorar o desempenho da cache.\n",
        "\n",
        "No entanto, a política write-back também introduz uma complexidade adicional no cálculo do tempo médio de acesso à cache. Além da taxa de acertos (hit rate) e do tempo de acesso à cache (Tc), precisamos considerar a taxa de escrita (write rate), o tempo de escrita na cache (Tw), o tempo de escrita na memória principal (Tm_write), o tempo de leitura na memória principal (Tm_read) e a taxa de substituição (miss rate), que é a fração das solicitações que não encontram os dados na cache e precisam ser buscadas na memória principal. A equação do tempo médio de acesso à cache em uma cache com política write-back é dada por:\n",
        "\n",
        "Tmédio = Tc + miss_rate × (Tw + h_clean × Tm_read + (1 - h_clean) × (Tm_read + Tm_write))\n",
        "\n",
        "onde:\n",
        "\n",
        "- h é a taxa de acertos (hit rate) da cache, ou seja, a fração das solicitações que encontram os dados na cache sem precisar acessar a memória principal.\n",
        "- Tc é o tempo de acesso à cache, que é geralmente muito menor do que o tempo de acesso à memória principal.\n",
        "- miss_rate é a taxa de substituição (miss rate) da cache, ou seja, a fração das solicitações que não encontram os dados na cache e precisam ser buscadas na memória principal.\n",
        "- Tw é o tempo de escrita na cache, que é geralmente menor do que o tempo de escrita na memória principal.\n",
        "- h_clean é a taxa de dados limpos na cache para as solicitações de substituição, que não precisam ser atualizados em memória.\n",
        "- Tm_read é o tempo de leitura na memória principal, que é geralmente muito maior do que o tempo de acesso à cache.\n",
        "- Tm_write é o tempo de escrita na memória principal, que é geralmente muito maior do que o tempo de escrita na cache.\n",
        "\n",
        "Na política write-back, quando um bloco de dados é substituído, se ele foi modificado (sujo), é necessário escrevê-lo de volta na memória principal antes que o novo bloco possa ser carregado na cache. Isso é feito durante a operação de escrita na cache (Tw). Se a solicitação de substituição encontra o bloco limpo a ser substituído na cache (h_clean), não é necessário acessar a memória principal para escrever os dados, mas ainda é necessário ler da memória principal (Tm_read). Se a solicitação de substituição acha um  bloco  sujo, deve escrever na memória principal (Tm_write) e depois buscar o bloco solicitado.\n",
        "\n"
      ],
      "metadata": {
        "id": "7KJA-FKwq-72"
      }
    },
    {
      "cell_type": "markdown",
      "source": [
        "## Write back e Write Throught\n",
        "\n",
        "Em geral, a política write-back é mais eficiente do que a política write-through em termos de desempenho e tráfego na memória principal, pois reduz a quantidade de escritas na memória principal e aproveita melhor a capacidade da cache.\n",
        "\n",
        "Na política write-through, sempre que um bloco de dados é atualizado na cache, ele é imediatamente escrito de volta na memória principal. Isso significa que cada escrita na cache gera uma escrita na memória principal, o que pode resultar em um alto tráfego na memória principal e um atraso significativo no desempenho do sistema. Além disso, se um bloco de dados é atualizado várias vezes na cache antes de ser escrito de volta na memória principal, isso pode resultar em uma quantidade excessiva de escritas na memória principal, reduzindo ainda mais o desempenho do sistema.\n",
        "\n",
        "Por outro lado, na política write-back, os dados são atualizados apenas na cache e marcados como \"sujo\" (dirty) quando são modificados. Os dados só são escritos de volta na memória principal quando o bloco é substituído na cache. Isso reduz a quantidade de escritas na memória principal e aproveita melhor a capacidade da cache, pois vários acessos ao mesmo bloco de dados na cache não resultam em escritas repetidas na memória principal. Além disso, a política write-back permite que os dados sejam atualizados com mais frequência na cache, reduzindo a probabilidade de que um dado esteja desatualizado quando é lido. Isso pode melhorar significativamente o desempenho do sistema em aplicações que fazem muitas atualizações na cache."
      ],
      "metadata": {
        "id": "06gp6RMrsNbs"
      }
    },
    {
      "cell_type": "markdown",
      "source": [
        "# Politica de substituição\n",
        "\n",
        "A política de substituição **LRU** (Least Recently Used) e a política de substituição **FIFO** (First-In, First-Out) são duas estratégias comuns usadas em caches para decidir qual bloco de dados deve ser removido quando a cache está cheia e precisa fazer espaço para acomodar novos blocos.\n",
        "\n",
        "Na política LRU, cada bloco da cache é marcado com um contador de tempo que indica a última vez que ele foi acessado. Quando um novo bloco precisa ser carregado na cache e não há espaço disponível, o bloco com o contador mais antigo (ou seja, o bloco que não foi acessado há mais tempo) é removido da cache para dar lugar ao novo bloco.\n",
        "\n",
        "A ideia por trás da política LRU é que os blocos que foram acessados recentemente são mais propensos a serem acessados novamente no futuro próximo. Portanto, remover os blocos menos recentemente usados pode ajudar a maximizar o número de hits na cache e reduzir o número de misses.\n",
        "\n",
        "Já na política FIFO, os blocos são organizados em uma fila, e o bloco mais antigo na fila é sempre o primeiro a ser removido quando um novo bloco precisa ser carregado na cache. Essa política é baseada na suposição de que os blocos que foram carregados mais cedo na cache são mais propensos a não serem usados novamente no futuro próximo, enquanto os blocos mais recentes são mais prováveis de serem usados novamente.\n",
        "\n",
        "Embora a política LRU geralmente ofereça um melhor desempenho de cache do que a política FIFO, a política FIFO é mais fácil de implementar e requer menos hardware para manter o estado de cada bloco. Além disso, a política FIFO pode ser mais adequada para certos tipos de aplicações onde a ordem temporal dos dados é importante, como em sistemas de streaming de vídeo ou áudio."
      ],
      "metadata": {
        "id": "kJfiFDBztIQc"
      }
    },
    {
      "cell_type": "markdown",
      "source": [
        "## Exemplo\n",
        "\n",
        "Um exemplo usando a sequência de acessos \"2 5 8 2 9 1 5 2 8 2 4 6 1 2 5 9 8 7 1 2\".\n",
        "\n",
        "Feito para ChatGPT (errado)\n",
        "\n",
        "Suponha que a cache tenha 4 posições (ou seja, pode armazenar 4 blocos de dados). Inicialmente, a cache está vazia. Vamos acompanhar o comportamento da cache usando as políticas de substituição LRU e FIFO.\n",
        "\n",
        "Com a política LRU, o comportamento da cache seria o seguinte:\n",
        "\n",
        "1. Acesso ao bloco 2 - cache miss (2 é carregado na posição 1)\n",
        "2. Acesso ao bloco 5 - cache miss (5 é carregado na posição 2)\n",
        "3. Acesso ao bloco 8 - cache miss (8 é carregado na posição 3)\n",
        "4. Acesso ao bloco 2 - cache hit (2 está na posição 1)\n",
        "5. Acesso ao bloco 9 - cache miss (9 é carregado na posição 4, substituindo o bloco 2)\n",
        "6. Acesso ao bloco 1 - cache miss (1 é carregado na posição 1, substituindo o bloco 5)\n",
        "7. Acesso ao bloco 5 - cache hit (5 está na posição 2)\n",
        "8. Acesso ao bloco 2 - cache hit (2 está na posição 1)\n",
        "9. Acesso ao bloco 8 - cache hit (8 está na posição 3)\n",
        "10. Acesso ao bloco 2 - cache hit (2 está na posição 1)\n",
        "11. Acesso ao bloco 4 - cache miss (4 é carregado na posição 5, substituindo o bloco 9)\n",
        "12. Acesso ao bloco 6 - cache miss (6 é carregado na posição 9, substituindo o bloco 1)\n",
        "13. Acesso ao bloco 1 - cache miss (1 é carregado na posição 2, substituindo o bloco 2)\n",
        "14. Acesso ao bloco 2 - cache hit (2 está na posição 1)\n",
        "15. Acesso ao bloco 5 - cache hit (5 está na posição 2)\n",
        "16. Acesso ao bloco 9 - cache hit (9 está na posição 4)\n",
        "17. Acesso ao bloco 8 - cache hit (8 está na posição 3)\n",
        "18. Acesso ao bloco 7 - cache miss (7 é carregado na posição 5, substituindo o bloco 4)\n",
        "19. Acesso ao bloco 1 - cache hit (1 está na posição 2)\n",
        "20. Acesso ao bloco 2 - cache hit (2 está na posição 1)\n",
        "\n"
      ],
      "metadata": {
        "id": "OojfOUjot5ZZ"
      }
    },
    {
      "cell_type": "code",
      "source": [
        "#@title Código de simulação de LRU e FIFO com 4 entradas e aleatório\n",
        "import random\n",
        "\n",
        "# Definindo o tamanho da cache e a sequência de acessos\n",
        "cache_size = 4\n",
        "#acessos = [random.randint(1, 9) for i in range(20)]\n",
        "acessos = [0, 1, 2, 1, 2, 3, 4, 2, 5, 1, 4, 5, 6, 7, 1, 8] # criar um exemplo\n",
        "# otima    F  F  F       F  F     F           F  F      F\n",
        "#                          0     3,2\n",
        "\n",
        "# Inicializando as caches (com \"-\")\n",
        "cache_lru = [\"-\" for i in range(cache_size)]\n",
        "cache_fifo = [\"-\" for i in range(cache_size)]\n",
        "\n",
        "# Contadores de falhas\n",
        "falhas_lru = 0\n",
        "falhas_fifo = 0\n",
        "\n",
        "# Função para atualizar a cache usando a política LRU\n",
        "def atualizar_cache_lru(cache, bloco):\n",
        "    global falhas_lru\n",
        "    if bloco in cache:\n",
        "        cache.remove(bloco)\n",
        "    elif len(cache) == cache_size:\n",
        "        cache.pop()\n",
        "        falhas_lru += 1\n",
        "    cache.insert(0, bloco)\n",
        "\n",
        "# Função para atualizar a cache usando a política FIFO\n",
        "def atualizar_cache_fifo(cache, bloco):\n",
        "    global falhas_fifo\n",
        "    if bloco not in cache:\n",
        "        if len(cache) == cache_size:\n",
        "            cache.pop(0)\n",
        "            falhas_fifo += 1\n",
        "        cache.append(bloco)\n",
        "\n",
        "# Realizando os acessos\n",
        "print(\"Acessos:\")\n",
        "for i, acesso in enumerate(acessos):\n",
        "    print(\"Acesso #{}: {}\".format(i+1, acesso))\n",
        "\n",
        "    # Atualizando a cache LRU\n",
        "    atualizar_cache_lru(cache_lru, acesso)\n",
        "    print(\"Cache LRU: \", cache_lru)\n",
        "\n",
        "    # Atualizando a cache FIFO\n",
        "    atualizar_cache_fifo(cache_fifo, acesso)\n",
        "    print(\"Cache FIFO:\", cache_fifo)\n",
        "\n",
        "# Imprimindo os resultados\n",
        "print(\"\\nTotal de falhas:\")\n",
        "print(\"LRU:  \", falhas_lru)\n",
        "print(\"FIFO: \", falhas_fifo)\n"
      ],
      "metadata": {
        "colab": {
          "base_uri": "https://localhost:8080/"
        },
        "id": "Ogp-2ydtzpwA",
        "outputId": "88685fe2-25b9-47f5-d5d0-1ee80ede74d0"
      },
      "execution_count": null,
      "outputs": [
        {
          "output_type": "stream",
          "name": "stdout",
          "text": [
            "Acessos:\n",
            "Acesso #1: 0\n",
            "Cache LRU:  [0, '-', '-', '-']\n",
            "Cache FIFO: ['-', '-', '-', 0]\n",
            "Acesso #2: 1\n",
            "Cache LRU:  [1, 0, '-', '-']\n",
            "Cache FIFO: ['-', '-', 0, 1]\n",
            "Acesso #3: 2\n",
            "Cache LRU:  [2, 1, 0, '-']\n",
            "Cache FIFO: ['-', 0, 1, 2]\n",
            "Acesso #4: 1\n",
            "Cache LRU:  [1, 2, 0, '-']\n",
            "Cache FIFO: ['-', 0, 1, 2]\n",
            "Acesso #5: 2\n",
            "Cache LRU:  [2, 1, 0, '-']\n",
            "Cache FIFO: ['-', 0, 1, 2]\n",
            "Acesso #6: 3\n",
            "Cache LRU:  [3, 2, 1, 0]\n",
            "Cache FIFO: [0, 1, 2, 3]\n",
            "Acesso #7: 4\n",
            "Cache LRU:  [4, 3, 2, 1]\n",
            "Cache FIFO: [1, 2, 3, 4]\n",
            "Acesso #8: 2\n",
            "Cache LRU:  [2, 4, 3, 1]\n",
            "Cache FIFO: [1, 2, 3, 4]\n",
            "Acesso #9: 5\n",
            "Cache LRU:  [5, 2, 4, 3]\n",
            "Cache FIFO: [2, 3, 4, 5]\n",
            "Acesso #10: 1\n",
            "Cache LRU:  [1, 5, 2, 4]\n",
            "Cache FIFO: [3, 4, 5, 1]\n",
            "Acesso #11: 4\n",
            "Cache LRU:  [4, 1, 5, 2]\n",
            "Cache FIFO: [3, 4, 5, 1]\n",
            "Acesso #12: 5\n",
            "Cache LRU:  [5, 4, 1, 2]\n",
            "Cache FIFO: [3, 4, 5, 1]\n",
            "Acesso #13: 6\n",
            "Cache LRU:  [6, 5, 4, 1]\n",
            "Cache FIFO: [4, 5, 1, 6]\n",
            "Acesso #14: 7\n",
            "Cache LRU:  [7, 6, 5, 4]\n",
            "Cache FIFO: [5, 1, 6, 7]\n",
            "Acesso #15: 1\n",
            "Cache LRU:  [1, 7, 6, 5]\n",
            "Cache FIFO: [5, 1, 6, 7]\n",
            "Acesso #16: 8\n",
            "Cache LRU:  [8, 1, 7, 6]\n",
            "Cache FIFO: [1, 6, 7, 8]\n",
            "\n",
            "Total de falhas:\n",
            "LRU:   11\n",
            "FIFO:  10\n"
          ]
        }
      ]
    }
  ]
}