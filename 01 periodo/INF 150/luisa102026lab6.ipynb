{
  "nbformat": 4,
  "nbformat_minor": 0,
  "metadata": {
    "colab": {
      "name": "luisa102026lab6.ipynb",
      "provenance": [],
      "collapsed_sections": [
        "s7lnDZGymMoK",
        "tlw34GlCWWzu",
        "drNJlnWfmKRg"
      ],
      "toc_visible": true,
      "include_colab_link": true
    },
    "kernelspec": {
      "name": "python3",
      "display_name": "Python 3"
    }
  },
  "cells": [
    {
      "cell_type": "markdown",
      "metadata": {
        "id": "view-in-github",
        "colab_type": "text"
      },
      "source": [
        "<a href=\"https://colab.research.google.com/github/ferreiraluisa/faculdade/blob/main/luisa102026lab6.ipynb\" target=\"_parent\"><img src=\"https://colab.research.google.com/assets/colab-badge.svg\" alt=\"Open In Colab\"/></a>"
      ]
    },
    {
      "cell_type": "markdown",
      "metadata": {
        "id": "CM-ZJgQmwDzb"
      },
      "source": [
        "# Ferramentas para Minimizar Circuitos em Python\n",
        "\n",
        "Neste laboratório iremos usar Python e alguns sites para minimizar circuitos com Mapa de Karnaugh."
      ]
    },
    {
      "cell_type": "markdown",
      "metadata": {
        "id": "TifRyfe-wznD"
      },
      "source": [
        "# Mapa de Karnaugh\n",
        "\n",
        "Recomendamos os slides\n",
        "* [Introdução aos Mapas](https://docs.google.com/presentation/d/e/2PACX-1vQZybnIntBeK-znAVhrvO4cm2Zfg8UbY5ZFBiC0lIC4942eoqi7PTeQrAOb3HFU6vIld5Iv88YIWbOi/pub?start=false&loop=false&delayms=3000)\n",
        "\n",
        "Apostilas\n",
        "* [Circuitos Combinacionais - Prof. Guntzel](http://www.inf.ufsc.br/~j.guntzel/isd/isd3.pdf)\n"
      ]
    },
    {
      "cell_type": "markdown",
      "metadata": {
        "id": "44oBbRa6x0Ca"
      },
      "source": [
        "## Ferramentas Online\n",
        "\n",
        "* [Visualizar o mapa e as equações](https://www.mathematik.uni-marburg.de/~thormae/lectures/ti1/code/karnaughmap/)\n",
        "\n",
        "* [Entrar com os mintermos, visualizar mapa, equações em Verilog](https://www.charlie-coleman.com/experiments/kmap/)"
      ]
    },
    {
      "cell_type": "markdown",
      "metadata": {
        "id": "32Hv6DRPySgq"
      },
      "source": [
        "# Pacote em Python\n",
        "Nesta seção iremos configurar o ambiente e fazer alguns testes para ilustrar como especificar as funções.\n",
        "\n",
        "\n",
        "* Configurar o ambiente\n",
        "* Testar\n",
        "* [Artigo com exemplos](https://conference.scipy.org/proceedings/scipy2015/pdfs/chris_drake.pdf)"
      ]
    },
    {
      "cell_type": "code",
      "metadata": {
        "id": "AXwr7wp7yism",
        "outputId": "6754ccf1-f7f2-4eec-8434-3d0eaf3bbbc1",
        "colab": {
          "base_uri": "https://localhost:8080/",
          "height": 33
        }
      },
      "source": [
        "# Configurando o Ambiente\n",
        "!pip3 install pyeda"
      ],
      "execution_count": null,
      "outputs": [
        {
          "output_type": "stream",
          "text": [
            "Requirement already satisfied: pyeda in /usr/local/lib/python3.6/dist-packages (0.28.0)\n"
          ],
          "name": "stdout"
        }
      ]
    },
    {
      "cell_type": "code",
      "metadata": {
        "id": "NA9azGKL0KfI",
        "outputId": "e8c33bf2-8a11-4ee9-c401-5f38dee41e97",
        "colab": {
          "base_uri": "https://localhost:8080/",
          "height": 33
        }
      },
      "source": [
        "from pyeda.inter import *\n",
        "# Declarando três variáveis\n",
        "a, b, c = map(exprvar, 'abc')\n",
        "# especificando uma função f1\n",
        "f1 = ~a & ~b & ~c | ~a & ~b & c | a & ~b & c | a & b & c | a & b & ~c\n",
        "# Executando o espresso para minimizar f1\n",
        "f1m, = espresso_exprs(f1.to_dnf())\n",
        "f1m\n"
      ],
      "execution_count": null,
      "outputs": [
        {
          "output_type": "execute_result",
          "data": {
            "text/plain": [
              "Or(And(~b, c), And(~a, ~b), And(a, b))"
            ]
          },
          "metadata": {
            "tags": []
          },
          "execution_count": 6
        }
      ]
    },
    {
      "cell_type": "code",
      "metadata": {
        "id": "GDsXymKZ1IOR",
        "outputId": "a2e2e7aa-c337-4962-e2a1-5eb6dc58adc0",
        "colab": {
          "base_uri": "https://localhost:8080/",
          "height": 33
        }
      },
      "source": [
        "# verificando se f1 = f1m\n",
        "f1.equivalent(f1m)"
      ],
      "execution_count": null,
      "outputs": [
        {
          "output_type": "execute_result",
          "data": {
            "text/plain": [
              "True"
            ]
          },
          "metadata": {
            "tags": []
          },
          "execution_count": 7
        }
      ]
    },
    {
      "cell_type": "code",
      "metadata": {
        "id": "-ZBdEAuvdbmH",
        "outputId": "27785093-7e44-4a28-c64e-1295228c54cf",
        "colab": {
          "base_uri": "https://localhost:8080/",
          "height": 33
        }
      },
      "source": [
        "f1"
      ],
      "execution_count": null,
      "outputs": [
        {
          "output_type": "execute_result",
          "data": {
            "text/plain": [
              "Or(Or(Or(Or(And(And(~a, ~b), ~c), And(And(~a, ~b), c)), And(And(a, ~b), c)), And(And(a, b), c)), And(And(a, b), ~c))"
            ]
          },
          "metadata": {
            "tags": []
          },
          "execution_count": 8
        }
      ]
    },
    {
      "cell_type": "markdown",
      "metadata": {
        "id": "R6zjsWa13PyG"
      },
      "source": [
        "## Especificando a tabela verdade\n",
        "\n",
        "É possível digitar a tabela verdade como se fosse um vetor de bits."
      ]
    },
    {
      "cell_type": "code",
      "metadata": {
        "id": "A1qEV1TV3Z38",
        "outputId": "a0c3874a-85e4-4d4f-c375-51ecedac8f95",
        "colab": {
          "base_uri": "https://localhost:8080/",
          "height": 33
        }
      },
      "source": [
        "# espaco de 4 variaveis\n",
        "X = ttvars('x', 4)\n",
        "# define f1 produtos 5,6,7,8,9,10 , do 11 ao 15 são dont care \"-\"\n",
        "f1 = truthtable(X, \"0000011111------\")\n",
        "f2 = truthtable(X, \"0001111100------\")\n",
        "f1m, f2m = espresso_tts(f1, f2)\n",
        "f1m"
      ],
      "execution_count": null,
      "outputs": [
        {
          "output_type": "execute_result",
          "data": {
            "text/plain": [
              "Or(x[3], And(x[0], x[2]), And(x[1], x[2]))"
            ]
          },
          "metadata": {
            "tags": []
          },
          "execution_count": 9
        }
      ]
    },
    {
      "cell_type": "code",
      "metadata": {
        "id": "Cib4w2Jh4YbD",
        "outputId": "52774039-3e13-48b9-b9e0-3e9543ebe73d",
        "colab": {
          "base_uri": "https://localhost:8080/",
          "height": 301
        }
      },
      "source": [
        "# Imprimindo tabela verdade\n",
        "expr2truthtable(f1m)"
      ],
      "execution_count": null,
      "outputs": [
        {
          "output_type": "execute_result",
          "data": {
            "text/plain": [
              "x[3] x[2] x[1] x[0]\n",
              "   0    0    0    0 : 0\n",
              "   0    0    0    1 : 0\n",
              "   0    0    1    0 : 0\n",
              "   0    0    1    1 : 0\n",
              "   0    1    0    0 : 0\n",
              "   0    1    0    1 : 1\n",
              "   0    1    1    0 : 1\n",
              "   0    1    1    1 : 1\n",
              "   1    0    0    0 : 1\n",
              "   1    0    0    1 : 1\n",
              "   1    0    1    0 : 1\n",
              "   1    0    1    1 : 1\n",
              "   1    1    0    0 : 1\n",
              "   1    1    0    1 : 1\n",
              "   1    1    1    0 : 1\n",
              "   1    1    1    1 : 1"
            ]
          },
          "metadata": {
            "tags": []
          },
          "execution_count": 10
        }
      ]
    },
    {
      "cell_type": "markdown",
      "metadata": {
        "id": "bCSfwSHeT_A9"
      },
      "source": [
        "### Somador Completo Tabela Verdade\n",
        "\n",
        "Vamos especificar e fazer a minimizacao."
      ]
    },
    {
      "cell_type": "code",
      "metadata": {
        "id": "2bR3iHm5ULqL"
      },
      "source": [
        "\n",
        "X = ttvars('x', 3)\n",
        "# sum = 001,010,100,111 = 1,2,4,7 e carry = 011,101,110,111 = 3,5,6,7\n",
        "sum = truthtable(X, \"01101001\")\n",
        "carry = truthtable(X, \"00010111\")\n",
        "sum_m, carry_m = espresso_tts(sum, carry)"
      ],
      "execution_count": null,
      "outputs": []
    },
    {
      "cell_type": "code",
      "metadata": {
        "id": "YxI7LwKTVWn6",
        "outputId": "7751b4d3-0212-4749-e348-f2595f3d4399",
        "colab": {
          "base_uri": "https://localhost:8080/",
          "height": 33
        }
      },
      "source": [
        "sum_m"
      ],
      "execution_count": null,
      "outputs": [
        {
          "output_type": "execute_result",
          "data": {
            "text/plain": [
              "Or(And(~x[0], x[1], ~x[2]), And(x[0], x[1], x[2]), And(x[0], ~x[1], ~x[2]), And(~x[0], ~x[1], x[2]))"
            ]
          },
          "metadata": {
            "tags": []
          },
          "execution_count": 12
        }
      ]
    },
    {
      "cell_type": "code",
      "metadata": {
        "id": "Tuj2kpfCVbAH",
        "outputId": "b86849a3-3fe9-4ec3-95a7-20f572a4b9cc",
        "colab": {
          "base_uri": "https://localhost:8080/",
          "height": 33
        }
      },
      "source": [
        "carry_m"
      ],
      "execution_count": null,
      "outputs": [
        {
          "output_type": "execute_result",
          "data": {
            "text/plain": [
              "Or(And(x[1], x[2]), And(x[0], x[1]), And(x[0], x[2]))"
            ]
          },
          "metadata": {
            "tags": []
          },
          "execution_count": 13
        }
      ]
    },
    {
      "cell_type": "code",
      "metadata": {
        "id": "2IcO6Tf3Vgim",
        "outputId": "9e1ac4f1-15c4-4471-f412-4c2c5af5c28f",
        "colab": {
          "base_uri": "https://localhost:8080/",
          "height": 33
        }
      },
      "source": [
        "s = truthtable2expr(sum)\n",
        "s.simplify()"
      ],
      "execution_count": null,
      "outputs": [
        {
          "output_type": "execute_result",
          "data": {
            "text/plain": [
              "Or(And(x[0], ~x[1], ~x[2]), And(~x[0], x[1], ~x[2]), And(~x[0], ~x[1], x[2]), And(x[0], x[1], x[2]))"
            ]
          },
          "metadata": {
            "tags": []
          },
          "execution_count": 14
        }
      ]
    },
    {
      "cell_type": "markdown",
      "metadata": {
        "id": "jzKb0RW2WrqF"
      },
      "source": [
        "## Exercicio 1\n",
        "\n",
        "Escreva a tabela verdade do multiplexador\n",
        "[slide 25](https://docs.google.com/presentation/d/e/2PACX-1vQZybnIntBeK-znAVhrvO4cm2Zfg8UbY5ZFBiC0lIC4942eoqi7PTeQrAOb3HFU6vIld5Iv88YIWbOi/pub?start=false&loop=false&delayms=3000#slide=id.p24)\n",
        " e da função x > 8."
      ]
    },
    {
      "cell_type": "code",
      "metadata": {
        "id": "mtiav6l0XJcv",
        "outputId": "c9297735-6bfd-45c4-c8f1-283fcf4ef60c",
        "colab": {
          "base_uri": "https://localhost:8080/",
          "height": 33
        }
      },
      "source": [
        "# Complete aqui, o multiplexador e sua minimizacao\n",
        "X = ttvars('x', 3)\n",
        "mux = truthtable(X, \"01010011\")\n",
        "mux_m =espresso_tts(mux)\n",
        "mux_m"
      ],
      "execution_count": null,
      "outputs": [
        {
          "output_type": "execute_result",
          "data": {
            "text/plain": [
              "(Or(And(x[0], ~x[2]), And(x[1], x[2])),)"
            ]
          },
          "metadata": {
            "tags": []
          },
          "execution_count": 15
        }
      ]
    },
    {
      "cell_type": "code",
      "metadata": {
        "id": "BVPfhO9cXQMC",
        "outputId": "da7718b9-01bc-46a6-ef9e-b9513558ff22",
        "colab": {
          "base_uri": "https://localhost:8080/",
          "height": 33
        }
      },
      "source": [
        "# Complete aqui, a função x>8 e sua minimizacao\n",
        "X = ttvars('x', 4)\n",
        "maior8 = truthtable(X, \"0000000001111111\")\n",
        "maior8_m = espresso_tts(maior8)\n",
        "maior8_m"
      ],
      "execution_count": null,
      "outputs": [
        {
          "output_type": "execute_result",
          "data": {
            "text/plain": [
              "(Or(And(x[2], x[3]), And(x[0], x[3]), And(x[1], x[3])),)"
            ]
          },
          "metadata": {
            "tags": []
          },
          "execution_count": 17
        }
      ]
    },
    {
      "cell_type": "code",
      "metadata": {
        "id": "OEkxqaUH6b7z",
        "outputId": "1403a680-7edc-419a-df31-01b0dc3a8085",
        "colab": {
          "base_uri": "https://localhost:8080/",
          "height": 33
        }
      },
      "source": [
        "# minimizando de outra forma\n",
        "g = a | 1\n",
        "g.simplify()"
      ],
      "execution_count": null,
      "outputs": [
        {
          "output_type": "execute_result",
          "data": {
            "text/plain": [
              "1"
            ]
          },
          "metadata": {
            "tags": []
          },
          "execution_count": 18
        }
      ]
    },
    {
      "cell_type": "code",
      "metadata": {
        "id": "pFstex-vDw1Q",
        "outputId": "3657c1a7-894d-4291-e62a-4806e64d6b68",
        "colab": {
          "base_uri": "https://localhost:8080/",
          "height": 33
        }
      },
      "source": [
        "g = a ^ b ^ c\n",
        "g.simplify()"
      ],
      "execution_count": null,
      "outputs": [
        {
          "output_type": "execute_result",
          "data": {
            "text/plain": [
              "Xor(a, b, c)"
            ]
          },
          "metadata": {
            "tags": []
          },
          "execution_count": 19
        }
      ]
    },
    {
      "cell_type": "code",
      "metadata": {
        "id": "3C09wpGV_Yjg",
        "outputId": "a9e985a2-22ed-4496-f026-8cc37efea879",
        "colab": {
          "base_uri": "https://localhost:8080/",
          "height": 68
        }
      },
      "source": [
        "g.to_dot()"
      ],
      "execution_count": null,
      "outputs": [
        {
          "output_type": "execute_result",
          "data": {
            "application/vnd.google.colaboratory.intrinsic+json": {
              "type": "string"
            },
            "text/plain": [
              "'graph EXPR { rankdir=BT; n55430112 [label=\"a\",shape=box]; n55430208 [label=\"b\",shape=box]; n55427936 [label=xor,shape=circle]; n55430080 [label=\"c\",shape=box]; n43515040 [label=xor,shape=circle]; n55430112 -- n55427936; n55430208 -- n55427936; n55427936 -- n43515040; n55430080 -- n43515040; }'"
            ]
          },
          "metadata": {
            "tags": []
          },
          "execution_count": 20
        }
      ]
    },
    {
      "cell_type": "markdown",
      "metadata": {
        "id": "GUMMtgZmILBj"
      },
      "source": [
        "## Graphviz \n",
        "\n",
        "Voce pode visualizar no [graphviz online](https://dreampuf.github.io/GraphvizOnline/).\n"
      ]
    },
    {
      "cell_type": "code",
      "metadata": {
        "id": "KP-wexK0_sxk",
        "outputId": "f5fc2691-8246-46ac-d4bc-3e7e9e5e064b",
        "colab": {
          "base_uri": "https://localhost:8080/",
          "height": 117
        }
      },
      "source": [
        "# Instalando o Graphviz\n",
        "!apt install -y graphviz\n",
        "!pip install graphviz"
      ],
      "execution_count": null,
      "outputs": [
        {
          "output_type": "stream",
          "text": [
            "Reading package lists... Done\n",
            "Building dependency tree       \n",
            "Reading state information... Done\n",
            "graphviz is already the newest version (2.40.1-2).\n",
            "0 upgraded, 0 newly installed, 0 to remove and 6 not upgraded.\n",
            "Requirement already satisfied: graphviz in /usr/local/lib/python3.6/dist-packages (0.10.1)\n"
          ],
          "name": "stdout"
        }
      ]
    },
    {
      "cell_type": "code",
      "metadata": {
        "id": "eJcnUsLgACm8",
        "outputId": "6c5091ed-0e0d-474c-c1a5-554a367789bf",
        "colab": {
          "base_uri": "https://localhost:8080/",
          "height": 300
        }
      },
      "source": [
        "# Visualizando a funçao g\n",
        "from graphviz import Source\n",
        "src = Source(g.to_dot()) # gerando o grafo\n",
        "src.render('test-output/holy-grenade.gv', view=True) # gerando o arquivo com desenho\n",
        "Source.from_file('test-output/holy-grenade.gv') # visualizando"
      ],
      "execution_count": null,
      "outputs": [
        {
          "output_type": "execute_result",
          "data": {
            "text/plain": [
              "<graphviz.files.Source at 0x7fa97534e748>"
            ],
            "image/svg+xml": "<?xml version=\"1.0\" encoding=\"UTF-8\" standalone=\"no\"?>\n<!DOCTYPE svg PUBLIC \"-//W3C//DTD SVG 1.1//EN\"\n \"http://www.w3.org/Graphics/SVG/1.1/DTD/svg11.dtd\">\n<!-- Generated by graphviz version 2.40.1 (20161225.0304)\n -->\n<!-- Title: EXPR Pages: 1 -->\n<svg width=\"166pt\" height=\"210pt\"\n viewBox=\"0.00 0.00 166.00 209.59\" xmlns=\"http://www.w3.org/2000/svg\" xmlns:xlink=\"http://www.w3.org/1999/xlink\">\n<g id=\"graph0\" class=\"graph\" transform=\"scale(1 1) rotate(0) translate(4 205.5917)\">\n<title>EXPR</title>\n<polygon fill=\"#ffffff\" stroke=\"transparent\" points=\"-4,4 -4,-205.5917 162,-205.5917 162,4 -4,4\"/>\n<!-- n55430112 -->\n<g id=\"node1\" class=\"node\">\n<title>n55430112</title>\n<polygon fill=\"none\" stroke=\"#000000\" points=\"54,-36 0,-36 0,0 54,0 54,-36\"/>\n<text text-anchor=\"middle\" x=\"27\" y=\"-14.3\" font-family=\"Times,serif\" font-size=\"14.00\" fill=\"#000000\">a</text>\n</g>\n<!-- n55427936 -->\n<g id=\"node3\" class=\"node\">\n<title>n55427936</title>\n<ellipse fill=\"none\" stroke=\"#000000\" cx=\"63\" cy=\"-95.3979\" rx=\"23.2963\" ry=\"23.2963\"/>\n<text text-anchor=\"middle\" x=\"63\" y=\"-91.6979\" font-family=\"Times,serif\" font-size=\"14.00\" fill=\"#000000\">xor</text>\n</g>\n<!-- n55430112&#45;&#45;n55427936 -->\n<g id=\"edge1\" class=\"edge\">\n<title>n55430112&#45;&#45;n55427936</title>\n<path fill=\"none\" stroke=\"#000000\" d=\"M35.5315,-36.3422C40.8128,-47.6966 47.6143,-62.3195 53.1279,-74.1734\"/>\n</g>\n<!-- n55430208 -->\n<g id=\"node2\" class=\"node\">\n<title>n55430208</title>\n<polygon fill=\"none\" stroke=\"#000000\" points=\"126,-36 72,-36 72,0 126,0 126,-36\"/>\n<text text-anchor=\"middle\" x=\"99\" y=\"-14.3\" font-family=\"Times,serif\" font-size=\"14.00\" fill=\"#000000\">b</text>\n</g>\n<!-- n55430208&#45;&#45;n55427936 -->\n<g id=\"edge2\" class=\"edge\">\n<title>n55430208&#45;&#45;n55427936</title>\n<path fill=\"none\" stroke=\"#000000\" d=\"M90.4685,-36.3422C85.1872,-47.6966 78.3857,-62.3195 72.8721,-74.1734\"/>\n</g>\n<!-- n43515040 -->\n<g id=\"node5\" class=\"node\">\n<title>n43515040</title>\n<ellipse fill=\"none\" stroke=\"#000000\" cx=\"97\" cy=\"-178.1938\" rx=\"23.2963\" ry=\"23.2963\"/>\n<text text-anchor=\"middle\" x=\"97\" y=\"-174.4938\" font-family=\"Times,serif\" font-size=\"14.00\" fill=\"#000000\">xor</text>\n</g>\n<!-- n55427936&#45;&#45;n43515040 -->\n<g id=\"edge3\" class=\"edge\">\n<title>n55427936&#45;&#45;n43515040</title>\n<path fill=\"none\" stroke=\"#000000\" d=\"M71.9331,-117.1516C76.8912,-129.2254 83.0411,-144.2014 88.0085,-156.298\"/>\n</g>\n<!-- n55430080 -->\n<g id=\"node4\" class=\"node\">\n<title>n55430080</title>\n<polygon fill=\"none\" stroke=\"#000000\" points=\"158,-113.3979 104,-113.3979 104,-77.3979 158,-77.3979 158,-113.3979\"/>\n<text text-anchor=\"middle\" x=\"131\" y=\"-91.6979\" font-family=\"Times,serif\" font-size=\"14.00\" fill=\"#000000\">c</text>\n</g>\n<!-- n55430080&#45;&#45;n43515040 -->\n<g id=\"edge4\" class=\"edge\">\n<title>n55430080&#45;&#45;n43515040</title>\n<path fill=\"none\" stroke=\"#000000\" d=\"M123.4543,-113.773C118.2894,-126.3503 111.4175,-143.0848 105.972,-156.3454\"/>\n</g>\n</g>\n</svg>\n"
          },
          "metadata": {
            "tags": []
          },
          "execution_count": 22
        }
      ]
    },
    {
      "cell_type": "markdown",
      "metadata": {
        "id": "mNJUN9TRYJb-"
      },
      "source": [
        "## Exercicio 2\n",
        "\n",
        "Imprimir os desenhos DOT das funcoes mux e maior8"
      ]
    },
    {
      "cell_type": "code",
      "metadata": {
        "id": "gHRk22i3nvbw",
        "outputId": "4407659c-c7a1-497e-f827-33b1b44641e3",
        "colab": {
          "base_uri": "https://localhost:8080/",
          "height": 292
        }
      },
      "source": [
        "# mux\n",
        "g = truthtable2expr(mux) \n",
        "from graphviz import Source\n",
        "src = Source(g.to_dot()) # Completar aqui\n",
        "src.render('test-output/holy-grenade.gv', view=True) # gerando o arquivo com desenho\n",
        "Source.from_file('test-output/holy-grenade.gv') # visualizando\n"
      ],
      "execution_count": null,
      "outputs": [
        {
          "output_type": "execute_result",
          "data": {
            "text/plain": [
              "<graphviz.files.Source at 0x7fa975395a90>"
            ],
            "image/svg+xml": "<?xml version=\"1.0\" encoding=\"UTF-8\" standalone=\"no\"?>\n<!DOCTYPE svg PUBLIC \"-//W3C//DTD SVG 1.1//EN\"\n \"http://www.w3.org/Graphics/SVG/1.1/DTD/svg11.dtd\">\n<!-- Generated by graphviz version 2.40.1 (20161225.0304)\n -->\n<!-- Title: EXPR Pages: 1 -->\n<svg width=\"422pt\" height=\"203pt\"\n viewBox=\"0.00 0.00 422.00 203.09\" xmlns=\"http://www.w3.org/2000/svg\" xmlns:xlink=\"http://www.w3.org/1999/xlink\">\n<g id=\"graph0\" class=\"graph\" transform=\"scale(1 1) rotate(0) translate(4 199.0923)\">\n<title>EXPR</title>\n<polygon fill=\"#ffffff\" stroke=\"transparent\" points=\"-4,4 -4,-199.0923 418,-199.0923 418,4 -4,4\"/>\n<!-- n55428672 -->\n<g id=\"node1\" class=\"node\">\n<title>n55428672</title>\n<polygon fill=\"none\" stroke=\"#000000\" points=\"198,-36 144,-36 144,0 198,0 198,-36\"/>\n<text text-anchor=\"middle\" x=\"171\" y=\"-14.3\" font-family=\"Times,serif\" font-size=\"14.00\" fill=\"#000000\">x[0]</text>\n</g>\n<!-- n43515200 -->\n<g id=\"node4\" class=\"node\">\n<title>n43515200</title>\n<ellipse fill=\"none\" stroke=\"#000000\" cx=\"104\" cy=\"-96.6978\" rx=\"24.8972\" ry=\"24.8972\"/>\n<text text-anchor=\"middle\" x=\"104\" y=\"-92.9978\" font-family=\"Times,serif\" font-size=\"14.00\" fill=\"#000000\">and</text>\n</g>\n<!-- n55428672&#45;&#45;n43515200 -->\n<g id=\"edge1\" class=\"edge\">\n<title>n55428672&#45;&#45;n43515200</title>\n<path fill=\"none\" stroke=\"#000000\" d=\"M155.4604,-36.2527C144.8684,-48.694 130.8753,-65.1303 120.1548,-77.7225\"/>\n</g>\n<!-- n43515360 -->\n<g id=\"node6\" class=\"node\">\n<title>n43515360</title>\n<ellipse fill=\"none\" stroke=\"#000000\" cx=\"173\" cy=\"-96.6978\" rx=\"24.8972\" ry=\"24.8972\"/>\n<text text-anchor=\"middle\" x=\"173\" y=\"-92.9978\" font-family=\"Times,serif\" font-size=\"14.00\" fill=\"#000000\">and</text>\n</g>\n<!-- n55428672&#45;&#45;n43515360 -->\n<g id=\"edge4\" class=\"edge\">\n<title>n55428672&#45;&#45;n43515360</title>\n<path fill=\"none\" stroke=\"#000000\" d=\"M171.4639,-36.2527C171.7339,-46.8778 172.078,-60.4165 172.372,-71.9863\"/>\n</g>\n<!-- n43515680 -->\n<g id=\"node10\" class=\"node\">\n<title>n43515680</title>\n<ellipse fill=\"none\" stroke=\"#000000\" cx=\"241\" cy=\"-96.6978\" rx=\"24.8972\" ry=\"24.8972\"/>\n<text text-anchor=\"middle\" x=\"241\" y=\"-92.9978\" font-family=\"Times,serif\" font-size=\"14.00\" fill=\"#000000\">and</text>\n</g>\n<!-- n55428672&#45;&#45;n43515680 -->\n<g id=\"edge10\" class=\"edge\">\n<title>n55428672&#45;&#45;n43515680</title>\n<path fill=\"none\" stroke=\"#000000\" d=\"M187.2354,-36.2527C198.3825,-48.7849 213.135,-65.3704 224.3666,-77.9976\"/>\n</g>\n<!-- n55428864 -->\n<g id=\"node2\" class=\"node\">\n<title>n55428864</title>\n<polygon fill=\"none\" stroke=\"#000000\" points=\"54,-36 0,-36 0,0 54,0 54,-36\"/>\n<text text-anchor=\"middle\" x=\"27\" y=\"-14.3\" font-family=\"Times,serif\" font-size=\"14.00\" fill=\"#000000\">~x[1]</text>\n</g>\n<!-- n55428864&#45;&#45;n43515200 -->\n<g id=\"edge2\" class=\"edge\">\n<title>n55428864&#45;&#45;n43515200</title>\n<path fill=\"none\" stroke=\"#000000\" d=\"M44.8589,-36.2527C57.3873,-49.0573 74.0559,-66.0935 86.5034,-78.8155\"/>\n</g>\n<!-- n55428704 -->\n<g id=\"node3\" class=\"node\">\n<title>n55428704</title>\n<polygon fill=\"none\" stroke=\"#000000\" points=\"126,-36 72,-36 72,0 126,0 126,-36\"/>\n<text text-anchor=\"middle\" x=\"99\" y=\"-14.3\" font-family=\"Times,serif\" font-size=\"14.00\" fill=\"#000000\">~x[2]</text>\n</g>\n<!-- n55428704&#45;&#45;n43515200 -->\n<g id=\"edge3\" class=\"edge\">\n<title>n55428704&#45;&#45;n43515200</title>\n<path fill=\"none\" stroke=\"#000000\" d=\"M100.1597,-36.2527C100.8347,-46.8778 101.6949,-60.4165 102.43,-71.9863\"/>\n</g>\n<!-- n55428704&#45;&#45;n43515360 -->\n<g id=\"edge6\" class=\"edge\">\n<title>n55428704&#45;&#45;n43515360</title>\n<path fill=\"none\" stroke=\"#000000\" d=\"M116.1631,-36.2527C128.118,-48.9665 143.9955,-65.852 155.93,-78.5441\"/>\n</g>\n<!-- n43515744 -->\n<g id=\"node11\" class=\"node\">\n<title>n43515744</title>\n<ellipse fill=\"none\" stroke=\"#000000\" cx=\"206\" cy=\"-176.2439\" rx=\"18.6979\" ry=\"18.6979\"/>\n<text text-anchor=\"middle\" x=\"206\" y=\"-172.5439\" font-family=\"Times,serif\" font-size=\"14.00\" fill=\"#000000\">or</text>\n</g>\n<!-- n43515200&#45;&#45;n43515744 -->\n<g id=\"edge13\" class=\"edge\">\n<title>n43515200&#45;&#45;n43515744</title>\n<path fill=\"none\" stroke=\"#000000\" d=\"M123.6666,-112.0351C143.3494,-127.385 173.1983,-150.6631 191.0317,-164.5707\"/>\n</g>\n<!-- n55428416 -->\n<g id=\"node5\" class=\"node\">\n<title>n55428416</title>\n<polygon fill=\"none\" stroke=\"#000000\" points=\"270,-36 216,-36 216,0 270,0 270,-36\"/>\n<text text-anchor=\"middle\" x=\"243\" y=\"-14.3\" font-family=\"Times,serif\" font-size=\"14.00\" fill=\"#000000\">x[1]</text>\n</g>\n<!-- n55428416&#45;&#45;n43515360 -->\n<g id=\"edge5\" class=\"edge\">\n<title>n55428416&#45;&#45;n43515360</title>\n<path fill=\"none\" stroke=\"#000000\" d=\"M226.7646,-36.2527C215.6175,-48.7849 200.865,-65.3704 189.6334,-77.9976\"/>\n</g>\n<!-- n43515392 -->\n<g id=\"node9\" class=\"node\">\n<title>n43515392</title>\n<ellipse fill=\"none\" stroke=\"#000000\" cx=\"311\" cy=\"-96.6978\" rx=\"24.8972\" ry=\"24.8972\"/>\n<text text-anchor=\"middle\" x=\"311\" y=\"-92.9978\" font-family=\"Times,serif\" font-size=\"14.00\" fill=\"#000000\">and</text>\n</g>\n<!-- n55428416&#45;&#45;n43515392 -->\n<g id=\"edge8\" class=\"edge\">\n<title>n55428416&#45;&#45;n43515392</title>\n<path fill=\"none\" stroke=\"#000000\" d=\"M258.7715,-36.2527C269.6001,-48.7849 283.9311,-65.3704 294.8418,-77.9976\"/>\n</g>\n<!-- n55428416&#45;&#45;n43515680 -->\n<g id=\"edge11\" class=\"edge\">\n<title>n55428416&#45;&#45;n43515680</title>\n<path fill=\"none\" stroke=\"#000000\" d=\"M242.5361,-36.2527C242.2661,-46.8778 241.922,-60.4165 241.628,-71.9863\"/>\n</g>\n<!-- n43515360&#45;&#45;n43515744 -->\n<g id=\"edge14\" class=\"edge\">\n<title>n43515360&#45;&#45;n43515744</title>\n<path fill=\"none\" stroke=\"#000000\" d=\"M182.545,-119.7058C187.6845,-132.0947 193.9261,-147.14 198.6782,-158.5947\"/>\n</g>\n<!-- n55428544 -->\n<g id=\"node7\" class=\"node\">\n<title>n55428544</title>\n<polygon fill=\"none\" stroke=\"#000000\" points=\"414,-36 360,-36 360,0 414,0 414,-36\"/>\n<text text-anchor=\"middle\" x=\"387\" y=\"-14.3\" font-family=\"Times,serif\" font-size=\"14.00\" fill=\"#000000\">~x[0]</text>\n</g>\n<!-- n55428544&#45;&#45;n43515392 -->\n<g id=\"edge7\" class=\"edge\">\n<title>n55428544&#45;&#45;n43515392</title>\n<path fill=\"none\" stroke=\"#000000\" d=\"M369.373,-36.2527C357.0074,-49.0573 340.5552,-66.0935 328.2693,-78.8155\"/>\n</g>\n<!-- n55428352 -->\n<g id=\"node8\" class=\"node\">\n<title>n55428352</title>\n<polygon fill=\"none\" stroke=\"#000000\" points=\"342,-36 288,-36 288,0 342,0 342,-36\"/>\n<text text-anchor=\"middle\" x=\"315\" y=\"-14.3\" font-family=\"Times,serif\" font-size=\"14.00\" fill=\"#000000\">x[2]</text>\n</g>\n<!-- n55428352&#45;&#45;n43515392 -->\n<g id=\"edge9\" class=\"edge\">\n<title>n55428352&#45;&#45;n43515392</title>\n<path fill=\"none\" stroke=\"#000000\" d=\"M314.0723,-36.2527C313.5322,-46.8778 312.8441,-60.4165 312.256,-71.9863\"/>\n</g>\n<!-- n55428352&#45;&#45;n43515680 -->\n<g id=\"edge12\" class=\"edge\">\n<title>n55428352&#45;&#45;n43515680</title>\n<path fill=\"none\" stroke=\"#000000\" d=\"M297.8369,-36.2527C285.882,-48.9665 270.0045,-65.852 258.07,-78.5441\"/>\n</g>\n<!-- n43515392&#45;&#45;n43515744 -->\n<g id=\"edge15\" class=\"edge\">\n<title>n43515392&#45;&#45;n43515744</title>\n<path fill=\"none\" stroke=\"#000000\" d=\"M291.2503,-111.6598C270.9334,-127.0515 239.7214,-150.6972 221.2346,-164.7025\"/>\n</g>\n<!-- n43515680&#45;&#45;n43515744 -->\n<g id=\"edge16\" class=\"edge\">\n<title>n43515680&#45;&#45;n43515744</title>\n<path fill=\"none\" stroke=\"#000000\" d=\"M230.8765,-119.7058C225.3851,-132.1865 218.7075,-147.363 213.6539,-158.8487\"/>\n</g>\n</g>\n</svg>\n"
          },
          "metadata": {
            "tags": []
          },
          "execution_count": 23
        }
      ]
    },
    {
      "cell_type": "code",
      "metadata": {
        "id": "QdToVfcAovM3",
        "outputId": "bab319fb-60d9-4822-b0f5-67fe323f377c",
        "colab": {
          "base_uri": "https://localhost:8080/",
          "height": 292
        }
      },
      "source": [
        "# maior8\n",
        "g = truthtable2expr(maior8) \n",
        "from graphviz import Source\n",
        "src = Source(g.to_dot()) # Completar aqui\n",
        "src.render('test-output/holy-grenade.gv', view=True) # gerando o arquivo com desenho\n",
        "Source.from_file('test-output/holy-grenade.gv') # visualizando\n"
      ],
      "execution_count": null,
      "outputs": [
        {
          "output_type": "execute_result",
          "data": {
            "text/plain": [
              "<graphviz.files.Source at 0x7fa975362470>"
            ],
            "image/svg+xml": "<?xml version=\"1.0\" encoding=\"UTF-8\" standalone=\"no\"?>\n<!DOCTYPE svg PUBLIC \"-//W3C//DTD SVG 1.1//EN\"\n \"http://www.w3.org/Graphics/SVG/1.1/DTD/svg11.dtd\">\n<!-- Generated by graphviz version 2.40.1 (20161225.0304)\n -->\n<!-- Title: EXPR Pages: 1 -->\n<svg width=\"494pt\" height=\"203pt\"\n viewBox=\"0.00 0.00 494.00 203.09\" xmlns=\"http://www.w3.org/2000/svg\" xmlns:xlink=\"http://www.w3.org/1999/xlink\">\n<g id=\"graph0\" class=\"graph\" transform=\"scale(1 1) rotate(0) translate(4 199.0923)\">\n<title>EXPR</title>\n<polygon fill=\"#ffffff\" stroke=\"transparent\" points=\"-4,4 -4,-199.0923 490,-199.0923 490,4 -4,4\"/>\n<!-- n55428672 -->\n<g id=\"node1\" class=\"node\">\n<title>n55428672</title>\n<polygon fill=\"none\" stroke=\"#000000\" points=\"54,-36 0,-36 0,0 54,0 54,-36\"/>\n<text text-anchor=\"middle\" x=\"27\" y=\"-14.3\" font-family=\"Times,serif\" font-size=\"14.00\" fill=\"#000000\">x[0]</text>\n</g>\n<!-- n43515712 -->\n<g id=\"node5\" class=\"node\">\n<title>n43515712</title>\n<ellipse fill=\"none\" stroke=\"#000000\" cx=\"44\" cy=\"-96.6978\" rx=\"24.8972\" ry=\"24.8972\"/>\n<text text-anchor=\"middle\" x=\"44\" y=\"-92.9978\" font-family=\"Times,serif\" font-size=\"14.00\" fill=\"#000000\">and</text>\n</g>\n<!-- n55428672&#45;&#45;n43515712 -->\n<g id=\"edge1\" class=\"edge\">\n<title>n55428672&#45;&#45;n43515712</title>\n<path fill=\"none\" stroke=\"#000000\" d=\"M30.9429,-36.2527C33.2577,-46.9686 36.2127,-60.6482 38.7259,-72.2825\"/>\n</g>\n<!-- n43515776 -->\n<g id=\"node9\" class=\"node\">\n<title>n43515776</title>\n<ellipse fill=\"none\" stroke=\"#000000\" cx=\"111\" cy=\"-96.6978\" rx=\"24.8972\" ry=\"24.8972\"/>\n<text text-anchor=\"middle\" x=\"111\" y=\"-92.9978\" font-family=\"Times,serif\" font-size=\"14.00\" fill=\"#000000\">and</text>\n</g>\n<!-- n55428672&#45;&#45;n43515776 -->\n<g id=\"edge9\" class=\"edge\">\n<title>n55428672&#45;&#45;n43515776</title>\n<path fill=\"none\" stroke=\"#000000\" d=\"M46.4824,-36.2527C60.4406,-49.3297 79.1096,-66.8203 92.7733,-79.6216\"/>\n</g>\n<!-- n43515520 -->\n<g id=\"node12\" class=\"node\">\n<title>n43515520</title>\n<ellipse fill=\"none\" stroke=\"#000000\" cx=\"178\" cy=\"-96.6978\" rx=\"24.8972\" ry=\"24.8972\"/>\n<text text-anchor=\"middle\" x=\"178\" y=\"-92.9978\" font-family=\"Times,serif\" font-size=\"14.00\" fill=\"#000000\">and</text>\n</g>\n<!-- n55428672&#45;&#45;n43515520 -->\n<g id=\"edge17\" class=\"edge\">\n<title>n55428672&#45;&#45;n43515520</title>\n<path fill=\"none\" stroke=\"#000000\" d=\"M54.0561,-31.7093C57.0634,-33.179 60.09,-34.6348 63,-36 99.0334,-52.9053 110.6202,-51.9444 145,-72 149.5741,-74.6683 154.2611,-77.8577 158.6137,-81.0439\"/>\n</g>\n<!-- n43512416 -->\n<g id=\"node14\" class=\"node\">\n<title>n43512416</title>\n<ellipse fill=\"none\" stroke=\"#000000\" cx=\"245\" cy=\"-96.6978\" rx=\"24.8972\" ry=\"24.8972\"/>\n<text text-anchor=\"middle\" x=\"245\" y=\"-92.9978\" font-family=\"Times,serif\" font-size=\"14.00\" fill=\"#000000\">and</text>\n</g>\n<!-- n55428672&#45;&#45;n43512416 -->\n<g id=\"edge25\" class=\"edge\">\n<title>n55428672&#45;&#45;n43512416</title>\n<path fill=\"none\" stroke=\"#000000\" d=\"M54.2338,-32.4164C57.1536,-33.7204 60.1122,-34.9447 63,-36 126.9889,-59.3837 150.3549,-42.9954 212,-72 216.7916,-74.2545 221.5704,-77.2693 225.9435,-80.4164\"/>\n</g>\n<!-- n55428864 -->\n<g id=\"node2\" class=\"node\">\n<title>n55428864</title>\n<polygon fill=\"none\" stroke=\"#000000\" points=\"198,-36 144,-36 144,0 198,0 198,-36\"/>\n<text text-anchor=\"middle\" x=\"171\" y=\"-14.3\" font-family=\"Times,serif\" font-size=\"14.00\" fill=\"#000000\">~x[1]</text>\n</g>\n<!-- n55428864&#45;&#45;n43515712 -->\n<g id=\"edge2\" class=\"edge\">\n<title>n55428864&#45;&#45;n43515712</title>\n<path fill=\"none\" stroke=\"#000000\" d=\"M143.7383,-32.5174C124.6887,-42.9362 98.8542,-57.6205 77,-72 72.5762,-74.9107 67.9526,-78.2024 63.6142,-81.4115\"/>\n</g>\n<!-- n43515616 -->\n<g id=\"node11\" class=\"node\">\n<title>n43515616</title>\n<ellipse fill=\"none\" stroke=\"#000000\" cx=\"379\" cy=\"-96.6978\" rx=\"24.8972\" ry=\"24.8972\"/>\n<text text-anchor=\"middle\" x=\"379\" y=\"-92.9978\" font-family=\"Times,serif\" font-size=\"14.00\" fill=\"#000000\">and</text>\n</g>\n<!-- n55428864&#45;&#45;n43515616 -->\n<g id=\"edge14\" class=\"edge\">\n<title>n55428864&#45;&#45;n43515616</title>\n<path fill=\"none\" stroke=\"#000000\" d=\"M198.2518,-32.3679C201.168,-33.6814 204.1209,-34.9211 207,-36 266.7581,-58.3933 288.4804,-44.3597 346,-72 350.773,-74.2936 355.544,-77.3249 359.9153,-80.4757\"/>\n</g>\n<!-- n55428864&#45;&#45;n43515520 -->\n<g id=\"edge18\" class=\"edge\">\n<title>n55428864&#45;&#45;n43515520</title>\n<path fill=\"none\" stroke=\"#000000\" d=\"M172.6235,-36.2527C173.5686,-46.8778 174.7729,-60.4165 175.802,-71.9863\"/>\n</g>\n<!-- n55428704 -->\n<g id=\"node3\" class=\"node\">\n<title>n55428704</title>\n<polygon fill=\"none\" stroke=\"#000000\" points=\"126,-36 72,-36 72,0 126,0 126,-36\"/>\n<text text-anchor=\"middle\" x=\"99\" y=\"-14.3\" font-family=\"Times,serif\" font-size=\"14.00\" fill=\"#000000\">~x[2]</text>\n</g>\n<!-- n55428704&#45;&#45;n43515712 -->\n<g id=\"edge3\" class=\"edge\">\n<title>n55428704&#45;&#45;n43515712</title>\n<path fill=\"none\" stroke=\"#000000\" d=\"M86.2437,-36.2527C77.866,-48.24 66.8965,-63.9359 58.2354,-76.3288\"/>\n</g>\n<!-- n43515872 -->\n<g id=\"node8\" class=\"node\">\n<title>n43515872</title>\n<ellipse fill=\"none\" stroke=\"#000000\" cx=\"312\" cy=\"-96.6978\" rx=\"24.8972\" ry=\"24.8972\"/>\n<text text-anchor=\"middle\" x=\"312\" y=\"-92.9978\" font-family=\"Times,serif\" font-size=\"14.00\" fill=\"#000000\">and</text>\n</g>\n<!-- n55428704&#45;&#45;n43515872 -->\n<g id=\"edge7\" class=\"edge\">\n<title>n55428704&#45;&#45;n43515872</title>\n<path fill=\"none\" stroke=\"#000000\" d=\"M126.2425,-32.3929C129.1605,-33.7015 132.1164,-34.9333 135,-36 196.872,-58.8879 219.4191,-43.6783 279,-72 283.7826,-74.2734 288.5577,-77.2962 292.9299,-80.4451\"/>\n</g>\n<!-- n55428704&#45;&#45;n43515776 -->\n<g id=\"edge11\" class=\"edge\">\n<title>n55428704&#45;&#45;n43515776</title>\n<path fill=\"none\" stroke=\"#000000\" d=\"M101.7832,-36.2527C103.4033,-46.8778 105.4678,-60.4165 107.2319,-71.9863\"/>\n</g>\n<!-- n55428320 -->\n<g id=\"node4\" class=\"node\">\n<title>n55428320</title>\n<polygon fill=\"none\" stroke=\"#000000\" points=\"270,-36 216,-36 216,0 270,0 270,-36\"/>\n<text text-anchor=\"middle\" x=\"243\" y=\"-14.3\" font-family=\"Times,serif\" font-size=\"14.00\" fill=\"#000000\">x[3]</text>\n</g>\n<!-- n55428320&#45;&#45;n43515712 -->\n<g id=\"edge4\" class=\"edge\">\n<title>n55428320&#45;&#45;n43515712</title>\n<path fill=\"none\" stroke=\"#000000\" d=\"M215.7294,-32.3184C212.8168,-33.6415 209.87,-34.8971 207,-36 151.038,-57.5063 130.8179,-45.5821 77,-72 72.2464,-74.3334 67.4836,-77.3815 63.1141,-80.5361\"/>\n</g>\n<!-- n55428320&#45;&#45;n43515872 -->\n<g id=\"edge8\" class=\"edge\">\n<title>n55428320&#45;&#45;n43515872</title>\n<path fill=\"none\" stroke=\"#000000\" d=\"M259.0034,-36.2527C269.9913,-48.7849 284.5331,-65.3704 295.6042,-77.9976\"/>\n</g>\n<!-- n55428320&#45;&#45;n43515776 -->\n<g id=\"edge12\" class=\"edge\">\n<title>n55428320&#45;&#45;n43515776</title>\n<path fill=\"none\" stroke=\"#000000\" d=\"M215.9306,-31.4322C195.6867,-41.794 167.5565,-56.8705 144,-72 139.5444,-74.8617 134.9073,-78.1326 130.5659,-81.3371\"/>\n</g>\n<!-- n55428320&#45;&#45;n43515616 -->\n<g id=\"edge16\" class=\"edge\">\n<title>n55428320&#45;&#45;n43515616</title>\n<path fill=\"none\" stroke=\"#000000\" d=\"M270.3092,-31.6951C295.9784,-44.6802 332.4233,-63.4373 346,-72 350.479,-74.8249 355.126,-78.0803 359.4696,-81.2814\"/>\n</g>\n<!-- n55428320&#45;&#45;n43515520 -->\n<g id=\"edge20\" class=\"edge\">\n<title>n55428320&#45;&#45;n43515520</title>\n<path fill=\"none\" stroke=\"#000000\" d=\"M227.9243,-36.2527C217.7234,-48.6032 204.271,-64.8905 193.9008,-77.4462\"/>\n</g>\n<!-- n43515488 -->\n<g id=\"node13\" class=\"node\">\n<title>n43515488</title>\n<ellipse fill=\"none\" stroke=\"#000000\" cx=\"446\" cy=\"-96.6978\" rx=\"24.8972\" ry=\"24.8972\"/>\n<text text-anchor=\"middle\" x=\"446\" y=\"-92.9978\" font-family=\"Times,serif\" font-size=\"14.00\" fill=\"#000000\">and</text>\n</g>\n<!-- n55428320&#45;&#45;n43515488 -->\n<g id=\"edge24\" class=\"edge\">\n<title>n55428320&#45;&#45;n43515488</title>\n<path fill=\"none\" stroke=\"#000000\" d=\"M270.2619,-32.3412C273.1762,-33.6598 276.1258,-34.9081 279,-36 336.6477,-57.9 357.5383,-45.0395 413,-72 417.7626,-74.3151 422.5292,-77.3555 426.8995,-80.5084\"/>\n</g>\n<!-- n55428320&#45;&#45;n43512416 -->\n<g id=\"edge28\" class=\"edge\">\n<title>n55428320&#45;&#45;n43512416</title>\n<path fill=\"none\" stroke=\"#000000\" d=\"M243.4639,-36.2527C243.7339,-46.8778 244.078,-60.4165 244.372,-71.9863\"/>\n</g>\n<!-- n43515232 -->\n<g id=\"node15\" class=\"node\">\n<title>n43515232</title>\n<ellipse fill=\"none\" stroke=\"#000000\" cx=\"245\" cy=\"-176.2439\" rx=\"18.6979\" ry=\"18.6979\"/>\n<text text-anchor=\"middle\" x=\"245\" y=\"-172.5439\" font-family=\"Times,serif\" font-size=\"14.00\" fill=\"#000000\">or</text>\n</g>\n<!-- n43515712&#45;&#45;n43515232 -->\n<g id=\"edge29\" class=\"edge\">\n<title>n43515712&#45;&#45;n43515232</title>\n<path fill=\"none\" stroke=\"#000000\" d=\"M63.1962,-112.6967C67.5606,-115.8615 72.3006,-118.9549 77,-121.3956 128.053,-147.9114 194.4436,-165.0086 226.3176,-172.2598\"/>\n</g>\n<!-- n55428544 -->\n<g id=\"node6\" class=\"node\">\n<title>n55428544</title>\n<polygon fill=\"none\" stroke=\"#000000\" points=\"486,-36 432,-36 432,0 486,0 486,-36\"/>\n<text text-anchor=\"middle\" x=\"459\" y=\"-14.3\" font-family=\"Times,serif\" font-size=\"14.00\" fill=\"#000000\">~x[0]</text>\n</g>\n<!-- n55428544&#45;&#45;n43515872 -->\n<g id=\"edge5\" class=\"edge\">\n<title>n55428544&#45;&#45;n43515872</title>\n<path fill=\"none\" stroke=\"#000000\" d=\"M431.9178,-31.6544C428.9154,-33.1344 425.8971,-34.6076 423,-36 388.5875,-52.5395 377.798,-52.4535 345,-72 340.4511,-74.711 335.7747,-77.9184 331.4245,-81.1086\"/>\n</g>\n<!-- n55428544&#45;&#45;n43515616 -->\n<g id=\"edge13\" class=\"edge\">\n<title>n55428544&#45;&#45;n43515616</title>\n<path fill=\"none\" stroke=\"#000000\" d=\"M440.4453,-36.2527C427.2442,-49.2389 409.6186,-66.5776 396.6306,-79.3542\"/>\n</g>\n<!-- n55428544&#45;&#45;n43515488 -->\n<g id=\"edge21\" class=\"edge\">\n<title>n55428544&#45;&#45;n43515488</title>\n<path fill=\"none\" stroke=\"#000000\" d=\"M455.9849,-36.2527C454.2147,-46.9686 451.955,-60.6482 450.0331,-72.2825\"/>\n</g>\n<!-- n55428416 -->\n<g id=\"node7\" class=\"node\">\n<title>n55428416</title>\n<polygon fill=\"none\" stroke=\"#000000\" points=\"342,-36 288,-36 288,0 342,0 342,-36\"/>\n<text text-anchor=\"middle\" x=\"315\" y=\"-14.3\" font-family=\"Times,serif\" font-size=\"14.00\" fill=\"#000000\">x[1]</text>\n</g>\n<!-- n55428416&#45;&#45;n43515872 -->\n<g id=\"edge6\" class=\"edge\">\n<title>n55428416&#45;&#45;n43515872</title>\n<path fill=\"none\" stroke=\"#000000\" d=\"M314.3042,-36.2527C313.8992,-46.8778 313.3831,-60.4165 312.942,-71.9863\"/>\n</g>\n<!-- n55428416&#45;&#45;n43515776 -->\n<g id=\"edge10\" class=\"edge\">\n<title>n55428416&#45;&#45;n43515776</title>\n<path fill=\"none\" stroke=\"#000000\" d=\"M287.7402,-32.3467C284.8255,-33.6643 281.8752,-34.9108 279,-36 220.9305,-57.9985 199.873,-44.9037 144,-72 139.2353,-74.3107 134.4678,-77.3492 130.0972,-80.5017\"/>\n</g>\n<!-- n55428416&#45;&#45;n43515488 -->\n<g id=\"edge22\" class=\"edge\">\n<title>n55428416&#45;&#45;n43515488</title>\n<path fill=\"none\" stroke=\"#000000\" d=\"M342.2042,-31.6902C362.2047,-42.0647 389.822,-57.0435 413,-72 417.4495,-74.8712 422.084,-78.1462 426.4248,-81.3516\"/>\n</g>\n<!-- n55428416&#45;&#45;n43512416 -->\n<g id=\"edge26\" class=\"edge\">\n<title>n55428416&#45;&#45;n43512416</title>\n<path fill=\"none\" stroke=\"#000000\" d=\"M298.7646,-36.2527C287.6175,-48.7849 272.865,-65.3704 261.6334,-77.9976\"/>\n</g>\n<!-- n43515872&#45;&#45;n43515232 -->\n<g id=\"edge30\" class=\"edge\">\n<title>n43515872&#45;&#45;n43515232</title>\n<path fill=\"none\" stroke=\"#000000\" d=\"M295.7812,-115.9537C284.0078,-129.9317 268.313,-148.5655 257.504,-161.3985\"/>\n</g>\n<!-- n43515776&#45;&#45;n43515232 -->\n<g id=\"edge31\" class=\"edge\">\n<title>n43515776&#45;&#45;n43515232</title>\n<path fill=\"none\" stroke=\"#000000\" d=\"M130.5619,-112.0647C134.9035,-115.2688 139.5417,-118.5381 144,-121.3956 172.3902,-139.5925 207.3129,-157.667 227.7705,-167.8505\"/>\n</g>\n<!-- n55428352 -->\n<g id=\"node10\" class=\"node\">\n<title>n55428352</title>\n<polygon fill=\"none\" stroke=\"#000000\" points=\"414,-36 360,-36 360,0 414,0 414,-36\"/>\n<text text-anchor=\"middle\" x=\"387\" y=\"-14.3\" font-family=\"Times,serif\" font-size=\"14.00\" fill=\"#000000\">x[2]</text>\n</g>\n<!-- n55428352&#45;&#45;n43515616 -->\n<g id=\"edge15\" class=\"edge\">\n<title>n55428352&#45;&#45;n43515616</title>\n<path fill=\"none\" stroke=\"#000000\" d=\"M385.1445,-36.2527C384.0644,-46.8778 382.6882,-60.4165 381.512,-71.9863\"/>\n</g>\n<!-- n55428352&#45;&#45;n43515520 -->\n<g id=\"edge19\" class=\"edge\">\n<title>n55428352&#45;&#45;n43515520</title>\n<path fill=\"none\" stroke=\"#000000\" d=\"M359.7501,-32.373C356.8335,-33.6855 353.88,-34.9236 351,-36 290.8194,-58.4921 268.9316,-44.2235 211,-72 206.225,-74.2895 201.4532,-77.319 197.0817,-80.4695\"/>\n</g>\n<!-- n55428352&#45;&#45;n43515488 -->\n<g id=\"edge23\" class=\"edge\">\n<title>n55428352&#45;&#45;n43515488</title>\n<path fill=\"none\" stroke=\"#000000\" d=\"M400.6841,-36.2527C409.8072,-48.4216 421.7955,-64.4124 431.1499,-76.8898\"/>\n</g>\n<!-- n55428352&#45;&#45;n43512416 -->\n<g id=\"edge27\" class=\"edge\">\n<title>n55428352&#45;&#45;n43512416</title>\n<path fill=\"none\" stroke=\"#000000\" d=\"M359.8812,-31.5794C356.8856,-33.0734 353.8789,-34.5704 351,-36 318.5996,-52.0891 308.8341,-53.0818 278,-72 273.4864,-74.7693 268.8248,-78.0013 264.478,-81.1971\"/>\n</g>\n<!-- n43515616&#45;&#45;n43515232 -->\n<g id=\"edge32\" class=\"edge\">\n<title>n43515616&#45;&#45;n43515232</title>\n<path fill=\"none\" stroke=\"#000000\" d=\"M359.4381,-112.0647C355.0965,-115.2688 350.4583,-118.5381 346,-121.3956 317.6098,-139.5925 282.6871,-157.667 262.2295,-167.8505\"/>\n</g>\n<!-- n43515520&#45;&#45;n43515232 -->\n<g id=\"edge33\" class=\"edge\">\n<title>n43515520&#45;&#45;n43515232</title>\n<path fill=\"none\" stroke=\"#000000\" d=\"M194.2188,-115.9537C205.9922,-129.9317 221.687,-148.5655 232.496,-161.3985\"/>\n</g>\n<!-- n43515488&#45;&#45;n43515232 -->\n<g id=\"edge34\" class=\"edge\">\n<title>n43515488&#45;&#45;n43515232</title>\n<path fill=\"none\" stroke=\"#000000\" d=\"M426.8038,-112.6967C422.4394,-115.8615 417.6994,-118.9549 413,-121.3956 361.947,-147.9114 295.5564,-165.0086 263.6824,-172.2598\"/>\n</g>\n<!-- n43512416&#45;&#45;n43515232 -->\n<g id=\"edge35\" class=\"edge\">\n<title>n43512416&#45;&#45;n43515232</title>\n<path fill=\"none\" stroke=\"#000000\" d=\"M245,-121.4307C245,-133.0149 245,-146.5955 245,-157.3406\"/>\n</g>\n</g>\n</svg>\n"
          },
          "metadata": {
            "tags": []
          },
          "execution_count": 24
        }
      ]
    },
    {
      "cell_type": "markdown",
      "metadata": {
        "id": "s7lnDZGymMoK"
      },
      "source": [
        "# Instalar Plugin para Verilog\n",
        "\n",
        "Executar o comando abaixo."
      ]
    },
    {
      "cell_type": "code",
      "metadata": {
        "id": "r1pzW9K0kJs8",
        "outputId": "65b2ead6-45cb-4d27-e484-77e0cdad98a8",
        "colab": {
          "base_uri": "https://localhost:8080/",
          "height": 354
        }
      },
      "source": [
        "!pip install git+git://github.com/canesche/nvcc4jupyter.git\n",
        "!git clone https://github.com/canesche/nvcc4jupyter\n",
        "%load_ext nvcc_plugin\n",
        "#!chmod a+x -R /content/nvcc4jupyter/verilog/"
      ],
      "execution_count": null,
      "outputs": [
        {
          "output_type": "stream",
          "text": [
            "Collecting git+git://github.com/canesche/nvcc4jupyter.git\n",
            "  Cloning git://github.com/canesche/nvcc4jupyter.git to /tmp/pip-req-build-3zdsjn0a\n",
            "  Running command git clone -q git://github.com/canesche/nvcc4jupyter.git /tmp/pip-req-build-3zdsjn0a\n",
            "Building wheels for collected packages: ColabPlugin\n",
            "  Building wheel for ColabPlugin (setup.py) ... \u001b[?25l\u001b[?25hdone\n",
            "  Created wheel for ColabPlugin: filename=ColabPlugin-0.0.3-cp36-none-any.whl size=9015 sha256=08c6b8611fc7e39c81e96cb6d871577048b3e586821a21eb7cd0e55062834ebc\n",
            "  Stored in directory: /tmp/pip-ephem-wheel-cache-5az_suqf/wheels/87/ae/09/21c6e192181a0472e20ddd1d5212e2cbb113f00ebe14330d0d\n",
            "Successfully built ColabPlugin\n",
            "Installing collected packages: ColabPlugin\n",
            "Successfully installed ColabPlugin-0.0.3\n",
            "Cloning into 'nvcc4jupyter'...\n",
            "remote: Enumerating objects: 195, done.\u001b[K\n",
            "remote: Counting objects: 100% (195/195), done.\u001b[K\n",
            "remote: Compressing objects: 100% (141/141), done.\u001b[K\n",
            "remote: Total 195 (delta 67), reused 163 (delta 39), pack-reused 0\u001b[K\n",
            "Receiving objects: 100% (195/195), 27.64 MiB | 9.56 MiB/s, done.\n",
            "Resolving deltas: 100% (67/67), done.\n",
            "created output directory at /content/src\n",
            "Out bin /content/result.out\n"
          ],
          "name": "stdout"
        }
      ]
    },
    {
      "cell_type": "code",
      "metadata": {
        "id": "zAcrChBjheOu"
      },
      "source": [
        "!chmod a+x -R /content/nvcc4jupyter/verilog/"
      ],
      "execution_count": null,
      "outputs": []
    },
    {
      "cell_type": "code",
      "metadata": {
        "id": "LZAEi4BsmMAQ",
        "outputId": "371b4615-6d43-4073-8c01-68dd63f581ec",
        "colab": {
          "base_uri": "https://localhost:8080/",
          "height": 318
        }
      },
      "source": [
        "%%verilog\n",
        "module test(a, b, m);\n",
        "input [1:0] a,b; \n",
        "output [3:0] m;\n",
        "assign m[0] = (a[0] & b[0]);  \n",
        "assign m[1] =  (~a[1] & a[0] & b[1]) | (a[1] & ~a[0] & b[0]) | (a[1] & ~b[1] & b[0]) | (a[0] & b[1] & ~b[0]);\n",
        "assign m[2] = (a[1] & ~a[0] & b[1]) | (a[1] & b[1] & ~b[0]);\n",
        "assign m[3] = a[1]&a[0]&b[1]&b[0];\n",
        "endmodule\n",
        "\n",
        "\n",
        "\n",
        "module logic_testbench();  // Esta parte do codigo é para gerar os 16 valores\n",
        "reg [3:0] counter;\n",
        "wire [3:0] m;\n",
        "\n",
        "integer k;\n",
        "\ttest t(counter[3:2],counter[1:0],m); \n",
        "\tinitial begin\n",
        "\t\t$display(\"a1a0 b1b0 |  m\");\n",
        "\t\t$monitor(\" %d     %d  |  %d\", counter[3:2], counter[1:0], m);\n",
        "\t\tcounter = 0;\n",
        "\t\tfor (k=1; k<16; k=k+1)\n",
        "     #1 counter = k;\n",
        "\t\t$finish;\n",
        "\tend\n",
        "endmodule"
      ],
      "execution_count": null,
      "outputs": [
        {
          "output_type": "stream",
          "text": [
            "a1a0 b1b0 |  m\n",
            " 0     0  |   0\n",
            " 0     1  |   0\n",
            " 0     2  |   0\n",
            " 0     3  |   0\n",
            " 1     0  |   0\n",
            " 1     1  |   1\n",
            " 1     2  |   2\n",
            " 1     3  |   3\n",
            " 2     0  |   0\n",
            " 2     1  |   2\n",
            " 2     2  |   4\n",
            " 2     3  |   6\n",
            " 3     0  |   0\n",
            " 3     1  |   3\n",
            " 3     2  |   6\n",
            " 3     3  |   9\n",
            "\n"
          ],
          "name": "stdout"
        }
      ]
    },
    {
      "cell_type": "markdown",
      "metadata": {
        "id": "tlw34GlCWWzu"
      },
      "source": [
        "# Exercicio 3\n",
        "Modificar o exemplo do multiplicador para fazer um somador de 2 bits com números positivos sem sinal e saida S de 3 bits.\n",
        "\n",
        "Preencher a tabela verdade, usar o mapa de karnaugh para minimizar as expressões. \n",
        "\n",
        "\n",
        "* [Visualizar o mapa e as equações](https://www.mathematik.uni-marburg.de/~thormae/lectures/ti1/code/karnaughmap/)\n",
        "\n",
        "* [Entrar com os mintermos, visualizar mapa, equações em Verilog](https://www.charlie-coleman.com/experiments/kmap/)"
      ]
    },
    {
      "cell_type": "code",
      "metadata": {
        "id": "NHWrR8a8WkC1",
        "outputId": "f471146b-d11b-44ea-e4b4-c01729a10590",
        "colab": {
          "base_uri": "https://localhost:8080/",
          "height": 318
        }
      },
      "source": [
        "%%verilog\n",
        "module test(a, b, s);\n",
        "input [1:0] a,b; \n",
        "output [2:0] s;\n",
        "assign s[0] = (~a[0] & b[0]) | (a[0] & ~b[0]);\n",
        "assign s[1] = (~a[1] & ~a[0] & b[1]) | (~a[1] & a[0] & ~b[1] & b[0]) | (~a[1] & b[1] & ~b[0]) | (a[1] & ~a[0] & ~b[1]) | (a[1] & ~b[1] & ~b[0]) | (a[1] & a[0] & b[1] & b[0]);\n",
        "assign s[2] = (a[0] & b[1] & b[0]) | (a[1] & b[1]) | (a[1] & a[0] & b[0]);\n",
        "endmodule\n",
        "\n",
        "\n",
        "module logic_testbench();  // Esta parte do codigo é para gerar os 16 valores\n",
        "reg [3:0] counter;\n",
        "wire [2:0] s;\n",
        "\n",
        "integer k;\n",
        "\ttest t(counter[3:2],counter[1:0],s); \n",
        "\tinitial begin\n",
        "\t\t$display(\"a1a0   b1b0 |  s\");\n",
        "\t\t$monitor(\" %d   +   %d   |  %d\", counter[3:2], counter[1:0], s);\n",
        "\t\tcounter = 0;\n",
        "\t\tfor (k=1; k<16; k=k+1)\n",
        "     #1 counter = k;\n",
        "\t\t$finish;\n",
        "\tend\n",
        "endmodule\n"
      ],
      "execution_count": null,
      "outputs": [
        {
          "output_type": "stream",
          "text": [
            "a1a0   b1b0 |  s\n",
            " 0   +   0   |  0\n",
            " 0   +   1   |  1\n",
            " 0   +   2   |  2\n",
            " 0   +   3   |  3\n",
            " 1   +   0   |  1\n",
            " 1   +   1   |  2\n",
            " 1   +   2   |  3\n",
            " 1   +   3   |  4\n",
            " 2   +   0   |  2\n",
            " 2   +   1   |  3\n",
            " 2   +   2   |  4\n",
            " 2   +   3   |  5\n",
            " 3   +   0   |  3\n",
            " 3   +   1   |  4\n",
            " 3   +   2   |  5\n",
            " 3   +   3   |  6\n",
            "\n"
          ],
          "name": "stdout"
        }
      ]
    },
    {
      "cell_type": "markdown",
      "metadata": {
        "id": "drNJlnWfmKRg"
      },
      "source": [
        "# Exercicio 4\n",
        "Modificar o exemplo do multiplicador para fazer o comparador de 2 bits com números positivos sem sinal e saidas G,E, L de 3 bits.\n",
        "\n",
        "Preencher a tabela verdade, usar o mapa de karnaugh para minimizar as expressões. \n",
        "\n",
        "\n",
        "* [Visualizar o mapa e as equações](https://www.mathematik.uni-marburg.de/~thormae/lectures/ti1/code/karnaughmap/)\n",
        "\n",
        "* [Entrar com os mintermos, visualizar mapa, equações em Verilog](https://www.charlie-coleman.com/experiments/kmap/)"
      ]
    },
    {
      "cell_type": "code",
      "metadata": {
        "id": "SwfZJNSAmWeI",
        "outputId": "da7b2688-2b42-449c-e5dc-88d343700e89",
        "colab": {
          "base_uri": "https://localhost:8080/",
          "height": 318
        }
      },
      "source": [
        "%%verilog\n",
        "module test(a, b, g,e,l);\n",
        "input [1:0] a,b; \n",
        "output g,e,l;\n",
        "assign g = (a[0] & ~b[1] & ~b[0]) | (a[1] & ~b[1]) | (a[1] & a[0] & ~b[0]);\n",
        "assign e = (~a[1] & ~a[0] & ~b[1] & ~b[0]) | (~a[1] & a[0] & ~b[1] & b[0]) | (a[1] & ~a[0] & b[1] & ~b[0]) | (a[1] & a[0] & b[1] & b[0]);\n",
        "assign l = (~a[1] & ~a[0] & b[0]) | (~a[1] & b[1]) | (~a[0] & b[1] & b[0]);\n",
        "endmodule\n",
        "\n",
        "\n",
        "\n",
        "module logic_testbench();  // Esta parte do codigo é para gerar os 16 valores\n",
        "reg [3:0] counter;\n",
        "wire g,e,l;\n",
        "\n",
        "integer k;\n",
        "\ttest t(counter[3:2],counter[1:0],g,e,l); \n",
        "\tinitial begin\n",
        "\t\t$display(\"a1a0 b1b0 |  gel \");\n",
        "\t\t$monitor(\" %d     %d  |  %d\", counter[3:2], counter[1:0], g,e,l);\n",
        "\t\tcounter = 0;\n",
        "\t\tfor (k=1; k<16; k=k+1)\n",
        "     #1 counter = k;\n",
        "\t\t$finish;\n",
        "\tend\n",
        "endmodule"
      ],
      "execution_count": null,
      "outputs": [
        {
          "output_type": "stream",
          "text": [
            "a1a0 b1b0 |  gel \n",
            " 0     0  |  010\n",
            " 0     1  |  001\n",
            " 0     2  |  001\n",
            " 0     3  |  001\n",
            " 1     0  |  100\n",
            " 1     1  |  010\n",
            " 1     2  |  001\n",
            " 1     3  |  001\n",
            " 2     0  |  100\n",
            " 2     1  |  100\n",
            " 2     2  |  010\n",
            " 2     3  |  001\n",
            " 3     0  |  100\n",
            " 3     1  |  100\n",
            " 3     2  |  100\n",
            " 3     3  |  010\n",
            "\n"
          ],
          "name": "stdout"
        }
      ]
    }
  ]
}