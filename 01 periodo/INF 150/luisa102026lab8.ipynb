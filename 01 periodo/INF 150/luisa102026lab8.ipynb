{
  "nbformat": 4,
  "nbformat_minor": 0,
  "metadata": {
    "colab": {
      "name": "luisa102026lab8.ipynb",
      "provenance": [],
      "collapsed_sections": [],
      "toc_visible": true,
      "include_colab_link": true
    },
    "kernelspec": {
      "name": "python3",
      "display_name": "Python 3"
    }
  },
  "cells": [
    {
      "cell_type": "markdown",
      "metadata": {
        "id": "view-in-github",
        "colab_type": "text"
      },
      "source": [
        "<a href=\"https://colab.research.google.com/github/ferreiraluisa/faculdade/blob/main/luisa102026lab8.ipynb\" target=\"_parent\"><img src=\"https://colab.research.google.com/assets/colab-badge.svg\" alt=\"Open In Colab\"/></a>"
      ]
    },
    {
      "cell_type": "markdown",
      "metadata": {
        "id": "FexNFbWkgA9A"
      },
      "source": []
    },
    {
      "cell_type": "markdown",
      "metadata": {
        "id": "s7lnDZGymMoK"
      },
      "source": [
        "# Instalar Verilog Plugin\n",
        "\n",
        "Executar o comando abaixo."
      ]
    },
    {
      "cell_type": "code",
      "metadata": {
        "id": "r1pzW9K0kJs8",
        "outputId": "3c31162a-829b-4902-9a09-bbc29d5c1945",
        "colab": {
          "base_uri": "https://localhost:8080/"
        }
      },
      "source": [
        "!pip install git+git://github.com/canesche/nvcc4jupyter.git\n",
        "!git clone https://github.com/canesche/nvcc4jupyter\n",
        "%load_ext nvcc_plugin"
      ],
      "execution_count": null,
      "outputs": [
        {
          "output_type": "stream",
          "text": [
            "Collecting git+git://github.com/canesche/nvcc4jupyter.git\n",
            "  Cloning git://github.com/canesche/nvcc4jupyter.git to /tmp/pip-req-build-47makp69\n",
            "  Running command git clone -q git://github.com/canesche/nvcc4jupyter.git /tmp/pip-req-build-47makp69\n",
            "Building wheels for collected packages: ColabPlugin\n",
            "  Building wheel for ColabPlugin (setup.py) ... \u001b[?25l\u001b[?25hdone\n",
            "  Created wheel for ColabPlugin: filename=ColabPlugin-0.0.3-cp36-none-any.whl size=12310 sha256=3820016a19253790bd6d3f5fa11136f52af2ca572450d599a639b188e807d718\n",
            "  Stored in directory: /tmp/pip-ephem-wheel-cache-mybcros1/wheels/87/ae/09/21c6e192181a0472e20ddd1d5212e2cbb113f00ebe14330d0d\n",
            "Successfully built ColabPlugin\n",
            "Installing collected packages: ColabPlugin\n",
            "Successfully installed ColabPlugin-0.0.3\n",
            "Cloning into 'nvcc4jupyter'...\n",
            "remote: Enumerating objects: 49, done.\u001b[K\n",
            "remote: Counting objects: 100% (49/49), done.\u001b[K\n",
            "remote: Compressing objects: 100% (33/33), done.\u001b[K\n",
            "remote: Total 489 (delta 30), reused 33 (delta 16), pack-reused 440\u001b[K\n",
            "Receiving objects: 100% (489/489), 27.67 MiB | 16.00 MiB/s, done.\n",
            "Resolving deltas: 100% (239/239), done.\n",
            "created output directory at /content/src\n",
            "Out bin /content/result.out\n"
          ],
          "name": "stdout"
        }
      ]
    },
    {
      "cell_type": "markdown",
      "metadata": {
        "id": "UqL6590-mei5"
      },
      "source": [
        "# Exemplo 1 - Codificador/Decodificador de Prioridade\n",
        "\n",
        "Um decodificador ou codificador de prioridade (*priority encoder*) tem M entradas, onde M é, em geral, uma potência de 2, ou seja, $M=2^n$. Quando uma das entradas é acionada, a saída com $n$ bits irá informar o número da entrada. Por exemplo se temos 4 entradas $X_3 X_2 X_1 X_0$, a entrada $X_2$ é acionada, ou seja, temos $0100$ na entrada. A saída será o número 2, ou, o código $10$.\n",
        "Para saber mais, consulte a [wikipedia](https://en.wikipedia.org/wiki/Priority_encoder).\n",
        "\n",
        "\n",
        "Supondo 4 entradas, precisamos de apenas 2 bits para informar qual entrada foi acionada. Abaixo uma descrição com a tabela verdade."
      ]
    },
    {
      "cell_type": "code",
      "metadata": {
        "id": "LZAEi4BsmMAQ",
        "outputId": "5106ebc0-27fa-43a6-c7a9-462d69da250f",
        "colab": {
          "base_uri": "https://localhost:8080/",
          "height": 319
        }
      },
      "source": [
        "%%verilog \n",
        "module test(\n",
        "\t\tinput [3:0]x, // definir as entradas\n",
        "    output  reg [1:0] z  // definir as saidas\n",
        "    );\n",
        "always @ *\n",
        "  case (x) \n",
        "\t\t4'b0001: z = 0;\n",
        "\t\t4'b0010: z = 1;\n",
        "\t  4'b0100: z = 2; \n",
        "\t\t4'b1000: z = 3;\n",
        "\tendcase\n",
        "\n",
        "\n",
        "endmodule\n",
        "\n",
        "\n",
        "\n",
        "module logic_testbench();  // Esta parte do codigo é para gerar os 16 valores\n",
        "reg [3:0] counter;\n",
        "wire [1:0] z;\n",
        "integer k;\n",
        "\ttest t(counter,z); \n",
        "\tinitial begin\n",
        "\t\t$display(\"x3210 | z\");\n",
        "\t\t$monitor(\"%4b | %d\", counter,  z);\n",
        "\t\tcounter = 0;\n",
        "\t\tfor (k=1; k<16; k=k+1)\n",
        "     #1 counter = k;\n",
        "\t\t$finish;\n",
        "\tend\n",
        "endmodule"
      ],
      "execution_count": null,
      "outputs": [
        {
          "output_type": "stream",
          "text": [
            "x3210 | z\n",
            "0000 | x\n",
            "0001 | 0\n",
            "0010 | 1\n",
            "0011 | 1\n",
            "0100 | 2\n",
            "0101 | 2\n",
            "0110 | 2\n",
            "0111 | 2\n",
            "1000 | 3\n",
            "1001 | 3\n",
            "1010 | 3\n",
            "1011 | 3\n",
            "1100 | 3\n",
            "1101 | 3\n",
            "1110 | 3\n",
            "1111 | 3\n",
            "\n"
          ],
          "name": "stdout"
        }
      ]
    },
    {
      "cell_type": "markdown",
      "metadata": {
        "id": "VUfEZtu1KMNS"
      },
      "source": [
        "# Exercicio 1- Verificar a  implementação com portas lógicas\n",
        "\n",
        "Abaixo temos três implementações do priority encoder. Criar um módulo para cada uma delas e testar.\n",
        "\n",
        "Modulo para primeira implementação. Entrada $I_3...I_0$ e saídas $O_1O_0$\n",
        "\n",
        "![](https://upload.wikimedia.org/wikipedia/commons/thumb/f/fb/A_Simple_4-2_encoder_using_or_gate.jpg/318px-A_Simple_4-2_encoder_using_or_gate.jpg)\n",
        "\n",
        "Segunda implementação. Entradas $X_i$, saídas $Y_i$. A primeira porta NAND ligada a $X_0$ pode ser retirada, pois não está conectada a nada.\n",
        "![](https://tams.informatik.uni-hamburg.de/applets/hades/webdemos/10-gates/45-priority/priority42.gif)\n",
        "\n",
        "Terceira implementação que tem uma saída extra para diferenciar o código 0000 na entrada, onde nenhuma entrada está ativa, do código 0001, onde a entrada $I_0$ está ativa.\n",
        "\n",
        "![](https://upload.wikimedia.org/wikipedia/commons/thumb/2/27/A_4-2_Priority_Encoder_.jpg/486px-A_4-2_Priority_Encoder_.jpg)\n"
      ]
    },
    {
      "cell_type": "code",
      "metadata": {
        "id": "EmZMwwqGKuhI",
        "outputId": "99cf050a-3116-42ba-9ca7-b6880dd9e162",
        "colab": {
          "base_uri": "https://localhost:8080/"
        }
      },
      "source": [
        "%%verilog \n",
        "module primeira(\n",
        "\t\tinput  [3:0]I, // definir as entradas\n",
        "    output [1:0] O  // definir as saidas\n",
        "    );\n",
        "// COMPLETAR AQUI ....\n",
        "assign O[0] = I[1] | I[3];\n",
        "assign O[1] = I[2] | I[3];\n",
        "\n",
        "endmodule\n",
        "\n",
        "module segunda(\n",
        "\t\tinput  [3:0]x, // definir as entradas\n",
        "    output [1:0] y  // definir as saidas\n",
        "    );\n",
        "// COMPLETAR AQUI ....\n",
        "wire a,b;\n",
        "assign a = ~(~x[3]&x[2]);\n",
        "assign b = ~(a & ~x[3] & x[1]);\n",
        "assign y[1] = x[3] | ~a;\n",
        "assign y[0] = x[3] | ~b;\n",
        "\n",
        "\n",
        "\n",
        "endmodule\n",
        "\n",
        "module terceira(\n",
        "\t\tinput  [3:0]x, // definir as entradas\n",
        "    output [1:0] y,  // definir as saidas\n",
        "\t\toutput v\n",
        "    );\n",
        "// COMPLETAR AQUI ....\n",
        "wire a;\n",
        "assign a = ~x[2] & x[1];\n",
        "assign y[0] = a | x[3];\n",
        "assign y[1] = x[3] | x[2];\n",
        "assign v = y[1] | x[1] | x[0];\n",
        "endmodule\n",
        "\n",
        "module solucao(\n",
        "\t\tinput [3:0]x, // definir as entradas\n",
        "    output  reg [1:0] z  // definir as saidas\n",
        "    );\n",
        "always @ *\n",
        "  case (x)\n",
        "\t  4'b0000: z = 0; \n",
        "\t\t4'b0001: z = 0;\n",
        "\t\t4'b0010: z = 1;\n",
        "\t  4'b0100: z = 2; \n",
        "\t\t4'b1000: z = 3;\n",
        "\tendcase\n",
        "endmodule\n",
        "\n",
        "\n",
        "module logic_testbench();  // Esta parte do codigo é para gerar os 16 valores\n",
        "reg [3:0] counter;\n",
        "wire [1:0] y1,y2,y3,s;\n",
        "wire v;\n",
        "integer k;\n",
        "\tprimeira t(counter,y1);\n",
        "  segunda t2(counter,y2);\n",
        "\tterceira t3(counter,y3,v);\n",
        "  solucao S(counter,s);\n",
        "\tinitial begin\n",
        "\t\t$display(\"x3210 | Primeira  Segunda Terceira v Solucao Tabela\");\n",
        "\t\t$monitor(\" %4b |      %d       %d        %d    %b       %d\", counter,  y1, y2, y3, v, s);\n",
        "\t\tcounter = 0;\n",
        "\t\tfor (k=1; k<16; k=k+1)\n",
        "     #1 counter = k;\n",
        "\t\t$finish;\n",
        "\tend\n",
        "endmodule"
      ],
      "execution_count": null,
      "outputs": [
        {
          "output_type": "stream",
          "text": [
            "x3210 | Primeira  Segunda Terceira v Solucao Tabela\n",
            " 0000 |      0       0        0    0       0\n",
            " 0001 |      0       0        0    1       0\n",
            " 0010 |      1       1        1    1       1\n",
            " 0011 |      1       1        1    1       1\n",
            " 0100 |      2       2        2    1       2\n",
            " 0101 |      2       2        2    1       2\n",
            " 0110 |      3       2        2    1       2\n",
            " 0111 |      3       2        2    1       2\n",
            " 1000 |      3       3        3    1       3\n",
            " 1001 |      3       3        3    1       3\n",
            " 1010 |      3       3        3    1       3\n",
            " 1011 |      3       3        3    1       3\n",
            " 1100 |      3       3        3    1       3\n",
            " 1101 |      3       3        3    1       3\n",
            " 1110 |      3       3        3    1       3\n",
            " 1111 |      3       3        3    1       3\n",
            "\n"
          ],
          "name": "stdout"
        }
      ]
    },
    {
      "cell_type": "markdown",
      "metadata": {
        "id": "yRcO5a4TLBrG"
      },
      "source": [
        "A tabela verdade do priority encoder ou codificador de prioridade é definida como \n",
        "\n",
        "I3 | I2 | I1 | I1 | $O_1O_0$ | V  \n",
        "---|---|---|---|---|---\n",
        "0 | 0 | 0 | 0 | XX | 0\n",
        "0 | 0 | 0 | 1 | 0 | 1\n",
        "0 | 0 | 1 | 0 | 1 | 1\n",
        "0 | 1 | 0 | 0 | 2 | 1\n",
        "1 | 0 | 0 | 0 | 3 | 1\n",
        "\n",
        "\n",
        "\n"
      ]
    },
    {
      "cell_type": "markdown",
      "metadata": {
        "id": "1LEwTCSCPLGJ"
      },
      "source": [
        "## Exercicio 2 \n",
        "\n",
        "Um decodificador de prioridade com 8 entradas [foi projetado neste link](https://www.electronics-tutorials.ws/combination/comb_4.html).\n",
        "Com 8 entradas, temos 256 linhas na tabela verdade. \n",
        "Teremos 3 bits de saídas para sinalizar de 0 a 7, qual entrada foi acionada. Verifique que se as equações minimizadas estão corretas."
      ]
    },
    {
      "cell_type": "markdown",
      "metadata": {
        "id": "eF0kl90LPDd4"
      },
      "source": [
        "![combination-comb39.gif](data:image/gif;base64,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)"
      ]
    },
    {
      "cell_type": "code",
      "metadata": {
        "id": "ieeSnyrtP5HE",
        "outputId": "a6e14a41-9747-4323-ba83-74a0b7ccaa5e",
        "colab": {
          "base_uri": "https://localhost:8080/"
        }
      },
      "source": [
        "%%verilog \n",
        "module encoder(\n",
        "\t\tinput  [7:0]d, // definir as entradas\n",
        "    output [2:0] q  // definir as saidas\n",
        "    );\n",
        "// COMPLETAR AQUI ....\n",
        "assign q[0] = ((~d[6] & (~d[4]&~d[2]&d[1] | (~d[4]&d[3]) | d[5])) | d[7]);\n",
        "assign q[1] = ((~d[5]&~d[4]) & (d[2]|d[3]) |d[6] | d[7]);\n",
        "assign q[2] = d[4] | d[5] | d[6] | d[7];\n",
        "\n",
        "\n",
        "endmodule\n",
        "\n",
        "module solution(\n",
        "\t\tinput [7:0]x, // definir as entradas\n",
        "    output  reg [2:0] z  // definir as saidas\n",
        "    );\n",
        "always @ *\n",
        "  case (x)\n",
        "\t  8'b00000000: z = 0; \n",
        "\t\t8'b00000001: z = 0;\n",
        "\t\t8'b00000010: z = 1;\n",
        "\t  8'b00000100: z = 2; \n",
        "\t\t8'b00001000: z = 3;\n",
        "\t\t8'b00010000: z = 4;\n",
        "\t\t8'b00100000: z = 5;\n",
        "\t\t8'b01000000: z = 6;\n",
        "\t\t8'b10000000: z = 7;\n",
        "\tendcase\n",
        "endmodule\n",
        "\n",
        "\n",
        "\n",
        "module logic_testbench();  // Esta parte do codigo é para gerar os 16 valores\n",
        "reg [7:0] counter;\n",
        "wire [2:0] q,s;\n",
        "integer k;\n",
        "\tencoder t(counter,q);\n",
        "\tsolution S(counter,s); \n",
        "\tinitial begin\n",
        "\t\t$display(\"x76543210 |  Sua Sol.    Correcao\");\n",
        "\t\t$monitor(\" %8b |      %d         %d\", counter,  q,s);\n",
        "\t\tcounter = 0;\n",
        "\t\tfor (k=1; k<256; k=k<<1)\n",
        "     #1 counter = k;\n",
        "\t\t$finish;\n",
        "\tend\n",
        "endmodule"
      ],
      "execution_count": null,
      "outputs": [
        {
          "output_type": "stream",
          "text": [
            "x76543210 |  Sua Sol.    Correcao\n",
            " 00000000 |      0         0\n",
            " 00000001 |      0         0\n",
            " 00000010 |      1         1\n",
            " 00000100 |      2         2\n",
            " 00001000 |      3         3\n",
            " 00010000 |      4         4\n",
            " 00100000 |      5         5\n",
            " 01000000 |      6         6\n",
            " 10000000 |      7         7\n",
            "\n"
          ],
          "name": "stdout"
        }
      ]
    },
    {
      "cell_type": "markdown",
      "metadata": {
        "id": "tXGQYN26E3LA"
      },
      "source": [
        "# Exercicio 3 -  Multiplexador\n",
        "\n",
        "O multiplexador é um circuito que faz a seleção entre duas ou mais opções. O multiplexador 2:1 irá escolher entre duas opções. O 4:1 irá selecionar com 4 entradas de dados e duas de seleção. Você irá fazer duas tarefas para construir um multiplexador que recebe 4 entradas de 4 bits cada.\n",
        "\n",
        "![](https://i.stack.imgur.com/896GB.png)\n",
        "\n",
        "Primeiro iremos montar um multiplexador 4:1 com portas ou equações lógicas. Montar o módulo mux41 (desenhe de baixo).\n",
        "\n",
        "![](https://tams.informatik.uni-hamburg.de/applets/hades/webdemos/10-gates/40-mux-demux/mux21-mux41.gif)\n",
        "\n",
        "\n",
        "Depois, usando a técnica de bitslice, montar o multiplexador 4:1 com 4 entradas de 4 bits cada. Voce irá preencher com os 4 ultimos dígitos de matrícula e a saída mostrará os 4 últimos digitos.\n",
        "\n",
        "![](https://i.stack.imgur.com/g1X1f.png)\n"
      ]
    },
    {
      "cell_type": "code",
      "metadata": {
        "id": "bIctsbn7FQNx",
        "outputId": "17604816-5b3f-4c7c-8412-dad0327abefd",
        "colab": {
          "base_uri": "https://localhost:8080/"
        }
      },
      "source": [
        "%%verilog \n",
        "module mux41(i3,i2,i1,i0,s1,s0,y);\n",
        "input i3,i2,i1,i0,s1,s0;\n",
        "output y;\n",
        "// COMPLETAR AQUI....\n",
        "wire a,b;\n",
        "assign y = (s1)?a:b;\n",
        "assign a = (s0)?i3:i2;\n",
        "assign b = (s0)?i1:i0;\n",
        "\n",
        "endmodule\n",
        "\n",
        "\n",
        "module mux41_4bits(input [3:0]I3, input [3:0]I2,input [3:0]I1,input [3:0]I0,input [1:0]s, output [3:0]O);\n",
        "// COMPLETAR AQUI ....\n",
        "mux41 a0(I3[0],I2[0],I1[0],I0[0],s[1],s[0],O[0]);\n",
        "mux41 a1(I3[1],I2[1],I1[1],I0[1],s[1],s[0],O[1]);\n",
        "mux41 a2(I3[2],I2[2],I1[2],I0[2],s[1],s[0],O[2]);\n",
        "mux41 a3(I3[3],I2[3],I1[3],I0[3],s[1],s[0],O[3]);\n",
        "\n",
        "\n",
        "endmodule\n",
        "\n",
        "\n",
        "\n",
        "\n",
        "module logic_testbench();  \n",
        "reg [3:0] D3,D2,D1,D0;\n",
        "wire [3:0] D;\n",
        "reg [1:0] s;\n",
        "integer k;\n",
        "\tmux41_4bits M(D3,D2,D1,D0,s,D); \n",
        "\tinitial begin\n",
        "\t\t$display(\"sel | digito\");\n",
        "\t\t$monitor(\" %d  | %d\", s, D);\n",
        "\t\tD3 = 2; D2 = 0; D1= 2; D0 = 6; // minha matricula eh 102026\n",
        "\t\ts = 3;\n",
        "     #1 s=2;\n",
        "\t\t #1 s=1;\n",
        "\t\t #1 s=0;\n",
        "\t\t$finish;\n",
        "\tend\n",
        "endmodule"
      ],
      "execution_count": null,
      "outputs": [
        {
          "output_type": "stream",
          "text": [
            "sel | digito\n",
            " 3  |  2\n",
            " 2  |  0\n",
            " 1  |  2\n",
            " 0  |  6\n",
            "\n"
          ],
          "name": "stdout"
        }
      ]
    },
    {
      "cell_type": "markdown",
      "metadata": {
        "id": "9qk2km_AfQb1"
      },
      "source": [
        "# Exercicio 4\n",
        "\n",
        "Outro circuito é o decodificador que converter um código de $n$ bits em um código de $2^n$ bits. Por exemplo, com 2 bits teremos 0,1,2,3 sendo convertidos em 0001, 0010, 0100, 1000. Ou seja, cada código aciona a saída com seu número. A figura a seguir mostra um decoder de 2:4 \n",
        "\n",
        "![](https://i.stack.imgur.com/jWxOF.png)\n",
        "\n",
        "Outra opção é ter uma entrada extra para habilitar ou não o decodificador. Assim, se a entrada en=0, todas as saídas serão 0. Se en=1, a saída selecionada será verdadeira e todas as outras falsas.\n",
        "\n",
        "![](https://media.cheggcdn.com/study/1c9/1c9a2999-c326-484a-9521-d4c2d92fb9a0/616068-3-29IP1.png)\n",
        "\n",
        "\n",
        "\n",
        "Construa um decoder 4:2 com entrada de EN.\n"
      ]
    },
    {
      "cell_type": "code",
      "metadata": {
        "id": "8-X0xQoE8jMV",
        "outputId": "ad910789-0b71-4a70-a426-f13db83e6a63",
        "colab": {
          "base_uri": "https://localhost:8080/"
        }
      },
      "source": [
        "%%verilog \n",
        "module decoder24(en,a,d);\n",
        "input en;\n",
        "input [1:0]a;\n",
        "output [3:0] d;\n",
        "// COMPLETAR AQUI....\n",
        "assign d[0] = en & (~a[1] & ~a[0]);\n",
        "assign d[1] = en & (~a[1] & a[0]);\n",
        "assign d[2] = en & (a[1] & ~a[0]);\n",
        "assign d[3] = en & (a[1] & a[0]);\n",
        "endmodule\n",
        "\n",
        "\n",
        "\n",
        "module logic_testbench();  \n",
        "reg [2:0] counter;\n",
        "wire [3:0] D;\n",
        "integer k;\n",
        "\tdecoder24 M(counter[2],counter[1:0],D); \n",
        "\tinitial begin\n",
        "\t\t$display(\"en A1A0 | z\");\n",
        "\t\t$monitor(\"%b  %d | %4b\", counter[2], counter[1:0], D);\n",
        "\t\tcounter = 0;\n",
        "\t\tfor (k=1; k<8; k=k+1)\n",
        "     #1 counter = k;\n",
        "\t\t$finish;\n",
        "\tend\n",
        "\t\n",
        "endmodule"
      ],
      "execution_count": null,
      "outputs": [
        {
          "output_type": "stream",
          "text": [
            "en A1A0 | z\n",
            "0  0 | 0000\n",
            "0  1 | 0000\n",
            "0  2 | 0000\n",
            "0  3 | 0000\n",
            "1  0 | 0001\n",
            "1  1 | 0010\n",
            "1  2 | 0100\n",
            "1  3 | 1000\n",
            "\n"
          ],
          "name": "stdout"
        }
      ]
    },
    {
      "cell_type": "markdown",
      "metadata": {
        "id": "KbH4liueCPIH"
      },
      "source": [
        "# Exercicio 5\n",
        "\n",
        "Construa um decoder 3:8, Use $a_2$ como x, $a_1$ como y, $a_0$ como z.\n",
        "\n",
        "![](https://static.planetminecraft.com/files/resource_media/screenshot/1910/3-to-8-binary-decoder-00-1551699806.jpg)"
      ]
    },
    {
      "cell_type": "code",
      "metadata": {
        "id": "kI3sd0_NC5ZD",
        "outputId": "cb9512a0-2f48-4ef8-bf3f-947287acab0e",
        "colab": {
          "base_uri": "https://localhost:8080/"
        }
      },
      "source": [
        "%%verilog \n",
        "module decoder38(a,d);\n",
        "input [2:0]a;\n",
        "output [7:0] d;\n",
        "// COMPLETAR AQUI....\n",
        "assign d[0] = ~a[0] & ~a[1] & ~a[2];\n",
        "assign d[1] = a[0] & ~a[1] & ~a[2];\n",
        "assign d[2] = ~a[0] & a[1] & ~a[2]; \n",
        "assign d[3] = a[0] & a[1] & ~a[2];\n",
        "assign d[4] = ~a[0] & ~a[1] & a[2];\n",
        "assign d[5] = a[0] & ~a[1] & a[2];\n",
        "assign d[6] = ~a[0] & a[1] & a[2];\n",
        "assign d[7] = a[0] & a[1] & a[2];\n",
        "\n",
        "\n",
        "endmodule\n",
        "\n",
        "\n",
        "\n",
        "module logic_testbench();  \n",
        "reg [2:0] counter;\n",
        "wire [7:0] D;\n",
        "integer k;\n",
        "\tdecoder38 M(counter[2:0],D); \n",
        "\tinitial begin\n",
        "\t\t$display(\"A2A1A0 | z\");\n",
        "\t\t$monitor(\"%d | %8b\", counter, D);\n",
        "\t\tcounter = 0;\n",
        "\t\tfor (k=1; k<8; k=k+1)\n",
        "     #1 counter = k;\n",
        "\t\t$finish;\n",
        "\tend\n",
        "\t\n",
        "endmodule"
      ],
      "execution_count": null,
      "outputs": [
        {
          "output_type": "stream",
          "text": [
            "A2A1A0 | z\n",
            "0 | 00000001\n",
            "1 | 00000010\n",
            "2 | 00000100\n",
            "3 | 00001000\n",
            "4 | 00010000\n",
            "5 | 00100000\n",
            "6 | 01000000\n",
            "7 | 10000000\n",
            "\n"
          ],
          "name": "stdout"
        }
      ]
    },
    {
      "cell_type": "markdown",
      "metadata": {
        "id": "vACCy1sLDxpT"
      },
      "source": [
        "# Exercicio 6\n",
        "\n",
        "Agora iremos fazer uma transmissão usando um encoder e um decoder. \n",
        "\n",
        "![](https://www.watelectronics.com/wp-content/uploads/encoder-and-decoder-300x150.jpg)\n",
        "\n",
        "Suponha que na entrada A temos 8 alarmes. O Encoder irá compactar em código binário com 3 bits, enviar as saidas $O_2O_1O_0$ para o **decoder** que irá receber em **A** e mostrar em **O** qual alarme foi acionado.\n",
        "Monte o circuito acima usando o encoder do exercicio 2 e o decoder do exercicio 5."
      ]
    },
    {
      "cell_type": "code",
      "metadata": {
        "id": "ACeCdxo_G3DM",
        "outputId": "8715e5fb-ebfe-4a07-a0a4-63ad152e2c87",
        "colab": {
          "base_uri": "https://localhost:8080/"
        }
      },
      "source": [
        "%%verilog \n",
        "module decoder38(a,d);\n",
        "input [2:0]a;\n",
        "output [7:0] d;\n",
        "// COMPLETAR AQUI....\n",
        "assign d[0] = ~a[0] & ~a[1] & ~a[2];\n",
        "assign d[1] = a[0] & ~a[1] & ~a[2];\n",
        "assign d[2] = ~a[0] & a[1] & ~a[2]; \n",
        "assign d[3] = a[0] & a[1] & ~a[2];\n",
        "assign d[4] = ~a[0] & ~a[1] & a[2];\n",
        "assign d[5] = a[0] & ~a[1] & a[2];\n",
        "assign d[6] = ~a[0] & a[1] & a[2];\n",
        "assign d[7] = a[0] & a[1] & a[2];\n",
        "endmodule\n",
        "\n",
        "module encoder(\n",
        "\t\tinput  [7:0]d, // definir as entradas\n",
        "    output [2:0] q  // definir as saidas\n",
        "    );\n",
        "// COMPLETAR AQUI....\n",
        "assign q[0] = ((~d[6] & (~d[4]&~d[2]&d[1] | (~d[4]&d[3]) | d[5])) | d[7]);\n",
        "assign q[1] = ((~d[5]&~d[4]) & (d[2]|d[3]) |d[6] | d[7]);\n",
        "assign q[2] = d[4] | d[5] | d[6] | d[7];\n",
        "endmodule\n",
        "\n",
        "module conexao(input [7:0] D, output [7:0] O);\n",
        "// COMPLETAR AQUI....\n",
        "wire [2:0]q;\n",
        "assign q[0] = ((~D[6] & (~D[4]&~D[2]&D[1] | (~D[4]&D[3]) | D[5])) | D[7]);\n",
        "assign q[1] = ((~D[5]&~D[4]) & (D[2]|D[3]) |D[6] | D[7]);\n",
        "assign q[2] = D[4] | D[5] | D[6] | D[7];\n",
        "assign O[0] = ~q[0] & ~q[1] & ~q[2];\n",
        "assign O[1] = q[0] & ~q[1] & ~q[2];\n",
        "assign O[2] = ~q[0] & q[1] & ~q[2]; \n",
        "assign O[3] = q[0] & q[1] & ~q[2];\n",
        "assign O[4] = ~q[0] & ~q[1] & q[2];\n",
        "assign O[5] = q[0] & ~q[1] & q[2];\n",
        "assign O[6] = ~q[0] & q[1] & q[2];\n",
        "assign O[7] = q[0] & q[1] & q[2];\n",
        "\n",
        "endmodule\n",
        "\n",
        "\n",
        "module logic_testbench();  \n",
        "reg [7:0] counter;\n",
        "wire [7:0] D;\n",
        "integer k;\n",
        "\tconexao M(counter,D); \n",
        "\tinitial begin\n",
        "\t\t$display(\" In      | Out\");\n",
        "\t\t$monitor(\"%8b | %8b\", counter, D);\n",
        "\t\tcounter = 1;\n",
        "\t\tfor (k=2; k<256; k=k<<1)\n",
        "     #1 counter = k;\n",
        "\t\t$finish;\n",
        "\tend\n",
        "\t\n",
        "endmodule"
      ],
      "execution_count": null,
      "outputs": [
        {
          "output_type": "stream",
          "text": [
            " In      | Out\n",
            "00000001 | 00000001\n",
            "00000010 | 00000010\n",
            "00000100 | 00000100\n",
            "00001000 | 00001000\n",
            "00010000 | 00010000\n",
            "00100000 | 00100000\n",
            "01000000 | 01000000\n",
            "10000000 | 10000000\n",
            "\n"
          ],
          "name": "stdout"
        }
      ]
    },
    {
      "cell_type": "markdown",
      "metadata": {
        "id": "A-ELEqSkNuy6"
      },
      "source": [
        "# Exemplo 2\n",
        "\n",
        "Arvores de multiplexadores com Mux2:1 podemos fazer mux com 2, 3, ..., N entradas. Abaixo a solução para 2,3,4,5 e 6. \n",
        "\n",
        "![](http://1.bp.blogspot.com/-d7TJekGkpU0/T_MbkQ_q0LI/AAAAAAAAADo/vKM9-SE3QM4/s640/mux.png)\n",
        "\n",
        "Alem da arvore de multiplixadores, temos que fazer a conexão correta das entradas de seleção.\n",
        "\n",
        "Abaixo um exemplo de um mux 5:1.\n"
      ]
    },
    {
      "cell_type": "code",
      "metadata": {
        "id": "Ya0Hwj45Oo31",
        "outputId": "22d6ec6c-814e-46d9-9bee-c0ece3f5ef47",
        "colab": {
          "base_uri": "https://localhost:8080/",
          "height": 202
        }
      },
      "source": [
        "%%verilog\n",
        "\n",
        "module mux21(a,s,o);\n",
        "input [1:0]a;\n",
        "input s;\n",
        "output  o;\n",
        "assign o = (s)?a[1]:a[0];\n",
        "endmodule\n",
        "\n",
        "module mux51(a,s,o);\n",
        "input [4:0]a;\n",
        "input [2:0]s;\n",
        "output  o;\n",
        "wire o01,o23,o0123;\n",
        "mux21 m01(a[1:0],s[0],o01);\n",
        "mux21 m23(a[3:2],s[0],o23);\n",
        "mux21 m0123({o23,o01},s[1],o0123);\n",
        "mux21 m01234({a[4],o0123},s[2],o);\n",
        "endmodule\n",
        "\n",
        "\n",
        "\n",
        "module logic_testbench();  \n",
        "reg [4:0] In;\n",
        "reg [2:0] counter;\n",
        "wire D;\n",
        "integer k,i;\n",
        "\tmux51 M(In,counter,D); \n",
        "\tinitial begin\n",
        "\t\t$display(\" In   sel   | Out\");\n",
        "\t\t$monitor(\"%5b   %d | %b\", In, counter, D);\n",
        "\t\tcounter = 0; i = 1;\n",
        "\t\tfor (k=0; k<8; k++)\n",
        "\t   begin\n",
        "     #1 counter = k; In=i; i=i<<1;\n",
        "\t\t end  \n",
        "\t\t$finish;\n",
        "\tend\n",
        "\t\n",
        "endmodule"
      ],
      "execution_count": null,
      "outputs": [
        {
          "output_type": "stream",
          "text": [
            " In   sel   | Out\n",
            "xxxxx   0 | x\n",
            "00001   0 | 1\n",
            "00010   1 | 1\n",
            "00100   2 | 1\n",
            "01000   3 | 1\n",
            "10000   4 | 1\n",
            "00000   5 | 0\n",
            "00000   6 | 0\n",
            "00000   7 | 0\n",
            "\n"
          ],
          "name": "stdout"
        }
      ]
    },
    {
      "cell_type": "markdown",
      "metadata": {
        "id": "FrS3An-tVKnx"
      },
      "source": [
        "# Exercicio 8 \n",
        "\n",
        "Fazer um mux 7:1."
      ]
    },
    {
      "cell_type": "code",
      "metadata": {
        "id": "aeVWgw_HVSpK",
        "outputId": "5eb159ad-0912-4d28-f81d-15b4cda0ef46",
        "colab": {
          "base_uri": "https://localhost:8080/"
        }
      },
      "source": [
        "%%verilog\n",
        "\n",
        "module mux21(a,s,o);\n",
        "input [1:0]a;\n",
        "input s;\n",
        "output  o;\n",
        "assign o = (s)?a[1]:a[0];\n",
        "endmodule\n",
        "\n",
        "module mux71(a,s,o);\n",
        "input [6:0]a;\n",
        "input [2:0]s;\n",
        "output  o;\n",
        "wire o01,o23,o45,o0123,o456;\n",
        "mux21 m01(a[1:0],s[0],o01);\n",
        "mux21 m23(a[3:2],s[0],o23);\n",
        "mux21 m45(a[5:4],s[0],o45);\n",
        "mux21 m0123({o23,o01},s[1],o0123);\n",
        "mux21 m456({a[6],o45},s[1],o456);\n",
        "mux21 m0123456({o456,o0123},s[2],o);\n",
        "// COMPLETAR AQUI...\n",
        "\n",
        "endmodule\n",
        "\n",
        "\n",
        "module logic_testbench();  \n",
        "reg [6:0] In;\n",
        "reg [2:0] counter;\n",
        "wire D;\n",
        "integer k,i;\n",
        "\tmux71 M(In,counter,D); \n",
        "\tinitial begin\n",
        "\t\t$display(\" In   sel   | Out\");\n",
        "\t\t$monitor(\"%7b   %d | %b\", In, counter, D);\n",
        "\t\tcounter = 0; i = 1;\n",
        "\t\tfor (k=0; k<8; k++)\n",
        "\t   begin\n",
        "     #1 counter = k; In=i; i=i<<1;\n",
        "\t\t end  \n",
        "\t\t$finish;\n",
        "\tend\n",
        "\t\n",
        "endmodule"
      ],
      "execution_count": null,
      "outputs": [
        {
          "output_type": "stream",
          "text": [
            " In   sel   | Out\n",
            "xxxxxxx   0 | x\n",
            "0000001   0 | 1\n",
            "0000010   1 | 1\n",
            "0000100   2 | 1\n",
            "0001000   3 | 1\n",
            "0010000   4 | 1\n",
            "0100000   5 | 1\n",
            "1000000   6 | 1\n",
            "0000000   7 | 0\n",
            "\n"
          ],
          "name": "stdout"
        }
      ]
    }
  ]
}