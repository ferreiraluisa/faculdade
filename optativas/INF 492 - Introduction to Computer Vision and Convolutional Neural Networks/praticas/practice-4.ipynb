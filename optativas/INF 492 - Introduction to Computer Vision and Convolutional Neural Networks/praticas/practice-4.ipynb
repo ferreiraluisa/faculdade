{
 "cells": [
  {
   "cell_type": "code",
   "execution_count": null,
   "id": "77c807d6",
   "metadata": {},
   "outputs": [],
   "source": [
    "import torchvision\n",
    "import numpy as np"
   ]
  },
  {
   "cell_type": "code",
   "execution_count": null,
   "id": "87b372b9",
   "metadata": {},
   "outputs": [],
   "source": [
    "def my_opencv_image_show ( image ) :\n",
    "    \n",
    "    plt.imshow(image, aspect='auto')\n",
    "    plt.axis('off')\n",
    "    plt.title('My image.')\n",
    "    plt.show()"
   ]
  },
  {
   "cell_type": "code",
   "execution_count": null,
   "id": "caf83a6b",
   "metadata": {},
   "outputs": [],
   "source": [
    "def my_tensor_image_show ( inp ):\n",
    "    inp = inp.numpy().transpose((1, 2, 0))\n",
    "    mean = np.array([0.485, 0.456, 0.406])\n",
    "    std = np.array([0.229, 0.224, 0.225])\n",
    "    inp = std * inp + mean\n",
    "    inp = np.clip(inp, 0, 1)\n",
    "    plt.imshow(inp)\n",
    "    plt.axis('off')\n",
    "    plt.title('Image in tensor format.')\n",
    "    plt.show()    "
   ]
  },
  {
   "cell_type": "code",
   "execution_count": null,
   "id": "fcbbaaa4",
   "metadata": {},
   "outputs": [],
   "source": [
    "import cv2\n",
    "import matplotlib.pyplot as plt\n",
    "import torch\n",
    "\n",
    "my_transform = torchvision.transforms.Compose([ \n",
    "                       torchvision.transforms.ToPILImage(),\n",
    "                       torchvision.transforms.Resize(256), \n",
    "                       torchvision.transforms.CenterCrop(224), \n",
    "                       torchvision.transforms.ToTensor(),\n",
    "                       torchvision.transforms.Normalize(mean=[0.485, 0.456, 0.406],\n",
    "                                                         std=[0.229, 0.224, 0.225]\n",
    "                                                       ) ]\n",
    "                     )"
   ]
  },
  {
   "cell_type": "code",
   "execution_count": null,
   "id": "5ac75c23",
   "metadata": {},
   "outputs": [],
   "source": [
    "name = # INSERT THE PATH TO THE IMAGE\n",
    "\n",
    "\n",
    "image = cv2.imread( name )\n",
    "image = cv2.cvtColor( image , cv2.COLOR_BGR2RGB )\n",
    "my_opencv_image_show(image)\n",
    "\n",
    "print(type(image))\n",
    "print(image.shape)"
   ]
  },
  {
   "cell_type": "code",
   "execution_count": null,
   "id": "d5918bd6",
   "metadata": {},
   "outputs": [],
   "source": [
    "model_input = my_transform(image) \n",
    "\n",
    "my_tensor_image_show(model_input)\n",
    "print(model_input.shape)"
   ]
  },
  {
   "cell_type": "code",
   "execution_count": null,
   "id": "b32ffdd8",
   "metadata": {},
   "outputs": [],
   "source": [
    "model_input = my_transform(image) \n",
    "model_input = model_input.unsqueeze_(0)\n",
    "print(model_input.shape)\n",
    "\n",
    "if torch.cuda.is_available():\n",
    "    my_device = torch.device(\"cuda:0\")\n",
    "    print(\"Running on CUDA.\")\n",
    "else:\n",
    "    my_device = torch.device(\"cpu\")\n",
    "    print(\"No Cuda Available\")\n",
    "\n",
    "model = torchvision.models.alexnet(pretrained=True)\n",
    "model = model.to(my_device)\n",
    "model_input = model_input.to(my_device)\n",
    "\n",
    "model.eval()\n",
    "with torch.no_grad():\n",
    "    output = model(model_input)\n",
    "    \n",
    "print(output.shape)"
   ]
  },
  {
   "cell_type": "code",
   "execution_count": null,
   "id": "6dee0133",
   "metadata": {},
   "outputs": [],
   "source": [
    "# Read file with the ImageNet labels\n",
    "# https://raw.githubusercontent.com/pytorch/hub/master/imagenet_classes.txt\n",
    "\n",
    "imagenet_label_file = # DOWNLOAD THE ABOVE TEXT FILE AND SET THE PATH \n",
    "\n",
    "with open(imagenet_label_file, 'r') as f:\n",
    "    categories = [s.strip() for s in f.readlines()]\n",
    "\n",
    "probabilities = torch.nn.functional.softmax(output.squeeze(), dim=0)\n",
    "    \n",
    "# Show top categories per image\n",
    "top5_prob, top5_catid = torch.topk(probabilities, 5)\n",
    "\n",
    "for i in range(top5_prob.size(0)):\n",
    "    print( f'Class: {categories[top5_catid[i]]} with probability {100*top5_prob[i].item():5.2f}%' )"
   ]
  },
  {
   "cell_type": "code",
   "execution_count": null,
   "id": "f920090d",
   "metadata": {},
   "outputs": [],
   "source": [
    "from torchvision.models import AlexNet\n",
    "\n",
    "class AlexNetDescriptor(AlexNet):\n",
    "    def __init__(self):\n",
    "        super(self.__class__, self).__init__()\n",
    "        \n",
    "        self.classifier = torch.nn.Sequential(\n",
    "            torch.nn.Dropout(),\n",
    "            torch.nn.Linear(256 * 6 * 6, 4096),\n",
    "            torch.nn.ReLU(inplace=True),\n",
    "            torch.nn.Dropout(),\n",
    "            torch.nn.Linear(4096, 4096),\n",
    "#             torch.nn.ReLU(inplace=True),\n",
    "#             torch.nn.Linear(4096, num_classes),\n",
    "        )\n",
    "\n",
    "    def forward(self, x):\n",
    "        x = self.features(x)\n",
    "        x = self.avgpool(x)\n",
    "        x = torch.flatten(x, 1)\n",
    "        x = self.classifier(x)\n",
    "        return x"
   ]
  },
  {
   "cell_type": "code",
   "execution_count": null,
   "id": "13a6f725",
   "metadata": {},
   "outputs": [],
   "source": [
    "model_descriptor = AlexNetDescriptor()\n",
    "model_descriptor.eval()"
   ]
  },
  {
   "cell_type": "code",
   "execution_count": null,
   "id": "055bed90",
   "metadata": {},
   "outputs": [],
   "source": [
    "model.eval()"
   ]
  },
  {
   "cell_type": "code",
   "execution_count": null,
   "id": "e1b17903",
   "metadata": {},
   "outputs": [],
   "source": [
    "pretrained_dict = model_descriptor.state_dict()\n",
    "model_dict = model.state_dict()\n",
    "\n",
    "# 1. filter out keys not presented in the new model\n",
    "pretrained_dict = { k: v for k, v in pretrained_dict.items() if k in model_dict }\n",
    "# 2. overwrite entries in the existing state dict\n",
    "model_dict.update(pretrained_dict) \n",
    "# 3. load the new state dict\n",
    "model_descriptor.load_state_dict(pretrained_dict)"
   ]
  },
  {
   "cell_type": "code",
   "execution_count": null,
   "id": "e95db380",
   "metadata": {},
   "outputs": [],
   "source": [
    "model_input = my_transform(image) \n",
    "model_input = model_input.unsqueeze_(0)\n",
    "print(model_input.shape)\n",
    "\n",
    "if torch.cuda.is_available():\n",
    "    my_device = torch.device(\"cuda:0\")\n",
    "    print(\"Running on CUDA.\")\n",
    "else:\n",
    "    my_device = torch.device(\"cpu\")\n",
    "    print(\"No Cuda Available\")\n",
    "\n",
    "model_descriptor = model_descriptor.to(my_device)\n",
    "model_input = model_input.to(my_device)\n",
    "\n",
    "model_descriptor.eval()\n",
    "with torch.no_grad():\n",
    "    output = model_descriptor(model_input)\n",
    "    \n",
    "print(output.shape)"
   ]
  },
  {
   "cell_type": "code",
   "execution_count": null,
   "id": "b5baae7b",
   "metadata": {},
   "outputs": [],
   "source": [
    "model = model.to(my_device)\n",
    "\n",
    "with torch.no_grad():\n",
    "    output = model(model_input)\n",
    "    \n",
    "    \n",
    "print(output.shape)"
   ]
  },
  {
   "cell_type": "code",
   "execution_count": null,
   "id": "ea241efa",
   "metadata": {},
   "outputs": [],
   "source": [
    "with open(imagenet_label_file, 'r') as f:\n",
    "    categories = [s.strip() for s in f.readlines()]\n",
    "\n",
    "probabilities = torch.nn.functional.softmax(output[0], dim=0)\n",
    "    \n",
    "# Show top categories per image\n",
    "top5_prob, top5_catid = torch.topk(probabilities, 5)\n",
    "\n",
    "for i in range(top5_prob.size(0)):\n",
    "    print( f'Class: {categories[top5_catid[i]]} with probability {100*top5_prob[i].item():5.2f}%' )"
   ]
  }
 ],
 "metadata": {
  "kernelspec": {
   "display_name": "Python 3 (ipykernel)",
   "language": "python",
   "name": "python3"
  },
  "language_info": {
   "codemirror_mode": {
    "name": "ipython",
    "version": 3
   },
   "file_extension": ".py",
   "mimetype": "text/x-python",
   "name": "python",
   "nbconvert_exporter": "python",
   "pygments_lexer": "ipython3",
   "version": "3.8.10"
  }
 },
 "nbformat": 4,
 "nbformat_minor": 5
}
