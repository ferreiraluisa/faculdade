{
 "cells": [
  {
   "cell_type": "markdown",
   "id": "186b4d01",
   "metadata": {},
   "source": [
    "# Paths"
   ]
  },
  {
   "cell_type": "code",
   "execution_count": null,
   "id": "edb46185",
   "metadata": {},
   "outputs": [],
   "source": [
    "# SET THE FOLLOWING PATHS\n",
    "\n",
    "dataset_path      = # FLOWERS DATASET\n",
    "models_path       = # FOLDER TO SAVE THE MODEL\n",
    "tensorboard_path  = # FOLDER TO SAVE THE TENSORBOARD FILES"
   ]
  },
  {
   "cell_type": "markdown",
   "id": "096431d1",
   "metadata": {},
   "source": [
    "# Dataloader"
   ]
  },
  {
   "cell_type": "code",
   "execution_count": null,
   "id": "d8934365",
   "metadata": {},
   "outputs": [],
   "source": [
    "import matplotlib.pyplot as plt\n",
    "import numpy as np\n",
    "\n",
    "def my_tensor_image_show ( image , label=None ):\n",
    "    image = image.numpy().transpose((1, 2, 0))\n",
    "    mean = np.array([0.485, 0.456, 0.406])\n",
    "    std = np.array([0.229, 0.224, 0.225])\n",
    "    image = std * image + mean\n",
    "    image = np.clip(image, 0, 1)\n",
    "    plt.imshow(image)\n",
    "    plt.axis('off')\n",
    "    if label is None :\n",
    "        plt.title('Image in tensor format.')\n",
    "    else :\n",
    "        plt.title(f'Image in tensor format | Class: {label:2d}')\n",
    "    plt.show()    "
   ]
  },
  {
   "cell_type": "code",
   "execution_count": null,
   "id": "8fd32704",
   "metadata": {},
   "outputs": [],
   "source": [
    "import torchvision\n",
    "\n",
    "my_transform = torchvision.transforms.Compose([ \n",
    "                       torchvision.transforms.Resize(256), \n",
    "                       torchvision.transforms.CenterCrop(224), \n",
    "                       torchvision.transforms.ToTensor(),\n",
    "                       torchvision.transforms.Normalize(mean=[0.485, 0.456, 0.406],\n",
    "                                                         std=[0.229, 0.224, 0.225]\n",
    "                                                       ) ]\n",
    "                     )"
   ]
  },
  {
   "cell_type": "code",
   "execution_count": null,
   "id": "f55b1d08",
   "metadata": {},
   "outputs": [],
   "source": [
    "from sklearn.model_selection import train_test_split\n",
    "from torch.utils.data import Subset\n",
    "\n",
    "def train_test_dataset(dataset, test_split=0.25):\n",
    "    train_idx, test_idx = train_test_split(list(range(len(dataset))), test_size=test_split)\n",
    "    train_data = Subset(dataset, train_idx)\n",
    "    test_data = Subset(dataset, test_idx)\n",
    "    return train_data, test_data"
   ]
  },
  {
   "cell_type": "code",
   "execution_count": null,
   "id": "38b5b5b7",
   "metadata": {},
   "outputs": [],
   "source": [
    "import torch\n",
    "\n",
    "data = torchvision.datasets.ImageFolder(root=dataset_path, transform=my_transform)\n",
    "\n",
    "train_data, test_data = train_test_dataset(data, 0.30)\n",
    "\n",
    "batch_size = 128\n",
    "\n",
    "train_tensors = torch.utils.data.DataLoader(dataset=train_data, batch_size=batch_size, shuffle=True)\n",
    "test_tensors = torch.utils.data.DataLoader(dataset=test_data, batch_size=batch_size, shuffle=False)"
   ]
  },
  {
   "cell_type": "code",
   "execution_count": null,
   "id": "72b6c6ae",
   "metadata": {},
   "outputs": [],
   "source": [
    "images, labels = next(iter(train_tensors))\n",
    "my_tensor_image_show(images[0], label=labels[0])"
   ]
  },
  {
   "cell_type": "code",
   "execution_count": null,
   "id": "1399837d",
   "metadata": {},
   "outputs": [],
   "source": [
    "images, labels = next(iter(test_tensors))\n",
    "my_tensor_image_show(images[0], label=labels[0])"
   ]
  },
  {
   "cell_type": "markdown",
   "id": "6e8962c7",
   "metadata": {},
   "source": [
    "# Training"
   ]
  },
  {
   "cell_type": "code",
   "execution_count": null,
   "id": "a43f19fe",
   "metadata": {},
   "outputs": [],
   "source": [
    "from torch.utils.tensorboard import SummaryWriter\n",
    "\n",
    "import torch.optim \n",
    "import matplotlib.pyplot as plt\n",
    "  \n",
    "from datetime import datetime\n",
    "\n",
    "from tqdm import tqdm\n",
    "\n",
    "import copy\n",
    "\n",
    "def plot_layers ( net , writer, epoch ) :\n",
    "    layers = list(net.classifier.modules())\n",
    "    \n",
    "    layer_id = 1\n",
    "    for layer in layers:\n",
    "        if isinstance(layer, torch.nn.Linear) :\n",
    "\n",
    "            writer.add_histogram('Bias/conv{}'.format(layer_id), layer.bias, \n",
    "                                epoch )\n",
    "            writer.add_histogram('Weight/conv{}'.format(layer_id), layer.weight, \n",
    "                                epoch )\n",
    "            writer.add_histogram('Grad/conv{}'.format(layer_id), layer.weight.grad, \n",
    "                                    epoch )\n",
    "            layer_id += 1\n",
    "\n",
    "\n",
    "def train ( train_loader, test_loader, net, dataset_size, my_device='cpu',\n",
    "           prefix=None, upper_bound=100.0, save=False, epochs=100, \n",
    "           lr=1e-1, device='cpu', debug=False, layers2tensorboard=False , batch_size=64) :\n",
    "\n",
    "    optimizer = torch.optim.SGD(net.parameters(),lr=lr)\n",
    "    criterion = torch.nn.CrossEntropyLoss()\n",
    "    \n",
    "    now = datetime.now()\n",
    "    suffix = now.strftime(\"%Y%m%d_%H%M%S\")\n",
    "    prefix = suffix if prefix is None else prefix + '-' + suffix  \n",
    "\n",
    "    writer = SummaryWriter( log_dir=tensorboard_path+prefix )\n",
    "        \n",
    "    accuracies = []\n",
    "    max_accuracy = -1.0  \n",
    "\n",
    "    for epoch in tqdm(range(epochs), desc='Training epochs...') :\n",
    "        net.train()\n",
    "        for idx, (train_x, train_label) in enumerate(train_loader):\n",
    "            train_x = train_x.to(device)\n",
    "            train_label = train_label.to(device)\n",
    "\n",
    "            predict_y = net( train_x )\n",
    "            \n",
    "            # Loss:\n",
    "            error = criterion( predict_y , train_label )\n",
    "\n",
    "            writer.add_scalar( 'Loss/train', error.cpu().item(), \n",
    "                                idx+( epoch*(dataset_size//batch_size) ) )\n",
    "\n",
    "            # Back propagation\n",
    "            optimizer.zero_grad()\n",
    "            error.backward()\n",
    "            optimizer.step()\n",
    "            \n",
    "            # Accuracy:\n",
    "            predict_ys = torch.max( predict_y, axis=1 )[1]\n",
    "            correct    = torch.sum(predict_ys == train_label)\n",
    "\n",
    "            writer.add_scalar( 'Accuracy/train', correct/train_x.size(0), \n",
    "                                idx+( epoch*(dataset_size//batch_size) ) )\n",
    "\n",
    "            if debug and idx % 10 == 0 :\n",
    "                print( f'idx: {idx:4d}, _error: {error.cpu().item():5.2f}' )\n",
    "\n",
    "        if layers2tensorboard :\n",
    "            plot_layers( net, writer, epoch )\n",
    "\n",
    "        accuracy = validate(net, test_loader, device=device)\n",
    "        accuracies.append(accuracy)\n",
    "        writer.add_scalar( 'Accuracy/test', accuracy, epoch )\n",
    "        \n",
    "        if accuracy > max_accuracy :\n",
    "            best_model = copy.deepcopy(net)\n",
    "            max_accuracy = accuracy\n",
    "            print(\"Saving Best Model with Accuracy: \", accuracy)\n",
    "        \n",
    "        print( f'Epoch: {epoch+1:3d} | Accuracy : {accuracy:7.4f}%' )\n",
    "\n",
    "        if accuracy > upper_bound :\n",
    "            break\n",
    "    \n",
    "    if save : \n",
    "        path = f'{models_path}AlexNet-{dataset}-{max_accuracy:.2f}.pkl'\n",
    "        torch.save(best_model, path)\n",
    "        print('Model saved in:',path)\n",
    "    \n",
    "    plt.plot(accuracies)\n",
    "\n",
    "    writer.flush()\n",
    "    writer.close()\n",
    "    \n",
    "    return best_model    "
   ]
  },
  {
   "cell_type": "markdown",
   "id": "af14bae2",
   "metadata": {},
   "source": [
    "# Validation"
   ]
  },
  {
   "cell_type": "code",
   "execution_count": null,
   "id": "7125dc79",
   "metadata": {},
   "outputs": [],
   "source": [
    "def validate ( model , data , device='cpu') :\n",
    "\n",
    "    model.eval()\n",
    "\n",
    "    correct = 0\n",
    "    sum = 0\n",
    "    \n",
    "    for idx, (test_x, test_label) in enumerate(data) : \n",
    "        test_x = test_x.to(device)\n",
    "        test_label = test_label.to(device)\n",
    "        predict_y = model( test_x ).detach()\n",
    "        predict_ys = torch.max( predict_y, axis=1 )[1]\n",
    "        sum = sum + test_x.size(0)\n",
    "        correct = correct + torch.sum(predict_ys == test_label)\n",
    "        correct = correct.cpu().item()\n",
    "    \n",
    "    return correct*100./sum"
   ]
  },
  {
   "cell_type": "markdown",
   "id": "1c116f89",
   "metadata": {},
   "source": [
    "# Run"
   ]
  },
  {
   "cell_type": "code",
   "execution_count": null,
   "id": "05d2f4b2",
   "metadata": {},
   "outputs": [],
   "source": [
    "model = torchvision.models.alexnet(pretrained=True)\n",
    "model.eval()\n",
    "\n",
    "for param in model.parameters():\n",
    "    param.requires_grad = False\n",
    "\n",
    "model.classifier[6] = torch.nn.Linear(4096,17)\n",
    "model.classifier[6].requires_grad = True\n",
    "# model.classifier[4].requires_grad = True\n",
    "# model.classifier[1].requires_grad = True"
   ]
  },
  {
   "cell_type": "code",
   "execution_count": null,
   "id": "198c4476",
   "metadata": {},
   "outputs": [],
   "source": [
    "if torch.cuda.is_available():\n",
    "    my_device = torch.device(\"cuda:0\")\n",
    "    print(\"Running on CUDA.\")\n",
    "else:\n",
    "    my_device = torch.device(\"cpu\")\n",
    "    print(\"No Cuda Available\")\n",
    "    \n",
    "my_device = 'cpu'\n",
    "model = model.to(my_device)\n",
    "\n",
    "epochs = 100\n",
    "lr = 1e-3\n",
    "dataset = 'flowers'\n",
    "prefix = 'AlexNet-TL-{}-e-{}-lr-{}'.format(dataset, epochs, lr)\n",
    "\n",
    "torch.cuda.empty_cache()\n",
    "\n",
    "net = train(train_tensors, test_tensors, model, len(train_data),\n",
    "            epochs=epochs, device=my_device, save=False, \n",
    "            prefix=prefix, lr=lr, layers2tensorboard=True, batch_size=batch_size)"
   ]
  }
 ],
 "metadata": {
  "kernelspec": {
   "display_name": "Python 3 (ipykernel)",
   "language": "python",
   "name": "python3"
  },
  "language_info": {
   "codemirror_mode": {
    "name": "ipython",
    "version": 3
   },
   "file_extension": ".py",
   "mimetype": "text/x-python",
   "name": "python",
   "nbconvert_exporter": "python",
   "pygments_lexer": "ipython3",
   "version": "3.8.10"
  }
 },
 "nbformat": 4,
 "nbformat_minor": 5
}
