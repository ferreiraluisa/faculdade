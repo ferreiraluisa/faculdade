{
 "cells": [
  {
   "cell_type": "markdown",
   "id": "945a5089",
   "metadata": {},
   "source": [
    "## Atividade 04\n",
    "Com base no código de treinamento de rede neural apresentado durante a aula, modifique o código para que a rede seja treinada utilizando batches e não mais utilizando todo o conjunto de dados. Algumas observações:\n",
    "\n",
    "1. O batch é criado somente no treinamento.\n",
    "2. O teste é executado somente uma vez por época.\n",
    "\n",
    "Compare o aprendizado entre o treinamento utilizando batch e o treinamento utilizando o dataset inteiro. A métrica pode ser quantas épocas são necessárias para ter acurácia 100% no teste."
   ]
  },
  {
   "cell_type": "markdown",
   "id": "4dc99e0b",
   "metadata": {},
   "source": [
    "**Test with Iris dataset and Test and train split function**"
   ]
  },
  {
   "cell_type": "code",
   "execution_count": 50,
   "id": "cfcd81ed",
   "metadata": {},
   "outputs": [
    {
     "name": "stdout",
     "output_type": "stream",
     "text": [
      "(120, 4)\n",
      "(120,)\n",
      "(30, 4)\n",
      "(30,)\n"
     ]
    }
   ],
   "source": [
    "from sklearn.datasets import load_iris\n",
    "from sklearn.model_selection import train_test_split\n",
    "#loading dataset\n",
    "iris = load_iris()\n",
    "X, y = iris.data, iris.target\n",
    "X_train,X_test,y_train,y_test=train_test_split(X,y,test_size=0.2,random_state=1)\n",
    "print(X_train.shape)\n",
    "print(y_train.shape)\n",
    "print(X_test.shape)\n",
    "print(y_test.shape)"
   ]
  },
  {
   "cell_type": "markdown",
   "id": "8e91eded",
   "metadata": {},
   "source": [
    "### Architecture definition"
   ]
  },
  {
   "cell_type": "code",
   "execution_count": 51,
   "id": "79367c24",
   "metadata": {},
   "outputs": [],
   "source": [
    "import torch.nn as nn\n",
    "\n",
    "class ANN(nn.Module) :\n",
    "    def __init__(self, num_classes=3):\n",
    "        super(self.__class__, self).__init__()\n",
    "\n",
    "        self.fullyConnected = nn.Sequential(\n",
    "            nn.Linear(in_features=4, out_features=10), #out_features are the same in_features in next nn.Linear\n",
    "            nn.ReLU(),\n",
    "            nn.Linear(in_features=10, out_features=20),\n",
    "            nn.ReLU(),\n",
    "            nn.Linear(in_features=20, out_features=num_classes),\n",
    "        )\n",
    "    \n",
    "    def forward(self, x, debug=False):\n",
    "        if debug : print('input',x.shape)\n",
    "        y = self.fullyConnected(x)\n",
    "        if debug : print('output',y.shape)\n",
    "        return y"
   ]
  },
  {
   "cell_type": "markdown",
   "id": "76e62a9e",
   "metadata": {},
   "source": [
    "### Model analysis"
   ]
  },
  {
   "cell_type": "code",
   "execution_count": 52,
   "id": "62836bf8",
   "metadata": {},
   "outputs": [
    {
     "name": "stdout",
     "output_type": "stream",
     "text": [
      "Running on CUDA.\n",
      "input torch.Size([1, 4])\n",
      "output torch.Size([1, 3])\n"
     ]
    }
   ],
   "source": [
    "import torch\n",
    "\n",
    "if torch.cuda.is_available():\n",
    "    my_device = torch.device(\"cuda:0\")\n",
    "    print(\"Running on CUDA.\")\n",
    "else:\n",
    "    my_device = torch.device(\"cpu\")\n",
    "    print(\"No Cuda Available\")\n",
    "\n",
    "net = ANN( num_classes=3 )\n",
    "\n",
    "net = net.to(my_device)\n",
    "\n",
    "a = torch.rand( (1, 4) )\n",
    "a = a.to(my_device)\n",
    "b = net( a , debug=True )\n",
    "\n",
    "del a, b, net"
   ]
  },
  {
   "cell_type": "code",
   "execution_count": 53,
   "id": "68ba230a",
   "metadata": {},
   "outputs": [
    {
     "name": "stdout",
     "output_type": "stream",
     "text": [
      "=================================================================\n",
      "Layer (type:depth-idx)                   Param #\n",
      "=================================================================\n",
      "├─Sequential: 1-1                        --\n",
      "|    └─Linear: 2-1                       50\n",
      "|    └─ReLU: 2-2                         --\n",
      "|    └─Linear: 2-3                       220\n",
      "|    └─ReLU: 2-4                         --\n",
      "|    └─Linear: 2-5                       63\n",
      "=================================================================\n",
      "Total params: 333\n",
      "Trainable params: 333\n",
      "Non-trainable params: 0\n",
      "=================================================================\n"
     ]
    }
   ],
   "source": [
    "from torchsummary import summary\n",
    "\n",
    "net = ANN( num_classes=3 )\n",
    "\n",
    "net = net.to(my_device)\n",
    "#calcular quantidade de parametros\n",
    "summary(net, input_size=(120, 4), batch_size=1)\n",
    "\n",
    "del net"
   ]
  },
  {
   "cell_type": "markdown",
   "id": "a69ebc08",
   "metadata": {},
   "source": [
    "### Training functions -  Batch based learning steps"
   ]
  },
  {
   "cell_type": "code",
   "execution_count": 54,
   "id": "b2251ed4",
   "metadata": {},
   "outputs": [],
   "source": [
    "from sklearn.model_selection import train_test_split\n",
    "from datetime import datetime\n",
    "\n",
    "from torch.utils.tensorboard import SummaryWriter\n",
    "\n",
    "import matplotlib.pyplot as plt\n",
    "import copy\n",
    "from tqdm import tqdm\n",
    "\n",
    "from torch.utils.data import DataLoader, TensorDataset\n",
    "\n",
    "import numpy as np\n",
    "\n",
    "def train_batch ( dataset, prefix=None, upper_bound=101.0, save=False, epochs=100, \n",
    "           lr=1e-1, device='cpu', debug=False, layers2tensorboard=True, lambda_reg=0, batch_size=32 ) :\n",
    "    \n",
    "    num_classes = 3\n",
    "    \n",
    "    tensorboard_path = 'logs/' # Setar o caminho para salvar o log para o TensorBoard\n",
    "  \n",
    "    net = ANN( num_classes )\n",
    "    net.to(device)\n",
    "\n",
    "    optimizer = torch.optim.SGD(net.parameters(), lr=lr, weight_decay=lambda_reg)\n",
    "    criterion = nn.CrossEntropyLoss()\n",
    "\n",
    "    now = datetime.now()\n",
    "    suffix = now.strftime(\"%Y%m%d_%H%M%S\")\n",
    "    prefix = suffix if prefix is None else prefix + '-' + suffix  \n",
    "\n",
    "    writer = SummaryWriter( log_dir=tensorboard_path+prefix )\n",
    "    \n",
    "    accuracies = []\n",
    "    max_accuracy = -1.0  \n",
    "    smallest_loss = float('inf')\n",
    "    \n",
    "    # Present the data to the model\n",
    "    data_loader = train_test_split( dataset.data,\n",
    "                                     dataset.target,\n",
    "                                     test_size=0.2,\n",
    "                                     random_state=1 )\n",
    "    \n",
    "    train_x,test_x,train_label,test_label = data_loader\n",
    "    \n",
    "    train_x = torch.from_numpy(train_x).float()\n",
    "    train_x = train_x.to(device)\n",
    "    train_label = torch.from_numpy(train_label).float()\n",
    "    train_label = train_label.to(device)\n",
    "    \n",
    "    test_x = torch.from_numpy(test_x).float()\n",
    "    test_x = test_x.to(device)\n",
    "    test_label = torch.from_numpy(test_label).float()\n",
    "    test_label = test_label.to(device)\n",
    "    \n",
    "    #Split the data into batches\n",
    "    #train_set = TensorDataset(train_x, train_label)\n",
    "    #train_loader = DataLoader(train_set, batch_size=batch_size, shuffle=True)\n",
    "    num_batches =  int(np.ceil(len(train_x) / batch_size))\n",
    "    train_loader = []\n",
    "    for i in range(0, num_batches):\n",
    "        batch_x = train_x[(i * batch_size): ((i+1) * batch_size)]\n",
    "        batch_label = train_label[(i * batch_size): ((i+1) * batch_size)]\n",
    "        train_loader.append((batch_x, batch_label))\n",
    "        \n",
    "\n",
    "\n",
    "    writer.add_graph(net, train_x)\n",
    "    \n",
    "    for epoch in tqdm( range(epochs) , desc='Training epochs...' ) :\n",
    "        \n",
    "        net.train()\n",
    "        epoch_loss = 0\n",
    "        \n",
    "        #For each batch of the data\n",
    "        for batch_x, batch_label in train_loader:\n",
    "            optimizer.zero_grad() #reset gradients of all the parameters to zero before computing the gradients\n",
    "            #for the next batch\n",
    "            \n",
    "            #For each sample of the batch, calculate the loss\n",
    "            predict_y = net(batch_x.to(device))\n",
    "            error = criterion(predict_y, batch_label.to(device).long())\n",
    "            \n",
    "            # Back propagation\n",
    "            error.backward()\n",
    "            optimizer.step()\n",
    "\n",
    "            epoch_loss += error.item()\n",
    "        #calculate the full loss\n",
    "        full_loss = epoch_loss / len(train_loader)\n",
    "        \n",
    "        accuracy_test = validate(net, test_x, test_label, device=device)\n",
    "        accuracies.append(accuracy_test)\n",
    "        \n",
    "        writer.add_scalar( 'Loss/train', full_loss, epoch )\n",
    "        writer.add_scalar( 'Accuracy/train', accuracy_test, epoch )\n",
    "        writer.add_scalar( 'Accuracy/test', accuracy_test, epoch )\n",
    "        if layers2tensorboard :\n",
    "           plot_layers( net, writer, epoch ) \n",
    "\n",
    "        #Test Model\n",
    "        if accuracy_test > max_accuracy:\n",
    "            best_model = copy.deepcopy(net)\n",
    "            max_accuracy = accuracies[-1]\n",
    "            print(f'Saving the best model at epoch {epoch+1:3d} ' + \n",
    "                    f'with Accuracy: {max_accuracy:8.4f}%')\n",
    "            \n",
    "      \n",
    "        if debug : print( f'Epoch: {epoch+1:3d} |' \n",
    "                         + f'Accuracy Test: {accuracy_test:3.4f}%' )\n",
    "\n",
    "        if accuracy_test > upper_bound :\n",
    "            break\n",
    "    \n",
    "    if save : \n",
    "        models_path = '' # Setar o caminho para salvar o modelo final\n",
    "        path = f'{models_path}ANN-iris-{max_accuracy:.2f}.pkl'\n",
    "        torch.save( best_model, path )\n",
    "        print( f'Model saved in: {path}' )\n",
    "  \n",
    "    plt.figure(figsize=(16, 8))\n",
    "    plt.plot(accuracies)\n",
    "\n",
    "    writer.flush()\n",
    "    writer.close()\n",
    "\n",
    "    return best_model\n"
   ]
  },
  {
   "cell_type": "markdown",
   "id": "b38bcf9a",
   "metadata": {},
   "source": [
    "### Training functions "
   ]
  },
  {
   "cell_type": "code",
   "execution_count": 55,
   "id": "aa84af62",
   "metadata": {},
   "outputs": [],
   "source": [
    "from sklearn.model_selection import train_test_split\n",
    "from datetime import datetime\n",
    "\n",
    "from torch.utils.tensorboard import SummaryWriter\n",
    "\n",
    "import matplotlib.pyplot as plt\n",
    "import copy\n",
    "from tqdm import tqdm\n",
    "\n",
    "def train ( dataset, prefix=None, upper_bound=101.0, save=False, epochs=100, \n",
    "           lr=1e-1, device='cpu', debug=False, layers2tensorboard=True, lambda_reg=0, batch_size = 30 ) :\n",
    "    \n",
    "    num_classes = 3\n",
    "    \n",
    "    tensorboard_path = 'logs/' # Setar o caminho para salvar o log para o TensorBoard\n",
    "  \n",
    "    net = ANN( num_classes )\n",
    "    net.to(device)\n",
    "\n",
    "    optimizer = torch.optim.SGD(net.parameters(), lr=lr, weight_decay=lambda_reg)\n",
    "    criterion = nn.CrossEntropyLoss()\n",
    "\n",
    "    now = datetime.now()\n",
    "    suffix = now.strftime(\"%Y%m%d_%H%M%S\")\n",
    "    prefix = suffix if prefix is None else prefix + '-batch-' + suffix  \n",
    "\n",
    "    writer = SummaryWriter( log_dir=tensorboard_path+prefix )\n",
    "    \n",
    "    accuracies = []\n",
    "    max_accuracy = -1.0  \n",
    "    #1. Present the data to the model\n",
    "    data_loader = train_test_split( dataset.data,\n",
    "                                     dataset.target,\n",
    "                                     test_size=0.2,\n",
    "                                     random_state=1 )\n",
    "    \n",
    "    train_x,test_x,train_label,test_label = data_loader\n",
    "    \n",
    "    train_x = torch.from_numpy(train_x).float()\n",
    "    train_x = train_x.to(device)\n",
    "    train_label = torch.from_numpy(train_label).float()\n",
    "    train_label = train_label.to(device)\n",
    "    \n",
    "    test_x = torch.from_numpy(test_x).float()\n",
    "    test_x = test_x.to(device)\n",
    "    test_label = torch.from_numpy(test_label).float()\n",
    "    test_label = test_label.to(device)\n",
    "    \n",
    "    writer.add_graph(net, train_x)\n",
    "    \n",
    "    for epoch in tqdm( range(epochs) , desc='Training epochs...' ) :\n",
    "        \n",
    "        # Set Pytorch variables\n",
    "        net.train()\n",
    "        optimizer.zero_grad()\n",
    "                            \n",
    "        # Forward step\n",
    "        predict_y = net( train_x )\n",
    "        \n",
    "        # Loss\n",
    "        error = criterion( predict_y , train_label.long() )\n",
    "\n",
    "        # Back propagation\n",
    "        error.backward()\n",
    "        optimizer.step()\n",
    "\n",
    "        # Accuracies:\n",
    "        predict_ys = torch.max( predict_y, axis=1 )[1]\n",
    "        correct    = torch.sum( predict_ys == train_label )\n",
    "        accuracy_train = correct/train_x.size(0)\n",
    "        \n",
    "        accuracy_test = validate(net, test_x, test_label, device=device)\n",
    "        accuracies.append(accuracy_test)\n",
    "        \n",
    "        # Tensor board writing\n",
    "        writer.add_scalar( 'Loss/train', error.item(), epoch )\n",
    "        writer.add_scalar( 'Accuracy/train', accuracy_train, epoch )\n",
    "        writer.add_scalar( 'Accuracy/test', accuracy_test, epoch )\n",
    "\n",
    "        if layers2tensorboard :\n",
    "            plot_layers( net, writer, epoch )\n",
    "\n",
    "        # Test model\n",
    "        if accuracy_test > max_accuracy:\n",
    "            best_model = copy.deepcopy(net)\n",
    "            max_accuracy = accuracy_test\n",
    "            print(f'Saving the best model at epoch {epoch+1:3d} ' + \n",
    "                    f'with Accuracy: {accuracy_test:8.4f}%')\n",
    "      \n",
    "        if debug : print( f'Epoch: {epoch+1:3d} |' \n",
    "                         + f'Accuracy Test: {accuracy_test:3.4f}%' )\n",
    "\n",
    "        if accuracy_test > upper_bound :\n",
    "            break\n",
    "   \n",
    "    if save : \n",
    "        models_path = '' # Setar o caminho para salvar o modelo final\n",
    "        path = f'{models_path}ANN-iris-{max_accuracy:.2f}.pkl'\n",
    "        torch.save( best_model, path )\n",
    "        print( f'Model saved in: {path}' )\n",
    "  \n",
    "    plt.figure(figsize=(16, 8))\n",
    "    plt.plot(accuracies)\n",
    "\n",
    "    writer.flush()\n",
    "    writer.close()\n",
    "\n",
    "    return best_model"
   ]
  },
  {
   "cell_type": "code",
   "execution_count": 56,
   "id": "96c76a6a",
   "metadata": {},
   "outputs": [],
   "source": [
    "def validate ( model , test_x, test_label , device='cpu') :\n",
    "\n",
    "    model.eval()\n",
    "\n",
    "    correct = 0\n",
    "    sum = 0\n",
    "\n",
    "    predict_y = model( test_x ).detach()\n",
    "    predict_ys = torch.max( predict_y, axis=1 )[1]\n",
    "    sum = sum + test_x.size(0)\n",
    "    correct = correct + torch.sum(predict_ys == test_label)\n",
    "  \n",
    "    return correct.to('cpu').numpy()*100./sum"
   ]
  },
  {
   "cell_type": "code",
   "execution_count": 57,
   "id": "3bc4db77",
   "metadata": {},
   "outputs": [],
   "source": [
    "def plot_layers ( net , writer, epoch ) :\n",
    "    layers = list(net.fullyConnected.modules())\n",
    "\n",
    "    layer_id = 1\n",
    "    for layer in layers:\n",
    "        if isinstance(layer, nn.Linear) :\n",
    "            writer.add_histogram(f'Bias/linear-{layer_id}', layer.bias, epoch )\n",
    "            writer.add_histogram(f'Weight/linear-{layer_id}', layer.weight, epoch )\n",
    "            writer.add_histogram(f'Grad/linear-{layer_id}', layer.weight.grad, epoch )\n",
    "            layer_id += 1"
   ]
  },
  {
   "cell_type": "markdown",
   "id": "60471744",
   "metadata": {},
   "source": [
    "### Run the training phase"
   ]
  },
  {
   "cell_type": "code",
   "execution_count": 63,
   "id": "dc00a384",
   "metadata": {},
   "outputs": [
    {
     "name": "stdout",
     "output_type": "stream",
     "text": [
      "Running on CUDA.\n"
     ]
    },
    {
     "name": "stderr",
     "output_type": "stream",
     "text": [
      "Training epochs...:   1%|█▋                                                                                                                                                                                                                       | 4/500 [00:00<00:14, 34.39it/s]"
     ]
    },
    {
     "name": "stdout",
     "output_type": "stream",
     "text": [
      "Saving the best model at epoch   1 with Accuracy:  20.0000%\n"
     ]
    },
    {
     "name": "stderr",
     "output_type": "stream",
     "text": [
      "Training epochs...:   3%|██████▉                                                                                                                                                                                                                 | 16/500 [00:00<00:13, 35.62it/s]"
     ]
    },
    {
     "name": "stdout",
     "output_type": "stream",
     "text": [
      "Saving the best model at epoch   9 with Accuracy:  26.6667%\n",
      "Saving the best model at epoch  10 with Accuracy:  46.6667%\n",
      "Saving the best model at epoch  11 with Accuracy:  53.3333%\n",
      "Saving the best model at epoch  12 with Accuracy:  56.6667%\n"
     ]
    },
    {
     "name": "stderr",
     "output_type": "stream",
     "text": [
      "Training epochs...:  10%|██████████████████████▍                                                                                                                                                                                                 | 52/500 [00:01<00:12, 34.92it/s]"
     ]
    },
    {
     "name": "stdout",
     "output_type": "stream",
     "text": [
      "Saving the best model at epoch  46 with Accuracy:  60.0000%\n"
     ]
    },
    {
     "name": "stderr",
     "output_type": "stream",
     "text": [
      "Training epochs...:  16%|█████████████████████████████████▋                                                                                                                                                                                      | 78/500 [00:02<00:10, 39.54it/s]"
     ]
    },
    {
     "name": "stdout",
     "output_type": "stream",
     "text": [
      "Saving the best model at epoch  72 with Accuracy:  66.6667%\n",
      "Saving the best model at epoch  74 with Accuracy:  70.0000%\n",
      "Saving the best model at epoch  76 with Accuracy:  73.3333%\n"
     ]
    },
    {
     "name": "stderr",
     "output_type": "stream",
     "text": [
      "Training epochs...:  17%|████████████████████████████████████▋                                                                                                                                                                                   | 85/500 [00:02<00:11, 35.84it/s]"
     ]
    },
    {
     "name": "stdout",
     "output_type": "stream",
     "text": [
      "Saving the best model at epoch  80 with Accuracy:  80.0000%\n",
      "Saving the best model at epoch  82 with Accuracy:  83.3333%\n",
      "Saving the best model at epoch  84 with Accuracy:  96.6667%\n",
      "Saving the best model at epoch  86 with Accuracy: 100.0000%\n"
     ]
    },
    {
     "name": "stderr",
     "output_type": "stream",
     "text": [
      "\n"
     ]
    },
    {
     "data": {
      "image/png": "[encoded data removed]",
      "text/plain": [
       "<Figure size 1600x800 with 1 Axes>"
      ]
     },
     "metadata": {},
     "output_type": "display_data"
    }
   ],
   "source": [
    "from sklearn.datasets import load_iris\n",
    "\n",
    "if torch.cuda.is_available():\n",
    "    my_device = torch.device(\"cuda:0\")\n",
    "    print(\"Running on CUDA.\")\n",
    "else:\n",
    "    my_device = torch.device(\"cpu\")\n",
    "    print(\"No Cuda Available\")\n",
    "    \n",
    "dataset = 'Iris'\n",
    "epochs = 500\n",
    "lr = 1e-1\n",
    "lambda_reg = 1e-1\n",
    "prefix = 'ANN-{}-e-{}-lr-{}'.format(dataset, epochs, lr)\n",
    "\n",
    "iris = load_iris()\n",
    "dataset = iris\n",
    "\n",
    "net = train( dataset=dataset, epochs=epochs, device=my_device, \n",
    "            upper_bound=99.9, lr=lr, lambda_reg=lambda_reg,\n",
    "            layers2tensorboard=True, save=False, prefix=prefix\n",
    "           )\n",
    "#Era a versão do numpy que deu problema que te perguntei em sala, abaixei para a versão 1.20.0 e foi"
   ]
  },
  {
   "cell_type": "code",
   "execution_count": 64,
   "id": "1e5988d9",
   "metadata": {},
   "outputs": [
    {
     "name": "stdout",
     "output_type": "stream",
     "text": [
      "Running on CUDA.\n"
     ]
    },
    {
     "name": "stderr",
     "output_type": "stream",
     "text": [
      "Training epochs...:   1%|█▎                                                                                                                                                                                                                       | 3/500 [00:00<00:19, 25.58it/s]"
     ]
    },
    {
     "name": "stdout",
     "output_type": "stream",
     "text": [
      "Saving the best model at epoch   1 with Accuracy:  20.0000%\n",
      "Saving the best model at epoch   3 with Accuracy:  56.6667%\n",
      "Saving the best model at epoch   4 with Accuracy:  60.0000%\n"
     ]
    },
    {
     "name": "stderr",
     "output_type": "stream",
     "text": [
      "Training epochs...:   3%|█████▌                                                                                                                                                                                                                  | 13/500 [00:00<00:17, 27.54it/s]"
     ]
    },
    {
     "name": "stdout",
     "output_type": "stream",
     "text": [
      "Saving the best model at epoch   9 with Accuracy:  76.6667%\n",
      "Saving the best model at epoch  10 with Accuracy:  86.6667%\n",
      "Saving the best model at epoch  11 with Accuracy:  96.6667%\n",
      "Saving the best model at epoch  14 with Accuracy: 100.0000%\n"
     ]
    },
    {
     "name": "stderr",
     "output_type": "stream",
     "text": [
      "\n"
     ]
    },
    {
     "data": {
      "image/png": "[encoded data removed]",
      "text/plain": [
       "<Figure size 1600x800 with 1 Axes>"
      ]
     },
     "metadata": {},
     "output_type": "display_data"
    }
   ],
   "source": [
    "from sklearn.datasets import load_iris\n",
    "\n",
    "if torch.cuda.is_available():\n",
    "    my_device = torch.device(\"cuda:0\")\n",
    "    print(\"Running on CUDA.\")\n",
    "else:\n",
    "    my_device = torch.device(\"cpu\")\n",
    "    print(\"No Cuda Available\")\n",
    "    \n",
    "dataset = 'Iris'\n",
    "epochs = 500\n",
    "lr = 1e-1\n",
    "lambda_reg = 1e-1\n",
    "prefix = 'ANN-{}-e-{}-lr-{}'.format(dataset, epochs, lr)\n",
    "\n",
    "iris = load_iris()\n",
    "dataset = iris\n",
    "\n",
    "\n",
    "net = train_batch( dataset=dataset, epochs=epochs, device=my_device, \n",
    "                upper_bound=99.9, lr=lr, lambda_reg=lambda_reg,\n",
    "                layers2tensorboard=True, save=False, prefix=prefix, batch_size = 30\n",
    "               )\n"
   ]
  },
  {
   "cell_type": "markdown",
   "id": "990f30f0",
   "metadata": {},
   "source": [
    "## Conclusion\n",
    "In conclusion, we achieved 100% accuracy in both batch size learning and all-at-once training methods. However, with a batch size of 30, we achieved this accuracy faster, reaching it in epoch 14, compared to epoch 86 in the all-at-once method. This demonstrates the efficiency of using batch size learning in training models."
   ]
  },
  {
   "cell_type": "code",
   "execution_count": 13,
   "id": "5571c466",
   "metadata": {},
   "outputs": [
    {
     "name": "stdout",
     "output_type": "stream",
     "text": [
      "1.20.0\n",
      "1.12.1+cu113\n"
     ]
    }
   ],
   "source": [
    "import numpy\n",
    "print(numpy.__version__)\n",
    "print(torch.__version__)"
   ]
  }
 ],
 "metadata": {
  "kernelspec": {
   "display_name": "Python 3 (ipykernel)",
   "language": "python",
   "name": "python3"
  },
  "language_info": {
   "codemirror_mode": {
    "name": "ipython",
    "version": 3
   },
   "file_extension": ".py",
   "mimetype": "text/x-python",
   "name": "python",
   "nbconvert_exporter": "python",
   "pygments_lexer": "ipython3",
   "version": "3.8.10"
  }
 },
 "nbformat": 4,
 "nbformat_minor": 5
}
