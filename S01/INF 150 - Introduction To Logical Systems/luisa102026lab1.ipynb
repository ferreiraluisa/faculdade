{
  "nbformat": 4,
  "nbformat_minor": 0,
  "metadata": {
    "colab": {
      "name": "Luisa102026.ipynb",
      "provenance": [],
      "include_colab_link": true
    },
    "kernelspec": {
      "name": "python3",
      "display_name": "Python 3"
    }
  },
  "cells": [
    {
      "cell_type": "markdown",
      "metadata": {
        "id": "view-in-github",
        "colab_type": "text"
      },
      "source": [
        "<a href=\"https://colab.research.google.com/github/ferreiraluisa/faculdade/blob/main/Luisa102026lab1.ipynb\" target=\"_parent\"><img src=\"https://colab.research.google.com/assets/colab-badge.svg\" alt=\"Open In Colab\"/></a>"
      ]
    },
    {
      "cell_type": "markdown",
      "metadata": {
        "id": "ee1-DAfeZIjk"
      },
      "source": [
        "# **Sistemas de Numeração**\n",
        "A primeira coisa que você deve fazer é gravar uma cópia local para você editar e fazer o seu laboratório. Ir em Arquivo (ou File) e Salvar uma cópia no Drive (Save a copy in Drive). Uma vez concluído o exercício, enviar o link compartilhado pelo Classroom. [Qualquer dúvida assistir o vídeo](https://www.youtube.com/watch?v=SmxgtQirgvs&feature=emb_logo).\n",
        "\n",
        "Este laboratório tem exercícios com codificação binária e hexadecimal, representação de caracteres com código ASCII, conversão de base binário, decimal, hexadecimal. Além da introdução na aritmética binária sem sinal e com sinal em complemento de 2. \n",
        "\n",
        "Algumas tarefas irão usar códigos em linguagem C/C++ para correção. Mas não é necessário conhecimentos de programação pois as tarefas são bem simples. A proposta que os exemplos de código sejam utéis para introdução a programação em C/C++ e estabelecer ligações entre a linguagem e a codificação dos dados.\n",
        "\n"
      ]
    },
    {
      "cell_type": "markdown",
      "metadata": {
        "id": "OwIsdemibf3p"
      },
      "source": [
        "## **Configurando o Google Lab (colab)**\n",
        "Executar o comando abaixo para permitir a execução de códigos em C/C++."
      ]
    },
    {
      "cell_type": "code",
      "metadata": {
        "id": "y_ZWVHXlY5cp",
        "colab": {
          "base_uri": "https://localhost:8080/",
          "height": 336
        },
        "outputId": "8a3808bf-6dfa-4249-c917-23e5e8f64fac"
      },
      "source": [
        "!pip install git+git://github.com/canesche/nvcc4jupyter.git\n",
        "!git clone https://github.com/canesche/nvcc4jupyter\n",
        "%load_ext nvcc_plugin"
      ],
      "execution_count": null,
      "outputs": [
        {
          "output_type": "stream",
          "text": [
            "Collecting git+git://github.com/canesche/nvcc4jupyter.git\n",
            "  Cloning git://github.com/canesche/nvcc4jupyter.git to /tmp/pip-req-build-je8mnu_s\n",
            "  Running command git clone -q git://github.com/canesche/nvcc4jupyter.git /tmp/pip-req-build-je8mnu_s\n",
            "Building wheels for collected packages: NVCCPlugin\n",
            "  Building wheel for NVCCPlugin (setup.py) ... \u001b[?25l\u001b[?25hdone\n",
            "  Created wheel for NVCCPlugin: filename=NVCCPlugin-0.0.3-cp36-none-any.whl size=7840 sha256=6a95095378ff76bdc031d3889934e2e6df41f1b6afb046920093e205445c6af8\n",
            "  Stored in directory: /tmp/pip-ephem-wheel-cache-e7s05hht/wheels/87/ae/09/21c6e192181a0472e20ddd1d5212e2cbb113f00ebe14330d0d\n",
            "Successfully built NVCCPlugin\n",
            "Installing collected packages: NVCCPlugin\n",
            "Successfully installed NVCCPlugin-0.0.3\n",
            "Cloning into 'nvcc4jupyter'...\n",
            "remote: Enumerating objects: 185, done.\u001b[K\n",
            "remote: Counting objects: 100% (185/185), done.\u001b[K\n",
            "remote: Compressing objects: 100% (114/114), done.\u001b[K\n",
            "remote: Total 481 (delta 104), reused 130 (delta 51), pack-reused 296\u001b[K\n",
            "Receiving objects: 100% (481/481), 27.66 MiB | 20.97 MiB/s, done.\n",
            "Resolving deltas: 100% (222/222), done.\n",
            "created output directory at /content/src\n",
            "Out bin /content/result.out\n"
          ],
          "name": "stdout"
        }
      ]
    },
    {
      "cell_type": "markdown",
      "metadata": {
        "id": "bMCusnNZdDeO"
      },
      "source": [
        "# Codificação de inteiros sem Sinal em Binário\n",
        "Este primeiro exercício voce irá escrever em binário seu número de matrícula e o código C irá verificar se sua conversão está correta. Para não gerar um número muito grande, iremos converter os três últimos dígitos apenas. \n",
        "Por exemplo, minha matrícula é 71269, irei converter apenas 269. **Modifique o código com o seu número de matrícula.**\n",
        "\n",
        "Referência: Material da aula Teórica (vídeo), Slides da aula Teórica, [material WEB externo](http://www.mecaweb.com.br/eletronica/content/e_binario_decimal)"
      ]
    },
    {
      "cell_type": "code",
      "metadata": {
        "id": "LgFVrU2Oc-k4",
        "colab": {
          "base_uri": "https://localhost:8080/",
          "height": 34
        },
        "outputId": "0191194d-716a-413f-cd00-dbb17da5a28a"
      },
      "source": [
        "%%gcc\n",
        "#include <stdio.h>\n",
        "// ** MODIFIQUE AQUI sua matricula em Binario e Decimal\n",
        "int matricula_em_binario  = 0b11010; \n",
        "int matricula_em_decimal = 26; \n",
        "\n",
        "int main() \n",
        "{\n",
        "    if ( matricula_em_decimal == matricula_em_binario)\n",
        "           printf(\"Conversao correta !\");\n",
        "    else \n",
        "           printf(\"O valor não corresponde, favor refazer.\");\n",
        "    return 0;\n",
        "}\n"
      ],
      "execution_count": null,
      "outputs": [
        {
          "output_type": "stream",
          "text": [
            "Conversao correta !\n"
          ],
          "name": "stdout"
        }
      ]
    },
    {
      "cell_type": "markdown",
      "metadata": {
        "id": "by9t2pT_mgRl"
      },
      "source": [
        "# Conversão para Hexadecimal\n",
        "Refaça o exercício anterior agora escrevendo os três últimos dígitos em Hexadecimal. Além disso, você irá descobrir qual é o número binário correspondente aos seus três últimos dígitos se sua matrícula estivesse na base hexadecimal. Por exemplo, para 269 em hexadecimal temos 2*16^^2 + 6 *16 + 9 = 512+96+9 = 617 em decimal e 2=0010, 6=0110, 9=1001, portanto 0b001001101001 em binário.\n",
        "\n",
        "Referência: Material da aula Teórica (vídeo), Slides da aula Teórica, [material WEB externo](http://www.mecaweb.com.br/eletronica/content/e_hexadecimal_binario)"
      ]
    },
    {
      "cell_type": "code",
      "metadata": {
        "id": "JzV23L4WpQ1Z",
        "colab": {
          "base_uri": "https://localhost:8080/",
          "height": 50
        },
        "outputId": "bb2a0a55-ebec-4b05-c409-f794ee886bcb"
      },
      "source": [
        "%%gcc\n",
        "#include <stdio.h>\n",
        "// ** Parte I - Modifique Aqui\n",
        "int matricula_decimal = 26; \n",
        "int matricula_em_hexa  = 0x1a; \n",
        "\n",
        "// ** Parte II - MODIFIQUE AQUI sua matricula em Hexadecimal e binario\n",
        "int matricula_se_fosse_hexadecimal = 0x26; \n",
        "int matricula_em_binario  = 0b100110; \n",
        "\n",
        "int main() \n",
        "{\n",
        "       if ( matricula_em_hexa == matricula_decimal)\n",
        "           printf(\"Conversao correta decimal para hexa !\\n\");\n",
        "    else \n",
        "           printf(\"O valor não corresponde, favor refazer.\\n\");\n",
        "    if ( matricula_se_fosse_hexadecimal == matricula_em_binario)\n",
        "           printf(\"Conversao correta se fosse hexadecimal !\");\n",
        "    else \n",
        "           printf(\"O valor não corresponde, favor refazer.\");\n",
        "    return 0;\n",
        "}\n"
      ],
      "execution_count": null,
      "outputs": [
        {
          "output_type": "stream",
          "text": [
            "Conversao correta decimal para hexa !\n",
            "Conversao correta se fosse hexadecimal !\n"
          ],
          "name": "stdout"
        }
      ]
    },
    {
      "cell_type": "markdown",
      "metadata": {
        "id": "uEOOqyEirh_5"
      },
      "source": [
        "# Complemento de 2 \n",
        "Suponha que os dígitos da sua matrícula sejam \n",
        "d4d3d2d1d0. No nosso exemplo para 71269 d4=7, d3=1, d2=2, d1=6 e d0=9. Escreva o número -d2d1d0 em complemento de 2 para sua matricula. **Verifique com o código abaixo.** \n",
        "Para -269,  Lembrando que em binário 0b100001101, invertendo e somando 1 teremos 0b011110011, que tem apenas 9 dígitos binários. Completando com 23 bits \"1\" a esquerda para ficar com 32 bits teremos 0b11111111111111111111111011110011.\n",
        "\n",
        "[Material extra na Web](https://pt.wikipedia.org/wiki/Complemento_para_dois)"
      ]
    },
    {
      "cell_type": "code",
      "metadata": {
        "id": "hfwyaPi5tI3G",
        "colab": {
          "base_uri": "https://localhost:8080/",
          "height": 50
        },
        "outputId": "1bd06d45-03fb-4d2d-d28d-211a526bca74"
      },
      "source": [
        "%%gcc\n",
        "#include <stdio.h>\n",
        "// ** Modifique Aqui\n",
        "int matricula_neg_decimal = -26; \n",
        "int matricula_neg_complemento_2  = 0b11111111111111111111111111100110; \n",
        "\n",
        "int main() \n",
        "{\n",
        "       if ( matricula_neg_decimal == matricula_neg_complemento_2)\n",
        "           printf(\"Conversao correta  !\\n\");\n",
        "    else \n",
        "           printf(\"O valor não corresponde, favor refazer.\\n\");\n",
        "    return 0;\n",
        "}\n"
      ],
      "execution_count": null,
      "outputs": [
        {
          "output_type": "stream",
          "text": [
            "Conversao correta  !\n",
            "\n"
          ],
          "name": "stdout"
        }
      ]
    },
    {
      "cell_type": "markdown",
      "metadata": {
        "id": "hwPHSmcttJie"
      },
      "source": [
        "# Aritmética Binária\n",
        "Suponha sua matrícula d4d3d2d1d0 (ou 6 dígitos d5...). \n",
        "Converte para binário d1d0 = A, d3d2=B. Fazer A+B e verificar o resultado. \n"
      ]
    },
    {
      "cell_type": "code",
      "metadata": {
        "id": "Yw6w4IVdtPvN",
        "colab": {
          "base_uri": "https://localhost:8080/",
          "height": 67
        },
        "outputId": "c319b9ab-13f8-4ef0-ac9b-ef1450083697"
      },
      "source": [
        "%%gcc\n",
        "#include <stdio.h>\n",
        "// ** Modifique Aqui \n",
        "int A = 26;    // D1D0 para sua matrícula\n",
        "int A_bin = 0b11010;  // em Binário\n",
        "int B = 20;    // D3D2 para sua matrícula\n",
        "int B_bin = 0b10100;  // em Binário\n",
        "int A_B = 0b101110; // Preencher aqui com a soma\n",
        "\n",
        "int main() \n",
        "{\n",
        "       if ( (A+B) == (A_bin+B_bin))\n",
        "           printf(\"Conversao correta para A e B !\\n\");\n",
        "    else \n",
        "           printf(\"Os valores de A e B não correspondem, favor refazer.\\n\");\n",
        "        if ( (A_B) == (A_bin+B_bin))\n",
        "           printf(\"Conversao correta para soma de A e B !\\n\");\n",
        "    else \n",
        "           printf(\"Os valores não correspondem, favor refazer.\\n\");\n",
        "\n",
        "    return 0;\n",
        "}\n"
      ],
      "execution_count": null,
      "outputs": [
        {
          "output_type": "stream",
          "text": [
            "Conversao correta para A e B !\n",
            "Conversao correta para soma de A e B !\n",
            "\n"
          ],
          "name": "stdout"
        }
      ]
    },
    {
      "cell_type": "markdown",
      "metadata": {
        "id": "v0sLJY6fHDxJ"
      },
      "source": [
        "# Aritmética binária em Complemento de 2\n",
        "Refaça o exercício anterior para A+(-B). Lembre-se que para números negativos, completar os 32 bits. \n"
      ]
    },
    {
      "cell_type": "code",
      "metadata": {
        "id": "2Rtt453YHWIn",
        "colab": {
          "base_uri": "https://localhost:8080/",
          "height": 67
        },
        "outputId": "404af0fb-221b-4bac-f050-5cb9527b552c"
      },
      "source": [
        "%%gcc\n",
        "#include <stdio.h>\n",
        "// ** Modifique Aqui \n",
        "int A = 26;\n",
        "int A_bin = 0b11010;\n",
        "int menosB = -20;\n",
        "int menosB_bin = 0b11111111111111111111111111101100;\n",
        "int A_menosB = 0b000110;\n",
        "\n",
        "int main() \n",
        "{\n",
        "       if ( (A+menosB) == (A_bin+menosB_bin))\n",
        "           printf(\"Conversao correta para A e B !\\n\");\n",
        "    else \n",
        "           printf(\"Os valores de A e B não correspondem, favor refazer.\\n\");\n",
        "        if ( (A_menosB) == (A_bin+menosB_bin))\n",
        "           printf(\"Conversao correta para soma de A e B !\\n\");\n",
        "    else \n",
        "           printf(\"Os valores não correspondem, favor refazer.\\n\");\n",
        "\n",
        "    return 0;\n",
        "}\n"
      ],
      "execution_count": null,
      "outputs": [
        {
          "output_type": "stream",
          "text": [
            "Conversao correta para A e B !\n",
            "Conversao correta para soma de A e B !\n",
            "\n"
          ],
          "name": "stdout"
        }
      ]
    },
    {
      "cell_type": "markdown",
      "metadata": {
        "id": "zQLa2lhEtQFq"
      },
      "source": [
        "# Código ASCII\n",
        "Escreva em Decimal o código ASCII correspondente aos seus dígitos de matrícula, lembrando que o caracter '0' tem código 48."
      ]
    },
    {
      "cell_type": "code",
      "metadata": {
        "id": "QWGCa1EROATh",
        "colab": {
          "base_uri": "https://localhost:8080/",
          "height": 50
        },
        "outputId": "7ba6edbe-f3c4-4cd5-edc5-23d2a3071163"
      },
      "source": [
        "%%gcc\n",
        "#include <stdio.h>\n",
        "// ** Modifique Aqui \n",
        "char d5='1',d4='0',d3='2',d2='0',d1='2',d0='6';\n",
        "char n5=49,n4=48,n3=50,n2=48,n1=50,n0=54;\n",
        "\n",
        "\n",
        "int main() \n",
        "{\n",
        "       if ( (d4==n4)&&(d3==n3)&&(d2==n2)&&(d1==n1)&&(d0==n0))\n",
        "           printf(\"Conversao correta para ASCII !\\n\");\n",
        "    else \n",
        "           printf(\"Favor refazer.\\n\");\n",
        "    return 0;\n",
        "}\n"
      ],
      "execution_count": null,
      "outputs": [
        {
          "output_type": "stream",
          "text": [
            "Conversao correta para ASCII !\n",
            "\n"
          ],
          "name": "stdout"
        }
      ]
    },
    {
      "cell_type": "code",
      "metadata": {
        "id": "l2W89isXJK9e",
        "colab": {
          "base_uri": "https://localhost:8080/",
          "height": 34
        },
        "outputId": "58744555-54f7-4acb-c626-a597c4a91bf0"
      },
      "source": [
        "%%cpp\n",
        "#include <iostream>\n",
        "\n",
        "using namespace std;\n",
        "\n",
        "int main() {\n",
        "    cout << \"Obrigado!\";\n",
        "  return 0;\n",
        "}"
      ],
      "execution_count": null,
      "outputs": [
        {
          "output_type": "stream",
          "text": [
            "Obrigado!\n"
          ],
          "name": "stdout"
        }
      ]
    },
    {
      "cell_type": "markdown",
      "metadata": {
        "id": "FODlXFRA5I8P"
      },
      "source": [
        "# Enviando o laboratório\n",
        "\n",
        "Uma vez concluído o exercício, enviar o link compartilhado pelo Classroom. [Qualquer dúvida assistir o vídeo](https://www.youtube.com/watch?v=SmxgtQirgvs&feature=emb_logo)."
      ]
    }
  ]
}