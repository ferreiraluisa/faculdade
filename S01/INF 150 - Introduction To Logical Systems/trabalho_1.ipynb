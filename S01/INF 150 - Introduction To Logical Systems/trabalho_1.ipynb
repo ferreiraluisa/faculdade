{
  "nbformat": 4,
  "nbformat_minor": 0,
  "metadata": {
    "colab": {
      "name": "trabalho 1.ipynb",
      "provenance": [],
      "collapsed_sections": [],
      "toc_visible": true,
      "include_colab_link": true
    },
    "kernelspec": {
      "name": "python3",
      "display_name": "Python 3"
    }
  },
  "cells": [
    {
      "cell_type": "markdown",
      "metadata": {
        "id": "view-in-github",
        "colab_type": "text"
      },
      "source": [
        "<a href=\"https://colab.research.google.com/github/ferreiraluisa/faculdade/blob/main/trabalho_1.ipynb\" target=\"_parent\"><img src=\"https://colab.research.google.com/assets/colab-badge.svg\" alt=\"Open In Colab\"/></a>"
      ]
    },
    {
      "cell_type": "markdown",
      "metadata": {
        "id": "s7lnDZGymMoK"
      },
      "source": [
        "# Instalar Plugin para Verilog\n",
        "\n",
        "Executar o comando abaixo."
      ]
    },
    {
      "cell_type": "code",
      "metadata": {
        "id": "r1pzW9K0kJs8",
        "outputId": "79dbd972-c914-4b29-fad4-87ee55411fe1",
        "colab": {
          "base_uri": "https://localhost:8080/",
          "height": 241
        }
      },
      "source": [
        "!pip install git+git://github.com/canesche/nvcc4jupyter.git\n",
        "!git clone https://github.com/canesche/nvcc4jupyter\n",
        "%load_ext nvcc_plugin"
      ],
      "execution_count": null,
      "outputs": [
        {
          "output_type": "stream",
          "text": [
            "Collecting git+git://github.com/canesche/nvcc4jupyter.git\n",
            "  Cloning git://github.com/canesche/nvcc4jupyter.git to /tmp/pip-req-build-yrocyalg\n",
            "  Running command git clone -q git://github.com/canesche/nvcc4jupyter.git /tmp/pip-req-build-yrocyalg\n",
            "Requirement already satisfied (use --upgrade to upgrade): ColabPlugin==0.0.3 from git+git://github.com/canesche/nvcc4jupyter.git in /usr/local/lib/python3.6/dist-packages\n",
            "Building wheels for collected packages: ColabPlugin\n",
            "  Building wheel for ColabPlugin (setup.py) ... \u001b[?25l\u001b[?25hdone\n",
            "  Created wheel for ColabPlugin: filename=ColabPlugin-0.0.3-cp36-none-any.whl size=9015 sha256=d664145fd7c7dc308ac63ecb02b379a0b968a380c5e930897ce4c4c98f21c156\n",
            "  Stored in directory: /tmp/pip-ephem-wheel-cache-x53fxgr2/wheels/87/ae/09/21c6e192181a0472e20ddd1d5212e2cbb113f00ebe14330d0d\n",
            "Successfully built ColabPlugin\n",
            "fatal: destination path 'nvcc4jupyter' already exists and is not an empty directory.\n",
            "The nvcc_plugin extension is already loaded. To reload it, use:\n",
            "  %reload_ext nvcc_plugin\n"
          ],
          "name": "stdout"
        }
      ]
    },
    {
      "cell_type": "markdown",
      "metadata": {
        "id": "o7pbFdbkeChZ"
      },
      "source": [
        "# Trabalho 1 Parte I\n",
        "\n",
        "![](https://tams.informatik.uni-hamburg.de/applets/hades/webdemos/20-arithmetic/85-square/square4.gif)"
      ]
    },
    {
      "cell_type": "code",
      "metadata": {
        "id": "znP0yyRoFSez",
        "outputId": "846f734c-7fa4-4b23-8879-caf6b0437eb1",
        "colab": {
          "base_uri": "https://localhost:8080/",
          "height": 204
        }
      },
      "source": [
        "%%verilog\n",
        "\n",
        "/* Somador e modulo CAF\n",
        "*/\n",
        "module fulladder(a, b, cin, sum, cout);\n",
        "input a,b,cin; \n",
        "output sum,cout;  \n",
        " wire X;\n",
        " assign X = a ^b;\n",
        " assign sum = cin ^ X;\n",
        " assign cout = (a&b)|(cin&X);\n",
        "endmodule\n",
        "\n",
        "module caf(e,a,b,ci,so,co);\n",
        "input e,a,b,ci; \n",
        "output so,co;  \n",
        "wire A;\n",
        "assign  so = (e)?A:a;\n",
        "fulladder ADD(b,a,ci,A,co);\n",
        "endmodule\n",
        "\n",
        "\n",
        "module square(input [3:0]a, output [7:0]sq);\n",
        "// caf sq00(a[3],1'b0,1'b0,lc0[1],sq[0],lc0[0]);\n",
        "// linha 0\n",
        "\twire [1:0] ls0,lc0; //nome dos fios para a linha 1\n",
        "\tcaf sq00(a[3],1'b0,1'b0,lc0[1],ls0[0],lc0[0]);\n",
        "\tcaf sq01(a[3],1'b0,1'b1,1'b0,ls0[1],lc0[1]);\n",
        "// linha 1\n",
        "\twire [3:0] ls1,lc1; //nome dos fios para a linha 2\n",
        "\tcaf sq10(a[2],ls0[0],1'b0,lc1[1],ls1[0],lc1[0]);\n",
        "\tcaf sq11(a[2],ls0[1],a[3],lc1[2],ls1[1],lc1[1]);\n",
        "\tcaf sq12(a[2],1'b0,1'b0,lc1[3],ls1[2],lc1[2]);\n",
        "\tcaf sq13(a[2],1'b0,1'b1,1'b0,ls1[3],lc1[3]);\n",
        "// linha 2\n",
        "\twire [5:0] ls2,lc2;  //nome dos fios para a linha 3\n",
        "\tcaf sq20(a[1],ls1[0],1'b0,lc2[1],ls2[0],lc2[0]);\n",
        "\tcaf sq21(a[1],ls1[1],1'b0,lc2[2],ls2[1],lc2[1]);\n",
        "\tcaf sq22(a[1],ls1[2],a[3],lc2[3],ls2[2],lc2[2]);\n",
        "\tcaf sq23(a[1],ls1[3],a[2],lc2[4],ls2[3],lc2[3]);\n",
        "\tcaf sq24(a[1],1'b0,1'b0,lc2[5],ls2[4],lc2[4]);\n",
        "\tcaf sq25(a[1],1'b0,1'b1,1'b0,ls2[5],lc2[5]);\n",
        "\n",
        "// linha 3\n",
        "\twire [7:0] lc3; //nome dos fios para a linha 4\n",
        "\tcaf sq30(a[0],ls2[0],1'b0,lc3[1],sq[7],lc3[0]);\n",
        "\tcaf sq31(a[0],ls2[1],1'b0,lc3[2],sq[6],lc3[1]);\n",
        "\tcaf sq32(a[0],ls2[2],1'b0,lc3[3],sq[5],lc3[2]);\n",
        "\tcaf sq33(a[0],ls2[3],a[3],lc3[4],sq[4],lc3[3]);\n",
        "\tcaf sq34(a[0],ls2[4],a[2],lc3[5],sq[3],lc3[4]);\n",
        "\tcaf sq35(a[0],ls2[5],a[1],lc3[6],sq[2],lc3[5]);\n",
        "\tcaf sq36(a[0],1'b0,1'b0,lc3[7],sq[1],lc3[6]);\n",
        "\tcaf sq37(a[0],1'b0,1'b1,1'b0,sq[0],lc3[7]);\n",
        "\n",
        "endmodule\n",
        "\n",
        "\n",
        "module logic_testbench(); \n",
        "reg [3:0] a;\n",
        "wire [7:0] sq;\n",
        "\tsquare A(a,sq); \n",
        "\tinitial begin\n",
        "\t\t$display(\" a  |  a^2 \");\n",
        "\t\t#1 a=4;\n",
        "\t\t$monitor(\"%d    %d\", a,sq);\n",
        "\t\t #1 a=5;\n",
        "     #1 a=7;\n",
        "\t\t #1 a=2;\n",
        "     #1 a=14;\n",
        "\t\t #1 a=15;\n",
        "     #1 a=8;\n",
        "\t\t #1 a=9;\n",
        "     #1 a=1;\n",
        "\t\t$finish;\n",
        "\tend\n",
        "endmodule"
      ],
      "execution_count": null,
      "outputs": [
        {
          "output_type": "stream",
          "text": [
            " a  |  a^2 \n",
            " 4     16\n",
            " 5     25\n",
            " 7     49\n",
            " 2      4\n",
            "14    196\n",
            "15    225\n",
            " 8     64\n",
            " 9     81\n",
            " 1      1\n",
            "\n"
          ],
          "name": "stdout"
        }
      ]
    },
    {
      "cell_type": "markdown",
      "metadata": {
        "id": "U1fiazioecq7"
      },
      "source": [
        "# Trabalho 1  Parte II\n",
        "\n",
        "![](https://tams.informatik.uni-hamburg.de/applets/hades/webdemos/20-arithmetic/90-sqrt/sqrt4.gif)"
      ]
    },
    {
      "cell_type": "code",
      "metadata": {
        "id": "hwZr66L2Dke0",
        "outputId": "b7c572f1-3a31-4dc4-8bd2-914994f5e910",
        "colab": {
          "base_uri": "https://localhost:8080/",
          "height": 204
        }
      },
      "source": [
        "\t%%verilog \n",
        "\n",
        "/* Somador e modulo CAS\n",
        "*/\n",
        "module fulladder(a, b, cin, sum, cout);\n",
        "input a,b,cin; \n",
        "output sum,cout;  \n",
        " wire X;\n",
        " assign X = a ^b;\n",
        " assign sum = cin ^ X;\n",
        " assign cout = (a&b)|(cin&X);\n",
        "endmodule\n",
        "\n",
        "module cas(p,a,b,ci,so,co);\n",
        "input p,a,b,ci; \n",
        "output so,co;  \n",
        "wire X;\n",
        "assign X = p^b;\n",
        "fulladder ADD(X,a,ci,so,co);\n",
        "endmodule\n",
        "\n",
        "\n",
        "module sqrt(input [7:0]a, output [3:0]sq);\n",
        "\n",
        "// linha 0\n",
        "\twire [1:0] ls0,lc0; //nome dos fios para a linha 1\n",
        "\tcas sq00(1'b1,a[7],1'b0,lc0[1],ls0[0],sq[3]);\n",
        "\tcas sq01(1'b1,a[6],1'b1,1'b1,ls0[1],lc0[1]);\n",
        "\n",
        "// linha 1\n",
        "\twire [3:0] ls1,lc1; //nome dos fios para a linha 2\n",
        "\tcas sq10(sq[3],ls0[0],1'b0,lc1[1],ls1[0],sq[2]);\n",
        "\tcas sq11(sq[3],ls0[1],sq[3],lc1[2],ls1[1],lc1[1]);\n",
        "\tcas sq12(sq[3],a[5],~sq[3],lc1[3],ls1[2],lc1[2]);\n",
        "\tcas sq13(sq[3],a[4],1'b1,sq[3],ls1[3],lc1[3]);\n",
        "\n",
        "// linha 2\n",
        "\twire [5:0] ls2,lc2;  //nome dos fios para a linha 3\n",
        "\tcas sq20(sq[2],ls1[0],1'b0,lc2[1],ls2[0],sq[1]);\n",
        "\tcas sq21(sq[2],ls1[1],1'b0,lc2[2],ls2[1],lc2[1]);\n",
        "\tcas sq22(sq[2],ls1[2],sq[3],lc2[3],ls2[2],lc2[2]);\n",
        "\tcas sq23(sq[2],ls1[3],sq[2],lc2[4],ls2[3],lc2[3]);\n",
        "\tcas sq24(sq[2],a[3],~sq[2],lc2[5],ls2[4],lc2[4]);\n",
        "\tcas sq25(sq[2],a[2],1'b1,sq[2],ls2[5],lc2[5]);\n",
        "\n",
        "// linha 3\n",
        "\twire [7:0] ls3,lc3; //nome dos fios para a linha 4\n",
        "\tcas sq30(sq[1],ls2[0],1'b0,lc3[1],ls3[0],sq[0]);\n",
        "\tcas sq31(sq[1],ls2[1],1'b0,lc3[2],ls3[1],lc3[1]);\n",
        "\tcas sq32(sq[1],ls2[2],1'b0,lc3[3],ls3[2],lc3[2]);\n",
        "\tcas sq33(sq[1],ls2[3],sq[3],lc3[4],ls3[3],lc3[3]);\n",
        "\tcas sq34(sq[1],ls2[4],sq[2],lc3[5],ls3[4],lc3[4]);\n",
        "\tcas sq35(sq[1],ls2[5],sq[1],lc3[6],ls3[5],lc3[5]);\n",
        "\tcas sq36(sq[1],a[1],~sq[1],lc3[7],ls3[6],lc3[6]);\n",
        "\tcas sq37(sq[1],a[0],1'b1,sq[1],ls3[7],lc3[7]);\n",
        "\n",
        "endmodule\n",
        "\n",
        "\n",
        "\n",
        "module logic_testbench(); \n",
        "reg [7:0] a;\n",
        "wire [3:0] sq;\n",
        "\tsqrt A(a,sq); \n",
        "\tinitial begin\n",
        "\t\t$display(\" a  | raiz(a) \");\n",
        "\t\t#1 a=16;\n",
        "\t\t$monitor(\"%d    %d\", a,sq);\n",
        "\t\t #1 a=15;\n",
        "     #1 a=17;\n",
        "\t\t #1 a=25;\n",
        "     #1 a=24;\n",
        "\t\t #1 a=36;\n",
        "     #1 a=48;\n",
        "\t\t #1 a=49;\n",
        "     #1 a=128;\n",
        "\t\t$finish;\n",
        "\tend\n",
        "endmodule"
      ],
      "execution_count": null,
      "outputs": [
        {
          "output_type": "stream",
          "text": [
            " a  | raiz(a) \n",
            " 16     4\n",
            " 15     3\n",
            " 17     4\n",
            " 25     5\n",
            " 24     4\n",
            " 36     6\n",
            " 48     6\n",
            " 49     7\n",
            "128    11\n",
            "\n"
          ],
          "name": "stdout"
        }
      ]
    },
    {
      "cell_type": "markdown",
      "metadata": {
        "id": "tD-ctBsP3A4c"
      },
      "source": [
        "Parabéns, você terminou o laboratório 5. Não esqueça de submeter o link no google classroom. "
      ]
    }
  ]
}