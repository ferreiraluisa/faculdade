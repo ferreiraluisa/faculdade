{
  "nbformat": 4,
  "nbformat_minor": 0,
  "metadata": {
    "colab": {
      "name": "luisa102026lab2.ipynb",
      "provenance": [],
      "collapsed_sections": [],
      "toc_visible": true,
      "include_colab_link": true
    },
    "kernelspec": {
      "name": "python3",
      "display_name": "Python 3"
    }
  },
  "cells": [
    {
      "cell_type": "markdown",
      "metadata": {
        "id": "view-in-github",
        "colab_type": "text"
      },
      "source": [
        "<a href=\"https://colab.research.google.com/github/ferreiraluisa/faculdade/blob/main/luisa102026lab2.ipynb\" target=\"_parent\"><img src=\"https://colab.research.google.com/assets/colab-badge.svg\" alt=\"Open In Colab\"/></a>"
      ]
    },
    {
      "cell_type": "markdown",
      "metadata": {
        "id": "s7lnDZGymMoK"
      },
      "source": [
        "# Instalar Plugin para Verilog\n",
        "\n",
        "Executar o comando abaixo."
      ]
    },
    {
      "cell_type": "code",
      "metadata": {
        "id": "r1pzW9K0kJs8",
        "colab": {
          "base_uri": "https://localhost:8080/",
          "height": 238
        },
        "outputId": "e9908fc5-85e8-4eda-f801-ee18260a1f87"
      },
      "source": [
        "!pip install git+git://github.com/canesche/nvcc4jupyter.git\n",
        "!git clone https://github.com/canesche/nvcc4jupyter\n",
        "%load_ext nvcc_plugin"
      ],
      "execution_count": null,
      "outputs": [
        {
          "output_type": "stream",
          "text": [
            "Collecting git+git://github.com/canesche/nvcc4jupyter.git\n",
            "  Cloning git://github.com/canesche/nvcc4jupyter.git to /tmp/pip-req-build-h6wsowzt\n",
            "  Running command git clone -q git://github.com/canesche/nvcc4jupyter.git /tmp/pip-req-build-h6wsowzt\n",
            "Requirement already satisfied (use --upgrade to upgrade): NVCCPlugin==0.0.3 from git+git://github.com/canesche/nvcc4jupyter.git in /usr/local/lib/python3.6/dist-packages\n",
            "Building wheels for collected packages: NVCCPlugin\n",
            "  Building wheel for NVCCPlugin (setup.py) ... \u001b[?25l\u001b[?25hdone\n",
            "  Created wheel for NVCCPlugin: filename=NVCCPlugin-0.0.3-cp36-none-any.whl size=8022 sha256=bf49ee84d2c391cac382cbc8a69f0030e9b00b7e53d413341ab144ac3e90da5e\n",
            "  Stored in directory: /tmp/pip-ephem-wheel-cache-iesdsj_m/wheels/87/ae/09/21c6e192181a0472e20ddd1d5212e2cbb113f00ebe14330d0d\n",
            "Successfully built NVCCPlugin\n",
            "fatal: destination path 'nvcc4jupyter' already exists and is not an empty directory.\n",
            "The nvcc_plugin extension is already loaded. To reload it, use:\n",
            "  %reload_ext nvcc_plugin\n"
          ],
          "name": "stdout"
        }
      ]
    },
    {
      "cell_type": "markdown",
      "metadata": {
        "id": "q3rxaEU00wSa"
      },
      "source": [
        "# Video com instruções\n",
        "\n",
        "Assista o [Video com instrucoes para o laboratorio](https://youtu.be/fJwupjXgsIE)"
      ]
    },
    {
      "cell_type": "markdown",
      "metadata": {
        "id": "UqL6590-mei5"
      },
      "source": [
        "# Operadores da lógica  Booleana em Verilog\n",
        "\n",
        "Os operadores são: \n",
        "* And &\n",
        "* Or |\n",
        "* xor ^\n",
        "* Inversão ou negação ~\n",
        "\n",
        "Alguns exemplos de equações:\n",
        "* x = (a and c) xor d\n",
        "* y = b or not d\n",
        "* z = c xor (not a)\n",
        "\n",
        "Abaixo um código Verilog com as equações no modulo test. Os sinais de entrada são a,b,c e d. Portanto temos 16 possibilidades para 4 variáveis, 2⁴. Declaramos 3 funções de saída x,y e z. O programa irá avaliar todas as combinações montando a tabela verdade."
      ]
    },
    {
      "cell_type": "code",
      "metadata": {
        "id": "LZAEi4BsmMAQ",
        "colab": {
          "base_uri": "https://localhost:8080/",
          "height": 345
        },
        "outputId": "11a11239-120e-4d6b-b0dc-e1ecb96222ed"
      },
      "source": [
        "%%verilog \n",
        "module test(a, b, c, d, x, y, z);\n",
        "input a,b,c,d; // definir as entradas\n",
        "output x,y,z;  // definir as saidas\n",
        "\n",
        "// as tres equacoes\n",
        "    assign x = (a & c) ^ d;\n",
        "    assign y = b | ~d;\n",
        "    assign z = c ^~ a;\n",
        "\n",
        "endmodule\n",
        "\n",
        "\n",
        "\n",
        "module logic_testbench();  // Esta parte do codigo é para gerar os 16 valores\n",
        "reg [3:0] counter;\n",
        "wire x,y,z;\n",
        "integer k;\n",
        "\ttest t(counter[3],counter[2],counter[1],counter[0],x,y,z); \n",
        "\tinitial begin\n",
        "\t\t$display(\"abcd | x y z\");\n",
        "\t\t$monitor(\"%4b | %1b %1b %1b\", counter, x, y, z);\n",
        "\t\tcounter = 0;\n",
        "\t\tfor (k=1; k<16; k=k+1)\n",
        "     #1 counter = k;\n",
        "\t\t$finish;\n",
        "\tend\n",
        "endmodule"
      ],
      "execution_count": null,
      "outputs": [
        {
          "output_type": "stream",
          "text": [
            "abcd | x y z\n",
            "0000 | 0 1 0\n",
            "0001 | 1 0 0\n",
            "0010 | 0 1 1\n",
            "0011 | 1 0 1\n",
            "0100 | 0 1 0\n",
            "0101 | 1 1 0\n",
            "0110 | 0 1 1\n",
            "0111 | 1 1 1\n",
            "1000 | 0 1 1\n",
            "1001 | 1 0 1\n",
            "1010 | 1 1 0\n",
            "1011 | 0 0 0\n",
            "1100 | 0 1 1\n",
            "1101 | 1 1 1\n",
            "1110 | 1 1 0\n",
            "1111 | 0 1 0\n",
            "\n"
          ],
          "name": "stdout"
        }
      ]
    },
    {
      "cell_type": "markdown",
      "metadata": {
        "id": "tlw34GlCWWzu"
      },
      "source": [
        "# Exercicio 1\n",
        "Completar o código abaixo para fazer a função f= a XOR b."
      ]
    },
    {
      "cell_type": "code",
      "metadata": {
        "id": "NHWrR8a8WkC1",
        "colab": {
          "base_uri": "https://localhost:8080/",
          "height": 118
        },
        "outputId": "a2e639f1-c13f-4cfe-e0b2-5affd5f0d85e"
      },
      "source": [
        "%%verilog \n",
        "module test(a, b, f);\n",
        "input a,b; // definir as entradas\n",
        "output f;  // definir as saidas\n",
        "\n",
        "// COMPLETAR AQUI \n",
        "    assign f = a ^ b ;\n",
        "endmodule\n",
        "\n",
        "module logic_testbench();  // Esta parte do codigo é para gerar os 4 valores\n",
        "reg [1:0] counter;\n",
        "wire f;\n",
        "integer k;\n",
        "\ttest t(counter[1],counter[0],f); \n",
        "\tinitial begin\n",
        "\t\t$display(\"a b | f\");\n",
        "\t\t$monitor(\"%2b | %1b\", counter, f);\n",
        "    counter = 0;\n",
        "\t\tfor (k=1; k<4; k=k+1)\n",
        "     #1 counter = k;\n",
        "\t\t$finish;\n",
        "\tend\n",
        "endmodule"
      ],
      "execution_count": null,
      "outputs": [
        {
          "output_type": "stream",
          "text": [
            "a b | f\n",
            "00 | 0\n",
            "01 | 1\n",
            "10 | 1\n",
            "11 | 0\n",
            "\n"
          ],
          "name": "stdout"
        }
      ]
    },
    {
      "cell_type": "markdown",
      "metadata": {
        "id": "V_lNgNwrhNWu"
      },
      "source": [
        "# Exercicio 2 \n",
        "Podemos verificar se duas equações booleanas observando a tabela verdade. A função f = a XOR b é equivalente a função g= ( a And  Not b) OR ( Not a And b). Complete o código abaixo com as funções f e g. Verifique se a tabela impressa tem os mesmo valores para todas as combinações de entrada. Abaixo o circuito do XOR com AND e OR. ![xor](https://pxt.azureedge.net/blob/addd335c5333435473f8392c4e48614b060b0bfa/static/courses/logic-lab/logic-gates/combinatorial1-xor.png)"
      ]
    },
    {
      "cell_type": "code",
      "metadata": {
        "id": "PtHS1jjViMob",
        "colab": {
          "base_uri": "https://localhost:8080/",
          "height": 118
        },
        "outputId": "c95d568b-1026-43c0-eef6-a34bb9567a37"
      },
      "source": [
        "%%verilog \n",
        "module test(a, b, f,g);\n",
        "input a,b; // definir as entradas\n",
        "output f,g;  // definir as saidas\n",
        "\n",
        "// COMPLETAR AQUI, não esqueça o ; no final da linha\n",
        "    assign f = a ^ b;\n",
        "    assign g =(a & ~b) | (~a & b);\n",
        "endmodule\n",
        "\n",
        "module logic_testbench();  // Esta parte do codigo é para gerar os 4 valores\n",
        "reg [1:0] counter;\n",
        "wire f,g;\n",
        "integer k;\n",
        "\ttest t(counter[1],counter[0],f,g); \n",
        "\tinitial begin\n",
        "\t\t$display(\"a b | f g\");\n",
        "\t\t$monitor(\"%2b  | %1b %1b\", counter, f,g);\n",
        "    counter = 0;\n",
        "\t\tfor (k=1; k<4; k=k+1)\n",
        "     #1 counter = k;\n",
        "\t\t$finish;\n",
        "\tend\n",
        "endmodule"
      ],
      "execution_count": null,
      "outputs": [
        {
          "output_type": "stream",
          "text": [
            "a b | f g\n",
            "00  | 0 0\n",
            "01  | 1 1\n",
            "10  | 1 1\n",
            "11  | 0 0\n",
            "\n"
          ],
          "name": "stdout"
        }
      ]
    },
    {
      "cell_type": "markdown",
      "metadata": {
        "id": "lB7gJIw_kNVL"
      },
      "source": [
        "# Exercicio 3\n",
        "\n",
        "Implemente as identidades a seguir em função do seu último dígito de matrícula.\n",
        "\n",
        "* final 0,1: Associatividade f = x AND ( y AND z), g= (x AND y) AND z, f é equivalente a g ?\n",
        "* final 2,3: Associatividade com operador OR\n",
        "* final 4,5: Associatividade com operador XOR\n",
        "* final 6,7: Distributiva f = x OR ( y AND z), g= (x OR y) AND (x OR z), f é equivalente a g ?\n",
        "* final 8,9: Distributiva f = x AND ( y OR z), g= (x AND y) OR (x AND z), f é equivalente a g ?\n",
        "\n"
      ]
    },
    {
      "cell_type": "code",
      "metadata": {
        "id": "afOhza2-n0MU",
        "colab": {
          "base_uri": "https://localhost:8080/",
          "height": 185
        },
        "outputId": "6665fc09-920f-43ae-88af-5223fdb28a2f"
      },
      "source": [
        "%%verilog \n",
        "module test(x, y, z ,f,g);\n",
        "input x,y,z; // definir as entradas\n",
        "output f,g;  // definir as saidas\n",
        "\n",
        "// COMPLETAR AQUI, não esqueça o ; no final da linha\n",
        "    assign f = x | (y & z);\n",
        "    assign g = (x | y) & (x | z);\n",
        "endmodule\n",
        "\n",
        "module logic_testbench();  // Esta parte do codigo é para gerar os 4 valores\n",
        "reg [2:0] counter;\n",
        "wire f,g;\n",
        "integer k;\n",
        "\ttest t(counter[2],counter[1],counter[0],f,g); \n",
        "\tinitial begin\n",
        "\t\t$display(\"xyz | f g\");\n",
        "\t\t$monitor(\"%3b | %1b %1b \", counter, f,g);\n",
        "    counter = 0;\n",
        "\t\tfor (k=1; k<8; k=k+1)\n",
        "     #1 counter = k;\n",
        "\t\t$finish;\n",
        "\tend\n",
        "endmodule"
      ],
      "execution_count": null,
      "outputs": [
        {
          "output_type": "stream",
          "text": [
            "xyz | f g\n",
            "000 | 0 0 \n",
            "001 | 0 0 \n",
            "010 | 0 0 \n",
            "011 | 1 1 \n",
            "100 | 1 1 \n",
            "101 | 1 1 \n",
            "110 | 1 1 \n",
            "111 | 1 1 \n",
            "\n"
          ],
          "name": "stdout"
        }
      ]
    },
    {
      "cell_type": "markdown",
      "metadata": {
        "id": "U56tdS1opAf7"
      },
      "source": [
        "# Exercicio 4\n",
        "Escreva a equação implementada por ![este circuito](https://www.electronics-tutorials.ws/wp-content/uploads/2018/05/combination-comb25.gif)"
      ]
    },
    {
      "cell_type": "code",
      "metadata": {
        "id": "nlNZqtL8pdfP",
        "colab": {
          "base_uri": "https://localhost:8080/",
          "height": 185
        },
        "outputId": "6549953b-1417-4bd9-8616-450e80771e32"
      },
      "source": [
        "%%verilog \n",
        "module test(a,b,c,q);\n",
        "input a,b,c; // definir as entradas\n",
        "output q;  // definir as saidas\n",
        "\n",
        "// COMPLETAR AQUI, não esqueça o ; no final da linha\n",
        "    assign q = ~(a & b) & c & ~(a | b);\n",
        "endmodule\n",
        "\n",
        "module logic_testbench();  // Esta parte do codigo é para gerar os 4 valores\n",
        "reg [2:0] counter;\n",
        "wire q;\n",
        "integer k;\n",
        "\ttest t(counter[2],counter[1],counter[0],q); \n",
        "\tinitial begin\n",
        "\t\t$display(\"abc | q\");\n",
        "\t\t$monitor(\"%3b | %1b \", counter, q);\n",
        "    counter = 0;\n",
        "\t\tfor (k=1; k<8; k=k+1)\n",
        "     #1 counter = k;\n",
        "\t\t$finish;\n",
        "\tend\n",
        "endmodule"
      ],
      "execution_count": null,
      "outputs": [
        {
          "output_type": "stream",
          "text": [
            "abc | q\n",
            "000 | 0 \n",
            "001 | 1 \n",
            "010 | 0 \n",
            "011 | 0 \n",
            "100 | 0 \n",
            "101 | 0 \n",
            "110 | 0 \n",
            "111 | 0 \n",
            "\n"
          ],
          "name": "stdout"
        }
      ]
    },
    {
      "cell_type": "markdown",
      "metadata": {
        "id": "pmmIpOHzrLCM"
      },
      "source": [
        "# Exercicio 5\n",
        "O circuito abaixo é conhecido com somador completo pois implementa com operações lógicas a operação de soma a + b + ci, onde ci é o vem-um, as saídas são a soma s e o vai-um co. A ci = carry-in e co = carry-out, termos em inglês. Implemente as funções s e c. O código abaixo compara com a operação de soma. ![somadorcompleto](https://pxt.azureedge.net/blob/c4db02c7977f4de230b480ff12f11d090cc22a8e/static/courses/logic-lab/logic-gates/full-adder.png)"
      ]
    },
    {
      "cell_type": "code",
      "metadata": {
        "id": "zYTEZ6jxsHt1",
        "colab": {
          "base_uri": "https://localhost:8080/",
          "height": 185
        },
        "outputId": "ba9b9eaa-1a63-408f-c194-a9514154e0f3"
      },
      "source": [
        "%%verilog \n",
        "module test(a,b,ci,s,co);\n",
        "input a,b,ci; // definir as entradas\n",
        "output s,co;  // definir as saidas\n",
        "\n",
        "// COMPLETAR AQUI, não esqueça o ; no final da linha\n",
        "    assign s = (a ^ b) ^ ci;\n",
        "    assign co= (a & b) | (ci&(a^b));\n",
        "endmodule\n",
        "\n",
        "module logic_testbench();  // Esta parte do codigo é para gerar os 4 valores\n",
        "reg [2:0] counter;\n",
        "wire q;\n",
        "integer k;\n",
        "\ttest t(counter[2],counter[1],counter[0],s,co); \n",
        "\tinitial begin\n",
        "\t\t$display(\"abc | s co\");\n",
        "\t\t$monitor(\"%3b | %1b %1b\", counter, s,co);\n",
        "    counter = 0;\n",
        "\t\tfor (k=1; k<8; k=k+1)\n",
        "     #1 counter = k;\n",
        "\t\t$finish;\n",
        "\tend\n",
        "endmodule"
      ],
      "execution_count": null,
      "outputs": [
        {
          "output_type": "stream",
          "text": [
            "abc | s co\n",
            "000 | 0 0\n",
            "001 | 1 0\n",
            "010 | 1 0\n",
            "011 | 0 1\n",
            "100 | 1 0\n",
            "101 | 0 1\n",
            "110 | 0 1\n",
            "111 | 1 1\n",
            "\n"
          ],
          "name": "stdout"
        }
      ]
    },
    {
      "cell_type": "markdown",
      "metadata": {
        "id": "nlqaD_8ItRp1"
      },
      "source": [
        "# Exercicio 6\n",
        "Um circuito pode ser descrito na forma estrutural com as portas lóógicas como módulos ou através das equações lógicas com o comando **assign**. Abaixo o exercicio 2 foi refeito usando uma descrição estrutural."
      ]
    },
    {
      "cell_type": "code",
      "metadata": {
        "id": "p4eMTwO6t-GR",
        "colab": {
          "base_uri": "https://localhost:8080/",
          "height": 118
        },
        "outputId": "3de9ae11-3592-4986-b654-51dc6a38e9e4"
      },
      "source": [
        "%%verilog \n",
        "module test(a, b, f,g);\n",
        "input a,b; // definir as entradas\n",
        "output f,g;  // definir as saidas\n",
        "\n",
        "// F é o nome da instancia da porta XOR, o primeiro parametro é a saída\n",
        "// seguido de a e b que são as entradas\n",
        "    xor F (f,a,b);\n",
        "/*\n",
        "               +------+                                  \n",
        "   a  ---------|      |  w2                              \n",
        "       |       | and x|--+                               \n",
        "    +----inv   |      |  |  +------+                     \n",
        "    |  |    w3 +------+  -- |      |                     \n",
        "    |  |                    | or g |----- g              \n",
        "    |  |    w4 +------+ |---|      |                     \n",
        "    |  +--inv  |      | |   +------+                     \n",
        "    |          | and y|-+w1                              \n",
        " b ----------- |      |                                  \n",
        "               +------+                                  \n",
        "                        \n",
        "*/\n",
        "   wire w1,w2,w3,w4; // fios intermediarios\n",
        "  not W3 (w3,b);\n",
        "  not W4 (w4,a);\n",
        "  and X (w2,a,w3);\n",
        "  and Y (w1,b,w4);\n",
        "  or G (g,w1,w2);\n",
        "endmodule\n",
        "\n",
        "module logic_testbench();  // Esta parte do codigo é para gerar os 4 valores\n",
        "reg [1:0] counter;\n",
        "wire f,g;\n",
        "integer k;\n",
        "\ttest t(counter[1],counter[0],f,g); \n",
        "\tinitial begin\n",
        "\t\t$display(\"a b | f g\");\n",
        "\t\t$monitor(\"%2b  | %1b %1b\", counter, f,g);\n",
        "    counter = 0;\n",
        "\t\tfor (k=1; k<4; k=k+1)\n",
        "     #1 counter = k;\n",
        "\t\t$finish;\n",
        "\tend\n",
        "endmodule"
      ],
      "execution_count": null,
      "outputs": [
        {
          "output_type": "stream",
          "text": [
            "a b | f g\n",
            "00  | 0 0\n",
            "01  | 1 1\n",
            "10  | 1 1\n",
            "11  | 0 0\n",
            "\n"
          ],
          "name": "stdout"
        }
      ]
    },
    {
      "cell_type": "markdown",
      "metadata": {
        "id": "aX52FMyXxlW-"
      },
      "source": [
        "# Exercicio 7\n",
        "\n",
        "Refaça o exercicio 4 com uma descrição estrutural. Utilize o exemplo acima e a implementação do exercicio 4. Dica: (a) Copiar o codigo do exercicio 4. (b) apague a parte dos comandos **assign**. (c) Veja quantos fios você precisa criar (d) lembre-se que cada porta deve ter um nome, **and** X1 (w2,a,b) é uma porta and com o nome X1, com a saida w2 e as entradas a e b. (e) Voce pode usar as portas **nand** e **nor** em Verilog. \n",
        "\n",
        "Se voce quiser desenhar como comentário, pode usar o [editor online de caracteres](https://textik.com/). Como dentro de umas linhas com /*  para começar e */ para terminar."
      ]
    },
    {
      "cell_type": "code",
      "metadata": {
        "id": "xITVBS1mzYyz",
        "colab": {
          "base_uri": "https://localhost:8080/",
          "height": 185
        },
        "outputId": "647ff4e9-e0ca-46b9-a7a6-2ff37b00e527"
      },
      "source": [
        "%%verilog \n",
        "module test(a,b,c,q);\n",
        "input a,b,c; // definir as entradas\n",
        "output q;  // definir as saidas\n",
        "\n",
        "// COMPLETAR AQUI, não esqueça o ; no final da linha\n",
        "/*                                                                              \n",
        " a ----------+----------+                                                    \n",
        "    |        | nand w1  |-------|                                            \n",
        "    |        |          |  w1   |                                            \n",
        " b -|--------+----------+       |                                            \n",
        "    |   |                       |----------+                                 \n",
        "    |   |                       |          |  q                              \n",
        " c -|---|-----------------------|  and Q   |--------                         \n",
        "    |   |                       |          |                                 \n",
        "    |---|----+-----------+      +----------+                                 \n",
        "        |    |  nor W2   |  w2  |                                            \n",
        "        |    |           |------|                                            \n",
        "        |----+-----------+                                                   \n",
        "  */\n",
        "    wire w1,w2;\n",
        "    nand W1(w1,a,b);\n",
        "    nor W2(w2,a,b);\n",
        "    and Q(q,w1,c,w2);\n",
        "endmodule\n",
        "\n",
        "module logic_testbench();  // Esta parte do codigo é para gerar os 4 valores\n",
        "reg [2:0] counter;\n",
        "wire q;\n",
        "integer k;\n",
        "\ttest t(counter[2],counter[1],counter[0],q); \n",
        "\tinitial begin\n",
        "\t\t$display(\"abc | q\");\n",
        "\t\t$monitor(\"%3b | %1b \", counter, q);\n",
        "    counter = 0;\n",
        "\t\tfor (k=1; k<8; k=k+1)\n",
        "     #1 counter = k;\n",
        "\t\t$finish;\n",
        "\tend\n",
        "endmodule"
      ],
      "execution_count": null,
      "outputs": [
        {
          "output_type": "stream",
          "text": [
            "abc | q\n",
            "000 | 0 \n",
            "001 | 1 \n",
            "010 | 0 \n",
            "011 | 0 \n",
            "100 | 0 \n",
            "101 | 0 \n",
            "110 | 0 \n",
            "111 | 0 \n",
            "\n"
          ],
          "name": "stdout"
        }
      ]
    },
    {
      "cell_type": "markdown",
      "metadata": {
        "id": "tJBZux8yzdf_"
      },
      "source": [
        "# Exercicio 8\n",
        "Refaça o exercicio 5 com uma descrição estrutural. Utilize as dicas do exercicio 7."
      ]
    },
    {
      "cell_type": "code",
      "metadata": {
        "id": "OaxG2UUozpcT",
        "colab": {
          "base_uri": "https://localhost:8080/",
          "height": 185
        },
        "outputId": "226a9e60-543b-4f4c-eb85-593690bead95"
      },
      "source": [
        "%%verilog \n",
        "module test(a,b,ci,s,co);\n",
        "input a,b,ci; // definir as entradas\n",
        "output s,co;  // definir as saidas\n",
        "\n",
        "// COMPLETAR AQUI, não esqueça o ; no final da linha\n",
        "/*           +--------+           +--------+                                                                                          \n",
        "  a ---------|        |-----------|        |                                                                                          \n",
        "      |      | xor A  |w1  |      | xor S  |----s-------                                                                              \n",
        "  b -----|---|        |    | |-ci-|        |                                                                                          \n",
        "      |  |   +--------+    | |    +--------+                                                                                          \n",
        "      |  |                 | |                                                                                                        \n",
        "      |  |                 | |                                                                                                        \n",
        "      |  |                 | |    +--------+                                                                                          \n",
        " ci------------------------|------|        |                                                                                          \n",
        "      |  |                 |      | and W3 |        +--------+                                                                        \n",
        "      |  |   +--------+    |------|        |-w3-----|        |                                                                        \n",
        "      |--|---|        |           +--------+        | or CO  |-co-------                                                              \n",
        "         |   | and W2 |w2------------------------w2-|        |                                                                        \n",
        "         |---|        |                             +--------+                                                                        \n",
        "             +--------+                                                                                                               \n",
        " */                                                                                                                                     \n",
        "                                                                                                                                                                     \n",
        "    xor A(w1,a,b);\n",
        "    xor S(s,w1,ci);\n",
        "    and W2(w2,a,b);\n",
        "    and W3(w3,w1,ci);\n",
        "    or CO(co,w2,w3);\n",
        "\n",
        "endmodule\n",
        "\n",
        "module logic_testbench();  // Esta parte do codigo é para gerar os 4 valores\n",
        "reg [2:0] counter;\n",
        "wire q;\n",
        "integer k;\n",
        "\ttest t(counter[2],counter[1],counter[0],s,co); \n",
        "\tinitial begin\n",
        "\t\t$display(\"abc | s co\");\n",
        "\t\t$monitor(\"%3b | %1b %1b\", counter, s,co);\n",
        "    counter = 0;\n",
        "\t\tfor (k=1; k<8; k=k+1)\n",
        "     #1 counter = k;\n",
        "\t\t$finish;\n",
        "\tend\n",
        "endmodule"
      ],
      "execution_count": null,
      "outputs": [
        {
          "output_type": "stream",
          "text": [
            "abc | s co\n",
            "000 | 0 0\n",
            "001 | 1 0\n",
            "010 | 1 0\n",
            "011 | 0 1\n",
            "100 | 1 0\n",
            "101 | 0 1\n",
            "110 | 0 1\n",
            "111 | 1 1\n",
            "\n"
          ],
          "name": "stdout"
        }
      ]
    },
    {
      "cell_type": "markdown",
      "metadata": {
        "id": "4Yi9SyoKztXq"
      },
      "source": [
        "Outro comando interessante é visualizar o seu circuito, pode ser util para \"debugar\" sua descrição estrutural. A seguir dois exemplos. "
      ]
    },
    {
      "cell_type": "code",
      "metadata": {
        "id": "98JntTx7tGy4",
        "colab": {
          "base_uri": "https://localhost:8080/",
          "height": 239
        },
        "outputId": "ee250a39-36ac-49ec-970c-ce09d4285e8b"
      },
      "source": [
        "%%print_verilog\n",
        "module test(a, c, d, x);\n",
        "input a,c,d;\n",
        "output x;\n",
        "\n",
        "    assign x = (a & c) ^ d;\n",
        "\n",
        "endmodule"
      ],
      "execution_count": null,
      "outputs": [
        {
          "output_type": "stream",
          "text": [
            "\n"
          ],
          "name": "stdout"
        },
        {
          "output_type": "display_data",
          "data": {
            "image/png": "[encoded data removed]",
            "text/plain": [
              "<IPython.core.display.Image object>"
            ]
          },
          "metadata": {
            "tags": []
          }
        }
      ]
    },
    {
      "cell_type": "code",
      "metadata": {
        "id": "F6EIMX3CHiyw",
        "colab": {
          "base_uri": "https://localhost:8080/",
          "height": 237
        },
        "outputId": "421e332e-31f2-4aac-f6ef-873643e1960a"
      },
      "source": [
        "%%print_verilog\n",
        "module test(a, c, d, x);\n",
        "input a,c,d;\n",
        "output x;\n",
        "wire fio;\n",
        "    and G1(fio,a,c,d);\n",
        "    or G2(x,fio,d);\n",
        "\n",
        "endmodule\n",
        "\n",
        "\n"
      ],
      "execution_count": null,
      "outputs": [
        {
          "output_type": "stream",
          "text": [
            "\n"
          ],
          "name": "stdout"
        },
        {
          "output_type": "display_data",
          "data": {
            "image/png": "[encoded data removed]",
            "text/plain": [
              "<IPython.core.display.Image object>"
            ]
          },
          "metadata": {
            "tags": []
          }
        }
      ]
    },
    {
      "cell_type": "markdown",
      "metadata": {
        "id": "tD-ctBsP3A4c"
      },
      "source": [
        "Parabéns, você terminou o laboratório 2. Não esqueça de submeter o link no google classroom. "
      ]
    }
  ]
}